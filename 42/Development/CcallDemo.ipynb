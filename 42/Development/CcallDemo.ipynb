{
 "cells": [
  {
   "cell_type": "code",
   "execution_count": 1,
   "metadata": {},
   "outputs": [
    {
     "data": {
      "text/plain": [
       "2.4594385e6"
      ]
     },
     "execution_count": 1,
     "metadata": {},
     "output_type": "execute_result"
    }
   ],
   "source": [
    "Year = 2021;\n",
    "Month = 8;\n",
    "Day = 12;\n",
    "Hour = 0;\n",
    "Minute = 0;\n",
    "Second = 0.0;\n",
    "JD = ccall((:DateToJD,\"../Kit/libkit.so\"),Cdouble,(Clong,Clong,Clong,Clong,Clong,Cdouble),\n",
    "    Year,Month,Day,Hour,Minute,Second)"
   ]
  },
  {
   "cell_type": "code",
   "execution_count": 2,
   "metadata": {},
   "outputs": [],
   "source": [
    "JD = JD+1.5\n",
    "# collect appears to work like malloc\n",
    "Year = collect(Clong,1)\n",
    "Month = collect(Clong,1)\n",
    "Day = collect(Clong,1)\n",
    "Hour = collect(Clong,1)\n",
    "Minute = collect(Clong,1)\n",
    "Second = collect(Cdouble,1);"
   ]
  },
  {
   "cell_type": "code",
   "execution_count": 3,
   "metadata": {},
   "outputs": [],
   "source": [
    "ccall((:JDToDate,\"../Kit/libkit.so\"),Cvoid,(Cdouble,Ptr{Clong},Ptr{Clong},Ptr{Clong},Ptr{Clong},Ptr{Clong},Ptr{Cdouble}),\n",
    "    JD,Year,Month,Day,Hour,Minute,Second)"
   ]
  },
  {
   "cell_type": "code",
   "execution_count": 4,
   "metadata": {},
   "outputs": [
    {
     "data": {
      "text/plain": [
       "(2.45944e6, fill(2021), fill(8), fill(13), fill(12), fill(0), fill(0.0))"
      ]
     },
     "execution_count": 4,
     "metadata": {},
     "output_type": "execute_result"
    }
   ],
   "source": [
    "(JD,Year,Month,Day,Hour,Minute,Second)"
   ]
  },
  {
   "cell_type": "code",
   "execution_count": 5,
   "metadata": {},
   "outputs": [],
   "source": [
    "SqrtHalf = sqrt(0.5);\n",
    "qx = [SqrtHalf;0;0;SqrtHalf];\n",
    "qy = [0;SqrtHalf;0;SqrtHalf];\n",
    "qz = [0;0;SqrtHalf;SqrtHalf];"
   ]
  },
  {
   "cell_type": "code",
   "execution_count": 6,
   "metadata": {},
   "outputs": [
    {
     "data": {
      "text/plain": [
       "4-element Vector{Float64}:\n",
       " -0.5000000000000001\n",
       "  0.5000000000000001\n",
       "  0.5000000000000001\n",
       "  0.5000000000000001"
      ]
     },
     "execution_count": 6,
     "metadata": {},
     "output_type": "execute_result"
    }
   ],
   "source": [
    "qyz = collect(Cdouble,[0.0;0.0;0.0;1.0])\n",
    "ccall((:QxQ,\"../Kit/libkit.so\"),Cvoid,(Ptr{Cdouble},Ptr{Cdouble},Ptr{Cdouble}),qy,qz,qyz)\n",
    "qyz"
   ]
  },
  {
   "cell_type": "code",
   "execution_count": 7,
   "metadata": {},
   "outputs": [
    {
     "data": {
      "text/plain": [
       "4-element Vector{Float64}:\n",
       "  0.5000000000000001\n",
       " -0.5000000000000001\n",
       "  0.5000000000000001\n",
       "  0.5000000000000001"
      ]
     },
     "execution_count": 7,
     "metadata": {},
     "output_type": "execute_result"
    }
   ],
   "source": [
    "qzx = collect(Cdouble,[0.0;0.0;0.0;1.0])\n",
    "ccall((:QxQ,\"../Kit/libkit.so\"),Cvoid,(Ptr{Cdouble},Ptr{Cdouble},Ptr{Cdouble}),qz,qx,qzx)\n",
    "qzx"
   ]
  },
  {
   "cell_type": "code",
   "execution_count": 8,
   "metadata": {},
   "outputs": [
    {
     "data": {
      "text/plain": [
       "4-element Vector{Float64}:\n",
       "  0.5000000000000001\n",
       "  0.5000000000000001\n",
       " -0.5000000000000001\n",
       "  0.5000000000000001"
      ]
     },
     "execution_count": 8,
     "metadata": {},
     "output_type": "execute_result"
    }
   ],
   "source": [
    "qxy = collect(Cdouble,[0.0;0.0;0.0;1.0])\n",
    "ccall((:QxQ,\"../Kit/libkit.so\"),Cvoid,(Ptr{Cdouble},Ptr{Cdouble},Ptr{Cdouble}),qx,qy,qxy)\n",
    "qxy"
   ]
  },
  {
   "cell_type": "code",
   "execution_count": 9,
   "metadata": {},
   "outputs": [
    {
     "data": {
      "text/plain": [
       "3×3 Matrix{Float64}:\n",
       " 1.0  2.0  3.0\n",
       " 4.0  5.0  6.0\n",
       " 7.0  8.0  9.0"
      ]
     },
     "execution_count": 9,
     "metadata": {},
     "output_type": "execute_result"
    }
   ],
   "source": [
    "A = [1 2 3;4 5 6;7 8 9];\n",
    "CA = collect(Cdouble,A)"
   ]
  },
  {
   "cell_type": "code",
   "execution_count": 10,
   "metadata": {},
   "outputs": [
    {
     "data": {
      "text/plain": [
       "3-element Vector{Float64}:\n",
       " 5.0\n",
       " 6.0\n",
       " 3.0"
      ]
     },
     "execution_count": 10,
     "metadata": {},
     "output_type": "execute_result"
    }
   ],
   "source": [
    "b = [5;6;3];\n",
    "cb = collect(Cdouble,b)"
   ]
  },
  {
   "cell_type": "code",
   "execution_count": 11,
   "metadata": {},
   "outputs": [
    {
     "data": {
      "text/plain": [
       "3-element Vector{Int64}:\n",
       "  26\n",
       "  68\n",
       " 110"
      ]
     },
     "execution_count": 11,
     "metadata": {},
     "output_type": "execute_result"
    }
   ],
   "source": [
    "A*b"
   ]
  },
  {
   "cell_type": "code",
   "execution_count": 12,
   "metadata": {},
   "outputs": [
    {
     "data": {
      "text/plain": [
       "3-element Vector{Float64}:\n",
       " 50.0\n",
       " 64.0\n",
       " 78.0"
      ]
     },
     "execution_count": 12,
     "metadata": {},
     "output_type": "execute_result"
    }
   ],
   "source": [
    "# Watch out for matrix transposes!  C is row-major, julia is column-major.\n",
    "pc = collect(Cdouble,[0;0;0])\n",
    "ccall((:MxV,\"../Kit/libkit.so\"),Cvoid,(Ptr{Cdouble},Ptr{Cdouble},Ptr{Cdouble}),CA,cb,pc)\n",
    "pc"
   ]
  },
  {
   "cell_type": "code",
   "execution_count": 13,
   "metadata": {},
   "outputs": [
    {
     "data": {
      "text/plain": [
       "3-element Vector{Float64}:\n",
       "  26.0\n",
       "  68.0\n",
       " 110.0"
      ]
     },
     "execution_count": 13,
     "metadata": {},
     "output_type": "execute_result"
    }
   ],
   "source": [
    "# Watch out for matrix transposes!  C is row-major, julia is column-major.\n",
    "pc = collect(Cdouble,[0;0;0])\n",
    "ccall((:MTxV,\"../Kit/libkit.so\"),Cvoid,(Ptr{Cdouble},Ptr{Cdouble},Ptr{Cdouble}),CA,cb,pc)\n",
    "pc"
   ]
  },
  {
   "cell_type": "code",
   "execution_count": null,
   "metadata": {},
   "outputs": [],
   "source": []
  }
 ],
 "metadata": {
  "kernelspec": {
   "display_name": "Julia 1.6.2",
   "language": "julia",
   "name": "julia-1.6"
  },
  "language_info": {
   "file_extension": ".jl",
   "mimetype": "application/julia",
   "name": "julia",
   "version": "1.6.2"
  }
 },
 "nbformat": 4,
 "nbformat_minor": 4
}
