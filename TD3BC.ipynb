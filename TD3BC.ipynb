{
 "cells": [
  {
   "cell_type": "markdown",
   "id": "aaf5d2db-5453-469c-9357-c37dedea7e89",
   "metadata": {},
   "source": [
    "# Sample Workflow for d3rlpy Experiments"
   ]
  },
  {
   "cell_type": "code",
   "execution_count": 1,
   "id": "bfb6706a-eaec-4154-be04-e2b7c168479a",
   "metadata": {},
   "outputs": [],
   "source": [
    "import numpy as np\n",
    "import pandas as pd\n",
    "import matplotlib.pyplot as plt\n",
    "import itertools\n",
    "import math\n",
    "import subprocess\n",
    "import os\n",
    "import d3rlpy\n",
    "plt.style.use('matplotlibrc')\n",
    "\n",
    "from Python.data_sampler import *"
   ]
  },
  {
   "cell_type": "markdown",
   "id": "361d8a2f-129e-4b9c-81cd-55314fabeabd",
   "metadata": {},
   "source": [
    "## Building an MDPDataset\n",
    "\n",
    "We first read in a large batch of samples from the file. As `d3rlpy` wants it in the form (observations, actions, rewards, terminal flags), we go ahead and do that. Here's a helper function to get a dataset from a list of chunks of your choosing."
   ]
  },
  {
   "cell_type": "code",
   "execution_count": 2,
   "id": "3456d718-b8bb-460f-a429-9d99633145f7",
   "metadata": {},
   "outputs": [],
   "source": [
    "def get_dataset(chunks : list, batch_size=30000, \n",
    "                path=\"collected_data/rl_det_small.txt\") -> d3rlpy.dataset.MDPDataset :\n",
    "    random.seed(0)\n",
    "    samples = DataSampler(path_to_data=path)\n",
    "    states = []\n",
    "    actions = []\n",
    "    rewards = []\n",
    "    next_states = []\n",
    "    for chunk in chunks:\n",
    "        samples.use_chunk(chunk)\n",
    "        samples.read_chunk()\n",
    "        [statesChunk, actionsChunk, rewardsChunk, nextStatesChunk] = samples.get_batch(batch_size)\n",
    "        states.append(statesChunk)\n",
    "        actions.append(actionsChunk)\n",
    "        rewards.append(rewardsChunk)\n",
    "        next_states.append(nextStatesChunk)\n",
    "    states = torch.cat(states)\n",
    "    actions = torch.cat(actions)\n",
    "    rewards = torch.cat(rewards)\n",
    "    next_states = torch.cat(next_states)\n",
    "    terminals = np.zeros(len(states))\n",
    "    terminals[::100] = 1 #episode length 100, change if necessary\n",
    "    print(states.shape)\n",
    "    dataset = d3rlpy.dataset.MDPDataset(states.numpy(), \n",
    "                                        actions.numpy(), \n",
    "                                        rewards.numpy(), terminals)\n",
    "    return dataset"
   ]
  },
  {
   "cell_type": "markdown",
   "id": "eeaff27f-fd9a-4ad2-81c6-fca5f5fe6ce9",
   "metadata": {},
   "source": [
    "We can build the dataset from there, just like this, and split into train and test sets."
   ]
  },
  {
   "cell_type": "code",
   "execution_count": 3,
   "id": "f543168b-2603-47ed-bff8-d0bafb40bb0f",
   "metadata": {},
   "outputs": [
    {
     "name": "stdout",
     "output_type": "stream",
     "text": [
      "[ 0.00000000e+00  7.95731469e+08 -8.17891077e-02 -1.19999531e-03\n",
      "  7.39998658e-03  0.00000000e+00 -5.33423489e+00 -1.57091618e+00\n",
      "  2.09713430e-01 -2.63658359e-01  6.00000000e-01]\n",
      "Read chunk # 4 out of 10000\n",
      "[ 0.00000000e+00  7.95731469e+08  1.24610892e-01  2.40000469e-03\n",
      " -7.60001342e-03  0.00000000e+00 -5.33423489e+00 -1.57091618e+00\n",
      " -2.20016566e-01  3.79282423e-01 -6.00000000e-01]\n",
      "Read chunk # 6 out of 10000\n",
      "[ 0.00000000e+00  7.95731469e+08 -9.01891077e-02  1.08000047e-02\n",
      "  3.99986580e-04  0.00000000e+00 -5.33423489e+00 -1.57091618e+00\n",
      " -3.17973088e-02 -2.40776052e-01  6.00000000e-01]\n",
      "Read chunk # 8 out of 10000\n",
      "[ 0.00000000e+00  7.95731469e+08  6.91108923e-02 -5.99999531e-03\n",
      " -6.00001342e-03  0.00000000e+00 -5.33423489e+00 -1.57091618e+00\n",
      " -1.42355434e-01  2.22081792e-01 -6.00000000e-01]\n",
      "Read chunk # 10 out of 10000\n",
      "torch.Size([111080, 6])\n"
     ]
    }
   ],
   "source": [
    "dataset = get_dataset([3,5,7,9], path=\"collected_data/rl_det_small.txt\")"
   ]
  },
  {
   "cell_type": "code",
   "execution_count": 4,
   "id": "8014463e-ab16-4498-ae33-63b91854534c",
   "metadata": {},
   "outputs": [
    {
     "name": "stdout",
     "output_type": "stream",
     "text": [
      "The behavior policy value statistics are:\n"
     ]
    },
    {
     "data": {
      "text/plain": [
       "{'mean': -4.1227446,\n",
       " 'std': 2.4676569,\n",
       " 'min': -12.578855,\n",
       " 'max': 0.0,\n",
       " 'histogram': (array([ 26,   9,   7,   7,   8,   7,  10,  13,  27,  54,  56,  73, 109,\n",
       "          84, 186, 148, 124,  83,  67,  13]),\n",
       "  array([-12.578855 , -11.949912 , -11.320969 , -10.692026 , -10.063084 ,\n",
       "          -9.434141 ,  -8.805199 ,  -8.176255 ,  -7.5473127,  -6.9183702,\n",
       "          -6.2894273,  -5.6604843,  -5.031542 ,  -4.4025993,  -3.7736564,\n",
       "          -3.1447136,  -2.515771 ,  -1.8868282,  -1.2578855,  -0.6289427,\n",
       "           0.       ], dtype=float32))}"
      ]
     },
     "execution_count": 4,
     "metadata": {},
     "output_type": "execute_result"
    }
   ],
   "source": [
    "print(\"The behavior policy value statistics are:\")\n",
    "dataset.compute_stats()['return']"
   ]
  },
  {
   "cell_type": "code",
   "execution_count": 5,
   "id": "f051bee1-1f8b-4acc-a658-d80a5b4df54b",
   "metadata": {},
   "outputs": [],
   "source": [
    "from sklearn.model_selection import train_test_split\n",
    "train_episodes, test_episodes = train_test_split(dataset, test_size=0.2)"
   ]
  },
  {
   "cell_type": "markdown",
   "id": "1025ba17-f95f-426b-adc1-9312e5e180fa",
   "metadata": {},
   "source": [
    "## Setting up an Algorithm"
   ]
  },
  {
   "cell_type": "code",
   "execution_count": 12,
   "id": "f5ef782b-6847-4fa4-8d95-3fa8904866bb",
   "metadata": {},
   "outputs": [],
   "source": [
    "from d3rlpy.algos import TD3PlusBC\n",
    "\n",
    "from d3rlpy.preprocessing import MinMaxActionScaler\n",
    "action_scaler = MinMaxActionScaler(minimum=-0.6, maximum=0.6)\n",
    "#cql = CQL(action_scaler=action_scaler)\n",
    "\n",
    "model = TD3PlusBC(q_func_factory='mean', #qr -> quantile regression q function, but you don't have to use this\n",
    "            reward_scaler='standard',\n",
    "            action_scaler=action_scaler,\n",
    "          actor_learning_rate=1e-5, \n",
    "          critic_learning_rate=0.0003, \n",
    "            use_gpu=False) #change it to true if you have one\n",
    "model.build_with_dataset(dataset)"
   ]
  },
  {
   "cell_type": "code",
   "execution_count": 7,
   "id": "2fd44e0e-0ab2-4ab0-8f96-7a8eb382cda0",
   "metadata": {},
   "outputs": [
    {
     "name": "stdout",
     "output_type": "stream",
     "text": [
      "-0.08131087201637716\n"
     ]
    }
   ],
   "source": [
    "from d3rlpy.metrics.scorer import td_error_scorer\n",
    "from d3rlpy.metrics.scorer import average_value_estimation_scorer\n",
    "from d3rlpy.metrics.scorer import initial_state_value_estimation_scorer\n",
    "\n",
    "# calculate metrics with test dataset\n",
    "ave_error_init = average_value_estimation_scorer(model, test_episodes)\n",
    "print(ave_error_init)"
   ]
  },
  {
   "cell_type": "code",
   "execution_count": 8,
   "id": "8f69d169-0f59-4e77-8654-c5d79dae2b1a",
   "metadata": {},
   "outputs": [
    {
     "data": {
      "text/html": [
       "\n",
       "      <iframe id=\"tensorboard-frame-629f6fbed82c07cd\" width=\"100%\" height=\"800\" frameborder=\"0\">\n",
       "      </iframe>\n",
       "      <script>\n",
       "        (function() {\n",
       "          const frame = document.getElementById(\"tensorboard-frame-629f6fbed82c07cd\");\n",
       "          const url = new URL(\"/\", window.location);\n",
       "          const port = 6006;\n",
       "          if (port) {\n",
       "            url.port = port;\n",
       "          }\n",
       "          frame.src = url;\n",
       "        })();\n",
       "      </script>\n",
       "    "
      ],
      "text/plain": [
       "<IPython.core.display.HTML object>"
      ]
     },
     "metadata": {},
     "output_type": "display_data"
    }
   ],
   "source": [
    "%load_ext tensorboard\n",
    "%tensorboard --logdir runs"
   ]
  },
  {
   "cell_type": "code",
   "execution_count": 9,
   "id": "9b0384d5-a843-4d30-a355-404215f27fa4",
   "metadata": {},
   "outputs": [
    {
     "name": "stdout",
     "output_type": "stream",
     "text": [
      "2022-04-07 19:43.22 [debug    ] RoundIterator is selected.\n",
      "2022-04-07 19:43.22 [info     ] Directory is created at d3rlpy_logs/CQL_20220407194322\n",
      "2022-04-07 19:43.22 [debug    ] Fitting action scaler...       action_scaler=min_max\n",
      "2022-04-07 19:43.22 [debug    ] Fitting reward scaler...       reward_scaler=standard\n",
      "2022-04-07 19:43.22 [warning  ] Skip building models since they're already built.\n",
      "2022-04-07 19:43.22 [info     ] Parameters are saved to d3rlpy_logs/CQL_20220407194322/params.json params={'action_scaler': {'type': 'min_max', 'params': {'minimum': array(-0.6), 'maximum': array(0.6)}}, 'actor_encoder_factory': {'type': 'default', 'params': {'activation': 'relu', 'use_batch_norm': False, 'dropout_rate': None}}, 'actor_learning_rate': 1e-05, 'actor_optim_factory': {'optim_cls': 'Adam', 'betas': (0.9, 0.999), 'eps': 1e-08, 'weight_decay': 0, 'amsgrad': False}, 'alpha_learning_rate': 0.0001, 'alpha_optim_factory': {'optim_cls': 'Adam', 'betas': (0.9, 0.999), 'eps': 1e-08, 'weight_decay': 0, 'amsgrad': False}, 'alpha_threshold': 10.0, 'batch_size': 256, 'conservative_weight': 5.0, 'critic_encoder_factory': {'type': 'default', 'params': {'activation': 'relu', 'use_batch_norm': False, 'dropout_rate': None}}, 'critic_learning_rate': 0.0003, 'critic_optim_factory': {'optim_cls': 'Adam', 'betas': (0.9, 0.999), 'eps': 1e-08, 'weight_decay': 0, 'amsgrad': False}, 'gamma': 0.99, 'generated_maxlen': 100000, 'initial_alpha': 1.0, 'initial_temperature': 1.0, 'n_action_samples': 10, 'n_critics': 2, 'n_frames': 1, 'n_steps': 1, 'q_func_factory': {'type': 'mean', 'params': {'bootstrap': False, 'share_encoder': False}}, 'real_ratio': 1.0, 'reward_scaler': {'type': 'standard', 'params': {'mean': -0.041475098838939704, 'std': 0.02496921165529366, 'eps': 0.001, 'multiplier': 1.0}}, 'scaler': None, 'soft_q_backup': False, 'target_reduction_type': 'min', 'tau': 0.005, 'temp_learning_rate': 0.0001, 'temp_optim_factory': {'optim_cls': 'Adam', 'betas': (0.9, 0.999), 'eps': 1e-08, 'weight_decay': 0, 'amsgrad': False}, 'use_gpu': None, 'algorithm': 'CQL', 'observation_shape': (6,), 'action_size': 3}\n"
     ]
    },
    {
     "data": {
      "application/vnd.jupyter.widget-view+json": {
       "model_id": "81d6ee13169b465a8ba62e78a9a6d87b",
       "version_major": 2,
       "version_minor": 0
      },
      "text/plain": [
       "Epoch 1/5:   0%|          | 0/343 [00:00<?, ?it/s]"
      ]
     },
     "metadata": {},
     "output_type": "display_data"
    },
    {
     "name": "stdout",
     "output_type": "stream",
     "text": [
      "2022-04-07 19:43.45 [info     ] CQL_20220407194322: epoch=1 step=343 epoch=1 metrics={'time_sample_batch': 0.000332894200138726, 'time_algorithm_update': 0.06332637200202608, 'temp_loss': 4.549272245290328, 'temp': 0.9833125291343333, 'alpha_loss': -9.526565534901689, 'alpha': 1.014112019677899, 'critic_loss': 10.390127244913195, 'actor_loss': 0.17096432040475373, 'time_step': 0.06374213021281162, 'td_error': 1.640563069486044, 'init_value': -0.2725396454334259, 'ave_value': -0.2704807368589359} step=343\n",
      "2022-04-07 19:43.45 [info     ] Model parameters are saved to d3rlpy_logs/CQL_20220407194322/model_343.pt\n"
     ]
    },
    {
     "data": {
      "application/vnd.jupyter.widget-view+json": {
       "model_id": "1a2227d815044ed0bb28a7842ff51aa0",
       "version_major": 2,
       "version_minor": 0
      },
      "text/plain": [
       "Epoch 2/5:   0%|          | 0/343 [00:00<?, ?it/s]"
      ]
     },
     "metadata": {},
     "output_type": "display_data"
    },
    {
     "name": "stdout",
     "output_type": "stream",
     "text": [
      "2022-04-07 19:44.10 [info     ] CQL_20220407194322: epoch=2 step=686 epoch=2 metrics={'time_sample_batch': 0.000326751620011844, 'time_algorithm_update': 0.07104923704275237, 'temp_loss': 2.526219411077027, 'temp': 0.956864971113622, 'alpha_loss': 4.13621229787273, 'alpha': 1.0176574339324462, 'critic_loss': -3.2920629723600325, 'actor_loss': 3.1353582501758988, 'time_step': 0.07146202371002286, 'td_error': 4.960642614457846, 'init_value': -1.62131667137146, 'ave_value': -1.6176998761369101} step=686\n",
      "2022-04-07 19:44.10 [info     ] Model parameters are saved to d3rlpy_logs/CQL_20220407194322/model_686.pt\n"
     ]
    },
    {
     "data": {
      "application/vnd.jupyter.widget-view+json": {
       "model_id": "4cb681f63bb046eebcc750ac06bde49d",
       "version_major": 2,
       "version_minor": 0
      },
      "text/plain": [
       "Epoch 3/5:   0%|          | 0/343 [00:00<?, ?it/s]"
      ]
     },
     "metadata": {},
     "output_type": "display_data"
    },
    {
     "name": "stdout",
     "output_type": "stream",
     "text": [
      "2022-04-07 19:44.34 [info     ] CQL_20220407194322: epoch=3 step=1029 epoch=3 metrics={'time_sample_batch': 0.000331777872914128, 'time_algorithm_update': 0.06792566449579622, 'temp_loss': 1.2130801743738158, 'temp': 0.9400827478041802, 'alpha_loss': 10.705599565200139, 'alpha': 0.9852839272154316, 'critic_loss': -9.13451760850912, 'actor_loss': 5.710984918883521, 'time_step': 0.06834246396323335, 'td_error': 6.480809372071453, 'init_value': -3.210794687271118, 'ave_value': -3.204889975710586} step=1029\n",
      "2022-04-07 19:44.34 [info     ] Model parameters are saved to d3rlpy_logs/CQL_20220407194322/model_1029.pt\n"
     ]
    },
    {
     "data": {
      "application/vnd.jupyter.widget-view+json": {
       "model_id": "7c216e96ad6e45388e54994e6a09ae22",
       "version_major": 2,
       "version_minor": 0
      },
      "text/plain": [
       "Epoch 4/5:   0%|          | 0/343 [00:00<?, ?it/s]"
      ]
     },
     "metadata": {},
     "output_type": "display_data"
    },
    {
     "name": "stdout",
     "output_type": "stream",
     "text": [
      "2022-04-07 19:45.02 [info     ] CQL_20220407194322: epoch=4 step=1372 epoch=4 metrics={'time_sample_batch': 0.00034571597596994296, 'time_algorithm_update': 0.07863425443888405, 'temp_loss': 0.44537788994458255, 'temp': 0.9308691212456706, 'alpha_loss': 13.288155922736788, 'alpha': 0.9422573655756847, 'critic_loss': -10.698442213041789, 'actor_loss': 7.801613221015597, 'time_step': 0.07906752425102034, 'td_error': 7.775450190520213, 'init_value': -4.5973310470581055, 'ave_value': -4.594196638820768} step=1372\n",
      "2022-04-07 19:45.02 [info     ] Model parameters are saved to d3rlpy_logs/CQL_20220407194322/model_1372.pt\n"
     ]
    },
    {
     "data": {
      "application/vnd.jupyter.widget-view+json": {
       "model_id": "0933a6a551ea46dba62392d91bd6ccaa",
       "version_major": 2,
       "version_minor": 0
      },
      "text/plain": [
       "Epoch 5/5:   0%|          | 0/343 [00:00<?, ?it/s]"
      ]
     },
     "metadata": {},
     "output_type": "display_data"
    },
    {
     "name": "stdout",
     "output_type": "stream",
     "text": [
      "2022-04-07 19:45.33 [info     ] CQL_20220407194322: epoch=5 step=1715 epoch=5 metrics={'time_sample_batch': 0.00034187695027787903, 'time_algorithm_update': 0.09032315276454558, 'temp_loss': 0.03165825267265342, 'temp': 0.9276943024323911, 'alpha_loss': 14.31788788453483, 'alpha': 0.9025450887554937, 'critic_loss': -10.340598141139171, 'actor_loss': 9.92209205126971, 'time_step': 0.09075341836356561, 'td_error': 9.699289034171423, 'init_value': -7.284750938415527, 'ave_value': -7.281605792852697} step=1715\n",
      "2022-04-07 19:45.33 [info     ] Model parameters are saved to d3rlpy_logs/CQL_20220407194322/model_1715.pt\n"
     ]
    },
    {
     "data": {
      "text/plain": [
       "[(1,\n",
       "  {'time_sample_batch': 0.000332894200138726,\n",
       "   'time_algorithm_update': 0.06332637200202608,\n",
       "   'temp_loss': 4.549272245290328,\n",
       "   'temp': 0.9833125291343333,\n",
       "   'alpha_loss': -9.526565534901689,\n",
       "   'alpha': 1.014112019677899,\n",
       "   'critic_loss': 10.390127244913195,\n",
       "   'actor_loss': 0.17096432040475373,\n",
       "   'time_step': 0.06374213021281162,\n",
       "   'td_error': 1.640563069486044,\n",
       "   'init_value': -0.2725396454334259,\n",
       "   'ave_value': -0.2704807368589359}),\n",
       " (2,\n",
       "  {'time_sample_batch': 0.000326751620011844,\n",
       "   'time_algorithm_update': 0.07104923704275237,\n",
       "   'temp_loss': 2.526219411077027,\n",
       "   'temp': 0.956864971113622,\n",
       "   'alpha_loss': 4.13621229787273,\n",
       "   'alpha': 1.0176574339324462,\n",
       "   'critic_loss': -3.2920629723600325,\n",
       "   'actor_loss': 3.1353582501758988,\n",
       "   'time_step': 0.07146202371002286,\n",
       "   'td_error': 4.960642614457846,\n",
       "   'init_value': -1.62131667137146,\n",
       "   'ave_value': -1.6176998761369101}),\n",
       " (3,\n",
       "  {'time_sample_batch': 0.000331777872914128,\n",
       "   'time_algorithm_update': 0.06792566449579622,\n",
       "   'temp_loss': 1.2130801743738158,\n",
       "   'temp': 0.9400827478041802,\n",
       "   'alpha_loss': 10.705599565200139,\n",
       "   'alpha': 0.9852839272154316,\n",
       "   'critic_loss': -9.13451760850912,\n",
       "   'actor_loss': 5.710984918883521,\n",
       "   'time_step': 0.06834246396323335,\n",
       "   'td_error': 6.480809372071453,\n",
       "   'init_value': -3.210794687271118,\n",
       "   'ave_value': -3.204889975710586}),\n",
       " (4,\n",
       "  {'time_sample_batch': 0.00034571597596994296,\n",
       "   'time_algorithm_update': 0.07863425443888405,\n",
       "   'temp_loss': 0.44537788994458255,\n",
       "   'temp': 0.9308691212456706,\n",
       "   'alpha_loss': 13.288155922736788,\n",
       "   'alpha': 0.9422573655756847,\n",
       "   'critic_loss': -10.698442213041789,\n",
       "   'actor_loss': 7.801613221015597,\n",
       "   'time_step': 0.07906752425102034,\n",
       "   'td_error': 7.775450190520213,\n",
       "   'init_value': -4.5973310470581055,\n",
       "   'ave_value': -4.594196638820768}),\n",
       " (5,\n",
       "  {'time_sample_batch': 0.00034187695027787903,\n",
       "   'time_algorithm_update': 0.09032315276454558,\n",
       "   'temp_loss': 0.03165825267265342,\n",
       "   'temp': 0.9276943024323911,\n",
       "   'alpha_loss': 14.31788788453483,\n",
       "   'alpha': 0.9025450887554937,\n",
       "   'critic_loss': -10.340598141139171,\n",
       "   'actor_loss': 9.92209205126971,\n",
       "   'time_step': 0.09075341836356561,\n",
       "   'td_error': 9.699289034171423,\n",
       "   'init_value': -7.284750938415527,\n",
       "   'ave_value': -7.281605792852697})]"
      ]
     },
     "execution_count": 9,
     "metadata": {},
     "output_type": "execute_result"
    }
   ],
   "source": [
    "model.fit(train_episodes,\n",
    "        eval_episodes=test_episodes,\n",
    "        n_epochs=5, \n",
    "        tensorboard_dir='runs',\n",
    "        scorers={\n",
    "            'td_error': td_error_scorer,\n",
    "            'init_value': initial_state_value_estimation_scorer,\n",
    "            'ave_value': average_value_estimation_scorer\n",
    "        })"
   ]
  },
  {
   "cell_type": "markdown",
   "id": "6bbb0460-f723-4b67-a553-57887d11dbc9",
   "metadata": {},
   "source": [
    "## Off-Policy Evaluation\n",
    "\n",
    "We do get some metrics on a test set of initial state value and average value. However, these estimates (using the critic's Q-function) of model performance are biased. They're useful for validation during training, but not much else. Instead, we fit a Q-function to the data (or a separate dataset, as I've done here) separately and evaluate the model's performance on it.\n",
    "\n",
    "Feel free to change the chunks and number of steps."
   ]
  },
  {
   "cell_type": "code",
   "execution_count": 10,
   "id": "de79cadb-28ef-42f8-b230-756f3ee11bb5",
   "metadata": {},
   "outputs": [
    {
     "name": "stdout",
     "output_type": "stream",
     "text": [
      "[ 0.00000000e+00  7.95731469e+08 -1.03891077e-02 -1.41999953e-02\n",
      " -2.10001342e-03  0.00000000e+00 -5.33423489e+00 -1.57091618e+00\n",
      " -1.78778459e-03 -1.34615461e-02  4.84073546e-02]\n",
      "Read chunk # 3 out of 10000\n",
      "[ 0.00000000e+00  7.95731469e+08 -7.24891077e-02 -1.35999953e-02\n",
      " -4.20001342e-03  0.00000000e+00 -5.33423489e+00 -1.57091618e+00\n",
      " -6.23311010e-02 -1.64283998e-01  6.00000000e-01]\n",
      "Read chunk # 5 out of 10000\n",
      "[ 0.00000000e+00  7.95731469e+08  7.01089229e-03 -4.19999531e-03\n",
      "  7.39998658e-03  0.00000000e+00 -5.33423489e+00 -1.57091618e+00\n",
      "  2.21623335e-01 -2.86362315e-02 -8.00043364e-02]\n",
      "Read chunk # 7 out of 10000\n",
      "[ 0.00000000e+00  7.95731469e+08 -1.03989108e-01 -1.37999953e-02\n",
      "  7.99998658e-03  0.00000000e+00 -5.33423489e+00 -1.57091618e+00\n",
      "  2.76352555e-01 -3.26280816e-01  6.00000000e-01]\n",
      "Read chunk # 9 out of 10000\n",
      "torch.Size([111080, 6])\n",
      "2022-04-07 19:45.34 [debug    ] RoundIterator is selected.\n",
      "2022-04-07 19:45.34 [info     ] Directory is created at d3rlpy_logs/FQE_20220407194534\n",
      "2022-04-07 19:45.34 [debug    ] Fitting action scaler...       action_scaler=min_max\n",
      "2022-04-07 19:45.34 [debug    ] Building models...\n",
      "2022-04-07 19:45.34 [debug    ] Models have been built.\n",
      "2022-04-07 19:45.34 [info     ] Parameters are saved to d3rlpy_logs/FQE_20220407194534/params.json params={'action_scaler': {'type': 'min_max', 'params': {'minimum': array(-0.6), 'maximum': array(0.6)}}, 'batch_size': 100, 'encoder_factory': {'type': 'default', 'params': {'activation': 'relu', 'use_batch_norm': False, 'dropout_rate': None}}, 'gamma': 0.99, 'generated_maxlen': 100000, 'learning_rate': 0.0001, 'n_critics': 1, 'n_frames': 1, 'n_steps': 1, 'optim_factory': {'optim_cls': 'Adam', 'betas': (0.9, 0.999), 'eps': 1e-08, 'weight_decay': 0, 'amsgrad': False}, 'q_func_factory': {'type': 'mean', 'params': {'bootstrap': False, 'share_encoder': False}}, 'real_ratio': 1.0, 'reward_scaler': None, 'scaler': None, 'target_update_interval': 100, 'use_gpu': None, 'algorithm': 'FQE', 'observation_shape': (6,), 'action_size': 3}\n"
     ]
    },
    {
     "data": {
      "application/vnd.jupyter.widget-view+json": {
       "model_id": "916a0df8890e43c1b8d72811d8720517",
       "version_major": 2,
       "version_minor": 0
      },
      "text/plain": [
       "Epoch 1/50:   0%|          | 0/878 [00:00<?, ?it/s]"
      ]
     },
     "metadata": {},
     "output_type": "display_data"
    },
    {
     "name": "stderr",
     "output_type": "stream",
     "text": [
      "/Users/hetankevin/miniforge3/lib/python3.9/site-packages/numpy/core/fromnumeric.py:3440: RuntimeWarning: Mean of empty slice.\n",
      "  return _methods._mean(a, axis=axis, dtype=dtype,\n",
      "/Users/hetankevin/miniforge3/lib/python3.9/site-packages/numpy/core/_methods.py:189: RuntimeWarning: invalid value encountered in double_scalars\n",
      "  ret = ret.dtype.type(ret / rcount)\n",
      "WARNING:root:NaN or Inf found in input tensor.\n"
     ]
    },
    {
     "name": "stdout",
     "output_type": "stream",
     "text": [
      "2022-04-07 19:45.37 [info     ] FQE_20220407194534: epoch=1 step=878 epoch=1 metrics={'time_sample_batch': 0.00015500764911973122, 'time_algorithm_update': 0.0021512693044536475, 'loss': 0.0008598907446906451, 'time_step': 0.0023798494512779567, 'init_value': -0.3687102198600769, 'ave_value': -0.36885178882223535, 'soft_opc': nan} step=878\n"
     ]
    },
    {
     "name": "stderr",
     "output_type": "stream",
     "text": [
      "WARNING:root:NaN or Inf found in input tensor.\n"
     ]
    },
    {
     "name": "stdout",
     "output_type": "stream",
     "text": [
      "2022-04-07 19:45.37 [info     ] Model parameters are saved to d3rlpy_logs/FQE_20220407194534/model_878.pt\n"
     ]
    },
    {
     "data": {
      "application/vnd.jupyter.widget-view+json": {
       "model_id": "e522be216f8d43c1954d94aa23b31697",
       "version_major": 2,
       "version_minor": 0
      },
      "text/plain": [
       "Epoch 2/50:   0%|          | 0/878 [00:00<?, ?it/s]"
      ]
     },
     "metadata": {},
     "output_type": "display_data"
    },
    {
     "name": "stderr",
     "output_type": "stream",
     "text": [
      "WARNING:root:NaN or Inf found in input tensor.\n"
     ]
    },
    {
     "name": "stdout",
     "output_type": "stream",
     "text": [
      "2022-04-07 19:45.39 [info     ] FQE_20220407194534: epoch=2 step=1756 epoch=2 metrics={'time_sample_batch': 0.0001387566260161867, 'time_algorithm_update': 0.0018661529979836153, 'loss': 0.0017972966269422025, 'time_step': 0.0020636958250423772, 'init_value': -0.4670436978340149, 'ave_value': -0.46696345135451456, 'soft_opc': nan} step=1756\n"
     ]
    },
    {
     "name": "stderr",
     "output_type": "stream",
     "text": [
      "WARNING:root:NaN or Inf found in input tensor.\n"
     ]
    },
    {
     "name": "stdout",
     "output_type": "stream",
     "text": [
      "2022-04-07 19:45.39 [info     ] Model parameters are saved to d3rlpy_logs/FQE_20220407194534/model_1756.pt\n"
     ]
    },
    {
     "data": {
      "application/vnd.jupyter.widget-view+json": {
       "model_id": "76ca4b9bc1ec4f229e7a015bdf37a9f7",
       "version_major": 2,
       "version_minor": 0
      },
      "text/plain": [
       "Epoch 3/50:   0%|          | 0/878 [00:00<?, ?it/s]"
      ]
     },
     "metadata": {},
     "output_type": "display_data"
    },
    {
     "name": "stderr",
     "output_type": "stream",
     "text": [
      "WARNING:root:NaN or Inf found in input tensor.\n"
     ]
    },
    {
     "name": "stdout",
     "output_type": "stream",
     "text": [
      "2022-04-07 19:45.41 [info     ] FQE_20220407194534: epoch=3 step=2634 epoch=3 metrics={'time_sample_batch': 0.00015332378396140688, 'time_algorithm_update': 0.0021614496148528706, 'loss': 0.0028082218235471962, 'time_step': 0.0023881615158637183, 'init_value': -0.6038172245025635, 'ave_value': -0.603597512889957, 'soft_opc': nan} step=2634\n"
     ]
    },
    {
     "name": "stderr",
     "output_type": "stream",
     "text": [
      "WARNING:root:NaN or Inf found in input tensor.\n"
     ]
    },
    {
     "name": "stdout",
     "output_type": "stream",
     "text": [
      "2022-04-07 19:45.41 [info     ] Model parameters are saved to d3rlpy_logs/FQE_20220407194534/model_2634.pt\n"
     ]
    },
    {
     "data": {
      "application/vnd.jupyter.widget-view+json": {
       "model_id": "b839ea9a2ea14b0b8ac2e00f5dcb80f6",
       "version_major": 2,
       "version_minor": 0
      },
      "text/plain": [
       "Epoch 4/50:   0%|          | 0/878 [00:00<?, ?it/s]"
      ]
     },
     "metadata": {},
     "output_type": "display_data"
    },
    {
     "name": "stderr",
     "output_type": "stream",
     "text": [
      "WARNING:root:NaN or Inf found in input tensor.\n"
     ]
    },
    {
     "name": "stdout",
     "output_type": "stream",
     "text": [
      "2022-04-07 19:45.43 [info     ] FQE_20220407194534: epoch=4 step=3512 epoch=4 metrics={'time_sample_batch': 0.00014146884101398443, 'time_algorithm_update': 0.001892091201486783, 'loss': 0.004026786944634962, 'time_step': 0.0020962252975324836, 'init_value': -0.6947826147079468, 'ave_value': -0.6943413370377117, 'soft_opc': nan} step=3512\n"
     ]
    },
    {
     "name": "stderr",
     "output_type": "stream",
     "text": [
      "WARNING:root:NaN or Inf found in input tensor.\n"
     ]
    },
    {
     "name": "stdout",
     "output_type": "stream",
     "text": [
      "2022-04-07 19:45.43 [info     ] Model parameters are saved to d3rlpy_logs/FQE_20220407194534/model_3512.pt\n"
     ]
    },
    {
     "data": {
      "application/vnd.jupyter.widget-view+json": {
       "model_id": "530e16b093ff4f7eb4f3d0ee8cff7983",
       "version_major": 2,
       "version_minor": 0
      },
      "text/plain": [
       "Epoch 5/50:   0%|          | 0/878 [00:00<?, ?it/s]"
      ]
     },
     "metadata": {},
     "output_type": "display_data"
    },
    {
     "name": "stderr",
     "output_type": "stream",
     "text": [
      "WARNING:root:NaN or Inf found in input tensor.\n"
     ]
    },
    {
     "name": "stdout",
     "output_type": "stream",
     "text": [
      "2022-04-07 19:45.45 [info     ] FQE_20220407194534: epoch=5 step=4390 epoch=5 metrics={'time_sample_batch': 0.00013859071058129938, 'time_algorithm_update': 0.0019121669691081471, 'loss': 0.005384607592049404, 'time_step': 0.0021173644446023233, 'init_value': -0.799199104309082, 'ave_value': -0.7987060819290123, 'soft_opc': nan} step=4390\n"
     ]
    },
    {
     "name": "stderr",
     "output_type": "stream",
     "text": [
      "WARNING:root:NaN or Inf found in input tensor.\n"
     ]
    },
    {
     "name": "stdout",
     "output_type": "stream",
     "text": [
      "2022-04-07 19:45.45 [info     ] Model parameters are saved to d3rlpy_logs/FQE_20220407194534/model_4390.pt\n"
     ]
    },
    {
     "data": {
      "application/vnd.jupyter.widget-view+json": {
       "model_id": "6a95dbf540fe43ea877b4b8817ec0ad4",
       "version_major": 2,
       "version_minor": 0
      },
      "text/plain": [
       "Epoch 6/50:   0%|          | 0/878 [00:00<?, ?it/s]"
      ]
     },
     "metadata": {},
     "output_type": "display_data"
    },
    {
     "name": "stderr",
     "output_type": "stream",
     "text": [
      "WARNING:root:NaN or Inf found in input tensor.\n"
     ]
    },
    {
     "name": "stdout",
     "output_type": "stream",
     "text": [
      "2022-04-07 19:45.48 [info     ] FQE_20220407194534: epoch=6 step=5268 epoch=6 metrics={'time_sample_batch': 0.00014471926287257863, 'time_algorithm_update': 0.0019226383782736532, 'loss': 0.00646480936772785, 'time_step': 0.002136452051392992, 'init_value': -0.8538197875022888, 'ave_value': -0.8532566686317412, 'soft_opc': nan} step=5268\n"
     ]
    },
    {
     "name": "stderr",
     "output_type": "stream",
     "text": [
      "WARNING:root:NaN or Inf found in input tensor.\n"
     ]
    },
    {
     "name": "stdout",
     "output_type": "stream",
     "text": [
      "2022-04-07 19:45.48 [info     ] Model parameters are saved to d3rlpy_logs/FQE_20220407194534/model_5268.pt\n"
     ]
    },
    {
     "data": {
      "application/vnd.jupyter.widget-view+json": {
       "model_id": "93e2d161cd264701986ffe1ff8afd1be",
       "version_major": 2,
       "version_minor": 0
      },
      "text/plain": [
       "Epoch 7/50:   0%|          | 0/878 [00:00<?, ?it/s]"
      ]
     },
     "metadata": {},
     "output_type": "display_data"
    },
    {
     "name": "stderr",
     "output_type": "stream",
     "text": [
      "WARNING:root:NaN or Inf found in input tensor.\n"
     ]
    },
    {
     "name": "stdout",
     "output_type": "stream",
     "text": [
      "2022-04-07 19:45.50 [info     ] FQE_20220407194534: epoch=7 step=6146 epoch=7 metrics={'time_sample_batch': 0.00013866321372551363, 'time_algorithm_update': 0.0018176310154734549, 'loss': 0.007539895954599643, 'time_step': 0.0020237286704547857, 'init_value': -0.9249391555786133, 'ave_value': -0.9244862327936599, 'soft_opc': nan} step=6146\n"
     ]
    },
    {
     "name": "stderr",
     "output_type": "stream",
     "text": [
      "WARNING:root:NaN or Inf found in input tensor.\n"
     ]
    },
    {
     "name": "stdout",
     "output_type": "stream",
     "text": [
      "2022-04-07 19:45.50 [info     ] Model parameters are saved to d3rlpy_logs/FQE_20220407194534/model_6146.pt\n"
     ]
    },
    {
     "data": {
      "application/vnd.jupyter.widget-view+json": {
       "model_id": "ead4a5cfa7e24abdadc12a4575248b2b",
       "version_major": 2,
       "version_minor": 0
      },
      "text/plain": [
       "Epoch 8/50:   0%|          | 0/878 [00:00<?, ?it/s]"
      ]
     },
     "metadata": {},
     "output_type": "display_data"
    },
    {
     "name": "stderr",
     "output_type": "stream",
     "text": [
      "WARNING:root:NaN or Inf found in input tensor.\n"
     ]
    },
    {
     "name": "stdout",
     "output_type": "stream",
     "text": [
      "2022-04-07 19:45.52 [info     ] FQE_20220407194534: epoch=8 step=7024 epoch=8 metrics={'time_sample_batch': 0.0001402338436361326, 'time_algorithm_update': 0.0018686466173593438, 'loss': 0.008464527814796636, 'time_step': 0.0020743307057165612, 'init_value': -0.9299455285072327, 'ave_value': -0.9293143372175653, 'soft_opc': nan} step=7024\n"
     ]
    },
    {
     "name": "stderr",
     "output_type": "stream",
     "text": [
      "WARNING:root:NaN or Inf found in input tensor.\n"
     ]
    },
    {
     "name": "stdout",
     "output_type": "stream",
     "text": [
      "2022-04-07 19:45.52 [info     ] Model parameters are saved to d3rlpy_logs/FQE_20220407194534/model_7024.pt\n"
     ]
    },
    {
     "data": {
      "application/vnd.jupyter.widget-view+json": {
       "model_id": "4454e6a944dd4dcb9b035ad86c5f5572",
       "version_major": 2,
       "version_minor": 0
      },
      "text/plain": [
       "Epoch 9/50:   0%|          | 0/878 [00:00<?, ?it/s]"
      ]
     },
     "metadata": {},
     "output_type": "display_data"
    },
    {
     "name": "stderr",
     "output_type": "stream",
     "text": [
      "WARNING:root:NaN or Inf found in input tensor.\n"
     ]
    },
    {
     "name": "stdout",
     "output_type": "stream",
     "text": [
      "2022-04-07 19:45.54 [info     ] FQE_20220407194534: epoch=9 step=7902 epoch=9 metrics={'time_sample_batch': 0.0001518158814901643, 'time_algorithm_update': 0.0021846367720862454, 'loss': 0.008821962090347983, 'time_step': 0.0024111471849584906, 'init_value': -0.9726646542549133, 'ave_value': -0.9719792439458421, 'soft_opc': nan} step=7902\n"
     ]
    },
    {
     "name": "stderr",
     "output_type": "stream",
     "text": [
      "WARNING:root:NaN or Inf found in input tensor.\n"
     ]
    },
    {
     "name": "stdout",
     "output_type": "stream",
     "text": [
      "2022-04-07 19:45.54 [info     ] Model parameters are saved to d3rlpy_logs/FQE_20220407194534/model_7902.pt\n"
     ]
    },
    {
     "data": {
      "application/vnd.jupyter.widget-view+json": {
       "model_id": "06a77f1d486840b7be4f7783499b6ee0",
       "version_major": 2,
       "version_minor": 0
      },
      "text/plain": [
       "Epoch 10/50:   0%|          | 0/878 [00:00<?, ?it/s]"
      ]
     },
     "metadata": {},
     "output_type": "display_data"
    },
    {
     "name": "stderr",
     "output_type": "stream",
     "text": [
      "WARNING:root:NaN or Inf found in input tensor.\n"
     ]
    },
    {
     "name": "stdout",
     "output_type": "stream",
     "text": [
      "2022-04-07 19:45.56 [info     ] FQE_20220407194534: epoch=10 step=8780 epoch=10 metrics={'time_sample_batch': 0.00014454330018549684, 'time_algorithm_update': 0.0018852006873128625, 'loss': 0.009951402157921434, 'time_step': 0.0020987797435160923, 'init_value': -1.0245360136032104, 'ave_value': -1.02387508308131, 'soft_opc': nan} step=8780\n"
     ]
    },
    {
     "name": "stderr",
     "output_type": "stream",
     "text": [
      "WARNING:root:NaN or Inf found in input tensor.\n"
     ]
    },
    {
     "name": "stdout",
     "output_type": "stream",
     "text": [
      "2022-04-07 19:45.56 [info     ] Model parameters are saved to d3rlpy_logs/FQE_20220407194534/model_8780.pt\n"
     ]
    },
    {
     "data": {
      "application/vnd.jupyter.widget-view+json": {
       "model_id": "c2ec88015bbf460b8e370c8c0d01516f",
       "version_major": 2,
       "version_minor": 0
      },
      "text/plain": [
       "Epoch 11/50:   0%|          | 0/878 [00:00<?, ?it/s]"
      ]
     },
     "metadata": {},
     "output_type": "display_data"
    },
    {
     "name": "stderr",
     "output_type": "stream",
     "text": [
      "WARNING:root:NaN or Inf found in input tensor.\n"
     ]
    },
    {
     "name": "stdout",
     "output_type": "stream",
     "text": [
      "2022-04-07 19:45.58 [info     ] FQE_20220407194534: epoch=11 step=9658 epoch=11 metrics={'time_sample_batch': 0.0001353967705728796, 'time_algorithm_update': 0.0018439740960853246, 'loss': 0.011305126708308777, 'time_step': 0.0020352946870147775, 'init_value': -1.0842629671096802, 'ave_value': -1.0835329852210238, 'soft_opc': nan} step=9658\n"
     ]
    },
    {
     "name": "stderr",
     "output_type": "stream",
     "text": [
      "WARNING:root:NaN or Inf found in input tensor.\n"
     ]
    },
    {
     "name": "stdout",
     "output_type": "stream",
     "text": [
      "2022-04-07 19:45.58 [info     ] Model parameters are saved to d3rlpy_logs/FQE_20220407194534/model_9658.pt\n"
     ]
    },
    {
     "data": {
      "application/vnd.jupyter.widget-view+json": {
       "model_id": "0567f45ee08945e9852cecacf4b6e55e",
       "version_major": 2,
       "version_minor": 0
      },
      "text/plain": [
       "Epoch 12/50:   0%|          | 0/878 [00:00<?, ?it/s]"
      ]
     },
     "metadata": {},
     "output_type": "display_data"
    },
    {
     "name": "stderr",
     "output_type": "stream",
     "text": [
      "WARNING:root:NaN or Inf found in input tensor.\n"
     ]
    },
    {
     "name": "stdout",
     "output_type": "stream",
     "text": [
      "2022-04-07 19:46.01 [info     ] FQE_20220407194534: epoch=12 step=10536 epoch=12 metrics={'time_sample_batch': 0.00013791944551576514, 'time_algorithm_update': 0.0018667039675701724, 'loss': 0.011853593341788267, 'time_step': 0.002060322935325953, 'init_value': -1.114078402519226, 'ave_value': -1.1132142047829812, 'soft_opc': nan} step=10536\n"
     ]
    },
    {
     "name": "stderr",
     "output_type": "stream",
     "text": [
      "WARNING:root:NaN or Inf found in input tensor.\n"
     ]
    },
    {
     "name": "stdout",
     "output_type": "stream",
     "text": [
      "2022-04-07 19:46.01 [info     ] Model parameters are saved to d3rlpy_logs/FQE_20220407194534/model_10536.pt\n"
     ]
    },
    {
     "data": {
      "application/vnd.jupyter.widget-view+json": {
       "model_id": "2272fd4a4e9e40d9979e45ecd60236a1",
       "version_major": 2,
       "version_minor": 0
      },
      "text/plain": [
       "Epoch 13/50:   0%|          | 0/878 [00:00<?, ?it/s]"
      ]
     },
     "metadata": {},
     "output_type": "display_data"
    },
    {
     "name": "stderr",
     "output_type": "stream",
     "text": [
      "WARNING:root:NaN or Inf found in input tensor.\n"
     ]
    },
    {
     "name": "stdout",
     "output_type": "stream",
     "text": [
      "2022-04-07 19:46.03 [info     ] FQE_20220407194534: epoch=13 step=11414 epoch=13 metrics={'time_sample_batch': 0.000142137119058596, 'time_algorithm_update': 0.0018660468229671817, 'loss': 0.01198998790077542, 'time_step': 0.002067867878629298, 'init_value': -1.1067391633987427, 'ave_value': -1.1058548577114655, 'soft_opc': nan} step=11414\n"
     ]
    },
    {
     "name": "stderr",
     "output_type": "stream",
     "text": [
      "WARNING:root:NaN or Inf found in input tensor.\n"
     ]
    },
    {
     "name": "stdout",
     "output_type": "stream",
     "text": [
      "2022-04-07 19:46.03 [info     ] Model parameters are saved to d3rlpy_logs/FQE_20220407194534/model_11414.pt\n"
     ]
    },
    {
     "data": {
      "application/vnd.jupyter.widget-view+json": {
       "model_id": "37053d51d97f42a88300ca1940523473",
       "version_major": 2,
       "version_minor": 0
      },
      "text/plain": [
       "Epoch 14/50:   0%|          | 0/878 [00:00<?, ?it/s]"
      ]
     },
     "metadata": {},
     "output_type": "display_data"
    },
    {
     "name": "stderr",
     "output_type": "stream",
     "text": [
      "WARNING:root:NaN or Inf found in input tensor.\n"
     ]
    },
    {
     "name": "stdout",
     "output_type": "stream",
     "text": [
      "2022-04-07 19:46.05 [info     ] FQE_20220407194534: epoch=14 step=12292 epoch=14 metrics={'time_sample_batch': 0.00014107455425219003, 'time_algorithm_update': 0.0019037476433165252, 'loss': 0.012680178666295451, 'time_step': 0.0021051497014073954, 'init_value': -1.1482951641082764, 'ave_value': -1.1472832891082194, 'soft_opc': nan} step=12292\n"
     ]
    },
    {
     "name": "stderr",
     "output_type": "stream",
     "text": [
      "WARNING:root:NaN or Inf found in input tensor.\n"
     ]
    },
    {
     "name": "stdout",
     "output_type": "stream",
     "text": [
      "2022-04-07 19:46.05 [info     ] Model parameters are saved to d3rlpy_logs/FQE_20220407194534/model_12292.pt\n"
     ]
    },
    {
     "data": {
      "application/vnd.jupyter.widget-view+json": {
       "model_id": "1230ed5116294cc6b690419aab5159d5",
       "version_major": 2,
       "version_minor": 0
      },
      "text/plain": [
       "Epoch 15/50:   0%|          | 0/878 [00:00<?, ?it/s]"
      ]
     },
     "metadata": {},
     "output_type": "display_data"
    },
    {
     "name": "stderr",
     "output_type": "stream",
     "text": [
      "WARNING:root:NaN or Inf found in input tensor.\n"
     ]
    },
    {
     "name": "stdout",
     "output_type": "stream",
     "text": [
      "2022-04-07 19:46.07 [info     ] FQE_20220407194534: epoch=15 step=13170 epoch=15 metrics={'time_sample_batch': 0.00013761721330786078, 'time_algorithm_update': 0.0019023771438077262, 'loss': 0.013298806494440173, 'time_step': 0.0020974274376801857, 'init_value': -1.158900499343872, 'ave_value': -1.1579638829388719, 'soft_opc': nan} step=13170\n"
     ]
    },
    {
     "name": "stderr",
     "output_type": "stream",
     "text": [
      "WARNING:root:NaN or Inf found in input tensor.\n"
     ]
    },
    {
     "name": "stdout",
     "output_type": "stream",
     "text": [
      "2022-04-07 19:46.07 [info     ] Model parameters are saved to d3rlpy_logs/FQE_20220407194534/model_13170.pt\n"
     ]
    },
    {
     "data": {
      "application/vnd.jupyter.widget-view+json": {
       "model_id": "ab735be0de3b4b55af29badabbba2c2d",
       "version_major": 2,
       "version_minor": 0
      },
      "text/plain": [
       "Epoch 16/50:   0%|          | 0/878 [00:00<?, ?it/s]"
      ]
     },
     "metadata": {},
     "output_type": "display_data"
    },
    {
     "name": "stderr",
     "output_type": "stream",
     "text": [
      "WARNING:root:NaN or Inf found in input tensor.\n"
     ]
    },
    {
     "name": "stdout",
     "output_type": "stream",
     "text": [
      "2022-04-07 19:46.09 [info     ] FQE_20220407194534: epoch=16 step=14048 epoch=16 metrics={'time_sample_batch': 0.00013663312568751445, 'time_algorithm_update': 0.001859648624150791, 'loss': 0.013820636291186522, 'time_step': 0.002055541801018161, 'init_value': -1.133089542388916, 'ave_value': -1.131977541294306, 'soft_opc': nan} step=14048\n"
     ]
    },
    {
     "name": "stderr",
     "output_type": "stream",
     "text": [
      "WARNING:root:NaN or Inf found in input tensor.\n"
     ]
    },
    {
     "name": "stdout",
     "output_type": "stream",
     "text": [
      "2022-04-07 19:46.09 [info     ] Model parameters are saved to d3rlpy_logs/FQE_20220407194534/model_14048.pt\n"
     ]
    },
    {
     "data": {
      "application/vnd.jupyter.widget-view+json": {
       "model_id": "9ced5a61d5e74936b938a83788b0ae5d",
       "version_major": 2,
       "version_minor": 0
      },
      "text/plain": [
       "Epoch 17/50:   0%|          | 0/878 [00:00<?, ?it/s]"
      ]
     },
     "metadata": {},
     "output_type": "display_data"
    },
    {
     "name": "stderr",
     "output_type": "stream",
     "text": [
      "WARNING:root:NaN or Inf found in input tensor.\n"
     ]
    },
    {
     "name": "stdout",
     "output_type": "stream",
     "text": [
      "2022-04-07 19:46.11 [info     ] FQE_20220407194534: epoch=17 step=14926 epoch=17 metrics={'time_sample_batch': 0.00012852336388242543, 'time_algorithm_update': 0.0016702867043045496, 'loss': 0.013923142377594778, 'time_step': 0.0018544083032629756, 'init_value': -1.1906569004058838, 'ave_value': -1.1895094598857487, 'soft_opc': nan} step=14926\n"
     ]
    },
    {
     "name": "stderr",
     "output_type": "stream",
     "text": [
      "WARNING:root:NaN or Inf found in input tensor.\n"
     ]
    },
    {
     "name": "stdout",
     "output_type": "stream",
     "text": [
      "2022-04-07 19:46.11 [info     ] Model parameters are saved to d3rlpy_logs/FQE_20220407194534/model_14926.pt\n"
     ]
    },
    {
     "data": {
      "application/vnd.jupyter.widget-view+json": {
       "model_id": "14e4168c3e9f46c9aedc953f2f28af0b",
       "version_major": 2,
       "version_minor": 0
      },
      "text/plain": [
       "Epoch 18/50:   0%|          | 0/878 [00:00<?, ?it/s]"
      ]
     },
     "metadata": {},
     "output_type": "display_data"
    },
    {
     "name": "stderr",
     "output_type": "stream",
     "text": [
      "WARNING:root:NaN or Inf found in input tensor.\n"
     ]
    },
    {
     "name": "stdout",
     "output_type": "stream",
     "text": [
      "2022-04-07 19:46.13 [info     ] FQE_20220407194534: epoch=18 step=15804 epoch=18 metrics={'time_sample_batch': 0.00012638710082799265, 'time_algorithm_update': 0.0016507407255759272, 'loss': 0.014625608667886234, 'time_step': 0.0018286148345008797, 'init_value': -1.2275172472000122, 'ave_value': -1.2263318071812668, 'soft_opc': nan} step=15804\n"
     ]
    },
    {
     "name": "stderr",
     "output_type": "stream",
     "text": [
      "WARNING:root:NaN or Inf found in input tensor.\n"
     ]
    },
    {
     "name": "stdout",
     "output_type": "stream",
     "text": [
      "2022-04-07 19:46.13 [info     ] Model parameters are saved to d3rlpy_logs/FQE_20220407194534/model_15804.pt\n"
     ]
    },
    {
     "data": {
      "application/vnd.jupyter.widget-view+json": {
       "model_id": "b23951d6bd4147e4bdcd8e6baef531fc",
       "version_major": 2,
       "version_minor": 0
      },
      "text/plain": [
       "Epoch 19/50:   0%|          | 0/878 [00:00<?, ?it/s]"
      ]
     },
     "metadata": {},
     "output_type": "display_data"
    },
    {
     "name": "stderr",
     "output_type": "stream",
     "text": [
      "WARNING:root:NaN or Inf found in input tensor.\n"
     ]
    },
    {
     "name": "stdout",
     "output_type": "stream",
     "text": [
      "2022-04-07 19:46.15 [info     ] FQE_20220407194534: epoch=19 step=16682 epoch=19 metrics={'time_sample_batch': 0.0001334057853542319, 'time_algorithm_update': 0.001778106483077134, 'loss': 0.015376418721865535, 'time_step': 0.0019727453827043328, 'init_value': -1.2541077136993408, 'ave_value': -1.2529907390767532, 'soft_opc': nan} step=16682\n"
     ]
    },
    {
     "name": "stderr",
     "output_type": "stream",
     "text": [
      "WARNING:root:NaN or Inf found in input tensor.\n"
     ]
    },
    {
     "name": "stdout",
     "output_type": "stream",
     "text": [
      "2022-04-07 19:46.15 [info     ] Model parameters are saved to d3rlpy_logs/FQE_20220407194534/model_16682.pt\n"
     ]
    },
    {
     "data": {
      "application/vnd.jupyter.widget-view+json": {
       "model_id": "6a1c6127d6bd48e681cfb8298323d7fc",
       "version_major": 2,
       "version_minor": 0
      },
      "text/plain": [
       "Epoch 20/50:   0%|          | 0/878 [00:00<?, ?it/s]"
      ]
     },
     "metadata": {},
     "output_type": "display_data"
    },
    {
     "name": "stderr",
     "output_type": "stream",
     "text": [
      "WARNING:root:NaN or Inf found in input tensor.\n"
     ]
    },
    {
     "name": "stdout",
     "output_type": "stream",
     "text": [
      "2022-04-07 19:46.17 [info     ] FQE_20220407194534: epoch=20 step=17560 epoch=20 metrics={'time_sample_batch': 0.00012731090493517204, 'time_algorithm_update': 0.0016822225683642412, 'loss': 0.015405189241482938, 'time_step': 0.0018648517430507512, 'init_value': -1.2258505821228027, 'ave_value': -1.224869961066755, 'soft_opc': nan} step=17560\n"
     ]
    },
    {
     "name": "stderr",
     "output_type": "stream",
     "text": [
      "WARNING:root:NaN or Inf found in input tensor.\n"
     ]
    },
    {
     "name": "stdout",
     "output_type": "stream",
     "text": [
      "2022-04-07 19:46.17 [info     ] Model parameters are saved to d3rlpy_logs/FQE_20220407194534/model_17560.pt\n"
     ]
    },
    {
     "data": {
      "application/vnd.jupyter.widget-view+json": {
       "model_id": "e5633d6060eb42d5b8f07606265b0a1f",
       "version_major": 2,
       "version_minor": 0
      },
      "text/plain": [
       "Epoch 21/50:   0%|          | 0/878 [00:00<?, ?it/s]"
      ]
     },
     "metadata": {},
     "output_type": "display_data"
    },
    {
     "name": "stderr",
     "output_type": "stream",
     "text": [
      "WARNING:root:NaN or Inf found in input tensor.\n"
     ]
    },
    {
     "name": "stdout",
     "output_type": "stream",
     "text": [
      "2022-04-07 19:46.19 [info     ] FQE_20220407194534: epoch=21 step=18438 epoch=21 metrics={'time_sample_batch': 0.0001292204259468374, 'time_algorithm_update': 0.0016824916717946394, 'loss': 0.01518524447646012, 'time_step': 0.0018689322851784952, 'init_value': -1.2478523254394531, 'ave_value': -1.2468143310938677, 'soft_opc': nan} step=18438\n"
     ]
    },
    {
     "name": "stderr",
     "output_type": "stream",
     "text": [
      "WARNING:root:NaN or Inf found in input tensor.\n"
     ]
    },
    {
     "name": "stdout",
     "output_type": "stream",
     "text": [
      "2022-04-07 19:46.19 [info     ] Model parameters are saved to d3rlpy_logs/FQE_20220407194534/model_18438.pt\n"
     ]
    },
    {
     "data": {
      "application/vnd.jupyter.widget-view+json": {
       "model_id": "f882834f355e46a686f6f6b8afe9b0c8",
       "version_major": 2,
       "version_minor": 0
      },
      "text/plain": [
       "Epoch 22/50:   0%|          | 0/878 [00:00<?, ?it/s]"
      ]
     },
     "metadata": {},
     "output_type": "display_data"
    },
    {
     "name": "stderr",
     "output_type": "stream",
     "text": [
      "WARNING:root:NaN or Inf found in input tensor.\n"
     ]
    },
    {
     "name": "stdout",
     "output_type": "stream",
     "text": [
      "2022-04-07 19:46.21 [info     ] FQE_20220407194534: epoch=22 step=19316 epoch=22 metrics={'time_sample_batch': 0.00013190412847219132, 'time_algorithm_update': 0.001704399840978392, 'loss': 0.015791774910989455, 'time_step': 0.0018919337040199506, 'init_value': -1.2798423767089844, 'ave_value': -1.2787114192152518, 'soft_opc': nan} step=19316\n"
     ]
    },
    {
     "name": "stderr",
     "output_type": "stream",
     "text": [
      "WARNING:root:NaN or Inf found in input tensor.\n"
     ]
    },
    {
     "name": "stdout",
     "output_type": "stream",
     "text": [
      "2022-04-07 19:46.21 [info     ] Model parameters are saved to d3rlpy_logs/FQE_20220407194534/model_19316.pt\n"
     ]
    },
    {
     "data": {
      "application/vnd.jupyter.widget-view+json": {
       "model_id": "aa9b9edad8e1479e8d0eb5cd16648553",
       "version_major": 2,
       "version_minor": 0
      },
      "text/plain": [
       "Epoch 23/50:   0%|          | 0/878 [00:00<?, ?it/s]"
      ]
     },
     "metadata": {},
     "output_type": "display_data"
    },
    {
     "name": "stderr",
     "output_type": "stream",
     "text": [
      "WARNING:root:NaN or Inf found in input tensor.\n"
     ]
    },
    {
     "name": "stdout",
     "output_type": "stream",
     "text": [
      "2022-04-07 19:46.23 [info     ] FQE_20220407194534: epoch=23 step=20194 epoch=23 metrics={'time_sample_batch': 0.00012256534333109583, 'time_algorithm_update': 0.0015752551767440482, 'loss': 0.016143764134213808, 'time_step': 0.0017542798318189478, 'init_value': -1.3036279678344727, 'ave_value': -1.3024494032197367, 'soft_opc': nan} step=20194\n"
     ]
    },
    {
     "name": "stderr",
     "output_type": "stream",
     "text": [
      "WARNING:root:NaN or Inf found in input tensor.\n"
     ]
    },
    {
     "name": "stdout",
     "output_type": "stream",
     "text": [
      "2022-04-07 19:46.23 [info     ] Model parameters are saved to d3rlpy_logs/FQE_20220407194534/model_20194.pt\n"
     ]
    },
    {
     "data": {
      "application/vnd.jupyter.widget-view+json": {
       "model_id": "381be03a2b764e379d691648451b6b7e",
       "version_major": 2,
       "version_minor": 0
      },
      "text/plain": [
       "Epoch 24/50:   0%|          | 0/878 [00:00<?, ?it/s]"
      ]
     },
     "metadata": {},
     "output_type": "display_data"
    },
    {
     "name": "stderr",
     "output_type": "stream",
     "text": [
      "WARNING:root:NaN or Inf found in input tensor.\n"
     ]
    },
    {
     "name": "stdout",
     "output_type": "stream",
     "text": [
      "2022-04-07 19:46.25 [info     ] FQE_20220407194534: epoch=24 step=21072 epoch=24 metrics={'time_sample_batch': 0.0001315926636541623, 'time_algorithm_update': 0.0017463997990775487, 'loss': 0.015413191768256554, 'time_step': 0.001933620839564295, 'init_value': -1.2606450319290161, 'ave_value': -1.259656531196706, 'soft_opc': nan} step=21072\n"
     ]
    },
    {
     "name": "stderr",
     "output_type": "stream",
     "text": [
      "WARNING:root:NaN or Inf found in input tensor.\n"
     ]
    },
    {
     "name": "stdout",
     "output_type": "stream",
     "text": [
      "2022-04-07 19:46.25 [info     ] Model parameters are saved to d3rlpy_logs/FQE_20220407194534/model_21072.pt\n"
     ]
    },
    {
     "data": {
      "application/vnd.jupyter.widget-view+json": {
       "model_id": "1389cdca0c3e4e30921d16c0bbd4b2b7",
       "version_major": 2,
       "version_minor": 0
      },
      "text/plain": [
       "Epoch 25/50:   0%|          | 0/878 [00:00<?, ?it/s]"
      ]
     },
     "metadata": {},
     "output_type": "display_data"
    },
    {
     "name": "stderr",
     "output_type": "stream",
     "text": [
      "WARNING:root:NaN or Inf found in input tensor.\n"
     ]
    },
    {
     "name": "stdout",
     "output_type": "stream",
     "text": [
      "2022-04-07 19:46.26 [info     ] FQE_20220407194534: epoch=25 step=21950 epoch=25 metrics={'time_sample_batch': 0.00013158071557047154, 'time_algorithm_update': 0.0017041752713144777, 'loss': 0.01612325943138953, 'time_step': 0.001893798962812489, 'init_value': -1.302064299583435, 'ave_value': -1.3011092287358985, 'soft_opc': nan} step=21950\n"
     ]
    },
    {
     "name": "stderr",
     "output_type": "stream",
     "text": [
      "WARNING:root:NaN or Inf found in input tensor.\n"
     ]
    },
    {
     "name": "stdout",
     "output_type": "stream",
     "text": [
      "2022-04-07 19:46.26 [info     ] Model parameters are saved to d3rlpy_logs/FQE_20220407194534/model_21950.pt\n"
     ]
    },
    {
     "data": {
      "application/vnd.jupyter.widget-view+json": {
       "model_id": "568769f0c39d4f21bbf0d25beff33e9e",
       "version_major": 2,
       "version_minor": 0
      },
      "text/plain": [
       "Epoch 26/50:   0%|          | 0/878 [00:00<?, ?it/s]"
      ]
     },
     "metadata": {},
     "output_type": "display_data"
    },
    {
     "name": "stderr",
     "output_type": "stream",
     "text": [
      "WARNING:root:NaN or Inf found in input tensor.\n"
     ]
    },
    {
     "name": "stdout",
     "output_type": "stream",
     "text": [
      "2022-04-07 19:46.29 [info     ] FQE_20220407194534: epoch=26 step=22828 epoch=26 metrics={'time_sample_batch': 0.00012892987027526717, 'time_algorithm_update': 0.0017948734461582332, 'loss': 0.016046842463650145, 'time_step': 0.001980816584784784, 'init_value': -1.2567006349563599, 'ave_value': -1.255636820406209, 'soft_opc': nan} step=22828\n"
     ]
    },
    {
     "name": "stderr",
     "output_type": "stream",
     "text": [
      "WARNING:root:NaN or Inf found in input tensor.\n"
     ]
    },
    {
     "name": "stdout",
     "output_type": "stream",
     "text": [
      "2022-04-07 19:46.29 [info     ] Model parameters are saved to d3rlpy_logs/FQE_20220407194534/model_22828.pt\n"
     ]
    },
    {
     "data": {
      "application/vnd.jupyter.widget-view+json": {
       "model_id": "0c76ad6561444ee68467145f3975fee4",
       "version_major": 2,
       "version_minor": 0
      },
      "text/plain": [
       "Epoch 27/50:   0%|          | 0/878 [00:00<?, ?it/s]"
      ]
     },
     "metadata": {},
     "output_type": "display_data"
    },
    {
     "name": "stderr",
     "output_type": "stream",
     "text": [
      "WARNING:root:NaN or Inf found in input tensor.\n"
     ]
    },
    {
     "name": "stdout",
     "output_type": "stream",
     "text": [
      "2022-04-07 19:46.30 [info     ] FQE_20220407194534: epoch=27 step=23706 epoch=27 metrics={'time_sample_batch': 0.00013349838300283514, 'time_algorithm_update': 0.0017253730726133447, 'loss': 0.016259032489934374, 'time_step': 0.0019187248377702231, 'init_value': -1.3349992036819458, 'ave_value': -1.333977972623657, 'soft_opc': nan} step=23706\n"
     ]
    },
    {
     "name": "stderr",
     "output_type": "stream",
     "text": [
      "WARNING:root:NaN or Inf found in input tensor.\n"
     ]
    },
    {
     "name": "stdout",
     "output_type": "stream",
     "text": [
      "2022-04-07 19:46.30 [info     ] Model parameters are saved to d3rlpy_logs/FQE_20220407194534/model_23706.pt\n"
     ]
    },
    {
     "data": {
      "application/vnd.jupyter.widget-view+json": {
       "model_id": "301cb9b017654d16a76e5eae0ce116df",
       "version_major": 2,
       "version_minor": 0
      },
      "text/plain": [
       "Epoch 28/50:   0%|          | 0/878 [00:00<?, ?it/s]"
      ]
     },
     "metadata": {},
     "output_type": "display_data"
    },
    {
     "name": "stderr",
     "output_type": "stream",
     "text": [
      "WARNING:root:NaN or Inf found in input tensor.\n"
     ]
    },
    {
     "name": "stdout",
     "output_type": "stream",
     "text": [
      "2022-04-07 19:46.32 [info     ] FQE_20220407194534: epoch=28 step=24584 epoch=28 metrics={'time_sample_batch': 0.00013244206378563119, 'time_algorithm_update': 0.0017551056073303918, 'loss': 0.018103349936926423, 'time_step': 0.0019431516086865124, 'init_value': -1.3442445993423462, 'ave_value': -1.3433268169683514, 'soft_opc': nan} step=24584\n"
     ]
    },
    {
     "name": "stderr",
     "output_type": "stream",
     "text": [
      "WARNING:root:NaN or Inf found in input tensor.\n"
     ]
    },
    {
     "name": "stdout",
     "output_type": "stream",
     "text": [
      "2022-04-07 19:46.32 [info     ] Model parameters are saved to d3rlpy_logs/FQE_20220407194534/model_24584.pt\n"
     ]
    },
    {
     "data": {
      "application/vnd.jupyter.widget-view+json": {
       "model_id": "13b6edfcf8564fd39fbc9c6ea05f4d03",
       "version_major": 2,
       "version_minor": 0
      },
      "text/plain": [
       "Epoch 29/50:   0%|          | 0/878 [00:00<?, ?it/s]"
      ]
     },
     "metadata": {},
     "output_type": "display_data"
    },
    {
     "name": "stderr",
     "output_type": "stream",
     "text": [
      "WARNING:root:NaN or Inf found in input tensor.\n"
     ]
    },
    {
     "name": "stdout",
     "output_type": "stream",
     "text": [
      "2022-04-07 19:46.34 [info     ] FQE_20220407194534: epoch=29 step=25462 epoch=29 metrics={'time_sample_batch': 0.00013330802830585314, 'time_algorithm_update': 0.0017351447042408727, 'loss': 0.017786253522612705, 'time_step': 0.0019271452497512712, 'init_value': -1.3210583925247192, 'ave_value': -1.320212381343541, 'soft_opc': nan} step=25462\n"
     ]
    },
    {
     "name": "stderr",
     "output_type": "stream",
     "text": [
      "WARNING:root:NaN or Inf found in input tensor.\n"
     ]
    },
    {
     "name": "stdout",
     "output_type": "stream",
     "text": [
      "2022-04-07 19:46.34 [info     ] Model parameters are saved to d3rlpy_logs/FQE_20220407194534/model_25462.pt\n"
     ]
    },
    {
     "data": {
      "application/vnd.jupyter.widget-view+json": {
       "model_id": "cf13bec517654089b99503fe77be4568",
       "version_major": 2,
       "version_minor": 0
      },
      "text/plain": [
       "Epoch 30/50:   0%|          | 0/878 [00:00<?, ?it/s]"
      ]
     },
     "metadata": {},
     "output_type": "display_data"
    },
    {
     "name": "stderr",
     "output_type": "stream",
     "text": [
      "WARNING:root:NaN or Inf found in input tensor.\n"
     ]
    },
    {
     "name": "stdout",
     "output_type": "stream",
     "text": [
      "2022-04-07 19:46.36 [info     ] FQE_20220407194534: epoch=30 step=26340 epoch=30 metrics={'time_sample_batch': 0.00013336885491373326, 'time_algorithm_update': 0.0017190215799422904, 'loss': 0.017222864022904245, 'time_step': 0.0019107315697811187, 'init_value': -1.3382995128631592, 'ave_value': -1.3375704140206763, 'soft_opc': nan} step=26340\n"
     ]
    },
    {
     "name": "stderr",
     "output_type": "stream",
     "text": [
      "WARNING:root:NaN or Inf found in input tensor.\n"
     ]
    },
    {
     "name": "stdout",
     "output_type": "stream",
     "text": [
      "2022-04-07 19:46.36 [info     ] Model parameters are saved to d3rlpy_logs/FQE_20220407194534/model_26340.pt\n"
     ]
    },
    {
     "data": {
      "application/vnd.jupyter.widget-view+json": {
       "model_id": "aaa8ab6e74cf4b72b53710faff2a674b",
       "version_major": 2,
       "version_minor": 0
      },
      "text/plain": [
       "Epoch 31/50:   0%|          | 0/878 [00:00<?, ?it/s]"
      ]
     },
     "metadata": {},
     "output_type": "display_data"
    },
    {
     "name": "stderr",
     "output_type": "stream",
     "text": [
      "WARNING:root:NaN or Inf found in input tensor.\n"
     ]
    },
    {
     "name": "stdout",
     "output_type": "stream",
     "text": [
      "2022-04-07 19:46.38 [info     ] FQE_20220407194534: epoch=31 step=27218 epoch=31 metrics={'time_sample_batch': 0.00012889728459247423, 'time_algorithm_update': 0.0016197552713554922, 'loss': 0.016068026283147636, 'time_step': 0.0018046562112273823, 'init_value': -1.2550493478775024, 'ave_value': -1.2542832214644288, 'soft_opc': nan} step=27218\n"
     ]
    },
    {
     "name": "stderr",
     "output_type": "stream",
     "text": [
      "WARNING:root:NaN or Inf found in input tensor.\n"
     ]
    },
    {
     "name": "stdout",
     "output_type": "stream",
     "text": [
      "2022-04-07 19:46.38 [info     ] Model parameters are saved to d3rlpy_logs/FQE_20220407194534/model_27218.pt\n"
     ]
    },
    {
     "data": {
      "application/vnd.jupyter.widget-view+json": {
       "model_id": "1cb87564013d4ab88de82b0184436f15",
       "version_major": 2,
       "version_minor": 0
      },
      "text/plain": [
       "Epoch 32/50:   0%|          | 0/878 [00:00<?, ?it/s]"
      ]
     },
     "metadata": {},
     "output_type": "display_data"
    },
    {
     "name": "stderr",
     "output_type": "stream",
     "text": [
      "WARNING:root:NaN or Inf found in input tensor.\n"
     ]
    },
    {
     "name": "stdout",
     "output_type": "stream",
     "text": [
      "2022-04-07 19:46.40 [info     ] FQE_20220407194534: epoch=32 step=28096 epoch=32 metrics={'time_sample_batch': 0.0001344732380130568, 'time_algorithm_update': 0.0018349646978877943, 'loss': 0.01561450435236459, 'time_step': 0.002026320861520963, 'init_value': -1.2487380504608154, 'ave_value': -1.2478636050967304, 'soft_opc': nan} step=28096\n"
     ]
    },
    {
     "name": "stderr",
     "output_type": "stream",
     "text": [
      "WARNING:root:NaN or Inf found in input tensor.\n"
     ]
    },
    {
     "name": "stdout",
     "output_type": "stream",
     "text": [
      "2022-04-07 19:46.40 [info     ] Model parameters are saved to d3rlpy_logs/FQE_20220407194534/model_28096.pt\n"
     ]
    },
    {
     "data": {
      "application/vnd.jupyter.widget-view+json": {
       "model_id": "2550779959344cc2a62842268aa3045e",
       "version_major": 2,
       "version_minor": 0
      },
      "text/plain": [
       "Epoch 33/50:   0%|          | 0/878 [00:00<?, ?it/s]"
      ]
     },
     "metadata": {},
     "output_type": "display_data"
    },
    {
     "name": "stderr",
     "output_type": "stream",
     "text": [
      "WARNING:root:NaN or Inf found in input tensor.\n"
     ]
    },
    {
     "name": "stdout",
     "output_type": "stream",
     "text": [
      "2022-04-07 19:46.42 [info     ] FQE_20220407194534: epoch=33 step=28974 epoch=33 metrics={'time_sample_batch': 0.00012557653196851865, 'time_algorithm_update': 0.00163176906950653, 'loss': 0.01632706322407838, 'time_step': 0.0018116610468384346, 'init_value': -1.2552908658981323, 'ave_value': -1.254358465401986, 'soft_opc': nan} step=28974\n"
     ]
    },
    {
     "name": "stderr",
     "output_type": "stream",
     "text": [
      "WARNING:root:NaN or Inf found in input tensor.\n"
     ]
    },
    {
     "name": "stdout",
     "output_type": "stream",
     "text": [
      "2022-04-07 19:46.42 [info     ] Model parameters are saved to d3rlpy_logs/FQE_20220407194534/model_28974.pt\n"
     ]
    },
    {
     "data": {
      "application/vnd.jupyter.widget-view+json": {
       "model_id": "df52a3fafc32436f985098eede1e91d2",
       "version_major": 2,
       "version_minor": 0
      },
      "text/plain": [
       "Epoch 34/50:   0%|          | 0/878 [00:00<?, ?it/s]"
      ]
     },
     "metadata": {},
     "output_type": "display_data"
    },
    {
     "name": "stderr",
     "output_type": "stream",
     "text": [
      "WARNING:root:NaN or Inf found in input tensor.\n"
     ]
    },
    {
     "name": "stdout",
     "output_type": "stream",
     "text": [
      "2022-04-07 19:46.44 [info     ] FQE_20220407194534: epoch=34 step=29852 epoch=34 metrics={'time_sample_batch': 0.0001216999219055871, 'time_algorithm_update': 0.0015488127097996601, 'loss': 0.015654533272900277, 'time_step': 0.0017241174376363907, 'init_value': -1.2443311214447021, 'ave_value': -1.2434401816878353, 'soft_opc': nan} step=29852\n"
     ]
    },
    {
     "name": "stderr",
     "output_type": "stream",
     "text": [
      "WARNING:root:NaN or Inf found in input tensor.\n"
     ]
    },
    {
     "name": "stdout",
     "output_type": "stream",
     "text": [
      "2022-04-07 19:46.44 [info     ] Model parameters are saved to d3rlpy_logs/FQE_20220407194534/model_29852.pt\n"
     ]
    },
    {
     "data": {
      "application/vnd.jupyter.widget-view+json": {
       "model_id": "a9814e5b34594fbb9da40905a6d02e85",
       "version_major": 2,
       "version_minor": 0
      },
      "text/plain": [
       "Epoch 35/50:   0%|          | 0/878 [00:00<?, ?it/s]"
      ]
     },
     "metadata": {},
     "output_type": "display_data"
    },
    {
     "name": "stderr",
     "output_type": "stream",
     "text": [
      "WARNING:root:NaN or Inf found in input tensor.\n"
     ]
    },
    {
     "name": "stdout",
     "output_type": "stream",
     "text": [
      "2022-04-07 19:46.46 [info     ] FQE_20220407194534: epoch=35 step=30730 epoch=35 metrics={'time_sample_batch': 0.00012479311784470543, 'time_algorithm_update': 0.0016010923646305579, 'loss': 0.015312866015812028, 'time_step': 0.001781922538079542, 'init_value': -1.2515242099761963, 'ave_value': -1.2504565081918413, 'soft_opc': nan} step=30730\n"
     ]
    },
    {
     "name": "stderr",
     "output_type": "stream",
     "text": [
      "WARNING:root:NaN or Inf found in input tensor.\n"
     ]
    },
    {
     "name": "stdout",
     "output_type": "stream",
     "text": [
      "2022-04-07 19:46.46 [info     ] Model parameters are saved to d3rlpy_logs/FQE_20220407194534/model_30730.pt\n"
     ]
    },
    {
     "data": {
      "application/vnd.jupyter.widget-view+json": {
       "model_id": "1ca3166153c144699d1772e3743840b2",
       "version_major": 2,
       "version_minor": 0
      },
      "text/plain": [
       "Epoch 36/50:   0%|          | 0/878 [00:00<?, ?it/s]"
      ]
     },
     "metadata": {},
     "output_type": "display_data"
    },
    {
     "name": "stderr",
     "output_type": "stream",
     "text": [
      "WARNING:root:NaN or Inf found in input tensor.\n"
     ]
    },
    {
     "name": "stdout",
     "output_type": "stream",
     "text": [
      "2022-04-07 19:46.48 [info     ] FQE_20220407194534: epoch=36 step=31608 epoch=36 metrics={'time_sample_batch': 0.00012445422674365903, 'time_algorithm_update': 0.0017029682433143563, 'loss': 0.01456209137092477, 'time_step': 0.001881215458307288, 'init_value': -1.2282742261886597, 'ave_value': -1.22722280742833, 'soft_opc': nan} step=31608\n"
     ]
    },
    {
     "name": "stderr",
     "output_type": "stream",
     "text": [
      "WARNING:root:NaN or Inf found in input tensor.\n"
     ]
    },
    {
     "name": "stdout",
     "output_type": "stream",
     "text": [
      "2022-04-07 19:46.48 [info     ] Model parameters are saved to d3rlpy_logs/FQE_20220407194534/model_31608.pt\n"
     ]
    },
    {
     "data": {
      "application/vnd.jupyter.widget-view+json": {
       "model_id": "259cdfbca3f3410ab6e29dc4bc89b8e7",
       "version_major": 2,
       "version_minor": 0
      },
      "text/plain": [
       "Epoch 37/50:   0%|          | 0/878 [00:00<?, ?it/s]"
      ]
     },
     "metadata": {},
     "output_type": "display_data"
    },
    {
     "name": "stderr",
     "output_type": "stream",
     "text": [
      "WARNING:root:NaN or Inf found in input tensor.\n"
     ]
    },
    {
     "name": "stdout",
     "output_type": "stream",
     "text": [
      "2022-04-07 19:46.49 [info     ] FQE_20220407194534: epoch=37 step=32486 epoch=37 metrics={'time_sample_batch': 0.00011863578153362578, 'time_algorithm_update': 0.0015296623755696151, 'loss': 0.015400217440799613, 'time_step': 0.0017016501524453826, 'init_value': -1.28080415725708, 'ave_value': -1.2796953822783803, 'soft_opc': nan} step=32486\n"
     ]
    },
    {
     "name": "stderr",
     "output_type": "stream",
     "text": [
      "WARNING:root:NaN or Inf found in input tensor.\n"
     ]
    },
    {
     "name": "stdout",
     "output_type": "stream",
     "text": [
      "2022-04-07 19:46.49 [info     ] Model parameters are saved to d3rlpy_logs/FQE_20220407194534/model_32486.pt\n"
     ]
    },
    {
     "data": {
      "application/vnd.jupyter.widget-view+json": {
       "model_id": "9a0ff49208d4489695eed0f10029e2b8",
       "version_major": 2,
       "version_minor": 0
      },
      "text/plain": [
       "Epoch 38/50:   0%|          | 0/878 [00:00<?, ?it/s]"
      ]
     },
     "metadata": {},
     "output_type": "display_data"
    },
    {
     "name": "stderr",
     "output_type": "stream",
     "text": [
      "WARNING:root:NaN or Inf found in input tensor.\n"
     ]
    },
    {
     "name": "stdout",
     "output_type": "stream",
     "text": [
      "2022-04-07 19:46.51 [info     ] FQE_20220407194534: epoch=38 step=33364 epoch=38 metrics={'time_sample_batch': 0.00012269106975720522, 'time_algorithm_update': 0.001561924373913463, 'loss': 0.016150363038562075, 'time_step': 0.0017368359011778257, 'init_value': -1.2737716436386108, 'ave_value': -1.2726497722394539, 'soft_opc': nan} step=33364\n"
     ]
    },
    {
     "name": "stderr",
     "output_type": "stream",
     "text": [
      "WARNING:root:NaN or Inf found in input tensor.\n"
     ]
    },
    {
     "name": "stdout",
     "output_type": "stream",
     "text": [
      "2022-04-07 19:46.51 [info     ] Model parameters are saved to d3rlpy_logs/FQE_20220407194534/model_33364.pt\n"
     ]
    },
    {
     "data": {
      "application/vnd.jupyter.widget-view+json": {
       "model_id": "bc14d4979d4f4814b36a5c1d0da6caec",
       "version_major": 2,
       "version_minor": 0
      },
      "text/plain": [
       "Epoch 39/50:   0%|          | 0/878 [00:00<?, ?it/s]"
      ]
     },
     "metadata": {},
     "output_type": "display_data"
    },
    {
     "name": "stderr",
     "output_type": "stream",
     "text": [
      "WARNING:root:NaN or Inf found in input tensor.\n"
     ]
    },
    {
     "name": "stdout",
     "output_type": "stream",
     "text": [
      "2022-04-07 19:46.53 [info     ] FQE_20220407194534: epoch=39 step=34242 epoch=39 metrics={'time_sample_batch': 0.00012484661267395716, 'time_algorithm_update': 0.0016125674128260863, 'loss': 0.016114571493919795, 'time_step': 0.0017927939365013313, 'init_value': -1.2449063062667847, 'ave_value': -1.2439748982283367, 'soft_opc': nan} step=34242\n"
     ]
    },
    {
     "name": "stderr",
     "output_type": "stream",
     "text": [
      "WARNING:root:NaN or Inf found in input tensor.\n"
     ]
    },
    {
     "name": "stdout",
     "output_type": "stream",
     "text": [
      "2022-04-07 19:46.53 [info     ] Model parameters are saved to d3rlpy_logs/FQE_20220407194534/model_34242.pt\n"
     ]
    },
    {
     "data": {
      "application/vnd.jupyter.widget-view+json": {
       "model_id": "9fd9f8174e4f4ace897f18fd97260312",
       "version_major": 2,
       "version_minor": 0
      },
      "text/plain": [
       "Epoch 40/50:   0%|          | 0/878 [00:00<?, ?it/s]"
      ]
     },
     "metadata": {},
     "output_type": "display_data"
    },
    {
     "name": "stderr",
     "output_type": "stream",
     "text": [
      "WARNING:root:NaN or Inf found in input tensor.\n"
     ]
    },
    {
     "name": "stdout",
     "output_type": "stream",
     "text": [
      "2022-04-07 19:46.55 [info     ] FQE_20220407194534: epoch=40 step=35120 epoch=40 metrics={'time_sample_batch': 0.00012045324799140113, 'time_algorithm_update': 0.0015667215295152948, 'loss': 0.01525798887912945, 'time_step': 0.0017397360269463958, 'init_value': -1.213791012763977, 'ave_value': -1.2126224225628024, 'soft_opc': nan} step=35120\n"
     ]
    },
    {
     "name": "stderr",
     "output_type": "stream",
     "text": [
      "WARNING:root:NaN or Inf found in input tensor.\n"
     ]
    },
    {
     "name": "stdout",
     "output_type": "stream",
     "text": [
      "2022-04-07 19:46.55 [info     ] Model parameters are saved to d3rlpy_logs/FQE_20220407194534/model_35120.pt\n"
     ]
    },
    {
     "data": {
      "application/vnd.jupyter.widget-view+json": {
       "model_id": "6ad0f021c90145a48921f574da70ad69",
       "version_major": 2,
       "version_minor": 0
      },
      "text/plain": [
       "Epoch 41/50:   0%|          | 0/878 [00:00<?, ?it/s]"
      ]
     },
     "metadata": {},
     "output_type": "display_data"
    },
    {
     "name": "stderr",
     "output_type": "stream",
     "text": [
      "WARNING:root:NaN or Inf found in input tensor.\n"
     ]
    },
    {
     "name": "stdout",
     "output_type": "stream",
     "text": [
      "2022-04-07 19:46.57 [info     ] FQE_20220407194534: epoch=41 step=35998 epoch=41 metrics={'time_sample_batch': 0.00012371941959667858, 'time_algorithm_update': 0.0015873181249666322, 'loss': 0.015171062889312909, 'time_step': 0.0017665434535380647, 'init_value': -1.2403626441955566, 'ave_value': -1.2392172092608893, 'soft_opc': nan} step=35998\n"
     ]
    },
    {
     "name": "stderr",
     "output_type": "stream",
     "text": [
      "WARNING:root:NaN or Inf found in input tensor.\n"
     ]
    },
    {
     "name": "stdout",
     "output_type": "stream",
     "text": [
      "2022-04-07 19:46.57 [info     ] Model parameters are saved to d3rlpy_logs/FQE_20220407194534/model_35998.pt\n"
     ]
    },
    {
     "data": {
      "application/vnd.jupyter.widget-view+json": {
       "model_id": "98d896d2ebfe4959835799865932c2a7",
       "version_major": 2,
       "version_minor": 0
      },
      "text/plain": [
       "Epoch 42/50:   0%|          | 0/878 [00:00<?, ?it/s]"
      ]
     },
     "metadata": {},
     "output_type": "display_data"
    },
    {
     "name": "stderr",
     "output_type": "stream",
     "text": [
      "WARNING:root:NaN or Inf found in input tensor.\n"
     ]
    },
    {
     "name": "stdout",
     "output_type": "stream",
     "text": [
      "2022-04-07 19:46.59 [info     ] FQE_20220407194534: epoch=42 step=36876 epoch=42 metrics={'time_sample_batch': 0.00012543451270101284, 'time_algorithm_update': 0.0017313101840182154, 'loss': 0.014984252791057216, 'time_step': 0.0019082550578888564, 'init_value': -1.1852749586105347, 'ave_value': -1.184285222115214, 'soft_opc': nan} step=36876\n"
     ]
    },
    {
     "name": "stderr",
     "output_type": "stream",
     "text": [
      "WARNING:root:NaN or Inf found in input tensor.\n"
     ]
    },
    {
     "name": "stdout",
     "output_type": "stream",
     "text": [
      "2022-04-07 19:46.59 [info     ] Model parameters are saved to d3rlpy_logs/FQE_20220407194534/model_36876.pt\n"
     ]
    },
    {
     "data": {
      "application/vnd.jupyter.widget-view+json": {
       "model_id": "762fb09a6af6415a8d66565523b5c67d",
       "version_major": 2,
       "version_minor": 0
      },
      "text/plain": [
       "Epoch 43/50:   0%|          | 0/878 [00:00<?, ?it/s]"
      ]
     },
     "metadata": {},
     "output_type": "display_data"
    },
    {
     "name": "stderr",
     "output_type": "stream",
     "text": [
      "WARNING:root:NaN or Inf found in input tensor.\n"
     ]
    },
    {
     "name": "stdout",
     "output_type": "stream",
     "text": [
      "2022-04-07 19:47.00 [info     ] FQE_20220407194534: epoch=43 step=37754 epoch=43 metrics={'time_sample_batch': 0.00012244966415718097, 'time_algorithm_update': 0.0016038765396778568, 'loss': 0.014161791607441236, 'time_step': 0.0017791763796621684, 'init_value': -1.2249411344528198, 'ave_value': -1.2239944430080538, 'soft_opc': nan} step=37754\n"
     ]
    },
    {
     "name": "stderr",
     "output_type": "stream",
     "text": [
      "WARNING:root:NaN or Inf found in input tensor.\n"
     ]
    },
    {
     "name": "stdout",
     "output_type": "stream",
     "text": [
      "2022-04-07 19:47.00 [info     ] Model parameters are saved to d3rlpy_logs/FQE_20220407194534/model_37754.pt\n"
     ]
    },
    {
     "data": {
      "application/vnd.jupyter.widget-view+json": {
       "model_id": "07caf7d0156841649ed4416ff50397bf",
       "version_major": 2,
       "version_minor": 0
      },
      "text/plain": [
       "Epoch 44/50:   0%|          | 0/878 [00:00<?, ?it/s]"
      ]
     },
     "metadata": {},
     "output_type": "display_data"
    },
    {
     "name": "stderr",
     "output_type": "stream",
     "text": [
      "WARNING:root:NaN or Inf found in input tensor.\n"
     ]
    },
    {
     "name": "stdout",
     "output_type": "stream",
     "text": [
      "2022-04-07 19:47.02 [info     ] FQE_20220407194534: epoch=44 step=38632 epoch=44 metrics={'time_sample_batch': 0.00011993893729798615, 'time_algorithm_update': 0.001603225097569355, 'loss': 0.014332774985007938, 'time_step': 0.0017732609920458262, 'init_value': -1.222414493560791, 'ave_value': -1.221536228323823, 'soft_opc': nan} step=38632\n"
     ]
    },
    {
     "name": "stderr",
     "output_type": "stream",
     "text": [
      "WARNING:root:NaN or Inf found in input tensor.\n"
     ]
    },
    {
     "name": "stdout",
     "output_type": "stream",
     "text": [
      "2022-04-07 19:47.02 [info     ] Model parameters are saved to d3rlpy_logs/FQE_20220407194534/model_38632.pt\n"
     ]
    },
    {
     "data": {
      "application/vnd.jupyter.widget-view+json": {
       "model_id": "fd80bf841bb04ae0935c542b8c6197ed",
       "version_major": 2,
       "version_minor": 0
      },
      "text/plain": [
       "Epoch 45/50:   0%|          | 0/878 [00:00<?, ?it/s]"
      ]
     },
     "metadata": {},
     "output_type": "display_data"
    },
    {
     "name": "stderr",
     "output_type": "stream",
     "text": [
      "WARNING:root:NaN or Inf found in input tensor.\n"
     ]
    },
    {
     "name": "stdout",
     "output_type": "stream",
     "text": [
      "2022-04-07 19:47.04 [info     ] FQE_20220407194534: epoch=45 step=39510 epoch=45 metrics={'time_sample_batch': 0.00011992237290923307, 'time_algorithm_update': 0.0015474557876586914, 'loss': 0.014686701407864102, 'time_step': 0.001721575482831186, 'init_value': -1.1837443113327026, 'ave_value': -1.1829041288982953, 'soft_opc': nan} step=39510\n"
     ]
    },
    {
     "name": "stderr",
     "output_type": "stream",
     "text": [
      "WARNING:root:NaN or Inf found in input tensor.\n"
     ]
    },
    {
     "name": "stdout",
     "output_type": "stream",
     "text": [
      "2022-04-07 19:47.04 [info     ] Model parameters are saved to d3rlpy_logs/FQE_20220407194534/model_39510.pt\n"
     ]
    },
    {
     "data": {
      "application/vnd.jupyter.widget-view+json": {
       "model_id": "cdbeace73b1e421f83f44fcd5478a89b",
       "version_major": 2,
       "version_minor": 0
      },
      "text/plain": [
       "Epoch 46/50:   0%|          | 0/878 [00:00<?, ?it/s]"
      ]
     },
     "metadata": {},
     "output_type": "display_data"
    },
    {
     "name": "stderr",
     "output_type": "stream",
     "text": [
      "WARNING:root:NaN or Inf found in input tensor.\n"
     ]
    },
    {
     "name": "stdout",
     "output_type": "stream",
     "text": [
      "2022-04-07 19:47.06 [info     ] FQE_20220407194534: epoch=46 step=40388 epoch=46 metrics={'time_sample_batch': 0.0001267593922539018, 'time_algorithm_update': 0.0016920756641987517, 'loss': 0.01385601655830548, 'time_step': 0.001873012284211526, 'init_value': -1.1505485773086548, 'ave_value': -1.1497782524628728, 'soft_opc': nan} step=40388\n"
     ]
    },
    {
     "name": "stderr",
     "output_type": "stream",
     "text": [
      "WARNING:root:NaN or Inf found in input tensor.\n"
     ]
    },
    {
     "name": "stdout",
     "output_type": "stream",
     "text": [
      "2022-04-07 19:47.06 [info     ] Model parameters are saved to d3rlpy_logs/FQE_20220407194534/model_40388.pt\n"
     ]
    },
    {
     "data": {
      "application/vnd.jupyter.widget-view+json": {
       "model_id": "c2c2b9001f7344ae9db8cd01eb36bf28",
       "version_major": 2,
       "version_minor": 0
      },
      "text/plain": [
       "Epoch 47/50:   0%|          | 0/878 [00:00<?, ?it/s]"
      ]
     },
     "metadata": {},
     "output_type": "display_data"
    },
    {
     "name": "stderr",
     "output_type": "stream",
     "text": [
      "WARNING:root:NaN or Inf found in input tensor.\n"
     ]
    },
    {
     "name": "stdout",
     "output_type": "stream",
     "text": [
      "2022-04-07 19:47.08 [info     ] FQE_20220407194534: epoch=47 step=41266 epoch=47 metrics={'time_sample_batch': 0.00013932823320184591, 'time_algorithm_update': 0.0018765453868683486, 'loss': 0.013917773804940366, 'time_step': 0.0020758372504510207, 'init_value': -1.1997215747833252, 'ave_value': -1.198894922365695, 'soft_opc': nan} step=41266\n"
     ]
    },
    {
     "name": "stderr",
     "output_type": "stream",
     "text": [
      "WARNING:root:NaN or Inf found in input tensor.\n"
     ]
    },
    {
     "name": "stdout",
     "output_type": "stream",
     "text": [
      "2022-04-07 19:47.08 [info     ] Model parameters are saved to d3rlpy_logs/FQE_20220407194534/model_41266.pt\n"
     ]
    },
    {
     "data": {
      "application/vnd.jupyter.widget-view+json": {
       "model_id": "2bcc97517e4a4212916f4ddd973f92bc",
       "version_major": 2,
       "version_minor": 0
      },
      "text/plain": [
       "Epoch 48/50:   0%|          | 0/878 [00:00<?, ?it/s]"
      ]
     },
     "metadata": {},
     "output_type": "display_data"
    },
    {
     "name": "stderr",
     "output_type": "stream",
     "text": [
      "WARNING:root:NaN or Inf found in input tensor.\n"
     ]
    },
    {
     "name": "stdout",
     "output_type": "stream",
     "text": [
      "2022-04-07 19:47.10 [info     ] FQE_20220407194534: epoch=48 step=42144 epoch=48 metrics={'time_sample_batch': 0.00013452428891609904, 'time_algorithm_update': 0.001918101093492095, 'loss': 0.014974607847378673, 'time_step': 0.002109478980913792, 'init_value': -1.2517588138580322, 'ave_value': -1.2508943391655127, 'soft_opc': nan} step=42144\n"
     ]
    },
    {
     "name": "stderr",
     "output_type": "stream",
     "text": [
      "WARNING:root:NaN or Inf found in input tensor.\n"
     ]
    },
    {
     "name": "stdout",
     "output_type": "stream",
     "text": [
      "2022-04-07 19:47.10 [info     ] Model parameters are saved to d3rlpy_logs/FQE_20220407194534/model_42144.pt\n"
     ]
    },
    {
     "data": {
      "application/vnd.jupyter.widget-view+json": {
       "model_id": "cee30cd1fd4842c9b03aff54fe6bdec4",
       "version_major": 2,
       "version_minor": 0
      },
      "text/plain": [
       "Epoch 49/50:   0%|          | 0/878 [00:00<?, ?it/s]"
      ]
     },
     "metadata": {},
     "output_type": "display_data"
    },
    {
     "name": "stderr",
     "output_type": "stream",
     "text": [
      "WARNING:root:NaN or Inf found in input tensor.\n"
     ]
    },
    {
     "name": "stdout",
     "output_type": "stream",
     "text": [
      "2022-04-07 19:47.12 [info     ] FQE_20220407194534: epoch=49 step=43022 epoch=49 metrics={'time_sample_batch': 0.0001245566000971001, 'time_algorithm_update': 0.0016602313056893665, 'loss': 0.015639378331149097, 'time_step': 0.0018412537346668286, 'init_value': -1.2574328184127808, 'ave_value': -1.256622122191225, 'soft_opc': nan} step=43022\n"
     ]
    },
    {
     "name": "stderr",
     "output_type": "stream",
     "text": [
      "WARNING:root:NaN or Inf found in input tensor.\n"
     ]
    },
    {
     "name": "stdout",
     "output_type": "stream",
     "text": [
      "2022-04-07 19:47.12 [info     ] Model parameters are saved to d3rlpy_logs/FQE_20220407194534/model_43022.pt\n"
     ]
    },
    {
     "data": {
      "application/vnd.jupyter.widget-view+json": {
       "model_id": "71809d52c5434ae2b4bde17ecaf260b0",
       "version_major": 2,
       "version_minor": 0
      },
      "text/plain": [
       "Epoch 50/50:   0%|          | 0/878 [00:00<?, ?it/s]"
      ]
     },
     "metadata": {},
     "output_type": "display_data"
    },
    {
     "name": "stderr",
     "output_type": "stream",
     "text": [
      "WARNING:root:NaN or Inf found in input tensor.\n"
     ]
    },
    {
     "name": "stdout",
     "output_type": "stream",
     "text": [
      "2022-04-07 19:47.14 [info     ] FQE_20220407194534: epoch=50 step=43900 epoch=50 metrics={'time_sample_batch': 0.00012273913363932478, 'time_algorithm_update': 0.001632396886995007, 'loss': 0.015797932613698454, 'time_step': 0.0018077195369572737, 'init_value': -1.2501708269119263, 'ave_value': -1.2492717514301808, 'soft_opc': nan} step=43900\n"
     ]
    },
    {
     "name": "stderr",
     "output_type": "stream",
     "text": [
      "WARNING:root:NaN or Inf found in input tensor.\n"
     ]
    },
    {
     "name": "stdout",
     "output_type": "stream",
     "text": [
      "2022-04-07 19:47.14 [info     ] Model parameters are saved to d3rlpy_logs/FQE_20220407194534/model_43900.pt\n"
     ]
    },
    {
     "data": {
      "text/plain": [
       "[(1,\n",
       "  {'time_sample_batch': 0.00015500764911973122,\n",
       "   'time_algorithm_update': 0.0021512693044536475,\n",
       "   'loss': 0.0008598907446906451,\n",
       "   'time_step': 0.0023798494512779567,\n",
       "   'init_value': -0.3687102198600769,\n",
       "   'ave_value': -0.36885178882223535,\n",
       "   'soft_opc': nan}),\n",
       " (2,\n",
       "  {'time_sample_batch': 0.0001387566260161867,\n",
       "   'time_algorithm_update': 0.0018661529979836153,\n",
       "   'loss': 0.0017972966269422025,\n",
       "   'time_step': 0.0020636958250423772,\n",
       "   'init_value': -0.4670436978340149,\n",
       "   'ave_value': -0.46696345135451456,\n",
       "   'soft_opc': nan}),\n",
       " (3,\n",
       "  {'time_sample_batch': 0.00015332378396140688,\n",
       "   'time_algorithm_update': 0.0021614496148528706,\n",
       "   'loss': 0.0028082218235471962,\n",
       "   'time_step': 0.0023881615158637183,\n",
       "   'init_value': -0.6038172245025635,\n",
       "   'ave_value': -0.603597512889957,\n",
       "   'soft_opc': nan}),\n",
       " (4,\n",
       "  {'time_sample_batch': 0.00014146884101398443,\n",
       "   'time_algorithm_update': 0.001892091201486783,\n",
       "   'loss': 0.004026786944634962,\n",
       "   'time_step': 0.0020962252975324836,\n",
       "   'init_value': -0.6947826147079468,\n",
       "   'ave_value': -0.6943413370377117,\n",
       "   'soft_opc': nan}),\n",
       " (5,\n",
       "  {'time_sample_batch': 0.00013859071058129938,\n",
       "   'time_algorithm_update': 0.0019121669691081471,\n",
       "   'loss': 0.005384607592049404,\n",
       "   'time_step': 0.0021173644446023233,\n",
       "   'init_value': -0.799199104309082,\n",
       "   'ave_value': -0.7987060819290123,\n",
       "   'soft_opc': nan}),\n",
       " (6,\n",
       "  {'time_sample_batch': 0.00014471926287257863,\n",
       "   'time_algorithm_update': 0.0019226383782736532,\n",
       "   'loss': 0.00646480936772785,\n",
       "   'time_step': 0.002136452051392992,\n",
       "   'init_value': -0.8538197875022888,\n",
       "   'ave_value': -0.8532566686317412,\n",
       "   'soft_opc': nan}),\n",
       " (7,\n",
       "  {'time_sample_batch': 0.00013866321372551363,\n",
       "   'time_algorithm_update': 0.0018176310154734549,\n",
       "   'loss': 0.007539895954599643,\n",
       "   'time_step': 0.0020237286704547857,\n",
       "   'init_value': -0.9249391555786133,\n",
       "   'ave_value': -0.9244862327936599,\n",
       "   'soft_opc': nan}),\n",
       " (8,\n",
       "  {'time_sample_batch': 0.0001402338436361326,\n",
       "   'time_algorithm_update': 0.0018686466173593438,\n",
       "   'loss': 0.008464527814796636,\n",
       "   'time_step': 0.0020743307057165612,\n",
       "   'init_value': -0.9299455285072327,\n",
       "   'ave_value': -0.9293143372175653,\n",
       "   'soft_opc': nan}),\n",
       " (9,\n",
       "  {'time_sample_batch': 0.0001518158814901643,\n",
       "   'time_algorithm_update': 0.0021846367720862454,\n",
       "   'loss': 0.008821962090347983,\n",
       "   'time_step': 0.0024111471849584906,\n",
       "   'init_value': -0.9726646542549133,\n",
       "   'ave_value': -0.9719792439458421,\n",
       "   'soft_opc': nan}),\n",
       " (10,\n",
       "  {'time_sample_batch': 0.00014454330018549684,\n",
       "   'time_algorithm_update': 0.0018852006873128625,\n",
       "   'loss': 0.009951402157921434,\n",
       "   'time_step': 0.0020987797435160923,\n",
       "   'init_value': -1.0245360136032104,\n",
       "   'ave_value': -1.02387508308131,\n",
       "   'soft_opc': nan}),\n",
       " (11,\n",
       "  {'time_sample_batch': 0.0001353967705728796,\n",
       "   'time_algorithm_update': 0.0018439740960853246,\n",
       "   'loss': 0.011305126708308777,\n",
       "   'time_step': 0.0020352946870147775,\n",
       "   'init_value': -1.0842629671096802,\n",
       "   'ave_value': -1.0835329852210238,\n",
       "   'soft_opc': nan}),\n",
       " (12,\n",
       "  {'time_sample_batch': 0.00013791944551576514,\n",
       "   'time_algorithm_update': 0.0018667039675701724,\n",
       "   'loss': 0.011853593341788267,\n",
       "   'time_step': 0.002060322935325953,\n",
       "   'init_value': -1.114078402519226,\n",
       "   'ave_value': -1.1132142047829812,\n",
       "   'soft_opc': nan}),\n",
       " (13,\n",
       "  {'time_sample_batch': 0.000142137119058596,\n",
       "   'time_algorithm_update': 0.0018660468229671817,\n",
       "   'loss': 0.01198998790077542,\n",
       "   'time_step': 0.002067867878629298,\n",
       "   'init_value': -1.1067391633987427,\n",
       "   'ave_value': -1.1058548577114655,\n",
       "   'soft_opc': nan}),\n",
       " (14,\n",
       "  {'time_sample_batch': 0.00014107455425219003,\n",
       "   'time_algorithm_update': 0.0019037476433165252,\n",
       "   'loss': 0.012680178666295451,\n",
       "   'time_step': 0.0021051497014073954,\n",
       "   'init_value': -1.1482951641082764,\n",
       "   'ave_value': -1.1472832891082194,\n",
       "   'soft_opc': nan}),\n",
       " (15,\n",
       "  {'time_sample_batch': 0.00013761721330786078,\n",
       "   'time_algorithm_update': 0.0019023771438077262,\n",
       "   'loss': 0.013298806494440173,\n",
       "   'time_step': 0.0020974274376801857,\n",
       "   'init_value': -1.158900499343872,\n",
       "   'ave_value': -1.1579638829388719,\n",
       "   'soft_opc': nan}),\n",
       " (16,\n",
       "  {'time_sample_batch': 0.00013663312568751445,\n",
       "   'time_algorithm_update': 0.001859648624150791,\n",
       "   'loss': 0.013820636291186522,\n",
       "   'time_step': 0.002055541801018161,\n",
       "   'init_value': -1.133089542388916,\n",
       "   'ave_value': -1.131977541294306,\n",
       "   'soft_opc': nan}),\n",
       " (17,\n",
       "  {'time_sample_batch': 0.00012852336388242543,\n",
       "   'time_algorithm_update': 0.0016702867043045496,\n",
       "   'loss': 0.013923142377594778,\n",
       "   'time_step': 0.0018544083032629756,\n",
       "   'init_value': -1.1906569004058838,\n",
       "   'ave_value': -1.1895094598857487,\n",
       "   'soft_opc': nan}),\n",
       " (18,\n",
       "  {'time_sample_batch': 0.00012638710082799265,\n",
       "   'time_algorithm_update': 0.0016507407255759272,\n",
       "   'loss': 0.014625608667886234,\n",
       "   'time_step': 0.0018286148345008797,\n",
       "   'init_value': -1.2275172472000122,\n",
       "   'ave_value': -1.2263318071812668,\n",
       "   'soft_opc': nan}),\n",
       " (19,\n",
       "  {'time_sample_batch': 0.0001334057853542319,\n",
       "   'time_algorithm_update': 0.001778106483077134,\n",
       "   'loss': 0.015376418721865535,\n",
       "   'time_step': 0.0019727453827043328,\n",
       "   'init_value': -1.2541077136993408,\n",
       "   'ave_value': -1.2529907390767532,\n",
       "   'soft_opc': nan}),\n",
       " (20,\n",
       "  {'time_sample_batch': 0.00012731090493517204,\n",
       "   'time_algorithm_update': 0.0016822225683642412,\n",
       "   'loss': 0.015405189241482938,\n",
       "   'time_step': 0.0018648517430507512,\n",
       "   'init_value': -1.2258505821228027,\n",
       "   'ave_value': -1.224869961066755,\n",
       "   'soft_opc': nan}),\n",
       " (21,\n",
       "  {'time_sample_batch': 0.0001292204259468374,\n",
       "   'time_algorithm_update': 0.0016824916717946394,\n",
       "   'loss': 0.01518524447646012,\n",
       "   'time_step': 0.0018689322851784952,\n",
       "   'init_value': -1.2478523254394531,\n",
       "   'ave_value': -1.2468143310938677,\n",
       "   'soft_opc': nan}),\n",
       " (22,\n",
       "  {'time_sample_batch': 0.00013190412847219132,\n",
       "   'time_algorithm_update': 0.001704399840978392,\n",
       "   'loss': 0.015791774910989455,\n",
       "   'time_step': 0.0018919337040199506,\n",
       "   'init_value': -1.2798423767089844,\n",
       "   'ave_value': -1.2787114192152518,\n",
       "   'soft_opc': nan}),\n",
       " (23,\n",
       "  {'time_sample_batch': 0.00012256534333109583,\n",
       "   'time_algorithm_update': 0.0015752551767440482,\n",
       "   'loss': 0.016143764134213808,\n",
       "   'time_step': 0.0017542798318189478,\n",
       "   'init_value': -1.3036279678344727,\n",
       "   'ave_value': -1.3024494032197367,\n",
       "   'soft_opc': nan}),\n",
       " (24,\n",
       "  {'time_sample_batch': 0.0001315926636541623,\n",
       "   'time_algorithm_update': 0.0017463997990775487,\n",
       "   'loss': 0.015413191768256554,\n",
       "   'time_step': 0.001933620839564295,\n",
       "   'init_value': -1.2606450319290161,\n",
       "   'ave_value': -1.259656531196706,\n",
       "   'soft_opc': nan}),\n",
       " (25,\n",
       "  {'time_sample_batch': 0.00013158071557047154,\n",
       "   'time_algorithm_update': 0.0017041752713144777,\n",
       "   'loss': 0.01612325943138953,\n",
       "   'time_step': 0.001893798962812489,\n",
       "   'init_value': -1.302064299583435,\n",
       "   'ave_value': -1.3011092287358985,\n",
       "   'soft_opc': nan}),\n",
       " (26,\n",
       "  {'time_sample_batch': 0.00012892987027526717,\n",
       "   'time_algorithm_update': 0.0017948734461582332,\n",
       "   'loss': 0.016046842463650145,\n",
       "   'time_step': 0.001980816584784784,\n",
       "   'init_value': -1.2567006349563599,\n",
       "   'ave_value': -1.255636820406209,\n",
       "   'soft_opc': nan}),\n",
       " (27,\n",
       "  {'time_sample_batch': 0.00013349838300283514,\n",
       "   'time_algorithm_update': 0.0017253730726133447,\n",
       "   'loss': 0.016259032489934374,\n",
       "   'time_step': 0.0019187248377702231,\n",
       "   'init_value': -1.3349992036819458,\n",
       "   'ave_value': -1.333977972623657,\n",
       "   'soft_opc': nan}),\n",
       " (28,\n",
       "  {'time_sample_batch': 0.00013244206378563119,\n",
       "   'time_algorithm_update': 0.0017551056073303918,\n",
       "   'loss': 0.018103349936926423,\n",
       "   'time_step': 0.0019431516086865124,\n",
       "   'init_value': -1.3442445993423462,\n",
       "   'ave_value': -1.3433268169683514,\n",
       "   'soft_opc': nan}),\n",
       " (29,\n",
       "  {'time_sample_batch': 0.00013330802830585314,\n",
       "   'time_algorithm_update': 0.0017351447042408727,\n",
       "   'loss': 0.017786253522612705,\n",
       "   'time_step': 0.0019271452497512712,\n",
       "   'init_value': -1.3210583925247192,\n",
       "   'ave_value': -1.320212381343541,\n",
       "   'soft_opc': nan}),\n",
       " (30,\n",
       "  {'time_sample_batch': 0.00013336885491373326,\n",
       "   'time_algorithm_update': 0.0017190215799422904,\n",
       "   'loss': 0.017222864022904245,\n",
       "   'time_step': 0.0019107315697811187,\n",
       "   'init_value': -1.3382995128631592,\n",
       "   'ave_value': -1.3375704140206763,\n",
       "   'soft_opc': nan}),\n",
       " (31,\n",
       "  {'time_sample_batch': 0.00012889728459247423,\n",
       "   'time_algorithm_update': 0.0016197552713554922,\n",
       "   'loss': 0.016068026283147636,\n",
       "   'time_step': 0.0018046562112273823,\n",
       "   'init_value': -1.2550493478775024,\n",
       "   'ave_value': -1.2542832214644288,\n",
       "   'soft_opc': nan}),\n",
       " (32,\n",
       "  {'time_sample_batch': 0.0001344732380130568,\n",
       "   'time_algorithm_update': 0.0018349646978877943,\n",
       "   'loss': 0.01561450435236459,\n",
       "   'time_step': 0.002026320861520963,\n",
       "   'init_value': -1.2487380504608154,\n",
       "   'ave_value': -1.2478636050967304,\n",
       "   'soft_opc': nan}),\n",
       " (33,\n",
       "  {'time_sample_batch': 0.00012557653196851865,\n",
       "   'time_algorithm_update': 0.00163176906950653,\n",
       "   'loss': 0.01632706322407838,\n",
       "   'time_step': 0.0018116610468384346,\n",
       "   'init_value': -1.2552908658981323,\n",
       "   'ave_value': -1.254358465401986,\n",
       "   'soft_opc': nan}),\n",
       " (34,\n",
       "  {'time_sample_batch': 0.0001216999219055871,\n",
       "   'time_algorithm_update': 0.0015488127097996601,\n",
       "   'loss': 0.015654533272900277,\n",
       "   'time_step': 0.0017241174376363907,\n",
       "   'init_value': -1.2443311214447021,\n",
       "   'ave_value': -1.2434401816878353,\n",
       "   'soft_opc': nan}),\n",
       " (35,\n",
       "  {'time_sample_batch': 0.00012479311784470543,\n",
       "   'time_algorithm_update': 0.0016010923646305579,\n",
       "   'loss': 0.015312866015812028,\n",
       "   'time_step': 0.001781922538079542,\n",
       "   'init_value': -1.2515242099761963,\n",
       "   'ave_value': -1.2504565081918413,\n",
       "   'soft_opc': nan}),\n",
       " (36,\n",
       "  {'time_sample_batch': 0.00012445422674365903,\n",
       "   'time_algorithm_update': 0.0017029682433143563,\n",
       "   'loss': 0.01456209137092477,\n",
       "   'time_step': 0.001881215458307288,\n",
       "   'init_value': -1.2282742261886597,\n",
       "   'ave_value': -1.22722280742833,\n",
       "   'soft_opc': nan}),\n",
       " (37,\n",
       "  {'time_sample_batch': 0.00011863578153362578,\n",
       "   'time_algorithm_update': 0.0015296623755696151,\n",
       "   'loss': 0.015400217440799613,\n",
       "   'time_step': 0.0017016501524453826,\n",
       "   'init_value': -1.28080415725708,\n",
       "   'ave_value': -1.2796953822783803,\n",
       "   'soft_opc': nan}),\n",
       " (38,\n",
       "  {'time_sample_batch': 0.00012269106975720522,\n",
       "   'time_algorithm_update': 0.001561924373913463,\n",
       "   'loss': 0.016150363038562075,\n",
       "   'time_step': 0.0017368359011778257,\n",
       "   'init_value': -1.2737716436386108,\n",
       "   'ave_value': -1.2726497722394539,\n",
       "   'soft_opc': nan}),\n",
       " (39,\n",
       "  {'time_sample_batch': 0.00012484661267395716,\n",
       "   'time_algorithm_update': 0.0016125674128260863,\n",
       "   'loss': 0.016114571493919795,\n",
       "   'time_step': 0.0017927939365013313,\n",
       "   'init_value': -1.2449063062667847,\n",
       "   'ave_value': -1.2439748982283367,\n",
       "   'soft_opc': nan}),\n",
       " (40,\n",
       "  {'time_sample_batch': 0.00012045324799140113,\n",
       "   'time_algorithm_update': 0.0015667215295152948,\n",
       "   'loss': 0.01525798887912945,\n",
       "   'time_step': 0.0017397360269463958,\n",
       "   'init_value': -1.213791012763977,\n",
       "   'ave_value': -1.2126224225628024,\n",
       "   'soft_opc': nan}),\n",
       " (41,\n",
       "  {'time_sample_batch': 0.00012371941959667858,\n",
       "   'time_algorithm_update': 0.0015873181249666322,\n",
       "   'loss': 0.015171062889312909,\n",
       "   'time_step': 0.0017665434535380647,\n",
       "   'init_value': -1.2403626441955566,\n",
       "   'ave_value': -1.2392172092608893,\n",
       "   'soft_opc': nan}),\n",
       " (42,\n",
       "  {'time_sample_batch': 0.00012543451270101284,\n",
       "   'time_algorithm_update': 0.0017313101840182154,\n",
       "   'loss': 0.014984252791057216,\n",
       "   'time_step': 0.0019082550578888564,\n",
       "   'init_value': -1.1852749586105347,\n",
       "   'ave_value': -1.184285222115214,\n",
       "   'soft_opc': nan}),\n",
       " (43,\n",
       "  {'time_sample_batch': 0.00012244966415718097,\n",
       "   'time_algorithm_update': 0.0016038765396778568,\n",
       "   'loss': 0.014161791607441236,\n",
       "   'time_step': 0.0017791763796621684,\n",
       "   'init_value': -1.2249411344528198,\n",
       "   'ave_value': -1.2239944430080538,\n",
       "   'soft_opc': nan}),\n",
       " (44,\n",
       "  {'time_sample_batch': 0.00011993893729798615,\n",
       "   'time_algorithm_update': 0.001603225097569355,\n",
       "   'loss': 0.014332774985007938,\n",
       "   'time_step': 0.0017732609920458262,\n",
       "   'init_value': -1.222414493560791,\n",
       "   'ave_value': -1.221536228323823,\n",
       "   'soft_opc': nan}),\n",
       " (45,\n",
       "  {'time_sample_batch': 0.00011992237290923307,\n",
       "   'time_algorithm_update': 0.0015474557876586914,\n",
       "   'loss': 0.014686701407864102,\n",
       "   'time_step': 0.001721575482831186,\n",
       "   'init_value': -1.1837443113327026,\n",
       "   'ave_value': -1.1829041288982953,\n",
       "   'soft_opc': nan}),\n",
       " (46,\n",
       "  {'time_sample_batch': 0.0001267593922539018,\n",
       "   'time_algorithm_update': 0.0016920756641987517,\n",
       "   'loss': 0.01385601655830548,\n",
       "   'time_step': 0.001873012284211526,\n",
       "   'init_value': -1.1505485773086548,\n",
       "   'ave_value': -1.1497782524628728,\n",
       "   'soft_opc': nan}),\n",
       " (47,\n",
       "  {'time_sample_batch': 0.00013932823320184591,\n",
       "   'time_algorithm_update': 0.0018765453868683486,\n",
       "   'loss': 0.013917773804940366,\n",
       "   'time_step': 0.0020758372504510207,\n",
       "   'init_value': -1.1997215747833252,\n",
       "   'ave_value': -1.198894922365695,\n",
       "   'soft_opc': nan}),\n",
       " (48,\n",
       "  {'time_sample_batch': 0.00013452428891609904,\n",
       "   'time_algorithm_update': 0.001918101093492095,\n",
       "   'loss': 0.014974607847378673,\n",
       "   'time_step': 0.002109478980913792,\n",
       "   'init_value': -1.2517588138580322,\n",
       "   'ave_value': -1.2508943391655127,\n",
       "   'soft_opc': nan}),\n",
       " (49,\n",
       "  {'time_sample_batch': 0.0001245566000971001,\n",
       "   'time_algorithm_update': 0.0016602313056893665,\n",
       "   'loss': 0.015639378331149097,\n",
       "   'time_step': 0.0018412537346668286,\n",
       "   'init_value': -1.2574328184127808,\n",
       "   'ave_value': -1.256622122191225,\n",
       "   'soft_opc': nan}),\n",
       " (50,\n",
       "  {'time_sample_batch': 0.00012273913363932478,\n",
       "   'time_algorithm_update': 0.001632396886995007,\n",
       "   'loss': 0.015797932613698454,\n",
       "   'time_step': 0.0018077195369572737,\n",
       "   'init_value': -1.2501708269119263,\n",
       "   'ave_value': -1.2492717514301808,\n",
       "   'soft_opc': nan})]"
      ]
     },
     "execution_count": 10,
     "metadata": {},
     "output_type": "execute_result"
    }
   ],
   "source": [
    "from d3rlpy.ope import FQE\n",
    "# metrics to evaluate with\n",
    "from d3rlpy.metrics.scorer import soft_opc_scorer\n",
    "\n",
    "\n",
    "ope_dataset = get_dataset([2,4,6,8], path=\"collected_data/rl_det_small.txt\") #change if you'd prefer different chunks\n",
    "ope_train_episodes, ope_test_episodes = train_test_split(ope_dataset, test_size=0.2)\n",
    "\n",
    "fqe = FQE(algo=model, action_scaler = action_scaler, use_gpu=False) #change this if you have one!\n",
    "fqe.fit(ope_train_episodes, eval_episodes=ope_test_episodes,\n",
    "        tensorboard_dir='runs',\n",
    "        n_epochs=50, n_steps_per_epoch=1000, #change if overfitting/underfitting\n",
    "        scorers={\n",
    "           'init_value': initial_state_value_estimation_scorer,\n",
    "            'ave_value': average_value_estimation_scorer,\n",
    "           'soft_opc': soft_opc_scorer(return_threshold=0)\n",
    "        })"
   ]
  },
  {
   "cell_type": "code",
   "execution_count": 11,
   "id": "5d639afd-476b-4844-9921-f001f81abf34",
   "metadata": {},
   "outputs": [
    {
     "name": "stdout",
     "output_type": "stream",
     "text": [
      "[ 0.00000000e+00  7.95731469e+08  1.39310892e-01  1.82000047e-02\n",
      " -1.00013420e-04  0.00000000e+00 -5.33423489e+00 -1.57091618e+00\n",
      " -7.50230117e-02  3.69851546e-01 -6.00000000e-01]\n",
      "Read chunk # 3 out of 10000\n",
      "[ 0.00000000e+00  7.95731469e+08 -1.15389108e-01  1.64000047e-02\n",
      " -8.80001342e-03  0.00000000e+00 -5.33423489e+00 -1.57091618e+00\n",
      " -3.08831172e-01 -2.48178665e-01  6.00000000e-01]\n",
      "Read chunk # 5 out of 10000\n",
      "[ 0.00000000e+00  7.95731469e+08 -1.28589108e-01  1.20000047e-02\n",
      "  1.99998658e-03  0.00000000e+00 -5.33423489e+00 -1.57091618e+00\n",
      "  7.75212759e-03 -3.52719043e-01  6.00000000e-01]\n",
      "Read chunk # 7 out of 10000\n",
      "[ 0.00000000e+00  7.95731469e+08 -1.03989108e-01  7.00000469e-03\n",
      " -8.60001342e-03  0.00000000e+00 -5.33423489e+00 -1.57091618e+00\n",
      " -2.65974295e-01 -2.19295880e-01  6.00000000e-01]\n",
      "Read chunk # 9 out of 10000\n",
      "torch.Size([111080, 6])\n",
      "2022-04-07 19:47.15 [debug    ] RoundIterator is selected.\n",
      "2022-04-07 19:47.15 [info     ] Directory is created at d3rlpy_logs/FQE_20220407194715\n",
      "2022-04-07 19:47.15 [debug    ] Fitting action scaler...       action_scaler=min_max\n",
      "2022-04-07 19:47.15 [debug    ] Building models...\n",
      "2022-04-07 19:47.15 [debug    ] Models have been built.\n",
      "2022-04-07 19:47.15 [info     ] Parameters are saved to d3rlpy_logs/FQE_20220407194715/params.json params={'action_scaler': {'type': 'min_max', 'params': {'minimum': array(-0.6), 'maximum': array(0.6)}}, 'batch_size': 100, 'encoder_factory': {'type': 'default', 'params': {'activation': 'relu', 'use_batch_norm': False, 'dropout_rate': None}}, 'gamma': 0.99, 'generated_maxlen': 100000, 'learning_rate': 0.0001, 'n_critics': 1, 'n_frames': 1, 'n_steps': 1, 'optim_factory': {'optim_cls': 'Adam', 'betas': (0.9, 0.999), 'eps': 1e-08, 'weight_decay': 0, 'amsgrad': False}, 'q_func_factory': {'type': 'mean', 'params': {'bootstrap': False, 'share_encoder': False}}, 'real_ratio': 1.0, 'reward_scaler': None, 'scaler': None, 'target_update_interval': 100, 'use_gpu': None, 'algorithm': 'FQE', 'observation_shape': (6,), 'action_size': 3}\n"
     ]
    },
    {
     "data": {
      "application/vnd.jupyter.widget-view+json": {
       "model_id": "575df4d25b2a41dd8edf417e1f547b2c",
       "version_major": 2,
       "version_minor": 0
      },
      "text/plain": [
       "Epoch 1/50:   0%|          | 0/878 [00:00<?, ?it/s]"
      ]
     },
     "metadata": {},
     "output_type": "display_data"
    },
    {
     "name": "stderr",
     "output_type": "stream",
     "text": [
      "WARNING:root:NaN or Inf found in input tensor.\n"
     ]
    },
    {
     "name": "stdout",
     "output_type": "stream",
     "text": [
      "2022-04-07 19:47.17 [info     ] FQE_20220407194715: epoch=1 step=878 epoch=1 metrics={'time_sample_batch': 0.00012011843010070384, 'time_algorithm_update': 0.0016416873367066263, 'loss': 0.0005790919066507191, 'time_step': 0.0018213905886256885, 'init_value': -0.2699924111366272, 'ave_value': -0.2707972494631286, 'soft_opc': nan} step=878\n"
     ]
    },
    {
     "name": "stderr",
     "output_type": "stream",
     "text": [
      "WARNING:root:NaN or Inf found in input tensor.\n"
     ]
    },
    {
     "name": "stdout",
     "output_type": "stream",
     "text": [
      "2022-04-07 19:47.17 [info     ] Model parameters are saved to d3rlpy_logs/FQE_20220407194715/model_878.pt\n"
     ]
    },
    {
     "data": {
      "application/vnd.jupyter.widget-view+json": {
       "model_id": "8b05c9189aaa47f48b427444394e87d1",
       "version_major": 2,
       "version_minor": 0
      },
      "text/plain": [
       "Epoch 2/50:   0%|          | 0/878 [00:00<?, ?it/s]"
      ]
     },
     "metadata": {},
     "output_type": "display_data"
    },
    {
     "name": "stderr",
     "output_type": "stream",
     "text": [
      "WARNING:root:NaN or Inf found in input tensor.\n"
     ]
    },
    {
     "name": "stdout",
     "output_type": "stream",
     "text": [
      "2022-04-07 19:47.19 [info     ] FQE_20220407194715: epoch=2 step=1756 epoch=2 metrics={'time_sample_batch': 0.00012525257597208566, 'time_algorithm_update': 0.0017642578394374978, 'loss': 0.0016421610482464442, 'time_step': 0.0019463102475385731, 'init_value': -0.4241451919078827, 'ave_value': -0.42590119195731213, 'soft_opc': nan} step=1756\n"
     ]
    },
    {
     "name": "stderr",
     "output_type": "stream",
     "text": [
      "WARNING:root:NaN or Inf found in input tensor.\n"
     ]
    },
    {
     "name": "stdout",
     "output_type": "stream",
     "text": [
      "2022-04-07 19:47.19 [info     ] Model parameters are saved to d3rlpy_logs/FQE_20220407194715/model_1756.pt\n"
     ]
    },
    {
     "data": {
      "application/vnd.jupyter.widget-view+json": {
       "model_id": "3a295ac928db4a88940bf49e76f3380e",
       "version_major": 2,
       "version_minor": 0
      },
      "text/plain": [
       "Epoch 3/50:   0%|          | 0/878 [00:00<?, ?it/s]"
      ]
     },
     "metadata": {},
     "output_type": "display_data"
    },
    {
     "name": "stderr",
     "output_type": "stream",
     "text": [
      "WARNING:root:NaN or Inf found in input tensor.\n"
     ]
    },
    {
     "name": "stdout",
     "output_type": "stream",
     "text": [
      "2022-04-07 19:47.21 [info     ] FQE_20220407194715: epoch=3 step=2634 epoch=3 metrics={'time_sample_batch': 0.00012309458912912425, 'time_algorithm_update': 0.0017062292555198582, 'loss': 0.0032858520809319765, 'time_step': 0.0018910036543235691, 'init_value': -0.5432124137878418, 'ave_value': -0.5457452573710693, 'soft_opc': nan} step=2634\n"
     ]
    },
    {
     "name": "stderr",
     "output_type": "stream",
     "text": [
      "WARNING:root:NaN or Inf found in input tensor.\n"
     ]
    },
    {
     "name": "stdout",
     "output_type": "stream",
     "text": [
      "2022-04-07 19:47.21 [info     ] Model parameters are saved to d3rlpy_logs/FQE_20220407194715/model_2634.pt\n"
     ]
    },
    {
     "data": {
      "application/vnd.jupyter.widget-view+json": {
       "model_id": "03439f80f9bf4c22aa0eeb1846626314",
       "version_major": 2,
       "version_minor": 0
      },
      "text/plain": [
       "Epoch 4/50:   0%|          | 0/878 [00:00<?, ?it/s]"
      ]
     },
     "metadata": {},
     "output_type": "display_data"
    },
    {
     "name": "stderr",
     "output_type": "stream",
     "text": [
      "WARNING:root:NaN or Inf found in input tensor.\n"
     ]
    },
    {
     "name": "stdout",
     "output_type": "stream",
     "text": [
      "2022-04-07 19:47.23 [info     ] FQE_20220407194715: epoch=4 step=3512 epoch=4 metrics={'time_sample_batch': 0.00012767043363532063, 'time_algorithm_update': 0.0018168163734036318, 'loss': 0.005045686625876784, 'time_step': 0.0020041721013792555, 'init_value': -0.645917534828186, 'ave_value': -0.6488111254041943, 'soft_opc': nan} step=3512\n"
     ]
    },
    {
     "name": "stderr",
     "output_type": "stream",
     "text": [
      "WARNING:root:NaN or Inf found in input tensor.\n"
     ]
    },
    {
     "name": "stdout",
     "output_type": "stream",
     "text": [
      "2022-04-07 19:47.23 [info     ] Model parameters are saved to d3rlpy_logs/FQE_20220407194715/model_3512.pt\n"
     ]
    },
    {
     "data": {
      "application/vnd.jupyter.widget-view+json": {
       "model_id": "8b7dab4b953f4ea3a0710c7396e2c97f",
       "version_major": 2,
       "version_minor": 0
      },
      "text/plain": [
       "Epoch 5/50:   0%|          | 0/878 [00:00<?, ?it/s]"
      ]
     },
     "metadata": {},
     "output_type": "display_data"
    },
    {
     "name": "stderr",
     "output_type": "stream",
     "text": [
      "WARNING:root:NaN or Inf found in input tensor.\n"
     ]
    },
    {
     "name": "stdout",
     "output_type": "stream",
     "text": [
      "2022-04-07 19:47.26 [info     ] FQE_20220407194715: epoch=5 step=4390 epoch=5 metrics={'time_sample_batch': 0.00015785726707997247, 'time_algorithm_update': 0.002833164634357009, 'loss': 0.007545049979664973, 'time_step': 0.0030690016127393025, 'init_value': -0.8148442506790161, 'ave_value': -0.8183561642084529, 'soft_opc': nan} step=4390\n"
     ]
    },
    {
     "name": "stderr",
     "output_type": "stream",
     "text": [
      "WARNING:root:NaN or Inf found in input tensor.\n"
     ]
    },
    {
     "name": "stdout",
     "output_type": "stream",
     "text": [
      "2022-04-07 19:47.26 [info     ] Model parameters are saved to d3rlpy_logs/FQE_20220407194715/model_4390.pt\n"
     ]
    },
    {
     "data": {
      "application/vnd.jupyter.widget-view+json": {
       "model_id": "435bb569909e4f2c9d0ae8b909778587",
       "version_major": 2,
       "version_minor": 0
      },
      "text/plain": [
       "Epoch 6/50:   0%|          | 0/878 [00:00<?, ?it/s]"
      ]
     },
     "metadata": {},
     "output_type": "display_data"
    },
    {
     "name": "stderr",
     "output_type": "stream",
     "text": [
      "WARNING:root:NaN or Inf found in input tensor.\n"
     ]
    },
    {
     "name": "stdout",
     "output_type": "stream",
     "text": [
      "2022-04-07 19:47.28 [info     ] FQE_20220407194715: epoch=6 step=5268 epoch=6 metrics={'time_sample_batch': 0.00015903170939730077, 'time_algorithm_update': 0.0024048516310428976, 'loss': 0.009360201107241195, 'time_step': 0.002639558972421703, 'init_value': -0.8830693960189819, 'ave_value': -0.8871849077280953, 'soft_opc': nan} step=5268\n"
     ]
    },
    {
     "name": "stderr",
     "output_type": "stream",
     "text": [
      "WARNING:root:NaN or Inf found in input tensor.\n"
     ]
    },
    {
     "name": "stdout",
     "output_type": "stream",
     "text": [
      "2022-04-07 19:47.28 [info     ] Model parameters are saved to d3rlpy_logs/FQE_20220407194715/model_5268.pt\n"
     ]
    },
    {
     "data": {
      "application/vnd.jupyter.widget-view+json": {
       "model_id": "e40583fbf3f4486a89014a9ae2726d41",
       "version_major": 2,
       "version_minor": 0
      },
      "text/plain": [
       "Epoch 7/50:   0%|          | 0/878 [00:00<?, ?it/s]"
      ]
     },
     "metadata": {},
     "output_type": "display_data"
    },
    {
     "name": "stderr",
     "output_type": "stream",
     "text": [
      "WARNING:root:NaN or Inf found in input tensor.\n"
     ]
    },
    {
     "name": "stdout",
     "output_type": "stream",
     "text": [
      "2022-04-07 19:47.31 [info     ] FQE_20220407194715: epoch=7 step=6146 epoch=7 metrics={'time_sample_batch': 0.0001454030191165168, 'time_algorithm_update': 0.00228766727013034, 'loss': 0.010717078875546196, 'time_step': 0.002498147156352606, 'init_value': -0.9017384648323059, 'ave_value': -0.9060965530297924, 'soft_opc': nan} step=6146\n"
     ]
    },
    {
     "name": "stderr",
     "output_type": "stream",
     "text": [
      "WARNING:root:NaN or Inf found in input tensor.\n"
     ]
    },
    {
     "name": "stdout",
     "output_type": "stream",
     "text": [
      "2022-04-07 19:47.31 [info     ] Model parameters are saved to d3rlpy_logs/FQE_20220407194715/model_6146.pt\n"
     ]
    },
    {
     "data": {
      "application/vnd.jupyter.widget-view+json": {
       "model_id": "a7a9ef46ad4c4a17a417ef0c1561748e",
       "version_major": 2,
       "version_minor": 0
      },
      "text/plain": [
       "Epoch 8/50:   0%|          | 0/878 [00:00<?, ?it/s]"
      ]
     },
     "metadata": {},
     "output_type": "display_data"
    },
    {
     "name": "stderr",
     "output_type": "stream",
     "text": [
      "WARNING:root:NaN or Inf found in input tensor.\n"
     ]
    },
    {
     "name": "stdout",
     "output_type": "stream",
     "text": [
      "2022-04-07 19:47.33 [info     ] FQE_20220407194715: epoch=8 step=7024 epoch=8 metrics={'time_sample_batch': 0.0001450326285221039, 'time_algorithm_update': 0.002096773823192831, 'loss': 0.011176214950371886, 'time_step': 0.002306412455704326, 'init_value': -0.8924575448036194, 'ave_value': -0.897269057460511, 'soft_opc': nan} step=7024\n"
     ]
    },
    {
     "name": "stderr",
     "output_type": "stream",
     "text": [
      "WARNING:root:NaN or Inf found in input tensor.\n"
     ]
    },
    {
     "name": "stdout",
     "output_type": "stream",
     "text": [
      "2022-04-07 19:47.33 [info     ] Model parameters are saved to d3rlpy_logs/FQE_20220407194715/model_7024.pt\n"
     ]
    },
    {
     "data": {
      "application/vnd.jupyter.widget-view+json": {
       "model_id": "50f9419c39c64dca86cda72675c1b7ae",
       "version_major": 2,
       "version_minor": 0
      },
      "text/plain": [
       "Epoch 9/50:   0%|          | 0/878 [00:00<?, ?it/s]"
      ]
     },
     "metadata": {},
     "output_type": "display_data"
    },
    {
     "name": "stderr",
     "output_type": "stream",
     "text": [
      "WARNING:root:NaN or Inf found in input tensor.\n"
     ]
    },
    {
     "name": "stdout",
     "output_type": "stream",
     "text": [
      "2022-04-07 19:47.36 [info     ] FQE_20220407194715: epoch=9 step=7902 epoch=9 metrics={'time_sample_batch': 0.00013731986895237534, 'time_algorithm_update': 0.001997587621076232, 'loss': 0.011962102437758908, 'time_step': 0.0021917228003569236, 'init_value': -0.9497050046920776, 'ave_value': -0.9546935201088101, 'soft_opc': nan} step=7902\n"
     ]
    },
    {
     "name": "stderr",
     "output_type": "stream",
     "text": [
      "WARNING:root:NaN or Inf found in input tensor.\n"
     ]
    },
    {
     "name": "stdout",
     "output_type": "stream",
     "text": [
      "2022-04-07 19:47.36 [info     ] Model parameters are saved to d3rlpy_logs/FQE_20220407194715/model_7902.pt\n"
     ]
    },
    {
     "data": {
      "application/vnd.jupyter.widget-view+json": {
       "model_id": "6fcf6c5291e04c109ecccc97fa167459",
       "version_major": 2,
       "version_minor": 0
      },
      "text/plain": [
       "Epoch 10/50:   0%|          | 0/878 [00:00<?, ?it/s]"
      ]
     },
     "metadata": {},
     "output_type": "display_data"
    },
    {
     "name": "stderr",
     "output_type": "stream",
     "text": [
      "WARNING:root:NaN or Inf found in input tensor.\n"
     ]
    },
    {
     "name": "stdout",
     "output_type": "stream",
     "text": [
      "2022-04-07 19:47.38 [info     ] FQE_20220407194715: epoch=10 step=8780 epoch=10 metrics={'time_sample_batch': 0.0001455675768146211, 'time_algorithm_update': 0.0021242459977134755, 'loss': 0.01332029815141787, 'time_step': 0.0023323150865037783, 'init_value': -1.008182406425476, 'ave_value': -1.0130127867791847, 'soft_opc': nan} step=8780\n"
     ]
    },
    {
     "name": "stderr",
     "output_type": "stream",
     "text": [
      "WARNING:root:NaN or Inf found in input tensor.\n"
     ]
    },
    {
     "name": "stdout",
     "output_type": "stream",
     "text": [
      "2022-04-07 19:47.38 [info     ] Model parameters are saved to d3rlpy_logs/FQE_20220407194715/model_8780.pt\n"
     ]
    },
    {
     "data": {
      "application/vnd.jupyter.widget-view+json": {
       "model_id": "9bc78ae7d79a494e93f2b0d901505653",
       "version_major": 2,
       "version_minor": 0
      },
      "text/plain": [
       "Epoch 11/50:   0%|          | 0/878 [00:00<?, ?it/s]"
      ]
     },
     "metadata": {},
     "output_type": "display_data"
    },
    {
     "name": "stderr",
     "output_type": "stream",
     "text": [
      "WARNING:root:NaN or Inf found in input tensor.\n"
     ]
    },
    {
     "name": "stdout",
     "output_type": "stream",
     "text": [
      "2022-04-07 19:47.40 [info     ] FQE_20220407194715: epoch=11 step=9658 epoch=11 metrics={'time_sample_batch': 0.00014378812698677082, 'time_algorithm_update': 0.002144754340273916, 'loss': 0.014207990951143484, 'time_step': 0.0023525714331172863, 'init_value': -1.0584899187088013, 'ave_value': -1.0635352596730356, 'soft_opc': nan} step=9658\n"
     ]
    },
    {
     "name": "stderr",
     "output_type": "stream",
     "text": [
      "WARNING:root:NaN or Inf found in input tensor.\n"
     ]
    },
    {
     "name": "stdout",
     "output_type": "stream",
     "text": [
      "2022-04-07 19:47.40 [info     ] Model parameters are saved to d3rlpy_logs/FQE_20220407194715/model_9658.pt\n"
     ]
    },
    {
     "data": {
      "application/vnd.jupyter.widget-view+json": {
       "model_id": "97d27e7f7f6b405b83f2dc70b486e92f",
       "version_major": 2,
       "version_minor": 0
      },
      "text/plain": [
       "Epoch 12/50:   0%|          | 0/878 [00:00<?, ?it/s]"
      ]
     },
     "metadata": {},
     "output_type": "display_data"
    },
    {
     "name": "stderr",
     "output_type": "stream",
     "text": [
      "WARNING:root:NaN or Inf found in input tensor.\n"
     ]
    },
    {
     "name": "stdout",
     "output_type": "stream",
     "text": [
      "2022-04-07 19:47.43 [info     ] FQE_20220407194715: epoch=12 step=10536 epoch=12 metrics={'time_sample_batch': 0.00014734974211603742, 'time_algorithm_update': 0.002325884302004595, 'loss': 0.015208486926656443, 'time_step': 0.0025395323312364026, 'init_value': -1.0359933376312256, 'ave_value': -1.0409320683622294, 'soft_opc': nan} step=10536\n"
     ]
    },
    {
     "name": "stderr",
     "output_type": "stream",
     "text": [
      "WARNING:root:NaN or Inf found in input tensor.\n"
     ]
    },
    {
     "name": "stdout",
     "output_type": "stream",
     "text": [
      "2022-04-07 19:47.43 [info     ] Model parameters are saved to d3rlpy_logs/FQE_20220407194715/model_10536.pt\n"
     ]
    },
    {
     "data": {
      "application/vnd.jupyter.widget-view+json": {
       "model_id": "174942c54f1e4db998c4a72c83b5f84e",
       "version_major": 2,
       "version_minor": 0
      },
      "text/plain": [
       "Epoch 13/50:   0%|          | 0/878 [00:00<?, ?it/s]"
      ]
     },
     "metadata": {},
     "output_type": "display_data"
    },
    {
     "name": "stderr",
     "output_type": "stream",
     "text": [
      "WARNING:root:NaN or Inf found in input tensor.\n"
     ]
    },
    {
     "name": "stdout",
     "output_type": "stream",
     "text": [
      "2022-04-07 19:47.45 [info     ] FQE_20220407194715: epoch=13 step=11414 epoch=13 metrics={'time_sample_batch': 0.00014770058130077456, 'time_algorithm_update': 0.0021604508636752675, 'loss': 0.01443603255323075, 'time_step': 0.002377889422457962, 'init_value': -1.020995855331421, 'ave_value': -1.0258524456917064, 'soft_opc': nan} step=11414\n"
     ]
    },
    {
     "name": "stderr",
     "output_type": "stream",
     "text": [
      "WARNING:root:NaN or Inf found in input tensor.\n"
     ]
    },
    {
     "name": "stdout",
     "output_type": "stream",
     "text": [
      "2022-04-07 19:47.45 [info     ] Model parameters are saved to d3rlpy_logs/FQE_20220407194715/model_11414.pt\n"
     ]
    },
    {
     "data": {
      "application/vnd.jupyter.widget-view+json": {
       "model_id": "7accaec74ea6492db1397c09c1ba791a",
       "version_major": 2,
       "version_minor": 0
      },
      "text/plain": [
       "Epoch 14/50:   0%|          | 0/878 [00:00<?, ?it/s]"
      ]
     },
     "metadata": {},
     "output_type": "display_data"
    },
    {
     "name": "stderr",
     "output_type": "stream",
     "text": [
      "WARNING:root:NaN or Inf found in input tensor.\n"
     ]
    },
    {
     "name": "stdout",
     "output_type": "stream",
     "text": [
      "2022-04-07 19:47.48 [info     ] FQE_20220407194715: epoch=14 step=12292 epoch=14 metrics={'time_sample_batch': 0.00014785509174668435, 'time_algorithm_update': 0.002195029160970979, 'loss': 0.014443122110794583, 'time_step': 0.002407412594163065, 'init_value': -1.0594441890716553, 'ave_value': -1.064514109598811, 'soft_opc': nan} step=12292\n"
     ]
    },
    {
     "name": "stderr",
     "output_type": "stream",
     "text": [
      "WARNING:root:NaN or Inf found in input tensor.\n"
     ]
    },
    {
     "name": "stdout",
     "output_type": "stream",
     "text": [
      "2022-04-07 19:47.48 [info     ] Model parameters are saved to d3rlpy_logs/FQE_20220407194715/model_12292.pt\n"
     ]
    },
    {
     "data": {
      "application/vnd.jupyter.widget-view+json": {
       "model_id": "79cad426198f4ecfa63e9bdb8becb584",
       "version_major": 2,
       "version_minor": 0
      },
      "text/plain": [
       "Epoch 15/50:   0%|          | 0/878 [00:00<?, ?it/s]"
      ]
     },
     "metadata": {},
     "output_type": "display_data"
    },
    {
     "name": "stderr",
     "output_type": "stream",
     "text": [
      "WARNING:root:NaN or Inf found in input tensor.\n"
     ]
    },
    {
     "name": "stdout",
     "output_type": "stream",
     "text": [
      "2022-04-07 19:47.50 [info     ] FQE_20220407194715: epoch=15 step=13170 epoch=15 metrics={'time_sample_batch': 0.00014573484998629143, 'time_algorithm_update': 0.0022322629198669574, 'loss': 0.015305571249153379, 'time_step': 0.00244148146861778, 'init_value': -1.0409061908721924, 'ave_value': -1.0464355908828666, 'soft_opc': nan} step=13170\n"
     ]
    },
    {
     "name": "stderr",
     "output_type": "stream",
     "text": [
      "WARNING:root:NaN or Inf found in input tensor.\n"
     ]
    },
    {
     "name": "stdout",
     "output_type": "stream",
     "text": [
      "2022-04-07 19:47.50 [info     ] Model parameters are saved to d3rlpy_logs/FQE_20220407194715/model_13170.pt\n"
     ]
    },
    {
     "data": {
      "application/vnd.jupyter.widget-view+json": {
       "model_id": "8b6aecf059c44f22afd1c9e617b496f2",
       "version_major": 2,
       "version_minor": 0
      },
      "text/plain": [
       "Epoch 16/50:   0%|          | 0/878 [00:00<?, ?it/s]"
      ]
     },
     "metadata": {},
     "output_type": "display_data"
    },
    {
     "name": "stderr",
     "output_type": "stream",
     "text": [
      "WARNING:root:NaN or Inf found in input tensor.\n"
     ]
    },
    {
     "name": "stdout",
     "output_type": "stream",
     "text": [
      "2022-04-07 19:47.53 [info     ] FQE_20220407194715: epoch=16 step=14048 epoch=16 metrics={'time_sample_batch': 0.0001493589210075778, 'time_algorithm_update': 0.0023780672859765404, 'loss': 0.01681168312680299, 'time_step': 0.002594751486202579, 'init_value': -1.12869393825531, 'ave_value': -1.1342145079527395, 'soft_opc': nan} step=14048\n"
     ]
    },
    {
     "name": "stderr",
     "output_type": "stream",
     "text": [
      "WARNING:root:NaN or Inf found in input tensor.\n"
     ]
    },
    {
     "name": "stdout",
     "output_type": "stream",
     "text": [
      "2022-04-07 19:47.53 [info     ] Model parameters are saved to d3rlpy_logs/FQE_20220407194715/model_14048.pt\n"
     ]
    },
    {
     "data": {
      "application/vnd.jupyter.widget-view+json": {
       "model_id": "81cd9e5154fe45a29f5bef40a46aae28",
       "version_major": 2,
       "version_minor": 0
      },
      "text/plain": [
       "Epoch 17/50:   0%|          | 0/878 [00:00<?, ?it/s]"
      ]
     },
     "metadata": {},
     "output_type": "display_data"
    },
    {
     "name": "stderr",
     "output_type": "stream",
     "text": [
      "WARNING:root:NaN or Inf found in input tensor.\n"
     ]
    },
    {
     "name": "stdout",
     "output_type": "stream",
     "text": [
      "2022-04-07 19:47.55 [info     ] FQE_20220407194715: epoch=17 step=14926 epoch=17 metrics={'time_sample_batch': 0.00014827327467586022, 'time_algorithm_update': 0.0022731500768987355, 'loss': 0.016017960015347204, 'time_step': 0.002488114296168021, 'init_value': -1.0459181070327759, 'ave_value': -1.0508810738109617, 'soft_opc': nan} step=14926\n"
     ]
    },
    {
     "name": "stderr",
     "output_type": "stream",
     "text": [
      "WARNING:root:NaN or Inf found in input tensor.\n"
     ]
    },
    {
     "name": "stdout",
     "output_type": "stream",
     "text": [
      "2022-04-07 19:47.55 [info     ] Model parameters are saved to d3rlpy_logs/FQE_20220407194715/model_14926.pt\n"
     ]
    },
    {
     "data": {
      "application/vnd.jupyter.widget-view+json": {
       "model_id": "d6cddae9f200479e84a8f67b01d7068f",
       "version_major": 2,
       "version_minor": 0
      },
      "text/plain": [
       "Epoch 18/50:   0%|          | 0/878 [00:00<?, ?it/s]"
      ]
     },
     "metadata": {},
     "output_type": "display_data"
    },
    {
     "name": "stderr",
     "output_type": "stream",
     "text": [
      "WARNING:root:NaN or Inf found in input tensor.\n"
     ]
    },
    {
     "name": "stdout",
     "output_type": "stream",
     "text": [
      "2022-04-07 19:47.58 [info     ] FQE_20220407194715: epoch=18 step=15804 epoch=18 metrics={'time_sample_batch': 0.00015380985372973467, 'time_algorithm_update': 0.002545580505510126, 'loss': 0.014640103658765214, 'time_step': 0.0027648460349080774, 'init_value': -1.007827639579773, 'ave_value': -1.0130277787755677, 'soft_opc': nan} step=15804\n"
     ]
    },
    {
     "name": "stderr",
     "output_type": "stream",
     "text": [
      "WARNING:root:NaN or Inf found in input tensor.\n"
     ]
    },
    {
     "name": "stdout",
     "output_type": "stream",
     "text": [
      "2022-04-07 19:47.58 [info     ] Model parameters are saved to d3rlpy_logs/FQE_20220407194715/model_15804.pt\n"
     ]
    },
    {
     "data": {
      "application/vnd.jupyter.widget-view+json": {
       "model_id": "49ea4535edd146409465306e4837cb02",
       "version_major": 2,
       "version_minor": 0
      },
      "text/plain": [
       "Epoch 19/50:   0%|          | 0/878 [00:00<?, ?it/s]"
      ]
     },
     "metadata": {},
     "output_type": "display_data"
    },
    {
     "name": "stderr",
     "output_type": "stream",
     "text": [
      "WARNING:root:NaN or Inf found in input tensor.\n"
     ]
    },
    {
     "name": "stdout",
     "output_type": "stream",
     "text": [
      "2022-04-07 19:48.01 [info     ] FQE_20220407194715: epoch=19 step=16682 epoch=19 metrics={'time_sample_batch': 0.000151643720466075, 'time_algorithm_update': 0.0022945355174210187, 'loss': 0.014279734284115164, 'time_step': 0.0025149388302431563, 'init_value': -1.009173035621643, 'ave_value': -1.0146043368637947, 'soft_opc': nan} step=16682\n"
     ]
    },
    {
     "name": "stderr",
     "output_type": "stream",
     "text": [
      "WARNING:root:NaN or Inf found in input tensor.\n"
     ]
    },
    {
     "name": "stdout",
     "output_type": "stream",
     "text": [
      "2022-04-07 19:48.01 [info     ] Model parameters are saved to d3rlpy_logs/FQE_20220407194715/model_16682.pt\n"
     ]
    },
    {
     "data": {
      "application/vnd.jupyter.widget-view+json": {
       "model_id": "0ca5856d81bf4cbd80a5ee9a3731c56e",
       "version_major": 2,
       "version_minor": 0
      },
      "text/plain": [
       "Epoch 20/50:   0%|          | 0/878 [00:00<?, ?it/s]"
      ]
     },
     "metadata": {},
     "output_type": "display_data"
    },
    {
     "name": "stderr",
     "output_type": "stream",
     "text": [
      "WARNING:root:NaN or Inf found in input tensor.\n"
     ]
    },
    {
     "name": "stdout",
     "output_type": "stream",
     "text": [
      "2022-04-07 19:48.03 [info     ] FQE_20220407194715: epoch=20 step=17560 epoch=20 metrics={'time_sample_batch': 0.00015054096665089115, 'time_algorithm_update': 0.002382355561832089, 'loss': 0.014088582257674119, 'time_step': 0.002599793577520071, 'init_value': -0.9771550893783569, 'ave_value': -0.9827193153878078, 'soft_opc': nan} step=17560\n"
     ]
    },
    {
     "name": "stderr",
     "output_type": "stream",
     "text": [
      "WARNING:root:NaN or Inf found in input tensor.\n"
     ]
    },
    {
     "name": "stdout",
     "output_type": "stream",
     "text": [
      "2022-04-07 19:48.03 [info     ] Model parameters are saved to d3rlpy_logs/FQE_20220407194715/model_17560.pt\n"
     ]
    },
    {
     "data": {
      "application/vnd.jupyter.widget-view+json": {
       "model_id": "4a74fbb99106433dbf00e7221a691d52",
       "version_major": 2,
       "version_minor": 0
      },
      "text/plain": [
       "Epoch 21/50:   0%|          | 0/878 [00:00<?, ?it/s]"
      ]
     },
     "metadata": {},
     "output_type": "display_data"
    },
    {
     "name": "stderr",
     "output_type": "stream",
     "text": [
      "WARNING:root:NaN or Inf found in input tensor.\n"
     ]
    },
    {
     "name": "stdout",
     "output_type": "stream",
     "text": [
      "2022-04-07 19:48.06 [info     ] FQE_20220407194715: epoch=21 step=18438 epoch=21 metrics={'time_sample_batch': 0.00014404745471233117, 'time_algorithm_update': 0.0020987789288740223, 'loss': 0.014034033349062757, 'time_step': 0.002307251537036244, 'init_value': -0.9603726267814636, 'ave_value': -0.9662785915602278, 'soft_opc': nan} step=18438\n"
     ]
    },
    {
     "name": "stderr",
     "output_type": "stream",
     "text": [
      "WARNING:root:NaN or Inf found in input tensor.\n"
     ]
    },
    {
     "name": "stdout",
     "output_type": "stream",
     "text": [
      "2022-04-07 19:48.06 [info     ] Model parameters are saved to d3rlpy_logs/FQE_20220407194715/model_18438.pt\n"
     ]
    },
    {
     "data": {
      "application/vnd.jupyter.widget-view+json": {
       "model_id": "cbf99c3463654bc184d0935ab90e9068",
       "version_major": 2,
       "version_minor": 0
      },
      "text/plain": [
       "Epoch 22/50:   0%|          | 0/878 [00:00<?, ?it/s]"
      ]
     },
     "metadata": {},
     "output_type": "display_data"
    },
    {
     "name": "stderr",
     "output_type": "stream",
     "text": [
      "WARNING:root:NaN or Inf found in input tensor.\n"
     ]
    },
    {
     "name": "stdout",
     "output_type": "stream",
     "text": [
      "2022-04-07 19:48.08 [info     ] FQE_20220407194715: epoch=22 step=19316 epoch=22 metrics={'time_sample_batch': 0.00013832866738217294, 'time_algorithm_update': 0.002045743014654972, 'loss': 0.013661034672129844, 'time_step': 0.0022463421072123533, 'init_value': -0.9445369839668274, 'ave_value': -0.9499523526825119, 'soft_opc': nan} step=19316\n"
     ]
    },
    {
     "name": "stderr",
     "output_type": "stream",
     "text": [
      "WARNING:root:NaN or Inf found in input tensor.\n"
     ]
    },
    {
     "name": "stdout",
     "output_type": "stream",
     "text": [
      "2022-04-07 19:48.08 [info     ] Model parameters are saved to d3rlpy_logs/FQE_20220407194715/model_19316.pt\n"
     ]
    },
    {
     "data": {
      "application/vnd.jupyter.widget-view+json": {
       "model_id": "be55005dd5d94e1cba84d6f3e69da703",
       "version_major": 2,
       "version_minor": 0
      },
      "text/plain": [
       "Epoch 23/50:   0%|          | 0/878 [00:00<?, ?it/s]"
      ]
     },
     "metadata": {},
     "output_type": "display_data"
    },
    {
     "name": "stderr",
     "output_type": "stream",
     "text": [
      "WARNING:root:NaN or Inf found in input tensor.\n"
     ]
    },
    {
     "name": "stdout",
     "output_type": "stream",
     "text": [
      "2022-04-07 19:48.10 [info     ] FQE_20220407194715: epoch=23 step=20194 epoch=23 metrics={'time_sample_batch': 0.00014723840769982827, 'time_algorithm_update': 0.002157996075571534, 'loss': 0.013897523014843304, 'time_step': 0.002371572687848554, 'init_value': -1.0299580097198486, 'ave_value': -1.035299172183604, 'soft_opc': nan} step=20194\n"
     ]
    },
    {
     "name": "stderr",
     "output_type": "stream",
     "text": [
      "WARNING:root:NaN or Inf found in input tensor.\n"
     ]
    },
    {
     "name": "stdout",
     "output_type": "stream",
     "text": [
      "2022-04-07 19:48.10 [info     ] Model parameters are saved to d3rlpy_logs/FQE_20220407194715/model_20194.pt\n"
     ]
    },
    {
     "data": {
      "application/vnd.jupyter.widget-view+json": {
       "model_id": "2bce10f8f6a24c32bdc323213ebc3a64",
       "version_major": 2,
       "version_minor": 0
      },
      "text/plain": [
       "Epoch 24/50:   0%|          | 0/878 [00:00<?, ?it/s]"
      ]
     },
     "metadata": {},
     "output_type": "display_data"
    },
    {
     "name": "stderr",
     "output_type": "stream",
     "text": [
      "WARNING:root:NaN or Inf found in input tensor.\n"
     ]
    },
    {
     "name": "stdout",
     "output_type": "stream",
     "text": [
      "2022-04-07 19:48.13 [info     ] FQE_20220407194715: epoch=24 step=21072 epoch=24 metrics={'time_sample_batch': 0.00014270438148654947, 'time_algorithm_update': 0.002012543363288758, 'loss': 0.01388622367626951, 'time_step': 0.0022169541660908413, 'init_value': -1.0207420587539673, 'ave_value': -1.0257451268727242, 'soft_opc': nan} step=21072\n"
     ]
    },
    {
     "name": "stderr",
     "output_type": "stream",
     "text": [
      "WARNING:root:NaN or Inf found in input tensor.\n"
     ]
    },
    {
     "name": "stdout",
     "output_type": "stream",
     "text": [
      "2022-04-07 19:48.13 [info     ] Model parameters are saved to d3rlpy_logs/FQE_20220407194715/model_21072.pt\n"
     ]
    },
    {
     "data": {
      "application/vnd.jupyter.widget-view+json": {
       "model_id": "ac207e636c2541ebb3f00ff40951b84c",
       "version_major": 2,
       "version_minor": 0
      },
      "text/plain": [
       "Epoch 25/50:   0%|          | 0/878 [00:00<?, ?it/s]"
      ]
     },
     "metadata": {},
     "output_type": "display_data"
    },
    {
     "name": "stderr",
     "output_type": "stream",
     "text": [
      "WARNING:root:NaN or Inf found in input tensor.\n"
     ]
    },
    {
     "name": "stdout",
     "output_type": "stream",
     "text": [
      "2022-04-07 19:48.15 [info     ] FQE_20220407194715: epoch=25 step=21950 epoch=25 metrics={'time_sample_batch': 0.0001462627380475368, 'time_algorithm_update': 0.002234361709386178, 'loss': 0.013774900815060019, 'time_step': 0.0024449097539949527, 'init_value': -0.9885272979736328, 'ave_value': -0.9936396478837171, 'soft_opc': nan} step=21950\n"
     ]
    },
    {
     "name": "stderr",
     "output_type": "stream",
     "text": [
      "WARNING:root:NaN or Inf found in input tensor.\n"
     ]
    },
    {
     "name": "stdout",
     "output_type": "stream",
     "text": [
      "2022-04-07 19:48.15 [info     ] Model parameters are saved to d3rlpy_logs/FQE_20220407194715/model_21950.pt\n"
     ]
    },
    {
     "data": {
      "application/vnd.jupyter.widget-view+json": {
       "model_id": "f194c961c60c4082b3382191b15ac909",
       "version_major": 2,
       "version_minor": 0
      },
      "text/plain": [
       "Epoch 26/50:   0%|          | 0/878 [00:00<?, ?it/s]"
      ]
     },
     "metadata": {},
     "output_type": "display_data"
    },
    {
     "name": "stderr",
     "output_type": "stream",
     "text": [
      "WARNING:root:NaN or Inf found in input tensor.\n"
     ]
    },
    {
     "name": "stdout",
     "output_type": "stream",
     "text": [
      "2022-04-07 19:48.17 [info     ] FQE_20220407194715: epoch=26 step=22828 epoch=26 metrics={'time_sample_batch': 0.0001472862000345912, 'time_algorithm_update': 0.0021351676323962373, 'loss': 0.013538869348473382, 'time_step': 0.0023456782034698, 'init_value': -0.9681068062782288, 'ave_value': -0.9731957886553483, 'soft_opc': nan} step=22828\n"
     ]
    },
    {
     "name": "stderr",
     "output_type": "stream",
     "text": [
      "WARNING:root:NaN or Inf found in input tensor.\n"
     ]
    },
    {
     "name": "stdout",
     "output_type": "stream",
     "text": [
      "2022-04-07 19:48.17 [info     ] Model parameters are saved to d3rlpy_logs/FQE_20220407194715/model_22828.pt\n"
     ]
    },
    {
     "data": {
      "application/vnd.jupyter.widget-view+json": {
       "model_id": "2cbb4e4c5c1e42c2b977f97bd2456f32",
       "version_major": 2,
       "version_minor": 0
      },
      "text/plain": [
       "Epoch 27/50:   0%|          | 0/878 [00:00<?, ?it/s]"
      ]
     },
     "metadata": {},
     "output_type": "display_data"
    },
    {
     "name": "stderr",
     "output_type": "stream",
     "text": [
      "WARNING:root:NaN or Inf found in input tensor.\n"
     ]
    },
    {
     "name": "stdout",
     "output_type": "stream",
     "text": [
      "2022-04-07 19:48.20 [info     ] FQE_20220407194715: epoch=27 step=23706 epoch=27 metrics={'time_sample_batch': 0.00014263323607911825, 'time_algorithm_update': 0.002042268837774533, 'loss': 0.01308035251712762, 'time_step': 0.002242724281780269, 'init_value': -0.9832358360290527, 'ave_value': -0.9880763689703919, 'soft_opc': nan} step=23706\n"
     ]
    },
    {
     "name": "stderr",
     "output_type": "stream",
     "text": [
      "WARNING:root:NaN or Inf found in input tensor.\n"
     ]
    },
    {
     "name": "stdout",
     "output_type": "stream",
     "text": [
      "2022-04-07 19:48.20 [info     ] Model parameters are saved to d3rlpy_logs/FQE_20220407194715/model_23706.pt\n"
     ]
    },
    {
     "data": {
      "application/vnd.jupyter.widget-view+json": {
       "model_id": "22f941c928504ff88ac6a7cd13500e33",
       "version_major": 2,
       "version_minor": 0
      },
      "text/plain": [
       "Epoch 28/50:   0%|          | 0/878 [00:00<?, ?it/s]"
      ]
     },
     "metadata": {},
     "output_type": "display_data"
    },
    {
     "name": "stderr",
     "output_type": "stream",
     "text": [
      "WARNING:root:NaN or Inf found in input tensor.\n"
     ]
    },
    {
     "name": "stdout",
     "output_type": "stream",
     "text": [
      "2022-04-07 19:48.22 [info     ] FQE_20220407194715: epoch=28 step=24584 epoch=28 metrics={'time_sample_batch': 0.00013972061913214404, 'time_algorithm_update': 0.0019833751039787413, 'loss': 0.013558182040780308, 'time_step': 0.002184311186805673, 'init_value': -0.9646814465522766, 'ave_value': -0.9696414606286201, 'soft_opc': nan} step=24584\n"
     ]
    },
    {
     "name": "stderr",
     "output_type": "stream",
     "text": [
      "WARNING:root:NaN or Inf found in input tensor.\n"
     ]
    },
    {
     "name": "stdout",
     "output_type": "stream",
     "text": [
      "2022-04-07 19:48.22 [info     ] Model parameters are saved to d3rlpy_logs/FQE_20220407194715/model_24584.pt\n"
     ]
    },
    {
     "data": {
      "application/vnd.jupyter.widget-view+json": {
       "model_id": "7b910252fba54d7881d51136f5c32c4a",
       "version_major": 2,
       "version_minor": 0
      },
      "text/plain": [
       "Epoch 29/50:   0%|          | 0/878 [00:00<?, ?it/s]"
      ]
     },
     "metadata": {},
     "output_type": "display_data"
    },
    {
     "name": "stderr",
     "output_type": "stream",
     "text": [
      "WARNING:root:NaN or Inf found in input tensor.\n"
     ]
    },
    {
     "name": "stdout",
     "output_type": "stream",
     "text": [
      "2022-04-07 19:48.24 [info     ] FQE_20220407194715: epoch=29 step=25462 epoch=29 metrics={'time_sample_batch': 0.00014674554924758528, 'time_algorithm_update': 0.0020773361918594952, 'loss': 0.01340400861708012, 'time_step': 0.0022885424672606865, 'init_value': -0.9761149883270264, 'ave_value': -0.9809474990952354, 'soft_opc': nan} step=25462\n"
     ]
    },
    {
     "name": "stderr",
     "output_type": "stream",
     "text": [
      "WARNING:root:NaN or Inf found in input tensor.\n"
     ]
    },
    {
     "name": "stdout",
     "output_type": "stream",
     "text": [
      "2022-04-07 19:48.24 [info     ] Model parameters are saved to d3rlpy_logs/FQE_20220407194715/model_25462.pt\n"
     ]
    },
    {
     "data": {
      "application/vnd.jupyter.widget-view+json": {
       "model_id": "e7f6e49a924548fc8c61a4b9e2830c79",
       "version_major": 2,
       "version_minor": 0
      },
      "text/plain": [
       "Epoch 30/50:   0%|          | 0/878 [00:00<?, ?it/s]"
      ]
     },
     "metadata": {},
     "output_type": "display_data"
    },
    {
     "name": "stderr",
     "output_type": "stream",
     "text": [
      "WARNING:root:NaN or Inf found in input tensor.\n"
     ]
    },
    {
     "name": "stdout",
     "output_type": "stream",
     "text": [
      "2022-04-07 19:48.27 [info     ] FQE_20220407194715: epoch=30 step=26340 epoch=30 metrics={'time_sample_batch': 0.00014278883271445447, 'time_algorithm_update': 0.002160825870574743, 'loss': 0.013897476628015548, 'time_step': 0.0023653097196157536, 'init_value': -1.0243659019470215, 'ave_value': -1.029184744590196, 'soft_opc': nan} step=26340\n"
     ]
    },
    {
     "name": "stderr",
     "output_type": "stream",
     "text": [
      "WARNING:root:NaN or Inf found in input tensor.\n"
     ]
    },
    {
     "name": "stdout",
     "output_type": "stream",
     "text": [
      "2022-04-07 19:48.27 [info     ] Model parameters are saved to d3rlpy_logs/FQE_20220407194715/model_26340.pt\n"
     ]
    },
    {
     "data": {
      "application/vnd.jupyter.widget-view+json": {
       "model_id": "899800b17525410488b9a19effc76aab",
       "version_major": 2,
       "version_minor": 0
      },
      "text/plain": [
       "Epoch 31/50:   0%|          | 0/878 [00:00<?, ?it/s]"
      ]
     },
     "metadata": {},
     "output_type": "display_data"
    },
    {
     "name": "stderr",
     "output_type": "stream",
     "text": [
      "WARNING:root:NaN or Inf found in input tensor.\n"
     ]
    },
    {
     "name": "stdout",
     "output_type": "stream",
     "text": [
      "2022-04-07 19:48.29 [info     ] FQE_20220407194715: epoch=31 step=27218 epoch=31 metrics={'time_sample_batch': 0.00014114760049111752, 'time_algorithm_update': 0.001999056149180766, 'loss': 0.014870946392291109, 'time_step': 0.002201563676560387, 'init_value': -1.0624487400054932, 'ave_value': -1.067451506661414, 'soft_opc': nan} step=27218\n"
     ]
    },
    {
     "name": "stderr",
     "output_type": "stream",
     "text": [
      "WARNING:root:NaN or Inf found in input tensor.\n"
     ]
    },
    {
     "name": "stdout",
     "output_type": "stream",
     "text": [
      "2022-04-07 19:48.29 [info     ] Model parameters are saved to d3rlpy_logs/FQE_20220407194715/model_27218.pt\n"
     ]
    },
    {
     "data": {
      "application/vnd.jupyter.widget-view+json": {
       "model_id": "3304cb74bbcc44978bf957fc6ca0c332",
       "version_major": 2,
       "version_minor": 0
      },
      "text/plain": [
       "Epoch 32/50:   0%|          | 0/878 [00:00<?, ?it/s]"
      ]
     },
     "metadata": {},
     "output_type": "display_data"
    },
    {
     "name": "stderr",
     "output_type": "stream",
     "text": [
      "WARNING:root:NaN or Inf found in input tensor.\n"
     ]
    },
    {
     "name": "stdout",
     "output_type": "stream",
     "text": [
      "2022-04-07 19:48.31 [info     ] FQE_20220407194715: epoch=32 step=28096 epoch=32 metrics={'time_sample_batch': 0.00015031178068191425, 'time_algorithm_update': 0.0022094176407555515, 'loss': 0.01580397056578727, 'time_step': 0.0024240511153444887, 'init_value': -1.107540488243103, 'ave_value': -1.1122769307613956, 'soft_opc': nan} step=28096\n"
     ]
    },
    {
     "name": "stderr",
     "output_type": "stream",
     "text": [
      "WARNING:root:NaN or Inf found in input tensor.\n"
     ]
    },
    {
     "name": "stdout",
     "output_type": "stream",
     "text": [
      "2022-04-07 19:48.31 [info     ] Model parameters are saved to d3rlpy_logs/FQE_20220407194715/model_28096.pt\n"
     ]
    },
    {
     "data": {
      "application/vnd.jupyter.widget-view+json": {
       "model_id": "938fb7b2db41418a829587b5c7657168",
       "version_major": 2,
       "version_minor": 0
      },
      "text/plain": [
       "Epoch 33/50:   0%|          | 0/878 [00:00<?, ?it/s]"
      ]
     },
     "metadata": {},
     "output_type": "display_data"
    },
    {
     "name": "stderr",
     "output_type": "stream",
     "text": [
      "WARNING:root:NaN or Inf found in input tensor.\n"
     ]
    },
    {
     "name": "stdout",
     "output_type": "stream",
     "text": [
      "2022-04-07 19:48.34 [info     ] FQE_20220407194715: epoch=33 step=28974 epoch=33 metrics={'time_sample_batch': 0.00014676129899426853, 'time_algorithm_update': 0.0021474847489446063, 'loss': 0.01674616938273635, 'time_step': 0.0023605125640139223, 'init_value': -1.2068020105361938, 'ave_value': -1.2112543260661859, 'soft_opc': nan} step=28974\n"
     ]
    },
    {
     "name": "stderr",
     "output_type": "stream",
     "text": [
      "WARNING:root:NaN or Inf found in input tensor.\n"
     ]
    },
    {
     "name": "stdout",
     "output_type": "stream",
     "text": [
      "2022-04-07 19:48.34 [info     ] Model parameters are saved to d3rlpy_logs/FQE_20220407194715/model_28974.pt\n"
     ]
    },
    {
     "data": {
      "application/vnd.jupyter.widget-view+json": {
       "model_id": "1d8e64d219d74551950f7615e1e88003",
       "version_major": 2,
       "version_minor": 0
      },
      "text/plain": [
       "Epoch 34/50:   0%|          | 0/878 [00:00<?, ?it/s]"
      ]
     },
     "metadata": {},
     "output_type": "display_data"
    },
    {
     "name": "stderr",
     "output_type": "stream",
     "text": [
      "WARNING:root:NaN or Inf found in input tensor.\n"
     ]
    },
    {
     "name": "stdout",
     "output_type": "stream",
     "text": [
      "2022-04-07 19:48.36 [info     ] FQE_20220407194715: epoch=34 step=29852 epoch=34 metrics={'time_sample_batch': 0.00014734295343212222, 'time_algorithm_update': 0.0020985353508951453, 'loss': 0.017187848355940803, 'time_step': 0.002313583206750266, 'init_value': -1.139150619506836, 'ave_value': -1.1436132349446129, 'soft_opc': nan} step=29852\n"
     ]
    },
    {
     "name": "stderr",
     "output_type": "stream",
     "text": [
      "WARNING:root:NaN or Inf found in input tensor.\n"
     ]
    },
    {
     "name": "stdout",
     "output_type": "stream",
     "text": [
      "2022-04-07 19:48.36 [info     ] Model parameters are saved to d3rlpy_logs/FQE_20220407194715/model_29852.pt\n"
     ]
    },
    {
     "data": {
      "application/vnd.jupyter.widget-view+json": {
       "model_id": "de846b800f8446dd82d1808f2cc6b9c1",
       "version_major": 2,
       "version_minor": 0
      },
      "text/plain": [
       "Epoch 35/50:   0%|          | 0/878 [00:00<?, ?it/s]"
      ]
     },
     "metadata": {},
     "output_type": "display_data"
    },
    {
     "name": "stderr",
     "output_type": "stream",
     "text": [
      "WARNING:root:NaN or Inf found in input tensor.\n"
     ]
    },
    {
     "name": "stdout",
     "output_type": "stream",
     "text": [
      "2022-04-07 19:48.39 [info     ] FQE_20220407194715: epoch=35 step=30730 epoch=35 metrics={'time_sample_batch': 0.00015817524903456007, 'time_algorithm_update': 0.002349426914727769, 'loss': 0.016133714851908024, 'time_step': 0.0025794544089627973, 'init_value': -1.1254295110702515, 'ave_value': -1.1298894863505669, 'soft_opc': nan} step=30730\n"
     ]
    },
    {
     "name": "stderr",
     "output_type": "stream",
     "text": [
      "WARNING:root:NaN or Inf found in input tensor.\n"
     ]
    },
    {
     "name": "stdout",
     "output_type": "stream",
     "text": [
      "2022-04-07 19:48.39 [info     ] Model parameters are saved to d3rlpy_logs/FQE_20220407194715/model_30730.pt\n"
     ]
    },
    {
     "data": {
      "application/vnd.jupyter.widget-view+json": {
       "model_id": "170c1441056b4b679fbf1ebf13ad0145",
       "version_major": 2,
       "version_minor": 0
      },
      "text/plain": [
       "Epoch 36/50:   0%|          | 0/878 [00:00<?, ?it/s]"
      ]
     },
     "metadata": {},
     "output_type": "display_data"
    },
    {
     "name": "stderr",
     "output_type": "stream",
     "text": [
      "WARNING:root:NaN or Inf found in input tensor.\n"
     ]
    },
    {
     "name": "stdout",
     "output_type": "stream",
     "text": [
      "2022-04-07 19:48.41 [info     ] FQE_20220407194715: epoch=36 step=31608 epoch=36 metrics={'time_sample_batch': 0.0001498596543331624, 'time_algorithm_update': 0.002215377019043664, 'loss': 0.01630922499294862, 'time_step': 0.0024282459789093645, 'init_value': -1.1483098268508911, 'ave_value': -1.1527254340624569, 'soft_opc': nan} step=31608\n"
     ]
    },
    {
     "name": "stderr",
     "output_type": "stream",
     "text": [
      "WARNING:root:NaN or Inf found in input tensor.\n"
     ]
    },
    {
     "name": "stdout",
     "output_type": "stream",
     "text": [
      "2022-04-07 19:48.41 [info     ] Model parameters are saved to d3rlpy_logs/FQE_20220407194715/model_31608.pt\n"
     ]
    },
    {
     "data": {
      "application/vnd.jupyter.widget-view+json": {
       "model_id": "9e773c2ed5ff4d27888164f6c01dbe85",
       "version_major": 2,
       "version_minor": 0
      },
      "text/plain": [
       "Epoch 37/50:   0%|          | 0/878 [00:00<?, ?it/s]"
      ]
     },
     "metadata": {},
     "output_type": "display_data"
    },
    {
     "name": "stderr",
     "output_type": "stream",
     "text": [
      "WARNING:root:NaN or Inf found in input tensor.\n"
     ]
    },
    {
     "name": "stdout",
     "output_type": "stream",
     "text": [
      "2022-04-07 19:48.44 [info     ] FQE_20220407194715: epoch=37 step=32486 epoch=37 metrics={'time_sample_batch': 0.0001615644315923808, 'time_algorithm_update': 0.0024874536214493947, 'loss': 0.01616758457989745, 'time_step': 0.002720411383209576, 'init_value': -1.0980688333511353, 'ave_value': -1.1025539918733032, 'soft_opc': nan} step=32486\n"
     ]
    },
    {
     "name": "stderr",
     "output_type": "stream",
     "text": [
      "WARNING:root:NaN or Inf found in input tensor.\n"
     ]
    },
    {
     "name": "stdout",
     "output_type": "stream",
     "text": [
      "2022-04-07 19:48.44 [info     ] Model parameters are saved to d3rlpy_logs/FQE_20220407194715/model_32486.pt\n"
     ]
    },
    {
     "data": {
      "application/vnd.jupyter.widget-view+json": {
       "model_id": "ceade5d40496412ab81d5336809957e8",
       "version_major": 2,
       "version_minor": 0
      },
      "text/plain": [
       "Epoch 38/50:   0%|          | 0/878 [00:00<?, ?it/s]"
      ]
     },
     "metadata": {},
     "output_type": "display_data"
    },
    {
     "name": "stderr",
     "output_type": "stream",
     "text": [
      "WARNING:root:NaN or Inf found in input tensor.\n"
     ]
    },
    {
     "name": "stdout",
     "output_type": "stream",
     "text": [
      "2022-04-07 19:48.46 [info     ] FQE_20220407194715: epoch=38 step=33364 epoch=38 metrics={'time_sample_batch': 0.0001499432909189976, 'time_algorithm_update': 0.0021186651564404743, 'loss': 0.015986064538549297, 'time_step': 0.0023350237713859402, 'init_value': -1.138708472251892, 'ave_value': -1.1432574723014939, 'soft_opc': nan} step=33364\n"
     ]
    },
    {
     "name": "stderr",
     "output_type": "stream",
     "text": [
      "WARNING:root:NaN or Inf found in input tensor.\n"
     ]
    },
    {
     "name": "stdout",
     "output_type": "stream",
     "text": [
      "2022-04-07 19:48.46 [info     ] Model parameters are saved to d3rlpy_logs/FQE_20220407194715/model_33364.pt\n"
     ]
    },
    {
     "data": {
      "application/vnd.jupyter.widget-view+json": {
       "model_id": "2f84c31fcbe84f5aba93874c8e51f778",
       "version_major": 2,
       "version_minor": 0
      },
      "text/plain": [
       "Epoch 39/50:   0%|          | 0/878 [00:00<?, ?it/s]"
      ]
     },
     "metadata": {},
     "output_type": "display_data"
    },
    {
     "name": "stderr",
     "output_type": "stream",
     "text": [
      "WARNING:root:NaN or Inf found in input tensor.\n"
     ]
    },
    {
     "name": "stdout",
     "output_type": "stream",
     "text": [
      "2022-04-07 19:48.49 [info     ] FQE_20220407194715: epoch=39 step=34242 epoch=39 metrics={'time_sample_batch': 0.0001512765884399414, 'time_algorithm_update': 0.0022601016833190225, 'loss': 0.01566080172659085, 'time_step': 0.002478145249612239, 'init_value': -1.0939439535140991, 'ave_value': -1.09864159108407, 'soft_opc': nan} step=34242\n"
     ]
    },
    {
     "name": "stderr",
     "output_type": "stream",
     "text": [
      "WARNING:root:NaN or Inf found in input tensor.\n"
     ]
    },
    {
     "name": "stdout",
     "output_type": "stream",
     "text": [
      "2022-04-07 19:48.49 [info     ] Model parameters are saved to d3rlpy_logs/FQE_20220407194715/model_34242.pt\n"
     ]
    },
    {
     "data": {
      "application/vnd.jupyter.widget-view+json": {
       "model_id": "41581da662a94ec9b972956187c37f5a",
       "version_major": 2,
       "version_minor": 0
      },
      "text/plain": [
       "Epoch 40/50:   0%|          | 0/878 [00:00<?, ?it/s]"
      ]
     },
     "metadata": {},
     "output_type": "display_data"
    },
    {
     "name": "stderr",
     "output_type": "stream",
     "text": [
      "WARNING:root:NaN or Inf found in input tensor.\n"
     ]
    },
    {
     "name": "stdout",
     "output_type": "stream",
     "text": [
      "2022-04-07 19:48.51 [info     ] FQE_20220407194715: epoch=40 step=35120 epoch=40 metrics={'time_sample_batch': 0.0001363279064586874, 'time_algorithm_update': 0.0020515869853165265, 'loss': 0.015017621576824734, 'time_step': 0.0022481745087747423, 'init_value': -1.0186997652053833, 'ave_value': -1.0235288714662747, 'soft_opc': nan} step=35120\n"
     ]
    },
    {
     "name": "stderr",
     "output_type": "stream",
     "text": [
      "WARNING:root:NaN or Inf found in input tensor.\n"
     ]
    },
    {
     "name": "stdout",
     "output_type": "stream",
     "text": [
      "2022-04-07 19:48.51 [info     ] Model parameters are saved to d3rlpy_logs/FQE_20220407194715/model_35120.pt\n"
     ]
    },
    {
     "data": {
      "application/vnd.jupyter.widget-view+json": {
       "model_id": "29e81c8cce304c95bf8f3d635d9b5a57",
       "version_major": 2,
       "version_minor": 0
      },
      "text/plain": [
       "Epoch 41/50:   0%|          | 0/878 [00:00<?, ?it/s]"
      ]
     },
     "metadata": {},
     "output_type": "display_data"
    },
    {
     "name": "stderr",
     "output_type": "stream",
     "text": [
      "WARNING:root:NaN or Inf found in input tensor.\n"
     ]
    },
    {
     "name": "stdout",
     "output_type": "stream",
     "text": [
      "2022-04-07 19:48.53 [info     ] FQE_20220407194715: epoch=41 step=35998 epoch=41 metrics={'time_sample_batch': 0.00013589505997225473, 'time_algorithm_update': 0.001881463924138584, 'loss': 0.014460833854733367, 'time_step': 0.0020781087440890442, 'init_value': -1.035244345664978, 'ave_value': -1.0397052007489442, 'soft_opc': nan} step=35998\n"
     ]
    },
    {
     "name": "stderr",
     "output_type": "stream",
     "text": [
      "WARNING:root:NaN or Inf found in input tensor.\n"
     ]
    },
    {
     "name": "stdout",
     "output_type": "stream",
     "text": [
      "2022-04-07 19:48.53 [info     ] Model parameters are saved to d3rlpy_logs/FQE_20220407194715/model_35998.pt\n"
     ]
    },
    {
     "data": {
      "application/vnd.jupyter.widget-view+json": {
       "model_id": "cccc4aed98bd497884517e64197b999b",
       "version_major": 2,
       "version_minor": 0
      },
      "text/plain": [
       "Epoch 42/50:   0%|          | 0/878 [00:00<?, ?it/s]"
      ]
     },
     "metadata": {},
     "output_type": "display_data"
    },
    {
     "name": "stderr",
     "output_type": "stream",
     "text": [
      "WARNING:root:NaN or Inf found in input tensor.\n"
     ]
    },
    {
     "name": "stdout",
     "output_type": "stream",
     "text": [
      "2022-04-07 19:48.56 [info     ] FQE_20220407194715: epoch=42 step=36876 epoch=42 metrics={'time_sample_batch': 0.00014376911867180827, 'time_algorithm_update': 0.0020905719531152675, 'loss': 0.01456390390334582, 'time_step': 0.002298118041696744, 'init_value': -1.0830506086349487, 'ave_value': -1.0873627410397968, 'soft_opc': nan} step=36876\n"
     ]
    },
    {
     "name": "stderr",
     "output_type": "stream",
     "text": [
      "WARNING:root:NaN or Inf found in input tensor.\n"
     ]
    },
    {
     "name": "stdout",
     "output_type": "stream",
     "text": [
      "2022-04-07 19:48.56 [info     ] Model parameters are saved to d3rlpy_logs/FQE_20220407194715/model_36876.pt\n"
     ]
    },
    {
     "data": {
      "application/vnd.jupyter.widget-view+json": {
       "model_id": "344ada53c36b4dd9bc0eb67ce1a92973",
       "version_major": 2,
       "version_minor": 0
      },
      "text/plain": [
       "Epoch 43/50:   0%|          | 0/878 [00:00<?, ?it/s]"
      ]
     },
     "metadata": {},
     "output_type": "display_data"
    },
    {
     "name": "stderr",
     "output_type": "stream",
     "text": [
      "WARNING:root:NaN or Inf found in input tensor.\n"
     ]
    },
    {
     "name": "stdout",
     "output_type": "stream",
     "text": [
      "2022-04-07 19:48.58 [info     ] FQE_20220407194715: epoch=43 step=37754 epoch=43 metrics={'time_sample_batch': 0.00014270628231804572, 'time_algorithm_update': 0.0020296152740513274, 'loss': 0.014237122507621821, 'time_step': 0.0022344187343310657, 'init_value': -1.008405089378357, 'ave_value': -1.0127839076862974, 'soft_opc': nan} step=37754\n"
     ]
    },
    {
     "name": "stderr",
     "output_type": "stream",
     "text": [
      "WARNING:root:NaN or Inf found in input tensor.\n"
     ]
    },
    {
     "name": "stdout",
     "output_type": "stream",
     "text": [
      "2022-04-07 19:48.58 [info     ] Model parameters are saved to d3rlpy_logs/FQE_20220407194715/model_37754.pt\n"
     ]
    },
    {
     "data": {
      "application/vnd.jupyter.widget-view+json": {
       "model_id": "adfcb231a3234bc3aafc4d74cb0b0f44",
       "version_major": 2,
       "version_minor": 0
      },
      "text/plain": [
       "Epoch 44/50:   0%|          | 0/878 [00:00<?, ?it/s]"
      ]
     },
     "metadata": {},
     "output_type": "display_data"
    },
    {
     "name": "stderr",
     "output_type": "stream",
     "text": [
      "WARNING:root:NaN or Inf found in input tensor.\n"
     ]
    },
    {
     "name": "stdout",
     "output_type": "stream",
     "text": [
      "2022-04-07 19:49.00 [info     ] FQE_20220407194715: epoch=44 step=38632 epoch=44 metrics={'time_sample_batch': 0.00014174717705450732, 'time_algorithm_update': 0.0020422386960179495, 'loss': 0.01262598041832818, 'time_step': 0.0022453819157593887, 'init_value': -0.9811661243438721, 'ave_value': -0.9854814348545023, 'soft_opc': nan} step=38632\n"
     ]
    },
    {
     "name": "stderr",
     "output_type": "stream",
     "text": [
      "WARNING:root:NaN or Inf found in input tensor.\n"
     ]
    },
    {
     "name": "stdout",
     "output_type": "stream",
     "text": [
      "2022-04-07 19:49.00 [info     ] Model parameters are saved to d3rlpy_logs/FQE_20220407194715/model_38632.pt\n"
     ]
    },
    {
     "data": {
      "application/vnd.jupyter.widget-view+json": {
       "model_id": "3cb202da075842449a5a779a866b449e",
       "version_major": 2,
       "version_minor": 0
      },
      "text/plain": [
       "Epoch 45/50:   0%|          | 0/878 [00:00<?, ?it/s]"
      ]
     },
     "metadata": {},
     "output_type": "display_data"
    },
    {
     "name": "stderr",
     "output_type": "stream",
     "text": [
      "WARNING:root:NaN or Inf found in input tensor.\n"
     ]
    },
    {
     "name": "stdout",
     "output_type": "stream",
     "text": [
      "2022-04-07 19:49.02 [info     ] FQE_20220407194715: epoch=45 step=39510 epoch=45 metrics={'time_sample_batch': 0.00013736847592920812, 'time_algorithm_update': 0.0019757033480598605, 'loss': 0.013166741835684372, 'time_step': 0.0021715215778568067, 'init_value': -1.0112711191177368, 'ave_value': -1.015539491914205, 'soft_opc': nan} step=39510\n"
     ]
    },
    {
     "name": "stderr",
     "output_type": "stream",
     "text": [
      "WARNING:root:NaN or Inf found in input tensor.\n"
     ]
    },
    {
     "name": "stdout",
     "output_type": "stream",
     "text": [
      "2022-04-07 19:49.02 [info     ] Model parameters are saved to d3rlpy_logs/FQE_20220407194715/model_39510.pt\n"
     ]
    },
    {
     "data": {
      "application/vnd.jupyter.widget-view+json": {
       "model_id": "262feeab55fc41be8c14e4a8cf6a483a",
       "version_major": 2,
       "version_minor": 0
      },
      "text/plain": [
       "Epoch 46/50:   0%|          | 0/878 [00:00<?, ?it/s]"
      ]
     },
     "metadata": {},
     "output_type": "display_data"
    },
    {
     "name": "stderr",
     "output_type": "stream",
     "text": [
      "WARNING:root:NaN or Inf found in input tensor.\n"
     ]
    },
    {
     "name": "stdout",
     "output_type": "stream",
     "text": [
      "2022-04-07 19:49.05 [info     ] FQE_20220407194715: epoch=46 step=40388 epoch=46 metrics={'time_sample_batch': 0.000139515057783192, 'time_algorithm_update': 0.002239037754866963, 'loss': 0.013041086338034802, 'time_step': 0.002436758173896946, 'init_value': -1.0293153524398804, 'ave_value': -1.0333668895458274, 'soft_opc': nan} step=40388\n"
     ]
    },
    {
     "name": "stderr",
     "output_type": "stream",
     "text": [
      "WARNING:root:NaN or Inf found in input tensor.\n"
     ]
    },
    {
     "name": "stdout",
     "output_type": "stream",
     "text": [
      "2022-04-07 19:49.05 [info     ] Model parameters are saved to d3rlpy_logs/FQE_20220407194715/model_40388.pt\n"
     ]
    },
    {
     "data": {
      "application/vnd.jupyter.widget-view+json": {
       "model_id": "0554dff059c045a1b00686393ab6d09a",
       "version_major": 2,
       "version_minor": 0
      },
      "text/plain": [
       "Epoch 47/50:   0%|          | 0/878 [00:00<?, ?it/s]"
      ]
     },
     "metadata": {},
     "output_type": "display_data"
    },
    {
     "name": "stderr",
     "output_type": "stream",
     "text": [
      "WARNING:root:NaN or Inf found in input tensor.\n"
     ]
    },
    {
     "name": "stdout",
     "output_type": "stream",
     "text": [
      "2022-04-07 19:49.07 [info     ] FQE_20220407194715: epoch=47 step=41266 epoch=47 metrics={'time_sample_batch': 0.00014684059082239797, 'time_algorithm_update': 0.0022203976581199837, 'loss': 0.0134339064295934, 'time_step': 0.0024336359223906708, 'init_value': -1.0487778186798096, 'ave_value': -1.0526104984793936, 'soft_opc': nan} step=41266\n"
     ]
    },
    {
     "name": "stderr",
     "output_type": "stream",
     "text": [
      "WARNING:root:NaN or Inf found in input tensor.\n"
     ]
    },
    {
     "name": "stdout",
     "output_type": "stream",
     "text": [
      "2022-04-07 19:49.07 [info     ] Model parameters are saved to d3rlpy_logs/FQE_20220407194715/model_41266.pt\n"
     ]
    },
    {
     "data": {
      "application/vnd.jupyter.widget-view+json": {
       "model_id": "a987d617cae24a46aa2da642cd6a45db",
       "version_major": 2,
       "version_minor": 0
      },
      "text/plain": [
       "Epoch 48/50:   0%|          | 0/878 [00:00<?, ?it/s]"
      ]
     },
     "metadata": {},
     "output_type": "display_data"
    },
    {
     "name": "stderr",
     "output_type": "stream",
     "text": [
      "WARNING:root:NaN or Inf found in input tensor.\n"
     ]
    },
    {
     "name": "stdout",
     "output_type": "stream",
     "text": [
      "2022-04-07 19:49.10 [info     ] FQE_20220407194715: epoch=48 step=42144 epoch=48 metrics={'time_sample_batch': 0.0001383976404107513, 'time_algorithm_update': 0.002004898490558181, 'loss': 0.01391516288942516, 'time_step': 0.0022016440545779424, 'init_value': -1.0611566305160522, 'ave_value': -1.064918287818931, 'soft_opc': nan} step=42144\n"
     ]
    },
    {
     "name": "stderr",
     "output_type": "stream",
     "text": [
      "WARNING:root:NaN or Inf found in input tensor.\n"
     ]
    },
    {
     "name": "stdout",
     "output_type": "stream",
     "text": [
      "2022-04-07 19:49.10 [info     ] Model parameters are saved to d3rlpy_logs/FQE_20220407194715/model_42144.pt\n"
     ]
    },
    {
     "data": {
      "application/vnd.jupyter.widget-view+json": {
       "model_id": "d463552d0d4c4e44b821073899e5eb75",
       "version_major": 2,
       "version_minor": 0
      },
      "text/plain": [
       "Epoch 49/50:   0%|          | 0/878 [00:00<?, ?it/s]"
      ]
     },
     "metadata": {},
     "output_type": "display_data"
    },
    {
     "name": "stderr",
     "output_type": "stream",
     "text": [
      "WARNING:root:NaN or Inf found in input tensor.\n"
     ]
    },
    {
     "name": "stdout",
     "output_type": "stream",
     "text": [
      "2022-04-07 19:49.12 [info     ] FQE_20220407194715: epoch=49 step=43022 epoch=49 metrics={'time_sample_batch': 0.00014159348125066735, 'time_algorithm_update': 0.002073873148420677, 'loss': 0.014711927342006575, 'time_step': 0.002279046727747472, 'init_value': -1.0797172784805298, 'ave_value': -1.0836601058669069, 'soft_opc': nan} step=43022\n"
     ]
    },
    {
     "name": "stderr",
     "output_type": "stream",
     "text": [
      "WARNING:root:NaN or Inf found in input tensor.\n"
     ]
    },
    {
     "name": "stdout",
     "output_type": "stream",
     "text": [
      "2022-04-07 19:49.12 [info     ] Model parameters are saved to d3rlpy_logs/FQE_20220407194715/model_43022.pt\n"
     ]
    },
    {
     "data": {
      "application/vnd.jupyter.widget-view+json": {
       "model_id": "4fb9ece35a3440c09ea81d2f042deee4",
       "version_major": 2,
       "version_minor": 0
      },
      "text/plain": [
       "Epoch 50/50:   0%|          | 0/878 [00:00<?, ?it/s]"
      ]
     },
     "metadata": {},
     "output_type": "display_data"
    },
    {
     "name": "stderr",
     "output_type": "stream",
     "text": [
      "WARNING:root:NaN or Inf found in input tensor.\n"
     ]
    },
    {
     "name": "stdout",
     "output_type": "stream",
     "text": [
      "2022-04-07 19:49.14 [info     ] FQE_20220407194715: epoch=50 step=43900 epoch=50 metrics={'time_sample_batch': 0.00013469672148754493, 'time_algorithm_update': 0.0020765655404614424, 'loss': 0.014310937399106917, 'time_step': 0.0022711433419334045, 'init_value': -1.0202535390853882, 'ave_value': -1.0242416432717358, 'soft_opc': nan} step=43900\n"
     ]
    },
    {
     "name": "stderr",
     "output_type": "stream",
     "text": [
      "WARNING:root:NaN or Inf found in input tensor.\n"
     ]
    },
    {
     "name": "stdout",
     "output_type": "stream",
     "text": [
      "2022-04-07 19:49.14 [info     ] Model parameters are saved to d3rlpy_logs/FQE_20220407194715/model_43900.pt\n"
     ]
    },
    {
     "data": {
      "text/plain": [
       "[(1,\n",
       "  {'time_sample_batch': 0.00012011843010070384,\n",
       "   'time_algorithm_update': 0.0016416873367066263,\n",
       "   'loss': 0.0005790919066507191,\n",
       "   'time_step': 0.0018213905886256885,\n",
       "   'init_value': -0.2699924111366272,\n",
       "   'ave_value': -0.2707972494631286,\n",
       "   'soft_opc': nan}),\n",
       " (2,\n",
       "  {'time_sample_batch': 0.00012525257597208566,\n",
       "   'time_algorithm_update': 0.0017642578394374978,\n",
       "   'loss': 0.0016421610482464442,\n",
       "   'time_step': 0.0019463102475385731,\n",
       "   'init_value': -0.4241451919078827,\n",
       "   'ave_value': -0.42590119195731213,\n",
       "   'soft_opc': nan}),\n",
       " (3,\n",
       "  {'time_sample_batch': 0.00012309458912912425,\n",
       "   'time_algorithm_update': 0.0017062292555198582,\n",
       "   'loss': 0.0032858520809319765,\n",
       "   'time_step': 0.0018910036543235691,\n",
       "   'init_value': -0.5432124137878418,\n",
       "   'ave_value': -0.5457452573710693,\n",
       "   'soft_opc': nan}),\n",
       " (4,\n",
       "  {'time_sample_batch': 0.00012767043363532063,\n",
       "   'time_algorithm_update': 0.0018168163734036318,\n",
       "   'loss': 0.005045686625876784,\n",
       "   'time_step': 0.0020041721013792555,\n",
       "   'init_value': -0.645917534828186,\n",
       "   'ave_value': -0.6488111254041943,\n",
       "   'soft_opc': nan}),\n",
       " (5,\n",
       "  {'time_sample_batch': 0.00015785726707997247,\n",
       "   'time_algorithm_update': 0.002833164634357009,\n",
       "   'loss': 0.007545049979664973,\n",
       "   'time_step': 0.0030690016127393025,\n",
       "   'init_value': -0.8148442506790161,\n",
       "   'ave_value': -0.8183561642084529,\n",
       "   'soft_opc': nan}),\n",
       " (6,\n",
       "  {'time_sample_batch': 0.00015903170939730077,\n",
       "   'time_algorithm_update': 0.0024048516310428976,\n",
       "   'loss': 0.009360201107241195,\n",
       "   'time_step': 0.002639558972421703,\n",
       "   'init_value': -0.8830693960189819,\n",
       "   'ave_value': -0.8871849077280953,\n",
       "   'soft_opc': nan}),\n",
       " (7,\n",
       "  {'time_sample_batch': 0.0001454030191165168,\n",
       "   'time_algorithm_update': 0.00228766727013034,\n",
       "   'loss': 0.010717078875546196,\n",
       "   'time_step': 0.002498147156352606,\n",
       "   'init_value': -0.9017384648323059,\n",
       "   'ave_value': -0.9060965530297924,\n",
       "   'soft_opc': nan}),\n",
       " (8,\n",
       "  {'time_sample_batch': 0.0001450326285221039,\n",
       "   'time_algorithm_update': 0.002096773823192831,\n",
       "   'loss': 0.011176214950371886,\n",
       "   'time_step': 0.002306412455704326,\n",
       "   'init_value': -0.8924575448036194,\n",
       "   'ave_value': -0.897269057460511,\n",
       "   'soft_opc': nan}),\n",
       " (9,\n",
       "  {'time_sample_batch': 0.00013731986895237534,\n",
       "   'time_algorithm_update': 0.001997587621076232,\n",
       "   'loss': 0.011962102437758908,\n",
       "   'time_step': 0.0021917228003569236,\n",
       "   'init_value': -0.9497050046920776,\n",
       "   'ave_value': -0.9546935201088101,\n",
       "   'soft_opc': nan}),\n",
       " (10,\n",
       "  {'time_sample_batch': 0.0001455675768146211,\n",
       "   'time_algorithm_update': 0.0021242459977134755,\n",
       "   'loss': 0.01332029815141787,\n",
       "   'time_step': 0.0023323150865037783,\n",
       "   'init_value': -1.008182406425476,\n",
       "   'ave_value': -1.0130127867791847,\n",
       "   'soft_opc': nan}),\n",
       " (11,\n",
       "  {'time_sample_batch': 0.00014378812698677082,\n",
       "   'time_algorithm_update': 0.002144754340273916,\n",
       "   'loss': 0.014207990951143484,\n",
       "   'time_step': 0.0023525714331172863,\n",
       "   'init_value': -1.0584899187088013,\n",
       "   'ave_value': -1.0635352596730356,\n",
       "   'soft_opc': nan}),\n",
       " (12,\n",
       "  {'time_sample_batch': 0.00014734974211603742,\n",
       "   'time_algorithm_update': 0.002325884302004595,\n",
       "   'loss': 0.015208486926656443,\n",
       "   'time_step': 0.0025395323312364026,\n",
       "   'init_value': -1.0359933376312256,\n",
       "   'ave_value': -1.0409320683622294,\n",
       "   'soft_opc': nan}),\n",
       " (13,\n",
       "  {'time_sample_batch': 0.00014770058130077456,\n",
       "   'time_algorithm_update': 0.0021604508636752675,\n",
       "   'loss': 0.01443603255323075,\n",
       "   'time_step': 0.002377889422457962,\n",
       "   'init_value': -1.020995855331421,\n",
       "   'ave_value': -1.0258524456917064,\n",
       "   'soft_opc': nan}),\n",
       " (14,\n",
       "  {'time_sample_batch': 0.00014785509174668435,\n",
       "   'time_algorithm_update': 0.002195029160970979,\n",
       "   'loss': 0.014443122110794583,\n",
       "   'time_step': 0.002407412594163065,\n",
       "   'init_value': -1.0594441890716553,\n",
       "   'ave_value': -1.064514109598811,\n",
       "   'soft_opc': nan}),\n",
       " (15,\n",
       "  {'time_sample_batch': 0.00014573484998629143,\n",
       "   'time_algorithm_update': 0.0022322629198669574,\n",
       "   'loss': 0.015305571249153379,\n",
       "   'time_step': 0.00244148146861778,\n",
       "   'init_value': -1.0409061908721924,\n",
       "   'ave_value': -1.0464355908828666,\n",
       "   'soft_opc': nan}),\n",
       " (16,\n",
       "  {'time_sample_batch': 0.0001493589210075778,\n",
       "   'time_algorithm_update': 0.0023780672859765404,\n",
       "   'loss': 0.01681168312680299,\n",
       "   'time_step': 0.002594751486202579,\n",
       "   'init_value': -1.12869393825531,\n",
       "   'ave_value': -1.1342145079527395,\n",
       "   'soft_opc': nan}),\n",
       " (17,\n",
       "  {'time_sample_batch': 0.00014827327467586022,\n",
       "   'time_algorithm_update': 0.0022731500768987355,\n",
       "   'loss': 0.016017960015347204,\n",
       "   'time_step': 0.002488114296168021,\n",
       "   'init_value': -1.0459181070327759,\n",
       "   'ave_value': -1.0508810738109617,\n",
       "   'soft_opc': nan}),\n",
       " (18,\n",
       "  {'time_sample_batch': 0.00015380985372973467,\n",
       "   'time_algorithm_update': 0.002545580505510126,\n",
       "   'loss': 0.014640103658765214,\n",
       "   'time_step': 0.0027648460349080774,\n",
       "   'init_value': -1.007827639579773,\n",
       "   'ave_value': -1.0130277787755677,\n",
       "   'soft_opc': nan}),\n",
       " (19,\n",
       "  {'time_sample_batch': 0.000151643720466075,\n",
       "   'time_algorithm_update': 0.0022945355174210187,\n",
       "   'loss': 0.014279734284115164,\n",
       "   'time_step': 0.0025149388302431563,\n",
       "   'init_value': -1.009173035621643,\n",
       "   'ave_value': -1.0146043368637947,\n",
       "   'soft_opc': nan}),\n",
       " (20,\n",
       "  {'time_sample_batch': 0.00015054096665089115,\n",
       "   'time_algorithm_update': 0.002382355561832089,\n",
       "   'loss': 0.014088582257674119,\n",
       "   'time_step': 0.002599793577520071,\n",
       "   'init_value': -0.9771550893783569,\n",
       "   'ave_value': -0.9827193153878078,\n",
       "   'soft_opc': nan}),\n",
       " (21,\n",
       "  {'time_sample_batch': 0.00014404745471233117,\n",
       "   'time_algorithm_update': 0.0020987789288740223,\n",
       "   'loss': 0.014034033349062757,\n",
       "   'time_step': 0.002307251537036244,\n",
       "   'init_value': -0.9603726267814636,\n",
       "   'ave_value': -0.9662785915602278,\n",
       "   'soft_opc': nan}),\n",
       " (22,\n",
       "  {'time_sample_batch': 0.00013832866738217294,\n",
       "   'time_algorithm_update': 0.002045743014654972,\n",
       "   'loss': 0.013661034672129844,\n",
       "   'time_step': 0.0022463421072123533,\n",
       "   'init_value': -0.9445369839668274,\n",
       "   'ave_value': -0.9499523526825119,\n",
       "   'soft_opc': nan}),\n",
       " (23,\n",
       "  {'time_sample_batch': 0.00014723840769982827,\n",
       "   'time_algorithm_update': 0.002157996075571534,\n",
       "   'loss': 0.013897523014843304,\n",
       "   'time_step': 0.002371572687848554,\n",
       "   'init_value': -1.0299580097198486,\n",
       "   'ave_value': -1.035299172183604,\n",
       "   'soft_opc': nan}),\n",
       " (24,\n",
       "  {'time_sample_batch': 0.00014270438148654947,\n",
       "   'time_algorithm_update': 0.002012543363288758,\n",
       "   'loss': 0.01388622367626951,\n",
       "   'time_step': 0.0022169541660908413,\n",
       "   'init_value': -1.0207420587539673,\n",
       "   'ave_value': -1.0257451268727242,\n",
       "   'soft_opc': nan}),\n",
       " (25,\n",
       "  {'time_sample_batch': 0.0001462627380475368,\n",
       "   'time_algorithm_update': 0.002234361709386178,\n",
       "   'loss': 0.013774900815060019,\n",
       "   'time_step': 0.0024449097539949527,\n",
       "   'init_value': -0.9885272979736328,\n",
       "   'ave_value': -0.9936396478837171,\n",
       "   'soft_opc': nan}),\n",
       " (26,\n",
       "  {'time_sample_batch': 0.0001472862000345912,\n",
       "   'time_algorithm_update': 0.0021351676323962373,\n",
       "   'loss': 0.013538869348473382,\n",
       "   'time_step': 0.0023456782034698,\n",
       "   'init_value': -0.9681068062782288,\n",
       "   'ave_value': -0.9731957886553483,\n",
       "   'soft_opc': nan}),\n",
       " (27,\n",
       "  {'time_sample_batch': 0.00014263323607911825,\n",
       "   'time_algorithm_update': 0.002042268837774533,\n",
       "   'loss': 0.01308035251712762,\n",
       "   'time_step': 0.002242724281780269,\n",
       "   'init_value': -0.9832358360290527,\n",
       "   'ave_value': -0.9880763689703919,\n",
       "   'soft_opc': nan}),\n",
       " (28,\n",
       "  {'time_sample_batch': 0.00013972061913214404,\n",
       "   'time_algorithm_update': 0.0019833751039787413,\n",
       "   'loss': 0.013558182040780308,\n",
       "   'time_step': 0.002184311186805673,\n",
       "   'init_value': -0.9646814465522766,\n",
       "   'ave_value': -0.9696414606286201,\n",
       "   'soft_opc': nan}),\n",
       " (29,\n",
       "  {'time_sample_batch': 0.00014674554924758528,\n",
       "   'time_algorithm_update': 0.0020773361918594952,\n",
       "   'loss': 0.01340400861708012,\n",
       "   'time_step': 0.0022885424672606865,\n",
       "   'init_value': -0.9761149883270264,\n",
       "   'ave_value': -0.9809474990952354,\n",
       "   'soft_opc': nan}),\n",
       " (30,\n",
       "  {'time_sample_batch': 0.00014278883271445447,\n",
       "   'time_algorithm_update': 0.002160825870574743,\n",
       "   'loss': 0.013897476628015548,\n",
       "   'time_step': 0.0023653097196157536,\n",
       "   'init_value': -1.0243659019470215,\n",
       "   'ave_value': -1.029184744590196,\n",
       "   'soft_opc': nan}),\n",
       " (31,\n",
       "  {'time_sample_batch': 0.00014114760049111752,\n",
       "   'time_algorithm_update': 0.001999056149180766,\n",
       "   'loss': 0.014870946392291109,\n",
       "   'time_step': 0.002201563676560387,\n",
       "   'init_value': -1.0624487400054932,\n",
       "   'ave_value': -1.067451506661414,\n",
       "   'soft_opc': nan}),\n",
       " (32,\n",
       "  {'time_sample_batch': 0.00015031178068191425,\n",
       "   'time_algorithm_update': 0.0022094176407555515,\n",
       "   'loss': 0.01580397056578727,\n",
       "   'time_step': 0.0024240511153444887,\n",
       "   'init_value': -1.107540488243103,\n",
       "   'ave_value': -1.1122769307613956,\n",
       "   'soft_opc': nan}),\n",
       " (33,\n",
       "  {'time_sample_batch': 0.00014676129899426853,\n",
       "   'time_algorithm_update': 0.0021474847489446063,\n",
       "   'loss': 0.01674616938273635,\n",
       "   'time_step': 0.0023605125640139223,\n",
       "   'init_value': -1.2068020105361938,\n",
       "   'ave_value': -1.2112543260661859,\n",
       "   'soft_opc': nan}),\n",
       " (34,\n",
       "  {'time_sample_batch': 0.00014734295343212222,\n",
       "   'time_algorithm_update': 0.0020985353508951453,\n",
       "   'loss': 0.017187848355940803,\n",
       "   'time_step': 0.002313583206750266,\n",
       "   'init_value': -1.139150619506836,\n",
       "   'ave_value': -1.1436132349446129,\n",
       "   'soft_opc': nan}),\n",
       " (35,\n",
       "  {'time_sample_batch': 0.00015817524903456007,\n",
       "   'time_algorithm_update': 0.002349426914727769,\n",
       "   'loss': 0.016133714851908024,\n",
       "   'time_step': 0.0025794544089627973,\n",
       "   'init_value': -1.1254295110702515,\n",
       "   'ave_value': -1.1298894863505669,\n",
       "   'soft_opc': nan}),\n",
       " (36,\n",
       "  {'time_sample_batch': 0.0001498596543331624,\n",
       "   'time_algorithm_update': 0.002215377019043664,\n",
       "   'loss': 0.01630922499294862,\n",
       "   'time_step': 0.0024282459789093645,\n",
       "   'init_value': -1.1483098268508911,\n",
       "   'ave_value': -1.1527254340624569,\n",
       "   'soft_opc': nan}),\n",
       " (37,\n",
       "  {'time_sample_batch': 0.0001615644315923808,\n",
       "   'time_algorithm_update': 0.0024874536214493947,\n",
       "   'loss': 0.01616758457989745,\n",
       "   'time_step': 0.002720411383209576,\n",
       "   'init_value': -1.0980688333511353,\n",
       "   'ave_value': -1.1025539918733032,\n",
       "   'soft_opc': nan}),\n",
       " (38,\n",
       "  {'time_sample_batch': 0.0001499432909189976,\n",
       "   'time_algorithm_update': 0.0021186651564404743,\n",
       "   'loss': 0.015986064538549297,\n",
       "   'time_step': 0.0023350237713859402,\n",
       "   'init_value': -1.138708472251892,\n",
       "   'ave_value': -1.1432574723014939,\n",
       "   'soft_opc': nan}),\n",
       " (39,\n",
       "  {'time_sample_batch': 0.0001512765884399414,\n",
       "   'time_algorithm_update': 0.0022601016833190225,\n",
       "   'loss': 0.01566080172659085,\n",
       "   'time_step': 0.002478145249612239,\n",
       "   'init_value': -1.0939439535140991,\n",
       "   'ave_value': -1.09864159108407,\n",
       "   'soft_opc': nan}),\n",
       " (40,\n",
       "  {'time_sample_batch': 0.0001363279064586874,\n",
       "   'time_algorithm_update': 0.0020515869853165265,\n",
       "   'loss': 0.015017621576824734,\n",
       "   'time_step': 0.0022481745087747423,\n",
       "   'init_value': -1.0186997652053833,\n",
       "   'ave_value': -1.0235288714662747,\n",
       "   'soft_opc': nan}),\n",
       " (41,\n",
       "  {'time_sample_batch': 0.00013589505997225473,\n",
       "   'time_algorithm_update': 0.001881463924138584,\n",
       "   'loss': 0.014460833854733367,\n",
       "   'time_step': 0.0020781087440890442,\n",
       "   'init_value': -1.035244345664978,\n",
       "   'ave_value': -1.0397052007489442,\n",
       "   'soft_opc': nan}),\n",
       " (42,\n",
       "  {'time_sample_batch': 0.00014376911867180827,\n",
       "   'time_algorithm_update': 0.0020905719531152675,\n",
       "   'loss': 0.01456390390334582,\n",
       "   'time_step': 0.002298118041696744,\n",
       "   'init_value': -1.0830506086349487,\n",
       "   'ave_value': -1.0873627410397968,\n",
       "   'soft_opc': nan}),\n",
       " (43,\n",
       "  {'time_sample_batch': 0.00014270628231804572,\n",
       "   'time_algorithm_update': 0.0020296152740513274,\n",
       "   'loss': 0.014237122507621821,\n",
       "   'time_step': 0.0022344187343310657,\n",
       "   'init_value': -1.008405089378357,\n",
       "   'ave_value': -1.0127839076862974,\n",
       "   'soft_opc': nan}),\n",
       " (44,\n",
       "  {'time_sample_batch': 0.00014174717705450732,\n",
       "   'time_algorithm_update': 0.0020422386960179495,\n",
       "   'loss': 0.01262598041832818,\n",
       "   'time_step': 0.0022453819157593887,\n",
       "   'init_value': -0.9811661243438721,\n",
       "   'ave_value': -0.9854814348545023,\n",
       "   'soft_opc': nan}),\n",
       " (45,\n",
       "  {'time_sample_batch': 0.00013736847592920812,\n",
       "   'time_algorithm_update': 0.0019757033480598605,\n",
       "   'loss': 0.013166741835684372,\n",
       "   'time_step': 0.0021715215778568067,\n",
       "   'init_value': -1.0112711191177368,\n",
       "   'ave_value': -1.015539491914205,\n",
       "   'soft_opc': nan}),\n",
       " (46,\n",
       "  {'time_sample_batch': 0.000139515057783192,\n",
       "   'time_algorithm_update': 0.002239037754866963,\n",
       "   'loss': 0.013041086338034802,\n",
       "   'time_step': 0.002436758173896946,\n",
       "   'init_value': -1.0293153524398804,\n",
       "   'ave_value': -1.0333668895458274,\n",
       "   'soft_opc': nan}),\n",
       " (47,\n",
       "  {'time_sample_batch': 0.00014684059082239797,\n",
       "   'time_algorithm_update': 0.0022203976581199837,\n",
       "   'loss': 0.0134339064295934,\n",
       "   'time_step': 0.0024336359223906708,\n",
       "   'init_value': -1.0487778186798096,\n",
       "   'ave_value': -1.0526104984793936,\n",
       "   'soft_opc': nan}),\n",
       " (48,\n",
       "  {'time_sample_batch': 0.0001383976404107513,\n",
       "   'time_algorithm_update': 0.002004898490558181,\n",
       "   'loss': 0.01391516288942516,\n",
       "   'time_step': 0.0022016440545779424,\n",
       "   'init_value': -1.0611566305160522,\n",
       "   'ave_value': -1.064918287818931,\n",
       "   'soft_opc': nan}),\n",
       " (49,\n",
       "  {'time_sample_batch': 0.00014159348125066735,\n",
       "   'time_algorithm_update': 0.002073873148420677,\n",
       "   'loss': 0.014711927342006575,\n",
       "   'time_step': 0.002279046727747472,\n",
       "   'init_value': -1.0797172784805298,\n",
       "   'ave_value': -1.0836601058669069,\n",
       "   'soft_opc': nan}),\n",
       " (50,\n",
       "  {'time_sample_batch': 0.00013469672148754493,\n",
       "   'time_algorithm_update': 0.0020765655404614424,\n",
       "   'loss': 0.014310937399106917,\n",
       "   'time_step': 0.0022711433419334045,\n",
       "   'init_value': -1.0202535390853882,\n",
       "   'ave_value': -1.0242416432717358,\n",
       "   'soft_opc': nan})]"
      ]
     },
     "execution_count": 11,
     "metadata": {},
     "output_type": "execute_result"
    }
   ],
   "source": [
    "from d3rlpy.ope import FQE\n",
    "# metrics to evaluate with\n",
    "from d3rlpy.metrics.scorer import soft_opc_scorer\n",
    "\n",
    "\n",
    "ope_dataset = get_dataset([2,4,6,8], path=\"collected_data/rl_stoch_small.txt\") #change if you'd prefer different chunks\n",
    "ope_train_episodes, ope_test_episodes = train_test_split(ope_dataset, test_size=0.2)\n",
    "\n",
    "fqe = FQE(algo=model, action_scaler = action_scaler, use_gpu=False) #change this if you have one!\n",
    "fqe.fit(ope_train_episodes, eval_episodes=ope_test_episodes,\n",
    "        tensorboard_dir='runs',\n",
    "        n_epochs=50, n_steps_per_epoch=1000, #change if overfitting/underfitting\n",
    "        scorers={\n",
    "           'init_value': initial_state_value_estimation_scorer,\n",
    "            'ave_value': average_value_estimation_scorer,\n",
    "           'soft_opc': soft_opc_scorer(return_threshold=0)\n",
    "        })"
   ]
  }
 ],
 "metadata": {
  "kernelspec": {
   "display_name": "Python 3 (ipykernel)",
   "language": "python",
   "name": "python3"
  },
  "language_info": {
   "codemirror_mode": {
    "name": "ipython",
    "version": 3
   },
   "file_extension": ".py",
   "mimetype": "text/x-python",
   "name": "python",
   "nbconvert_exporter": "python",
   "pygments_lexer": "ipython3",
   "version": "3.9.7"
  }
 },
 "nbformat": 4,
 "nbformat_minor": 5
}
