{
 "cells": [
  {
   "cell_type": "markdown",
   "id": "aaf5d2db-5453-469c-9357-c37dedea7e89",
   "metadata": {},
   "source": [
    "# Sample Workflow for d3rlpy Experiments"
   ]
  },
  {
   "cell_type": "code",
   "execution_count": 1,
   "id": "bfb6706a-eaec-4154-be04-e2b7c168479a",
   "metadata": {},
   "outputs": [],
   "source": [
    "import numpy as np\n",
    "import pandas as pd\n",
    "import matplotlib.pyplot as plt\n",
    "import itertools\n",
    "import math\n",
    "import subprocess\n",
    "import os\n",
    "import d3rlpy\n",
    "plt.style.use('matplotlibrc')\n",
    "\n",
    "from Python.data_sampler import *"
   ]
  },
  {
   "cell_type": "markdown",
   "id": "361d8a2f-129e-4b9c-81cd-55314fabeabd",
   "metadata": {},
   "source": [
    "## Building an MDPDataset\n",
    "\n",
    "We first read in a large batch of samples from the file. As `d3rlpy` wants it in the form (observations, actions, rewards, terminal flags), we go ahead and do that. Here's a helper function to get a dataset from a list of chunks of your choosing."
   ]
  },
  {
   "cell_type": "code",
   "execution_count": 2,
   "id": "3456d718-b8bb-460f-a429-9d99633145f7",
   "metadata": {},
   "outputs": [],
   "source": [
    "def get_dataset(chunks : list, batch_size=30000, \n",
    "                path=\"collected_data/rl_deterministic.txt\") -> d3rlpy.dataset.MDPDataset :\n",
    "    random.seed(0)\n",
    "    samples = DataSampler(path_to_data=path)\n",
    "    states = []\n",
    "    actions = []\n",
    "    rewards = []\n",
    "    next_states = []\n",
    "    for chunk in chunks:\n",
    "        samples.use_chunk(chunk)\n",
    "        samples.read_chunk()\n",
    "        [statesChunk, actionsChunk, rewardsChunk, nextStatesChunk] = samples.get_batch(batch_size)\n",
    "        states.append(statesChunk)\n",
    "        actions.append(actionsChunk)\n",
    "        rewards.append(rewardsChunk)\n",
    "        next_states.append(nextStatesChunk)\n",
    "    states = torch.cat(states)\n",
    "    actions = torch.cat(actions)\n",
    "    rewards = torch.cat(rewards)\n",
    "    next_states = torch.cat(next_states)\n",
    "    terminals = np.zeros(len(states))\n",
    "    terminals[::100] = 1 #episode length 100, change if necessary\n",
    "    print(states.shape)\n",
    "    dataset = d3rlpy.dataset.MDPDataset(states.numpy(), \n",
    "                                        actions.numpy(), \n",
    "                                        rewards.numpy(), terminals)\n",
    "    return dataset, states.numpy(), actions.numpy(), rewards.numpy()"
   ]
  },
  {
   "cell_type": "markdown",
   "id": "eeaff27f-fd9a-4ad2-81c6-fca5f5fe6ce9",
   "metadata": {},
   "source": [
    "We can build the dataset from there, just like this, and split into train and test sets."
   ]
  },
  {
   "cell_type": "code",
   "execution_count": 17,
   "id": "f543168b-2603-47ed-bff8-d0bafb40bb0f",
   "metadata": {},
   "outputs": [
    {
     "name": "stdout",
     "output_type": "stream",
     "text": [
      "[ 0.00000000e+00  7.95731469e+08 -7.69891077e-02  4.00000469e-03\n",
      "  5.99998658e-03  0.00000000e+00 -5.33423489e+00 -1.57091618e+00\n",
      "  1.50295370e-01 -2.41931634e-01  6.00000000e-01]\n",
      "Read chunk # 1 out of 10000\n",
      "[ 0.00000000e+00  7.95731469e+08  1.47410892e-01 -8.79999531e-03\n",
      "  2.29998658e-03  0.00000000e+00 -5.33423489e+00 -1.57091618e+00\n",
      "  9.86362318e-02  3.75821673e-01 -6.00000000e-01]\n",
      "Read chunk # 2 out of 10000\n",
      "[ 0.00000000e+00  7.95731469e+08 -1.03891077e-02 -1.41999953e-02\n",
      " -2.10001342e-03  0.00000000e+00 -5.33423489e+00 -1.57091618e+00\n",
      " -1.78778459e-03 -1.34615461e-02  4.84073546e-02]\n",
      "Read chunk # 3 out of 10000\n",
      "[ 0.00000000e+00  7.95731469e+08 -8.17891077e-02 -1.19999531e-03\n",
      "  7.39998658e-03  0.00000000e+00 -5.33423489e+00 -1.57091618e+00\n",
      "  2.09713430e-01 -2.63658359e-01  6.00000000e-01]\n",
      "Read chunk # 4 out of 10000\n",
      "[ 0.00000000e+00  7.95731469e+08 -7.24891077e-02 -1.35999953e-02\n",
      " -4.20001342e-03  0.00000000e+00 -5.33423489e+00 -1.57091618e+00\n",
      " -6.23311010e-02 -1.64283998e-01  6.00000000e-01]\n",
      "Read chunk # 5 out of 10000\n",
      "[ 0.00000000e+00  7.95731469e+08  1.24610892e-01  2.40000469e-03\n",
      " -7.60001342e-03  0.00000000e+00 -5.33423489e+00 -1.57091618e+00\n",
      " -2.20016566e-01  3.79282423e-01 -6.00000000e-01]\n",
      "Read chunk # 6 out of 10000\n",
      "[ 0.00000000e+00  7.95731469e+08  7.01089229e-03 -4.19999531e-03\n",
      "  7.39998658e-03  0.00000000e+00 -5.33423489e+00 -1.57091618e+00\n",
      "  2.21623335e-01 -2.86362315e-02 -8.00043364e-02]\n",
      "Read chunk # 7 out of 10000\n",
      "[ 0.00000000e+00  7.95731469e+08 -9.01891077e-02  1.08000047e-02\n",
      "  3.99986580e-04  0.00000000e+00 -5.33423489e+00 -1.57091618e+00\n",
      " -3.17973088e-02 -2.40776052e-01  6.00000000e-01]\n",
      "Read chunk # 8 out of 10000\n",
      "[ 0.00000000e+00  7.95731469e+08 -1.03989108e-01 -1.37999953e-02\n",
      "  7.99998658e-03  0.00000000e+00 -5.33423489e+00 -1.57091618e+00\n",
      "  2.76352555e-01 -3.26280816e-01  6.00000000e-01]\n",
      "Read chunk # 9 out of 10000\n",
      "[ 0.00000000e+00  7.95731469e+08  6.91108923e-02 -5.99999531e-03\n",
      " -6.00001342e-03  0.00000000e+00 -5.33423489e+00 -1.57091618e+00\n",
      " -1.42355434e-01  2.22081792e-01 -6.00000000e-01]\n",
      "Read chunk # 10 out of 10000\n",
      "[ 0.00000000e+00  7.95731469e+08  9.46108923e-02 -1.43999953e-02\n",
      " -1.50001342e-03  0.00000000e+00 -5.33423489e+00 -1.57091618e+00\n",
      "  1.56237335e-02  2.60569314e-01 -6.00000000e-01]\n",
      "Read chunk # 11 out of 10000\n",
      "torch.Size([305470, 6])\n"
     ]
    }
   ],
   "source": [
    "dataset, states, actions, rewards = get_dataset([i for i in range(11)], path=\"collected_data/rl_det_small.txt\")"
   ]
  },
  {
   "cell_type": "code",
   "execution_count": 18,
   "id": "8014463e-ab16-4498-ae33-63b91854534c",
   "metadata": {},
   "outputs": [
    {
     "name": "stdout",
     "output_type": "stream",
     "text": [
      "The behavior policy value statistics are:\n"
     ]
    },
    {
     "data": {
      "text/plain": [
       "{'mean': -4.3529935,\n",
       " 'std': 2.8112352,\n",
       " 'min': -15.256291,\n",
       " 'max': 0.0,\n",
       " 'histogram': (array([ 38,  11,  13,  33,  23,  18,  22,  45,  98,  67,  88, 138, 209,\n",
       "         293, 227, 536, 582, 376, 208,  30]),\n",
       "  array([-15.256291 , -14.493477 , -13.730662 , -12.967848 , -12.205033 ,\n",
       "         -11.442219 , -10.679404 ,  -9.91659  ,  -9.153775 ,  -8.390961 ,\n",
       "          -7.6281457,  -6.865331 ,  -6.1025167,  -5.339702 ,  -4.5768876,\n",
       "          -3.8140728,  -3.0512583,  -2.2884438,  -1.5256292,  -0.7628146,\n",
       "           0.       ], dtype=float32))}"
      ]
     },
     "execution_count": 18,
     "metadata": {},
     "output_type": "execute_result"
    }
   ],
   "source": [
    "print(\"The behavior policy value statistics are:\")\n",
    "dataset.compute_stats()['return']"
   ]
  },
  {
   "cell_type": "code",
   "execution_count": 20,
   "id": "dc014ece-b23b-41de-b8a3-8514b1a4aa6c",
   "metadata": {},
   "outputs": [],
   "source": [
    "model.load_model('cqlDet100model.pt')"
   ]
  },
  {
   "cell_type": "code",
   "execution_count": 38,
   "id": "a5dc732d-fc15-4fda-84bb-0e15aa6a3a04",
   "metadata": {},
   "outputs": [
    {
     "data": {
      "text/plain": [
       "[<matplotlib.lines.Line2D at 0x16a459970>]"
      ]
     },
     "execution_count": 38,
     "metadata": {},
     "output_type": "execute_result"
    },
    {
     "data": {
      "image/png": "[encoded data removed]",
      "text/plain": [
       "<Figure size 432x288 with 1 Axes>"
      ]
     },
     "metadata": {
      "needs_background": "light"
     },
     "output_type": "display_data"
    }
   ],
   "source": [
    "plt.plot(states[:,0])"
   ]
  },
  {
   "cell_type": "code",
   "execution_count": 22,
   "id": "6a619919-00bf-4c51-8df9-3ff598445ff0",
   "metadata": {},
   "outputs": [
    {
     "data": {
      "text/plain": [
       "[<matplotlib.lines.Line2D at 0x1696c4070>,\n",
       " <matplotlib.lines.Line2D at 0x169c46f10>,\n",
       " <matplotlib.lines.Line2D at 0x169d0b3d0>]"
      ]
     },
     "execution_count": 22,
     "metadata": {},
     "output_type": "execute_result"
    },
    {
     "data": {
      "image/png": "[encoded data removed]",
      "text/plain": [
       "<Figure size 432x288 with 1 Axes>"
      ]
     },
     "metadata": {
      "needs_background": "light"
     },
     "output_type": "display_data"
    }
   ],
   "source": [
    "plt.plot(actions)"
   ]
  },
  {
   "cell_type": "code",
   "execution_count": 25,
   "id": "4e018182-3a94-49cb-8f5e-a2f74f03b854",
   "metadata": {},
   "outputs": [
    {
     "data": {
      "text/plain": [
       "[<matplotlib.lines.Line2D at 0x169e81040>,\n",
       " <matplotlib.lines.Line2D at 0x169e81070>,\n",
       " <matplotlib.lines.Line2D at 0x169e81190>]"
      ]
     },
     "execution_count": 25,
     "metadata": {},
     "output_type": "execute_result"
    },
    {
     "data": {
      "image/png": "[encoded data removed]",
      "text/plain": [
       "<Figure size 432x288 with 1 Axes>"
      ]
     },
     "metadata": {
      "needs_background": "light"
     },
     "output_type": "display_data"
    }
   ],
   "source": [
    "plt.plot(model.predict(states))"
   ]
  },
  {
   "cell_type": "code",
   "execution_count": 5,
   "id": "f051bee1-1f8b-4acc-a658-d80a5b4df54b",
   "metadata": {},
   "outputs": [],
   "source": [
    "from sklearn.model_selection import train_test_split\n",
    "train_episodes, test_episodes = train_test_split(dataset, test_size=0.2)"
   ]
  },
  {
   "cell_type": "markdown",
   "id": "1025ba17-f95f-426b-adc1-9312e5e180fa",
   "metadata": {},
   "source": [
    "## Setting up an Algorithm"
   ]
  },
  {
   "cell_type": "code",
   "execution_count": 19,
   "id": "f5ef782b-6847-4fa4-8d95-3fa8904866bb",
   "metadata": {},
   "outputs": [],
   "source": [
    "from d3rlpy.algos import CQL\n",
    "\n",
    "from d3rlpy.preprocessing import MinMaxActionScaler\n",
    "action_scaler = MinMaxActionScaler(minimum=-0.6, maximum=0.6)\n",
    "#cql = CQL(action_scaler=action_scaler)\n",
    "\n",
    "model = CQL(q_func_factory='mean', #qr -> quantile regression q function, but you don't have to use this\n",
    "            reward_scaler='standard',\n",
    "            action_scaler=action_scaler,\n",
    "          actor_learning_rate=1e-5, \n",
    "          critic_learning_rate=0.0003, \n",
    "            use_gpu=False) #change it to true if you have one\n",
    "model.build_with_dataset(dataset)"
   ]
  },
  {
   "cell_type": "code",
   "execution_count": 7,
   "id": "2fd44e0e-0ab2-4ab0-8f96-7a8eb382cda0",
   "metadata": {},
   "outputs": [
    {
     "name": "stdout",
     "output_type": "stream",
     "text": [
      "0.23601703744964858\n"
     ]
    }
   ],
   "source": [
    "from d3rlpy.metrics.scorer import td_error_scorer\n",
    "from d3rlpy.metrics.scorer import average_value_estimation_scorer\n",
    "from d3rlpy.metrics.scorer import initial_state_value_estimation_scorer\n",
    "\n",
    "# calculate metrics with test dataset\n",
    "ave_error_init = average_value_estimation_scorer(model, test_episodes)\n",
    "print(ave_error_init)"
   ]
  },
  {
   "cell_type": "code",
   "execution_count": 9,
   "id": "8f69d169-0f59-4e77-8654-c5d79dae2b1a",
   "metadata": {},
   "outputs": [
    {
     "data": {
      "text/html": [
       "\n",
       "      <iframe id=\"tensorboard-frame-629f6fbed82c07cd\" width=\"100%\" height=\"800\" frameborder=\"0\">\n",
       "      </iframe>\n",
       "      <script>\n",
       "        (function() {\n",
       "          const frame = document.getElementById(\"tensorboard-frame-629f6fbed82c07cd\");\n",
       "          const url = new URL(\"/\", window.location);\n",
       "          const port = 6006;\n",
       "          if (port) {\n",
       "            url.port = port;\n",
       "          }\n",
       "          frame.src = url;\n",
       "        })();\n",
       "      </script>\n",
       "    "
      ],
      "text/plain": [
       "<IPython.core.display.HTML object>"
      ]
     },
     "metadata": {},
     "output_type": "display_data"
    }
   ],
   "source": [
    "%load_ext tensorboard\n",
    "%tensorboard --logdir runs"
   ]
  },
  {
   "cell_type": "code",
   "execution_count": 10,
   "id": "9b0384d5-a843-4d30-a355-404215f27fa4",
   "metadata": {},
   "outputs": [
    {
     "name": "stdout",
     "output_type": "stream",
     "text": [
      "2022-04-07 22:06.12 [debug    ] RoundIterator is selected.\n",
      "2022-04-07 22:06.12 [info     ] Directory is created at d3rlpy_logs\\CQL_20220407220612\n",
      "2022-04-07 22:06.12 [debug    ] Fitting action scaler...       action_scaler=min_max\n",
      "2022-04-07 22:06.12 [debug    ] Fitting reward scaler...       reward_scaler=standard\n",
      "2022-04-07 22:06.12 [warning  ] Skip building models since they're already built.\n",
      "2022-04-07 22:06.12 [info     ] Parameters are saved to d3rlpy_logs\\CQL_20220407220612\\params.json params={'action_scaler': {'type': 'min_max', 'params': {'minimum': array(-0.6), 'maximum': array(0.6)}}, 'actor_encoder_factory': {'type': 'default', 'params': {'activation': 'relu', 'use_batch_norm': False, 'dropout_rate': None}}, 'actor_learning_rate': 1e-05, 'actor_optim_factory': {'optim_cls': 'Adam', 'betas': (0.9, 0.999), 'eps': 1e-08, 'weight_decay': 0, 'amsgrad': False}, 'alpha_learning_rate': 0.0001, 'alpha_optim_factory': {'optim_cls': 'Adam', 'betas': (0.9, 0.999), 'eps': 1e-08, 'weight_decay': 0, 'amsgrad': False}, 'alpha_threshold': 10.0, 'batch_size': 256, 'conservative_weight': 5.0, 'critic_encoder_factory': {'type': 'default', 'params': {'activation': 'relu', 'use_batch_norm': False, 'dropout_rate': None}}, 'critic_learning_rate': 0.0003, 'critic_optim_factory': {'optim_cls': 'Adam', 'betas': (0.9, 0.999), 'eps': 1e-08, 'weight_decay': 0, 'amsgrad': False}, 'gamma': 0.99, 'generated_maxlen': 100000, 'initial_alpha': 1.0, 'initial_temperature': 1.0, 'n_action_samples': 10, 'n_critics': 2, 'n_frames': 1, 'n_steps': 1, 'q_func_factory': {'type': 'mean', 'params': {'bootstrap': False, 'share_encoder': False}}, 'real_ratio': 1.0, 'reward_scaler': {'type': 'standard', 'params': {'mean': -0.04222798673762325, 'std': 0.029288196098310567, 'eps': 0.001, 'multiplier': 1.0}}, 'scaler': None, 'soft_q_backup': False, 'target_reduction_type': 'min', 'tau': 0.005, 'temp_learning_rate': 0.0001, 'temp_optim_factory': {'optim_cls': 'Adam', 'betas': (0.9, 0.999), 'eps': 1e-08, 'weight_decay': 0, 'amsgrad': False}, 'use_gpu': None, 'algorithm': 'CQL', 'observation_shape': (6,), 'action_size': 3}\n"
     ]
    },
    {
     "data": {
      "application/vnd.jupyter.widget-view+json": {
       "model_id": "a703eb1efa224772881081c4ca60af27",
       "version_major": 2,
       "version_minor": 0
      },
      "text/plain": [
       "Epoch 1/5:   0%|          | 0/8590 [00:00<?, ?it/s]"
      ]
     },
     "metadata": {},
     "output_type": "display_data"
    },
    {
     "name": "stdout",
     "output_type": "stream",
     "text": [
      "2022-04-07 22:50.17 [info     ] CQL_20220407220612: epoch=1 step=8590 epoch=1 metrics={'time_sample_batch': 0.0009770955140154909, 'time_algorithm_update': 0.29735887328182303, 'temp_loss': 0.3410345619932528, 'temp': 0.9888876052965802, 'alpha_loss': 8.785565134753224, 'alpha': 0.7231650749622596, 'critic_loss': 36.18224927438846, 'actor_loss': 24.133028367034033, 'time_step': 0.29970271362553375, 'td_error': 71.8260358979081, 'init_value': -48.7784538269043, 'ave_value': -48.87078756352829} step=8590\n",
      "2022-04-07 22:50.17 [info     ] Model parameters are saved to d3rlpy_logs\\CQL_20220407220612\\model_8590.pt\n"
     ]
    },
    {
     "data": {
      "application/vnd.jupyter.widget-view+json": {
       "model_id": "687fcdf20fa34dbf9ec75abeab683191",
       "version_major": 2,
       "version_minor": 0
      },
      "text/plain": [
       "Epoch 2/5:   0%|          | 0/8590 [00:00<?, ?it/s]"
      ]
     },
     "metadata": {},
     "output_type": "display_data"
    },
    {
     "name": "stdout",
     "output_type": "stream",
     "text": [
      "2022-04-07 23:40.17 [info     ] CQL_20220407220612: epoch=2 step=17180 epoch=2 metrics={'time_sample_batch': 0.0008257755439411914, 'time_algorithm_update': 0.33884366982474456, 'temp_loss': -0.00011581030248190526, 'temp': 1.2431983920276095, 'alpha_loss': 4.4406926053783256, 'alpha': 0.32912610182072427, 'critic_loss': 193.84284772006959, 'actor_loss': 61.46111132096634, 'time_step': 0.34103232834475145, 'td_error': 123.44744246701725, 'init_value': -60.01475143432617, 'ave_value': -60.1333289133089} step=17180\n",
      "2022-04-07 23:40.17 [info     ] Model parameters are saved to d3rlpy_logs\\CQL_20220407220612\\model_17180.pt\n"
     ]
    },
    {
     "data": {
      "application/vnd.jupyter.widget-view+json": {
       "model_id": "2f0576e3717d40d0b786713862d7dbdf",
       "version_major": 2,
       "version_minor": 0
      },
      "text/plain": [
       "Epoch 3/5:   0%|          | 0/8590 [00:00<?, ?it/s]"
      ]
     },
     "metadata": {},
     "output_type": "display_data"
    },
    {
     "name": "stdout",
     "output_type": "stream",
     "text": [
      "2022-04-08 00:30.10 [info     ] CQL_20220407220612: epoch=3 step=25770 epoch=3 metrics={'time_sample_batch': 0.000880347724843497, 'time_algorithm_update': 0.33793379966260667, 'temp_loss': 0.022156629652978595, 'temp': 1.1385223336908121, 'alpha_loss': 1.5525975524234272, 'alpha': 0.15624857592430047, 'critic_loss': 254.6554936030691, 'actor_loss': 63.8807864867489, 'time_step': 0.3401938022640171, 'td_error': 138.5722329446111, 'init_value': -58.860687255859375, 'ave_value': -58.989980799579456} step=25770\n",
      "2022-04-08 00:30.10 [info     ] Model parameters are saved to d3rlpy_logs\\CQL_20220407220612\\model_25770.pt\n"
     ]
    },
    {
     "data": {
      "application/vnd.jupyter.widget-view+json": {
       "model_id": "594431fd9d7244ee8f154809ffa6b7bd",
       "version_major": 2,
       "version_minor": 0
      },
      "text/plain": [
       "Epoch 4/5:   0%|          | 0/8590 [00:00<?, ?it/s]"
      ]
     },
     "metadata": {},
     "output_type": "display_data"
    },
    {
     "name": "stdout",
     "output_type": "stream",
     "text": [
      "2022-04-08 01:18.56 [info     ] CQL_20220407220612: epoch=4 step=34360 epoch=4 metrics={'time_sample_batch': 0.0009392525458641186, 'time_algorithm_update': 0.3300192184581468, 'temp_loss': 0.03313248623246533, 'temp': 0.9043158824979496, 'alpha_loss': 0.5097132887270592, 'alpha': 0.07484302060620054, 'critic_loss': 248.88140230060873, 'actor_loss': 55.150059736427245, 'time_step': 0.3324029747626557, 'td_error': 122.52313128510093, 'init_value': -47.87778091430664, 'ave_value': -48.00197334582618} step=34360\n",
      "2022-04-08 01:18.56 [info     ] Model parameters are saved to d3rlpy_logs\\CQL_20220407220612\\model_34360.pt\n"
     ]
    },
    {
     "data": {
      "application/vnd.jupyter.widget-view+json": {
       "model_id": "f6a13bc750ba4ebe9d7735f35cc786ca",
       "version_major": 2,
       "version_minor": 0
      },
      "text/plain": [
       "Epoch 5/5:   0%|          | 0/8590 [00:00<?, ?it/s]"
      ]
     },
     "metadata": {},
     "output_type": "display_data"
    },
    {
     "name": "stdout",
     "output_type": "stream",
     "text": [
      "2022-04-08 02:06.50 [info     ] CQL_20220407220612: epoch=5 step=42950 epoch=5 metrics={'time_sample_batch': 0.0009074546960513167, 'time_algorithm_update': 0.3238304439329296, 'temp_loss': 0.023459250246590964, 'temp': 0.7026218292876922, 'alpha_loss': 0.17984766460330648, 'alpha': 0.03568290511516982, 'critic_loss': 201.15485333642803, 'actor_loss': 41.53012437309736, 'time_step': 0.3261824154048915, 'td_error': 93.56227844641366, 'init_value': -33.98887252807617, 'ave_value': -34.097401090584675} step=42950\n",
      "2022-04-08 02:06.50 [info     ] Model parameters are saved to d3rlpy_logs\\CQL_20220407220612\\model_42950.pt\n"
     ]
    },
    {
     "data": {
      "text/plain": [
       "[(1,\n",
       "  {'time_sample_batch': 0.0009770955140154909,\n",
       "   'time_algorithm_update': 0.29735887328182303,\n",
       "   'temp_loss': 0.3410345619932528,\n",
       "   'temp': 0.9888876052965802,\n",
       "   'alpha_loss': 8.785565134753224,\n",
       "   'alpha': 0.7231650749622596,\n",
       "   'critic_loss': 36.18224927438846,\n",
       "   'actor_loss': 24.133028367034033,\n",
       "   'time_step': 0.29970271362553375,\n",
       "   'td_error': 71.8260358979081,\n",
       "   'init_value': -48.7784538269043,\n",
       "   'ave_value': -48.87078756352829}),\n",
       " (2,\n",
       "  {'time_sample_batch': 0.0008257755439411914,\n",
       "   'time_algorithm_update': 0.33884366982474456,\n",
       "   'temp_loss': -0.00011581030248190526,\n",
       "   'temp': 1.2431983920276095,\n",
       "   'alpha_loss': 4.4406926053783256,\n",
       "   'alpha': 0.32912610182072427,\n",
       "   'critic_loss': 193.84284772006959,\n",
       "   'actor_loss': 61.46111132096634,\n",
       "   'time_step': 0.34103232834475145,\n",
       "   'td_error': 123.44744246701725,\n",
       "   'init_value': -60.01475143432617,\n",
       "   'ave_value': -60.1333289133089}),\n",
       " (3,\n",
       "  {'time_sample_batch': 0.000880347724843497,\n",
       "   'time_algorithm_update': 0.33793379966260667,\n",
       "   'temp_loss': 0.022156629652978595,\n",
       "   'temp': 1.1385223336908121,\n",
       "   'alpha_loss': 1.5525975524234272,\n",
       "   'alpha': 0.15624857592430047,\n",
       "   'critic_loss': 254.6554936030691,\n",
       "   'actor_loss': 63.8807864867489,\n",
       "   'time_step': 0.3401938022640171,\n",
       "   'td_error': 138.5722329446111,\n",
       "   'init_value': -58.860687255859375,\n",
       "   'ave_value': -58.989980799579456}),\n",
       " (4,\n",
       "  {'time_sample_batch': 0.0009392525458641186,\n",
       "   'time_algorithm_update': 0.3300192184581468,\n",
       "   'temp_loss': 0.03313248623246533,\n",
       "   'temp': 0.9043158824979496,\n",
       "   'alpha_loss': 0.5097132887270592,\n",
       "   'alpha': 0.07484302060620054,\n",
       "   'critic_loss': 248.88140230060873,\n",
       "   'actor_loss': 55.150059736427245,\n",
       "   'time_step': 0.3324029747626557,\n",
       "   'td_error': 122.52313128510093,\n",
       "   'init_value': -47.87778091430664,\n",
       "   'ave_value': -48.00197334582618}),\n",
       " (5,\n",
       "  {'time_sample_batch': 0.0009074546960513167,\n",
       "   'time_algorithm_update': 0.3238304439329296,\n",
       "   'temp_loss': 0.023459250246590964,\n",
       "   'temp': 0.7026218292876922,\n",
       "   'alpha_loss': 0.17984766460330648,\n",
       "   'alpha': 0.03568290511516982,\n",
       "   'critic_loss': 201.15485333642803,\n",
       "   'actor_loss': 41.53012437309736,\n",
       "   'time_step': 0.3261824154048915,\n",
       "   'td_error': 93.56227844641366,\n",
       "   'init_value': -33.98887252807617,\n",
       "   'ave_value': -34.097401090584675})]"
      ]
     },
     "execution_count": 10,
     "metadata": {},
     "output_type": "execute_result"
    }
   ],
   "source": [
    "model.fit(train_episodes,\n",
    "        eval_episodes=test_episodes,\n",
    "        n_epochs=5, \n",
    "        tensorboard_dir='runs',\n",
    "        scorers={\n",
    "            'td_error': td_error_scorer,\n",
    "            'init_value': initial_state_value_estimation_scorer,\n",
    "            'ave_value': average_value_estimation_scorer\n",
    "        })"
   ]
  },
  {
   "cell_type": "markdown",
   "id": "6bbb0460-f723-4b67-a553-57887d11dbc9",
   "metadata": {},
   "source": [
    "## Off-Policy Evaluation\n",
    "\n",
    "We do get some metrics on a test set of initial state value and average value. However, these estimates (using the critic's Q-function) of model performance are biased. They're useful for validation during training, but not much else. Instead, we fit a Q-function to the data (or a separate dataset, as I've done here) separately and evaluate the model's performance on it.\n",
    "\n",
    "Feel free to change the chunks and number of steps."
   ]
  },
  {
   "cell_type": "code",
   "execution_count": 11,
   "id": "de79cadb-28ef-42f8-b230-756f3ee11bb5",
   "metadata": {},
   "outputs": [
    {
     "name": "stdout",
     "output_type": "stream",
     "text": [
      "[ 0.00000000e+00  7.95731469e+08 -7.69891077e-02  4.00000469e-03\n",
      "  5.99998658e-03  0.00000000e+00 -5.33423489e+00 -1.57091618e+00\n",
      "  1.50295370e-01 -2.41931634e-01  6.00000000e-01]\n",
      "Read chunk # 1 out of 10000\n",
      "[ 0.00000000e+00  7.95731469e+08 -1.03891077e-02 -1.41999953e-02\n",
      " -2.10001342e-03  0.00000000e+00 -5.33423489e+00 -1.57091618e+00\n",
      " -1.78778459e-03 -1.34615461e-02  4.84073546e-02]\n",
      "Read chunk # 3 out of 10000\n",
      "[ 0.00000000e+00  7.95731469e+08 -7.24891077e-02 -1.35999953e-02\n",
      " -4.20001342e-03  0.00000000e+00 -5.33423489e+00 -1.57091618e+00\n",
      " -6.23311010e-02 -1.64283998e-01  6.00000000e-01]\n",
      "Read chunk # 5 out of 10000\n",
      "[ 0.00000000e+00  7.95731469e+08  7.01089229e-03 -4.19999531e-03\n",
      "  7.39998658e-03  0.00000000e+00 -5.33423489e+00 -1.57091618e+00\n",
      "  2.21623335e-01 -2.86362315e-02 -8.00043364e-02]\n",
      "Read chunk # 7 out of 10000\n",
      "[ 0.00000000e+00  7.95731469e+08 -1.03989108e-01 -1.37999953e-02\n",
      "  7.99998658e-03  0.00000000e+00 -5.33423489e+00 -1.57091618e+00\n",
      "  2.76352555e-01 -3.26280816e-01  6.00000000e-01]\n",
      "Read chunk # 9 out of 10000\n",
      "[ 0.00000000e+00  7.95731469e+08  9.46108923e-02 -1.43999953e-02\n",
      " -1.50001342e-03  0.00000000e+00 -5.33423489e+00 -1.57091618e+00\n",
      "  1.56237335e-02  2.60569314e-01 -6.00000000e-01]\n",
      "Read chunk # 11 out of 10000\n",
      "[ 0.00000000e+00  7.95731469e+08  1.38710892e-01  2.80000469e-03\n",
      " -4.80001342e-03  0.00000000e+00 -5.33423489e+00 -1.57091618e+00\n",
      " -1.44056107e-01  3.98554474e-01 -6.00000000e-01]\n",
      "Read chunk # 13 out of 10000\n",
      "[ 0.00000000e+00  7.95731469e+08 -5.23891077e-02  1.76000047e-02\n",
      " -5.00001342e-03  0.00000000e+00 -5.33423489e+00 -1.57091618e+00\n",
      " -2.08350813e-01 -1.05930521e-01  5.38623113e-01]\n",
      "Read chunk # 15 out of 10000\n",
      "[ 0.00000000e+00  7.95731469e+08 -8.44891077e-02 -9.99995308e-04\n",
      " -5.00001342e-03  0.00000000e+00 -5.33423489e+00 -1.57091618e+00\n",
      " -1.34509402e-01 -1.90887844e-01  6.00000000e-01]\n",
      "Read chunk # 17 out of 10000\n",
      "[ 0.00000000e+00  7.95731469e+08  4.15108923e-02 -1.43999953e-02\n",
      "  9.69998658e-03  0.00000000e+00 -5.33423489e+00 -1.57091618e+00\n",
      "  3.25817522e-01  4.78498270e-02 -4.31375753e-01]\n",
      "Read chunk # 19 out of 10000\n",
      "[ 0.00000000e+00  7.95731469e+08 -1.47789108e-01  7.40000469e-03\n",
      "  3.29998658e-03  0.00000000e+00 -5.33423489e+00 -1.57091618e+00\n",
      "  6.20186183e-02 -4.11912977e-01  6.00000000e-01]\n",
      "Read chunk # 21 out of 10000\n",
      "[ 0.00000000e+00  7.95731469e+08 -6.97891077e-02 -9.99999531e-03\n",
      "  5.99986580e-04  0.00000000e+00 -5.33423489e+00 -1.57091618e+00\n",
      "  5.63172080e-02 -1.88073458e-01  6.00000000e-01]\n",
      "Read chunk # 23 out of 10000\n",
      "[ 0.00000000e+00  7.95731469e+08 -7.96891077e-02  5.40000469e-03\n",
      " -7.60001342e-03  0.00000000e+00 -5.33423489e+00 -1.57091618e+00\n",
      " -2.31926472e-01 -1.61427269e-01  6.00000000e-01]\n",
      "Read chunk # 25 out of 10000\n",
      "[ 0.00000000e+00  7.95731469e+08 -6.64891077e-02  9.80000469e-03\n",
      " -3.60001342e-03  0.00000000e+00 -5.33423489e+00 -1.57091618e+00\n",
      " -1.38610836e-01 -1.52271049e-01  6.00000000e-01]\n",
      "Read chunk # 27 out of 10000\n",
      "[ 0.00000000e+00  7.95731469e+08 -1.25589108e-01  1.58000047e-02\n",
      "  3.79998658e-03  0.00000000e+00 -5.33423489e+00 -1.57091618e+00\n",
      "  4.25188210e-02 -3.56379883e-01  6.00000000e-01]\n",
      "Read chunk # 29 out of 10000\n",
      "[ 0.00000000e+00  7.95731469e+08  6.49108923e-02  7.20000469e-03\n",
      "  1.39998658e-03  0.00000000e+00 -5.33423489e+00 -1.57091618e+00\n",
      "  1.01904514e-02  1.63273801e-01 -5.77798913e-01]\n",
      "Read chunk # 31 out of 10000\n",
      "[ 0.00000000e+00  7.95731469e+08 -9.13891077e-02 -4.39999531e-03\n",
      " -1.00013420e-04  0.00000000e+00 -5.33423489e+00 -1.57091618e+00\n",
      "  1.46982734e-02 -2.40729589e-01  6.00000000e-01]\n",
      "Read chunk # 33 out of 10000\n",
      "[ 0.00000000e+00  7.95731469e+08 -1.08189108e-01  1.70000047e-02\n",
      "  6.49998658e-03  0.00000000e+00 -5.33423489e+00 -1.57091618e+00\n",
      "  1.12533719e-01 -3.27729414e-01  6.00000000e-01]\n",
      "Read chunk # 35 out of 10000\n",
      "[ 0.00000000e+00  7.95731469e+08 -9.97891077e-02 -6.79999531e-03\n",
      " -7.10001342e-03  0.00000000e+00 -5.33423489e+00 -1.57091618e+00\n",
      " -1.69644920e-01 -2.17847283e-01  6.00000000e-01]\n",
      "Read chunk # 37 out of 10000\n",
      "[ 0.00000000e+00  7.95731469e+08 -2.65891077e-02  2.20000469e-03\n",
      "  3.79998658e-03  0.00000000e+00 -5.33423489e+00 -1.57091618e+00\n",
      "  9.65103908e-02 -9.43619706e-02  2.50813054e-01]\n",
      "Read chunk # 39 out of 10000\n",
      "[ 0.00000000e+00  7.95731469e+08 -1.24891077e-02  6.40000469e-03\n",
      "  1.59998658e-03  0.00000000e+00 -5.33423489e+00 -1.57091618e+00\n",
      "  1.89056008e-02 -4.28655416e-02  1.34176685e-01]\n",
      "Read chunk # 41 out of 10000\n",
      "[ 0.00000000e+00  7.95731469e+08 -1.25889108e-01  8.60000469e-03\n",
      "  4.49998658e-03  0.00000000e+00 -5.33423489e+00 -1.57091618e+00\n",
      "  9.04897050e-02 -3.61685289e-01  6.00000000e-01]\n",
      "Read chunk # 43 out of 10000\n",
      "[ 0.00000000e+00  7.95731469e+08 -1.00989108e-01 -1.45999953e-02\n",
      " -3.90001342e-03  0.00000000e+00 -5.33423489e+00 -1.57091618e+00\n",
      " -5.00523704e-02 -2.41646859e-01  6.00000000e-01]\n",
      "Read chunk # 45 out of 10000\n",
      "[ 0.00000000e+00  7.95731469e+08  1.06910892e-01 -2.19999531e-03\n",
      "  8.19998658e-03  0.00000000e+00 -5.33423489e+00 -1.57091618e+00\n",
      "  2.35840097e-01  2.30607761e-01 -6.00000000e-01]\n",
      "Read chunk # 47 out of 10000\n",
      "[ 0.00000000e+00  7.95731469e+08  1.31810892e-01 -1.83999953e-02\n",
      " -2.90001342e-03  0.00000000e+00 -5.33423489e+00 -1.57091618e+00\n",
      " -7.27061665e-03  3.68047355e-01 -6.00000000e-01]\n",
      "Read chunk # 49 out of 10000\n",
      "[ 0.00000000e+00  7.95731469e+08  6.91108923e-02 -1.87999953e-02\n",
      " -4.00013420e-04  0.00000000e+00 -5.33423489e+00 -1.57091618e+00\n",
      "  6.35570557e-02  1.85990489e-01 -6.00000000e-01]\n",
      "Read chunk # 51 out of 10000\n",
      "[ 0.00000000e+00  7.95731469e+08 -1.17189108e-01 -1.71999953e-02\n",
      " -1.30001342e-03  0.00000000e+00 -5.33423489e+00 -1.57091618e+00\n",
      "  3.22788197e-02 -3.01279194e-01  6.00000000e-01]\n",
      "Read chunk # 53 out of 10000\n",
      "[ 0.00000000e+00  7.95731469e+08  1.40210892e-01 -1.65999953e-02\n",
      " -9.00001342e-03  0.00000000e+00 -5.33423489e+00 -1.57091618e+00\n",
      " -1.83361391e-01  4.29592920e-01 -6.00000000e-01]\n",
      "Read chunk # 55 out of 10000\n",
      "[ 0.00000000e+00  7.95731469e+08 -1.33389108e-01 -2.39999531e-03\n",
      " -3.90001342e-03  0.00000000e+00 -5.33423489e+00 -1.57091618e+00\n",
      " -9.84859845e-02 -3.27398176e-01  6.00000000e-01]\n",
      "Read chunk # 57 out of 10000\n",
      "[ 0.00000000e+00  7.95731469e+08  1.28210892e-01 -1.19999531e-03\n",
      "  7.09998658e-03  0.00000000e+00 -5.33423489e+00 -1.57091618e+00\n",
      "  2.01404667e-01  2.94070675e-01 -6.00000000e-01]\n",
      "Read chunk # 59 out of 10000\n",
      "[ 0.00000000e+00  7.95731469e+08  2.32108923e-02 -1.79999531e-03\n",
      "  7.99986580e-04  0.00000000e+00 -5.33423489e+00 -1.57091618e+00\n",
      "  2.93026423e-02  5.67756060e-02 -2.21828205e-01]\n",
      "Read chunk # 61 out of 10000\n",
      "[ 0.00000000e+00  7.95731469e+08  7.30108923e-02 -6.59999531e-03\n",
      "  5.09998658e-03  0.00000000e+00 -5.33423489e+00 -1.57091618e+00\n",
      "  1.67450749e-01  1.60865591e-01 -6.00000000e-01]\n",
      "Read chunk # 63 out of 10000\n",
      "[ 0.00000000e+00  7.95731469e+08 -2.47891077e-02  6.00004692e-04\n",
      " -7.80001342e-03  0.00000000e+00 -5.33423489e+00 -1.57091618e+00\n",
      " -2.18409798e-01 -1.48374513e-02  2.29039629e-01]\n",
      "Read chunk # 65 out of 10000\n",
      "[ 0.00000000e+00  7.95731469e+08 -1.08189108e-01  1.20000047e-02\n",
      "  4.89998658e-03  0.00000000e+00 -5.33423489e+00 -1.57091618e+00\n",
      "  8.80701622e-02 -3.17417613e-01  6.00000000e-01]\n",
      "Read chunk # 67 out of 10000\n",
      "[ 0.00000000e+00  7.95731469e+08  7.10892292e-04  8.60000469e-03\n",
      " -6.10001342e-03  0.00000000e+00 -5.33423489e+00 -1.57091618e+00\n",
      " -2.03086559e-01  4.16957224e-02  1.94042030e-02]\n",
      "Read chunk # 69 out of 10000\n",
      "[ 0.00000000e+00  7.95731469e+08 -1.31889108e-01  5.40000469e-03\n",
      "  3.59998658e-03  0.00000000e+00 -5.33423489e+00 -1.57091618e+00\n",
      "  7.82673172e-02 -3.71764775e-01  6.00000000e-01]\n",
      "Read chunk # 71 out of 10000\n",
      "[ 0.00000000e+00  7.95731469e+08 -9.55891077e-02 -6.59999531e-03\n",
      "  4.99986580e-04  0.00000000e+00 -5.33423489e+00 -1.57091618e+00\n",
      "  4.00497282e-02 -2.55712426e-01  6.00000000e-01]\n",
      "Read chunk # 73 out of 10000\n",
      "[ 0.00000000e+00  7.95731469e+08 -6.91891077e-02 -1.25999953e-02\n",
      "  9.39998658e-03  0.00000000e+00 -5.33423489e+00 -1.57091618e+00\n",
      "  3.10362817e-01 -2.43200376e-01  5.96402385e-01]\n",
      "Read chunk # 75 out of 10000\n",
      "[ 0.00000000e+00  7.95731469e+08  4.51108923e-02 -7.19999531e-03\n",
      "  2.59998658e-03  0.00000000e+00 -5.33423489e+00 -1.57091618e+00\n",
      "  1.00593045e-01  1.03136368e-01 -4.41409250e-01]\n",
      "Read chunk # 77 out of 10000\n",
      "[ 0.00000000e+00  7.95731469e+08  1.46210892e-01 -1.35999953e-02\n",
      " -1.80001342e-03  0.00000000e+00 -5.33423489e+00 -1.57091618e+00\n",
      "  4.13899659e-03  3.99069689e-01 -6.00000000e-01]\n",
      "Read chunk # 79 out of 10000\n",
      "[ 0.00000000e+00  7.95731469e+08 -1.12689108e-01 -7.79999531e-03\n",
      " -9.10001342e-03  0.00000000e+00 -5.33423489e+00 -1.57091618e+00\n",
      " -2.21066700e-01 -2.39099259e-01  6.00000000e-01]\n",
      "Read chunk # 81 out of 10000\n",
      "[ 0.00000000e+00  7.95731469e+08  6.10108923e-02  1.32000047e-02\n",
      "  7.09998658e-03  0.00000000e+00 -5.33423489e+00 -1.57091618e+00\n",
      "  1.44237123e-01  1.16216092e-01 -5.22459650e-01]\n",
      "Read chunk # 83 out of 10000\n",
      "[ 0.00000000e+00  7.95731469e+08 -1.99891077e-02 -1.91999953e-02\n",
      "  3.09998658e-03  0.00000000e+00 -5.33423489e+00 -1.57091618e+00\n",
      "  1.62080602e-01 -7.23826969e-02  1.20921962e-01]\n",
      "Read chunk # 85 out of 10000\n",
      "[ 0.00000000e+00  7.95731469e+08  6.01108923e-02  4.20000469e-03\n",
      "  6.19998658e-03  0.00000000e+00 -5.33423489e+00 -1.57091618e+00\n",
      "  1.55040552e-01  1.19634499e-01 -5.43152828e-01]\n",
      "Read chunk # 87 out of 10000\n",
      "[ 0.00000000e+00  7.95731469e+08  1.41410892e-01 -1.71999953e-02\n",
      "  4.19998658e-03  0.00000000e+00 -5.33423489e+00 -1.57091618e+00\n",
      "  1.84606127e-01  3.47696536e-01 -6.00000000e-01]\n",
      "Read chunk # 89 out of 10000\n",
      "[ 0.00000000e+00  7.95731469e+08 -1.63891077e-02 -1.17999953e-02\n",
      " -1.60001342e-03  0.00000000e+00 -5.33423489e+00 -1.57091618e+00\n",
      "  2.53222833e-03 -3.25638573e-02  1.11532953e-01]\n",
      "Read chunk # 91 out of 10000\n",
      "[ 0.00000000e+00  7.95731469e+08  1.04810892e-01 -1.47999953e-02\n",
      "  5.19998658e-03  0.00000000e+00 -5.33423489e+00 -1.57091618e+00\n",
      "  2.02774077e-01  2.44384432e-01 -6.00000000e-01]\n",
      "Read chunk # 93 out of 10000\n",
      "[ 0.00000000e+00  7.95731469e+08  5.29108923e-02 -3.99999531e-03\n",
      "  7.29998658e-03  0.00000000e+00 -5.33423489e+00 -1.57091618e+00\n",
      "  2.18059754e-01  9.34892881e-02 -5.03106721e-01]\n",
      "Read chunk # 95 out of 10000\n",
      "[ 0.00000000e+00  7.95731469e+08  8.74108923e-02  1.54000047e-02\n",
      " -2.50001342e-03  0.00000000e+00 -5.33423489e+00 -1.57091618e+00\n",
      " -1.30377198e-01  2.47958342e-01 -6.00000000e-01]\n",
      "Read chunk # 97 out of 10000\n",
      "[ 0.00000000e+00  7.95731469e+08 -5.59891077e-02  8.40000469e-03\n",
      "  4.79998658e-03  0.00000000e+00 -5.33423489e+00 -1.57091618e+00\n",
      "  9.95924609e-02 -1.78618226e-01  5.42211734e-01]\n",
      "Read chunk # 99 out of 10000\n",
      "[ 0.00000000e+00  7.95731469e+08  9.01108923e-02  1.98000047e-02\n",
      "  5.99998658e-03  0.00000000e+00 -5.33423489e+00 -1.57091618e+00\n",
      "  8.75698703e-02  2.00322842e-01 -6.00000000e-01]\n",
      "Read chunk # 101 out of 10000\n",
      "[ 0.00000000e+00  7.95731469e+08  4.72108923e-02 -1.59999953e-02\n",
      " -2.00001342e-03  0.00000000e+00 -5.33423489e+00 -1.57091618e+00\n",
      "  8.12774587e-03  1.38340752e-01 -4.89153814e-01]\n",
      "Read chunk # 103 out of 10000\n",
      "[ 0.00000000e+00  7.95731469e+08 -1.26489108e-01  5.00000469e-03\n",
      " -4.00001342e-03  0.00000000e+00 -5.33423489e+00 -1.57091618e+00\n",
      " -1.30633338e-01 -3.08491834e-01  6.00000000e-01]\n",
      "Read chunk # 105 out of 10000\n",
      "[ 0.00000000e+00  7.95731469e+08 -7.00891077e-02 -7.19999531e-03\n",
      "  1.99986580e-04  0.00000000e+00 -5.33423489e+00 -1.57091618e+00\n",
      "  3.41229470e-02 -1.86289501e-01  6.00000000e-01]\n",
      "Read chunk # 107 out of 10000\n",
      "[ 0.00000000e+00  7.95731469e+08  8.32108923e-02  5.40000469e-03\n",
      " -1.34198363e-08  0.00000000e+00 -5.33423489e+00 -1.57091618e+00\n",
      " -2.14378292e-02  2.20730241e-01 -6.00000000e-01]\n",
      "Read chunk # 109 out of 10000\n",
      "[ 0.00000000e+00  7.95731469e+08 -9.49891077e-02  6.20000469e-03\n",
      " -4.70001342e-03  0.00000000e+00 -5.33423489e+00 -1.57091618e+00\n",
      " -1.54784412e-01 -2.20611085e-01  6.00000000e-01]\n",
      "Read chunk # 111 out of 10000\n",
      "[ 0.00000000e+00  7.95731469e+08  7.91089229e-03  1.20000469e-03\n",
      "  2.99986580e-04  0.00000000e+00 -5.33423489e+00 -1.57091618e+00\n",
      "  3.54480016e-03  1.95043665e-02 -7.09119344e-02]\n",
      "Read chunk # 113 out of 10000\n",
      "[ 0.00000000e+00  7.95731469e+08  1.35710892e-01  8.00004692e-04\n",
      "  3.89998658e-03  0.00000000e+00 -5.33423489e+00 -1.57091618e+00\n",
      "  1.04837934e-01  3.34544119e-01 -6.00000000e-01]\n",
      "Read chunk # 115 out of 10000\n",
      "[ 0.00000000e+00  7.95731469e+08  9.71089229e-03  1.36000047e-02\n",
      "  6.99986580e-04  0.00000000e+00 -5.33423489e+00 -1.57091618e+00\n",
      " -3.46044580e-02  2.16903783e-02 -4.75712299e-02]\n",
      "Read chunk # 117 out of 10000\n",
      "[ 0.00000000e+00  7.95731469e+08  6.41089229e-03 -1.73999953e-02\n",
      " -3.80001342e-03  0.00000000e+00 -5.33423489e+00 -1.57091618e+00\n",
      " -3.61668716e-02  4.19583882e-02 -1.17001341e-01]\n",
      "Read chunk # 119 out of 10000\n",
      "[ 0.00000000e+00  7.95731469e+08  4.60108923e-02  1.68000047e-02\n",
      "  6.19998658e-03  0.00000000e+00 -5.33423489e+00 -1.57091618e+00\n",
      "  1.05018950e-01  8.23167968e-02 -3.72379504e-01]\n",
      "Read chunk # 121 out of 10000\n",
      "[ 0.00000000e+00  7.95731469e+08 -3.82891077e-02  1.34000047e-02\n",
      " -3.40001342e-03  0.00000000e+00 -5.33423489e+00 -1.57091618e+00\n",
      " -1.47363548e-01 -7.89246193e-02  3.94918266e-01]\n",
      "Read chunk # 123 out of 10000\n",
      "[ 0.00000000e+00  7.95731469e+08 -1.37889108e-01  1.74000047e-02\n",
      " -7.70001342e-03  0.00000000e+00 -5.33423489e+00 -1.57091618e+00\n",
      " -2.82335679e-01 -3.14817554e-01  6.00000000e-01]\n",
      "Read chunk # 125 out of 10000\n",
      "[ 0.00000000e+00  7.95731469e+08 -1.33989108e-01 -1.59999531e-03\n",
      " -3.90001342e-03  0.00000000e+00 -5.33423489e+00 -1.57091618e+00\n",
      " -1.01661959e-01 -3.28986163e-01  6.00000000e-01]\n",
      "Read chunk # 127 out of 10000\n",
      "[ 0.00000000e+00  7.95731469e+08  4.48108923e-02 -1.75999953e-02\n",
      " -7.20001342e-03  0.00000000e+00 -5.33423489e+00 -1.57091618e+00\n",
      " -1.29538849e-01  1.65502155e-01 -4.72153015e-01]\n",
      "Read chunk # 129 out of 10000\n",
      "[ 0.00000000e+00  7.95731469e+08  1.33610892e-01 -4.79999531e-03\n",
      "  8.29998658e-03  0.00000000e+00 -5.33423489e+00 -1.57091618e+00\n",
      "  2.48931602e-01  3.00628710e-01 -6.00000000e-01]\n",
      "Read chunk # 131 out of 10000\n",
      "[ 0.00000000e+00  7.95731469e+08 -1.29489108e-01 -6.79999531e-03\n",
      "  8.39998658e-03  0.00000000e+00 -5.33423489e+00 -1.57091618e+00\n",
      "  2.59641126e-01 -3.96348228e-01  6.00000000e-01]\n",
      "Read chunk # 133 out of 10000\n",
      "[ 0.00000000e+00  7.95731469e+08 -1.18689108e-01 -4.99999531e-03\n",
      "  2.09998658e-03  0.00000000e+00 -5.33423489e+00 -1.57091618e+00\n",
      "  7.80111772e-02 -3.27161740e-01  6.00000000e-01]\n",
      "Read chunk # 135 out of 10000\n",
      "[ 0.00000000e+00  7.95731469e+08  3.88108923e-02  3.20000469e-03\n",
      " -4.30001342e-03  0.00000000e+00 -5.33423489e+00 -1.57091618e+00\n",
      " -1.31796157e-01  1.30932143e-01 -3.49734561e-01]\n",
      "Read chunk # 137 out of 10000\n",
      "[ 0.00000000e+00  7.95731469e+08 -1.46889108e-01  1.58000047e-02\n",
      " -9.80001342e-03  0.00000000e+00 -5.33423489e+00 -1.57091618e+00\n",
      " -3.34145065e-01 -3.25103125e-01  6.00000000e-01]\n",
      "Read chunk # 139 out of 10000\n",
      "[ 0.00000000e+00  7.95731469e+08 -1.02789108e-01 -9.19999531e-03\n",
      " -7.70001342e-03  0.00000000e+00 -5.33423489e+00 -1.57091618e+00\n",
      " -1.76734521e-01 -2.21920294e-01  6.00000000e-01]\n",
      "Read chunk # 141 out of 10000\n",
      "[ 0.00000000e+00  7.95731469e+08 -9.46891077e-02 -1.81999953e-02\n",
      " -9.70001342e-03  0.00000000e+00 -5.33423489e+00 -1.57091618e+00\n",
      " -1.96396553e-01 -1.87592713e-01  6.00000000e-01]\n",
      "Read chunk # 143 out of 10000\n",
      "[ 0.00000000e+00  7.95731469e+08  7.33108923e-02 -1.87999953e-02\n",
      " -5.00013420e-04  0.00000000e+00 -5.33423489e+00 -1.57091618e+00\n",
      "  6.07874683e-02  1.97750888e-01 -6.00000000e-01]\n",
      "Read chunk # 145 out of 10000\n",
      "[ 0.00000000e+00  7.95731469e+08  1.25810892e-01 -2.39999531e-03\n",
      "  4.49998658e-03  0.00000000e+00 -5.33423489e+00 -1.57091618e+00\n",
      "  1.34159357e-01  3.04475402e-01 -6.00000000e-01]\n",
      "Read chunk # 147 out of 10000\n",
      "[ 0.00000000e+00  7.95731469e+08  5.05108923e-02 -1.83999953e-02\n",
      " -3.40001342e-03  0.00000000e+00 -5.33423489e+00 -1.57091618e+00\n",
      " -2.11185536e-02  1.56097508e-01 -5.27353126e-01]\n",
      "Read chunk # 149 out of 10000\n",
      "[ 0.00000000e+00  7.95731469e+08 -2.28910771e-03 -1.15999953e-02\n",
      "  3.19998658e-03  0.00000000e+00 -5.33423489e+00 -1.57091618e+00\n",
      "  1.34678430e-01 -2.61815577e-02 -1.79931668e-02]\n",
      "Read chunk # 151 out of 10000\n",
      "[ 0.00000000e+00  7.95731469e+08  1.34210892e-01 -1.81999953e-02\n",
      "  7.49998658e-03  0.00000000e+00 -5.33423489e+00 -1.57091618e+00\n",
      "  2.79972479e-01  3.07372598e-01 -6.00000000e-01]\n",
      "Read chunk # 153 out of 10000\n",
      "[ 0.00000000e+00  7.95731469e+08  2.62108923e-02  1.90000047e-02\n",
      " -2.90001342e-03  0.00000000e+00 -5.33423489e+00 -1.57091618e+00\n",
      " -1.55747434e-01  8.85615826e-02 -1.82497373e-01]\n",
      "Read chunk # 155 out of 10000\n",
      "[ 0.00000000e+00  7.95731469e+08  1.03010892e-01 -3.99999531e-03\n",
      "  7.29998658e-03  0.00000000e+00 -5.33423489e+00 -1.57091618e+00\n",
      "  2.18059754e-01  2.26086231e-01 -6.00000000e-01]\n",
      "Read chunk # 157 out of 10000\n",
      "[ 0.00000000e+00  7.95731469e+08 -3.79891077e-02 -3.39999531e-03\n",
      " -1.00013420e-04  0.00000000e+00 -5.33423489e+00 -1.57091618e+00\n",
      "  1.07283050e-02 -9.93987152e-02  3.38011724e-01]\n",
      "Read chunk # 159 out of 10000\n",
      "[ 0.00000000e+00  7.95731469e+08 -1.15389108e-01  2.20000469e-03\n",
      " -3.10001342e-03  0.00000000e+00 -5.33423489e+00 -1.57091618e+00\n",
      " -9.45911398e-02 -2.84914456e-01  6.00000000e-01]\n",
      "Read chunk # 161 out of 10000\n",
      "[ 0.00000000e+00  7.95731469e+08 -1.09891077e-02 -8.79999531e-03\n",
      "  5.79998658e-03  0.00000000e+00 -5.33423489e+00 -1.57091618e+00\n",
      "  1.95571791e-01 -6.59640509e-02  7.13476936e-02]\n",
      "Read chunk # 163 out of 10000\n",
      "[ 0.00000000e+00  7.95731469e+08 -1.33891077e-02  1.40000047e-02\n",
      "  8.99998658e-03  0.00000000e+00 -5.33423489e+00 -1.57091618e+00\n",
      "  1.93683309e-01 -9.29396023e-02  1.66975975e-01]\n",
      "Read chunk # 165 out of 10000\n",
      "[ 0.00000000e+00  7.95731469e+08  4.91089229e-03  6.00004692e-04\n",
      "  8.09998658e-03  0.00000000e+00 -5.33423489e+00 -1.57091618e+00\n",
      "  2.21954598e-01 -3.87056001e-02 -4.51495231e-02]\n",
      "Read chunk # 167 out of 10000\n",
      "[ 0.00000000e+00  7.95731469e+08 -8.95891077e-02  1.60000469e-03\n",
      " -6.30001342e-03  0.00000000e+00 -5.33423489e+00 -1.57091618e+00\n",
      " -1.80835956e-01 -1.96007398e-01  6.00000000e-01]\n",
      "Read chunk # 169 out of 10000\n",
      "[ 0.00000000e+00  7.95731469e+08 -1.33891077e-02 -1.29999953e-02\n",
      " -4.30001342e-03  0.00000000e+00 -5.33423489e+00 -1.57091618e+00\n",
      " -6.74826694e-02 -7.22275642e-03  7.99701540e-02]\n",
      "Read chunk # 171 out of 10000\n",
      "[ 0.00000000e+00  7.95731469e+08  3.07108923e-02 -1.67999953e-02\n",
      " -2.30001342e-03  0.00000000e+00 -5.33423489e+00 -1.57091618e+00\n",
      "  2.99495836e-03  9.66045623e-02 -3.39404457e-01]\n",
      "Read chunk # 173 out of 10000\n",
      "[ 0.00000000e+00  7.95731469e+08 -9.49891077e-02  1.88000047e-02\n",
      " -3.40001342e-03  0.00000000e+00 -5.33423489e+00 -1.57091618e+00\n",
      " -1.68801377e-01 -2.28989424e-01  6.00000000e-01]\n",
      "Read chunk # 175 out of 10000\n",
      "[ 0.00000000e+00  7.95731469e+08  4.36108923e-02  6.60000469e-03\n",
      " -1.50001342e-03  0.00000000e+00 -5.33423489e+00 -1.57091618e+00\n",
      " -6.77456022e-02  1.25590390e-01 -3.83091671e-01]\n",
      "Read chunk # 177 out of 10000\n",
      "[ 0.00000000e+00  7.95731469e+08  1.34810892e-01 -1.85999953e-02\n",
      " -7.00013420e-04  0.00000000e+00 -5.33423489e+00 -1.57091618e+00\n",
      "  5.44542998e-02  3.61808566e-01 -6.00000000e-01]\n",
      "Read chunk # 179 out of 10000\n",
      "[ 0.00000000e+00  7.95731469e+08 -8.83891077e-02  1.52000047e-02\n",
      " -5.00001342e-03  0.00000000e+00 -5.33423489e+00 -1.57091618e+00\n",
      " -1.98822889e-01 -2.01209762e-01  6.00000000e-01]\n",
      "Read chunk # 181 out of 10000\n",
      "[ 0.00000000e+00  7.95731469e+08 -1.13889108e-01 -1.23999953e-02\n",
      "  4.99986580e-04  0.00000000e+00 -5.33423489e+00 -1.57091618e+00\n",
      "  6.30755447e-02 -3.04146040e-01  6.00000000e-01]\n",
      "Read chunk # 183 out of 10000\n",
      "[ 0.00000000e+00  7.95731469e+08  8.29108923e-02 -1.77999953e-02\n",
      " -1.00001342e-03  0.00000000e+00 -5.33423489e+00 -1.57091618e+00\n",
      "  4.29695629e-02  2.26381123e-01 -6.00000000e-01]\n",
      "Read chunk # 185 out of 10000\n",
      "[ 0.00000000e+00  7.95731469e+08  4.84108923e-02  1.00000047e-02\n",
      "  7.39998658e-03  0.00000000e+00 -5.33423489e+00 -1.57091618e+00\n",
      "  1.65249784e-01  8.09348954e-02 -4.16448781e-01]\n",
      "Read chunk # 187 out of 10000\n",
      "[ 0.00000000e+00  7.95731469e+08  1.41110892e-01  1.58000047e-02\n",
      " -7.40001342e-03  0.00000000e+00 -5.33423489e+00 -1.57091618e+00\n",
      " -2.67674968e-01  4.21663100e-01 -6.00000000e-01]\n",
      "Read chunk # 189 out of 10000\n",
      "[ 0.00000000e+00  7.95731469e+08 -1.19589108e-01  7.80000469e-03\n",
      "  2.29998658e-03  0.00000000e+00 -5.33423489e+00 -1.57091618e+00\n",
      "  3.27347569e-02 -3.30832696e-01  6.00000000e-01]\n",
      "Read chunk # 191 out of 10000\n",
      "[ 0.00000000e+00  7.95731469e+08  9.71089229e-03  1.96000047e-02\n",
      " -9.50001342e-03  0.00000000e+00 -5.33423489e+00 -1.57091618e+00\n",
      " -3.40922183e-01  8.74281097e-02 -2.82366030e-02]\n",
      "Read chunk # 193 out of 10000\n",
      "[ 0.00000000e+00  7.95731469e+08 -1.38489108e-01 -1.53999953e-02\n",
      "  2.69998658e-03  0.00000000e+00 -5.33423489e+00 -1.57091618e+00\n",
      "  1.35916373e-01 -3.83432248e-01  6.00000000e-01]\n",
      "Read chunk # 195 out of 10000\n",
      "[ 0.00000000e+00  7.95731469e+08 -7.66891077e-02  1.86000047e-02\n",
      " -8.00001342e-03  0.00000000e+00 -5.33423489e+00 -1.57091618e+00\n",
      " -2.95408404e-01 -1.50909382e-01  6.00000000e-01]\n",
      "Read chunk # 197 out of 10000\n",
      "[ 0.00000000e+00  7.95731469e+08 -8.74891077e-02  2.20000469e-03\n",
      " -5.80001342e-03  0.00000000e+00 -5.33423489e+00 -1.57091618e+00\n",
      " -1.69370000e-01 -1.93671880e-01  6.00000000e-01]\n",
      "Read chunk # 199 out of 10000\n",
      "torch.Size([2777000, 6])\n",
      "2022-04-08 02:07.41 [debug    ] RoundIterator is selected.\n",
      "2022-04-08 02:07.41 [info     ] Directory is created at d3rlpy_logs\\FQE_20220408020741\n",
      "2022-04-08 02:07.41 [debug    ] Fitting action scaler...       action_scaler=min_max\n",
      "2022-04-08 02:07.41 [debug    ] Building models...\n",
      "2022-04-08 02:07.41 [debug    ] Models have been built.\n",
      "2022-04-08 02:07.41 [info     ] Parameters are saved to d3rlpy_logs\\FQE_20220408020741\\params.json params={'action_scaler': {'type': 'min_max', 'params': {'minimum': array(-0.6), 'maximum': array(0.6)}}, 'batch_size': 100, 'encoder_factory': {'type': 'default', 'params': {'activation': 'relu', 'use_batch_norm': False, 'dropout_rate': None}}, 'gamma': 0.99, 'generated_maxlen': 100000, 'learning_rate': 0.0001, 'n_critics': 1, 'n_frames': 1, 'n_steps': 1, 'optim_factory': {'optim_cls': 'Adam', 'betas': (0.9, 0.999), 'eps': 1e-08, 'weight_decay': 0, 'amsgrad': False}, 'q_func_factory': {'type': 'mean', 'params': {'bootstrap': False, 'share_encoder': False}}, 'real_ratio': 1.0, 'reward_scaler': None, 'scaler': None, 'target_update_interval': 100, 'use_gpu': None, 'algorithm': 'FQE', 'observation_shape': (6,), 'action_size': 3}\n"
     ]
    },
    {
     "data": {
      "application/vnd.jupyter.widget-view+json": {
       "model_id": "30eaf664e3af4feeb50c7df7117642a7",
       "version_major": 2,
       "version_minor": 0
      },
      "text/plain": [
       "Epoch 1/100:   0%|          | 0/21992 [00:00<?, ?it/s]"
      ]
     },
     "metadata": {},
     "output_type": "display_data"
    },
    {
     "name": "stderr",
     "output_type": "stream",
     "text": [
      "C:\\Users\\Aero\\AppData\\Local\\Packages\\PythonSoftwareFoundation.Python.3.10_qbz5n2kfra8p0\\LocalCache\\local-packages\\Python310\\site-packages\\numpy\\core\\fromnumeric.py:3474: RuntimeWarning: Mean of empty slice.\n",
      "  return _methods._mean(a, axis=axis, dtype=dtype,\n",
      "C:\\Users\\Aero\\AppData\\Local\\Packages\\PythonSoftwareFoundation.Python.3.10_qbz5n2kfra8p0\\LocalCache\\local-packages\\Python310\\site-packages\\numpy\\core\\_methods.py:189: RuntimeWarning: invalid value encountered in double_scalars\n",
      "  ret = ret.dtype.type(ret / rcount)\n",
      "WARNING:root:NaN or Inf found in input tensor.\n"
     ]
    },
    {
     "name": "stdout",
     "output_type": "stream",
     "text": [
      "2022-04-08 02:11.14 [info     ] FQE_20220408020741: epoch=1 step=21992 epoch=1 metrics={'time_sample_batch': 0.00042819874899827076, 'time_algorithm_update': 0.0068035466036132225, 'loss': 0.008132032031880457, 'time_step': 0.007887866907702571, 'init_value': -1.04853093624115, 'ave_value': -1.0482471513921092, 'soft_opc': nan} step=21992\n"
     ]
    },
    {
     "name": "stderr",
     "output_type": "stream",
     "text": [
      "WARNING:root:NaN or Inf found in input tensor.\n"
     ]
    },
    {
     "name": "stdout",
     "output_type": "stream",
     "text": [
      "2022-04-08 02:11.14 [info     ] Model parameters are saved to d3rlpy_logs\\FQE_20220408020741\\model_21992.pt\n"
     ]
    },
    {
     "data": {
      "application/vnd.jupyter.widget-view+json": {
       "model_id": "f20d1b621ab54e8da040be012697b254",
       "version_major": 2,
       "version_minor": 0
      },
      "text/plain": [
       "Epoch 2/100:   0%|          | 0/21992 [00:00<?, ?it/s]"
      ]
     },
     "metadata": {},
     "output_type": "display_data"
    },
    {
     "name": "stderr",
     "output_type": "stream",
     "text": [
      "WARNING:root:NaN or Inf found in input tensor.\n"
     ]
    },
    {
     "name": "stdout",
     "output_type": "stream",
     "text": [
      "2022-04-08 02:14.30 [info     ] FQE_20220408020741: epoch=2 step=43984 epoch=2 metrics={'time_sample_batch': 0.0003912838730824215, 'time_algorithm_update': 0.006498671653445047, 'loss': 0.014115804965008364, 'time_step': 0.0074729861867085245, 'init_value': -1.1801666021347046, 'ave_value': -1.1798491936532454, 'soft_opc': nan} step=43984\n"
     ]
    },
    {
     "name": "stderr",
     "output_type": "stream",
     "text": [
      "WARNING:root:NaN or Inf found in input tensor.\n"
     ]
    },
    {
     "name": "stdout",
     "output_type": "stream",
     "text": [
      "2022-04-08 02:14.30 [info     ] Model parameters are saved to d3rlpy_logs\\FQE_20220408020741\\model_43984.pt\n"
     ]
    },
    {
     "data": {
      "application/vnd.jupyter.widget-view+json": {
       "model_id": "aa34bafd1b20486f8753429ff6824980",
       "version_major": 2,
       "version_minor": 0
      },
      "text/plain": [
       "Epoch 3/100:   0%|          | 0/21992 [00:00<?, ?it/s]"
      ]
     },
     "metadata": {},
     "output_type": "display_data"
    },
    {
     "name": "stderr",
     "output_type": "stream",
     "text": [
      "WARNING:root:NaN or Inf found in input tensor.\n"
     ]
    },
    {
     "name": "stdout",
     "output_type": "stream",
     "text": [
      "2022-04-08 02:18.00 [info     ] FQE_20220408020741: epoch=3 step=65976 epoch=3 metrics={'time_sample_batch': 0.0003805624306874086, 'time_algorithm_update': 0.007124566942962918, 'loss': 0.013537545082770205, 'time_step': 0.008145781149210258, 'init_value': -1.1299998760223389, 'ave_value': -1.1296853448110773, 'soft_opc': nan} step=65976\n"
     ]
    },
    {
     "name": "stderr",
     "output_type": "stream",
     "text": [
      "WARNING:root:NaN or Inf found in input tensor.\n"
     ]
    },
    {
     "name": "stdout",
     "output_type": "stream",
     "text": [
      "2022-04-08 02:18.00 [info     ] Model parameters are saved to d3rlpy_logs\\FQE_20220408020741\\model_65976.pt\n"
     ]
    },
    {
     "data": {
      "application/vnd.jupyter.widget-view+json": {
       "model_id": "9ec83413147f42a3b8a65deaeacea44e",
       "version_major": 2,
       "version_minor": 0
      },
      "text/plain": [
       "Epoch 4/100:   0%|          | 0/21992 [00:00<?, ?it/s]"
      ]
     },
     "metadata": {},
     "output_type": "display_data"
    },
    {
     "name": "stderr",
     "output_type": "stream",
     "text": [
      "WARNING:root:NaN or Inf found in input tensor.\n"
     ]
    },
    {
     "name": "stdout",
     "output_type": "stream",
     "text": [
      "2022-04-08 02:21.44 [info     ] FQE_20220408020741: epoch=4 step=87968 epoch=4 metrics={'time_sample_batch': 0.0003992889676800031, 'time_algorithm_update': 0.007742372349246106, 'loss': 0.01322349580627041, 'time_step': 0.008771122661925698, 'init_value': -1.0982027053833008, 'ave_value': -1.0978867011420947, 'soft_opc': nan} step=87968\n"
     ]
    },
    {
     "name": "stderr",
     "output_type": "stream",
     "text": [
      "WARNING:root:NaN or Inf found in input tensor.\n"
     ]
    },
    {
     "name": "stdout",
     "output_type": "stream",
     "text": [
      "2022-04-08 02:21.44 [info     ] Model parameters are saved to d3rlpy_logs\\FQE_20220408020741\\model_87968.pt\n"
     ]
    },
    {
     "data": {
      "application/vnd.jupyter.widget-view+json": {
       "model_id": "92e8aef21ba8441d9313c80008480376",
       "version_major": 2,
       "version_minor": 0
      },
      "text/plain": [
       "Epoch 5/100:   0%|          | 0/21992 [00:00<?, ?it/s]"
      ]
     },
     "metadata": {},
     "output_type": "display_data"
    },
    {
     "name": "stderr",
     "output_type": "stream",
     "text": [
      "WARNING:root:NaN or Inf found in input tensor.\n"
     ]
    },
    {
     "name": "stdout",
     "output_type": "stream",
     "text": [
      "2022-04-08 02:25.39 [info     ] FQE_20220408020741: epoch=5 step=109960 epoch=5 metrics={'time_sample_batch': 0.00040829423428796, 'time_algorithm_update': 0.008282270397694165, 'loss': 0.013019833495590686, 'time_step': 0.009316411949409577, 'init_value': -1.1884117126464844, 'ave_value': -1.1880607715054468, 'soft_opc': nan} step=109960\n"
     ]
    },
    {
     "name": "stderr",
     "output_type": "stream",
     "text": [
      "WARNING:root:NaN or Inf found in input tensor.\n"
     ]
    },
    {
     "name": "stdout",
     "output_type": "stream",
     "text": [
      "2022-04-08 02:25.39 [info     ] Model parameters are saved to d3rlpy_logs\\FQE_20220408020741\\model_109960.pt\n"
     ]
    },
    {
     "data": {
      "application/vnd.jupyter.widget-view+json": {
       "model_id": "ccd1006addc24174b2928f57c4e5dad5",
       "version_major": 2,
       "version_minor": 0
      },
      "text/plain": [
       "Epoch 6/100:   0%|          | 0/21992 [00:00<?, ?it/s]"
      ]
     },
     "metadata": {},
     "output_type": "display_data"
    },
    {
     "name": "stderr",
     "output_type": "stream",
     "text": [
      "WARNING:root:NaN or Inf found in input tensor.\n"
     ]
    },
    {
     "name": "stdout",
     "output_type": "stream",
     "text": [
      "2022-04-08 02:29.44 [info     ] FQE_20220408020741: epoch=6 step=131952 epoch=6 metrics={'time_sample_batch': 0.00038001406361901487, 'time_algorithm_update': 0.008725947046245216, 'loss': 0.013688410214060035, 'time_step': 0.00972857539026726, 'init_value': -1.2011494636535645, 'ave_value': -1.200774246114679, 'soft_opc': nan} step=131952\n"
     ]
    },
    {
     "name": "stderr",
     "output_type": "stream",
     "text": [
      "WARNING:root:NaN or Inf found in input tensor.\n"
     ]
    },
    {
     "name": "stdout",
     "output_type": "stream",
     "text": [
      "2022-04-08 02:29.44 [info     ] Model parameters are saved to d3rlpy_logs\\FQE_20220408020741\\model_131952.pt\n"
     ]
    },
    {
     "data": {
      "application/vnd.jupyter.widget-view+json": {
       "model_id": "44aba342685d4ad79b2ceaf93414ce08",
       "version_major": 2,
       "version_minor": 0
      },
      "text/plain": [
       "Epoch 7/100:   0%|          | 0/21992 [00:00<?, ?it/s]"
      ]
     },
     "metadata": {},
     "output_type": "display_data"
    },
    {
     "name": "stderr",
     "output_type": "stream",
     "text": [
      "WARNING:root:NaN or Inf found in input tensor.\n"
     ]
    },
    {
     "name": "stdout",
     "output_type": "stream",
     "text": [
      "2022-04-08 02:33.55 [info     ] FQE_20220408020741: epoch=7 step=153944 epoch=7 metrics={'time_sample_batch': 0.0003733601124341291, 'time_algorithm_update': 0.00908322284853905, 'loss': 0.013789376671307519, 'time_step': 0.010076942878360964, 'init_value': -1.178562045097351, 'ave_value': -1.1782537745086683, 'soft_opc': nan} step=153944\n"
     ]
    },
    {
     "name": "stderr",
     "output_type": "stream",
     "text": [
      "WARNING:root:NaN or Inf found in input tensor.\n"
     ]
    },
    {
     "name": "stdout",
     "output_type": "stream",
     "text": [
      "2022-04-08 02:33.55 [info     ] Model parameters are saved to d3rlpy_logs\\FQE_20220408020741\\model_153944.pt\n"
     ]
    },
    {
     "data": {
      "application/vnd.jupyter.widget-view+json": {
       "model_id": "e3729fde38ef45ae964848369337e107",
       "version_major": 2,
       "version_minor": 0
      },
      "text/plain": [
       "Epoch 8/100:   0%|          | 0/21992 [00:00<?, ?it/s]"
      ]
     },
     "metadata": {},
     "output_type": "display_data"
    },
    {
     "name": "stderr",
     "output_type": "stream",
     "text": [
      "WARNING:root:NaN or Inf found in input tensor.\n"
     ]
    },
    {
     "name": "stdout",
     "output_type": "stream",
     "text": [
      "2022-04-08 02:38.15 [info     ] FQE_20220408020741: epoch=8 step=175936 epoch=8 metrics={'time_sample_batch': 0.00037491706424559105, 'time_algorithm_update': 0.009411292071340734, 'loss': 0.0136731938448857, 'time_step': 0.01039413662770307, 'init_value': -1.1667624711990356, 'ave_value': -1.1663974353817537, 'soft_opc': nan} step=175936\n"
     ]
    },
    {
     "name": "stderr",
     "output_type": "stream",
     "text": [
      "WARNING:root:NaN or Inf found in input tensor.\n"
     ]
    },
    {
     "name": "stdout",
     "output_type": "stream",
     "text": [
      "2022-04-08 02:38.15 [info     ] Model parameters are saved to d3rlpy_logs\\FQE_20220408020741\\model_175936.pt\n"
     ]
    },
    {
     "data": {
      "application/vnd.jupyter.widget-view+json": {
       "model_id": "e74e5092dc4844e5828ca5ad9dbe23fb",
       "version_major": 2,
       "version_minor": 0
      },
      "text/plain": [
       "Epoch 9/100:   0%|          | 0/21992 [00:00<?, ?it/s]"
      ]
     },
     "metadata": {},
     "output_type": "display_data"
    },
    {
     "name": "stderr",
     "output_type": "stream",
     "text": [
      "WARNING:root:NaN or Inf found in input tensor.\n"
     ]
    },
    {
     "name": "stdout",
     "output_type": "stream",
     "text": [
      "2022-04-08 02:42.39 [info     ] FQE_20220408020741: epoch=9 step=197928 epoch=9 metrics={'time_sample_batch': 0.00036654867185770967, 'time_algorithm_update': 0.009609924203137912, 'loss': 0.014461138973639837, 'time_step': 0.010621020829907414, 'init_value': -1.2460979223251343, 'ave_value': -1.2457539595397338, 'soft_opc': nan} step=197928\n"
     ]
    },
    {
     "name": "stderr",
     "output_type": "stream",
     "text": [
      "WARNING:root:NaN or Inf found in input tensor.\n"
     ]
    },
    {
     "name": "stdout",
     "output_type": "stream",
     "text": [
      "2022-04-08 02:42.39 [info     ] Model parameters are saved to d3rlpy_logs\\FQE_20220408020741\\model_197928.pt\n"
     ]
    },
    {
     "data": {
      "application/vnd.jupyter.widget-view+json": {
       "model_id": "134e4b70c2e34002ac88499237e061e6",
       "version_major": 2,
       "version_minor": 0
      },
      "text/plain": [
       "Epoch 10/100:   0%|          | 0/21992 [00:00<?, ?it/s]"
      ]
     },
     "metadata": {},
     "output_type": "display_data"
    },
    {
     "name": "stderr",
     "output_type": "stream",
     "text": [
      "WARNING:root:NaN or Inf found in input tensor.\n"
     ]
    },
    {
     "name": "stdout",
     "output_type": "stream",
     "text": [
      "2022-04-08 02:47.06 [info     ] FQE_20220408020741: epoch=10 step=219920 epoch=10 metrics={'time_sample_batch': 0.00041369593503389325, 'time_algorithm_update': 0.009732476925147409, 'loss': 0.015195978153265, 'time_step': 0.010763975035801676, 'init_value': -1.178571105003357, 'ave_value': -1.178245537867333, 'soft_opc': nan} step=219920\n"
     ]
    },
    {
     "name": "stderr",
     "output_type": "stream",
     "text": [
      "WARNING:root:NaN or Inf found in input tensor.\n"
     ]
    },
    {
     "name": "stdout",
     "output_type": "stream",
     "text": [
      "2022-04-08 02:47.06 [info     ] Model parameters are saved to d3rlpy_logs\\FQE_20220408020741\\model_219920.pt\n"
     ]
    },
    {
     "data": {
      "application/vnd.jupyter.widget-view+json": {
       "model_id": "e2d7e0ce2b2f4f49b7bcb9fcd739fa81",
       "version_major": 2,
       "version_minor": 0
      },
      "text/plain": [
       "Epoch 11/100:   0%|          | 0/21992 [00:00<?, ?it/s]"
      ]
     },
     "metadata": {},
     "output_type": "display_data"
    },
    {
     "name": "stderr",
     "output_type": "stream",
     "text": [
      "WARNING:root:NaN or Inf found in input tensor.\n"
     ]
    },
    {
     "name": "stdout",
     "output_type": "stream",
     "text": [
      "2022-04-08 02:51.36 [info     ] FQE_20220408020741: epoch=11 step=241912 epoch=11 metrics={'time_sample_batch': 0.00039768455331218853, 'time_algorithm_update': 0.009846720447450085, 'loss': 0.015017470780699748, 'time_step': 0.010861637788323672, 'init_value': -1.2587169408798218, 'ave_value': -1.2583700600108156, 'soft_opc': nan} step=241912\n"
     ]
    },
    {
     "name": "stderr",
     "output_type": "stream",
     "text": [
      "WARNING:root:NaN or Inf found in input tensor.\n"
     ]
    },
    {
     "name": "stdout",
     "output_type": "stream",
     "text": [
      "2022-04-08 02:51.36 [info     ] Model parameters are saved to d3rlpy_logs\\FQE_20220408020741\\model_241912.pt\n"
     ]
    },
    {
     "data": {
      "application/vnd.jupyter.widget-view+json": {
       "model_id": "261001f23fc54c71a05c5988676407d2",
       "version_major": 2,
       "version_minor": 0
      },
      "text/plain": [
       "Epoch 12/100:   0%|          | 0/21992 [00:00<?, ?it/s]"
      ]
     },
     "metadata": {},
     "output_type": "display_data"
    },
    {
     "name": "stderr",
     "output_type": "stream",
     "text": [
      "WARNING:root:NaN or Inf found in input tensor.\n"
     ]
    },
    {
     "name": "stdout",
     "output_type": "stream",
     "text": [
      "2022-04-08 02:56.09 [info     ] FQE_20220408020741: epoch=12 step=263904 epoch=12 metrics={'time_sample_batch': 0.0003808344893561315, 'time_algorithm_update': 0.01001515837095572, 'loss': 0.01532685735135579, 'time_step': 0.01102011604454787, 'init_value': -1.2198436260223389, 'ave_value': -1.219451589602224, 'soft_opc': nan} step=263904\n"
     ]
    },
    {
     "name": "stderr",
     "output_type": "stream",
     "text": [
      "WARNING:root:NaN or Inf found in input tensor.\n"
     ]
    },
    {
     "name": "stdout",
     "output_type": "stream",
     "text": [
      "2022-04-08 02:56.09 [info     ] Model parameters are saved to d3rlpy_logs\\FQE_20220408020741\\model_263904.pt\n"
     ]
    },
    {
     "data": {
      "application/vnd.jupyter.widget-view+json": {
       "model_id": "f4203269cc12434e9b0cbb1770db3fe4",
       "version_major": 2,
       "version_minor": 0
      },
      "text/plain": [
       "Epoch 13/100:   0%|          | 0/21992 [00:00<?, ?it/s]"
      ]
     },
     "metadata": {},
     "output_type": "display_data"
    },
    {
     "name": "stderr",
     "output_type": "stream",
     "text": [
      "WARNING:root:NaN or Inf found in input tensor.\n"
     ]
    },
    {
     "name": "stdout",
     "output_type": "stream",
     "text": [
      "2022-04-08 03:00.44 [info     ] FQE_20220408020741: epoch=13 step=285896 epoch=13 metrics={'time_sample_batch': 0.00037179051984132704, 'time_algorithm_update': 0.0099900279989586, 'loss': 0.01541216225602033, 'time_step': 0.0110149803856322, 'init_value': -1.1952316761016846, 'ave_value': -1.1948308177486089, 'soft_opc': nan} step=285896\n"
     ]
    },
    {
     "name": "stderr",
     "output_type": "stream",
     "text": [
      "WARNING:root:NaN or Inf found in input tensor.\n"
     ]
    },
    {
     "name": "stdout",
     "output_type": "stream",
     "text": [
      "2022-04-08 03:00.44 [info     ] Model parameters are saved to d3rlpy_logs\\FQE_20220408020741\\model_285896.pt\n"
     ]
    },
    {
     "data": {
      "application/vnd.jupyter.widget-view+json": {
       "model_id": "22b385f3b1ee4e239ff55707c3ceb745",
       "version_major": 2,
       "version_minor": 0
      },
      "text/plain": [
       "Epoch 14/100:   0%|          | 0/21992 [00:00<?, ?it/s]"
      ]
     },
     "metadata": {},
     "output_type": "display_data"
    },
    {
     "name": "stderr",
     "output_type": "stream",
     "text": [
      "WARNING:root:NaN or Inf found in input tensor.\n"
     ]
    },
    {
     "name": "stdout",
     "output_type": "stream",
     "text": [
      "2022-04-08 03:05.19 [info     ] FQE_20220408020741: epoch=14 step=307888 epoch=14 metrics={'time_sample_batch': 0.00037260026704532184, 'time_algorithm_update': 0.010066625865080782, 'loss': 0.014781611313542355, 'time_step': 0.011079221064066965, 'init_value': -1.1793956756591797, 'ave_value': -1.1790311668650468, 'soft_opc': nan} step=307888\n"
     ]
    },
    {
     "name": "stderr",
     "output_type": "stream",
     "text": [
      "WARNING:root:NaN or Inf found in input tensor.\n"
     ]
    },
    {
     "name": "stdout",
     "output_type": "stream",
     "text": [
      "2022-04-08 03:05.19 [info     ] Model parameters are saved to d3rlpy_logs\\FQE_20220408020741\\model_307888.pt\n"
     ]
    },
    {
     "data": {
      "application/vnd.jupyter.widget-view+json": {
       "model_id": "14414abb14ab499cb8dda6b85202a308",
       "version_major": 2,
       "version_minor": 0
      },
      "text/plain": [
       "Epoch 15/100:   0%|          | 0/21992 [00:00<?, ?it/s]"
      ]
     },
     "metadata": {},
     "output_type": "display_data"
    },
    {
     "name": "stderr",
     "output_type": "stream",
     "text": [
      "WARNING:root:NaN or Inf found in input tensor.\n"
     ]
    },
    {
     "name": "stdout",
     "output_type": "stream",
     "text": [
      "2022-04-08 03:09.55 [info     ] FQE_20220408020741: epoch=15 step=329880 epoch=15 metrics={'time_sample_batch': 0.00038117963906069937, 'time_algorithm_update': 0.010081261981830202, 'loss': 0.01491379159554399, 'time_step': 0.011130564448702505, 'init_value': -1.210632562637329, 'ave_value': -1.2102623421800829, 'soft_opc': nan} step=329880\n"
     ]
    },
    {
     "name": "stderr",
     "output_type": "stream",
     "text": [
      "WARNING:root:NaN or Inf found in input tensor.\n"
     ]
    },
    {
     "name": "stdout",
     "output_type": "stream",
     "text": [
      "2022-04-08 03:09.55 [info     ] Model parameters are saved to d3rlpy_logs\\FQE_20220408020741\\model_329880.pt\n"
     ]
    },
    {
     "data": {
      "application/vnd.jupyter.widget-view+json": {
       "model_id": "f6790aacd0f946c98321995cdd631663",
       "version_major": 2,
       "version_minor": 0
      },
      "text/plain": [
       "Epoch 16/100:   0%|          | 0/21992 [00:00<?, ?it/s]"
      ]
     },
     "metadata": {},
     "output_type": "display_data"
    },
    {
     "name": "stderr",
     "output_type": "stream",
     "text": [
      "WARNING:root:NaN or Inf found in input tensor.\n"
     ]
    },
    {
     "name": "stdout",
     "output_type": "stream",
     "text": [
      "2022-04-08 03:14.34 [info     ] FQE_20220408020741: epoch=16 step=351872 epoch=16 metrics={'time_sample_batch': 0.00037168652068575583, 'time_algorithm_update': 0.010274290496455665, 'loss': 0.013990870163828677, 'time_step': 0.011282890102741024, 'init_value': -1.1832112073898315, 'ave_value': -1.1828329455960132, 'soft_opc': nan} step=351872\n"
     ]
    },
    {
     "name": "stderr",
     "output_type": "stream",
     "text": [
      "WARNING:root:NaN or Inf found in input tensor.\n"
     ]
    },
    {
     "name": "stdout",
     "output_type": "stream",
     "text": [
      "2022-04-08 03:14.34 [info     ] Model parameters are saved to d3rlpy_logs\\FQE_20220408020741\\model_351872.pt\n"
     ]
    },
    {
     "data": {
      "application/vnd.jupyter.widget-view+json": {
       "model_id": "65f68e568295414194d8cd807f5c58f1",
       "version_major": 2,
       "version_minor": 0
      },
      "text/plain": [
       "Epoch 17/100:   0%|          | 0/21992 [00:00<?, ?it/s]"
      ]
     },
     "metadata": {},
     "output_type": "display_data"
    },
    {
     "name": "stderr",
     "output_type": "stream",
     "text": [
      "WARNING:root:NaN or Inf found in input tensor.\n"
     ]
    },
    {
     "name": "stdout",
     "output_type": "stream",
     "text": [
      "2022-04-08 03:19.15 [info     ] FQE_20220408020741: epoch=17 step=373864 epoch=17 metrics={'time_sample_batch': 0.0004039508683241771, 'time_algorithm_update': 0.01029291769598735, 'loss': 0.014820441949279261, 'time_step': 0.011352417403110463, 'init_value': -1.2133538722991943, 'ave_value': -1.2129884945605807, 'soft_opc': nan} step=373864\n"
     ]
    },
    {
     "name": "stderr",
     "output_type": "stream",
     "text": [
      "WARNING:root:NaN or Inf found in input tensor.\n"
     ]
    },
    {
     "name": "stdout",
     "output_type": "stream",
     "text": [
      "2022-04-08 03:19.15 [info     ] Model parameters are saved to d3rlpy_logs\\FQE_20220408020741\\model_373864.pt\n"
     ]
    },
    {
     "data": {
      "application/vnd.jupyter.widget-view+json": {
       "model_id": "3550771ca08a4714a901952714a45ae9",
       "version_major": 2,
       "version_minor": 0
      },
      "text/plain": [
       "Epoch 18/100:   0%|          | 0/21992 [00:00<?, ?it/s]"
      ]
     },
     "metadata": {},
     "output_type": "display_data"
    },
    {
     "name": "stderr",
     "output_type": "stream",
     "text": [
      "WARNING:root:NaN or Inf found in input tensor.\n"
     ]
    },
    {
     "name": "stdout",
     "output_type": "stream",
     "text": [
      "2022-04-08 03:23.56 [info     ] FQE_20220408020741: epoch=18 step=395856 epoch=18 metrics={'time_sample_batch': 0.00037348324622011654, 'time_algorithm_update': 0.01036846089163621, 'loss': 0.014370032767541384, 'time_step': 0.011376255444935687, 'init_value': -1.210204839706421, 'ave_value': -1.2098263550042436, 'soft_opc': nan} step=395856\n"
     ]
    },
    {
     "name": "stderr",
     "output_type": "stream",
     "text": [
      "WARNING:root:NaN or Inf found in input tensor.\n"
     ]
    },
    {
     "name": "stdout",
     "output_type": "stream",
     "text": [
      "2022-04-08 03:23.56 [info     ] Model parameters are saved to d3rlpy_logs\\FQE_20220408020741\\model_395856.pt\n"
     ]
    },
    {
     "data": {
      "application/vnd.jupyter.widget-view+json": {
       "model_id": "3da61f8ac4f54f668a07784cdc745d54",
       "version_major": 2,
       "version_minor": 0
      },
      "text/plain": [
       "Epoch 19/100:   0%|          | 0/21992 [00:00<?, ?it/s]"
      ]
     },
     "metadata": {},
     "output_type": "display_data"
    },
    {
     "name": "stderr",
     "output_type": "stream",
     "text": [
      "WARNING:root:NaN or Inf found in input tensor.\n"
     ]
    },
    {
     "name": "stdout",
     "output_type": "stream",
     "text": [
      "2022-04-08 03:28.42 [info     ] FQE_20220408020741: epoch=19 step=417848 epoch=19 metrics={'time_sample_batch': 0.00034444689447119176, 'time_algorithm_update': 0.010570102320796318, 'loss': 0.015354833488319928, 'time_step': 0.01156024469510561, 'init_value': -1.2272000312805176, 'ave_value': -1.2267880649539775, 'soft_opc': nan} step=417848\n"
     ]
    },
    {
     "name": "stderr",
     "output_type": "stream",
     "text": [
      "WARNING:root:NaN or Inf found in input tensor.\n"
     ]
    },
    {
     "name": "stdout",
     "output_type": "stream",
     "text": [
      "2022-04-08 03:28.42 [info     ] Model parameters are saved to d3rlpy_logs\\FQE_20220408020741\\model_417848.pt\n"
     ]
    },
    {
     "data": {
      "application/vnd.jupyter.widget-view+json": {
       "model_id": "eff6d19fb05d485482929bb33db96474",
       "version_major": 2,
       "version_minor": 0
      },
      "text/plain": [
       "Epoch 20/100:   0%|          | 0/21992 [00:00<?, ?it/s]"
      ]
     },
     "metadata": {},
     "output_type": "display_data"
    },
    {
     "name": "stderr",
     "output_type": "stream",
     "text": [
      "WARNING:root:NaN or Inf found in input tensor.\n"
     ]
    },
    {
     "name": "stdout",
     "output_type": "stream",
     "text": [
      "2022-04-08 03:33.26 [info     ] FQE_20220408020741: epoch=20 step=439840 epoch=20 metrics={'time_sample_batch': 0.00037611859978307763, 'time_algorithm_update': 0.010456425638882279, 'loss': 0.014971144081737576, 'time_step': 0.011496325738649449, 'init_value': -1.2011959552764893, 'ave_value': -1.2007792122675862, 'soft_opc': nan} step=439840\n"
     ]
    },
    {
     "name": "stderr",
     "output_type": "stream",
     "text": [
      "WARNING:root:NaN or Inf found in input tensor.\n"
     ]
    },
    {
     "name": "stdout",
     "output_type": "stream",
     "text": [
      "2022-04-08 03:33.26 [info     ] Model parameters are saved to d3rlpy_logs\\FQE_20220408020741\\model_439840.pt\n"
     ]
    },
    {
     "data": {
      "application/vnd.jupyter.widget-view+json": {
       "model_id": "49a9562cd50f46e5b23c4b11e835f127",
       "version_major": 2,
       "version_minor": 0
      },
      "text/plain": [
       "Epoch 21/100:   0%|          | 0/21992 [00:00<?, ?it/s]"
      ]
     },
     "metadata": {},
     "output_type": "display_data"
    },
    {
     "name": "stderr",
     "output_type": "stream",
     "text": [
      "WARNING:root:NaN or Inf found in input tensor.\n"
     ]
    },
    {
     "name": "stdout",
     "output_type": "stream",
     "text": [
      "2022-04-08 03:38.10 [info     ] FQE_20220408020741: epoch=21 step=461832 epoch=21 metrics={'time_sample_batch': 0.000362673730319437, 'time_algorithm_update': 0.010470797470067796, 'loss': 0.01445489683584885, 'time_step': 0.011500338731396628, 'init_value': -1.2097176313400269, 'ave_value': -1.2093500900322451, 'soft_opc': nan} step=461832\n"
     ]
    },
    {
     "name": "stderr",
     "output_type": "stream",
     "text": [
      "WARNING:root:NaN or Inf found in input tensor.\n"
     ]
    },
    {
     "name": "stdout",
     "output_type": "stream",
     "text": [
      "2022-04-08 03:38.10 [info     ] Model parameters are saved to d3rlpy_logs\\FQE_20220408020741\\model_461832.pt\n"
     ]
    },
    {
     "data": {
      "application/vnd.jupyter.widget-view+json": {
       "model_id": "ba1c3979fd804298bb67392ce20cda79",
       "version_major": 2,
       "version_minor": 0
      },
      "text/plain": [
       "Epoch 22/100:   0%|          | 0/21992 [00:00<?, ?it/s]"
      ]
     },
     "metadata": {},
     "output_type": "display_data"
    },
    {
     "name": "stderr",
     "output_type": "stream",
     "text": [
      "WARNING:root:NaN or Inf found in input tensor.\n"
     ]
    },
    {
     "name": "stdout",
     "output_type": "stream",
     "text": [
      "2022-04-08 03:42.56 [info     ] FQE_20220408020741: epoch=22 step=483824 epoch=22 metrics={'time_sample_batch': 0.00037080585067599155, 'time_algorithm_update': 0.010612215116354455, 'loss': 0.014485646328948209, 'time_step': 0.011614517250161641, 'init_value': -1.1990169286727905, 'ave_value': -1.1986303625573358, 'soft_opc': nan} step=483824\n"
     ]
    },
    {
     "name": "stderr",
     "output_type": "stream",
     "text": [
      "WARNING:root:NaN or Inf found in input tensor.\n"
     ]
    },
    {
     "name": "stdout",
     "output_type": "stream",
     "text": [
      "2022-04-08 03:42.56 [info     ] Model parameters are saved to d3rlpy_logs\\FQE_20220408020741\\model_483824.pt\n"
     ]
    },
    {
     "data": {
      "application/vnd.jupyter.widget-view+json": {
       "model_id": "c43274cca5614abb88f0f765f5db417f",
       "version_major": 2,
       "version_minor": 0
      },
      "text/plain": [
       "Epoch 23/100:   0%|          | 0/21992 [00:00<?, ?it/s]"
      ]
     },
     "metadata": {},
     "output_type": "display_data"
    },
    {
     "name": "stderr",
     "output_type": "stream",
     "text": [
      "WARNING:root:NaN or Inf found in input tensor.\n"
     ]
    },
    {
     "name": "stdout",
     "output_type": "stream",
     "text": [
      "2022-04-08 03:47.42 [info     ] FQE_20220408020741: epoch=23 step=505816 epoch=23 metrics={'time_sample_batch': 0.0003693660374943583, 'time_algorithm_update': 0.010543676355441036, 'loss': 0.015010832311105839, 'time_step': 0.011596446429308477, 'init_value': -1.1910401582717896, 'ave_value': -1.1906805763705626, 'soft_opc': nan} step=505816\n"
     ]
    },
    {
     "name": "stderr",
     "output_type": "stream",
     "text": [
      "WARNING:root:NaN or Inf found in input tensor.\n"
     ]
    },
    {
     "name": "stdout",
     "output_type": "stream",
     "text": [
      "2022-04-08 03:47.42 [info     ] Model parameters are saved to d3rlpy_logs\\FQE_20220408020741\\model_505816.pt\n"
     ]
    },
    {
     "data": {
      "application/vnd.jupyter.widget-view+json": {
       "model_id": "06d7484d7fec451c9cc73ff0527776f1",
       "version_major": 2,
       "version_minor": 0
      },
      "text/plain": [
       "Epoch 24/100:   0%|          | 0/21992 [00:00<?, ?it/s]"
      ]
     },
     "metadata": {},
     "output_type": "display_data"
    },
    {
     "name": "stderr",
     "output_type": "stream",
     "text": [
      "WARNING:root:NaN or Inf found in input tensor.\n"
     ]
    },
    {
     "name": "stdout",
     "output_type": "stream",
     "text": [
      "2022-04-08 03:52.29 [info     ] FQE_20220408020741: epoch=24 step=527808 epoch=24 metrics={'time_sample_batch': 0.000401150176376809, 'time_algorithm_update': 0.01056322311218889, 'loss': 0.015260535837764221, 'time_step': 0.011627508384958534, 'init_value': -1.225817322731018, 'ave_value': -1.22545302492412, 'soft_opc': nan} step=527808\n"
     ]
    },
    {
     "name": "stderr",
     "output_type": "stream",
     "text": [
      "WARNING:root:NaN or Inf found in input tensor.\n"
     ]
    },
    {
     "name": "stdout",
     "output_type": "stream",
     "text": [
      "2022-04-08 03:52.29 [info     ] Model parameters are saved to d3rlpy_logs\\FQE_20220408020741\\model_527808.pt\n"
     ]
    },
    {
     "data": {
      "application/vnd.jupyter.widget-view+json": {
       "model_id": "fb7085777da645d8819bb7bf165a2ef4",
       "version_major": 2,
       "version_minor": 0
      },
      "text/plain": [
       "Epoch 25/100:   0%|          | 0/21992 [00:00<?, ?it/s]"
      ]
     },
     "metadata": {},
     "output_type": "display_data"
    },
    {
     "name": "stderr",
     "output_type": "stream",
     "text": [
      "WARNING:root:NaN or Inf found in input tensor.\n"
     ]
    },
    {
     "name": "stdout",
     "output_type": "stream",
     "text": [
      "2022-04-08 03:57.17 [info     ] FQE_20220408020741: epoch=25 step=549800 epoch=25 metrics={'time_sample_batch': 0.00039658948871255917, 'time_algorithm_update': 0.010631215251459127, 'loss': 0.015374435515485077, 'time_step': 0.011691832551092353, 'init_value': -1.2299308776855469, 'ave_value': -1.229568193714141, 'soft_opc': nan} step=549800\n"
     ]
    },
    {
     "name": "stderr",
     "output_type": "stream",
     "text": [
      "WARNING:root:NaN or Inf found in input tensor.\n"
     ]
    },
    {
     "name": "stdout",
     "output_type": "stream",
     "text": [
      "2022-04-08 03:57.17 [info     ] Model parameters are saved to d3rlpy_logs\\FQE_20220408020741\\model_549800.pt\n"
     ]
    },
    {
     "data": {
      "application/vnd.jupyter.widget-view+json": {
       "model_id": "2330ea1edef345e9b996a019e7b04f0f",
       "version_major": 2,
       "version_minor": 0
      },
      "text/plain": [
       "Epoch 26/100:   0%|          | 0/21992 [00:00<?, ?it/s]"
      ]
     },
     "metadata": {},
     "output_type": "display_data"
    },
    {
     "name": "stderr",
     "output_type": "stream",
     "text": [
      "WARNING:root:NaN or Inf found in input tensor.\n"
     ]
    },
    {
     "name": "stdout",
     "output_type": "stream",
     "text": [
      "2022-04-08 04:02.03 [info     ] FQE_20220408020741: epoch=26 step=571792 epoch=26 metrics={'time_sample_batch': 0.0003771159747766555, 'time_algorithm_update': 0.010603303853361421, 'loss': 0.015582579221173024, 'time_step': 0.011642077113117206, 'init_value': -1.2246276140213013, 'ave_value': -1.224292888401025, 'soft_opc': nan} step=571792\n"
     ]
    },
    {
     "name": "stderr",
     "output_type": "stream",
     "text": [
      "WARNING:root:NaN or Inf found in input tensor.\n"
     ]
    },
    {
     "name": "stdout",
     "output_type": "stream",
     "text": [
      "2022-04-08 04:02.03 [info     ] Model parameters are saved to d3rlpy_logs\\FQE_20220408020741\\model_571792.pt\n"
     ]
    },
    {
     "data": {
      "application/vnd.jupyter.widget-view+json": {
       "model_id": "5acefe850225489381428f3503783a8e",
       "version_major": 2,
       "version_minor": 0
      },
      "text/plain": [
       "Epoch 27/100:   0%|          | 0/21992 [00:00<?, ?it/s]"
      ]
     },
     "metadata": {},
     "output_type": "display_data"
    },
    {
     "name": "stderr",
     "output_type": "stream",
     "text": [
      "WARNING:root:NaN or Inf found in input tensor.\n"
     ]
    },
    {
     "name": "stdout",
     "output_type": "stream",
     "text": [
      "2022-04-08 04:06.51 [info     ] FQE_20220408020741: epoch=27 step=593784 epoch=27 metrics={'time_sample_batch': 0.00033753688615554027, 'time_algorithm_update': 0.010620303048182072, 'loss': 0.014760690548940168, 'time_step': 0.011640487139161694, 'init_value': -1.1958141326904297, 'ave_value': -1.1954133982770005, 'soft_opc': nan} step=593784\n"
     ]
    },
    {
     "name": "stderr",
     "output_type": "stream",
     "text": [
      "WARNING:root:NaN or Inf found in input tensor.\n"
     ]
    },
    {
     "name": "stdout",
     "output_type": "stream",
     "text": [
      "2022-04-08 04:06.51 [info     ] Model parameters are saved to d3rlpy_logs\\FQE_20220408020741\\model_593784.pt\n"
     ]
    },
    {
     "data": {
      "application/vnd.jupyter.widget-view+json": {
       "model_id": "e03c065ac6574cb495895a3795208d0c",
       "version_major": 2,
       "version_minor": 0
      },
      "text/plain": [
       "Epoch 28/100:   0%|          | 0/21992 [00:00<?, ?it/s]"
      ]
     },
     "metadata": {},
     "output_type": "display_data"
    },
    {
     "name": "stderr",
     "output_type": "stream",
     "text": [
      "WARNING:root:NaN or Inf found in input tensor.\n"
     ]
    },
    {
     "name": "stdout",
     "output_type": "stream",
     "text": [
      "2022-04-08 04:11.40 [info     ] FQE_20220408020741: epoch=28 step=615776 epoch=28 metrics={'time_sample_batch': 0.00037192084131001474, 'time_algorithm_update': 0.010695207971102457, 'loss': 0.014666528312233626, 'time_step': 0.011714424012400273, 'init_value': -1.2758781909942627, 'ave_value': -1.2754921020932066, 'soft_opc': nan} step=615776\n"
     ]
    },
    {
     "name": "stderr",
     "output_type": "stream",
     "text": [
      "WARNING:root:NaN or Inf found in input tensor.\n"
     ]
    },
    {
     "name": "stdout",
     "output_type": "stream",
     "text": [
      "2022-04-08 04:11.40 [info     ] Model parameters are saved to d3rlpy_logs\\FQE_20220408020741\\model_615776.pt\n"
     ]
    },
    {
     "data": {
      "application/vnd.jupyter.widget-view+json": {
       "model_id": "6a3f6e22fd0545f1a38c4d9b54a58c16",
       "version_major": 2,
       "version_minor": 0
      },
      "text/plain": [
       "Epoch 29/100:   0%|          | 0/21992 [00:00<?, ?it/s]"
      ]
     },
     "metadata": {},
     "output_type": "display_data"
    },
    {
     "name": "stderr",
     "output_type": "stream",
     "text": [
      "WARNING:root:NaN or Inf found in input tensor.\n"
     ]
    },
    {
     "name": "stdout",
     "output_type": "stream",
     "text": [
      "2022-04-08 04:16.32 [info     ] FQE_20220408020741: epoch=29 step=637768 epoch=29 metrics={'time_sample_batch': 0.000386486056935965, 'time_algorithm_update': 0.010817405461137535, 'loss': 0.015728571843680976, 'time_step': 0.011855466478995819, 'init_value': -1.2528231143951416, 'ave_value': -1.2524333622146406, 'soft_opc': nan} step=637768\n"
     ]
    },
    {
     "name": "stderr",
     "output_type": "stream",
     "text": [
      "WARNING:root:NaN or Inf found in input tensor.\n"
     ]
    },
    {
     "name": "stdout",
     "output_type": "stream",
     "text": [
      "2022-04-08 04:16.32 [info     ] Model parameters are saved to d3rlpy_logs\\FQE_20220408020741\\model_637768.pt\n"
     ]
    },
    {
     "data": {
      "application/vnd.jupyter.widget-view+json": {
       "model_id": "c37b4d50930d4dec9effb9ad9054447e",
       "version_major": 2,
       "version_minor": 0
      },
      "text/plain": [
       "Epoch 30/100:   0%|          | 0/21992 [00:00<?, ?it/s]"
      ]
     },
     "metadata": {},
     "output_type": "display_data"
    },
    {
     "name": "stderr",
     "output_type": "stream",
     "text": [
      "WARNING:root:NaN or Inf found in input tensor.\n"
     ]
    },
    {
     "name": "stdout",
     "output_type": "stream",
     "text": [
      "2022-04-08 04:21.23 [info     ] FQE_20220408020741: epoch=30 step=659760 epoch=30 metrics={'time_sample_batch': 0.00036934216528122706, 'time_algorithm_update': 0.010799367944298331, 'loss': 0.015370338631776656, 'time_step': 0.011835544271528092, 'init_value': -1.2034742832183838, 'ave_value': -1.2031440977194754, 'soft_opc': nan} step=659760\n"
     ]
    },
    {
     "name": "stderr",
     "output_type": "stream",
     "text": [
      "WARNING:root:NaN or Inf found in input tensor.\n"
     ]
    },
    {
     "name": "stdout",
     "output_type": "stream",
     "text": [
      "2022-04-08 04:21.23 [info     ] Model parameters are saved to d3rlpy_logs\\FQE_20220408020741\\model_659760.pt\n"
     ]
    },
    {
     "data": {
      "application/vnd.jupyter.widget-view+json": {
       "model_id": "5cbf5f9b1fb54b08ae8ae329bac44ddd",
       "version_major": 2,
       "version_minor": 0
      },
      "text/plain": [
       "Epoch 31/100:   0%|          | 0/21992 [00:00<?, ?it/s]"
      ]
     },
     "metadata": {},
     "output_type": "display_data"
    },
    {
     "name": "stderr",
     "output_type": "stream",
     "text": [
      "WARNING:root:NaN or Inf found in input tensor.\n"
     ]
    },
    {
     "name": "stdout",
     "output_type": "stream",
     "text": [
      "2022-04-08 04:26.15 [info     ] FQE_20220408020741: epoch=31 step=681752 epoch=31 metrics={'time_sample_batch': 0.00037235504022378323, 'time_algorithm_update': 0.010838330702679337, 'loss': 0.014874389377415202, 'time_step': 0.011873345498216503, 'init_value': -1.1685596704483032, 'ave_value': -1.1682353009386857, 'soft_opc': nan} step=681752\n"
     ]
    },
    {
     "name": "stderr",
     "output_type": "stream",
     "text": [
      "WARNING:root:NaN or Inf found in input tensor.\n"
     ]
    },
    {
     "name": "stdout",
     "output_type": "stream",
     "text": [
      "2022-04-08 04:26.15 [info     ] Model parameters are saved to d3rlpy_logs\\FQE_20220408020741\\model_681752.pt\n"
     ]
    },
    {
     "data": {
      "application/vnd.jupyter.widget-view+json": {
       "model_id": "9f0e6b100e9144c89e8857a0f25d3673",
       "version_major": 2,
       "version_minor": 0
      },
      "text/plain": [
       "Epoch 32/100:   0%|          | 0/21992 [00:00<?, ?it/s]"
      ]
     },
     "metadata": {},
     "output_type": "display_data"
    },
    {
     "name": "stderr",
     "output_type": "stream",
     "text": [
      "WARNING:root:NaN or Inf found in input tensor.\n"
     ]
    },
    {
     "name": "stdout",
     "output_type": "stream",
     "text": [
      "2022-04-08 04:31.08 [info     ] FQE_20220408020741: epoch=32 step=703744 epoch=32 metrics={'time_sample_batch': 0.00037495883519799545, 'time_algorithm_update': 0.010863626759977678, 'loss': 0.014962267769872513, 'time_step': 0.011908592094547664, 'init_value': -1.2169644832611084, 'ave_value': -1.2166144019203726, 'soft_opc': nan} step=703744\n"
     ]
    },
    {
     "name": "stderr",
     "output_type": "stream",
     "text": [
      "WARNING:root:NaN or Inf found in input tensor.\n"
     ]
    },
    {
     "name": "stdout",
     "output_type": "stream",
     "text": [
      "2022-04-08 04:31.08 [info     ] Model parameters are saved to d3rlpy_logs\\FQE_20220408020741\\model_703744.pt\n"
     ]
    },
    {
     "data": {
      "application/vnd.jupyter.widget-view+json": {
       "model_id": "5e05ed9fc5d54296b87251b0f1307c4f",
       "version_major": 2,
       "version_minor": 0
      },
      "text/plain": [
       "Epoch 33/100:   0%|          | 0/21992 [00:00<?, ?it/s]"
      ]
     },
     "metadata": {},
     "output_type": "display_data"
    },
    {
     "name": "stderr",
     "output_type": "stream",
     "text": [
      "WARNING:root:NaN or Inf found in input tensor.\n"
     ]
    },
    {
     "name": "stdout",
     "output_type": "stream",
     "text": [
      "2022-04-08 04:36.04 [info     ] FQE_20220408020741: epoch=33 step=725736 epoch=33 metrics={'time_sample_batch': 0.0003953619018907155, 'time_algorithm_update': 0.01094903870902091, 'loss': 0.014115821971460052, 'time_step': 0.012015954456835844, 'init_value': -1.1948251724243164, 'ave_value': -1.1944614967724838, 'soft_opc': nan} step=725736\n"
     ]
    },
    {
     "name": "stderr",
     "output_type": "stream",
     "text": [
      "WARNING:root:NaN or Inf found in input tensor.\n"
     ]
    },
    {
     "name": "stdout",
     "output_type": "stream",
     "text": [
      "2022-04-08 04:36.04 [info     ] Model parameters are saved to d3rlpy_logs\\FQE_20220408020741\\model_725736.pt\n"
     ]
    },
    {
     "data": {
      "application/vnd.jupyter.widget-view+json": {
       "model_id": "161f4c36364d49298397e1bf23255a03",
       "version_major": 2,
       "version_minor": 0
      },
      "text/plain": [
       "Epoch 34/100:   0%|          | 0/21992 [00:00<?, ?it/s]"
      ]
     },
     "metadata": {},
     "output_type": "display_data"
    },
    {
     "name": "stderr",
     "output_type": "stream",
     "text": [
      "WARNING:root:NaN or Inf found in input tensor.\n"
     ]
    },
    {
     "name": "stdout",
     "output_type": "stream",
     "text": [
      "2022-04-08 04:40.57 [info     ] FQE_20220408020741: epoch=34 step=747728 epoch=34 metrics={'time_sample_batch': 0.0003599792599634675, 'time_algorithm_update': 0.01089271014063694, 'loss': 0.014656958422562451, 'time_step': 0.011927463350056648, 'init_value': -1.2359524965286255, 'ave_value': -1.2355929341890513, 'soft_opc': nan} step=747728\n"
     ]
    },
    {
     "name": "stderr",
     "output_type": "stream",
     "text": [
      "WARNING:root:NaN or Inf found in input tensor.\n"
     ]
    },
    {
     "name": "stdout",
     "output_type": "stream",
     "text": [
      "2022-04-08 04:40.57 [info     ] Model parameters are saved to d3rlpy_logs\\FQE_20220408020741\\model_747728.pt\n"
     ]
    },
    {
     "data": {
      "application/vnd.jupyter.widget-view+json": {
       "model_id": "32114edd902248ce9b91651088c62e2f",
       "version_major": 2,
       "version_minor": 0
      },
      "text/plain": [
       "Epoch 35/100:   0%|          | 0/21992 [00:00<?, ?it/s]"
      ]
     },
     "metadata": {},
     "output_type": "display_data"
    },
    {
     "name": "stderr",
     "output_type": "stream",
     "text": [
      "WARNING:root:NaN or Inf found in input tensor.\n"
     ]
    },
    {
     "name": "stdout",
     "output_type": "stream",
     "text": [
      "2022-04-08 04:45.51 [info     ] FQE_20220408020741: epoch=35 step=769720 epoch=35 metrics={'time_sample_batch': 0.00037425245836284995, 'time_algorithm_update': 0.010925158375868063, 'loss': 0.014902296168892796, 'time_step': 0.011952934838850397, 'init_value': -1.2234947681427002, 'ave_value': -1.223165948154999, 'soft_opc': nan} step=769720\n"
     ]
    },
    {
     "name": "stderr",
     "output_type": "stream",
     "text": [
      "WARNING:root:NaN or Inf found in input tensor.\n"
     ]
    },
    {
     "name": "stdout",
     "output_type": "stream",
     "text": [
      "2022-04-08 04:45.51 [info     ] Model parameters are saved to d3rlpy_logs\\FQE_20220408020741\\model_769720.pt\n"
     ]
    },
    {
     "data": {
      "application/vnd.jupyter.widget-view+json": {
       "model_id": "64ee6cd1aa9f4be3b9578930a328e782",
       "version_major": 2,
       "version_minor": 0
      },
      "text/plain": [
       "Epoch 36/100:   0%|          | 0/21992 [00:00<?, ?it/s]"
      ]
     },
     "metadata": {},
     "output_type": "display_data"
    },
    {
     "name": "stderr",
     "output_type": "stream",
     "text": [
      "WARNING:root:NaN or Inf found in input tensor.\n"
     ]
    },
    {
     "name": "stdout",
     "output_type": "stream",
     "text": [
      "2022-04-08 04:50.49 [info     ] FQE_20220408020741: epoch=36 step=791712 epoch=36 metrics={'time_sample_batch': 0.0003633109406151742, 'time_algorithm_update': 0.011088543965539831, 'loss': 0.015153863313089905, 'time_step': 0.01211970002705854, 'init_value': -1.204925298690796, 'ave_value': -1.2046061433469302, 'soft_opc': nan} step=791712\n"
     ]
    },
    {
     "name": "stderr",
     "output_type": "stream",
     "text": [
      "WARNING:root:NaN or Inf found in input tensor.\n"
     ]
    },
    {
     "name": "stdout",
     "output_type": "stream",
     "text": [
      "2022-04-08 04:50.49 [info     ] Model parameters are saved to d3rlpy_logs\\FQE_20220408020741\\model_791712.pt\n"
     ]
    },
    {
     "data": {
      "application/vnd.jupyter.widget-view+json": {
       "model_id": "a79d9034aa6143908adaf51528522402",
       "version_major": 2,
       "version_minor": 0
      },
      "text/plain": [
       "Epoch 37/100:   0%|          | 0/21992 [00:00<?, ?it/s]"
      ]
     },
     "metadata": {},
     "output_type": "display_data"
    },
    {
     "name": "stderr",
     "output_type": "stream",
     "text": [
      "WARNING:root:NaN or Inf found in input tensor.\n"
     ]
    },
    {
     "name": "stdout",
     "output_type": "stream",
     "text": [
      "2022-04-08 04:55.46 [info     ] FQE_20220408020741: epoch=37 step=813704 epoch=37 metrics={'time_sample_batch': 0.00035709961191790024, 'time_algorithm_update': 0.01107164091004073, 'loss': 0.014489573930034432, 'time_step': 0.01209224741560366, 'init_value': -1.18284010887146, 'ave_value': -1.1825196913242322, 'soft_opc': nan} step=813704\n"
     ]
    },
    {
     "name": "stderr",
     "output_type": "stream",
     "text": [
      "WARNING:root:NaN or Inf found in input tensor.\n"
     ]
    },
    {
     "name": "stdout",
     "output_type": "stream",
     "text": [
      "2022-04-08 04:55.46 [info     ] Model parameters are saved to d3rlpy_logs\\FQE_20220408020741\\model_813704.pt\n"
     ]
    },
    {
     "data": {
      "application/vnd.jupyter.widget-view+json": {
       "model_id": "ef3b341909fe45a692d7c75e38884d61",
       "version_major": 2,
       "version_minor": 0
      },
      "text/plain": [
       "Epoch 38/100:   0%|          | 0/21992 [00:00<?, ?it/s]"
      ]
     },
     "metadata": {},
     "output_type": "display_data"
    },
    {
     "name": "stderr",
     "output_type": "stream",
     "text": [
      "WARNING:root:NaN or Inf found in input tensor.\n"
     ]
    },
    {
     "name": "stdout",
     "output_type": "stream",
     "text": [
      "2022-04-08 05:00.45 [info     ] FQE_20220408020741: epoch=38 step=835696 epoch=38 metrics={'time_sample_batch': 0.000378294071747026, 'time_algorithm_update': 0.011112139599242614, 'loss': 0.015089653002140853, 'time_step': 0.01217476581824654, 'init_value': -1.2071301937103271, 'ave_value': -1.2067873959206825, 'soft_opc': nan} step=835696\n"
     ]
    },
    {
     "name": "stderr",
     "output_type": "stream",
     "text": [
      "WARNING:root:NaN or Inf found in input tensor.\n"
     ]
    },
    {
     "name": "stdout",
     "output_type": "stream",
     "text": [
      "2022-04-08 05:00.45 [info     ] Model parameters are saved to d3rlpy_logs\\FQE_20220408020741\\model_835696.pt\n"
     ]
    },
    {
     "data": {
      "application/vnd.jupyter.widget-view+json": {
       "model_id": "96c2859271754594bf6a41f12eb59f2a",
       "version_major": 2,
       "version_minor": 0
      },
      "text/plain": [
       "Epoch 39/100:   0%|          | 0/21992 [00:00<?, ?it/s]"
      ]
     },
     "metadata": {},
     "output_type": "display_data"
    },
    {
     "name": "stderr",
     "output_type": "stream",
     "text": [
      "WARNING:root:NaN or Inf found in input tensor.\n"
     ]
    },
    {
     "name": "stdout",
     "output_type": "stream",
     "text": [
      "2022-04-08 05:05.44 [info     ] FQE_20220408020741: epoch=39 step=857688 epoch=39 metrics={'time_sample_batch': 0.0003885735963292016, 'time_algorithm_update': 0.011031333903218669, 'loss': 0.014244919717913558, 'time_step': 0.01211858222856657, 'init_value': -1.1966416835784912, 'ave_value': -1.1963128751755412, 'soft_opc': nan} step=857688\n"
     ]
    },
    {
     "name": "stderr",
     "output_type": "stream",
     "text": [
      "WARNING:root:NaN or Inf found in input tensor.\n"
     ]
    },
    {
     "name": "stdout",
     "output_type": "stream",
     "text": [
      "2022-04-08 05:05.44 [info     ] Model parameters are saved to d3rlpy_logs\\FQE_20220408020741\\model_857688.pt\n"
     ]
    },
    {
     "data": {
      "application/vnd.jupyter.widget-view+json": {
       "model_id": "97601bdfba3e4f15ae20a79a0d133deb",
       "version_major": 2,
       "version_minor": 0
      },
      "text/plain": [
       "Epoch 40/100:   0%|          | 0/21992 [00:00<?, ?it/s]"
      ]
     },
     "metadata": {},
     "output_type": "display_data"
    },
    {
     "name": "stderr",
     "output_type": "stream",
     "text": [
      "WARNING:root:NaN or Inf found in input tensor.\n"
     ]
    },
    {
     "name": "stdout",
     "output_type": "stream",
     "text": [
      "2022-04-08 05:10.40 [info     ] FQE_20220408020741: epoch=40 step=879680 epoch=40 metrics={'time_sample_batch': 0.00036838843675906894, 'time_algorithm_update': 0.011047884632171653, 'loss': 0.014732958244264197, 'time_step': 0.012099765330585578, 'init_value': -1.2186814546585083, 'ave_value': -1.2183466649747783, 'soft_opc': nan} step=879680\n"
     ]
    },
    {
     "name": "stderr",
     "output_type": "stream",
     "text": [
      "WARNING:root:NaN or Inf found in input tensor.\n"
     ]
    },
    {
     "name": "stdout",
     "output_type": "stream",
     "text": [
      "2022-04-08 05:10.41 [info     ] Model parameters are saved to d3rlpy_logs\\FQE_20220408020741\\model_879680.pt\n"
     ]
    },
    {
     "data": {
      "application/vnd.jupyter.widget-view+json": {
       "model_id": "24f3e501e47e4f6db2e842f8f8c7e00e",
       "version_major": 2,
       "version_minor": 0
      },
      "text/plain": [
       "Epoch 41/100:   0%|          | 0/21992 [00:00<?, ?it/s]"
      ]
     },
     "metadata": {},
     "output_type": "display_data"
    },
    {
     "name": "stderr",
     "output_type": "stream",
     "text": [
      "WARNING:root:NaN or Inf found in input tensor.\n"
     ]
    },
    {
     "name": "stdout",
     "output_type": "stream",
     "text": [
      "2022-04-08 05:15.37 [info     ] FQE_20220408020741: epoch=41 step=901672 epoch=41 metrics={'time_sample_batch': 0.00035737521564279653, 'time_algorithm_update': 0.0110594197896317, 'loss': 0.015022458264846543, 'time_step': 0.012100014471062404, 'init_value': -1.22079336643219, 'ave_value': -1.2204404761286656, 'soft_opc': nan} step=901672\n"
     ]
    },
    {
     "name": "stderr",
     "output_type": "stream",
     "text": [
      "WARNING:root:NaN or Inf found in input tensor.\n"
     ]
    },
    {
     "name": "stdout",
     "output_type": "stream",
     "text": [
      "2022-04-08 05:15.37 [info     ] Model parameters are saved to d3rlpy_logs\\FQE_20220408020741\\model_901672.pt\n"
     ]
    },
    {
     "data": {
      "application/vnd.jupyter.widget-view+json": {
       "model_id": "c97dcd7fe92f4f82be063ee4c1108899",
       "version_major": 2,
       "version_minor": 0
      },
      "text/plain": [
       "Epoch 42/100:   0%|          | 0/21992 [00:00<?, ?it/s]"
      ]
     },
     "metadata": {},
     "output_type": "display_data"
    },
    {
     "name": "stderr",
     "output_type": "stream",
     "text": [
      "WARNING:root:NaN or Inf found in input tensor.\n"
     ]
    },
    {
     "name": "stdout",
     "output_type": "stream",
     "text": [
      "2022-04-08 05:20.36 [info     ] FQE_20220408020741: epoch=42 step=923664 epoch=42 metrics={'time_sample_batch': 0.00037229521875600027, 'time_algorithm_update': 0.011103687762520277, 'loss': 0.015078046652036041, 'time_step': 0.012157892467499473, 'init_value': -1.2325043678283691, 'ave_value': -1.2321343272830656, 'soft_opc': nan} step=923664\n"
     ]
    },
    {
     "name": "stderr",
     "output_type": "stream",
     "text": [
      "WARNING:root:NaN or Inf found in input tensor.\n"
     ]
    },
    {
     "name": "stdout",
     "output_type": "stream",
     "text": [
      "2022-04-08 05:20.36 [info     ] Model parameters are saved to d3rlpy_logs\\FQE_20220408020741\\model_923664.pt\n"
     ]
    },
    {
     "data": {
      "application/vnd.jupyter.widget-view+json": {
       "model_id": "db20fe5dad894e8a95985968e1e6610f",
       "version_major": 2,
       "version_minor": 0
      },
      "text/plain": [
       "Epoch 43/100:   0%|          | 0/21992 [00:00<?, ?it/s]"
      ]
     },
     "metadata": {},
     "output_type": "display_data"
    },
    {
     "name": "stderr",
     "output_type": "stream",
     "text": [
      "WARNING:root:NaN or Inf found in input tensor.\n"
     ]
    },
    {
     "name": "stdout",
     "output_type": "stream",
     "text": [
      "2022-04-08 05:25.35 [info     ] FQE_20220408020741: epoch=43 step=945656 epoch=43 metrics={'time_sample_batch': 0.0003887196049424855, 'time_algorithm_update': 0.011118797507447388, 'loss': 0.014665386250490839, 'time_step': 0.012184871916946128, 'init_value': -1.2339458465576172, 'ave_value': -1.233564530429282, 'soft_opc': nan} step=945656\n"
     ]
    },
    {
     "name": "stderr",
     "output_type": "stream",
     "text": [
      "WARNING:root:NaN or Inf found in input tensor.\n"
     ]
    },
    {
     "name": "stdout",
     "output_type": "stream",
     "text": [
      "2022-04-08 05:25.35 [info     ] Model parameters are saved to d3rlpy_logs\\FQE_20220408020741\\model_945656.pt\n"
     ]
    },
    {
     "data": {
      "application/vnd.jupyter.widget-view+json": {
       "model_id": "516125732b8b4c6fa88ee410c7d65609",
       "version_major": 2,
       "version_minor": 0
      },
      "text/plain": [
       "Epoch 44/100:   0%|          | 0/21992 [00:00<?, ?it/s]"
      ]
     },
     "metadata": {},
     "output_type": "display_data"
    },
    {
     "name": "stderr",
     "output_type": "stream",
     "text": [
      "WARNING:root:NaN or Inf found in input tensor.\n"
     ]
    },
    {
     "name": "stdout",
     "output_type": "stream",
     "text": [
      "2022-04-08 05:30.35 [info     ] FQE_20220408020741: epoch=44 step=967648 epoch=44 metrics={'time_sample_batch': 0.00038685937194921354, 'time_algorithm_update': 0.011129354923237189, 'loss': 0.014882266819371602, 'time_step': 0.012193034858693205, 'init_value': -1.1961466073989868, 'ave_value': -1.1957734431899563, 'soft_opc': nan} step=967648\n"
     ]
    },
    {
     "name": "stderr",
     "output_type": "stream",
     "text": [
      "WARNING:root:NaN or Inf found in input tensor.\n"
     ]
    },
    {
     "name": "stdout",
     "output_type": "stream",
     "text": [
      "2022-04-08 05:30.35 [info     ] Model parameters are saved to d3rlpy_logs\\FQE_20220408020741\\model_967648.pt\n"
     ]
    },
    {
     "data": {
      "application/vnd.jupyter.widget-view+json": {
       "model_id": "937aecb9c47a4085ae5a9d83d6846b1f",
       "version_major": 2,
       "version_minor": 0
      },
      "text/plain": [
       "Epoch 45/100:   0%|          | 0/21992 [00:00<?, ?it/s]"
      ]
     },
     "metadata": {},
     "output_type": "display_data"
    },
    {
     "name": "stderr",
     "output_type": "stream",
     "text": [
      "WARNING:root:NaN or Inf found in input tensor.\n"
     ]
    },
    {
     "name": "stdout",
     "output_type": "stream",
     "text": [
      "2022-04-08 05:35.34 [info     ] FQE_20220408020741: epoch=45 step=989640 epoch=45 metrics={'time_sample_batch': 0.00036163055146551425, 'time_algorithm_update': 0.011120324179925846, 'loss': 0.015404947236492526, 'time_step': 0.01216284221152732, 'init_value': -1.2860538959503174, 'ave_value': -1.2856972766640908, 'soft_opc': nan} step=989640\n"
     ]
    },
    {
     "name": "stderr",
     "output_type": "stream",
     "text": [
      "WARNING:root:NaN or Inf found in input tensor.\n"
     ]
    },
    {
     "name": "stdout",
     "output_type": "stream",
     "text": [
      "2022-04-08 05:35.34 [info     ] Model parameters are saved to d3rlpy_logs\\FQE_20220408020741\\model_989640.pt\n"
     ]
    },
    {
     "data": {
      "application/vnd.jupyter.widget-view+json": {
       "model_id": "c736bfad131c41ce95ce312a5e1288c6",
       "version_major": 2,
       "version_minor": 0
      },
      "text/plain": [
       "Epoch 46/100:   0%|          | 0/21992 [00:00<?, ?it/s]"
      ]
     },
     "metadata": {},
     "output_type": "display_data"
    },
    {
     "name": "stderr",
     "output_type": "stream",
     "text": [
      "WARNING:root:NaN or Inf found in input tensor.\n"
     ]
    },
    {
     "name": "stdout",
     "output_type": "stream",
     "text": [
      "2022-04-08 05:40.34 [info     ] FQE_20220408020741: epoch=46 step=1011632 epoch=46 metrics={'time_sample_batch': 0.0003758481998103625, 'time_algorithm_update': 0.011143745325313302, 'loss': 0.01572526568750739, 'time_step': 0.012198358351380317, 'init_value': -1.2274831533432007, 'ave_value': -1.22713519798981, 'soft_opc': nan} step=1011632\n"
     ]
    },
    {
     "name": "stderr",
     "output_type": "stream",
     "text": [
      "WARNING:root:NaN or Inf found in input tensor.\n"
     ]
    },
    {
     "name": "stdout",
     "output_type": "stream",
     "text": [
      "2022-04-08 05:40.34 [info     ] Model parameters are saved to d3rlpy_logs\\FQE_20220408020741\\model_1011632.pt\n"
     ]
    },
    {
     "data": {
      "application/vnd.jupyter.widget-view+json": {
       "model_id": "3d80815b0a16453f91aae24e9ae51088",
       "version_major": 2,
       "version_minor": 0
      },
      "text/plain": [
       "Epoch 47/100:   0%|          | 0/21992 [00:00<?, ?it/s]"
      ]
     },
     "metadata": {},
     "output_type": "display_data"
    },
    {
     "name": "stderr",
     "output_type": "stream",
     "text": [
      "WARNING:root:NaN or Inf found in input tensor.\n"
     ]
    },
    {
     "name": "stdout",
     "output_type": "stream",
     "text": [
      "2022-04-08 05:45.35 [info     ] FQE_20220408020741: epoch=47 step=1033624 epoch=47 metrics={'time_sample_batch': 0.0003812438837178363, 'time_algorithm_update': 0.011158369972125623, 'loss': 0.015233504015251266, 'time_step': 0.01220292604242771, 'init_value': -1.176824688911438, 'ave_value': -1.1764513593733021, 'soft_opc': nan} step=1033624\n"
     ]
    },
    {
     "name": "stderr",
     "output_type": "stream",
     "text": [
      "WARNING:root:NaN or Inf found in input tensor.\n"
     ]
    },
    {
     "name": "stdout",
     "output_type": "stream",
     "text": [
      "2022-04-08 05:45.35 [info     ] Model parameters are saved to d3rlpy_logs\\FQE_20220408020741\\model_1033624.pt\n"
     ]
    },
    {
     "data": {
      "application/vnd.jupyter.widget-view+json": {
       "model_id": "a483ddce60524c4ca85a6e46299a66c3",
       "version_major": 2,
       "version_minor": 0
      },
      "text/plain": [
       "Epoch 48/100:   0%|          | 0/21992 [00:00<?, ?it/s]"
      ]
     },
     "metadata": {},
     "output_type": "display_data"
    },
    {
     "name": "stderr",
     "output_type": "stream",
     "text": [
      "WARNING:root:NaN or Inf found in input tensor.\n"
     ]
    },
    {
     "name": "stdout",
     "output_type": "stream",
     "text": [
      "2022-04-08 05:50.33 [info     ] FQE_20220408020741: epoch=48 step=1055616 epoch=48 metrics={'time_sample_batch': 0.0003803469953471073, 'time_algorithm_update': 0.011069998389029338, 'loss': 0.015464074498552924, 'time_step': 0.012139918935129798, 'init_value': -1.210030198097229, 'ave_value': -1.2096500636889773, 'soft_opc': nan} step=1055616\n"
     ]
    },
    {
     "name": "stderr",
     "output_type": "stream",
     "text": [
      "WARNING:root:NaN or Inf found in input tensor.\n"
     ]
    },
    {
     "name": "stdout",
     "output_type": "stream",
     "text": [
      "2022-04-08 05:50.33 [info     ] Model parameters are saved to d3rlpy_logs\\FQE_20220408020741\\model_1055616.pt\n"
     ]
    },
    {
     "data": {
      "application/vnd.jupyter.widget-view+json": {
       "model_id": "5135805ce8ff4f83a899c1163756b0a0",
       "version_major": 2,
       "version_minor": 0
      },
      "text/plain": [
       "Epoch 49/100:   0%|          | 0/21992 [00:00<?, ?it/s]"
      ]
     },
     "metadata": {},
     "output_type": "display_data"
    },
    {
     "name": "stderr",
     "output_type": "stream",
     "text": [
      "WARNING:root:NaN or Inf found in input tensor.\n"
     ]
    },
    {
     "name": "stdout",
     "output_type": "stream",
     "text": [
      "2022-04-08 05:55.31 [info     ] FQE_20220408020741: epoch=49 step=1077608 epoch=49 metrics={'time_sample_batch': 0.00040091836005828733, 'time_algorithm_update': 0.011055970417451494, 'loss': 0.015090523025290011, 'time_step': 0.012120722033145775, 'init_value': -1.2434805631637573, 'ave_value': -1.243125322819474, 'soft_opc': nan} step=1077608\n"
     ]
    },
    {
     "name": "stderr",
     "output_type": "stream",
     "text": [
      "WARNING:root:NaN or Inf found in input tensor.\n"
     ]
    },
    {
     "name": "stdout",
     "output_type": "stream",
     "text": [
      "2022-04-08 05:55.31 [info     ] Model parameters are saved to d3rlpy_logs\\FQE_20220408020741\\model_1077608.pt\n"
     ]
    },
    {
     "data": {
      "application/vnd.jupyter.widget-view+json": {
       "model_id": "38ef3f992aed4dfcbc460bd82abc8292",
       "version_major": 2,
       "version_minor": 0
      },
      "text/plain": [
       "Epoch 50/100:   0%|          | 0/21992 [00:00<?, ?it/s]"
      ]
     },
     "metadata": {},
     "output_type": "display_data"
    },
    {
     "name": "stderr",
     "output_type": "stream",
     "text": [
      "WARNING:root:NaN or Inf found in input tensor.\n"
     ]
    },
    {
     "name": "stdout",
     "output_type": "stream",
     "text": [
      "2022-04-08 06:00.29 [info     ] FQE_20220408020741: epoch=50 step=1099600 epoch=50 metrics={'time_sample_batch': 0.0003804068601794918, 'time_algorithm_update': 0.011090717410208659, 'loss': 0.015253687829330974, 'time_step': 0.012175549037155562, 'init_value': -1.1979639530181885, 'ave_value': -1.197604612150099, 'soft_opc': nan} step=1099600\n"
     ]
    },
    {
     "name": "stderr",
     "output_type": "stream",
     "text": [
      "WARNING:root:NaN or Inf found in input tensor.\n"
     ]
    },
    {
     "name": "stdout",
     "output_type": "stream",
     "text": [
      "2022-04-08 06:00.29 [info     ] Model parameters are saved to d3rlpy_logs\\FQE_20220408020741\\model_1099600.pt\n"
     ]
    },
    {
     "data": {
      "application/vnd.jupyter.widget-view+json": {
       "model_id": "3608291d133f43f3a110cc1c5b8435da",
       "version_major": 2,
       "version_minor": 0
      },
      "text/plain": [
       "Epoch 51/100:   0%|          | 0/21992 [00:00<?, ?it/s]"
      ]
     },
     "metadata": {},
     "output_type": "display_data"
    },
    {
     "name": "stderr",
     "output_type": "stream",
     "text": [
      "WARNING:root:NaN or Inf found in input tensor.\n"
     ]
    },
    {
     "name": "stdout",
     "output_type": "stream",
     "text": [
      "2022-04-08 06:05.28 [info     ] FQE_20220408020741: epoch=51 step=1121592 epoch=51 metrics={'time_sample_batch': 0.00038225510286044625, 'time_algorithm_update': 0.0111054302497793, 'loss': 0.015434161988080963, 'time_step': 0.01216373341913525, 'init_value': -1.2516844272613525, 'ave_value': -1.2512799943658721, 'soft_opc': nan} step=1121592\n"
     ]
    },
    {
     "name": "stderr",
     "output_type": "stream",
     "text": [
      "WARNING:root:NaN or Inf found in input tensor.\n"
     ]
    },
    {
     "name": "stdout",
     "output_type": "stream",
     "text": [
      "2022-04-08 06:05.28 [info     ] Model parameters are saved to d3rlpy_logs\\FQE_20220408020741\\model_1121592.pt\n"
     ]
    },
    {
     "data": {
      "application/vnd.jupyter.widget-view+json": {
       "model_id": "d1906943e23143858798463602c85f1c",
       "version_major": 2,
       "version_minor": 0
      },
      "text/plain": [
       "Epoch 52/100:   0%|          | 0/21992 [00:00<?, ?it/s]"
      ]
     },
     "metadata": {},
     "output_type": "display_data"
    },
    {
     "name": "stderr",
     "output_type": "stream",
     "text": [
      "WARNING:root:NaN or Inf found in input tensor.\n"
     ]
    },
    {
     "name": "stdout",
     "output_type": "stream",
     "text": [
      "2022-04-08 06:10.27 [info     ] FQE_20220408020741: epoch=52 step=1143584 epoch=52 metrics={'time_sample_batch': 0.000400972056276107, 'time_algorithm_update': 0.011062224416916655, 'loss': 0.015718872213818444, 'time_step': 0.012147063578463069, 'init_value': -1.2660133838653564, 'ave_value': -1.2656501578388526, 'soft_opc': nan} step=1143584\n"
     ]
    },
    {
     "name": "stderr",
     "output_type": "stream",
     "text": [
      "WARNING:root:NaN or Inf found in input tensor.\n"
     ]
    },
    {
     "name": "stdout",
     "output_type": "stream",
     "text": [
      "2022-04-08 06:10.27 [info     ] Model parameters are saved to d3rlpy_logs\\FQE_20220408020741\\model_1143584.pt\n"
     ]
    },
    {
     "data": {
      "application/vnd.jupyter.widget-view+json": {
       "model_id": "dda7ba855f494167ae1d842e79219a7b",
       "version_major": 2,
       "version_minor": 0
      },
      "text/plain": [
       "Epoch 53/100:   0%|          | 0/21992 [00:00<?, ?it/s]"
      ]
     },
     "metadata": {},
     "output_type": "display_data"
    },
    {
     "name": "stderr",
     "output_type": "stream",
     "text": [
      "WARNING:root:NaN or Inf found in input tensor.\n"
     ]
    },
    {
     "name": "stdout",
     "output_type": "stream",
     "text": [
      "2022-04-08 06:15.28 [info     ] FQE_20220408020741: epoch=53 step=1165576 epoch=53 metrics={'time_sample_batch': 0.0004000874617699061, 'time_algorithm_update': 0.011158445816813663, 'loss': 0.015092585531598805, 'time_step': 0.012235234784576927, 'init_value': -1.226556420326233, 'ave_value': -1.2261494824172237, 'soft_opc': nan} step=1165576\n"
     ]
    },
    {
     "name": "stderr",
     "output_type": "stream",
     "text": [
      "WARNING:root:NaN or Inf found in input tensor.\n"
     ]
    },
    {
     "name": "stdout",
     "output_type": "stream",
     "text": [
      "2022-04-08 06:15.28 [info     ] Model parameters are saved to d3rlpy_logs\\FQE_20220408020741\\model_1165576.pt\n"
     ]
    },
    {
     "data": {
      "application/vnd.jupyter.widget-view+json": {
       "model_id": "cdcd4831fd484b9fb326c8c54ae0cada",
       "version_major": 2,
       "version_minor": 0
      },
      "text/plain": [
       "Epoch 54/100:   0%|          | 0/21992 [00:00<?, ?it/s]"
      ]
     },
     "metadata": {},
     "output_type": "display_data"
    },
    {
     "name": "stderr",
     "output_type": "stream",
     "text": [
      "WARNING:root:NaN or Inf found in input tensor.\n"
     ]
    },
    {
     "name": "stdout",
     "output_type": "stream",
     "text": [
      "2022-04-08 06:20.31 [info     ] FQE_20220408020741: epoch=54 step=1187568 epoch=54 metrics={'time_sample_batch': 0.00038991216400745954, 'time_algorithm_update': 0.011298544626315753, 'loss': 0.015394252918662664, 'time_step': 0.012338677203711616, 'init_value': -1.2574529647827148, 'ave_value': -1.2570784960416648, 'soft_opc': nan} step=1187568\n"
     ]
    },
    {
     "name": "stderr",
     "output_type": "stream",
     "text": [
      "WARNING:root:NaN or Inf found in input tensor.\n"
     ]
    },
    {
     "name": "stdout",
     "output_type": "stream",
     "text": [
      "2022-04-08 06:20.31 [info     ] Model parameters are saved to d3rlpy_logs\\FQE_20220408020741\\model_1187568.pt\n"
     ]
    },
    {
     "data": {
      "application/vnd.jupyter.widget-view+json": {
       "model_id": "a2969822b9d343cda725722792cf2885",
       "version_major": 2,
       "version_minor": 0
      },
      "text/plain": [
       "Epoch 55/100:   0%|          | 0/21992 [00:00<?, ?it/s]"
      ]
     },
     "metadata": {},
     "output_type": "display_data"
    },
    {
     "name": "stderr",
     "output_type": "stream",
     "text": [
      "WARNING:root:NaN or Inf found in input tensor.\n"
     ]
    },
    {
     "name": "stdout",
     "output_type": "stream",
     "text": [
      "2022-04-08 06:25.31 [info     ] FQE_20220408020741: epoch=55 step=1209560 epoch=55 metrics={'time_sample_batch': 0.0003808415144215761, 'time_algorithm_update': 0.011179693441644241, 'loss': 0.015287180064438004, 'time_step': 0.01226624125521935, 'init_value': -1.241339087486267, 'ave_value': -1.2408906423923458, 'soft_opc': nan} step=1209560\n"
     ]
    },
    {
     "name": "stderr",
     "output_type": "stream",
     "text": [
      "WARNING:root:NaN or Inf found in input tensor.\n"
     ]
    },
    {
     "name": "stdout",
     "output_type": "stream",
     "text": [
      "2022-04-08 06:25.31 [info     ] Model parameters are saved to d3rlpy_logs\\FQE_20220408020741\\model_1209560.pt\n"
     ]
    },
    {
     "data": {
      "application/vnd.jupyter.widget-view+json": {
       "model_id": "f55f192a1922449891c3efa681c5deac",
       "version_major": 2,
       "version_minor": 0
      },
      "text/plain": [
       "Epoch 56/100:   0%|          | 0/21992 [00:00<?, ?it/s]"
      ]
     },
     "metadata": {},
     "output_type": "display_data"
    },
    {
     "name": "stderr",
     "output_type": "stream",
     "text": [
      "WARNING:root:NaN or Inf found in input tensor.\n"
     ]
    },
    {
     "name": "stdout",
     "output_type": "stream",
     "text": [
      "2022-04-08 06:30.34 [info     ] FQE_20220408020741: epoch=56 step=1231552 epoch=56 metrics={'time_sample_batch': 0.0003540992476628797, 'time_algorithm_update': 0.0112639947148313, 'loss': 0.015640155715730932, 'time_step': 0.012307887501870991, 'init_value': -1.2547167539596558, 'ave_value': -1.2543003251998697, 'soft_opc': nan} step=1231552\n"
     ]
    },
    {
     "name": "stderr",
     "output_type": "stream",
     "text": [
      "WARNING:root:NaN or Inf found in input tensor.\n"
     ]
    },
    {
     "name": "stdout",
     "output_type": "stream",
     "text": [
      "2022-04-08 06:30.34 [info     ] Model parameters are saved to d3rlpy_logs\\FQE_20220408020741\\model_1231552.pt\n"
     ]
    },
    {
     "data": {
      "application/vnd.jupyter.widget-view+json": {
       "model_id": "a9236b8286a945e78464fc44c70e543e",
       "version_major": 2,
       "version_minor": 0
      },
      "text/plain": [
       "Epoch 57/100:   0%|          | 0/21992 [00:00<?, ?it/s]"
      ]
     },
     "metadata": {},
     "output_type": "display_data"
    },
    {
     "name": "stderr",
     "output_type": "stream",
     "text": [
      "WARNING:root:NaN or Inf found in input tensor.\n"
     ]
    },
    {
     "name": "stdout",
     "output_type": "stream",
     "text": [
      "2022-04-08 06:35.35 [info     ] FQE_20220408020741: epoch=57 step=1253544 epoch=57 metrics={'time_sample_batch': 0.00039963673010181194, 'time_algorithm_update': 0.011201499277307753, 'loss': 0.014721849304912953, 'time_step': 0.012277001086127849, 'init_value': -1.2527986764907837, 'ave_value': -1.2523943080651578, 'soft_opc': nan} step=1253544\n"
     ]
    },
    {
     "name": "stderr",
     "output_type": "stream",
     "text": [
      "WARNING:root:NaN or Inf found in input tensor.\n"
     ]
    },
    {
     "name": "stdout",
     "output_type": "stream",
     "text": [
      "2022-04-08 06:35.35 [info     ] Model parameters are saved to d3rlpy_logs\\FQE_20220408020741\\model_1253544.pt\n"
     ]
    },
    {
     "data": {
      "application/vnd.jupyter.widget-view+json": {
       "model_id": "2d5d05799e6740b0a48260aeb7dded28",
       "version_major": 2,
       "version_minor": 0
      },
      "text/plain": [
       "Epoch 58/100:   0%|          | 0/21992 [00:00<?, ?it/s]"
      ]
     },
     "metadata": {},
     "output_type": "display_data"
    },
    {
     "name": "stderr",
     "output_type": "stream",
     "text": [
      "WARNING:root:NaN or Inf found in input tensor.\n"
     ]
    },
    {
     "name": "stdout",
     "output_type": "stream",
     "text": [
      "2022-04-08 06:40.38 [info     ] FQE_20220408020741: epoch=58 step=1275536 epoch=58 metrics={'time_sample_batch': 0.00038421124751110777, 'time_algorithm_update': 0.011313517425831294, 'loss': 0.015020880323430089, 'time_step': 0.012363139771686635, 'init_value': -1.252206563949585, 'ave_value': -1.2518126764733541, 'soft_opc': nan} step=1275536\n"
     ]
    },
    {
     "name": "stderr",
     "output_type": "stream",
     "text": [
      "WARNING:root:NaN or Inf found in input tensor.\n"
     ]
    },
    {
     "name": "stdout",
     "output_type": "stream",
     "text": [
      "2022-04-08 06:40.38 [info     ] Model parameters are saved to d3rlpy_logs\\FQE_20220408020741\\model_1275536.pt\n"
     ]
    },
    {
     "data": {
      "application/vnd.jupyter.widget-view+json": {
       "model_id": "a916a90264af45ecaaed58c649851e99",
       "version_major": 2,
       "version_minor": 0
      },
      "text/plain": [
       "Epoch 59/100:   0%|          | 0/21992 [00:00<?, ?it/s]"
      ]
     },
     "metadata": {},
     "output_type": "display_data"
    },
    {
     "name": "stderr",
     "output_type": "stream",
     "text": [
      "WARNING:root:NaN or Inf found in input tensor.\n"
     ]
    },
    {
     "name": "stdout",
     "output_type": "stream",
     "text": [
      "2022-04-08 06:45.40 [info     ] FQE_20220408020741: epoch=59 step=1297528 epoch=59 metrics={'time_sample_batch': 0.00037971737385663435, 'time_algorithm_update': 0.011266132177722024, 'loss': 0.015707575678057292, 'time_step': 0.01231384825905959, 'init_value': -1.200793981552124, 'ave_value': -1.2004006607905935, 'soft_opc': nan} step=1297528\n"
     ]
    },
    {
     "name": "stderr",
     "output_type": "stream",
     "text": [
      "WARNING:root:NaN or Inf found in input tensor.\n"
     ]
    },
    {
     "name": "stdout",
     "output_type": "stream",
     "text": [
      "2022-04-08 06:45.40 [info     ] Model parameters are saved to d3rlpy_logs\\FQE_20220408020741\\model_1297528.pt\n"
     ]
    },
    {
     "data": {
      "application/vnd.jupyter.widget-view+json": {
       "model_id": "d174563657e642e1882bbb5f7c8b04c9",
       "version_major": 2,
       "version_minor": 0
      },
      "text/plain": [
       "Epoch 60/100:   0%|          | 0/21992 [00:00<?, ?it/s]"
      ]
     },
     "metadata": {},
     "output_type": "display_data"
    },
    {
     "name": "stderr",
     "output_type": "stream",
     "text": [
      "WARNING:root:NaN or Inf found in input tensor.\n"
     ]
    },
    {
     "name": "stdout",
     "output_type": "stream",
     "text": [
      "2022-04-08 06:50.44 [info     ] FQE_20220408020741: epoch=60 step=1319520 epoch=60 metrics={'time_sample_batch': 0.0003676148556327334, 'time_algorithm_update': 0.011327519064254872, 'loss': 0.015393708785364398, 'time_step': 0.012380888632055888, 'init_value': -1.2482068538665771, 'ave_value': -1.2478018929787216, 'soft_opc': nan} step=1319520\n"
     ]
    },
    {
     "name": "stderr",
     "output_type": "stream",
     "text": [
      "WARNING:root:NaN or Inf found in input tensor.\n"
     ]
    },
    {
     "name": "stdout",
     "output_type": "stream",
     "text": [
      "2022-04-08 06:50.44 [info     ] Model parameters are saved to d3rlpy_logs\\FQE_20220408020741\\model_1319520.pt\n"
     ]
    },
    {
     "data": {
      "application/vnd.jupyter.widget-view+json": {
       "model_id": "a1e0ec3478cf4f2d857036af7e26ae2b",
       "version_major": 2,
       "version_minor": 0
      },
      "text/plain": [
       "Epoch 61/100:   0%|          | 0/21992 [00:00<?, ?it/s]"
      ]
     },
     "metadata": {},
     "output_type": "display_data"
    },
    {
     "name": "stderr",
     "output_type": "stream",
     "text": [
      "WARNING:root:NaN or Inf found in input tensor.\n"
     ]
    },
    {
     "name": "stdout",
     "output_type": "stream",
     "text": [
      "2022-04-08 06:55.46 [info     ] FQE_20220408020741: epoch=61 step=1341512 epoch=61 metrics={'time_sample_batch': 0.00036539021905182317, 'time_algorithm_update': 0.011258206559597861, 'loss': 0.015702759774323706, 'time_step': 0.012293179313153864, 'init_value': -1.1933130025863647, 'ave_value': -1.192937039853483, 'soft_opc': nan} step=1341512\n"
     ]
    },
    {
     "name": "stderr",
     "output_type": "stream",
     "text": [
      "WARNING:root:NaN or Inf found in input tensor.\n"
     ]
    },
    {
     "name": "stdout",
     "output_type": "stream",
     "text": [
      "2022-04-08 06:55.46 [info     ] Model parameters are saved to d3rlpy_logs\\FQE_20220408020741\\model_1341512.pt\n"
     ]
    },
    {
     "data": {
      "application/vnd.jupyter.widget-view+json": {
       "model_id": "835f1284688e4d0f86dc7e8ab751ee8f",
       "version_major": 2,
       "version_minor": 0
      },
      "text/plain": [
       "Epoch 62/100:   0%|          | 0/21992 [00:00<?, ?it/s]"
      ]
     },
     "metadata": {},
     "output_type": "display_data"
    },
    {
     "name": "stderr",
     "output_type": "stream",
     "text": [
      "WARNING:root:NaN or Inf found in input tensor.\n"
     ]
    },
    {
     "name": "stdout",
     "output_type": "stream",
     "text": [
      "2022-04-08 07:00.48 [info     ] FQE_20220408020741: epoch=62 step=1363504 epoch=62 metrics={'time_sample_batch': 0.00036152730034931914, 'time_algorithm_update': 0.011220758765252905, 'loss': 0.015166705884946808, 'time_step': 0.01231420866226274, 'init_value': -1.2310155630111694, 'ave_value': -1.2306085638542428, 'soft_opc': nan} step=1363504\n"
     ]
    },
    {
     "name": "stderr",
     "output_type": "stream",
     "text": [
      "WARNING:root:NaN or Inf found in input tensor.\n"
     ]
    },
    {
     "name": "stdout",
     "output_type": "stream",
     "text": [
      "2022-04-08 07:00.48 [info     ] Model parameters are saved to d3rlpy_logs\\FQE_20220408020741\\model_1363504.pt\n"
     ]
    },
    {
     "data": {
      "application/vnd.jupyter.widget-view+json": {
       "model_id": "ea954bbd45914502b69454ec1af35f30",
       "version_major": 2,
       "version_minor": 0
      },
      "text/plain": [
       "Epoch 63/100:   0%|          | 0/21992 [00:00<?, ?it/s]"
      ]
     },
     "metadata": {},
     "output_type": "display_data"
    },
    {
     "name": "stderr",
     "output_type": "stream",
     "text": [
      "WARNING:root:NaN or Inf found in input tensor.\n"
     ]
    },
    {
     "name": "stdout",
     "output_type": "stream",
     "text": [
      "2022-04-08 07:05.51 [info     ] FQE_20220408020741: epoch=63 step=1385496 epoch=63 metrics={'time_sample_batch': 0.00037649488527152964, 'time_algorithm_update': 0.011274356642997495, 'loss': 0.01536635693766374, 'time_step': 0.01235373732869345, 'init_value': -1.2344346046447754, 'ave_value': -1.2341094624894373, 'soft_opc': nan} step=1385496\n"
     ]
    },
    {
     "name": "stderr",
     "output_type": "stream",
     "text": [
      "WARNING:root:NaN or Inf found in input tensor.\n"
     ]
    },
    {
     "name": "stdout",
     "output_type": "stream",
     "text": [
      "2022-04-08 07:05.51 [info     ] Model parameters are saved to d3rlpy_logs\\FQE_20220408020741\\model_1385496.pt\n"
     ]
    },
    {
     "data": {
      "application/vnd.jupyter.widget-view+json": {
       "model_id": "76fce6e3ab9942b48eb305376ef04c62",
       "version_major": 2,
       "version_minor": 0
      },
      "text/plain": [
       "Epoch 64/100:   0%|          | 0/21992 [00:00<?, ?it/s]"
      ]
     },
     "metadata": {},
     "output_type": "display_data"
    },
    {
     "name": "stderr",
     "output_type": "stream",
     "text": [
      "WARNING:root:NaN or Inf found in input tensor.\n"
     ]
    },
    {
     "name": "stdout",
     "output_type": "stream",
     "text": [
      "2022-04-08 07:10.54 [info     ] FQE_20220408020741: epoch=64 step=1407488 epoch=64 metrics={'time_sample_batch': 0.00039758422930659534, 'time_algorithm_update': 0.011205706706086954, 'loss': 0.01567520074321924, 'time_step': 0.012339715666665125, 'init_value': -1.3090342283248901, 'ave_value': -1.308624639998373, 'soft_opc': nan} step=1407488\n"
     ]
    },
    {
     "name": "stderr",
     "output_type": "stream",
     "text": [
      "WARNING:root:NaN or Inf found in input tensor.\n"
     ]
    },
    {
     "name": "stdout",
     "output_type": "stream",
     "text": [
      "2022-04-08 07:10.54 [info     ] Model parameters are saved to d3rlpy_logs\\FQE_20220408020741\\model_1407488.pt\n"
     ]
    },
    {
     "data": {
      "application/vnd.jupyter.widget-view+json": {
       "model_id": "54b9fbe3386a4aff959790bcbd32a1c9",
       "version_major": 2,
       "version_minor": 0
      },
      "text/plain": [
       "Epoch 65/100:   0%|          | 0/21992 [00:00<?, ?it/s]"
      ]
     },
     "metadata": {},
     "output_type": "display_data"
    },
    {
     "name": "stderr",
     "output_type": "stream",
     "text": [
      "WARNING:root:NaN or Inf found in input tensor.\n"
     ]
    },
    {
     "name": "stdout",
     "output_type": "stream",
     "text": [
      "2022-04-08 07:15.57 [info     ] FQE_20220408020741: epoch=65 step=1429480 epoch=65 metrics={'time_sample_batch': 0.000363985531197413, 'time_algorithm_update': 0.011334664965161587, 'loss': 0.015930469536637938, 'time_step': 0.012387951034422397, 'init_value': -1.2547879219055176, 'ave_value': -1.254349686460485, 'soft_opc': nan} step=1429480\n"
     ]
    },
    {
     "name": "stderr",
     "output_type": "stream",
     "text": [
      "WARNING:root:NaN or Inf found in input tensor.\n"
     ]
    },
    {
     "name": "stdout",
     "output_type": "stream",
     "text": [
      "2022-04-08 07:15.57 [info     ] Model parameters are saved to d3rlpy_logs\\FQE_20220408020741\\model_1429480.pt\n"
     ]
    },
    {
     "data": {
      "application/vnd.jupyter.widget-view+json": {
       "model_id": "afb6d3d0ab6d402e9d5b8a408610add8",
       "version_major": 2,
       "version_minor": 0
      },
      "text/plain": [
       "Epoch 66/100:   0%|          | 0/21992 [00:00<?, ?it/s]"
      ]
     },
     "metadata": {},
     "output_type": "display_data"
    },
    {
     "name": "stderr",
     "output_type": "stream",
     "text": [
      "WARNING:root:NaN or Inf found in input tensor.\n"
     ]
    },
    {
     "name": "stdout",
     "output_type": "stream",
     "text": [
      "2022-04-08 07:21.02 [info     ] FQE_20220408020741: epoch=66 step=1451472 epoch=66 metrics={'time_sample_batch': 0.0003680682542238204, 'time_algorithm_update': 0.011352313805077457, 'loss': 0.0153836225249029, 'time_step': 0.012430430434321698, 'init_value': -1.2293874025344849, 'ave_value': -1.2289809730234604, 'soft_opc': nan} step=1451472\n"
     ]
    },
    {
     "name": "stderr",
     "output_type": "stream",
     "text": [
      "WARNING:root:NaN or Inf found in input tensor.\n"
     ]
    },
    {
     "name": "stdout",
     "output_type": "stream",
     "text": [
      "2022-04-08 07:21.02 [info     ] Model parameters are saved to d3rlpy_logs\\FQE_20220408020741\\model_1451472.pt\n"
     ]
    },
    {
     "data": {
      "application/vnd.jupyter.widget-view+json": {
       "model_id": "710c2772fe31421c8930098bb1bce15e",
       "version_major": 2,
       "version_minor": 0
      },
      "text/plain": [
       "Epoch 67/100:   0%|          | 0/21992 [00:00<?, ?it/s]"
      ]
     },
     "metadata": {},
     "output_type": "display_data"
    },
    {
     "name": "stderr",
     "output_type": "stream",
     "text": [
      "WARNING:root:NaN or Inf found in input tensor.\n"
     ]
    },
    {
     "name": "stdout",
     "output_type": "stream",
     "text": [
      "2022-04-08 07:26.08 [info     ] FQE_20220408020741: epoch=67 step=1473464 epoch=67 metrics={'time_sample_batch': 0.00035872229362410085, 'time_algorithm_update': 0.011405204763929382, 'loss': 0.015187628309647292, 'time_step': 0.012465147126063558, 'init_value': -1.262821078300476, 'ave_value': -1.2623595373613952, 'soft_opc': nan} step=1473464\n"
     ]
    },
    {
     "name": "stderr",
     "output_type": "stream",
     "text": [
      "WARNING:root:NaN or Inf found in input tensor.\n"
     ]
    },
    {
     "name": "stdout",
     "output_type": "stream",
     "text": [
      "2022-04-08 07:26.08 [info     ] Model parameters are saved to d3rlpy_logs\\FQE_20220408020741\\model_1473464.pt\n"
     ]
    },
    {
     "data": {
      "application/vnd.jupyter.widget-view+json": {
       "model_id": "cb44924ee03d4ac5bcb1930d025e55f4",
       "version_major": 2,
       "version_minor": 0
      },
      "text/plain": [
       "Epoch 68/100:   0%|          | 0/21992 [00:00<?, ?it/s]"
      ]
     },
     "metadata": {},
     "output_type": "display_data"
    },
    {
     "name": "stderr",
     "output_type": "stream",
     "text": [
      "WARNING:root:NaN or Inf found in input tensor.\n"
     ]
    },
    {
     "name": "stdout",
     "output_type": "stream",
     "text": [
      "2022-04-08 07:31.14 [info     ] FQE_20220408020741: epoch=68 step=1495456 epoch=68 metrics={'time_sample_batch': 0.00037140299207993356, 'time_algorithm_update': 0.011392967219177529, 'loss': 0.015733029843901607, 'time_step': 0.012452682730240057, 'init_value': -1.2402030229568481, 'ave_value': -1.2397761040667397, 'soft_opc': nan} step=1495456\n"
     ]
    },
    {
     "name": "stderr",
     "output_type": "stream",
     "text": [
      "WARNING:root:NaN or Inf found in input tensor.\n"
     ]
    },
    {
     "name": "stdout",
     "output_type": "stream",
     "text": [
      "2022-04-08 07:31.14 [info     ] Model parameters are saved to d3rlpy_logs\\FQE_20220408020741\\model_1495456.pt\n"
     ]
    },
    {
     "data": {
      "application/vnd.jupyter.widget-view+json": {
       "model_id": "7adda8d25820427f9025f2971efb8b30",
       "version_major": 2,
       "version_minor": 0
      },
      "text/plain": [
       "Epoch 69/100:   0%|          | 0/21992 [00:00<?, ?it/s]"
      ]
     },
     "metadata": {},
     "output_type": "display_data"
    },
    {
     "name": "stderr",
     "output_type": "stream",
     "text": [
      "WARNING:root:NaN or Inf found in input tensor.\n"
     ]
    },
    {
     "name": "stdout",
     "output_type": "stream",
     "text": [
      "2022-04-08 07:36.20 [info     ] FQE_20220408020741: epoch=69 step=1517448 epoch=69 metrics={'time_sample_batch': 0.00038554395012701154, 'time_algorithm_update': 0.011383248995156147, 'loss': 0.0159493865300328, 'time_step': 0.012464945187955477, 'init_value': -1.238614559173584, 'ave_value': -1.2381722832477693, 'soft_opc': nan} step=1517448\n"
     ]
    },
    {
     "name": "stderr",
     "output_type": "stream",
     "text": [
      "WARNING:root:NaN or Inf found in input tensor.\n"
     ]
    },
    {
     "name": "stdout",
     "output_type": "stream",
     "text": [
      "2022-04-08 07:36.20 [info     ] Model parameters are saved to d3rlpy_logs\\FQE_20220408020741\\model_1517448.pt\n"
     ]
    },
    {
     "data": {
      "application/vnd.jupyter.widget-view+json": {
       "model_id": "a12e7d51d61b489ebe7391b4e3f6b292",
       "version_major": 2,
       "version_minor": 0
      },
      "text/plain": [
       "Epoch 70/100:   0%|          | 0/21992 [00:00<?, ?it/s]"
      ]
     },
     "metadata": {},
     "output_type": "display_data"
    },
    {
     "name": "stderr",
     "output_type": "stream",
     "text": [
      "WARNING:root:NaN or Inf found in input tensor.\n"
     ]
    },
    {
     "name": "stdout",
     "output_type": "stream",
     "text": [
      "2022-04-08 07:41.25 [info     ] FQE_20220408020741: epoch=70 step=1539440 epoch=70 metrics={'time_sample_batch': 0.0003706364143367419, 'time_algorithm_update': 0.01136309153472523, 'loss': 0.015429273580581755, 'time_step': 0.01243588752250491, 'init_value': -1.245474100112915, 'ave_value': -1.2450367359219856, 'soft_opc': nan} step=1539440\n"
     ]
    },
    {
     "name": "stderr",
     "output_type": "stream",
     "text": [
      "WARNING:root:NaN or Inf found in input tensor.\n"
     ]
    },
    {
     "name": "stdout",
     "output_type": "stream",
     "text": [
      "2022-04-08 07:41.25 [info     ] Model parameters are saved to d3rlpy_logs\\FQE_20220408020741\\model_1539440.pt\n"
     ]
    },
    {
     "data": {
      "application/vnd.jupyter.widget-view+json": {
       "model_id": "7bb56bd860fb49c09e5a911e77e2b2b2",
       "version_major": 2,
       "version_minor": 0
      },
      "text/plain": [
       "Epoch 71/100:   0%|          | 0/21992 [00:00<?, ?it/s]"
      ]
     },
     "metadata": {},
     "output_type": "display_data"
    },
    {
     "name": "stderr",
     "output_type": "stream",
     "text": [
      "WARNING:root:NaN or Inf found in input tensor.\n"
     ]
    },
    {
     "name": "stdout",
     "output_type": "stream",
     "text": [
      "2022-04-08 07:46.28 [info     ] FQE_20220408020741: epoch=71 step=1561432 epoch=71 metrics={'time_sample_batch': 0.0003991188700305804, 'time_algorithm_update': 0.011333500430470338, 'loss': 0.0160042561664411, 'time_step': 0.012399060232242961, 'init_value': -1.2415640354156494, 'ave_value': -1.241161275780358, 'soft_opc': nan} step=1561432\n"
     ]
    },
    {
     "name": "stderr",
     "output_type": "stream",
     "text": [
      "WARNING:root:NaN or Inf found in input tensor.\n"
     ]
    },
    {
     "name": "stdout",
     "output_type": "stream",
     "text": [
      "2022-04-08 07:46.28 [info     ] Model parameters are saved to d3rlpy_logs\\FQE_20220408020741\\model_1561432.pt\n"
     ]
    },
    {
     "data": {
      "application/vnd.jupyter.widget-view+json": {
       "model_id": "363c38847c8e44af8782b9da4ead3196",
       "version_major": 2,
       "version_minor": 0
      },
      "text/plain": [
       "Epoch 72/100:   0%|          | 0/21992 [00:00<?, ?it/s]"
      ]
     },
     "metadata": {},
     "output_type": "display_data"
    },
    {
     "name": "stderr",
     "output_type": "stream",
     "text": [
      "WARNING:root:NaN or Inf found in input tensor.\n"
     ]
    },
    {
     "name": "stdout",
     "output_type": "stream",
     "text": [
      "2022-04-08 07:51.34 [info     ] FQE_20220408020741: epoch=72 step=1583424 epoch=72 metrics={'time_sample_batch': 0.00037620827777900016, 'time_algorithm_update': 0.011364132545349077, 'loss': 0.016178640332120315, 'time_step': 0.012458005604981595, 'init_value': -1.2826638221740723, 'ave_value': -1.2822556356711927, 'soft_opc': nan} step=1583424\n"
     ]
    },
    {
     "name": "stderr",
     "output_type": "stream",
     "text": [
      "WARNING:root:NaN or Inf found in input tensor.\n"
     ]
    },
    {
     "name": "stdout",
     "output_type": "stream",
     "text": [
      "2022-04-08 07:51.34 [info     ] Model parameters are saved to d3rlpy_logs\\FQE_20220408020741\\model_1583424.pt\n"
     ]
    },
    {
     "data": {
      "application/vnd.jupyter.widget-view+json": {
       "model_id": "72feb0bcee11430c872092e0570d9791",
       "version_major": 2,
       "version_minor": 0
      },
      "text/plain": [
       "Epoch 73/100:   0%|          | 0/21992 [00:00<?, ?it/s]"
      ]
     },
     "metadata": {},
     "output_type": "display_data"
    },
    {
     "name": "stderr",
     "output_type": "stream",
     "text": [
      "WARNING:root:NaN or Inf found in input tensor.\n"
     ]
    },
    {
     "name": "stdout",
     "output_type": "stream",
     "text": [
      "2022-04-08 07:56.39 [info     ] FQE_20220408020741: epoch=73 step=1605416 epoch=73 metrics={'time_sample_batch': 0.0003766301286224887, 'time_algorithm_update': 0.011367395807500751, 'loss': 0.01590811633327822, 'time_step': 0.012434604786751097, 'init_value': -1.2584995031356812, 'ave_value': -1.2580423769022058, 'soft_opc': nan} step=1605416\n"
     ]
    },
    {
     "name": "stderr",
     "output_type": "stream",
     "text": [
      "WARNING:root:NaN or Inf found in input tensor.\n"
     ]
    },
    {
     "name": "stdout",
     "output_type": "stream",
     "text": [
      "2022-04-08 07:56.39 [info     ] Model parameters are saved to d3rlpy_logs\\FQE_20220408020741\\model_1605416.pt\n"
     ]
    },
    {
     "data": {
      "application/vnd.jupyter.widget-view+json": {
       "model_id": "e1db6177720444caa806c14668dc38ad",
       "version_major": 2,
       "version_minor": 0
      },
      "text/plain": [
       "Epoch 74/100:   0%|          | 0/21992 [00:00<?, ?it/s]"
      ]
     },
     "metadata": {},
     "output_type": "display_data"
    },
    {
     "name": "stderr",
     "output_type": "stream",
     "text": [
      "WARNING:root:NaN or Inf found in input tensor.\n"
     ]
    },
    {
     "name": "stdout",
     "output_type": "stream",
     "text": [
      "2022-04-08 08:01.42 [info     ] FQE_20220408020741: epoch=74 step=1627408 epoch=74 metrics={'time_sample_batch': 0.0003699047450977657, 'time_algorithm_update': 0.011277846767061969, 'loss': 0.01593246366192407, 'time_step': 0.012356988318662897, 'init_value': -1.3130182027816772, 'ave_value': -1.3125903135421395, 'soft_opc': nan} step=1627408\n"
     ]
    },
    {
     "name": "stderr",
     "output_type": "stream",
     "text": [
      "WARNING:root:NaN or Inf found in input tensor.\n"
     ]
    },
    {
     "name": "stdout",
     "output_type": "stream",
     "text": [
      "2022-04-08 08:01.42 [info     ] Model parameters are saved to d3rlpy_logs\\FQE_20220408020741\\model_1627408.pt\n"
     ]
    },
    {
     "data": {
      "application/vnd.jupyter.widget-view+json": {
       "model_id": "27a253d92eaf47cea1ec4dd3bb6c43d5",
       "version_major": 2,
       "version_minor": 0
      },
      "text/plain": [
       "Epoch 75/100:   0%|          | 0/21992 [00:00<?, ?it/s]"
      ]
     },
     "metadata": {},
     "output_type": "display_data"
    },
    {
     "name": "stderr",
     "output_type": "stream",
     "text": [
      "WARNING:root:NaN or Inf found in input tensor.\n"
     ]
    },
    {
     "name": "stdout",
     "output_type": "stream",
     "text": [
      "2022-04-08 08:06.44 [info     ] FQE_20220408020741: epoch=75 step=1649400 epoch=75 metrics={'time_sample_batch': 0.0003860684124588229, 'time_algorithm_update': 0.011209532721513572, 'loss': 0.01572084084111743, 'time_step': 0.01228419109967545, 'init_value': -1.2322534322738647, 'ave_value': -1.2317938280528882, 'soft_opc': nan} step=1649400\n"
     ]
    },
    {
     "name": "stderr",
     "output_type": "stream",
     "text": [
      "WARNING:root:NaN or Inf found in input tensor.\n"
     ]
    },
    {
     "name": "stdout",
     "output_type": "stream",
     "text": [
      "2022-04-08 08:06.44 [info     ] Model parameters are saved to d3rlpy_logs\\FQE_20220408020741\\model_1649400.pt\n"
     ]
    },
    {
     "data": {
      "application/vnd.jupyter.widget-view+json": {
       "model_id": "9eb83553b1e249409c3fadcb266a514a",
       "version_major": 2,
       "version_minor": 0
      },
      "text/plain": [
       "Epoch 76/100:   0%|          | 0/21992 [00:00<?, ?it/s]"
      ]
     },
     "metadata": {},
     "output_type": "display_data"
    },
    {
     "name": "stderr",
     "output_type": "stream",
     "text": [
      "WARNING:root:NaN or Inf found in input tensor.\n"
     ]
    },
    {
     "name": "stdout",
     "output_type": "stream",
     "text": [
      "2022-04-08 08:11.45 [info     ] FQE_20220408020741: epoch=76 step=1671392 epoch=76 metrics={'time_sample_batch': 0.0003647723818918105, 'time_algorithm_update': 0.01120554806753348, 'loss': 0.016316065878336814, 'time_step': 0.012274595738411297, 'init_value': -1.2567884922027588, 'ave_value': -1.2564129209234245, 'soft_opc': nan} step=1671392\n"
     ]
    },
    {
     "name": "stderr",
     "output_type": "stream",
     "text": [
      "WARNING:root:NaN or Inf found in input tensor.\n"
     ]
    },
    {
     "name": "stdout",
     "output_type": "stream",
     "text": [
      "2022-04-08 08:11.45 [info     ] Model parameters are saved to d3rlpy_logs\\FQE_20220408020741\\model_1671392.pt\n"
     ]
    },
    {
     "data": {
      "application/vnd.jupyter.widget-view+json": {
       "model_id": "12e27b2b44f9410d913671806032f9be",
       "version_major": 2,
       "version_minor": 0
      },
      "text/plain": [
       "Epoch 77/100:   0%|          | 0/21992 [00:00<?, ?it/s]"
      ]
     },
     "metadata": {},
     "output_type": "display_data"
    },
    {
     "name": "stderr",
     "output_type": "stream",
     "text": [
      "WARNING:root:NaN or Inf found in input tensor.\n"
     ]
    },
    {
     "name": "stdout",
     "output_type": "stream",
     "text": [
      "2022-04-08 08:16.45 [info     ] FQE_20220408020741: epoch=77 step=1693384 epoch=77 metrics={'time_sample_batch': 0.00036357426131669287, 'time_algorithm_update': 0.01118790870278304, 'loss': 0.01623463530772598, 'time_step': 0.01223290916268025, 'init_value': -1.2873188257217407, 'ave_value': -1.2869476147637031, 'soft_opc': nan} step=1693384\n"
     ]
    },
    {
     "name": "stderr",
     "output_type": "stream",
     "text": [
      "WARNING:root:NaN or Inf found in input tensor.\n"
     ]
    },
    {
     "name": "stdout",
     "output_type": "stream",
     "text": [
      "2022-04-08 08:16.45 [info     ] Model parameters are saved to d3rlpy_logs\\FQE_20220408020741\\model_1693384.pt\n"
     ]
    },
    {
     "data": {
      "application/vnd.jupyter.widget-view+json": {
       "model_id": "0b50e1e3839d4216b9542bec4b86c09d",
       "version_major": 2,
       "version_minor": 0
      },
      "text/plain": [
       "Epoch 78/100:   0%|          | 0/21992 [00:00<?, ?it/s]"
      ]
     },
     "metadata": {},
     "output_type": "display_data"
    },
    {
     "name": "stderr",
     "output_type": "stream",
     "text": [
      "WARNING:root:NaN or Inf found in input tensor.\n"
     ]
    },
    {
     "name": "stdout",
     "output_type": "stream",
     "text": [
      "2022-04-08 08:21.46 [info     ] FQE_20220408020741: epoch=78 step=1715376 epoch=78 metrics={'time_sample_batch': 0.00038513539053388577, 'time_algorithm_update': 0.011195831686507663, 'loss': 0.01633410734856297, 'time_step': 0.012256829705659847, 'init_value': -1.2125732898712158, 'ave_value': -1.2121865979504003, 'soft_opc': nan} step=1715376\n"
     ]
    },
    {
     "name": "stderr",
     "output_type": "stream",
     "text": [
      "WARNING:root:NaN or Inf found in input tensor.\n"
     ]
    },
    {
     "name": "stdout",
     "output_type": "stream",
     "text": [
      "2022-04-08 08:21.46 [info     ] Model parameters are saved to d3rlpy_logs\\FQE_20220408020741\\model_1715376.pt\n"
     ]
    },
    {
     "data": {
      "application/vnd.jupyter.widget-view+json": {
       "model_id": "892148716e884cd5bf9ca973c108de83",
       "version_major": 2,
       "version_minor": 0
      },
      "text/plain": [
       "Epoch 79/100:   0%|          | 0/21992 [00:00<?, ?it/s]"
      ]
     },
     "metadata": {},
     "output_type": "display_data"
    },
    {
     "name": "stderr",
     "output_type": "stream",
     "text": [
      "WARNING:root:NaN or Inf found in input tensor.\n"
     ]
    },
    {
     "name": "stdout",
     "output_type": "stream",
     "text": [
      "2022-04-08 08:26.47 [info     ] FQE_20220408020741: epoch=79 step=1737368 epoch=79 metrics={'time_sample_batch': 0.0003841118124798455, 'time_algorithm_update': 0.011187373746217663, 'loss': 0.015697963395060147, 'time_step': 0.012258801288108646, 'init_value': -1.270081639289856, 'ave_value': -1.2696761126108886, 'soft_opc': nan} step=1737368\n"
     ]
    },
    {
     "name": "stderr",
     "output_type": "stream",
     "text": [
      "WARNING:root:NaN or Inf found in input tensor.\n"
     ]
    },
    {
     "name": "stdout",
     "output_type": "stream",
     "text": [
      "2022-04-08 08:26.47 [info     ] Model parameters are saved to d3rlpy_logs\\FQE_20220408020741\\model_1737368.pt\n"
     ]
    },
    {
     "data": {
      "application/vnd.jupyter.widget-view+json": {
       "model_id": "cf68dbe4e90b460db6a19de0b719adc9",
       "version_major": 2,
       "version_minor": 0
      },
      "text/plain": [
       "Epoch 80/100:   0%|          | 0/21992 [00:00<?, ?it/s]"
      ]
     },
     "metadata": {},
     "output_type": "display_data"
    },
    {
     "name": "stderr",
     "output_type": "stream",
     "text": [
      "WARNING:root:NaN or Inf found in input tensor.\n"
     ]
    },
    {
     "name": "stdout",
     "output_type": "stream",
     "text": [
      "2022-04-08 08:31.50 [info     ] FQE_20220408020741: epoch=80 step=1759360 epoch=80 metrics={'time_sample_batch': 0.00037776042696084487, 'time_algorithm_update': 0.011220632324916054, 'loss': 0.016499009055236668, 'time_step': 0.01231038836012237, 'init_value': -1.2602238655090332, 'ave_value': -1.2597597510954082, 'soft_opc': nan} step=1759360\n"
     ]
    },
    {
     "name": "stderr",
     "output_type": "stream",
     "text": [
      "WARNING:root:NaN or Inf found in input tensor.\n"
     ]
    },
    {
     "name": "stdout",
     "output_type": "stream",
     "text": [
      "2022-04-08 08:31.50 [info     ] Model parameters are saved to d3rlpy_logs\\FQE_20220408020741\\model_1759360.pt\n"
     ]
    },
    {
     "data": {
      "application/vnd.jupyter.widget-view+json": {
       "model_id": "44f133679f4e46c89d8659edf6597231",
       "version_major": 2,
       "version_minor": 0
      },
      "text/plain": [
       "Epoch 81/100:   0%|          | 0/21992 [00:00<?, ?it/s]"
      ]
     },
     "metadata": {},
     "output_type": "display_data"
    },
    {
     "name": "stderr",
     "output_type": "stream",
     "text": [
      "WARNING:root:NaN or Inf found in input tensor.\n"
     ]
    },
    {
     "name": "stdout",
     "output_type": "stream",
     "text": [
      "2022-04-08 08:36.56 [info     ] FQE_20220408020741: epoch=81 step=1781352 epoch=81 metrics={'time_sample_batch': 0.00038913110248736356, 'time_algorithm_update': 0.011320270877094345, 'loss': 0.016302833042298914, 'time_step': 0.012411280301060404, 'init_value': -1.2690223455429077, 'ave_value': -1.268485720436508, 'soft_opc': nan} step=1781352\n"
     ]
    },
    {
     "name": "stderr",
     "output_type": "stream",
     "text": [
      "WARNING:root:NaN or Inf found in input tensor.\n"
     ]
    },
    {
     "name": "stdout",
     "output_type": "stream",
     "text": [
      "2022-04-08 08:36.56 [info     ] Model parameters are saved to d3rlpy_logs\\FQE_20220408020741\\model_1781352.pt\n"
     ]
    },
    {
     "data": {
      "application/vnd.jupyter.widget-view+json": {
       "model_id": "16fadc7e9673438dbaf195823adcb25a",
       "version_major": 2,
       "version_minor": 0
      },
      "text/plain": [
       "Epoch 82/100:   0%|          | 0/21992 [00:00<?, ?it/s]"
      ]
     },
     "metadata": {},
     "output_type": "display_data"
    },
    {
     "name": "stderr",
     "output_type": "stream",
     "text": [
      "WARNING:root:NaN or Inf found in input tensor.\n"
     ]
    },
    {
     "name": "stdout",
     "output_type": "stream",
     "text": [
      "2022-04-08 08:42.03 [info     ] FQE_20220408020741: epoch=82 step=1803344 epoch=82 metrics={'time_sample_batch': 0.00041254366168372194, 'time_algorithm_update': 0.011421029092442473, 'loss': 0.016619189123278623, 'time_step': 0.012518011621667411, 'init_value': -1.247281789779663, 'ave_value': -1.246725756072301, 'soft_opc': nan} step=1803344\n"
     ]
    },
    {
     "name": "stderr",
     "output_type": "stream",
     "text": [
      "WARNING:root:NaN or Inf found in input tensor.\n"
     ]
    },
    {
     "name": "stdout",
     "output_type": "stream",
     "text": [
      "2022-04-08 08:42.03 [info     ] Model parameters are saved to d3rlpy_logs\\FQE_20220408020741\\model_1803344.pt\n"
     ]
    },
    {
     "data": {
      "application/vnd.jupyter.widget-view+json": {
       "model_id": "c7a6241faf7c4ec59a098a88231e9a66",
       "version_major": 2,
       "version_minor": 0
      },
      "text/plain": [
       "Epoch 83/100:   0%|          | 0/21992 [00:00<?, ?it/s]"
      ]
     },
     "metadata": {},
     "output_type": "display_data"
    },
    {
     "name": "stderr",
     "output_type": "stream",
     "text": [
      "WARNING:root:NaN or Inf found in input tensor.\n"
     ]
    },
    {
     "name": "stdout",
     "output_type": "stream",
     "text": [
      "2022-04-08 08:47.10 [info     ] FQE_20220408020741: epoch=83 step=1825336 epoch=83 metrics={'time_sample_batch': 0.00040798824281855554, 'time_algorithm_update': 0.011422617971441796, 'loss': 0.01642304026996507, 'time_step': 0.012507636142063246, 'init_value': -1.2681570053100586, 'ave_value': -1.267602028056938, 'soft_opc': nan} step=1825336\n"
     ]
    },
    {
     "name": "stderr",
     "output_type": "stream",
     "text": [
      "WARNING:root:NaN or Inf found in input tensor.\n"
     ]
    },
    {
     "name": "stdout",
     "output_type": "stream",
     "text": [
      "2022-04-08 08:47.10 [info     ] Model parameters are saved to d3rlpy_logs\\FQE_20220408020741\\model_1825336.pt\n"
     ]
    },
    {
     "data": {
      "application/vnd.jupyter.widget-view+json": {
       "model_id": "fe13cadf1143442e8c913c486ac4da60",
       "version_major": 2,
       "version_minor": 0
      },
      "text/plain": [
       "Epoch 84/100:   0%|          | 0/21992 [00:00<?, ?it/s]"
      ]
     },
     "metadata": {},
     "output_type": "display_data"
    },
    {
     "name": "stderr",
     "output_type": "stream",
     "text": [
      "WARNING:root:NaN or Inf found in input tensor.\n"
     ]
    },
    {
     "name": "stdout",
     "output_type": "stream",
     "text": [
      "2022-04-08 08:52.18 [info     ] FQE_20220408020741: epoch=84 step=1847328 epoch=84 metrics={'time_sample_batch': 0.00038765127461968705, 'time_algorithm_update': 0.011505835194638011, 'loss': 0.01716360852780485, 'time_step': 0.012580761772019076, 'init_value': -1.2659777402877808, 'ave_value': -1.26550164105118, 'soft_opc': nan} step=1847328\n"
     ]
    },
    {
     "name": "stderr",
     "output_type": "stream",
     "text": [
      "WARNING:root:NaN or Inf found in input tensor.\n"
     ]
    },
    {
     "name": "stdout",
     "output_type": "stream",
     "text": [
      "2022-04-08 08:52.18 [info     ] Model parameters are saved to d3rlpy_logs\\FQE_20220408020741\\model_1847328.pt\n"
     ]
    },
    {
     "data": {
      "application/vnd.jupyter.widget-view+json": {
       "model_id": "1db4e421616b4f27b32d04152a76f3a9",
       "version_major": 2,
       "version_minor": 0
      },
      "text/plain": [
       "Epoch 85/100:   0%|          | 0/21992 [00:00<?, ?it/s]"
      ]
     },
     "metadata": {},
     "output_type": "display_data"
    },
    {
     "name": "stderr",
     "output_type": "stream",
     "text": [
      "WARNING:root:NaN or Inf found in input tensor.\n"
     ]
    },
    {
     "name": "stdout",
     "output_type": "stream",
     "text": [
      "2022-04-08 08:57.26 [info     ] FQE_20220408020741: epoch=85 step=1869320 epoch=85 metrics={'time_sample_batch': 0.0003904464375803626, 'time_algorithm_update': 0.011474361589666972, 'loss': 0.017145835661249123, 'time_step': 0.012533590734200115, 'init_value': -1.2997736930847168, 'ave_value': -1.2992603812986963, 'soft_opc': nan} step=1869320\n"
     ]
    },
    {
     "name": "stderr",
     "output_type": "stream",
     "text": [
      "WARNING:root:NaN or Inf found in input tensor.\n"
     ]
    },
    {
     "name": "stdout",
     "output_type": "stream",
     "text": [
      "2022-04-08 08:57.26 [info     ] Model parameters are saved to d3rlpy_logs\\FQE_20220408020741\\model_1869320.pt\n"
     ]
    },
    {
     "data": {
      "application/vnd.jupyter.widget-view+json": {
       "model_id": "e21a00285849423d93edf7e3267f3958",
       "version_major": 2,
       "version_minor": 0
      },
      "text/plain": [
       "Epoch 86/100:   0%|          | 0/21992 [00:00<?, ?it/s]"
      ]
     },
     "metadata": {},
     "output_type": "display_data"
    },
    {
     "name": "stderr",
     "output_type": "stream",
     "text": [
      "WARNING:root:NaN or Inf found in input tensor.\n"
     ]
    },
    {
     "name": "stdout",
     "output_type": "stream",
     "text": [
      "2022-04-08 09:02.34 [info     ] FQE_20220408020741: epoch=86 step=1891312 epoch=86 metrics={'time_sample_batch': 0.00041339008449944376, 'time_algorithm_update': 0.01147538222976926, 'loss': 0.01723085610809842, 'time_step': 0.012569676674075802, 'init_value': -1.2896400690078735, 'ave_value': -1.289163794996955, 'soft_opc': nan} step=1891312\n"
     ]
    },
    {
     "name": "stderr",
     "output_type": "stream",
     "text": [
      "WARNING:root:NaN or Inf found in input tensor.\n"
     ]
    },
    {
     "name": "stdout",
     "output_type": "stream",
     "text": [
      "2022-04-08 09:02.35 [info     ] Model parameters are saved to d3rlpy_logs\\FQE_20220408020741\\model_1891312.pt\n"
     ]
    },
    {
     "data": {
      "application/vnd.jupyter.widget-view+json": {
       "model_id": "b253e2ced58d49b09747c7807fcfd16d",
       "version_major": 2,
       "version_minor": 0
      },
      "text/plain": [
       "Epoch 87/100:   0%|          | 0/21992 [00:00<?, ?it/s]"
      ]
     },
     "metadata": {},
     "output_type": "display_data"
    },
    {
     "name": "stderr",
     "output_type": "stream",
     "text": [
      "WARNING:root:NaN or Inf found in input tensor.\n"
     ]
    },
    {
     "name": "stdout",
     "output_type": "stream",
     "text": [
      "2022-04-08 09:07.43 [info     ] FQE_20220408020741: epoch=87 step=1913304 epoch=87 metrics={'time_sample_batch': 0.0003896845323729836, 'time_algorithm_update': 0.011469201071993488, 'loss': 0.016645839366646493, 'time_step': 0.012558177595964212, 'init_value': -1.2726812362670898, 'ave_value': -1.2721532845435082, 'soft_opc': nan} step=1913304\n"
     ]
    },
    {
     "name": "stderr",
     "output_type": "stream",
     "text": [
      "WARNING:root:NaN or Inf found in input tensor.\n"
     ]
    },
    {
     "name": "stdout",
     "output_type": "stream",
     "text": [
      "2022-04-08 09:07.43 [info     ] Model parameters are saved to d3rlpy_logs\\FQE_20220408020741\\model_1913304.pt\n"
     ]
    },
    {
     "data": {
      "application/vnd.jupyter.widget-view+json": {
       "model_id": "a86ce4e0c73e443caf3e9cb1cfc88684",
       "version_major": 2,
       "version_minor": 0
      },
      "text/plain": [
       "Epoch 88/100:   0%|          | 0/21992 [00:00<?, ?it/s]"
      ]
     },
     "metadata": {},
     "output_type": "display_data"
    },
    {
     "name": "stderr",
     "output_type": "stream",
     "text": [
      "WARNING:root:NaN or Inf found in input tensor.\n"
     ]
    },
    {
     "name": "stdout",
     "output_type": "stream",
     "text": [
      "2022-04-08 09:12.51 [info     ] FQE_20220408020741: epoch=88 step=1935296 epoch=88 metrics={'time_sample_batch': 0.00038322298992499735, 'time_algorithm_update': 0.011456005158707115, 'loss': 0.017013987913170568, 'time_step': 0.012551283003764397, 'init_value': -1.3399386405944824, 'ave_value': -1.3393718315134622, 'soft_opc': nan} step=1935296\n"
     ]
    },
    {
     "name": "stderr",
     "output_type": "stream",
     "text": [
      "WARNING:root:NaN or Inf found in input tensor.\n"
     ]
    },
    {
     "name": "stdout",
     "output_type": "stream",
     "text": [
      "2022-04-08 09:12.51 [info     ] Model parameters are saved to d3rlpy_logs\\FQE_20220408020741\\model_1935296.pt\n"
     ]
    },
    {
     "data": {
      "application/vnd.jupyter.widget-view+json": {
       "model_id": "9cfb1cdc85484c4486c8f6c99e2e08ed",
       "version_major": 2,
       "version_minor": 0
      },
      "text/plain": [
       "Epoch 89/100:   0%|          | 0/21992 [00:00<?, ?it/s]"
      ]
     },
     "metadata": {},
     "output_type": "display_data"
    },
    {
     "name": "stderr",
     "output_type": "stream",
     "text": [
      "WARNING:root:NaN or Inf found in input tensor.\n"
     ]
    },
    {
     "name": "stdout",
     "output_type": "stream",
     "text": [
      "2022-04-08 09:17.59 [info     ] FQE_20220408020741: epoch=89 step=1957288 epoch=89 metrics={'time_sample_batch': 0.00038253033798622973, 'time_algorithm_update': 0.011511620108367487, 'loss': 0.01757732795776835, 'time_step': 0.01259404647432704, 'init_value': -1.2922395467758179, 'ave_value': -1.2916966213551797, 'soft_opc': nan} step=1957288\n"
     ]
    },
    {
     "name": "stderr",
     "output_type": "stream",
     "text": [
      "WARNING:root:NaN or Inf found in input tensor.\n"
     ]
    },
    {
     "name": "stdout",
     "output_type": "stream",
     "text": [
      "2022-04-08 09:17.59 [info     ] Model parameters are saved to d3rlpy_logs\\FQE_20220408020741\\model_1957288.pt\n"
     ]
    },
    {
     "data": {
      "application/vnd.jupyter.widget-view+json": {
       "model_id": "685586bcc16e4f07b5b6759b35369932",
       "version_major": 2,
       "version_minor": 0
      },
      "text/plain": [
       "Epoch 90/100:   0%|          | 0/21992 [00:00<?, ?it/s]"
      ]
     },
     "metadata": {},
     "output_type": "display_data"
    },
    {
     "name": "stderr",
     "output_type": "stream",
     "text": [
      "WARNING:root:NaN or Inf found in input tensor.\n"
     ]
    },
    {
     "name": "stdout",
     "output_type": "stream",
     "text": [
      "2022-04-08 09:23.07 [info     ] FQE_20220408020741: epoch=90 step=1979280 epoch=90 metrics={'time_sample_batch': 0.00038444350831679495, 'time_algorithm_update': 0.011479272197141956, 'loss': 0.01744351320156623, 'time_step': 0.012556438838060919, 'init_value': -1.3152589797973633, 'ave_value': -1.314684018944249, 'soft_opc': nan} step=1979280\n"
     ]
    },
    {
     "name": "stderr",
     "output_type": "stream",
     "text": [
      "WARNING:root:NaN or Inf found in input tensor.\n"
     ]
    },
    {
     "name": "stdout",
     "output_type": "stream",
     "text": [
      "2022-04-08 09:23.07 [info     ] Model parameters are saved to d3rlpy_logs\\FQE_20220408020741\\model_1979280.pt\n"
     ]
    },
    {
     "data": {
      "application/vnd.jupyter.widget-view+json": {
       "model_id": "8243db20aa734c3aac8922df569e798f",
       "version_major": 2,
       "version_minor": 0
      },
      "text/plain": [
       "Epoch 91/100:   0%|          | 0/21992 [00:00<?, ?it/s]"
      ]
     },
     "metadata": {},
     "output_type": "display_data"
    },
    {
     "name": "stderr",
     "output_type": "stream",
     "text": [
      "WARNING:root:NaN or Inf found in input tensor.\n"
     ]
    },
    {
     "name": "stdout",
     "output_type": "stream",
     "text": [
      "2022-04-08 09:28.16 [info     ] FQE_20220408020741: epoch=91 step=2001272 epoch=91 metrics={'time_sample_batch': 0.00041059558284894124, 'time_algorithm_update': 0.011477566049419, 'loss': 0.018381834194248825, 'time_step': 0.012569761538600956, 'init_value': -1.3281701803207397, 'ave_value': -1.3276306936603273, 'soft_opc': nan} step=2001272\n"
     ]
    },
    {
     "name": "stderr",
     "output_type": "stream",
     "text": [
      "WARNING:root:NaN or Inf found in input tensor.\n"
     ]
    },
    {
     "name": "stdout",
     "output_type": "stream",
     "text": [
      "2022-04-08 09:28.16 [info     ] Model parameters are saved to d3rlpy_logs\\FQE_20220408020741\\model_2001272.pt\n"
     ]
    },
    {
     "data": {
      "application/vnd.jupyter.widget-view+json": {
       "model_id": "71f3e35a036f44478206b86bd458f186",
       "version_major": 2,
       "version_minor": 0
      },
      "text/plain": [
       "Epoch 92/100:   0%|          | 0/21992 [00:00<?, ?it/s]"
      ]
     },
     "metadata": {},
     "output_type": "display_data"
    },
    {
     "name": "stderr",
     "output_type": "stream",
     "text": [
      "WARNING:root:NaN or Inf found in input tensor.\n"
     ]
    },
    {
     "name": "stdout",
     "output_type": "stream",
     "text": [
      "2022-04-08 09:33.26 [info     ] FQE_20220408020741: epoch=92 step=2023264 epoch=92 metrics={'time_sample_batch': 0.0004160908427226322, 'time_algorithm_update': 0.011498908675250333, 'loss': 0.017779817829800978, 'time_step': 0.012613473197857914, 'init_value': -1.296536922454834, 'ave_value': -1.2959997917112427, 'soft_opc': nan} step=2023264\n"
     ]
    },
    {
     "name": "stderr",
     "output_type": "stream",
     "text": [
      "WARNING:root:NaN or Inf found in input tensor.\n"
     ]
    },
    {
     "name": "stdout",
     "output_type": "stream",
     "text": [
      "2022-04-08 09:33.26 [info     ] Model parameters are saved to d3rlpy_logs\\FQE_20220408020741\\model_2023264.pt\n"
     ]
    },
    {
     "data": {
      "application/vnd.jupyter.widget-view+json": {
       "model_id": "4924bc44258c4b2a9ce70972c5ad1b18",
       "version_major": 2,
       "version_minor": 0
      },
      "text/plain": [
       "Epoch 93/100:   0%|          | 0/21992 [00:00<?, ?it/s]"
      ]
     },
     "metadata": {},
     "output_type": "display_data"
    },
    {
     "name": "stderr",
     "output_type": "stream",
     "text": [
      "WARNING:root:NaN or Inf found in input tensor.\n"
     ]
    },
    {
     "name": "stdout",
     "output_type": "stream",
     "text": [
      "2022-04-08 09:38.35 [info     ] FQE_20220408020741: epoch=93 step=2045256 epoch=93 metrics={'time_sample_batch': 0.00039280368311269017, 'time_algorithm_update': 0.01151518400646028, 'loss': 0.017527944546325076, 'time_step': 0.012626483207097614, 'init_value': -1.2722762823104858, 'ave_value': -1.271701763752853, 'soft_opc': nan} step=2045256\n"
     ]
    },
    {
     "name": "stderr",
     "output_type": "stream",
     "text": [
      "WARNING:root:NaN or Inf found in input tensor.\n"
     ]
    },
    {
     "name": "stdout",
     "output_type": "stream",
     "text": [
      "2022-04-08 09:38.35 [info     ] Model parameters are saved to d3rlpy_logs\\FQE_20220408020741\\model_2045256.pt\n"
     ]
    },
    {
     "data": {
      "application/vnd.jupyter.widget-view+json": {
       "model_id": "714bee91663f4df1bb74dba6c8cb93bf",
       "version_major": 2,
       "version_minor": 0
      },
      "text/plain": [
       "Epoch 94/100:   0%|          | 0/21992 [00:00<?, ?it/s]"
      ]
     },
     "metadata": {},
     "output_type": "display_data"
    },
    {
     "name": "stderr",
     "output_type": "stream",
     "text": [
      "WARNING:root:NaN or Inf found in input tensor.\n"
     ]
    },
    {
     "name": "stdout",
     "output_type": "stream",
     "text": [
      "2022-04-08 09:43.43 [info     ] FQE_20220408020741: epoch=94 step=2067248 epoch=94 metrics={'time_sample_batch': 0.000389753471248234, 'time_algorithm_update': 0.011507501186739969, 'loss': 0.017462812902458998, 'time_step': 0.012605286915114075, 'init_value': -1.303606390953064, 'ave_value': -1.3030695321273307, 'soft_opc': nan} step=2067248\n"
     ]
    },
    {
     "name": "stderr",
     "output_type": "stream",
     "text": [
      "WARNING:root:NaN or Inf found in input tensor.\n"
     ]
    },
    {
     "name": "stdout",
     "output_type": "stream",
     "text": [
      "2022-04-08 09:43.43 [info     ] Model parameters are saved to d3rlpy_logs\\FQE_20220408020741\\model_2067248.pt\n"
     ]
    },
    {
     "data": {
      "application/vnd.jupyter.widget-view+json": {
       "model_id": "2e8db4add19b44259e1a1372312c7bd4",
       "version_major": 2,
       "version_minor": 0
      },
      "text/plain": [
       "Epoch 95/100:   0%|          | 0/21992 [00:00<?, ?it/s]"
      ]
     },
     "metadata": {},
     "output_type": "display_data"
    },
    {
     "name": "stderr",
     "output_type": "stream",
     "text": [
      "WARNING:root:NaN or Inf found in input tensor.\n"
     ]
    },
    {
     "name": "stdout",
     "output_type": "stream",
     "text": [
      "2022-04-08 09:48.53 [info     ] FQE_20220408020741: epoch=95 step=2089240 epoch=95 metrics={'time_sample_batch': 0.0003812483502717918, 'time_algorithm_update': 0.01155491004687476, 'loss': 0.017388913211297003, 'time_step': 0.012642123756429506, 'init_value': -1.2739723920822144, 'ave_value': -1.2734072897106885, 'soft_opc': nan} step=2089240\n"
     ]
    },
    {
     "name": "stderr",
     "output_type": "stream",
     "text": [
      "WARNING:root:NaN or Inf found in input tensor.\n"
     ]
    },
    {
     "name": "stdout",
     "output_type": "stream",
     "text": [
      "2022-04-08 09:48.53 [info     ] Model parameters are saved to d3rlpy_logs\\FQE_20220408020741\\model_2089240.pt\n"
     ]
    },
    {
     "data": {
      "application/vnd.jupyter.widget-view+json": {
       "model_id": "8f3e5ad562b8483ebc17384fccf60f1a",
       "version_major": 2,
       "version_minor": 0
      },
      "text/plain": [
       "Epoch 96/100:   0%|          | 0/21992 [00:00<?, ?it/s]"
      ]
     },
     "metadata": {},
     "output_type": "display_data"
    },
    {
     "name": "stderr",
     "output_type": "stream",
     "text": [
      "WARNING:root:NaN or Inf found in input tensor.\n"
     ]
    },
    {
     "name": "stdout",
     "output_type": "stream",
     "text": [
      "2022-04-08 09:54.01 [info     ] FQE_20220408020741: epoch=96 step=2111232 epoch=96 metrics={'time_sample_batch': 0.00039025956867130596, 'time_algorithm_update': 0.01143830764202605, 'loss': 0.017151054956247462, 'time_step': 0.01256078040439374, 'init_value': -1.2795838117599487, 'ave_value': -1.2790059942711485, 'soft_opc': nan} step=2111232\n"
     ]
    },
    {
     "name": "stderr",
     "output_type": "stream",
     "text": [
      "WARNING:root:NaN or Inf found in input tensor.\n"
     ]
    },
    {
     "name": "stdout",
     "output_type": "stream",
     "text": [
      "2022-04-08 09:54.01 [info     ] Model parameters are saved to d3rlpy_logs\\FQE_20220408020741\\model_2111232.pt\n"
     ]
    },
    {
     "data": {
      "application/vnd.jupyter.widget-view+json": {
       "model_id": "53108d4ca5424d7cb500ce768e036f61",
       "version_major": 2,
       "version_minor": 0
      },
      "text/plain": [
       "Epoch 97/100:   0%|          | 0/21992 [00:00<?, ?it/s]"
      ]
     },
     "metadata": {},
     "output_type": "display_data"
    },
    {
     "name": "stderr",
     "output_type": "stream",
     "text": [
      "WARNING:root:NaN or Inf found in input tensor.\n"
     ]
    },
    {
     "name": "stdout",
     "output_type": "stream",
     "text": [
      "2022-04-08 09:59.09 [info     ] FQE_20220408020741: epoch=97 step=2133224 epoch=97 metrics={'time_sample_batch': 0.00039094161796500443, 'time_algorithm_update': 0.011482960540799931, 'loss': 0.01679308502885544, 'time_step': 0.012596381647277199, 'init_value': -1.2661212682724, 'ave_value': -1.2655365930553728, 'soft_opc': nan} step=2133224\n"
     ]
    },
    {
     "name": "stderr",
     "output_type": "stream",
     "text": [
      "WARNING:root:NaN or Inf found in input tensor.\n"
     ]
    },
    {
     "name": "stdout",
     "output_type": "stream",
     "text": [
      "2022-04-08 09:59.09 [info     ] Model parameters are saved to d3rlpy_logs\\FQE_20220408020741\\model_2133224.pt\n"
     ]
    },
    {
     "data": {
      "application/vnd.jupyter.widget-view+json": {
       "model_id": "db4f1d9965014ab3bbfa2788181c9857",
       "version_major": 2,
       "version_minor": 0
      },
      "text/plain": [
       "Epoch 98/100:   0%|          | 0/21992 [00:00<?, ?it/s]"
      ]
     },
     "metadata": {},
     "output_type": "display_data"
    },
    {
     "name": "stderr",
     "output_type": "stream",
     "text": [
      "WARNING:root:NaN or Inf found in input tensor.\n"
     ]
    },
    {
     "name": "stdout",
     "output_type": "stream",
     "text": [
      "2022-04-08 10:04.18 [info     ] FQE_20220408020741: epoch=98 step=2155216 epoch=98 metrics={'time_sample_batch': 0.00037866464394922903, 'time_algorithm_update': 0.011534214843702819, 'loss': 0.016933004028431387, 'time_step': 0.01262052578898333, 'init_value': -1.2810641527175903, 'ave_value': -1.2804994421078, 'soft_opc': nan} step=2155216\n"
     ]
    },
    {
     "name": "stderr",
     "output_type": "stream",
     "text": [
      "WARNING:root:NaN or Inf found in input tensor.\n"
     ]
    },
    {
     "name": "stdout",
     "output_type": "stream",
     "text": [
      "2022-04-08 10:04.18 [info     ] Model parameters are saved to d3rlpy_logs\\FQE_20220408020741\\model_2155216.pt\n"
     ]
    },
    {
     "data": {
      "application/vnd.jupyter.widget-view+json": {
       "model_id": "0dd6ca606c0e46529c8ea6a3a9d3b2a2",
       "version_major": 2,
       "version_minor": 0
      },
      "text/plain": [
       "Epoch 99/100:   0%|          | 0/21992 [00:00<?, ?it/s]"
      ]
     },
     "metadata": {},
     "output_type": "display_data"
    },
    {
     "name": "stderr",
     "output_type": "stream",
     "text": [
      "WARNING:root:NaN or Inf found in input tensor.\n"
     ]
    },
    {
     "name": "stdout",
     "output_type": "stream",
     "text": [
      "2022-04-08 10:09.27 [info     ] FQE_20220408020741: epoch=99 step=2177208 epoch=99 metrics={'time_sample_batch': 0.000393312534187958, 'time_algorithm_update': 0.011495847383730192, 'loss': 0.018008679714255023, 'time_step': 0.01260465952690058, 'init_value': -1.2670302391052246, 'ave_value': -1.2664396247129823, 'soft_opc': nan} step=2177208\n"
     ]
    },
    {
     "name": "stderr",
     "output_type": "stream",
     "text": [
      "WARNING:root:NaN or Inf found in input tensor.\n"
     ]
    },
    {
     "name": "stdout",
     "output_type": "stream",
     "text": [
      "2022-04-08 10:09.27 [info     ] Model parameters are saved to d3rlpy_logs\\FQE_20220408020741\\model_2177208.pt\n"
     ]
    },
    {
     "data": {
      "application/vnd.jupyter.widget-view+json": {
       "model_id": "b0575618f79a4f6ea9c48a40fa329131",
       "version_major": 2,
       "version_minor": 0
      },
      "text/plain": [
       "Epoch 100/100:   0%|          | 0/21992 [00:00<?, ?it/s]"
      ]
     },
     "metadata": {},
     "output_type": "display_data"
    },
    {
     "name": "stderr",
     "output_type": "stream",
     "text": [
      "WARNING:root:NaN or Inf found in input tensor.\n"
     ]
    },
    {
     "name": "stdout",
     "output_type": "stream",
     "text": [
      "2022-04-08 10:14.37 [info     ] FQE_20220408020741: epoch=100 step=2199200 epoch=100 metrics={'time_sample_batch': 0.0003767586721425145, 'time_algorithm_update': 0.011553301285205646, 'loss': 0.01729562495076955, 'time_step': 0.01263644972598609, 'init_value': -1.2745429277420044, 'ave_value': -1.2739250281759056, 'soft_opc': nan} step=2199200\n"
     ]
    },
    {
     "name": "stderr",
     "output_type": "stream",
     "text": [
      "WARNING:root:NaN or Inf found in input tensor.\n"
     ]
    },
    {
     "name": "stdout",
     "output_type": "stream",
     "text": [
      "2022-04-08 10:14.37 [info     ] Model parameters are saved to d3rlpy_logs\\FQE_20220408020741\\model_2199200.pt\n"
     ]
    },
    {
     "data": {
      "text/plain": [
       "[(1,\n",
       "  {'time_sample_batch': 0.00042819874899827076,\n",
       "   'time_algorithm_update': 0.0068035466036132225,\n",
       "   'loss': 0.008132032031880457,\n",
       "   'time_step': 0.007887866907702571,\n",
       "   'init_value': -1.04853093624115,\n",
       "   'ave_value': -1.0482471513921092,\n",
       "   'soft_opc': nan}),\n",
       " (2,\n",
       "  {'time_sample_batch': 0.0003912838730824215,\n",
       "   'time_algorithm_update': 0.006498671653445047,\n",
       "   'loss': 0.014115804965008364,\n",
       "   'time_step': 0.0074729861867085245,\n",
       "   'init_value': -1.1801666021347046,\n",
       "   'ave_value': -1.1798491936532454,\n",
       "   'soft_opc': nan}),\n",
       " (3,\n",
       "  {'time_sample_batch': 0.0003805624306874086,\n",
       "   'time_algorithm_update': 0.007124566942962918,\n",
       "   'loss': 0.013537545082770205,\n",
       "   'time_step': 0.008145781149210258,\n",
       "   'init_value': -1.1299998760223389,\n",
       "   'ave_value': -1.1296853448110773,\n",
       "   'soft_opc': nan}),\n",
       " (4,\n",
       "  {'time_sample_batch': 0.0003992889676800031,\n",
       "   'time_algorithm_update': 0.007742372349246106,\n",
       "   'loss': 0.01322349580627041,\n",
       "   'time_step': 0.008771122661925698,\n",
       "   'init_value': -1.0982027053833008,\n",
       "   'ave_value': -1.0978867011420947,\n",
       "   'soft_opc': nan}),\n",
       " (5,\n",
       "  {'time_sample_batch': 0.00040829423428796,\n",
       "   'time_algorithm_update': 0.008282270397694165,\n",
       "   'loss': 0.013019833495590686,\n",
       "   'time_step': 0.009316411949409577,\n",
       "   'init_value': -1.1884117126464844,\n",
       "   'ave_value': -1.1880607715054468,\n",
       "   'soft_opc': nan}),\n",
       " (6,\n",
       "  {'time_sample_batch': 0.00038001406361901487,\n",
       "   'time_algorithm_update': 0.008725947046245216,\n",
       "   'loss': 0.013688410214060035,\n",
       "   'time_step': 0.00972857539026726,\n",
       "   'init_value': -1.2011494636535645,\n",
       "   'ave_value': -1.200774246114679,\n",
       "   'soft_opc': nan}),\n",
       " (7,\n",
       "  {'time_sample_batch': 0.0003733601124341291,\n",
       "   'time_algorithm_update': 0.00908322284853905,\n",
       "   'loss': 0.013789376671307519,\n",
       "   'time_step': 0.010076942878360964,\n",
       "   'init_value': -1.178562045097351,\n",
       "   'ave_value': -1.1782537745086683,\n",
       "   'soft_opc': nan}),\n",
       " (8,\n",
       "  {'time_sample_batch': 0.00037491706424559105,\n",
       "   'time_algorithm_update': 0.009411292071340734,\n",
       "   'loss': 0.0136731938448857,\n",
       "   'time_step': 0.01039413662770307,\n",
       "   'init_value': -1.1667624711990356,\n",
       "   'ave_value': -1.1663974353817537,\n",
       "   'soft_opc': nan}),\n",
       " (9,\n",
       "  {'time_sample_batch': 0.00036654867185770967,\n",
       "   'time_algorithm_update': 0.009609924203137912,\n",
       "   'loss': 0.014461138973639837,\n",
       "   'time_step': 0.010621020829907414,\n",
       "   'init_value': -1.2460979223251343,\n",
       "   'ave_value': -1.2457539595397338,\n",
       "   'soft_opc': nan}),\n",
       " (10,\n",
       "  {'time_sample_batch': 0.00041369593503389325,\n",
       "   'time_algorithm_update': 0.009732476925147409,\n",
       "   'loss': 0.015195978153265,\n",
       "   'time_step': 0.010763975035801676,\n",
       "   'init_value': -1.178571105003357,\n",
       "   'ave_value': -1.178245537867333,\n",
       "   'soft_opc': nan}),\n",
       " (11,\n",
       "  {'time_sample_batch': 0.00039768455331218853,\n",
       "   'time_algorithm_update': 0.009846720447450085,\n",
       "   'loss': 0.015017470780699748,\n",
       "   'time_step': 0.010861637788323672,\n",
       "   'init_value': -1.2587169408798218,\n",
       "   'ave_value': -1.2583700600108156,\n",
       "   'soft_opc': nan}),\n",
       " (12,\n",
       "  {'time_sample_batch': 0.0003808344893561315,\n",
       "   'time_algorithm_update': 0.01001515837095572,\n",
       "   'loss': 0.01532685735135579,\n",
       "   'time_step': 0.01102011604454787,\n",
       "   'init_value': -1.2198436260223389,\n",
       "   'ave_value': -1.219451589602224,\n",
       "   'soft_opc': nan}),\n",
       " (13,\n",
       "  {'time_sample_batch': 0.00037179051984132704,\n",
       "   'time_algorithm_update': 0.0099900279989586,\n",
       "   'loss': 0.01541216225602033,\n",
       "   'time_step': 0.0110149803856322,\n",
       "   'init_value': -1.1952316761016846,\n",
       "   'ave_value': -1.1948308177486089,\n",
       "   'soft_opc': nan}),\n",
       " (14,\n",
       "  {'time_sample_batch': 0.00037260026704532184,\n",
       "   'time_algorithm_update': 0.010066625865080782,\n",
       "   'loss': 0.014781611313542355,\n",
       "   'time_step': 0.011079221064066965,\n",
       "   'init_value': -1.1793956756591797,\n",
       "   'ave_value': -1.1790311668650468,\n",
       "   'soft_opc': nan}),\n",
       " (15,\n",
       "  {'time_sample_batch': 0.00038117963906069937,\n",
       "   'time_algorithm_update': 0.010081261981830202,\n",
       "   'loss': 0.01491379159554399,\n",
       "   'time_step': 0.011130564448702505,\n",
       "   'init_value': -1.210632562637329,\n",
       "   'ave_value': -1.2102623421800829,\n",
       "   'soft_opc': nan}),\n",
       " (16,\n",
       "  {'time_sample_batch': 0.00037168652068575583,\n",
       "   'time_algorithm_update': 0.010274290496455665,\n",
       "   'loss': 0.013990870163828677,\n",
       "   'time_step': 0.011282890102741024,\n",
       "   'init_value': -1.1832112073898315,\n",
       "   'ave_value': -1.1828329455960132,\n",
       "   'soft_opc': nan}),\n",
       " (17,\n",
       "  {'time_sample_batch': 0.0004039508683241771,\n",
       "   'time_algorithm_update': 0.01029291769598735,\n",
       "   'loss': 0.014820441949279261,\n",
       "   'time_step': 0.011352417403110463,\n",
       "   'init_value': -1.2133538722991943,\n",
       "   'ave_value': -1.2129884945605807,\n",
       "   'soft_opc': nan}),\n",
       " (18,\n",
       "  {'time_sample_batch': 0.00037348324622011654,\n",
       "   'time_algorithm_update': 0.01036846089163621,\n",
       "   'loss': 0.014370032767541384,\n",
       "   'time_step': 0.011376255444935687,\n",
       "   'init_value': -1.210204839706421,\n",
       "   'ave_value': -1.2098263550042436,\n",
       "   'soft_opc': nan}),\n",
       " (19,\n",
       "  {'time_sample_batch': 0.00034444689447119176,\n",
       "   'time_algorithm_update': 0.010570102320796318,\n",
       "   'loss': 0.015354833488319928,\n",
       "   'time_step': 0.01156024469510561,\n",
       "   'init_value': -1.2272000312805176,\n",
       "   'ave_value': -1.2267880649539775,\n",
       "   'soft_opc': nan}),\n",
       " (20,\n",
       "  {'time_sample_batch': 0.00037611859978307763,\n",
       "   'time_algorithm_update': 0.010456425638882279,\n",
       "   'loss': 0.014971144081737576,\n",
       "   'time_step': 0.011496325738649449,\n",
       "   'init_value': -1.2011959552764893,\n",
       "   'ave_value': -1.2007792122675862,\n",
       "   'soft_opc': nan}),\n",
       " (21,\n",
       "  {'time_sample_batch': 0.000362673730319437,\n",
       "   'time_algorithm_update': 0.010470797470067796,\n",
       "   'loss': 0.01445489683584885,\n",
       "   'time_step': 0.011500338731396628,\n",
       "   'init_value': -1.2097176313400269,\n",
       "   'ave_value': -1.2093500900322451,\n",
       "   'soft_opc': nan}),\n",
       " (22,\n",
       "  {'time_sample_batch': 0.00037080585067599155,\n",
       "   'time_algorithm_update': 0.010612215116354455,\n",
       "   'loss': 0.014485646328948209,\n",
       "   'time_step': 0.011614517250161641,\n",
       "   'init_value': -1.1990169286727905,\n",
       "   'ave_value': -1.1986303625573358,\n",
       "   'soft_opc': nan}),\n",
       " (23,\n",
       "  {'time_sample_batch': 0.0003693660374943583,\n",
       "   'time_algorithm_update': 0.010543676355441036,\n",
       "   'loss': 0.015010832311105839,\n",
       "   'time_step': 0.011596446429308477,\n",
       "   'init_value': -1.1910401582717896,\n",
       "   'ave_value': -1.1906805763705626,\n",
       "   'soft_opc': nan}),\n",
       " (24,\n",
       "  {'time_sample_batch': 0.000401150176376809,\n",
       "   'time_algorithm_update': 0.01056322311218889,\n",
       "   'loss': 0.015260535837764221,\n",
       "   'time_step': 0.011627508384958534,\n",
       "   'init_value': -1.225817322731018,\n",
       "   'ave_value': -1.22545302492412,\n",
       "   'soft_opc': nan}),\n",
       " (25,\n",
       "  {'time_sample_batch': 0.00039658948871255917,\n",
       "   'time_algorithm_update': 0.010631215251459127,\n",
       "   'loss': 0.015374435515485077,\n",
       "   'time_step': 0.011691832551092353,\n",
       "   'init_value': -1.2299308776855469,\n",
       "   'ave_value': -1.229568193714141,\n",
       "   'soft_opc': nan}),\n",
       " (26,\n",
       "  {'time_sample_batch': 0.0003771159747766555,\n",
       "   'time_algorithm_update': 0.010603303853361421,\n",
       "   'loss': 0.015582579221173024,\n",
       "   'time_step': 0.011642077113117206,\n",
       "   'init_value': -1.2246276140213013,\n",
       "   'ave_value': -1.224292888401025,\n",
       "   'soft_opc': nan}),\n",
       " (27,\n",
       "  {'time_sample_batch': 0.00033753688615554027,\n",
       "   'time_algorithm_update': 0.010620303048182072,\n",
       "   'loss': 0.014760690548940168,\n",
       "   'time_step': 0.011640487139161694,\n",
       "   'init_value': -1.1958141326904297,\n",
       "   'ave_value': -1.1954133982770005,\n",
       "   'soft_opc': nan}),\n",
       " (28,\n",
       "  {'time_sample_batch': 0.00037192084131001474,\n",
       "   'time_algorithm_update': 0.010695207971102457,\n",
       "   'loss': 0.014666528312233626,\n",
       "   'time_step': 0.011714424012400273,\n",
       "   'init_value': -1.2758781909942627,\n",
       "   'ave_value': -1.2754921020932066,\n",
       "   'soft_opc': nan}),\n",
       " (29,\n",
       "  {'time_sample_batch': 0.000386486056935965,\n",
       "   'time_algorithm_update': 0.010817405461137535,\n",
       "   'loss': 0.015728571843680976,\n",
       "   'time_step': 0.011855466478995819,\n",
       "   'init_value': -1.2528231143951416,\n",
       "   'ave_value': -1.2524333622146406,\n",
       "   'soft_opc': nan}),\n",
       " (30,\n",
       "  {'time_sample_batch': 0.00036934216528122706,\n",
       "   'time_algorithm_update': 0.010799367944298331,\n",
       "   'loss': 0.015370338631776656,\n",
       "   'time_step': 0.011835544271528092,\n",
       "   'init_value': -1.2034742832183838,\n",
       "   'ave_value': -1.2031440977194754,\n",
       "   'soft_opc': nan}),\n",
       " (31,\n",
       "  {'time_sample_batch': 0.00037235504022378323,\n",
       "   'time_algorithm_update': 0.010838330702679337,\n",
       "   'loss': 0.014874389377415202,\n",
       "   'time_step': 0.011873345498216503,\n",
       "   'init_value': -1.1685596704483032,\n",
       "   'ave_value': -1.1682353009386857,\n",
       "   'soft_opc': nan}),\n",
       " (32,\n",
       "  {'time_sample_batch': 0.00037495883519799545,\n",
       "   'time_algorithm_update': 0.010863626759977678,\n",
       "   'loss': 0.014962267769872513,\n",
       "   'time_step': 0.011908592094547664,\n",
       "   'init_value': -1.2169644832611084,\n",
       "   'ave_value': -1.2166144019203726,\n",
       "   'soft_opc': nan}),\n",
       " (33,\n",
       "  {'time_sample_batch': 0.0003953619018907155,\n",
       "   'time_algorithm_update': 0.01094903870902091,\n",
       "   'loss': 0.014115821971460052,\n",
       "   'time_step': 0.012015954456835844,\n",
       "   'init_value': -1.1948251724243164,\n",
       "   'ave_value': -1.1944614967724838,\n",
       "   'soft_opc': nan}),\n",
       " (34,\n",
       "  {'time_sample_batch': 0.0003599792599634675,\n",
       "   'time_algorithm_update': 0.01089271014063694,\n",
       "   'loss': 0.014656958422562451,\n",
       "   'time_step': 0.011927463350056648,\n",
       "   'init_value': -1.2359524965286255,\n",
       "   'ave_value': -1.2355929341890513,\n",
       "   'soft_opc': nan}),\n",
       " (35,\n",
       "  {'time_sample_batch': 0.00037425245836284995,\n",
       "   'time_algorithm_update': 0.010925158375868063,\n",
       "   'loss': 0.014902296168892796,\n",
       "   'time_step': 0.011952934838850397,\n",
       "   'init_value': -1.2234947681427002,\n",
       "   'ave_value': -1.223165948154999,\n",
       "   'soft_opc': nan}),\n",
       " (36,\n",
       "  {'time_sample_batch': 0.0003633109406151742,\n",
       "   'time_algorithm_update': 0.011088543965539831,\n",
       "   'loss': 0.015153863313089905,\n",
       "   'time_step': 0.01211970002705854,\n",
       "   'init_value': -1.204925298690796,\n",
       "   'ave_value': -1.2046061433469302,\n",
       "   'soft_opc': nan}),\n",
       " (37,\n",
       "  {'time_sample_batch': 0.00035709961191790024,\n",
       "   'time_algorithm_update': 0.01107164091004073,\n",
       "   'loss': 0.014489573930034432,\n",
       "   'time_step': 0.01209224741560366,\n",
       "   'init_value': -1.18284010887146,\n",
       "   'ave_value': -1.1825196913242322,\n",
       "   'soft_opc': nan}),\n",
       " (38,\n",
       "  {'time_sample_batch': 0.000378294071747026,\n",
       "   'time_algorithm_update': 0.011112139599242614,\n",
       "   'loss': 0.015089653002140853,\n",
       "   'time_step': 0.01217476581824654,\n",
       "   'init_value': -1.2071301937103271,\n",
       "   'ave_value': -1.2067873959206825,\n",
       "   'soft_opc': nan}),\n",
       " (39,\n",
       "  {'time_sample_batch': 0.0003885735963292016,\n",
       "   'time_algorithm_update': 0.011031333903218669,\n",
       "   'loss': 0.014244919717913558,\n",
       "   'time_step': 0.01211858222856657,\n",
       "   'init_value': -1.1966416835784912,\n",
       "   'ave_value': -1.1963128751755412,\n",
       "   'soft_opc': nan}),\n",
       " (40,\n",
       "  {'time_sample_batch': 0.00036838843675906894,\n",
       "   'time_algorithm_update': 0.011047884632171653,\n",
       "   'loss': 0.014732958244264197,\n",
       "   'time_step': 0.012099765330585578,\n",
       "   'init_value': -1.2186814546585083,\n",
       "   'ave_value': -1.2183466649747783,\n",
       "   'soft_opc': nan}),\n",
       " (41,\n",
       "  {'time_sample_batch': 0.00035737521564279653,\n",
       "   'time_algorithm_update': 0.0110594197896317,\n",
       "   'loss': 0.015022458264846543,\n",
       "   'time_step': 0.012100014471062404,\n",
       "   'init_value': -1.22079336643219,\n",
       "   'ave_value': -1.2204404761286656,\n",
       "   'soft_opc': nan}),\n",
       " (42,\n",
       "  {'time_sample_batch': 0.00037229521875600027,\n",
       "   'time_algorithm_update': 0.011103687762520277,\n",
       "   'loss': 0.015078046652036041,\n",
       "   'time_step': 0.012157892467499473,\n",
       "   'init_value': -1.2325043678283691,\n",
       "   'ave_value': -1.2321343272830656,\n",
       "   'soft_opc': nan}),\n",
       " (43,\n",
       "  {'time_sample_batch': 0.0003887196049424855,\n",
       "   'time_algorithm_update': 0.011118797507447388,\n",
       "   'loss': 0.014665386250490839,\n",
       "   'time_step': 0.012184871916946128,\n",
       "   'init_value': -1.2339458465576172,\n",
       "   'ave_value': -1.233564530429282,\n",
       "   'soft_opc': nan}),\n",
       " (44,\n",
       "  {'time_sample_batch': 0.00038685937194921354,\n",
       "   'time_algorithm_update': 0.011129354923237189,\n",
       "   'loss': 0.014882266819371602,\n",
       "   'time_step': 0.012193034858693205,\n",
       "   'init_value': -1.1961466073989868,\n",
       "   'ave_value': -1.1957734431899563,\n",
       "   'soft_opc': nan}),\n",
       " (45,\n",
       "  {'time_sample_batch': 0.00036163055146551425,\n",
       "   'time_algorithm_update': 0.011120324179925846,\n",
       "   'loss': 0.015404947236492526,\n",
       "   'time_step': 0.01216284221152732,\n",
       "   'init_value': -1.2860538959503174,\n",
       "   'ave_value': -1.2856972766640908,\n",
       "   'soft_opc': nan}),\n",
       " (46,\n",
       "  {'time_sample_batch': 0.0003758481998103625,\n",
       "   'time_algorithm_update': 0.011143745325313302,\n",
       "   'loss': 0.01572526568750739,\n",
       "   'time_step': 0.012198358351380317,\n",
       "   'init_value': -1.2274831533432007,\n",
       "   'ave_value': -1.22713519798981,\n",
       "   'soft_opc': nan}),\n",
       " (47,\n",
       "  {'time_sample_batch': 0.0003812438837178363,\n",
       "   'time_algorithm_update': 0.011158369972125623,\n",
       "   'loss': 0.015233504015251266,\n",
       "   'time_step': 0.01220292604242771,\n",
       "   'init_value': -1.176824688911438,\n",
       "   'ave_value': -1.1764513593733021,\n",
       "   'soft_opc': nan}),\n",
       " (48,\n",
       "  {'time_sample_batch': 0.0003803469953471073,\n",
       "   'time_algorithm_update': 0.011069998389029338,\n",
       "   'loss': 0.015464074498552924,\n",
       "   'time_step': 0.012139918935129798,\n",
       "   'init_value': -1.210030198097229,\n",
       "   'ave_value': -1.2096500636889773,\n",
       "   'soft_opc': nan}),\n",
       " (49,\n",
       "  {'time_sample_batch': 0.00040091836005828733,\n",
       "   'time_algorithm_update': 0.011055970417451494,\n",
       "   'loss': 0.015090523025290011,\n",
       "   'time_step': 0.012120722033145775,\n",
       "   'init_value': -1.2434805631637573,\n",
       "   'ave_value': -1.243125322819474,\n",
       "   'soft_opc': nan}),\n",
       " (50,\n",
       "  {'time_sample_batch': 0.0003804068601794918,\n",
       "   'time_algorithm_update': 0.011090717410208659,\n",
       "   'loss': 0.015253687829330974,\n",
       "   'time_step': 0.012175549037155562,\n",
       "   'init_value': -1.1979639530181885,\n",
       "   'ave_value': -1.197604612150099,\n",
       "   'soft_opc': nan}),\n",
       " (51,\n",
       "  {'time_sample_batch': 0.00038225510286044625,\n",
       "   'time_algorithm_update': 0.0111054302497793,\n",
       "   'loss': 0.015434161988080963,\n",
       "   'time_step': 0.01216373341913525,\n",
       "   'init_value': -1.2516844272613525,\n",
       "   'ave_value': -1.2512799943658721,\n",
       "   'soft_opc': nan}),\n",
       " (52,\n",
       "  {'time_sample_batch': 0.000400972056276107,\n",
       "   'time_algorithm_update': 0.011062224416916655,\n",
       "   'loss': 0.015718872213818444,\n",
       "   'time_step': 0.012147063578463069,\n",
       "   'init_value': -1.2660133838653564,\n",
       "   'ave_value': -1.2656501578388526,\n",
       "   'soft_opc': nan}),\n",
       " (53,\n",
       "  {'time_sample_batch': 0.0004000874617699061,\n",
       "   'time_algorithm_update': 0.011158445816813663,\n",
       "   'loss': 0.015092585531598805,\n",
       "   'time_step': 0.012235234784576927,\n",
       "   'init_value': -1.226556420326233,\n",
       "   'ave_value': -1.2261494824172237,\n",
       "   'soft_opc': nan}),\n",
       " (54,\n",
       "  {'time_sample_batch': 0.00038991216400745954,\n",
       "   'time_algorithm_update': 0.011298544626315753,\n",
       "   'loss': 0.015394252918662664,\n",
       "   'time_step': 0.012338677203711616,\n",
       "   'init_value': -1.2574529647827148,\n",
       "   'ave_value': -1.2570784960416648,\n",
       "   'soft_opc': nan}),\n",
       " (55,\n",
       "  {'time_sample_batch': 0.0003808415144215761,\n",
       "   'time_algorithm_update': 0.011179693441644241,\n",
       "   'loss': 0.015287180064438004,\n",
       "   'time_step': 0.01226624125521935,\n",
       "   'init_value': -1.241339087486267,\n",
       "   'ave_value': -1.2408906423923458,\n",
       "   'soft_opc': nan}),\n",
       " (56,\n",
       "  {'time_sample_batch': 0.0003540992476628797,\n",
       "   'time_algorithm_update': 0.0112639947148313,\n",
       "   'loss': 0.015640155715730932,\n",
       "   'time_step': 0.012307887501870991,\n",
       "   'init_value': -1.2547167539596558,\n",
       "   'ave_value': -1.2543003251998697,\n",
       "   'soft_opc': nan}),\n",
       " (57,\n",
       "  {'time_sample_batch': 0.00039963673010181194,\n",
       "   'time_algorithm_update': 0.011201499277307753,\n",
       "   'loss': 0.014721849304912953,\n",
       "   'time_step': 0.012277001086127849,\n",
       "   'init_value': -1.2527986764907837,\n",
       "   'ave_value': -1.2523943080651578,\n",
       "   'soft_opc': nan}),\n",
       " (58,\n",
       "  {'time_sample_batch': 0.00038421124751110777,\n",
       "   'time_algorithm_update': 0.011313517425831294,\n",
       "   'loss': 0.015020880323430089,\n",
       "   'time_step': 0.012363139771686635,\n",
       "   'init_value': -1.252206563949585,\n",
       "   'ave_value': -1.2518126764733541,\n",
       "   'soft_opc': nan}),\n",
       " (59,\n",
       "  {'time_sample_batch': 0.00037971737385663435,\n",
       "   'time_algorithm_update': 0.011266132177722024,\n",
       "   'loss': 0.015707575678057292,\n",
       "   'time_step': 0.01231384825905959,\n",
       "   'init_value': -1.200793981552124,\n",
       "   'ave_value': -1.2004006607905935,\n",
       "   'soft_opc': nan}),\n",
       " (60,\n",
       "  {'time_sample_batch': 0.0003676148556327334,\n",
       "   'time_algorithm_update': 0.011327519064254872,\n",
       "   'loss': 0.015393708785364398,\n",
       "   'time_step': 0.012380888632055888,\n",
       "   'init_value': -1.2482068538665771,\n",
       "   'ave_value': -1.2478018929787216,\n",
       "   'soft_opc': nan}),\n",
       " (61,\n",
       "  {'time_sample_batch': 0.00036539021905182317,\n",
       "   'time_algorithm_update': 0.011258206559597861,\n",
       "   'loss': 0.015702759774323706,\n",
       "   'time_step': 0.012293179313153864,\n",
       "   'init_value': -1.1933130025863647,\n",
       "   'ave_value': -1.192937039853483,\n",
       "   'soft_opc': nan}),\n",
       " (62,\n",
       "  {'time_sample_batch': 0.00036152730034931914,\n",
       "   'time_algorithm_update': 0.011220758765252905,\n",
       "   'loss': 0.015166705884946808,\n",
       "   'time_step': 0.01231420866226274,\n",
       "   'init_value': -1.2310155630111694,\n",
       "   'ave_value': -1.2306085638542428,\n",
       "   'soft_opc': nan}),\n",
       " (63,\n",
       "  {'time_sample_batch': 0.00037649488527152964,\n",
       "   'time_algorithm_update': 0.011274356642997495,\n",
       "   'loss': 0.01536635693766374,\n",
       "   'time_step': 0.01235373732869345,\n",
       "   'init_value': -1.2344346046447754,\n",
       "   'ave_value': -1.2341094624894373,\n",
       "   'soft_opc': nan}),\n",
       " (64,\n",
       "  {'time_sample_batch': 0.00039758422930659534,\n",
       "   'time_algorithm_update': 0.011205706706086954,\n",
       "   'loss': 0.01567520074321924,\n",
       "   'time_step': 0.012339715666665125,\n",
       "   'init_value': -1.3090342283248901,\n",
       "   'ave_value': -1.308624639998373,\n",
       "   'soft_opc': nan}),\n",
       " (65,\n",
       "  {'time_sample_batch': 0.000363985531197413,\n",
       "   'time_algorithm_update': 0.011334664965161587,\n",
       "   'loss': 0.015930469536637938,\n",
       "   'time_step': 0.012387951034422397,\n",
       "   'init_value': -1.2547879219055176,\n",
       "   'ave_value': -1.254349686460485,\n",
       "   'soft_opc': nan}),\n",
       " (66,\n",
       "  {'time_sample_batch': 0.0003680682542238204,\n",
       "   'time_algorithm_update': 0.011352313805077457,\n",
       "   'loss': 0.0153836225249029,\n",
       "   'time_step': 0.012430430434321698,\n",
       "   'init_value': -1.2293874025344849,\n",
       "   'ave_value': -1.2289809730234604,\n",
       "   'soft_opc': nan}),\n",
       " (67,\n",
       "  {'time_sample_batch': 0.00035872229362410085,\n",
       "   'time_algorithm_update': 0.011405204763929382,\n",
       "   'loss': 0.015187628309647292,\n",
       "   'time_step': 0.012465147126063558,\n",
       "   'init_value': -1.262821078300476,\n",
       "   'ave_value': -1.2623595373613952,\n",
       "   'soft_opc': nan}),\n",
       " (68,\n",
       "  {'time_sample_batch': 0.00037140299207993356,\n",
       "   'time_algorithm_update': 0.011392967219177529,\n",
       "   'loss': 0.015733029843901607,\n",
       "   'time_step': 0.012452682730240057,\n",
       "   'init_value': -1.2402030229568481,\n",
       "   'ave_value': -1.2397761040667397,\n",
       "   'soft_opc': nan}),\n",
       " (69,\n",
       "  {'time_sample_batch': 0.00038554395012701154,\n",
       "   'time_algorithm_update': 0.011383248995156147,\n",
       "   'loss': 0.0159493865300328,\n",
       "   'time_step': 0.012464945187955477,\n",
       "   'init_value': -1.238614559173584,\n",
       "   'ave_value': -1.2381722832477693,\n",
       "   'soft_opc': nan}),\n",
       " (70,\n",
       "  {'time_sample_batch': 0.0003706364143367419,\n",
       "   'time_algorithm_update': 0.01136309153472523,\n",
       "   'loss': 0.015429273580581755,\n",
       "   'time_step': 0.01243588752250491,\n",
       "   'init_value': -1.245474100112915,\n",
       "   'ave_value': -1.2450367359219856,\n",
       "   'soft_opc': nan}),\n",
       " (71,\n",
       "  {'time_sample_batch': 0.0003991188700305804,\n",
       "   'time_algorithm_update': 0.011333500430470338,\n",
       "   'loss': 0.0160042561664411,\n",
       "   'time_step': 0.012399060232242961,\n",
       "   'init_value': -1.2415640354156494,\n",
       "   'ave_value': -1.241161275780358,\n",
       "   'soft_opc': nan}),\n",
       " (72,\n",
       "  {'time_sample_batch': 0.00037620827777900016,\n",
       "   'time_algorithm_update': 0.011364132545349077,\n",
       "   'loss': 0.016178640332120315,\n",
       "   'time_step': 0.012458005604981595,\n",
       "   'init_value': -1.2826638221740723,\n",
       "   'ave_value': -1.2822556356711927,\n",
       "   'soft_opc': nan}),\n",
       " (73,\n",
       "  {'time_sample_batch': 0.0003766301286224887,\n",
       "   'time_algorithm_update': 0.011367395807500751,\n",
       "   'loss': 0.01590811633327822,\n",
       "   'time_step': 0.012434604786751097,\n",
       "   'init_value': -1.2584995031356812,\n",
       "   'ave_value': -1.2580423769022058,\n",
       "   'soft_opc': nan}),\n",
       " (74,\n",
       "  {'time_sample_batch': 0.0003699047450977657,\n",
       "   'time_algorithm_update': 0.011277846767061969,\n",
       "   'loss': 0.01593246366192407,\n",
       "   'time_step': 0.012356988318662897,\n",
       "   'init_value': -1.3130182027816772,\n",
       "   'ave_value': -1.3125903135421395,\n",
       "   'soft_opc': nan}),\n",
       " (75,\n",
       "  {'time_sample_batch': 0.0003860684124588229,\n",
       "   'time_algorithm_update': 0.011209532721513572,\n",
       "   'loss': 0.01572084084111743,\n",
       "   'time_step': 0.01228419109967545,\n",
       "   'init_value': -1.2322534322738647,\n",
       "   'ave_value': -1.2317938280528882,\n",
       "   'soft_opc': nan}),\n",
       " (76,\n",
       "  {'time_sample_batch': 0.0003647723818918105,\n",
       "   'time_algorithm_update': 0.01120554806753348,\n",
       "   'loss': 0.016316065878336814,\n",
       "   'time_step': 0.012274595738411297,\n",
       "   'init_value': -1.2567884922027588,\n",
       "   'ave_value': -1.2564129209234245,\n",
       "   'soft_opc': nan}),\n",
       " (77,\n",
       "  {'time_sample_batch': 0.00036357426131669287,\n",
       "   'time_algorithm_update': 0.01118790870278304,\n",
       "   'loss': 0.01623463530772598,\n",
       "   'time_step': 0.01223290916268025,\n",
       "   'init_value': -1.2873188257217407,\n",
       "   'ave_value': -1.2869476147637031,\n",
       "   'soft_opc': nan}),\n",
       " (78,\n",
       "  {'time_sample_batch': 0.00038513539053388577,\n",
       "   'time_algorithm_update': 0.011195831686507663,\n",
       "   'loss': 0.01633410734856297,\n",
       "   'time_step': 0.012256829705659847,\n",
       "   'init_value': -1.2125732898712158,\n",
       "   'ave_value': -1.2121865979504003,\n",
       "   'soft_opc': nan}),\n",
       " (79,\n",
       "  {'time_sample_batch': 0.0003841118124798455,\n",
       "   'time_algorithm_update': 0.011187373746217663,\n",
       "   'loss': 0.015697963395060147,\n",
       "   'time_step': 0.012258801288108646,\n",
       "   'init_value': -1.270081639289856,\n",
       "   'ave_value': -1.2696761126108886,\n",
       "   'soft_opc': nan}),\n",
       " (80,\n",
       "  {'time_sample_batch': 0.00037776042696084487,\n",
       "   'time_algorithm_update': 0.011220632324916054,\n",
       "   'loss': 0.016499009055236668,\n",
       "   'time_step': 0.01231038836012237,\n",
       "   'init_value': -1.2602238655090332,\n",
       "   'ave_value': -1.2597597510954082,\n",
       "   'soft_opc': nan}),\n",
       " (81,\n",
       "  {'time_sample_batch': 0.00038913110248736356,\n",
       "   'time_algorithm_update': 0.011320270877094345,\n",
       "   'loss': 0.016302833042298914,\n",
       "   'time_step': 0.012411280301060404,\n",
       "   'init_value': -1.2690223455429077,\n",
       "   'ave_value': -1.268485720436508,\n",
       "   'soft_opc': nan}),\n",
       " (82,\n",
       "  {'time_sample_batch': 0.00041254366168372194,\n",
       "   'time_algorithm_update': 0.011421029092442473,\n",
       "   'loss': 0.016619189123278623,\n",
       "   'time_step': 0.012518011621667411,\n",
       "   'init_value': -1.247281789779663,\n",
       "   'ave_value': -1.246725756072301,\n",
       "   'soft_opc': nan}),\n",
       " (83,\n",
       "  {'time_sample_batch': 0.00040798824281855554,\n",
       "   'time_algorithm_update': 0.011422617971441796,\n",
       "   'loss': 0.01642304026996507,\n",
       "   'time_step': 0.012507636142063246,\n",
       "   'init_value': -1.2681570053100586,\n",
       "   'ave_value': -1.267602028056938,\n",
       "   'soft_opc': nan}),\n",
       " (84,\n",
       "  {'time_sample_batch': 0.00038765127461968705,\n",
       "   'time_algorithm_update': 0.011505835194638011,\n",
       "   'loss': 0.01716360852780485,\n",
       "   'time_step': 0.012580761772019076,\n",
       "   'init_value': -1.2659777402877808,\n",
       "   'ave_value': -1.26550164105118,\n",
       "   'soft_opc': nan}),\n",
       " (85,\n",
       "  {'time_sample_batch': 0.0003904464375803626,\n",
       "   'time_algorithm_update': 0.011474361589666972,\n",
       "   'loss': 0.017145835661249123,\n",
       "   'time_step': 0.012533590734200115,\n",
       "   'init_value': -1.2997736930847168,\n",
       "   'ave_value': -1.2992603812986963,\n",
       "   'soft_opc': nan}),\n",
       " (86,\n",
       "  {'time_sample_batch': 0.00041339008449944376,\n",
       "   'time_algorithm_update': 0.01147538222976926,\n",
       "   'loss': 0.01723085610809842,\n",
       "   'time_step': 0.012569676674075802,\n",
       "   'init_value': -1.2896400690078735,\n",
       "   'ave_value': -1.289163794996955,\n",
       "   'soft_opc': nan}),\n",
       " (87,\n",
       "  {'time_sample_batch': 0.0003896845323729836,\n",
       "   'time_algorithm_update': 0.011469201071993488,\n",
       "   'loss': 0.016645839366646493,\n",
       "   'time_step': 0.012558177595964212,\n",
       "   'init_value': -1.2726812362670898,\n",
       "   'ave_value': -1.2721532845435082,\n",
       "   'soft_opc': nan}),\n",
       " (88,\n",
       "  {'time_sample_batch': 0.00038322298992499735,\n",
       "   'time_algorithm_update': 0.011456005158707115,\n",
       "   'loss': 0.017013987913170568,\n",
       "   'time_step': 0.012551283003764397,\n",
       "   'init_value': -1.3399386405944824,\n",
       "   'ave_value': -1.3393718315134622,\n",
       "   'soft_opc': nan}),\n",
       " (89,\n",
       "  {'time_sample_batch': 0.00038253033798622973,\n",
       "   'time_algorithm_update': 0.011511620108367487,\n",
       "   'loss': 0.01757732795776835,\n",
       "   'time_step': 0.01259404647432704,\n",
       "   'init_value': -1.2922395467758179,\n",
       "   'ave_value': -1.2916966213551797,\n",
       "   'soft_opc': nan}),\n",
       " (90,\n",
       "  {'time_sample_batch': 0.00038444350831679495,\n",
       "   'time_algorithm_update': 0.011479272197141956,\n",
       "   'loss': 0.01744351320156623,\n",
       "   'time_step': 0.012556438838060919,\n",
       "   'init_value': -1.3152589797973633,\n",
       "   'ave_value': -1.314684018944249,\n",
       "   'soft_opc': nan}),\n",
       " (91,\n",
       "  {'time_sample_batch': 0.00041059558284894124,\n",
       "   'time_algorithm_update': 0.011477566049419,\n",
       "   'loss': 0.018381834194248825,\n",
       "   'time_step': 0.012569761538600956,\n",
       "   'init_value': -1.3281701803207397,\n",
       "   'ave_value': -1.3276306936603273,\n",
       "   'soft_opc': nan}),\n",
       " (92,\n",
       "  {'time_sample_batch': 0.0004160908427226322,\n",
       "   'time_algorithm_update': 0.011498908675250333,\n",
       "   'loss': 0.017779817829800978,\n",
       "   'time_step': 0.012613473197857914,\n",
       "   'init_value': -1.296536922454834,\n",
       "   'ave_value': -1.2959997917112427,\n",
       "   'soft_opc': nan}),\n",
       " (93,\n",
       "  {'time_sample_batch': 0.00039280368311269017,\n",
       "   'time_algorithm_update': 0.01151518400646028,\n",
       "   'loss': 0.017527944546325076,\n",
       "   'time_step': 0.012626483207097614,\n",
       "   'init_value': -1.2722762823104858,\n",
       "   'ave_value': -1.271701763752853,\n",
       "   'soft_opc': nan}),\n",
       " (94,\n",
       "  {'time_sample_batch': 0.000389753471248234,\n",
       "   'time_algorithm_update': 0.011507501186739969,\n",
       "   'loss': 0.017462812902458998,\n",
       "   'time_step': 0.012605286915114075,\n",
       "   'init_value': -1.303606390953064,\n",
       "   'ave_value': -1.3030695321273307,\n",
       "   'soft_opc': nan}),\n",
       " (95,\n",
       "  {'time_sample_batch': 0.0003812483502717918,\n",
       "   'time_algorithm_update': 0.01155491004687476,\n",
       "   'loss': 0.017388913211297003,\n",
       "   'time_step': 0.012642123756429506,\n",
       "   'init_value': -1.2739723920822144,\n",
       "   'ave_value': -1.2734072897106885,\n",
       "   'soft_opc': nan}),\n",
       " (96,\n",
       "  {'time_sample_batch': 0.00039025956867130596,\n",
       "   'time_algorithm_update': 0.01143830764202605,\n",
       "   'loss': 0.017151054956247462,\n",
       "   'time_step': 0.01256078040439374,\n",
       "   'init_value': -1.2795838117599487,\n",
       "   'ave_value': -1.2790059942711485,\n",
       "   'soft_opc': nan}),\n",
       " (97,\n",
       "  {'time_sample_batch': 0.00039094161796500443,\n",
       "   'time_algorithm_update': 0.011482960540799931,\n",
       "   'loss': 0.01679308502885544,\n",
       "   'time_step': 0.012596381647277199,\n",
       "   'init_value': -1.2661212682724,\n",
       "   'ave_value': -1.2655365930553728,\n",
       "   'soft_opc': nan}),\n",
       " (98,\n",
       "  {'time_sample_batch': 0.00037866464394922903,\n",
       "   'time_algorithm_update': 0.011534214843702819,\n",
       "   'loss': 0.016933004028431387,\n",
       "   'time_step': 0.01262052578898333,\n",
       "   'init_value': -1.2810641527175903,\n",
       "   'ave_value': -1.2804994421078,\n",
       "   'soft_opc': nan}),\n",
       " (99,\n",
       "  {'time_sample_batch': 0.000393312534187958,\n",
       "   'time_algorithm_update': 0.011495847383730192,\n",
       "   'loss': 0.018008679714255023,\n",
       "   'time_step': 0.01260465952690058,\n",
       "   'init_value': -1.2670302391052246,\n",
       "   'ave_value': -1.2664396247129823,\n",
       "   'soft_opc': nan}),\n",
       " (100,\n",
       "  {'time_sample_batch': 0.0003767586721425145,\n",
       "   'time_algorithm_update': 0.011553301285205646,\n",
       "   'loss': 0.01729562495076955,\n",
       "   'time_step': 0.01263644972598609,\n",
       "   'init_value': -1.2745429277420044,\n",
       "   'ave_value': -1.2739250281759056,\n",
       "   'soft_opc': nan})]"
      ]
     },
     "execution_count": 11,
     "metadata": {},
     "output_type": "execute_result"
    }
   ],
   "source": [
    "from d3rlpy.ope import FQE\n",
    "# metrics to evaluate with\n",
    "from d3rlpy.metrics.scorer import soft_opc_scorer\n",
    "\n",
    "\n",
    "ope_dataset = get_dataset([i*2 for i in range(100)], path=\"collected_data/rl_deterministic.txt\") #change if you'd prefer different chunks\n",
    "ope_train_episodes, ope_test_episodes = train_test_split(ope_dataset, test_size=0.2)\n",
    "\n",
    "fqe = FQE(algo=model, action_scaler = action_scaler, use_gpu=False) #change this if you have one!\n",
    "fqe.fit(ope_train_episodes, eval_episodes=ope_test_episodes,\n",
    "        tensorboard_dir='runs',\n",
    "        n_epochs=100, n_steps_per_epoch=10000, #change if overfitting/underfitting\n",
    "        scorers={\n",
    "           'init_value': initial_state_value_estimation_scorer,\n",
    "            'ave_value': average_value_estimation_scorer,\n",
    "           'soft_opc': soft_opc_scorer(return_threshold=0)\n",
    "        })"
   ]
  },
  {
   "cell_type": "code",
   "execution_count": 12,
   "id": "5d639afd-476b-4844-9921-f001f81abf34",
   "metadata": {},
   "outputs": [
    {
     "name": "stdout",
     "output_type": "stream",
     "text": [
      "[ 0.00000000e+00  7.95731469e+08 -1.02189108e-01 -1.57999953e-02\n",
      " -9.60001342e-03  0.00000000e+00 -5.33423489e+00 -1.57091618e+00\n",
      " -2.03154890e-01 -2.08087043e-01  6.00000000e-01]\n",
      "Read chunk # 1 out of 10000\n",
      "[ 0.00000000e+00  7.95731469e+08  1.39310892e-01  1.82000047e-02\n",
      " -1.00013420e-04  0.00000000e+00 -5.33423489e+00 -1.57091618e+00\n",
      " -7.50230117e-02  3.69851546e-01 -6.00000000e-01]\n",
      "Read chunk # 3 out of 10000\n",
      "[ 0.00000000e+00  7.95731469e+08 -1.15389108e-01  1.64000047e-02\n",
      " -8.80001342e-03  0.00000000e+00 -5.33423489e+00 -1.57091618e+00\n",
      " -3.08831172e-01 -2.48178665e-01  6.00000000e-01]\n",
      "Read chunk # 5 out of 10000\n",
      "[ 0.00000000e+00  7.95731469e+08 -1.28589108e-01  1.20000047e-02\n",
      "  1.99998658e-03  0.00000000e+00 -5.33423489e+00 -1.57091618e+00\n",
      "  7.75212759e-03 -3.52719043e-01  6.00000000e-01]\n",
      "Read chunk # 7 out of 10000\n",
      "[ 0.00000000e+00  7.95731469e+08 -1.03989108e-01  7.00000469e-03\n",
      " -8.60001342e-03  0.00000000e+00 -5.33423489e+00 -1.57091618e+00\n",
      " -2.65974295e-01 -2.19295880e-01  6.00000000e-01]\n",
      "Read chunk # 9 out of 10000\n",
      "[ 0.00000000e+00  7.95731469e+08  8.71108923e-02 -7.19999531e-03\n",
      " -3.40001342e-03  0.00000000e+00 -5.33423489e+00 -1.57091618e+00\n",
      " -6.55821993e-02  2.52964736e-01 -6.00000000e-01]\n",
      "Read chunk # 11 out of 10000\n",
      "[ 0.00000000e+00  7.95731469e+08 -1.17489108e-01  1.58000047e-02\n",
      " -7.10001342e-03  0.00000000e+00 -5.33423489e+00 -1.57091618e+00\n",
      " -2.59366206e-01 -2.64692909e-01  6.00000000e-01]\n",
      "Read chunk # 13 out of 10000\n",
      "[ 0.00000000e+00  7.95731469e+08  9.41089229e-03 -1.31999953e-02\n",
      " -4.50001342e-03  0.00000000e+00 -5.33423489e+00 -1.57091618e+00\n",
      " -7.22278505e-02  5.44097379e-02 -1.31162976e-01]\n",
      "Read chunk # 15 out of 10000\n",
      "[ 0.00000000e+00  7.95731469e+08 -1.30689108e-01  3.00000469e-03\n",
      "  3.59998658e-03  0.00000000e+00 -5.33423489e+00 -1.57091618e+00\n",
      "  8.77952413e-02 -3.68588800e-01  6.00000000e-01]\n",
      "Read chunk # 17 out of 10000\n",
      "[ 0.00000000e+00  7.95731469e+08  6.79108923e-02 -1.31999953e-02\n",
      "  9.99865802e-05  0.00000000e+00 -5.33423489e+00 -1.57091618e+00\n",
      "  5.51731698e-02  1.79592076e-01 -6.00000000e-01]\n",
      "Read chunk # 19 out of 10000\n",
      "[ 0.00000000e+00  7.95731469e+08  4.99108923e-02  8.00000469e-03\n",
      " -6.00001342e-03  0.00000000e+00 -5.33423489e+00 -1.57091618e+00\n",
      " -1.97934991e-01  1.71266197e-01 -4.36741593e-01]\n",
      "Read chunk # 21 out of 10000\n",
      "[ 0.00000000e+00  7.95731469e+08  7.21108923e-02 -2.99999531e-03\n",
      "  7.29998658e-03  0.00000000e+00 -5.33423489e+00 -1.57091618e+00\n",
      "  2.14089785e-01  1.44304883e-01 -6.00000000e-01]\n",
      "Read chunk # 23 out of 10000\n",
      "[ 0.00000000e+00  7.95731469e+08  3.64108923e-02  1.38000047e-02\n",
      "  4.99986580e-04  0.00000000e+00 -5.33423489e+00 -1.57091618e+00\n",
      " -4.09376264e-02  9.36447903e-02 -2.93420021e-01]\n",
      "Read chunk # 25 out of 10000\n",
      "[ 0.00000000e+00  7.95731469e+08 -1.22289108e-01  5.80000469e-03\n",
      " -8.00001342e-03  0.00000000e+00 -5.33423489e+00 -1.57091618e+00\n",
      " -2.44592808e-01 -2.71596420e-01  6.00000000e-01]\n",
      "Read chunk # 27 out of 10000\n",
      "[ 0.00000000e+00  7.95731469e+08 -4.30891077e-02 -1.49999953e-02\n",
      "  2.29998658e-03  0.00000000e+00 -5.33423489e+00 -1.57091618e+00\n",
      "  1.23250036e-01 -1.28364309e-01  3.47714431e-01]\n",
      "Read chunk # 29 out of 10000\n",
      "[ 0.00000000e+00  7.95731469e+08  1.29110892e-01 -8.59999531e-03\n",
      "  5.39998658e-03  0.00000000e+00 -5.33423489e+00 -1.57091618e+00\n",
      "  1.83699447e-01  3.07408945e-01 -6.00000000e-01]\n",
      "Read chunk # 31 out of 10000\n",
      "[ 0.00000000e+00  7.95731469e+08 -3.70891077e-02  2.60000469e-03\n",
      "  6.09998658e-03  0.00000000e+00 -5.33423489e+00 -1.57091618e+00\n",
      "  1.58622914e-01 -1.36974963e-01  3.49037588e-01]\n",
      "Read chunk # 33 out of 10000\n",
      "[ 0.00000000e+00  7.95731469e+08  1.30610892e-01 -1.95999953e-02\n",
      " -3.00001342e-03  0.00000000e+00 -5.33423489e+00 -1.57091618e+00\n",
      " -5.27624201e-03  3.65515868e-01 -6.00000000e-01]\n",
      "Read chunk # 35 out of 10000\n",
      "[ 0.00000000e+00  7.95731469e+08  1.13510892e-01 -1.65999953e-02\n",
      " -6.30001342e-03  0.00000000e+00 -5.33423489e+00 -1.57091618e+00\n",
      " -1.08582531e-01  3.41526319e-01 -6.00000000e-01]\n",
      "Read chunk # 37 out of 10000\n",
      "[ 0.00000000e+00  7.95731469e+08 -1.23489108e-01 -1.99995308e-04\n",
      " -5.50001342e-03  0.00000000e+00 -5.33423489e+00 -1.57091618e+00\n",
      " -1.51533313e-01 -2.90884584e-01  6.00000000e-01]\n",
      "Read chunk # 39 out of 10000\n",
      "[ 0.00000000e+00  7.95731469e+08  9.04108923e-02 -1.37999953e-02\n",
      "  5.09998658e-03  0.00000000e+00 -5.33423489e+00 -1.57091618e+00\n",
      "  1.96034521e-01  2.06917224e-01 -6.00000000e-01]\n",
      "Read chunk # 41 out of 10000\n",
      "[ 0.00000000e+00  7.95731469e+08 -1.15891077e-02  4.20000469e-03\n",
      " -3.40001342e-03  0.00000000e+00 -5.33423489e+00 -1.57091618e+00\n",
      " -1.10839839e-01 -8.25918244e-03  1.18778560e-01]\n",
      "Read chunk # 43 out of 10000\n",
      "[ 0.00000000e+00  7.95731469e+08  6.71089229e-03 -3.79999531e-03\n",
      "  9.99986580e-04  0.00000000e+00 -5.33423489e+00 -1.57091618e+00\n",
      "  4.27817538e-02  1.18169789e-02 -7.59457739e-02]\n",
      "Read chunk # 45 out of 10000\n",
      "[ 0.00000000e+00  7.95731469e+08 -6.22891077e-02  8.00000469e-03\n",
      "  1.59998658e-03  0.00000000e+00 -5.33423489e+00 -1.57091618e+00\n",
      "  1.25536515e-02 -1.74668491e-01  5.99084094e-01]\n",
      "Read chunk # 47 out of 10000\n",
      "[ 0.00000000e+00  7.95731469e+08 -1.90891077e-02  1.40000469e-03\n",
      "  5.89998658e-03  0.00000000e+00 -5.33423489e+00 -1.57091618e+00\n",
      "  1.57847701e-01 -8.80463676e-02  1.78995419e-01]\n",
      "Read chunk # 49 out of 10000\n",
      "[ 0.00000000e+00  7.95731469e+08 -5.02891077e-02 -5.79999531e-03\n",
      "  3.89998658e-03  0.00000000e+00 -5.33423489e+00 -1.57091618e+00\n",
      "  1.31039725e-01 -1.57731958e-01  4.43830956e-01]\n",
      "Read chunk # 51 out of 10000\n",
      "[ 0.00000000e+00  7.95731469e+08  6.01108923e-02 -1.93999953e-02\n",
      " -1.40001342e-03  0.00000000e+00 -5.33423489e+00 -1.57091618e+00\n",
      "  3.82431627e-02  1.68615554e-01 -6.00000000e-01]\n",
      "Read chunk # 53 out of 10000\n",
      "[ 0.00000000e+00  7.95731469e+08  3.91108923e-02 -2.39999531e-03\n",
      "  2.89998658e-03  0.00000000e+00 -5.33423489e+00 -1.57091618e+00\n",
      "  8.98459587e-02  8.53230319e-02 -3.70549800e-01]\n",
      "Read chunk # 55 out of 10000\n",
      "[ 0.00000000e+00  7.95731469e+08 -1.23189108e-01 -1.55999953e-02\n",
      "  8.59998658e-03  0.00000000e+00 -5.33423489e+00 -1.57091618e+00\n",
      "  3.00116023e-01 -3.80963336e-01  6.00000000e-01]\n",
      "Read chunk # 57 out of 10000\n",
      "[ 0.00000000e+00  7.95731469e+08 -3.85891077e-02  6.00004692e-04\n",
      "  2.59998658e-03  0.00000000e+00 -5.33423489e+00 -1.57091618e+00\n",
      "  6.96272914e-02 -1.18387867e-01  3.56440650e-01]\n",
      "Read chunk # 59 out of 10000\n",
      "[ 0.00000000e+00  7.95731469e+08  1.63108923e-02 -1.95999953e-02\n",
      "  8.19998658e-03  0.00000000e+00 -5.33423489e+00 -1.57091618e+00\n",
      "  3.04917547e-01 -9.17832813e-03 -2.15487088e-01]\n",
      "Read chunk # 61 out of 10000\n",
      "[ 0.00000000e+00  7.95731469e+08 -1.38189108e-01 -3.99995308e-04\n",
      "  1.99998658e-03  0.00000000e+00 -5.33423489e+00 -1.57091618e+00\n",
      "  5.69797353e-02 -3.78126841e-01  6.00000000e-01]\n",
      "Read chunk # 63 out of 10000\n",
      "[ 0.00000000e+00  7.95731469e+08 -4.27891077e-02  1.38000047e-02\n",
      "  8.19998658e-03  0.00000000e+00 -5.33423489e+00 -1.57091618e+00\n",
      "  1.72320603e-01 -1.65595082e-01  4.37751053e-01]\n",
      "Read chunk # 65 out of 10000\n",
      "[ 0.00000000e+00  7.95731469e+08  7.81108923e-02  1.74000047e-02\n",
      " -2.80001342e-03  0.00000000e+00 -5.33423489e+00 -1.57091618e+00\n",
      " -1.46625897e-01  2.25278000e-01 -6.00000000e-01]\n",
      "Read chunk # 67 out of 10000\n",
      "[ 0.00000000e+00  7.95731469e+08 -1.01589108e-01 -9.99995308e-04\n",
      " -8.00001342e-03  0.00000000e+00 -5.33423489e+00 -1.57091618e+00\n",
      " -2.17597024e-01 -2.16810856e-01  6.00000000e-01]\n",
      "Read chunk # 69 out of 10000\n",
      "[ 0.00000000e+00  7.95731469e+08 -8.41891077e-02 -1.47999953e-02\n",
      "  6.19998658e-03  0.00000000e+00 -5.33423489e+00 -1.57091618e+00\n",
      "  2.30469951e-01 -2.62276457e-01  6.00000000e-01]\n",
      "Read chunk # 71 out of 10000\n",
      "[ 0.00000000e+00  7.95731469e+08  6.55108923e-02  1.06000047e-02\n",
      "  1.79998658e-03  0.00000000e+00 -5.33423489e+00 -1.57091618e+00\n",
      "  7.77090851e-03  1.62283838e-01 -5.72381800e-01]\n",
      "Read chunk # 73 out of 10000\n",
      "[ 0.00000000e+00  7.95731469e+08 -8.62891077e-02  1.08000047e-02\n",
      "  2.49998658e-03  0.00000000e+00 -5.33423489e+00 -1.57091618e+00\n",
      "  2.63640266e-02 -2.43988373e-01  6.00000000e-01]\n",
      "Read chunk # 75 out of 10000\n",
      "[ 0.00000000e+00  7.95731469e+08  1.34210892e-01 -4.19999531e-03\n",
      "  6.79998658e-03  0.00000000e+00 -5.33423489e+00 -1.57091618e+00\n",
      "  2.05005810e-01  3.11884011e-01 -6.00000000e-01]\n",
      "Read chunk # 77 out of 10000\n",
      "[ 0.00000000e+00  7.95731469e+08 -1.27089108e-01  1.48000047e-02\n",
      " -2.70001342e-03  0.00000000e+00 -5.33423489e+00 -1.57091618e+00\n",
      " -1.33534392e-01 -3.18458160e-01  6.00000000e-01]\n",
      "Read chunk # 79 out of 10000\n",
      "[ 0.00000000e+00  7.95731469e+08 -6.18910771e-03 -1.21999953e-02\n",
      "  6.19998658e-03  0.00000000e+00 -5.33423489e+00 -1.57091618e+00\n",
      "  2.20148033e-01 -5.58381024e-02  1.60780066e-02]\n",
      "Read chunk # 81 out of 10000\n",
      "[ 0.00000000e+00  7.95731469e+08 -1.40289108e-01 -7.99995308e-04\n",
      " -7.00001342e-03  0.00000000e+00 -5.33423489e+00 -1.57091618e+00\n",
      " -1.90695143e-01 -3.25680916e-01  6.00000000e-01]\n",
      "Read chunk # 83 out of 10000\n",
      "[ 0.00000000e+00  7.95731469e+08 -8.26891077e-02  1.42000047e-02\n",
      " -8.20001342e-03  0.00000000e+00 -5.33423489e+00 -1.57091618e+00\n",
      " -2.83479718e-01 -1.65500280e-01  6.00000000e-01]\n",
      "Read chunk # 85 out of 10000\n",
      "[ 0.00000000e+00  7.95731469e+08  7.60108923e-02 -6.39999531e-03\n",
      "  6.89998658e-03  0.00000000e+00 -5.33423489e+00 -1.57091618e+00\n",
      "  2.16509328e-01  1.57204751e-01 -6.00000000e-01]\n",
      "Read chunk # 87 out of 10000\n",
      "[ 0.00000000e+00  7.95731469e+08  7.84108923e-02  1.40000047e-02\n",
      "  8.19998658e-03  0.00000000e+00 -5.33423489e+00 -1.57091618e+00\n",
      "  1.71526610e-01  1.55178362e-01 -6.00000000e-01]\n",
      "Read chunk # 89 out of 10000\n",
      "[ 0.00000000e+00  7.95731469e+08 -1.25889108e-01 -1.89999953e-02\n",
      " -7.60001342e-03  0.00000000e+00 -5.33423489e+00 -1.57091618e+00\n",
      " -1.35059243e-01 -2.83702294e-01  6.00000000e-01]\n",
      "Read chunk # 91 out of 10000\n",
      "[ 0.00000000e+00  7.95731469e+08  1.99108923e-02 -1.81999953e-02\n",
      "  5.29998658e-03  0.00000000e+00 -5.33423489e+00 -1.57091618e+00\n",
      "  2.19041556e-01  1.90397353e-02 -2.44210724e-01]\n",
      "Read chunk # 93 out of 10000\n",
      "[ 0.00000000e+00  7.95731469e+08  1.54108923e-02 -3.99995308e-04\n",
      " -2.60001342e-03  0.00000000e+00 -5.33423489e+00 -1.57091618e+00\n",
      " -7.04212850e-02  5.80443476e-02 -1.45307520e-01]\n",
      "Read chunk # 95 out of 10000\n",
      "[ 0.00000000e+00  7.95731469e+08  6.55108923e-02  9.60000469e-03\n",
      "  6.89998658e-03  0.00000000e+00 -5.33423489e+00 -1.57091618e+00\n",
      "  1.52989834e-01  1.29414973e-01 -5.75604237e-01]\n",
      "Read chunk # 97 out of 10000\n",
      "[ 0.00000000e+00  7.95731469e+08  4.51108923e-02  4.60000469e-03\n",
      "  2.99986580e-04  0.00000000e+00 -5.33423489e+00 -1.57091618e+00\n",
      " -9.95309228e-03  1.17959582e-01 -4.03384483e-01]\n",
      "Read chunk # 99 out of 10000\n",
      "[ 0.00000000e+00  7.95731469e+08 -5.59891077e-02  1.24000047e-02\n",
      "  4.59998658e-03  0.00000000e+00 -5.33423489e+00 -1.57091618e+00\n",
      "  7.81734126e-02 -1.77329251e-01  5.55101485e-01]\n",
      "Read chunk # 101 out of 10000\n",
      "[ 0.00000000e+00  7.95731469e+08 -6.48910771e-03  1.26000047e-02\n",
      " -2.90001342e-03  0.00000000e+00 -5.33423489e+00 -1.57091618e+00\n",
      " -1.30339636e-01  2.01627219e-03  9.87640518e-02]\n",
      "Read chunk # 103 out of 10000\n",
      "[ 0.00000000e+00  7.95731469e+08  1.38110892e-01  1.10000047e-02\n",
      "  4.29998658e-03  0.00000000e+00 -5.33423489e+00 -1.57091618e+00\n",
      "  7.54226061e-02  3.38318118e-01 -6.00000000e-01]\n",
      "Read chunk # 105 out of 10000\n",
      "[ 0.00000000e+00  7.95731469e+08 -1.46289108e-01  5.80000469e-03\n",
      "  4.89998658e-03  0.00000000e+00 -5.33423489e+00 -1.57091618e+00\n",
      "  1.12683966e-01 -4.18254809e-01  6.00000000e-01]\n",
      "Read chunk # 107 out of 10000\n",
      "[ 0.00000000e+00  7.95731469e+08 -1.01589108e-01 -9.99995308e-04\n",
      "  6.49998658e-03  0.00000000e+00 -5.33423489e+00 -1.57091618e+00\n",
      "  1.83993149e-01 -3.10261553e-01  6.00000000e-01]\n",
      "Read chunk # 109 out of 10000\n",
      "[ 0.00000000e+00  7.95731469e+08 -5.50891077e-02  1.34000047e-02\n",
      "  5.89998658e-03  0.00000000e+00 -5.33423489e+00 -1.57091618e+00\n",
      "  1.10208080e-01 -1.83325608e-01  5.50015161e-01]\n",
      "Read chunk # 111 out of 10000\n",
      "[ 0.00000000e+00  7.95731469e+08  1.30108923e-02 -1.59999531e-03\n",
      "  6.99986580e-04  0.00000000e+00 -5.33423489e+00 -1.57091618e+00\n",
      "  2.57390612e-02  3.04243087e-02 -1.27017746e-01]\n",
      "Read chunk # 113 out of 10000\n",
      "[ 0.00000000e+00  7.95731469e+08 -4.36891077e-02  4.40000469e-03\n",
      " -4.90001342e-03  0.00000000e+00 -5.33423489e+00 -1.57091618e+00\n",
      " -1.53177643e-01 -8.35491920e-02  4.15768899e-01]\n",
      "Read chunk # 115 out of 10000\n",
      "[ 0.00000000e+00  7.95731469e+08 -2.29891077e-02 -1.43999953e-02\n",
      "  8.29998658e-03  0.00000000e+00 -5.33423489e+00 -1.57091618e+00\n",
      "  2.87043299e-01 -1.13835987e-01  1.64085538e-01]\n",
      "Read chunk # 117 out of 10000\n",
      "[ 0.00000000e+00  7.95731469e+08 -1.34889108e-01 -1.41999953e-02\n",
      "  5.19998658e-03  0.00000000e+00 -5.33423489e+00 -1.57091618e+00\n",
      "  2.00392096e-01 -3.90016512e-01  6.00000000e-01]\n",
      "Read chunk # 119 out of 10000\n",
      "[ 0.00000000e+00  7.95731469e+08 -3.85891077e-02  3.80000469e-03\n",
      " -3.00001342e-03  0.00000000e+00 -5.33423489e+00 -1.57091618e+00\n",
      " -9.81735018e-02 -8.22965633e-02  3.66752451e-01]\n",
      "Read chunk # 121 out of 10000\n",
      "[ 0.00000000e+00  7.95731469e+08  1.23710892e-01  1.58000047e-02\n",
      " -7.30001342e-03  0.00000000e+00 -5.33423489e+00 -1.57091618e+00\n",
      " -2.64905380e-01  3.74966979e-01 -6.00000000e-01]\n",
      "Read chunk # 123 out of 10000\n",
      "[ 0.00000000e+00  7.95731469e+08 -1.36689108e-01 -1.87999953e-02\n",
      " -3.40001342e-03  0.00000000e+00 -5.33423489e+00 -1.57091618e+00\n",
      " -1.95305663e-02 -3.39354544e-01  6.00000000e-01]\n",
      "Read chunk # 125 out of 10000\n",
      "[ 0.00000000e+00  7.95731469e+08 -7.27891077e-02  2.00000047e-02\n",
      " -4.70001342e-03  0.00000000e+00 -5.33423489e+00 -1.57091618e+00\n",
      " -2.09569975e-01 -1.61855553e-01  6.00000000e-01]\n",
      "Read chunk # 127 out of 10000\n",
      "[ 0.00000000e+00  7.95731469e+08  1.37810892e-01 -7.99995308e-04\n",
      " -6.00013420e-04  0.00000000e+00 -5.33423489e+00 -1.57091618e+00\n",
      " -1.34415497e-02  3.69104015e-01 -6.00000000e-01]\n",
      "Read chunk # 129 out of 10000\n",
      "[ 0.00000000e+00  7.95731469e+08  1.07210892e-01  1.60000469e-03\n",
      "  3.79998658e-03  0.00000000e+00 -5.33423489e+00 -1.57091618e+00\n",
      "  9.88923718e-02  2.59759208e-01 -6.00000000e-01]\n",
      "Read chunk # 131 out of 10000\n",
      "[ 0.00000000e+00  7.95731469e+08  7.57108923e-02  7.00000469e-03\n",
      " -4.00013420e-04  0.00000000e+00 -5.33423489e+00 -1.57091618e+00\n",
      " -3.88681282e-02  2.03458350e-01 -6.00000000e-01]\n",
      "Read chunk # 133 out of 10000\n",
      "[ 0.00000000e+00  7.95731469e+08 -6.70891077e-02  2.60000469e-03\n",
      "  7.39998658e-03  0.00000000e+00 -5.33423489e+00 -1.57091618e+00\n",
      "  1.94627550e-01 -2.24752669e-01  6.00000000e-01]\n",
      "Read chunk # 135 out of 10000\n",
      "[ 0.00000000e+00  7.95731469e+08  1.06610892e-01 -3.79999531e-03\n",
      "  9.99865802e-05  0.00000000e+00 -5.33423489e+00 -1.57091618e+00\n",
      "  1.78554672e-02  2.82017260e-01 -6.00000000e-01]\n",
      "Read chunk # 137 out of 10000\n",
      "[ 0.00000000e+00  7.95731469e+08 -1.05489108e-01 -1.57999953e-02\n",
      " -5.00001342e-03  0.00000000e+00 -5.33423489e+00 -1.57091618e+00\n",
      " -7.57538698e-02 -2.46467401e-01  6.00000000e-01]\n",
      "Read chunk # 139 out of 10000\n",
      "[ 0.00000000e+00  7.95731469e+08 -2.71891077e-02  8.40000469e-03\n",
      "  6.19998658e-03  0.00000000e+00 -5.33423489e+00 -1.57091618e+00\n",
      "  1.38366684e-01 -1.11417659e-01  2.76331344e-01]\n",
      "Read chunk # 141 out of 10000\n",
      "[ 0.00000000e+00  7.95731469e+08  3.13108923e-02  7.80000469e-03\n",
      " -3.10001342e-03  0.00000000e+00 -5.33423489e+00 -1.57091618e+00\n",
      " -1.16822963e-01  1.03348450e-01 -2.65671662e-01]\n",
      "Read chunk # 143 out of 10000\n",
      "[ 0.00000000e+00  7.95731469e+08 -2.59891077e-02 -5.19999531e-03\n",
      "  4.99986580e-04  0.00000000e+00 -5.33423489e+00 -1.57091618e+00\n",
      "  3.44917725e-02 -7.15058937e-02  2.21427840e-01]\n",
      "Read chunk # 145 out of 10000\n",
      "[ 0.00000000e+00  7.95731469e+08  1.34510892e-01 -1.45999953e-02\n",
      "  3.39998658e-03  0.00000000e+00 -5.33423489e+00 -1.57091618e+00\n",
      "  1.52127510e-01  3.34590582e-01 -6.00000000e-01]\n",
      "Read chunk # 147 out of 10000\n",
      "[ 0.00000000e+00  7.95731469e+08 -6.58891077e-02 -3.19999531e-03\n",
      "  4.29998658e-03  0.00000000e+00 -5.33423489e+00 -1.57091618e+00\n",
      "  1.31796157e-01 -2.01597580e-01  5.96227839e-01]\n",
      "Read chunk # 149 out of 10000\n",
      "[ 0.00000000e+00  7.95731469e+08  6.70108923e-02 -1.79999531e-03\n",
      "  8.29998658e-03  0.00000000e+00 -5.33423489e+00 -1.57091618e+00\n",
      "  2.37021697e-01  1.24362115e-01 -6.00000000e-01]\n",
      "Read chunk # 151 out of 10000\n",
      "[ 0.00000000e+00  7.95731469e+08  8.05108923e-02  1.78000047e-02\n",
      "  9.99986580e-04  0.00000000e+00 -5.33423489e+00 -1.57091618e+00\n",
      " -4.29695629e-02  2.07139422e-01 -6.00000000e-01]\n",
      "Read chunk # 153 out of 10000\n",
      "[ 0.00000000e+00  7.95731469e+08  1.39610892e-01 -1.79999953e-02\n",
      "  6.99998658e-03  0.00000000e+00 -5.33423489e+00 -1.57091618e+00\n",
      "  2.65330549e-01  3.24886922e-01 -6.00000000e-01]\n",
      "Read chunk # 155 out of 10000\n",
      "[ 0.00000000e+00  7.95731469e+08  1.06108923e-02 -3.59999531e-03\n",
      " -2.40001342e-03  0.00000000e+00 -5.33423489e+00 -1.57091618e+00\n",
      " -5.21782115e-02  4.40514737e-02 -1.11305922e-01]\n",
      "Read chunk # 157 out of 10000\n",
      "[ 0.00000000e+00  7.95731469e+08  1.12010892e-01  1.62000047e-02\n",
      " -2.80001342e-03  0.00000000e+00 -5.33423489e+00 -1.57091618e+00\n",
      " -1.41861935e-01  3.14999286e-01 -6.00000000e-01]\n",
      "Read chunk # 159 out of 10000\n",
      "[ 0.00000000e+00  7.95731469e+08  3.37108923e-02 -2.99999531e-03\n",
      " -5.90001342e-03  0.00000000e+00 -5.33423489e+00 -1.57091618e+00\n",
      " -1.51495751e-01  1.27746051e-01 -3.22630690e-01]\n",
      "Read chunk # 161 out of 10000\n",
      "[ 0.00000000e+00  7.95731469e+08 -1.39389108e-01  4.00004692e-04\n",
      " -8.40001342e-03  0.00000000e+00 -5.33423489e+00 -1.57091618e+00\n",
      " -2.34233329e-01 -3.14276109e-01  6.00000000e-01]\n",
      "Read chunk # 163 out of 10000\n",
      "[ 0.00000000e+00  7.95731469e+08 -8.59891077e-02  1.18000047e-02\n",
      "  6.59998658e-03  0.00000000e+00 -5.33423489e+00 -1.57091618e+00\n",
      "  1.35947142e-01 -2.69618370e-01  6.00000000e-01]\n",
      "Read chunk # 165 out of 10000\n",
      "[ 0.00000000e+00  7.95731469e+08 -1.08789108e-01 -5.59999531e-03\n",
      " -6.40001342e-03  0.00000000e+00 -5.33423489e+00 -1.57091618e+00\n",
      " -1.55021771e-01 -2.46178506e-01  6.00000000e-01]\n",
      "Read chunk # 167 out of 10000\n",
      "[ 0.00000000e+00  7.95731469e+08  6.71089229e-03 -1.21999953e-02\n",
      " -3.00001342e-03  0.00000000e+00 -5.33423489e+00 -1.57091618e+00\n",
      " -3.46540079e-02  3.75964814e-02 -1.03014252e-01]\n",
      "Read chunk # 169 out of 10000\n",
      "[ 0.00000000e+00  7.95731469e+08  4.57108923e-02  2.00004692e-04\n",
      " -2.40001342e-03  0.00000000e+00 -5.33423489e+00 -1.57091618e+00\n",
      " -6.72640913e-02  1.36948733e-01 -4.23102384e-01]\n",
      "Read chunk # 171 out of 10000\n",
      "[ 0.00000000e+00  7.95731469e+08  3.07108923e-02 -3.99999531e-03\n",
      " -4.60001342e-03  0.00000000e+00 -5.33423489e+00 -1.57091618e+00\n",
      " -1.11521147e-01  1.11427776e-01 -2.98157253e-01]\n",
      "Read chunk # 173 out of 10000\n",
      "[ 0.00000000e+00  7.95731469e+08  9.31108923e-02  4.60000469e-03\n",
      " -9.50001342e-03  0.00000000e+00 -5.33423489e+00 -1.57091618e+00\n",
      " -2.81372657e-01  3.08158351e-01 -6.00000000e-01]\n",
      "Read chunk # 175 out of 10000\n",
      "[ 0.00000000e+00  7.95731469e+08  1.00610892e-01 -5.19999531e-03\n",
      " -8.10001342e-03  0.00000000e+00 -5.33423489e+00 -1.57091618e+00\n",
      " -2.03692744e-01  3.18985367e-01 -6.00000000e-01]\n",
      "Read chunk # 177 out of 10000\n",
      "[ 0.00000000e+00  7.95731469e+08  1.35110892e-01  4.80000469e-03\n",
      "  3.99986580e-04  0.00000000e+00 -5.33423489e+00 -1.57091618e+00\n",
      " -7.97749856e-03  3.55513196e-01 -6.00000000e-01]\n",
      "Read chunk # 179 out of 10000\n",
      "[ 0.00000000e+00  7.95731469e+08 -1.27891077e-02  1.00000469e-03\n",
      "  4.49998658e-03  0.00000000e+00 -5.33423489e+00 -1.57091618e+00\n",
      "  1.20661465e-01 -6.23496746e-02  1.19545109e-01]\n",
      "Read chunk # 181 out of 10000\n",
      "[ 0.00000000e+00  7.95731469e+08 -1.37589108e-01  5.60000469e-03\n",
      "  3.99986580e-04  0.00000000e+00 -5.33423489e+00 -1.57091618e+00\n",
      " -1.11534733e-02 -3.66227053e-01  6.00000000e-01]\n",
      "Read chunk # 183 out of 10000\n",
      "[ 0.00000000e+00  7.95731469e+08  1.31089229e-03  1.06000047e-02\n",
      "  8.09998658e-03  0.00000000e+00 -5.33423489e+00 -1.57091618e+00\n",
      "  1.82254915e-01 -4.82335242e-02  2.03099038e-02]\n",
      "Read chunk # 185 out of 10000\n",
      "[ 0.00000000e+00  7.95731469e+08 -5.41891077e-02  9.80000469e-03\n",
      " -7.10001342e-03  0.00000000e+00 -5.33423489e+00 -1.57091618e+00\n",
      " -2.35546395e-01 -9.71602442e-02  5.30105622e-01]\n",
      "Read chunk # 187 out of 10000\n",
      "[ 0.00000000e+00  7.95731469e+08  3.55108923e-02 -1.67999953e-02\n",
      "  3.29998658e-03  0.00000000e+00 -5.33423489e+00 -1.57091618e+00\n",
      "  1.58091853e-01  7.32171575e-02 -3.83717856e-01]\n",
      "Read chunk # 189 out of 10000\n",
      "[ 0.00000000e+00  7.95731469e+08 -8.80891077e-02 -1.25999953e-02\n",
      " -4.10001342e-03  0.00000000e+00 -5.33423489e+00 -1.57091618e+00\n",
      " -6.35314820e-02 -2.06216156e-01  6.00000000e-01]\n",
      "Read chunk # 191 out of 10000\n",
      "[ 0.00000000e+00  7.95731469e+08  8.86108923e-02 -1.93999953e-02\n",
      " -6.10001342e-03  0.00000000e+00 -5.33423489e+00 -1.57091618e+00\n",
      " -9.19274451e-02  2.74335869e-01 -6.00000000e-01]\n",
      "Read chunk # 193 out of 10000\n",
      "[ 0.00000000e+00  7.95731469e+08 -4.36891077e-02 -7.19999531e-03\n",
      "  9.79998658e-03  0.00000000e+00 -5.33423489e+00 -1.57091618e+00\n",
      "  3.00003337e-01 -1.78288864e-01  3.78388621e-01]\n",
      "Read chunk # 195 out of 10000\n",
      "[ 0.00000000e+00  7.95731469e+08  1.15610892e-01  3.80000469e-03\n",
      " -1.80001342e-03  0.00000000e+00 -5.33423489e+00 -1.57091618e+00\n",
      " -6.49384530e-02  3.18082334e-01 -6.00000000e-01]\n",
      "Read chunk # 197 out of 10000\n",
      "[ 0.00000000e+00  7.95731469e+08 -1.18891077e-02  1.26000047e-02\n",
      " -9.40001342e-03  0.00000000e+00 -5.33423489e+00 -1.57091618e+00\n",
      " -3.10362817e-01  2.96160777e-02  1.48616625e-01]\n",
      "Read chunk # 199 out of 10000\n",
      "torch.Size([2777000, 6])\n",
      "2022-04-08 10:15.31 [debug    ] RoundIterator is selected.\n",
      "2022-04-08 10:15.31 [info     ] Directory is created at d3rlpy_logs\\FQE_20220408101531\n",
      "2022-04-08 10:15.31 [debug    ] Fitting action scaler...       action_scaler=min_max\n",
      "2022-04-08 10:15.31 [debug    ] Building models...\n",
      "2022-04-08 10:15.31 [debug    ] Models have been built.\n",
      "2022-04-08 10:15.31 [info     ] Parameters are saved to d3rlpy_logs\\FQE_20220408101531\\params.json params={'action_scaler': {'type': 'min_max', 'params': {'minimum': array(-0.6), 'maximum': array(0.6)}}, 'batch_size': 100, 'encoder_factory': {'type': 'default', 'params': {'activation': 'relu', 'use_batch_norm': False, 'dropout_rate': None}}, 'gamma': 0.99, 'generated_maxlen': 100000, 'learning_rate': 0.0001, 'n_critics': 1, 'n_frames': 1, 'n_steps': 1, 'optim_factory': {'optim_cls': 'Adam', 'betas': (0.9, 0.999), 'eps': 1e-08, 'weight_decay': 0, 'amsgrad': False}, 'q_func_factory': {'type': 'mean', 'params': {'bootstrap': False, 'share_encoder': False}}, 'real_ratio': 1.0, 'reward_scaler': None, 'scaler': None, 'target_update_interval': 100, 'use_gpu': None, 'algorithm': 'FQE', 'observation_shape': (6,), 'action_size': 3}\n"
     ]
    },
    {
     "data": {
      "application/vnd.jupyter.widget-view+json": {
       "model_id": "c13c34b40df141279a313803f38c1ace",
       "version_major": 2,
       "version_minor": 0
      },
      "text/plain": [
       "Epoch 1/100:   0%|          | 0/21992 [00:00<?, ?it/s]"
      ]
     },
     "metadata": {},
     "output_type": "display_data"
    },
    {
     "name": "stderr",
     "output_type": "stream",
     "text": [
      "C:\\Users\\Aero\\AppData\\Local\\Packages\\PythonSoftwareFoundation.Python.3.10_qbz5n2kfra8p0\\LocalCache\\local-packages\\Python310\\site-packages\\numpy\\core\\fromnumeric.py:3474: RuntimeWarning: Mean of empty slice.\n",
      "  return _methods._mean(a, axis=axis, dtype=dtype,\n",
      "C:\\Users\\Aero\\AppData\\Local\\Packages\\PythonSoftwareFoundation.Python.3.10_qbz5n2kfra8p0\\LocalCache\\local-packages\\Python310\\site-packages\\numpy\\core\\_methods.py:189: RuntimeWarning: invalid value encountered in double_scalars\n",
      "  ret = ret.dtype.type(ret / rcount)\n",
      "WARNING:root:NaN or Inf found in input tensor.\n"
     ]
    },
    {
     "name": "stdout",
     "output_type": "stream",
     "text": [
      "2022-04-08 10:18.44 [info     ] FQE_20220408101531: epoch=1 step=21992 epoch=1 metrics={'time_sample_batch': 0.0004048699593708792, 'time_algorithm_update': 0.006098231745876369, 'loss': 0.008039890150641332, 'time_step': 0.007181064936844988, 'init_value': -1.154395341873169, 'ave_value': -1.1544075110241856, 'soft_opc': nan} step=21992\n"
     ]
    },
    {
     "name": "stderr",
     "output_type": "stream",
     "text": [
      "WARNING:root:NaN or Inf found in input tensor.\n"
     ]
    },
    {
     "name": "stdout",
     "output_type": "stream",
     "text": [
      "2022-04-08 10:18.44 [info     ] Model parameters are saved to d3rlpy_logs\\FQE_20220408101531\\model_21992.pt\n"
     ]
    },
    {
     "data": {
      "application/vnd.jupyter.widget-view+json": {
       "model_id": "3a7bb91389e74e38b7b528b9d4affc1c",
       "version_major": 2,
       "version_minor": 0
      },
      "text/plain": [
       "Epoch 2/100:   0%|          | 0/21992 [00:00<?, ?it/s]"
      ]
     },
     "metadata": {},
     "output_type": "display_data"
    },
    {
     "name": "stderr",
     "output_type": "stream",
     "text": [
      "WARNING:root:NaN or Inf found in input tensor.\n"
     ]
    },
    {
     "name": "stdout",
     "output_type": "stream",
     "text": [
      "2022-04-08 10:21.56 [info     ] FQE_20220408101531: epoch=2 step=43984 epoch=2 metrics={'time_sample_batch': 0.00037823652692082235, 'time_algorithm_update': 0.006257258098140202, 'loss': 0.013434912411280527, 'time_step': 0.007295431571251352, 'init_value': -1.180904746055603, 'ave_value': -1.1811056208214301, 'soft_opc': nan} step=43984\n"
     ]
    },
    {
     "name": "stderr",
     "output_type": "stream",
     "text": [
      "WARNING:root:NaN or Inf found in input tensor.\n"
     ]
    },
    {
     "name": "stdout",
     "output_type": "stream",
     "text": [
      "2022-04-08 10:21.56 [info     ] Model parameters are saved to d3rlpy_logs\\FQE_20220408101531\\model_43984.pt\n"
     ]
    },
    {
     "data": {
      "application/vnd.jupyter.widget-view+json": {
       "model_id": "1f832485f0d94a75858f15b99f766087",
       "version_major": 2,
       "version_minor": 0
      },
      "text/plain": [
       "Epoch 3/100:   0%|          | 0/21992 [00:00<?, ?it/s]"
      ]
     },
     "metadata": {},
     "output_type": "display_data"
    },
    {
     "name": "stderr",
     "output_type": "stream",
     "text": [
      "WARNING:root:NaN or Inf found in input tensor.\n"
     ]
    },
    {
     "name": "stdout",
     "output_type": "stream",
     "text": [
      "2022-04-08 10:25.22 [info     ] FQE_20220408101531: epoch=3 step=65976 epoch=3 metrics={'time_sample_batch': 0.00041217648276158705, 'time_algorithm_update': 0.006883125384966648, 'loss': 0.014252102441193727, 'time_step': 0.007972539425243157, 'init_value': -1.1604664325714111, 'ave_value': -1.1606499106798156, 'soft_opc': nan} step=65976\n"
     ]
    },
    {
     "name": "stderr",
     "output_type": "stream",
     "text": [
      "WARNING:root:NaN or Inf found in input tensor.\n"
     ]
    },
    {
     "name": "stdout",
     "output_type": "stream",
     "text": [
      "2022-04-08 10:25.22 [info     ] Model parameters are saved to d3rlpy_logs\\FQE_20220408101531\\model_65976.pt\n"
     ]
    },
    {
     "data": {
      "application/vnd.jupyter.widget-view+json": {
       "model_id": "ba397f8e2e2b4bdd8bd9c6254fb59464",
       "version_major": 2,
       "version_minor": 0
      },
      "text/plain": [
       "Epoch 4/100:   0%|          | 0/21992 [00:00<?, ?it/s]"
      ]
     },
     "metadata": {},
     "output_type": "display_data"
    },
    {
     "name": "stderr",
     "output_type": "stream",
     "text": [
      "WARNING:root:NaN or Inf found in input tensor.\n"
     ]
    },
    {
     "name": "stdout",
     "output_type": "stream",
     "text": [
      "2022-04-08 10:29.00 [info     ] FQE_20220408101531: epoch=4 step=87968 epoch=4 metrics={'time_sample_batch': 0.000401743122255555, 'time_algorithm_update': 0.007437083332180413, 'loss': 0.015185871014634358, 'time_step': 0.008545193673481114, 'init_value': -1.195298671722412, 'ave_value': -1.1952821628598946, 'soft_opc': nan} step=87968\n"
     ]
    },
    {
     "name": "stderr",
     "output_type": "stream",
     "text": [
      "WARNING:root:NaN or Inf found in input tensor.\n"
     ]
    },
    {
     "name": "stdout",
     "output_type": "stream",
     "text": [
      "2022-04-08 10:29.00 [info     ] Model parameters are saved to d3rlpy_logs\\FQE_20220408101531\\model_87968.pt\n"
     ]
    },
    {
     "data": {
      "application/vnd.jupyter.widget-view+json": {
       "model_id": "e394448dad99484ab0cef17e28c8733a",
       "version_major": 2,
       "version_minor": 0
      },
      "text/plain": [
       "Epoch 5/100:   0%|          | 0/21992 [00:00<?, ?it/s]"
      ]
     },
     "metadata": {},
     "output_type": "display_data"
    },
    {
     "name": "stderr",
     "output_type": "stream",
     "text": [
      "WARNING:root:NaN or Inf found in input tensor.\n"
     ]
    },
    {
     "name": "stdout",
     "output_type": "stream",
     "text": [
      "2022-04-08 10:32.50 [info     ] FQE_20220408101531: epoch=5 step=109960 epoch=5 metrics={'time_sample_batch': 0.0003641567238030238, 'time_algorithm_update': 0.008003419498913329, 'loss': 0.015308996614840115, 'time_step': 0.009047474599656472, 'init_value': -1.169339895248413, 'ave_value': -1.1693944027291105, 'soft_opc': nan} step=109960\n"
     ]
    },
    {
     "name": "stderr",
     "output_type": "stream",
     "text": [
      "WARNING:root:NaN or Inf found in input tensor.\n"
     ]
    },
    {
     "name": "stdout",
     "output_type": "stream",
     "text": [
      "2022-04-08 10:32.50 [info     ] Model parameters are saved to d3rlpy_logs\\FQE_20220408101531\\model_109960.pt\n"
     ]
    },
    {
     "data": {
      "application/vnd.jupyter.widget-view+json": {
       "model_id": "6a48a7b4efa4472a9954747f333ebe6e",
       "version_major": 2,
       "version_minor": 0
      },
      "text/plain": [
       "Epoch 6/100:   0%|          | 0/21992 [00:00<?, ?it/s]"
      ]
     },
     "metadata": {},
     "output_type": "display_data"
    },
    {
     "name": "stderr",
     "output_type": "stream",
     "text": [
      "WARNING:root:NaN or Inf found in input tensor.\n"
     ]
    },
    {
     "name": "stdout",
     "output_type": "stream",
     "text": [
      "2022-04-08 10:36.48 [info     ] FQE_20220408101531: epoch=6 step=131952 epoch=6 metrics={'time_sample_batch': 0.00035926935975444927, 'time_algorithm_update': 0.008394934667939054, 'loss': 0.014609038872071893, 'time_step': 0.009419298922204677, 'init_value': -1.138919472694397, 'ave_value': -1.138992706594444, 'soft_opc': nan} step=131952\n"
     ]
    },
    {
     "name": "stderr",
     "output_type": "stream",
     "text": [
      "WARNING:root:NaN or Inf found in input tensor.\n"
     ]
    },
    {
     "name": "stdout",
     "output_type": "stream",
     "text": [
      "2022-04-08 10:36.48 [info     ] Model parameters are saved to d3rlpy_logs\\FQE_20220408101531\\model_131952.pt\n"
     ]
    },
    {
     "data": {
      "application/vnd.jupyter.widget-view+json": {
       "model_id": "8b672785fbad445cae1af23e8191d08d",
       "version_major": 2,
       "version_minor": 0
      },
      "text/plain": [
       "Epoch 7/100:   0%|          | 0/21992 [00:00<?, ?it/s]"
      ]
     },
     "metadata": {},
     "output_type": "display_data"
    },
    {
     "name": "stderr",
     "output_type": "stream",
     "text": [
      "WARNING:root:NaN or Inf found in input tensor.\n"
     ]
    },
    {
     "name": "stdout",
     "output_type": "stream",
     "text": [
      "2022-04-08 10:40.53 [info     ] FQE_20220408101531: epoch=7 step=153944 epoch=7 metrics={'time_sample_batch': 0.0003800832843641751, 'time_algorithm_update': 0.008689667234077329, 'loss': 0.014428027205826493, 'time_step': 0.009751578240708552, 'init_value': -1.1590601205825806, 'ave_value': -1.1591620210023603, 'soft_opc': nan} step=153944\n"
     ]
    },
    {
     "name": "stderr",
     "output_type": "stream",
     "text": [
      "WARNING:root:NaN or Inf found in input tensor.\n"
     ]
    },
    {
     "name": "stdout",
     "output_type": "stream",
     "text": [
      "2022-04-08 10:40.53 [info     ] Model parameters are saved to d3rlpy_logs\\FQE_20220408101531\\model_153944.pt\n"
     ]
    },
    {
     "data": {
      "application/vnd.jupyter.widget-view+json": {
       "model_id": "e71fc24f9c7f41f0ac48504ed288a949",
       "version_major": 2,
       "version_minor": 0
      },
      "text/plain": [
       "Epoch 8/100:   0%|          | 0/21992 [00:00<?, ?it/s]"
      ]
     },
     "metadata": {},
     "output_type": "display_data"
    },
    {
     "name": "stderr",
     "output_type": "stream",
     "text": [
      "WARNING:root:NaN or Inf found in input tensor.\n"
     ]
    },
    {
     "name": "stdout",
     "output_type": "stream",
     "text": [
      "2022-04-08 10:45.02 [info     ] FQE_20220408101531: epoch=8 step=175936 epoch=8 metrics={'time_sample_batch': 0.0003831527392705513, 'time_algorithm_update': 0.008864249184418697, 'loss': 0.01323338779321702, 'time_step': 0.009893151934513745, 'init_value': -1.1980708837509155, 'ave_value': -1.1981059106975052, 'soft_opc': nan} step=175936\n"
     ]
    },
    {
     "name": "stderr",
     "output_type": "stream",
     "text": [
      "WARNING:root:NaN or Inf found in input tensor.\n"
     ]
    },
    {
     "name": "stdout",
     "output_type": "stream",
     "text": [
      "2022-04-08 10:45.02 [info     ] Model parameters are saved to d3rlpy_logs\\FQE_20220408101531\\model_175936.pt\n"
     ]
    },
    {
     "data": {
      "application/vnd.jupyter.widget-view+json": {
       "model_id": "ff69b5c4f885402b87062db481993fcb",
       "version_major": 2,
       "version_minor": 0
      },
      "text/plain": [
       "Epoch 9/100:   0%|          | 0/21992 [00:00<?, ?it/s]"
      ]
     },
     "metadata": {},
     "output_type": "display_data"
    },
    {
     "name": "stderr",
     "output_type": "stream",
     "text": [
      "WARNING:root:NaN or Inf found in input tensor.\n"
     ]
    },
    {
     "name": "stdout",
     "output_type": "stream",
     "text": [
      "2022-04-08 10:49.12 [info     ] FQE_20220408101531: epoch=9 step=197928 epoch=9 metrics={'time_sample_batch': 0.0004104103509535916, 'time_algorithm_update': 0.008907498143377544, 'loss': 0.014349795552355077, 'time_step': 0.009981999866916466, 'init_value': -1.1312906742095947, 'ave_value': -1.1312130914176615, 'soft_opc': nan} step=197928\n"
     ]
    },
    {
     "name": "stderr",
     "output_type": "stream",
     "text": [
      "WARNING:root:NaN or Inf found in input tensor.\n"
     ]
    },
    {
     "name": "stdout",
     "output_type": "stream",
     "text": [
      "2022-04-08 10:49.12 [info     ] Model parameters are saved to d3rlpy_logs\\FQE_20220408101531\\model_197928.pt\n"
     ]
    },
    {
     "data": {
      "application/vnd.jupyter.widget-view+json": {
       "model_id": "bd6a607eb2cf45b3b47f2e3f96bac1e4",
       "version_major": 2,
       "version_minor": 0
      },
      "text/plain": [
       "Epoch 10/100:   0%|          | 0/21992 [00:00<?, ?it/s]"
      ]
     },
     "metadata": {},
     "output_type": "display_data"
    },
    {
     "name": "stderr",
     "output_type": "stream",
     "text": [
      "WARNING:root:NaN or Inf found in input tensor.\n"
     ]
    },
    {
     "name": "stdout",
     "output_type": "stream",
     "text": [
      "2022-04-08 10:53.26 [info     ] FQE_20220408101531: epoch=10 step=219920 epoch=10 metrics={'time_sample_batch': 0.00037146658626804787, 'time_algorithm_update': 0.009101748000322233, 'loss': 0.014582610868446762, 'time_step': 0.010134937167818133, 'init_value': -1.2426053285598755, 'ave_value': -1.2426685256248935, 'soft_opc': nan} step=219920\n"
     ]
    },
    {
     "name": "stderr",
     "output_type": "stream",
     "text": [
      "WARNING:root:NaN or Inf found in input tensor.\n"
     ]
    },
    {
     "name": "stdout",
     "output_type": "stream",
     "text": [
      "2022-04-08 10:53.26 [info     ] Model parameters are saved to d3rlpy_logs\\FQE_20220408101531\\model_219920.pt\n"
     ]
    },
    {
     "data": {
      "application/vnd.jupyter.widget-view+json": {
       "model_id": "adc5a43c5a024cb7bad12cd6999b270e",
       "version_major": 2,
       "version_minor": 0
      },
      "text/plain": [
       "Epoch 11/100:   0%|          | 0/21992 [00:00<?, ?it/s]"
      ]
     },
     "metadata": {},
     "output_type": "display_data"
    },
    {
     "name": "stderr",
     "output_type": "stream",
     "text": [
      "WARNING:root:NaN or Inf found in input tensor.\n"
     ]
    },
    {
     "name": "stdout",
     "output_type": "stream",
     "text": [
      "2022-04-08 10:57.42 [info     ] FQE_20220408101531: epoch=11 step=241912 epoch=11 metrics={'time_sample_batch': 0.0003536223454577743, 'time_algorithm_update': 0.009227238056138455, 'loss': 0.014690146030782364, 'time_step': 0.010244167471157502, 'init_value': -1.1994329690933228, 'ave_value': -1.1994973462173737, 'soft_opc': nan} step=241912\n"
     ]
    },
    {
     "name": "stderr",
     "output_type": "stream",
     "text": [
      "WARNING:root:NaN or Inf found in input tensor.\n"
     ]
    },
    {
     "name": "stdout",
     "output_type": "stream",
     "text": [
      "2022-04-08 10:57.42 [info     ] Model parameters are saved to d3rlpy_logs\\FQE_20220408101531\\model_241912.pt\n"
     ]
    },
    {
     "data": {
      "application/vnd.jupyter.widget-view+json": {
       "model_id": "59d7c67176d54fbe839aacf20dd23909",
       "version_major": 2,
       "version_minor": 0
      },
      "text/plain": [
       "Epoch 12/100:   0%|          | 0/21992 [00:00<?, ?it/s]"
      ]
     },
     "metadata": {},
     "output_type": "display_data"
    },
    {
     "name": "stderr",
     "output_type": "stream",
     "text": [
      "WARNING:root:NaN or Inf found in input tensor.\n"
     ]
    },
    {
     "name": "stdout",
     "output_type": "stream",
     "text": [
      "2022-04-08 11:02.02 [info     ] FQE_20220408101531: epoch=12 step=263904 epoch=12 metrics={'time_sample_batch': 0.00039331907140163563, 'time_algorithm_update': 0.009351231339368963, 'loss': 0.013931506289044257, 'time_step': 0.010394558034059394, 'init_value': -1.215981125831604, 'ave_value': -1.216004924007886, 'soft_opc': nan} step=263904\n"
     ]
    },
    {
     "name": "stderr",
     "output_type": "stream",
     "text": [
      "WARNING:root:NaN or Inf found in input tensor.\n"
     ]
    },
    {
     "name": "stdout",
     "output_type": "stream",
     "text": [
      "2022-04-08 11:02.02 [info     ] Model parameters are saved to d3rlpy_logs\\FQE_20220408101531\\model_263904.pt\n"
     ]
    },
    {
     "data": {
      "application/vnd.jupyter.widget-view+json": {
       "model_id": "220e956633ab4a3e9479ccf65e7fe62c",
       "version_major": 2,
       "version_minor": 0
      },
      "text/plain": [
       "Epoch 13/100:   0%|          | 0/21992 [00:00<?, ?it/s]"
      ]
     },
     "metadata": {},
     "output_type": "display_data"
    },
    {
     "name": "stderr",
     "output_type": "stream",
     "text": [
      "WARNING:root:NaN or Inf found in input tensor.\n"
     ]
    },
    {
     "name": "stdout",
     "output_type": "stream",
     "text": [
      "2022-04-08 11:06.24 [info     ] FQE_20220408101531: epoch=13 step=285896 epoch=13 metrics={'time_sample_batch': 0.0003573706732007884, 'time_algorithm_update': 0.009499633776226578, 'loss': 0.015166496552072908, 'time_step': 0.010549570981612333, 'init_value': -1.227781057357788, 'ave_value': -1.2278013146218947, 'soft_opc': nan} step=285896\n"
     ]
    },
    {
     "name": "stderr",
     "output_type": "stream",
     "text": [
      "WARNING:root:NaN or Inf found in input tensor.\n"
     ]
    },
    {
     "name": "stdout",
     "output_type": "stream",
     "text": [
      "2022-04-08 11:06.24 [info     ] Model parameters are saved to d3rlpy_logs\\FQE_20220408101531\\model_285896.pt\n"
     ]
    },
    {
     "data": {
      "application/vnd.jupyter.widget-view+json": {
       "model_id": "13c175afdedd48529b45310168588114",
       "version_major": 2,
       "version_minor": 0
      },
      "text/plain": [
       "Epoch 14/100:   0%|          | 0/21992 [00:00<?, ?it/s]"
      ]
     },
     "metadata": {},
     "output_type": "display_data"
    },
    {
     "name": "stderr",
     "output_type": "stream",
     "text": [
      "WARNING:root:NaN or Inf found in input tensor.\n"
     ]
    },
    {
     "name": "stdout",
     "output_type": "stream",
     "text": [
      "2022-04-08 11:10.51 [info     ] FQE_20220408101531: epoch=14 step=307888 epoch=14 metrics={'time_sample_batch': 0.0003863673463393316, 'time_algorithm_update': 0.009680380384112845, 'loss': 0.014558229442230909, 'time_step': 0.010715630129060991, 'init_value': -1.246973991394043, 'ave_value': -1.2470047649558438, 'soft_opc': nan} step=307888\n"
     ]
    },
    {
     "name": "stderr",
     "output_type": "stream",
     "text": [
      "WARNING:root:NaN or Inf found in input tensor.\n"
     ]
    },
    {
     "name": "stdout",
     "output_type": "stream",
     "text": [
      "2022-04-08 11:10.51 [info     ] Model parameters are saved to d3rlpy_logs\\FQE_20220408101531\\model_307888.pt\n"
     ]
    },
    {
     "data": {
      "application/vnd.jupyter.widget-view+json": {
       "model_id": "d9e551e60d8249f7a636b94cb8dd3bfe",
       "version_major": 2,
       "version_minor": 0
      },
      "text/plain": [
       "Epoch 15/100:   0%|          | 0/21992 [00:00<?, ?it/s]"
      ]
     },
     "metadata": {},
     "output_type": "display_data"
    },
    {
     "name": "stderr",
     "output_type": "stream",
     "text": [
      "WARNING:root:NaN or Inf found in input tensor.\n"
     ]
    },
    {
     "name": "stdout",
     "output_type": "stream",
     "text": [
      "2022-04-08 11:15.20 [info     ] FQE_20220408101531: epoch=15 step=329880 epoch=15 metrics={'time_sample_batch': 0.00039508371797202933, 'time_algorithm_update': 0.009781392932848828, 'loss': 0.014838246528901422, 'time_step': 0.010849759031443564, 'init_value': -1.1998211145401, 'ave_value': -1.199792116111952, 'soft_opc': nan} step=329880\n"
     ]
    },
    {
     "name": "stderr",
     "output_type": "stream",
     "text": [
      "WARNING:root:NaN or Inf found in input tensor.\n"
     ]
    },
    {
     "name": "stdout",
     "output_type": "stream",
     "text": [
      "2022-04-08 11:15.21 [info     ] Model parameters are saved to d3rlpy_logs\\FQE_20220408101531\\model_329880.pt\n"
     ]
    },
    {
     "data": {
      "application/vnd.jupyter.widget-view+json": {
       "model_id": "979de4fe119d4ae0b9acf49fed77285b",
       "version_major": 2,
       "version_minor": 0
      },
      "text/plain": [
       "Epoch 16/100:   0%|          | 0/21992 [00:00<?, ?it/s]"
      ]
     },
     "metadata": {},
     "output_type": "display_data"
    },
    {
     "name": "stderr",
     "output_type": "stream",
     "text": [
      "WARNING:root:NaN or Inf found in input tensor.\n"
     ]
    },
    {
     "name": "stdout",
     "output_type": "stream",
     "text": [
      "2022-04-08 11:19.53 [info     ] FQE_20220408101531: epoch=16 step=351872 epoch=16 metrics={'time_sample_batch': 0.00036232762659363593, 'time_algorithm_update': 0.009918521679111203, 'loss': 0.014406733138312314, 'time_step': 0.010970824683696931, 'init_value': -1.1943985223770142, 'ave_value': -1.1944454668964195, 'soft_opc': nan} step=351872\n"
     ]
    },
    {
     "name": "stderr",
     "output_type": "stream",
     "text": [
      "WARNING:root:NaN or Inf found in input tensor.\n"
     ]
    },
    {
     "name": "stdout",
     "output_type": "stream",
     "text": [
      "2022-04-08 11:19.53 [info     ] Model parameters are saved to d3rlpy_logs\\FQE_20220408101531\\model_351872.pt\n"
     ]
    },
    {
     "data": {
      "application/vnd.jupyter.widget-view+json": {
       "model_id": "c8da3fe69b764cc9ba270876da559693",
       "version_major": 2,
       "version_minor": 0
      },
      "text/plain": [
       "Epoch 17/100:   0%|          | 0/21992 [00:00<?, ?it/s]"
      ]
     },
     "metadata": {},
     "output_type": "display_data"
    },
    {
     "name": "stderr",
     "output_type": "stream",
     "text": [
      "WARNING:root:NaN or Inf found in input tensor.\n"
     ]
    },
    {
     "name": "stdout",
     "output_type": "stream",
     "text": [
      "2022-04-08 11:24.26 [info     ] FQE_20220408101531: epoch=17 step=373864 epoch=17 metrics={'time_sample_batch': 0.0003744374409117409, 'time_algorithm_update': 0.00995922580811274, 'loss': 0.01428214350057523, 'time_step': 0.010988600592736375, 'init_value': -1.2051113843917847, 'ave_value': -1.205107509673067, 'soft_opc': nan} step=373864\n"
     ]
    },
    {
     "name": "stderr",
     "output_type": "stream",
     "text": [
      "WARNING:root:NaN or Inf found in input tensor.\n"
     ]
    },
    {
     "name": "stdout",
     "output_type": "stream",
     "text": [
      "2022-04-08 11:24.26 [info     ] Model parameters are saved to d3rlpy_logs\\FQE_20220408101531\\model_373864.pt\n"
     ]
    },
    {
     "data": {
      "application/vnd.jupyter.widget-view+json": {
       "model_id": "65edd8cdc192430e92863b0715f4d0d3",
       "version_major": 2,
       "version_minor": 0
      },
      "text/plain": [
       "Epoch 18/100:   0%|          | 0/21992 [00:00<?, ?it/s]"
      ]
     },
     "metadata": {},
     "output_type": "display_data"
    },
    {
     "name": "stderr",
     "output_type": "stream",
     "text": [
      "WARNING:root:NaN or Inf found in input tensor.\n"
     ]
    },
    {
     "name": "stdout",
     "output_type": "stream",
     "text": [
      "2022-04-08 11:29.00 [info     ] FQE_20220408101531: epoch=18 step=395856 epoch=18 metrics={'time_sample_batch': 0.00038203330376487333, 'time_algorithm_update': 0.009992525821687873, 'loss': 0.01538582366787415, 'time_step': 0.011040078787076859, 'init_value': -1.2083408832550049, 'ave_value': -1.2083175075438217, 'soft_opc': nan} step=395856\n"
     ]
    },
    {
     "name": "stderr",
     "output_type": "stream",
     "text": [
      "WARNING:root:NaN or Inf found in input tensor.\n"
     ]
    },
    {
     "name": "stdout",
     "output_type": "stream",
     "text": [
      "2022-04-08 11:29.00 [info     ] Model parameters are saved to d3rlpy_logs\\FQE_20220408101531\\model_395856.pt\n"
     ]
    },
    {
     "data": {
      "application/vnd.jupyter.widget-view+json": {
       "model_id": "a276b7ddf2b948a186a75962d4c8718a",
       "version_major": 2,
       "version_minor": 0
      },
      "text/plain": [
       "Epoch 19/100:   0%|          | 0/21992 [00:00<?, ?it/s]"
      ]
     },
     "metadata": {},
     "output_type": "display_data"
    },
    {
     "name": "stderr",
     "output_type": "stream",
     "text": [
      "WARNING:root:NaN or Inf found in input tensor.\n"
     ]
    },
    {
     "name": "stdout",
     "output_type": "stream",
     "text": [
      "2022-04-08 11:33.36 [info     ] FQE_20220408101531: epoch=19 step=417848 epoch=19 metrics={'time_sample_batch': 0.0003776499231150472, 'time_algorithm_update': 0.010087388912171787, 'loss': 0.015587125753716942, 'time_step': 0.011116117564232924, 'init_value': -1.291703701019287, 'ave_value': -1.2917355034870188, 'soft_opc': nan} step=417848\n"
     ]
    },
    {
     "name": "stderr",
     "output_type": "stream",
     "text": [
      "WARNING:root:NaN or Inf found in input tensor.\n"
     ]
    },
    {
     "name": "stdout",
     "output_type": "stream",
     "text": [
      "2022-04-08 11:33.36 [info     ] Model parameters are saved to d3rlpy_logs\\FQE_20220408101531\\model_417848.pt\n"
     ]
    },
    {
     "data": {
      "application/vnd.jupyter.widget-view+json": {
       "model_id": "6fc3ad78438e433e9202e4b50f082055",
       "version_major": 2,
       "version_minor": 0
      },
      "text/plain": [
       "Epoch 20/100:   0%|          | 0/21992 [00:00<?, ?it/s]"
      ]
     },
     "metadata": {},
     "output_type": "display_data"
    },
    {
     "name": "stderr",
     "output_type": "stream",
     "text": [
      "WARNING:root:NaN or Inf found in input tensor.\n"
     ]
    },
    {
     "name": "stdout",
     "output_type": "stream",
     "text": [
      "2022-04-08 11:38.14 [info     ] FQE_20220408101531: epoch=20 step=439840 epoch=20 metrics={'time_sample_batch': 0.00038141430660177034, 'time_algorithm_update': 0.01013614619459053, 'loss': 0.01642687688007645, 'time_step': 0.01120726348444001, 'init_value': -1.3033894300460815, 'ave_value': -1.3033330699220398, 'soft_opc': nan} step=439840\n"
     ]
    },
    {
     "name": "stderr",
     "output_type": "stream",
     "text": [
      "WARNING:root:NaN or Inf found in input tensor.\n"
     ]
    },
    {
     "name": "stdout",
     "output_type": "stream",
     "text": [
      "2022-04-08 11:38.14 [info     ] Model parameters are saved to d3rlpy_logs\\FQE_20220408101531\\model_439840.pt\n"
     ]
    },
    {
     "data": {
      "application/vnd.jupyter.widget-view+json": {
       "model_id": "52414c12fc0a40d8817df045806b534b",
       "version_major": 2,
       "version_minor": 0
      },
      "text/plain": [
       "Epoch 21/100:   0%|          | 0/21992 [00:00<?, ?it/s]"
      ]
     },
     "metadata": {},
     "output_type": "display_data"
    },
    {
     "name": "stderr",
     "output_type": "stream",
     "text": [
      "WARNING:root:NaN or Inf found in input tensor.\n"
     ]
    },
    {
     "name": "stdout",
     "output_type": "stream",
     "text": [
      "2022-04-08 11:42.54 [info     ] FQE_20220408101531: epoch=21 step=461832 epoch=21 metrics={'time_sample_batch': 0.0003627845377174452, 'time_algorithm_update': 0.010275525205913306, 'loss': 0.015841113109846715, 'time_step': 0.011290682190415988, 'init_value': -1.169848084449768, 'ave_value': -1.1698074653602528, 'soft_opc': nan} step=461832\n"
     ]
    },
    {
     "name": "stderr",
     "output_type": "stream",
     "text": [
      "WARNING:root:NaN or Inf found in input tensor.\n"
     ]
    },
    {
     "name": "stdout",
     "output_type": "stream",
     "text": [
      "2022-04-08 11:42.54 [info     ] Model parameters are saved to d3rlpy_logs\\FQE_20220408101531\\model_461832.pt\n"
     ]
    },
    {
     "data": {
      "application/vnd.jupyter.widget-view+json": {
       "model_id": "6d22b6fd2a5a4e18acaf482c18efbbd4",
       "version_major": 2,
       "version_minor": 0
      },
      "text/plain": [
       "Epoch 22/100:   0%|          | 0/21992 [00:00<?, ?it/s]"
      ]
     },
     "metadata": {},
     "output_type": "display_data"
    },
    {
     "name": "stderr",
     "output_type": "stream",
     "text": [
      "WARNING:root:NaN or Inf found in input tensor.\n"
     ]
    },
    {
     "name": "stdout",
     "output_type": "stream",
     "text": [
      "2022-04-08 11:47.32 [info     ] FQE_20220408101531: epoch=22 step=483824 epoch=22 metrics={'time_sample_batch': 0.0003991935547155309, 'time_algorithm_update': 0.010175608903462342, 'loss': 0.014962510315741714, 'time_step': 0.011254640785986052, 'init_value': -1.232766032218933, 'ave_value': -1.2326975976731844, 'soft_opc': nan} step=483824\n"
     ]
    },
    {
     "name": "stderr",
     "output_type": "stream",
     "text": [
      "WARNING:root:NaN or Inf found in input tensor.\n"
     ]
    },
    {
     "name": "stdout",
     "output_type": "stream",
     "text": [
      "2022-04-08 11:47.32 [info     ] Model parameters are saved to d3rlpy_logs\\FQE_20220408101531\\model_483824.pt\n"
     ]
    },
    {
     "data": {
      "application/vnd.jupyter.widget-view+json": {
       "model_id": "910e9947bb4f4b90abe67186a8d37cdb",
       "version_major": 2,
       "version_minor": 0
      },
      "text/plain": [
       "Epoch 23/100:   0%|          | 0/21992 [00:00<?, ?it/s]"
      ]
     },
     "metadata": {},
     "output_type": "display_data"
    },
    {
     "name": "stderr",
     "output_type": "stream",
     "text": [
      "WARNING:root:NaN or Inf found in input tensor.\n"
     ]
    },
    {
     "name": "stdout",
     "output_type": "stream",
     "text": [
      "2022-04-08 11:52.11 [info     ] FQE_20220408101531: epoch=23 step=505816 epoch=23 metrics={'time_sample_batch': 0.0003740067762129955, 'time_algorithm_update': 0.01019599491702552, 'loss': 0.015272819416004188, 'time_step': 0.011222728472182688, 'init_value': -1.2490142583847046, 'ave_value': -1.2489793407124297, 'soft_opc': nan} step=505816\n"
     ]
    },
    {
     "name": "stderr",
     "output_type": "stream",
     "text": [
      "WARNING:root:NaN or Inf found in input tensor.\n"
     ]
    },
    {
     "name": "stdout",
     "output_type": "stream",
     "text": [
      "2022-04-08 11:52.11 [info     ] Model parameters are saved to d3rlpy_logs\\FQE_20220408101531\\model_505816.pt\n"
     ]
    },
    {
     "data": {
      "application/vnd.jupyter.widget-view+json": {
       "model_id": "6f703f5af838455b98e7492ed49d501a",
       "version_major": 2,
       "version_minor": 0
      },
      "text/plain": [
       "Epoch 24/100:   0%|          | 0/21992 [00:00<?, ?it/s]"
      ]
     },
     "metadata": {},
     "output_type": "display_data"
    },
    {
     "name": "stderr",
     "output_type": "stream",
     "text": [
      "WARNING:root:NaN or Inf found in input tensor.\n"
     ]
    },
    {
     "name": "stdout",
     "output_type": "stream",
     "text": [
      "2022-04-08 11:56.52 [info     ] FQE_20220408101531: epoch=24 step=527808 epoch=24 metrics={'time_sample_batch': 0.00037722665208085924, 'time_algorithm_update': 0.01034557153719822, 'loss': 0.015330276761558743, 'time_step': 0.011372585498709903, 'init_value': -1.2209209203720093, 'ave_value': -1.2208193116043171, 'soft_opc': nan} step=527808\n"
     ]
    },
    {
     "name": "stderr",
     "output_type": "stream",
     "text": [
      "WARNING:root:NaN or Inf found in input tensor.\n"
     ]
    },
    {
     "name": "stdout",
     "output_type": "stream",
     "text": [
      "2022-04-08 11:56.52 [info     ] Model parameters are saved to d3rlpy_logs\\FQE_20220408101531\\model_527808.pt\n"
     ]
    },
    {
     "data": {
      "application/vnd.jupyter.widget-view+json": {
       "model_id": "fb090813a1604b50a36e5383fa0216fd",
       "version_major": 2,
       "version_minor": 0
      },
      "text/plain": [
       "Epoch 25/100:   0%|          | 0/21992 [00:00<?, ?it/s]"
      ]
     },
     "metadata": {},
     "output_type": "display_data"
    },
    {
     "name": "stderr",
     "output_type": "stream",
     "text": [
      "WARNING:root:NaN or Inf found in input tensor.\n"
     ]
    },
    {
     "name": "stdout",
     "output_type": "stream",
     "text": [
      "2022-04-08 12:01.35 [info     ] FQE_20220408101531: epoch=25 step=549800 epoch=25 metrics={'time_sample_batch': 0.00036412851512974156, 'time_algorithm_update': 0.010422165457141664, 'loss': 0.01598359552031045, 'time_step': 0.011432539120115943, 'init_value': -1.275980830192566, 'ave_value': -1.2758916281015589, 'soft_opc': nan} step=549800\n"
     ]
    },
    {
     "name": "stderr",
     "output_type": "stream",
     "text": [
      "WARNING:root:NaN or Inf found in input tensor.\n"
     ]
    },
    {
     "name": "stdout",
     "output_type": "stream",
     "text": [
      "2022-04-08 12:01.35 [info     ] Model parameters are saved to d3rlpy_logs\\FQE_20220408101531\\model_549800.pt\n"
     ]
    },
    {
     "data": {
      "application/vnd.jupyter.widget-view+json": {
       "model_id": "400629743818433fa01f22388f4f3fdd",
       "version_major": 2,
       "version_minor": 0
      },
      "text/plain": [
       "Epoch 26/100:   0%|          | 0/21992 [00:00<?, ?it/s]"
      ]
     },
     "metadata": {},
     "output_type": "display_data"
    },
    {
     "name": "stderr",
     "output_type": "stream",
     "text": [
      "WARNING:root:NaN or Inf found in input tensor.\n"
     ]
    },
    {
     "name": "stdout",
     "output_type": "stream",
     "text": [
      "2022-04-08 12:06.21 [info     ] FQE_20220408101531: epoch=26 step=571792 epoch=26 metrics={'time_sample_batch': 0.0004066187778617218, 'time_algorithm_update': 0.010525358031124754, 'loss': 0.01530209168822247, 'time_step': 0.011579620833828822, 'init_value': -1.1911277770996094, 'ave_value': -1.1910750424994203, 'soft_opc': nan} step=571792\n"
     ]
    },
    {
     "name": "stderr",
     "output_type": "stream",
     "text": [
      "WARNING:root:NaN or Inf found in input tensor.\n"
     ]
    },
    {
     "name": "stdout",
     "output_type": "stream",
     "text": [
      "2022-04-08 12:06.21 [info     ] Model parameters are saved to d3rlpy_logs\\FQE_20220408101531\\model_571792.pt\n"
     ]
    },
    {
     "data": {
      "application/vnd.jupyter.widget-view+json": {
       "model_id": "0566cd6482c3434aaee18a4b6424dff0",
       "version_major": 2,
       "version_minor": 0
      },
      "text/plain": [
       "Epoch 27/100:   0%|          | 0/21992 [00:00<?, ?it/s]"
      ]
     },
     "metadata": {},
     "output_type": "display_data"
    },
    {
     "name": "stderr",
     "output_type": "stream",
     "text": [
      "WARNING:root:NaN or Inf found in input tensor.\n"
     ]
    },
    {
     "name": "stdout",
     "output_type": "stream",
     "text": [
      "2022-04-08 12:11.04 [info     ] FQE_20220408101531: epoch=27 step=593784 epoch=27 metrics={'time_sample_batch': 0.00036039408574151143, 'time_algorithm_update': 0.010449083122872318, 'loss': 0.015500339997666921, 'time_step': 0.011442454566344993, 'init_value': -1.1870168447494507, 'ave_value': -1.186933588020294, 'soft_opc': nan} step=593784\n"
     ]
    },
    {
     "name": "stderr",
     "output_type": "stream",
     "text": [
      "WARNING:root:NaN or Inf found in input tensor.\n"
     ]
    },
    {
     "name": "stdout",
     "output_type": "stream",
     "text": [
      "2022-04-08 12:11.04 [info     ] Model parameters are saved to d3rlpy_logs\\FQE_20220408101531\\model_593784.pt\n"
     ]
    },
    {
     "data": {
      "application/vnd.jupyter.widget-view+json": {
       "model_id": "7ff5193d0f054d829958a765c87f9797",
       "version_major": 2,
       "version_minor": 0
      },
      "text/plain": [
       "Epoch 28/100:   0%|          | 0/21992 [00:00<?, ?it/s]"
      ]
     },
     "metadata": {},
     "output_type": "display_data"
    },
    {
     "name": "stderr",
     "output_type": "stream",
     "text": [
      "WARNING:root:NaN or Inf found in input tensor.\n"
     ]
    },
    {
     "name": "stdout",
     "output_type": "stream",
     "text": [
      "2022-04-08 12:15.45 [info     ] FQE_20220408101531: epoch=28 step=615776 epoch=28 metrics={'time_sample_batch': 0.00035879855027585604, 'time_algorithm_update': 0.010388076576418164, 'loss': 0.01600205843245359, 'time_step': 0.011380769569859065, 'init_value': -1.2194031476974487, 'ave_value': -1.2193073361700875, 'soft_opc': nan} step=615776\n"
     ]
    },
    {
     "name": "stderr",
     "output_type": "stream",
     "text": [
      "WARNING:root:NaN or Inf found in input tensor.\n"
     ]
    },
    {
     "name": "stdout",
     "output_type": "stream",
     "text": [
      "2022-04-08 12:15.45 [info     ] Model parameters are saved to d3rlpy_logs\\FQE_20220408101531\\model_615776.pt\n"
     ]
    },
    {
     "data": {
      "application/vnd.jupyter.widget-view+json": {
       "model_id": "6db04484cc984bf4946ea96d00ad15f1",
       "version_major": 2,
       "version_minor": 0
      },
      "text/plain": [
       "Epoch 29/100:   0%|          | 0/21992 [00:00<?, ?it/s]"
      ]
     },
     "metadata": {},
     "output_type": "display_data"
    },
    {
     "name": "stderr",
     "output_type": "stream",
     "text": [
      "WARNING:root:NaN or Inf found in input tensor.\n"
     ]
    },
    {
     "name": "stdout",
     "output_type": "stream",
     "text": [
      "2022-04-08 12:20.27 [info     ] FQE_20220408101531: epoch=29 step=637768 epoch=29 metrics={'time_sample_batch': 0.0003691882751516187, 'time_algorithm_update': 0.010393462644225252, 'loss': 0.014929111543583956, 'time_step': 0.011391606427140998, 'init_value': -1.2406582832336426, 'ave_value': -1.240550970992641, 'soft_opc': nan} step=637768\n"
     ]
    },
    {
     "name": "stderr",
     "output_type": "stream",
     "text": [
      "WARNING:root:NaN or Inf found in input tensor.\n"
     ]
    },
    {
     "name": "stdout",
     "output_type": "stream",
     "text": [
      "2022-04-08 12:20.27 [info     ] Model parameters are saved to d3rlpy_logs\\FQE_20220408101531\\model_637768.pt\n"
     ]
    },
    {
     "data": {
      "application/vnd.jupyter.widget-view+json": {
       "model_id": "52a501ec7e8e4985b8b31b46a85ca349",
       "version_major": 2,
       "version_minor": 0
      },
      "text/plain": [
       "Epoch 30/100:   0%|          | 0/21992 [00:00<?, ?it/s]"
      ]
     },
     "metadata": {},
     "output_type": "display_data"
    },
    {
     "name": "stderr",
     "output_type": "stream",
     "text": [
      "WARNING:root:NaN or Inf found in input tensor.\n"
     ]
    },
    {
     "name": "stdout",
     "output_type": "stream",
     "text": [
      "2022-04-08 12:25.11 [info     ] FQE_20220408101531: epoch=30 step=659760 epoch=30 metrics={'time_sample_batch': 0.0003781930755901094, 'time_algorithm_update': 0.010459870577031979, 'loss': 0.01659551338828585, 'time_step': 0.011503374958177097, 'init_value': -1.3277769088745117, 'ave_value': -1.327732560858772, 'soft_opc': nan} step=659760\n"
     ]
    },
    {
     "name": "stderr",
     "output_type": "stream",
     "text": [
      "WARNING:root:NaN or Inf found in input tensor.\n"
     ]
    },
    {
     "name": "stdout",
     "output_type": "stream",
     "text": [
      "2022-04-08 12:25.11 [info     ] Model parameters are saved to d3rlpy_logs\\FQE_20220408101531\\model_659760.pt\n"
     ]
    },
    {
     "data": {
      "application/vnd.jupyter.widget-view+json": {
       "model_id": "d20ebd8f1838466cadc08908ab5bc19b",
       "version_major": 2,
       "version_minor": 0
      },
      "text/plain": [
       "Epoch 31/100:   0%|          | 0/21992 [00:00<?, ?it/s]"
      ]
     },
     "metadata": {},
     "output_type": "display_data"
    },
    {
     "name": "stderr",
     "output_type": "stream",
     "text": [
      "WARNING:root:NaN or Inf found in input tensor.\n"
     ]
    },
    {
     "name": "stdout",
     "output_type": "stream",
     "text": [
      "2022-04-08 12:29.58 [info     ] FQE_20220408101531: epoch=31 step=681752 epoch=31 metrics={'time_sample_batch': 0.00040786431762859055, 'time_algorithm_update': 0.010588652277131565, 'loss': 0.015615969580082796, 'time_step': 0.011671441030224786, 'init_value': -1.1669950485229492, 'ave_value': -1.1669357978392219, 'soft_opc': nan} step=681752\n"
     ]
    },
    {
     "name": "stderr",
     "output_type": "stream",
     "text": [
      "WARNING:root:NaN or Inf found in input tensor.\n"
     ]
    },
    {
     "name": "stdout",
     "output_type": "stream",
     "text": [
      "2022-04-08 12:29.58 [info     ] Model parameters are saved to d3rlpy_logs\\FQE_20220408101531\\model_681752.pt\n"
     ]
    },
    {
     "data": {
      "application/vnd.jupyter.widget-view+json": {
       "model_id": "01174247ced144b389e1a4a71af8a34b",
       "version_major": 2,
       "version_minor": 0
      },
      "text/plain": [
       "Epoch 32/100:   0%|          | 0/21992 [00:00<?, ?it/s]"
      ]
     },
     "metadata": {},
     "output_type": "display_data"
    },
    {
     "name": "stderr",
     "output_type": "stream",
     "text": [
      "WARNING:root:NaN or Inf found in input tensor.\n"
     ]
    },
    {
     "name": "stdout",
     "output_type": "stream",
     "text": [
      "2022-04-08 12:34.45 [info     ] FQE_20220408101531: epoch=32 step=703744 epoch=32 metrics={'time_sample_batch': 0.000382251275934363, 'time_algorithm_update': 0.010628813893285913, 'loss': 0.015787606790232157, 'time_step': 0.01164645871581837, 'init_value': -1.286812663078308, 'ave_value': -1.286785836159481, 'soft_opc': nan} step=703744\n"
     ]
    },
    {
     "name": "stderr",
     "output_type": "stream",
     "text": [
      "WARNING:root:NaN or Inf found in input tensor.\n"
     ]
    },
    {
     "name": "stdout",
     "output_type": "stream",
     "text": [
      "2022-04-08 12:34.45 [info     ] Model parameters are saved to d3rlpy_logs\\FQE_20220408101531\\model_703744.pt\n"
     ]
    },
    {
     "data": {
      "application/vnd.jupyter.widget-view+json": {
       "model_id": "172f4bbc7b3b4107b5846cb6e71d408a",
       "version_major": 2,
       "version_minor": 0
      },
      "text/plain": [
       "Epoch 33/100:   0%|          | 0/21992 [00:00<?, ?it/s]"
      ]
     },
     "metadata": {},
     "output_type": "display_data"
    },
    {
     "name": "stderr",
     "output_type": "stream",
     "text": [
      "WARNING:root:NaN or Inf found in input tensor.\n"
     ]
    },
    {
     "name": "stdout",
     "output_type": "stream",
     "text": [
      "2022-04-08 12:39.33 [info     ] FQE_20220408101531: epoch=33 step=725736 epoch=33 metrics={'time_sample_batch': 0.0003887681732961766, 'time_algorithm_update': 0.010661597033334498, 'loss': 0.01625863429416741, 'time_step': 0.011710565321746415, 'init_value': -1.2790303230285645, 'ave_value': -1.278940926040821, 'soft_opc': nan} step=725736\n"
     ]
    },
    {
     "name": "stderr",
     "output_type": "stream",
     "text": [
      "WARNING:root:NaN or Inf found in input tensor.\n"
     ]
    },
    {
     "name": "stdout",
     "output_type": "stream",
     "text": [
      "2022-04-08 12:39.33 [info     ] Model parameters are saved to d3rlpy_logs\\FQE_20220408101531\\model_725736.pt\n"
     ]
    },
    {
     "data": {
      "application/vnd.jupyter.widget-view+json": {
       "model_id": "c4201d9714af41459dac1abd357484f1",
       "version_major": 2,
       "version_minor": 0
      },
      "text/plain": [
       "Epoch 34/100:   0%|          | 0/21992 [00:00<?, ?it/s]"
      ]
     },
     "metadata": {},
     "output_type": "display_data"
    },
    {
     "name": "stderr",
     "output_type": "stream",
     "text": [
      "WARNING:root:NaN or Inf found in input tensor.\n"
     ]
    },
    {
     "name": "stdout",
     "output_type": "stream",
     "text": [
      "2022-04-08 12:44.21 [info     ] FQE_20220408101531: epoch=34 step=747728 epoch=34 metrics={'time_sample_batch': 0.0003883243257585722, 'time_algorithm_update': 0.010679927824973713, 'loss': 0.01630106943089238, 'time_step': 0.011726495893533206, 'init_value': -1.2428741455078125, 'ave_value': -1.2428395448060978, 'soft_opc': nan} step=747728\n"
     ]
    },
    {
     "name": "stderr",
     "output_type": "stream",
     "text": [
      "WARNING:root:NaN or Inf found in input tensor.\n"
     ]
    },
    {
     "name": "stdout",
     "output_type": "stream",
     "text": [
      "2022-04-08 12:44.21 [info     ] Model parameters are saved to d3rlpy_logs\\FQE_20220408101531\\model_747728.pt\n"
     ]
    },
    {
     "data": {
      "application/vnd.jupyter.widget-view+json": {
       "model_id": "b8edb5f9b88e41eaafd57ec6685e4513",
       "version_major": 2,
       "version_minor": 0
      },
      "text/plain": [
       "Epoch 35/100:   0%|          | 0/21992 [00:00<?, ?it/s]"
      ]
     },
     "metadata": {},
     "output_type": "display_data"
    },
    {
     "name": "stderr",
     "output_type": "stream",
     "text": [
      "WARNING:root:NaN or Inf found in input tensor.\n"
     ]
    },
    {
     "name": "stdout",
     "output_type": "stream",
     "text": [
      "2022-04-08 12:49.11 [info     ] FQE_20220408101531: epoch=35 step=769720 epoch=35 metrics={'time_sample_batch': 0.0003916657851279194, 'time_algorithm_update': 0.010682084812776268, 'loss': 0.01639387184197003, 'time_step': 0.011736918261112755, 'init_value': -1.2327381372451782, 'ave_value': -1.2326644746887354, 'soft_opc': nan} step=769720\n"
     ]
    },
    {
     "name": "stderr",
     "output_type": "stream",
     "text": [
      "WARNING:root:NaN or Inf found in input tensor.\n"
     ]
    },
    {
     "name": "stdout",
     "output_type": "stream",
     "text": [
      "2022-04-08 12:49.11 [info     ] Model parameters are saved to d3rlpy_logs\\FQE_20220408101531\\model_769720.pt\n"
     ]
    },
    {
     "data": {
      "application/vnd.jupyter.widget-view+json": {
       "model_id": "01247c24f7174920a637428b848a6cbc",
       "version_major": 2,
       "version_minor": 0
      },
      "text/plain": [
       "Epoch 36/100:   0%|          | 0/21992 [00:00<?, ?it/s]"
      ]
     },
     "metadata": {},
     "output_type": "display_data"
    },
    {
     "name": "stderr",
     "output_type": "stream",
     "text": [
      "WARNING:root:NaN or Inf found in input tensor.\n"
     ]
    },
    {
     "name": "stdout",
     "output_type": "stream",
     "text": [
      "2022-04-08 12:53.58 [info     ] FQE_20220408101531: epoch=36 step=791712 epoch=36 metrics={'time_sample_batch': 0.00037975765957143706, 'time_algorithm_update': 0.010579572065651048, 'loss': 0.01577876313677914, 'time_step': 0.01162693157071155, 'init_value': -1.2238786220550537, 'ave_value': -1.2237758103046827, 'soft_opc': nan} step=791712\n"
     ]
    },
    {
     "name": "stderr",
     "output_type": "stream",
     "text": [
      "WARNING:root:NaN or Inf found in input tensor.\n"
     ]
    },
    {
     "name": "stdout",
     "output_type": "stream",
     "text": [
      "2022-04-08 12:53.58 [info     ] Model parameters are saved to d3rlpy_logs\\FQE_20220408101531\\model_791712.pt\n"
     ]
    },
    {
     "data": {
      "application/vnd.jupyter.widget-view+json": {
       "model_id": "e819b9fc3fdf4353b059ace70ea12e30",
       "version_major": 2,
       "version_minor": 0
      },
      "text/plain": [
       "Epoch 37/100:   0%|          | 0/21992 [00:00<?, ?it/s]"
      ]
     },
     "metadata": {},
     "output_type": "display_data"
    },
    {
     "name": "stderr",
     "output_type": "stream",
     "text": [
      "WARNING:root:NaN or Inf found in input tensor.\n"
     ]
    },
    {
     "name": "stdout",
     "output_type": "stream",
     "text": [
      "2022-04-08 12:58.45 [info     ] FQE_20220408101531: epoch=37 step=813704 epoch=37 metrics={'time_sample_batch': 0.0003939866260772794, 'time_algorithm_update': 0.010539354617572256, 'loss': 0.015422168284340064, 'time_step': 0.011622724662307567, 'init_value': -1.2989387512207031, 'ave_value': -1.2988755545998099, 'soft_opc': nan} step=813704\n"
     ]
    },
    {
     "name": "stderr",
     "output_type": "stream",
     "text": [
      "WARNING:root:NaN or Inf found in input tensor.\n"
     ]
    },
    {
     "name": "stdout",
     "output_type": "stream",
     "text": [
      "2022-04-08 12:58.45 [info     ] Model parameters are saved to d3rlpy_logs\\FQE_20220408101531\\model_813704.pt\n"
     ]
    },
    {
     "data": {
      "application/vnd.jupyter.widget-view+json": {
       "model_id": "e36f43fbaceb485cb0c3605b8491fe73",
       "version_major": 2,
       "version_minor": 0
      },
      "text/plain": [
       "Epoch 38/100:   0%|          | 0/21992 [00:00<?, ?it/s]"
      ]
     },
     "metadata": {},
     "output_type": "display_data"
    },
    {
     "name": "stderr",
     "output_type": "stream",
     "text": [
      "WARNING:root:NaN or Inf found in input tensor.\n"
     ]
    },
    {
     "name": "stdout",
     "output_type": "stream",
     "text": [
      "2022-04-08 13:03.32 [info     ] FQE_20220408101531: epoch=38 step=835696 epoch=38 metrics={'time_sample_batch': 0.00039032606828772143, 'time_algorithm_update': 0.010564566298197207, 'loss': 0.016692986195376718, 'time_step': 0.011617210159391956, 'init_value': -1.2697631120681763, 'ave_value': -1.2696380816535526, 'soft_opc': nan} step=835696\n"
     ]
    },
    {
     "name": "stderr",
     "output_type": "stream",
     "text": [
      "WARNING:root:NaN or Inf found in input tensor.\n"
     ]
    },
    {
     "name": "stdout",
     "output_type": "stream",
     "text": [
      "2022-04-08 13:03.32 [info     ] Model parameters are saved to d3rlpy_logs\\FQE_20220408101531\\model_835696.pt\n"
     ]
    },
    {
     "data": {
      "application/vnd.jupyter.widget-view+json": {
       "model_id": "a6428331d84a471eb9035054936fee37",
       "version_major": 2,
       "version_minor": 0
      },
      "text/plain": [
       "Epoch 39/100:   0%|          | 0/21992 [00:00<?, ?it/s]"
      ]
     },
     "metadata": {},
     "output_type": "display_data"
    },
    {
     "name": "stderr",
     "output_type": "stream",
     "text": [
      "WARNING:root:NaN or Inf found in input tensor.\n"
     ]
    },
    {
     "name": "stdout",
     "output_type": "stream",
     "text": [
      "2022-04-08 13:08.22 [info     ] FQE_20220408101531: epoch=39 step=857688 epoch=39 metrics={'time_sample_batch': 0.0003771254174186343, 'time_algorithm_update': 0.010699721217892654, 'loss': 0.016985949493373946, 'time_step': 0.011746668867650314, 'init_value': -1.3316798210144043, 'ave_value': -1.331606647509581, 'soft_opc': nan} step=857688\n"
     ]
    },
    {
     "name": "stderr",
     "output_type": "stream",
     "text": [
      "WARNING:root:NaN or Inf found in input tensor.\n"
     ]
    },
    {
     "name": "stdout",
     "output_type": "stream",
     "text": [
      "2022-04-08 13:08.22 [info     ] Model parameters are saved to d3rlpy_logs\\FQE_20220408101531\\model_857688.pt\n"
     ]
    },
    {
     "data": {
      "application/vnd.jupyter.widget-view+json": {
       "model_id": "463f74e518e2467aa8a6d0472e48e233",
       "version_major": 2,
       "version_minor": 0
      },
      "text/plain": [
       "Epoch 40/100:   0%|          | 0/21992 [00:00<?, ?it/s]"
      ]
     },
     "metadata": {},
     "output_type": "display_data"
    },
    {
     "name": "stderr",
     "output_type": "stream",
     "text": [
      "WARNING:root:NaN or Inf found in input tensor.\n"
     ]
    },
    {
     "name": "stdout",
     "output_type": "stream",
     "text": [
      "2022-04-08 13:13.11 [info     ] FQE_20220408101531: epoch=40 step=879680 epoch=40 metrics={'time_sample_batch': 0.0004118317558618839, 'time_algorithm_update': 0.010665733322484921, 'loss': 0.01704987189422773, 'time_step': 0.011746473293297505, 'init_value': -1.3140630722045898, 'ave_value': -1.3139170348126743, 'soft_opc': nan} step=879680\n"
     ]
    },
    {
     "name": "stderr",
     "output_type": "stream",
     "text": [
      "WARNING:root:NaN or Inf found in input tensor.\n"
     ]
    },
    {
     "name": "stdout",
     "output_type": "stream",
     "text": [
      "2022-04-08 13:13.11 [info     ] Model parameters are saved to d3rlpy_logs\\FQE_20220408101531\\model_879680.pt\n"
     ]
    },
    {
     "data": {
      "application/vnd.jupyter.widget-view+json": {
       "model_id": "d1f5e920059e4c1f8fb6a9d5d573529d",
       "version_major": 2,
       "version_minor": 0
      },
      "text/plain": [
       "Epoch 41/100:   0%|          | 0/21992 [00:00<?, ?it/s]"
      ]
     },
     "metadata": {},
     "output_type": "display_data"
    },
    {
     "name": "stderr",
     "output_type": "stream",
     "text": [
      "WARNING:root:NaN or Inf found in input tensor.\n"
     ]
    },
    {
     "name": "stdout",
     "output_type": "stream",
     "text": [
      "2022-04-08 13:18.00 [info     ] FQE_20220408101531: epoch=41 step=901672 epoch=41 metrics={'time_sample_batch': 0.0003864474515994708, 'time_algorithm_update': 0.01070834421469715, 'loss': 0.017213841057155947, 'time_step': 0.011731143646476138, 'init_value': -1.257326364517212, 'ave_value': -1.2572564576441834, 'soft_opc': nan} step=901672\n"
     ]
    },
    {
     "name": "stderr",
     "output_type": "stream",
     "text": [
      "WARNING:root:NaN or Inf found in input tensor.\n"
     ]
    },
    {
     "name": "stdout",
     "output_type": "stream",
     "text": [
      "2022-04-08 13:18.00 [info     ] Model parameters are saved to d3rlpy_logs\\FQE_20220408101531\\model_901672.pt\n"
     ]
    },
    {
     "data": {
      "application/vnd.jupyter.widget-view+json": {
       "model_id": "a2a840d4e7574f2ab96cdbe08a63a153",
       "version_major": 2,
       "version_minor": 0
      },
      "text/plain": [
       "Epoch 42/100:   0%|          | 0/21992 [00:00<?, ?it/s]"
      ]
     },
     "metadata": {},
     "output_type": "display_data"
    },
    {
     "name": "stderr",
     "output_type": "stream",
     "text": [
      "WARNING:root:NaN or Inf found in input tensor.\n"
     ]
    },
    {
     "name": "stdout",
     "output_type": "stream",
     "text": [
      "2022-04-08 13:22.49 [info     ] FQE_20220408101531: epoch=42 step=923664 epoch=42 metrics={'time_sample_batch': 0.00037120517360899566, 'time_algorithm_update': 0.01070023801553115, 'loss': 0.01664899390805755, 'time_step': 0.011763267828881329, 'init_value': -1.2693506479263306, 'ave_value': -1.269284359583138, 'soft_opc': nan} step=923664\n"
     ]
    },
    {
     "name": "stderr",
     "output_type": "stream",
     "text": [
      "WARNING:root:NaN or Inf found in input tensor.\n"
     ]
    },
    {
     "name": "stdout",
     "output_type": "stream",
     "text": [
      "2022-04-08 13:22.49 [info     ] Model parameters are saved to d3rlpy_logs\\FQE_20220408101531\\model_923664.pt\n"
     ]
    },
    {
     "data": {
      "application/vnd.jupyter.widget-view+json": {
       "model_id": "00dfd41a26eb4d8a8c073240017ed3f4",
       "version_major": 2,
       "version_minor": 0
      },
      "text/plain": [
       "Epoch 43/100:   0%|          | 0/21992 [00:00<?, ?it/s]"
      ]
     },
     "metadata": {},
     "output_type": "display_data"
    },
    {
     "name": "stderr",
     "output_type": "stream",
     "text": [
      "WARNING:root:NaN or Inf found in input tensor.\n"
     ]
    },
    {
     "name": "stdout",
     "output_type": "stream",
     "text": [
      "2022-04-08 13:27.39 [info     ] FQE_20220408101531: epoch=43 step=945656 epoch=43 metrics={'time_sample_batch': 0.00038007386340449707, 'time_algorithm_update': 0.010724077022218757, 'loss': 0.016771692367774274, 'time_step': 0.011780811943284552, 'init_value': -1.2042527198791504, 'ave_value': -1.204107349382153, 'soft_opc': nan} step=945656\n"
     ]
    },
    {
     "name": "stderr",
     "output_type": "stream",
     "text": [
      "WARNING:root:NaN or Inf found in input tensor.\n"
     ]
    },
    {
     "name": "stdout",
     "output_type": "stream",
     "text": [
      "2022-04-08 13:27.39 [info     ] Model parameters are saved to d3rlpy_logs\\FQE_20220408101531\\model_945656.pt\n"
     ]
    },
    {
     "data": {
      "application/vnd.jupyter.widget-view+json": {
       "model_id": "3ed41eb3e2224d438fe49a46354ff139",
       "version_major": 2,
       "version_minor": 0
      },
      "text/plain": [
       "Epoch 44/100:   0%|          | 0/21992 [00:00<?, ?it/s]"
      ]
     },
     "metadata": {},
     "output_type": "display_data"
    },
    {
     "name": "stderr",
     "output_type": "stream",
     "text": [
      "WARNING:root:NaN or Inf found in input tensor.\n"
     ]
    },
    {
     "name": "stdout",
     "output_type": "stream",
     "text": [
      "2022-04-08 13:32.28 [info     ] FQE_20220408101531: epoch=44 step=967648 epoch=44 metrics={'time_sample_batch': 0.0003633341081535309, 'time_algorithm_update': 0.01071794575541702, 'loss': 0.016763283371185215, 'time_step': 0.011752058036026412, 'init_value': -1.244667887687683, 'ave_value': -1.2445336135525151, 'soft_opc': nan} step=967648\n"
     ]
    },
    {
     "name": "stderr",
     "output_type": "stream",
     "text": [
      "WARNING:root:NaN or Inf found in input tensor.\n"
     ]
    },
    {
     "name": "stdout",
     "output_type": "stream",
     "text": [
      "2022-04-08 13:32.28 [info     ] Model parameters are saved to d3rlpy_logs\\FQE_20220408101531\\model_967648.pt\n"
     ]
    },
    {
     "data": {
      "application/vnd.jupyter.widget-view+json": {
       "model_id": "e21fc120202145e88fceeceb1f130975",
       "version_major": 2,
       "version_minor": 0
      },
      "text/plain": [
       "Epoch 45/100:   0%|          | 0/21992 [00:00<?, ?it/s]"
      ]
     },
     "metadata": {},
     "output_type": "display_data"
    },
    {
     "name": "stderr",
     "output_type": "stream",
     "text": [
      "WARNING:root:NaN or Inf found in input tensor.\n"
     ]
    },
    {
     "name": "stdout",
     "output_type": "stream",
     "text": [
      "2022-04-08 13:37.18 [info     ] FQE_20220408101531: epoch=45 step=989640 epoch=45 metrics={'time_sample_batch': 0.00037082945186036335, 'time_algorithm_update': 0.010701758476030441, 'loss': 0.01630205701111403, 'time_step': 0.011761532952109872, 'init_value': -1.2385843992233276, 'ave_value': -1.2384167397445625, 'soft_opc': nan} step=989640\n"
     ]
    },
    {
     "name": "stderr",
     "output_type": "stream",
     "text": [
      "WARNING:root:NaN or Inf found in input tensor.\n"
     ]
    },
    {
     "name": "stdout",
     "output_type": "stream",
     "text": [
      "2022-04-08 13:37.18 [info     ] Model parameters are saved to d3rlpy_logs\\FQE_20220408101531\\model_989640.pt\n"
     ]
    },
    {
     "data": {
      "application/vnd.jupyter.widget-view+json": {
       "model_id": "46f2e2a807034335b2109546441b7d4c",
       "version_major": 2,
       "version_minor": 0
      },
      "text/plain": [
       "Epoch 46/100:   0%|          | 0/21992 [00:00<?, ?it/s]"
      ]
     },
     "metadata": {},
     "output_type": "display_data"
    },
    {
     "name": "stderr",
     "output_type": "stream",
     "text": [
      "WARNING:root:NaN or Inf found in input tensor.\n"
     ]
    },
    {
     "name": "stdout",
     "output_type": "stream",
     "text": [
      "2022-04-08 13:42.11 [info     ] FQE_20220408101531: epoch=46 step=1011632 epoch=46 metrics={'time_sample_batch': 0.0003587391190894867, 'time_algorithm_update': 0.010902628318835884, 'loss': 0.017455006916773742, 'time_step': 0.011920587578093889, 'init_value': -1.3894442319869995, 'ave_value': -1.389243624310786, 'soft_opc': nan} step=1011632\n"
     ]
    },
    {
     "name": "stderr",
     "output_type": "stream",
     "text": [
      "WARNING:root:NaN or Inf found in input tensor.\n"
     ]
    },
    {
     "name": "stdout",
     "output_type": "stream",
     "text": [
      "2022-04-08 13:42.11 [info     ] Model parameters are saved to d3rlpy_logs\\FQE_20220408101531\\model_1011632.pt\n"
     ]
    },
    {
     "data": {
      "application/vnd.jupyter.widget-view+json": {
       "model_id": "123046e1185745f9be7c8902b82e94fd",
       "version_major": 2,
       "version_minor": 0
      },
      "text/plain": [
       "Epoch 47/100:   0%|          | 0/21992 [00:00<?, ?it/s]"
      ]
     },
     "metadata": {},
     "output_type": "display_data"
    },
    {
     "name": "stderr",
     "output_type": "stream",
     "text": [
      "WARNING:root:NaN or Inf found in input tensor.\n"
     ]
    },
    {
     "name": "stdout",
     "output_type": "stream",
     "text": [
      "2022-04-08 13:47.02 [info     ] FQE_20220408101531: epoch=47 step=1033624 epoch=47 metrics={'time_sample_batch': 0.0003875097108780579, 'time_algorithm_update': 0.010765515378970759, 'loss': 0.01792004111571055, 'time_step': 0.011833720399753186, 'init_value': -1.3034937381744385, 'ave_value': -1.3033472578706653, 'soft_opc': nan} step=1033624\n"
     ]
    },
    {
     "name": "stderr",
     "output_type": "stream",
     "text": [
      "WARNING:root:NaN or Inf found in input tensor.\n"
     ]
    },
    {
     "name": "stdout",
     "output_type": "stream",
     "text": [
      "2022-04-08 13:47.02 [info     ] Model parameters are saved to d3rlpy_logs\\FQE_20220408101531\\model_1033624.pt\n"
     ]
    },
    {
     "data": {
      "application/vnd.jupyter.widget-view+json": {
       "model_id": "6038e9c0c7b34cd1bf374f5958394581",
       "version_major": 2,
       "version_minor": 0
      },
      "text/plain": [
       "Epoch 48/100:   0%|          | 0/21992 [00:00<?, ?it/s]"
      ]
     },
     "metadata": {},
     "output_type": "display_data"
    },
    {
     "name": "stderr",
     "output_type": "stream",
     "text": [
      "WARNING:root:NaN or Inf found in input tensor.\n"
     ]
    },
    {
     "name": "stdout",
     "output_type": "stream",
     "text": [
      "2022-04-08 13:51.55 [info     ] FQE_20220408101531: epoch=48 step=1055616 epoch=48 metrics={'time_sample_batch': 0.00035919793825576243, 'time_algorithm_update': 0.010883191784063917, 'loss': 0.018132026734343214, 'time_step': 0.011902585262469961, 'init_value': -1.3212393522262573, 'ave_value': -1.3210465416814068, 'soft_opc': nan} step=1055616\n"
     ]
    },
    {
     "name": "stderr",
     "output_type": "stream",
     "text": [
      "WARNING:root:NaN or Inf found in input tensor.\n"
     ]
    },
    {
     "name": "stdout",
     "output_type": "stream",
     "text": [
      "2022-04-08 13:51.55 [info     ] Model parameters are saved to d3rlpy_logs\\FQE_20220408101531\\model_1055616.pt\n"
     ]
    },
    {
     "data": {
      "application/vnd.jupyter.widget-view+json": {
       "model_id": "eac9ea9317674b91a9c7a6ea190a5329",
       "version_major": 2,
       "version_minor": 0
      },
      "text/plain": [
       "Epoch 49/100:   0%|          | 0/21992 [00:00<?, ?it/s]"
      ]
     },
     "metadata": {},
     "output_type": "display_data"
    },
    {
     "name": "stderr",
     "output_type": "stream",
     "text": [
      "WARNING:root:NaN or Inf found in input tensor.\n"
     ]
    },
    {
     "name": "stdout",
     "output_type": "stream",
     "text": [
      "2022-04-08 13:56.46 [info     ] FQE_20220408101531: epoch=49 step=1077608 epoch=49 metrics={'time_sample_batch': 0.00037757137898056237, 'time_algorithm_update': 0.010833779837097329, 'loss': 0.018059169751885557, 'time_step': 0.011889417796362179, 'init_value': -1.3076229095458984, 'ave_value': -1.3074006540937348, 'soft_opc': nan} step=1077608\n"
     ]
    },
    {
     "name": "stderr",
     "output_type": "stream",
     "text": [
      "WARNING:root:NaN or Inf found in input tensor.\n"
     ]
    },
    {
     "name": "stdout",
     "output_type": "stream",
     "text": [
      "2022-04-08 13:56.46 [info     ] Model parameters are saved to d3rlpy_logs\\FQE_20220408101531\\model_1077608.pt\n"
     ]
    },
    {
     "data": {
      "application/vnd.jupyter.widget-view+json": {
       "model_id": "88aac9e2f0ba418b9915e320e57fa54a",
       "version_major": 2,
       "version_minor": 0
      },
      "text/plain": [
       "Epoch 50/100:   0%|          | 0/21992 [00:00<?, ?it/s]"
      ]
     },
     "metadata": {},
     "output_type": "display_data"
    },
    {
     "name": "stderr",
     "output_type": "stream",
     "text": [
      "WARNING:root:NaN or Inf found in input tensor.\n"
     ]
    },
    {
     "name": "stdout",
     "output_type": "stream",
     "text": [
      "2022-04-08 14:01.39 [info     ] FQE_20220408101531: epoch=50 step=1099600 epoch=50 metrics={'time_sample_batch': 0.00037121656765804243, 'time_algorithm_update': 0.010823299707868569, 'loss': 0.017747067851574597, 'time_step': 0.011851452131104842, 'init_value': -1.3062236309051514, 'ave_value': -1.3060754774612993, 'soft_opc': nan} step=1099600\n"
     ]
    },
    {
     "name": "stderr",
     "output_type": "stream",
     "text": [
      "WARNING:root:NaN or Inf found in input tensor.\n"
     ]
    },
    {
     "name": "stdout",
     "output_type": "stream",
     "text": [
      "2022-04-08 14:01.39 [info     ] Model parameters are saved to d3rlpy_logs\\FQE_20220408101531\\model_1099600.pt\n"
     ]
    },
    {
     "data": {
      "application/vnd.jupyter.widget-view+json": {
       "model_id": "bf78d6b5c9e6427eb6b68bb42ab16d67",
       "version_major": 2,
       "version_minor": 0
      },
      "text/plain": [
       "Epoch 51/100:   0%|          | 0/21992 [00:00<?, ?it/s]"
      ]
     },
     "metadata": {},
     "output_type": "display_data"
    },
    {
     "name": "stderr",
     "output_type": "stream",
     "text": [
      "WARNING:root:NaN or Inf found in input tensor.\n"
     ]
    },
    {
     "name": "stdout",
     "output_type": "stream",
     "text": [
      "2022-04-08 14:06.31 [info     ] FQE_20220408101531: epoch=51 step=1121592 epoch=51 metrics={'time_sample_batch': 0.0003807711553556263, 'time_algorithm_update': 0.010856462288180366, 'loss': 0.016974813595250555, 'time_step': 0.011900548329566687, 'init_value': -1.3001558780670166, 'ave_value': -1.2999145561840055, 'soft_opc': nan} step=1121592\n"
     ]
    },
    {
     "name": "stderr",
     "output_type": "stream",
     "text": [
      "WARNING:root:NaN or Inf found in input tensor.\n"
     ]
    },
    {
     "name": "stdout",
     "output_type": "stream",
     "text": [
      "2022-04-08 14:06.31 [info     ] Model parameters are saved to d3rlpy_logs\\FQE_20220408101531\\model_1121592.pt\n"
     ]
    },
    {
     "data": {
      "application/vnd.jupyter.widget-view+json": {
       "model_id": "73049115da494b90bce7d45b40ff643d",
       "version_major": 2,
       "version_minor": 0
      },
      "text/plain": [
       "Epoch 52/100:   0%|          | 0/21992 [00:00<?, ?it/s]"
      ]
     },
     "metadata": {},
     "output_type": "display_data"
    },
    {
     "name": "stderr",
     "output_type": "stream",
     "text": [
      "WARNING:root:NaN or Inf found in input tensor.\n"
     ]
    },
    {
     "name": "stdout",
     "output_type": "stream",
     "text": [
      "2022-04-08 14:11.24 [info     ] FQE_20220408101531: epoch=52 step=1143584 epoch=52 metrics={'time_sample_batch': 0.0003656212114429162, 'time_algorithm_update': 0.010876524454899466, 'loss': 0.017726033157240712, 'time_step': 0.01192723538234651, 'init_value': -1.3225984573364258, 'ave_value': -1.3223839074138337, 'soft_opc': nan} step=1143584\n"
     ]
    },
    {
     "name": "stderr",
     "output_type": "stream",
     "text": [
      "WARNING:root:NaN or Inf found in input tensor.\n"
     ]
    },
    {
     "name": "stdout",
     "output_type": "stream",
     "text": [
      "2022-04-08 14:11.24 [info     ] Model parameters are saved to d3rlpy_logs\\FQE_20220408101531\\model_1143584.pt\n"
     ]
    },
    {
     "data": {
      "application/vnd.jupyter.widget-view+json": {
       "model_id": "14d467f304ac4357a6d3318ee4e2564a",
       "version_major": 2,
       "version_minor": 0
      },
      "text/plain": [
       "Epoch 53/100:   0%|          | 0/21992 [00:00<?, ?it/s]"
      ]
     },
     "metadata": {},
     "output_type": "display_data"
    },
    {
     "name": "stderr",
     "output_type": "stream",
     "text": [
      "WARNING:root:NaN or Inf found in input tensor.\n"
     ]
    },
    {
     "name": "stdout",
     "output_type": "stream",
     "text": [
      "2022-04-08 14:16.18 [info     ] FQE_20220408101531: epoch=53 step=1165576 epoch=53 metrics={'time_sample_batch': 0.0003766310392791204, 'time_algorithm_update': 0.010905233154560531, 'loss': 0.018000469613303764, 'time_step': 0.011932454182044425, 'init_value': -1.2647055387496948, 'ave_value': -1.2644646277233997, 'soft_opc': nan} step=1165576\n"
     ]
    },
    {
     "name": "stderr",
     "output_type": "stream",
     "text": [
      "WARNING:root:NaN or Inf found in input tensor.\n"
     ]
    },
    {
     "name": "stdout",
     "output_type": "stream",
     "text": [
      "2022-04-08 14:16.18 [info     ] Model parameters are saved to d3rlpy_logs\\FQE_20220408101531\\model_1165576.pt\n"
     ]
    },
    {
     "data": {
      "application/vnd.jupyter.widget-view+json": {
       "model_id": "ec8b26886596455db164a5a2b8d71a21",
       "version_major": 2,
       "version_minor": 0
      },
      "text/plain": [
       "Epoch 54/100:   0%|          | 0/21992 [00:00<?, ?it/s]"
      ]
     },
     "metadata": {},
     "output_type": "display_data"
    },
    {
     "name": "stderr",
     "output_type": "stream",
     "text": [
      "WARNING:root:NaN or Inf found in input tensor.\n"
     ]
    },
    {
     "name": "stdout",
     "output_type": "stream",
     "text": [
      "2022-04-08 14:21.12 [info     ] FQE_20220408101531: epoch=54 step=1187568 epoch=54 metrics={'time_sample_batch': 0.00037430367195723317, 'time_algorithm_update': 0.010879456660842063, 'loss': 0.016986674874604722, 'time_step': 0.011914880156907311, 'init_value': -1.3543647527694702, 'ave_value': -1.3542024727526079, 'soft_opc': nan} step=1187568\n"
     ]
    },
    {
     "name": "stderr",
     "output_type": "stream",
     "text": [
      "WARNING:root:NaN or Inf found in input tensor.\n"
     ]
    },
    {
     "name": "stdout",
     "output_type": "stream",
     "text": [
      "2022-04-08 14:21.12 [info     ] Model parameters are saved to d3rlpy_logs\\FQE_20220408101531\\model_1187568.pt\n"
     ]
    },
    {
     "data": {
      "application/vnd.jupyter.widget-view+json": {
       "model_id": "e6d56bf91b9b46d6a4fe8783a0f23043",
       "version_major": 2,
       "version_minor": 0
      },
      "text/plain": [
       "Epoch 55/100:   0%|          | 0/21992 [00:00<?, ?it/s]"
      ]
     },
     "metadata": {},
     "output_type": "display_data"
    },
    {
     "name": "stderr",
     "output_type": "stream",
     "text": [
      "WARNING:root:NaN or Inf found in input tensor.\n"
     ]
    },
    {
     "name": "stdout",
     "output_type": "stream",
     "text": [
      "2022-04-08 14:26.05 [info     ] FQE_20220408101531: epoch=55 step=1209560 epoch=55 metrics={'time_sample_batch': 0.0003656069661713202, 'time_algorithm_update': 0.010881762530162752, 'loss': 0.017530619784846106, 'time_step': 0.011925981332276596, 'init_value': -1.2456320524215698, 'ave_value': -1.2453618729389397, 'soft_opc': nan} step=1209560\n"
     ]
    },
    {
     "name": "stderr",
     "output_type": "stream",
     "text": [
      "WARNING:root:NaN or Inf found in input tensor.\n"
     ]
    },
    {
     "name": "stdout",
     "output_type": "stream",
     "text": [
      "2022-04-08 14:26.05 [info     ] Model parameters are saved to d3rlpy_logs\\FQE_20220408101531\\model_1209560.pt\n"
     ]
    },
    {
     "data": {
      "application/vnd.jupyter.widget-view+json": {
       "model_id": "5c27cd02efca429fa192e6a7cd7cb757",
       "version_major": 2,
       "version_minor": 0
      },
      "text/plain": [
       "Epoch 56/100:   0%|          | 0/21992 [00:00<?, ?it/s]"
      ]
     },
     "metadata": {},
     "output_type": "display_data"
    },
    {
     "name": "stderr",
     "output_type": "stream",
     "text": [
      "WARNING:root:NaN or Inf found in input tensor.\n"
     ]
    },
    {
     "name": "stdout",
     "output_type": "stream",
     "text": [
      "2022-04-08 14:31.00 [info     ] FQE_20220408101531: epoch=56 step=1231552 epoch=56 metrics={'time_sample_batch': 0.00036628473321061953, 'time_algorithm_update': 0.010945900347762733, 'loss': 0.018722360984760114, 'time_step': 0.011974704042266785, 'init_value': -1.3238378763198853, 'ave_value': -1.3234220352782047, 'soft_opc': nan} step=1231552\n"
     ]
    },
    {
     "name": "stderr",
     "output_type": "stream",
     "text": [
      "WARNING:root:NaN or Inf found in input tensor.\n"
     ]
    },
    {
     "name": "stdout",
     "output_type": "stream",
     "text": [
      "2022-04-08 14:31.00 [info     ] Model parameters are saved to d3rlpy_logs\\FQE_20220408101531\\model_1231552.pt\n"
     ]
    },
    {
     "data": {
      "application/vnd.jupyter.widget-view+json": {
       "model_id": "ac19d8c4573844dc98d5bc924c3c7511",
       "version_major": 2,
       "version_minor": 0
      },
      "text/plain": [
       "Epoch 57/100:   0%|          | 0/21992 [00:00<?, ?it/s]"
      ]
     },
     "metadata": {},
     "output_type": "display_data"
    },
    {
     "name": "stderr",
     "output_type": "stream",
     "text": [
      "WARNING:root:NaN or Inf found in input tensor.\n"
     ]
    },
    {
     "name": "stdout",
     "output_type": "stream",
     "text": [
      "2022-04-08 14:35.55 [info     ] FQE_20220408101531: epoch=57 step=1253544 epoch=57 metrics={'time_sample_batch': 0.0003790240931311448, 'time_algorithm_update': 0.010916038951946632, 'loss': 0.018058412619071398, 'time_step': 0.011954842566923472, 'init_value': -1.3310996294021606, 'ave_value': -1.3307951850279602, 'soft_opc': nan} step=1253544\n"
     ]
    },
    {
     "name": "stderr",
     "output_type": "stream",
     "text": [
      "WARNING:root:NaN or Inf found in input tensor.\n"
     ]
    },
    {
     "name": "stdout",
     "output_type": "stream",
     "text": [
      "2022-04-08 14:35.55 [info     ] Model parameters are saved to d3rlpy_logs\\FQE_20220408101531\\model_1253544.pt\n"
     ]
    },
    {
     "data": {
      "application/vnd.jupyter.widget-view+json": {
       "model_id": "baf6cae24a434534bdaa42dff12bff90",
       "version_major": 2,
       "version_minor": 0
      },
      "text/plain": [
       "Epoch 58/100:   0%|          | 0/21992 [00:00<?, ?it/s]"
      ]
     },
     "metadata": {},
     "output_type": "display_data"
    },
    {
     "name": "stderr",
     "output_type": "stream",
     "text": [
      "WARNING:root:NaN or Inf found in input tensor.\n"
     ]
    },
    {
     "name": "stdout",
     "output_type": "stream",
     "text": [
      "2022-04-08 14:40.51 [info     ] FQE_20220408101531: epoch=58 step=1275536 epoch=58 metrics={'time_sample_batch': 0.00035227125625083037, 'time_algorithm_update': 0.011017043391502133, 'loss': 0.018746885805488826, 'time_step': 0.012030413537599599, 'init_value': -1.3532549142837524, 'ave_value': -1.3529047156405258, 'soft_opc': nan} step=1275536\n"
     ]
    },
    {
     "name": "stderr",
     "output_type": "stream",
     "text": [
      "WARNING:root:NaN or Inf found in input tensor.\n"
     ]
    },
    {
     "name": "stdout",
     "output_type": "stream",
     "text": [
      "2022-04-08 14:40.51 [info     ] Model parameters are saved to d3rlpy_logs\\FQE_20220408101531\\model_1275536.pt\n"
     ]
    },
    {
     "data": {
      "application/vnd.jupyter.widget-view+json": {
       "model_id": "1d0f511c17bf424dbbc688f78fdbd147",
       "version_major": 2,
       "version_minor": 0
      },
      "text/plain": [
       "Epoch 59/100:   0%|          | 0/21992 [00:00<?, ?it/s]"
      ]
     },
     "metadata": {},
     "output_type": "display_data"
    },
    {
     "name": "stderr",
     "output_type": "stream",
     "text": [
      "WARNING:root:NaN or Inf found in input tensor.\n"
     ]
    },
    {
     "name": "stdout",
     "output_type": "stream",
     "text": [
      "2022-04-08 14:45.48 [info     ] FQE_20220408101531: epoch=59 step=1297528 epoch=59 metrics={'time_sample_batch': 0.0003581941886657626, 'time_algorithm_update': 0.011030638042299389, 'loss': 0.01917164723850927, 'time_step': 0.012039386421691379, 'init_value': -1.358017086982727, 'ave_value': -1.3576172695947026, 'soft_opc': nan} step=1297528\n"
     ]
    },
    {
     "name": "stderr",
     "output_type": "stream",
     "text": [
      "WARNING:root:NaN or Inf found in input tensor.\n"
     ]
    },
    {
     "name": "stdout",
     "output_type": "stream",
     "text": [
      "2022-04-08 14:45.48 [info     ] Model parameters are saved to d3rlpy_logs\\FQE_20220408101531\\model_1297528.pt\n"
     ]
    },
    {
     "data": {
      "application/vnd.jupyter.widget-view+json": {
       "model_id": "5d426341a5eb42f2aa68999eada934b7",
       "version_major": 2,
       "version_minor": 0
      },
      "text/plain": [
       "Epoch 60/100:   0%|          | 0/21992 [00:00<?, ?it/s]"
      ]
     },
     "metadata": {},
     "output_type": "display_data"
    },
    {
     "name": "stderr",
     "output_type": "stream",
     "text": [
      "WARNING:root:NaN or Inf found in input tensor.\n"
     ]
    },
    {
     "name": "stdout",
     "output_type": "stream",
     "text": [
      "2022-04-08 14:50.45 [info     ] FQE_20220408101531: epoch=60 step=1319520 epoch=60 metrics={'time_sample_batch': 0.00035650866081082377, 'time_algorithm_update': 0.011006095726822193, 'loss': 0.018870322118286386, 'time_step': 0.01202577186654203, 'init_value': -1.3100930452346802, 'ave_value': -1.3096999373682672, 'soft_opc': nan} step=1319520\n"
     ]
    },
    {
     "name": "stderr",
     "output_type": "stream",
     "text": [
      "WARNING:root:NaN or Inf found in input tensor.\n"
     ]
    },
    {
     "name": "stdout",
     "output_type": "stream",
     "text": [
      "2022-04-08 14:50.45 [info     ] Model parameters are saved to d3rlpy_logs\\FQE_20220408101531\\model_1319520.pt\n"
     ]
    },
    {
     "data": {
      "application/vnd.jupyter.widget-view+json": {
       "model_id": "f951a93877ef46e0bd358d8fe7adc75b",
       "version_major": 2,
       "version_minor": 0
      },
      "text/plain": [
       "Epoch 61/100:   0%|          | 0/21992 [00:00<?, ?it/s]"
      ]
     },
     "metadata": {},
     "output_type": "display_data"
    },
    {
     "name": "stderr",
     "output_type": "stream",
     "text": [
      "WARNING:root:NaN or Inf found in input tensor.\n"
     ]
    },
    {
     "name": "stdout",
     "output_type": "stream",
     "text": [
      "2022-04-08 14:55.41 [info     ] FQE_20220408101531: epoch=61 step=1341512 epoch=61 metrics={'time_sample_batch': 0.0003762123432103917, 'time_algorithm_update': 0.011015882141679449, 'loss': 0.018982398267002248, 'time_step': 0.012065792666994125, 'init_value': -1.386768102645874, 'ave_value': -1.386364795019801, 'soft_opc': nan} step=1341512\n"
     ]
    },
    {
     "name": "stderr",
     "output_type": "stream",
     "text": [
      "WARNING:root:NaN or Inf found in input tensor.\n"
     ]
    },
    {
     "name": "stdout",
     "output_type": "stream",
     "text": [
      "2022-04-08 14:55.41 [info     ] Model parameters are saved to d3rlpy_logs\\FQE_20220408101531\\model_1341512.pt\n"
     ]
    },
    {
     "data": {
      "application/vnd.jupyter.widget-view+json": {
       "model_id": "96cbd4a3dba1493c82588d7eea5d3681",
       "version_major": 2,
       "version_minor": 0
      },
      "text/plain": [
       "Epoch 62/100:   0%|          | 0/21992 [00:00<?, ?it/s]"
      ]
     },
     "metadata": {},
     "output_type": "display_data"
    },
    {
     "name": "stderr",
     "output_type": "stream",
     "text": [
      "WARNING:root:NaN or Inf found in input tensor.\n"
     ]
    },
    {
     "name": "stdout",
     "output_type": "stream",
     "text": [
      "2022-04-08 15:00.38 [info     ] FQE_20220408101531: epoch=62 step=1363504 epoch=62 metrics={'time_sample_batch': 0.0003629084954308614, 'time_algorithm_update': 0.011127770651726777, 'loss': 0.018887747919567842, 'time_step': 0.012140472169874711, 'init_value': -1.2839354276657104, 'ave_value': -1.2836335102276968, 'soft_opc': nan} step=1363504\n"
     ]
    },
    {
     "name": "stderr",
     "output_type": "stream",
     "text": [
      "WARNING:root:NaN or Inf found in input tensor.\n"
     ]
    },
    {
     "name": "stdout",
     "output_type": "stream",
     "text": [
      "2022-04-08 15:00.38 [info     ] Model parameters are saved to d3rlpy_logs\\FQE_20220408101531\\model_1363504.pt\n"
     ]
    },
    {
     "data": {
      "application/vnd.jupyter.widget-view+json": {
       "model_id": "a73344dfda0944e3a9b375870fe182b7",
       "version_major": 2,
       "version_minor": 0
      },
      "text/plain": [
       "Epoch 63/100:   0%|          | 0/21992 [00:00<?, ?it/s]"
      ]
     },
     "metadata": {},
     "output_type": "display_data"
    },
    {
     "name": "stderr",
     "output_type": "stream",
     "text": [
      "WARNING:root:NaN or Inf found in input tensor.\n"
     ]
    },
    {
     "name": "stdout",
     "output_type": "stream",
     "text": [
      "2022-04-08 15:05.38 [info     ] FQE_20220408101531: epoch=63 step=1385496 epoch=63 metrics={'time_sample_batch': 0.000375477844431167, 'time_algorithm_update': 0.011139656292737376, 'loss': 0.019408594092975285, 'time_step': 0.012201447472133477, 'init_value': -1.3572402000427246, 'ave_value': -1.356995996464854, 'soft_opc': nan} step=1385496\n"
     ]
    },
    {
     "name": "stderr",
     "output_type": "stream",
     "text": [
      "WARNING:root:NaN or Inf found in input tensor.\n"
     ]
    },
    {
     "name": "stdout",
     "output_type": "stream",
     "text": [
      "2022-04-08 15:05.38 [info     ] Model parameters are saved to d3rlpy_logs\\FQE_20220408101531\\model_1385496.pt\n"
     ]
    },
    {
     "data": {
      "application/vnd.jupyter.widget-view+json": {
       "model_id": "d80b1924986241308df7e3cc4064f05a",
       "version_major": 2,
       "version_minor": 0
      },
      "text/plain": [
       "Epoch 64/100:   0%|          | 0/21992 [00:00<?, ?it/s]"
      ]
     },
     "metadata": {},
     "output_type": "display_data"
    },
    {
     "name": "stderr",
     "output_type": "stream",
     "text": [
      "WARNING:root:NaN or Inf found in input tensor.\n"
     ]
    },
    {
     "name": "stdout",
     "output_type": "stream",
     "text": [
      "2022-04-08 15:10.38 [info     ] FQE_20220408101531: epoch=64 step=1407488 epoch=64 metrics={'time_sample_batch': 0.00036291823078390034, 'time_algorithm_update': 0.011162676185467062, 'loss': 0.01870864128581488, 'time_step': 0.012195990112921506, 'init_value': -1.2768232822418213, 'ave_value': -1.2764027142407819, 'soft_opc': nan} step=1407488\n"
     ]
    },
    {
     "name": "stderr",
     "output_type": "stream",
     "text": [
      "WARNING:root:NaN or Inf found in input tensor.\n"
     ]
    },
    {
     "name": "stdout",
     "output_type": "stream",
     "text": [
      "2022-04-08 15:10.38 [info     ] Model parameters are saved to d3rlpy_logs\\FQE_20220408101531\\model_1407488.pt\n"
     ]
    },
    {
     "data": {
      "application/vnd.jupyter.widget-view+json": {
       "model_id": "72aa8b1e8772480fa53494012db4476d",
       "version_major": 2,
       "version_minor": 0
      },
      "text/plain": [
       "Epoch 65/100:   0%|          | 0/21992 [00:00<?, ?it/s]"
      ]
     },
     "metadata": {},
     "output_type": "display_data"
    },
    {
     "name": "stderr",
     "output_type": "stream",
     "text": [
      "WARNING:root:NaN or Inf found in input tensor.\n"
     ]
    },
    {
     "name": "stdout",
     "output_type": "stream",
     "text": [
      "2022-04-08 15:15.37 [info     ] FQE_20220408101531: epoch=65 step=1429480 epoch=65 metrics={'time_sample_batch': 0.0003570453844837121, 'time_algorithm_update': 0.011156890133416796, 'loss': 0.018460958344318885, 'time_step': 0.012194641072691983, 'init_value': -1.308440923690796, 'ave_value': -1.3081041556725084, 'soft_opc': nan} step=1429480\n"
     ]
    },
    {
     "name": "stderr",
     "output_type": "stream",
     "text": [
      "WARNING:root:NaN or Inf found in input tensor.\n"
     ]
    },
    {
     "name": "stdout",
     "output_type": "stream",
     "text": [
      "2022-04-08 15:15.37 [info     ] Model parameters are saved to d3rlpy_logs\\FQE_20220408101531\\model_1429480.pt\n"
     ]
    },
    {
     "data": {
      "application/vnd.jupyter.widget-view+json": {
       "model_id": "ca144752bf3441e8a02d1bd1ac410713",
       "version_major": 2,
       "version_minor": 0
      },
      "text/plain": [
       "Epoch 66/100:   0%|          | 0/21992 [00:00<?, ?it/s]"
      ]
     },
     "metadata": {},
     "output_type": "display_data"
    },
    {
     "name": "stderr",
     "output_type": "stream",
     "text": [
      "WARNING:root:NaN or Inf found in input tensor.\n"
     ]
    },
    {
     "name": "stdout",
     "output_type": "stream",
     "text": [
      "2022-04-08 15:20.40 [info     ] FQE_20220408101531: epoch=66 step=1451472 epoch=66 metrics={'time_sample_batch': 0.00036120575182912307, 'time_algorithm_update': 0.01133137521807954, 'loss': 0.01814043719531159, 'time_step': 0.0123551675908216, 'init_value': -1.3011995553970337, 'ave_value': -1.3007865318194942, 'soft_opc': nan} step=1451472\n"
     ]
    },
    {
     "name": "stderr",
     "output_type": "stream",
     "text": [
      "WARNING:root:NaN or Inf found in input tensor.\n"
     ]
    },
    {
     "name": "stdout",
     "output_type": "stream",
     "text": [
      "2022-04-08 15:20.40 [info     ] Model parameters are saved to d3rlpy_logs\\FQE_20220408101531\\model_1451472.pt\n"
     ]
    },
    {
     "data": {
      "application/vnd.jupyter.widget-view+json": {
       "model_id": "c1b86dbab19f4cd28bf10a5cfa9380a1",
       "version_major": 2,
       "version_minor": 0
      },
      "text/plain": [
       "Epoch 67/100:   0%|          | 0/21992 [00:00<?, ?it/s]"
      ]
     },
     "metadata": {},
     "output_type": "display_data"
    },
    {
     "name": "stderr",
     "output_type": "stream",
     "text": [
      "WARNING:root:NaN or Inf found in input tensor.\n"
     ]
    },
    {
     "name": "stdout",
     "output_type": "stream",
     "text": [
      "2022-04-08 15:25.42 [info     ] FQE_20220408101531: epoch=67 step=1473464 epoch=67 metrics={'time_sample_batch': 0.0003899059520282933, 'time_algorithm_update': 0.011268395723191639, 'loss': 0.018965440216756953, 'time_step': 0.012334500910716301, 'init_value': -1.302665114402771, 'ave_value': -1.302239928988886, 'soft_opc': nan} step=1473464\n"
     ]
    },
    {
     "name": "stderr",
     "output_type": "stream",
     "text": [
      "WARNING:root:NaN or Inf found in input tensor.\n"
     ]
    },
    {
     "name": "stdout",
     "output_type": "stream",
     "text": [
      "2022-04-08 15:25.42 [info     ] Model parameters are saved to d3rlpy_logs\\FQE_20220408101531\\model_1473464.pt\n"
     ]
    },
    {
     "data": {
      "application/vnd.jupyter.widget-view+json": {
       "model_id": "6b2b927349594d0fa0f9cbcf47d45c94",
       "version_major": 2,
       "version_minor": 0
      },
      "text/plain": [
       "Epoch 68/100:   0%|          | 0/21992 [00:00<?, ?it/s]"
      ]
     },
     "metadata": {},
     "output_type": "display_data"
    },
    {
     "name": "stderr",
     "output_type": "stream",
     "text": [
      "WARNING:root:NaN or Inf found in input tensor.\n"
     ]
    },
    {
     "name": "stdout",
     "output_type": "stream",
     "text": [
      "2022-04-08 15:30.44 [info     ] FQE_20220408101531: epoch=68 step=1495456 epoch=68 metrics={'time_sample_batch': 0.0003832610532039727, 'time_algorithm_update': 0.01122981881219372, 'loss': 0.019655468817794595, 'time_step': 0.012331580261440007, 'init_value': -1.3877503871917725, 'ave_value': -1.3874085512455434, 'soft_opc': nan} step=1495456\n"
     ]
    },
    {
     "name": "stderr",
     "output_type": "stream",
     "text": [
      "WARNING:root:NaN or Inf found in input tensor.\n"
     ]
    },
    {
     "name": "stdout",
     "output_type": "stream",
     "text": [
      "2022-04-08 15:30.44 [info     ] Model parameters are saved to d3rlpy_logs\\FQE_20220408101531\\model_1495456.pt\n"
     ]
    },
    {
     "data": {
      "application/vnd.jupyter.widget-view+json": {
       "model_id": "0df181d7118945b6ba08d542601891f8",
       "version_major": 2,
       "version_minor": 0
      },
      "text/plain": [
       "Epoch 69/100:   0%|          | 0/21992 [00:00<?, ?it/s]"
      ]
     },
     "metadata": {},
     "output_type": "display_data"
    },
    {
     "name": "stderr",
     "output_type": "stream",
     "text": [
      "WARNING:root:NaN or Inf found in input tensor.\n"
     ]
    },
    {
     "name": "stdout",
     "output_type": "stream",
     "text": [
      "2022-04-08 15:35.46 [info     ] FQE_20220408101531: epoch=69 step=1517448 epoch=69 metrics={'time_sample_batch': 0.00036377742447476683, 'time_algorithm_update': 0.011287381417884008, 'loss': 0.02064155583733833, 'time_step': 0.012294097255038626, 'init_value': -1.3518794775009155, 'ave_value': -1.351594885356834, 'soft_opc': nan} step=1517448\n"
     ]
    },
    {
     "name": "stderr",
     "output_type": "stream",
     "text": [
      "WARNING:root:NaN or Inf found in input tensor.\n"
     ]
    },
    {
     "name": "stdout",
     "output_type": "stream",
     "text": [
      "2022-04-08 15:35.46 [info     ] Model parameters are saved to d3rlpy_logs\\FQE_20220408101531\\model_1517448.pt\n"
     ]
    },
    {
     "data": {
      "application/vnd.jupyter.widget-view+json": {
       "model_id": "6f723ce6cc524530ac3a1f3e7986f133",
       "version_major": 2,
       "version_minor": 0
      },
      "text/plain": [
       "Epoch 70/100:   0%|          | 0/21992 [00:00<?, ?it/s]"
      ]
     },
     "metadata": {},
     "output_type": "display_data"
    },
    {
     "name": "stderr",
     "output_type": "stream",
     "text": [
      "WARNING:root:NaN or Inf found in input tensor.\n"
     ]
    },
    {
     "name": "stdout",
     "output_type": "stream",
     "text": [
      "2022-04-08 15:40.47 [info     ] FQE_20220408101531: epoch=70 step=1539440 epoch=70 metrics={'time_sample_batch': 0.0003827440712659218, 'time_algorithm_update': 0.011210349092660448, 'loss': 0.019446036291277006, 'time_step': 0.012260285148884262, 'init_value': -1.3792451620101929, 'ave_value': -1.3787914291561072, 'soft_opc': nan} step=1539440\n"
     ]
    },
    {
     "name": "stderr",
     "output_type": "stream",
     "text": [
      "WARNING:root:NaN or Inf found in input tensor.\n"
     ]
    },
    {
     "name": "stdout",
     "output_type": "stream",
     "text": [
      "2022-04-08 15:40.47 [info     ] Model parameters are saved to d3rlpy_logs\\FQE_20220408101531\\model_1539440.pt\n"
     ]
    },
    {
     "data": {
      "application/vnd.jupyter.widget-view+json": {
       "model_id": "9ed4fb2604a74c59971367793cd91414",
       "version_major": 2,
       "version_minor": 0
      },
      "text/plain": [
       "Epoch 71/100:   0%|          | 0/21992 [00:00<?, ?it/s]"
      ]
     },
     "metadata": {},
     "output_type": "display_data"
    },
    {
     "name": "stderr",
     "output_type": "stream",
     "text": [
      "WARNING:root:NaN or Inf found in input tensor.\n"
     ]
    },
    {
     "name": "stdout",
     "output_type": "stream",
     "text": [
      "2022-04-08 15:45.47 [info     ] FQE_20220408101531: epoch=71 step=1561432 epoch=71 metrics={'time_sample_batch': 0.00038511035831766415, 'time_algorithm_update': 0.011180940499172162, 'loss': 0.019780629041406924, 'time_step': 0.012236388868399211, 'init_value': -1.2886590957641602, 'ave_value': -1.2882596295270674, 'soft_opc': nan} step=1561432\n"
     ]
    },
    {
     "name": "stderr",
     "output_type": "stream",
     "text": [
      "WARNING:root:NaN or Inf found in input tensor.\n"
     ]
    },
    {
     "name": "stdout",
     "output_type": "stream",
     "text": [
      "2022-04-08 15:45.47 [info     ] Model parameters are saved to d3rlpy_logs\\FQE_20220408101531\\model_1561432.pt\n"
     ]
    },
    {
     "data": {
      "application/vnd.jupyter.widget-view+json": {
       "model_id": "3d989cea3f024ccfacce519d84bf9539",
       "version_major": 2,
       "version_minor": 0
      },
      "text/plain": [
       "Epoch 72/100:   0%|          | 0/21992 [00:00<?, ?it/s]"
      ]
     },
     "metadata": {},
     "output_type": "display_data"
    },
    {
     "name": "stderr",
     "output_type": "stream",
     "text": [
      "WARNING:root:NaN or Inf found in input tensor.\n"
     ]
    },
    {
     "name": "stdout",
     "output_type": "stream",
     "text": [
      "2022-04-08 15:50.46 [info     ] FQE_20220408101531: epoch=72 step=1583424 epoch=72 metrics={'time_sample_batch': 0.00037542938448897965, 'time_algorithm_update': 0.011158711923690829, 'loss': 0.0194564720295131, 'time_step': 0.012184841865277282, 'init_value': -1.3384792804718018, 'ave_value': -1.338080767710649, 'soft_opc': nan} step=1583424\n"
     ]
    },
    {
     "name": "stderr",
     "output_type": "stream",
     "text": [
      "WARNING:root:NaN or Inf found in input tensor.\n"
     ]
    },
    {
     "name": "stdout",
     "output_type": "stream",
     "text": [
      "2022-04-08 15:50.46 [info     ] Model parameters are saved to d3rlpy_logs\\FQE_20220408101531\\model_1583424.pt\n"
     ]
    },
    {
     "data": {
      "application/vnd.jupyter.widget-view+json": {
       "model_id": "1a9823af45d245c9aef1886d989823f9",
       "version_major": 2,
       "version_minor": 0
      },
      "text/plain": [
       "Epoch 73/100:   0%|          | 0/21992 [00:00<?, ?it/s]"
      ]
     },
     "metadata": {},
     "output_type": "display_data"
    },
    {
     "name": "stderr",
     "output_type": "stream",
     "text": [
      "WARNING:root:NaN or Inf found in input tensor.\n"
     ]
    },
    {
     "name": "stdout",
     "output_type": "stream",
     "text": [
      "2022-04-08 15:55.44 [info     ] FQE_20220408101531: epoch=73 step=1605416 epoch=73 metrics={'time_sample_batch': 0.00038150883059191157, 'time_algorithm_update': 0.01115417909778305, 'loss': 0.019259221746088767, 'time_step': 0.012176845888087167, 'init_value': -1.2978966236114502, 'ave_value': -1.2974379195262369, 'soft_opc': nan} step=1605416\n"
     ]
    },
    {
     "name": "stderr",
     "output_type": "stream",
     "text": [
      "WARNING:root:NaN or Inf found in input tensor.\n"
     ]
    },
    {
     "name": "stdout",
     "output_type": "stream",
     "text": [
      "2022-04-08 15:55.44 [info     ] Model parameters are saved to d3rlpy_logs\\FQE_20220408101531\\model_1605416.pt\n"
     ]
    },
    {
     "data": {
      "application/vnd.jupyter.widget-view+json": {
       "model_id": "6e8dbc55c8b24769b66ac920f3767c7c",
       "version_major": 2,
       "version_minor": 0
      },
      "text/plain": [
       "Epoch 74/100:   0%|          | 0/21992 [00:00<?, ?it/s]"
      ]
     },
     "metadata": {},
     "output_type": "display_data"
    },
    {
     "name": "stderr",
     "output_type": "stream",
     "text": [
      "WARNING:root:NaN or Inf found in input tensor.\n"
     ]
    },
    {
     "name": "stdout",
     "output_type": "stream",
     "text": [
      "2022-04-08 16:00.44 [info     ] FQE_20220408101531: epoch=74 step=1627408 epoch=74 metrics={'time_sample_batch': 0.00035284330039164855, 'time_algorithm_update': 0.011183387466065014, 'loss': 0.02011337156029361, 'time_step': 0.012209851672841054, 'init_value': -1.4251493215560913, 'ave_value': -1.4246760001512682, 'soft_opc': nan} step=1627408\n"
     ]
    },
    {
     "name": "stderr",
     "output_type": "stream",
     "text": [
      "WARNING:root:NaN or Inf found in input tensor.\n"
     ]
    },
    {
     "name": "stdout",
     "output_type": "stream",
     "text": [
      "2022-04-08 16:00.44 [info     ] Model parameters are saved to d3rlpy_logs\\FQE_20220408101531\\model_1627408.pt\n"
     ]
    },
    {
     "data": {
      "application/vnd.jupyter.widget-view+json": {
       "model_id": "c20b8d7bc53745f0a910156e7e6761ca",
       "version_major": 2,
       "version_minor": 0
      },
      "text/plain": [
       "Epoch 75/100:   0%|          | 0/21992 [00:00<?, ?it/s]"
      ]
     },
     "metadata": {},
     "output_type": "display_data"
    },
    {
     "name": "stderr",
     "output_type": "stream",
     "text": [
      "WARNING:root:NaN or Inf found in input tensor.\n"
     ]
    },
    {
     "name": "stdout",
     "output_type": "stream",
     "text": [
      "2022-04-08 16:05.45 [info     ] FQE_20220408101531: epoch=75 step=1649400 epoch=75 metrics={'time_sample_batch': 0.00041831658510088095, 'time_algorithm_update': 0.011136052499211194, 'loss': 0.020532397567049915, 'time_step': 0.012262756302383606, 'init_value': -1.4017254114151, 'ave_value': -1.4013069942657803, 'soft_opc': nan} step=1649400\n"
     ]
    },
    {
     "name": "stderr",
     "output_type": "stream",
     "text": [
      "WARNING:root:NaN or Inf found in input tensor.\n"
     ]
    },
    {
     "name": "stdout",
     "output_type": "stream",
     "text": [
      "2022-04-08 16:05.45 [info     ] Model parameters are saved to d3rlpy_logs\\FQE_20220408101531\\model_1649400.pt\n"
     ]
    },
    {
     "data": {
      "application/vnd.jupyter.widget-view+json": {
       "model_id": "6d229960acb74131b84e8f044eeb7216",
       "version_major": 2,
       "version_minor": 0
      },
      "text/plain": [
       "Epoch 76/100:   0%|          | 0/21992 [00:00<?, ?it/s]"
      ]
     },
     "metadata": {},
     "output_type": "display_data"
    },
    {
     "name": "stderr",
     "output_type": "stream",
     "text": [
      "WARNING:root:NaN or Inf found in input tensor.\n"
     ]
    },
    {
     "name": "stdout",
     "output_type": "stream",
     "text": [
      "2022-04-08 16:10.46 [info     ] FQE_20220408101531: epoch=76 step=1671392 epoch=76 metrics={'time_sample_batch': 0.0003996114376979813, 'time_algorithm_update': 0.011243362964912518, 'loss': 0.02115813148439453, 'time_step': 0.012300688219139818, 'init_value': -1.4321569204330444, 'ave_value': -1.4315830565428604, 'soft_opc': nan} step=1671392\n"
     ]
    },
    {
     "name": "stderr",
     "output_type": "stream",
     "text": [
      "WARNING:root:NaN or Inf found in input tensor.\n"
     ]
    },
    {
     "name": "stdout",
     "output_type": "stream",
     "text": [
      "2022-04-08 16:10.46 [info     ] Model parameters are saved to d3rlpy_logs\\FQE_20220408101531\\model_1671392.pt\n"
     ]
    },
    {
     "data": {
      "application/vnd.jupyter.widget-view+json": {
       "model_id": "d7d70e1658da451bb785dabca39fc009",
       "version_major": 2,
       "version_minor": 0
      },
      "text/plain": [
       "Epoch 77/100:   0%|          | 0/21992 [00:00<?, ?it/s]"
      ]
     },
     "metadata": {},
     "output_type": "display_data"
    },
    {
     "name": "stderr",
     "output_type": "stream",
     "text": [
      "WARNING:root:NaN or Inf found in input tensor.\n"
     ]
    },
    {
     "name": "stdout",
     "output_type": "stream",
     "text": [
      "2022-04-08 16:15.48 [info     ] FQE_20220408101531: epoch=77 step=1693384 epoch=77 metrics={'time_sample_batch': 0.0003675849232165412, 'time_algorithm_update': 0.011259681476424416, 'loss': 0.01936783557475496, 'time_step': 0.012289769554537137, 'init_value': -1.3395956754684448, 'ave_value': -1.3390961705998545, 'soft_opc': nan} step=1693384\n"
     ]
    },
    {
     "name": "stderr",
     "output_type": "stream",
     "text": [
      "WARNING:root:NaN or Inf found in input tensor.\n"
     ]
    },
    {
     "name": "stdout",
     "output_type": "stream",
     "text": [
      "2022-04-08 16:15.48 [info     ] Model parameters are saved to d3rlpy_logs\\FQE_20220408101531\\model_1693384.pt\n"
     ]
    },
    {
     "data": {
      "application/vnd.jupyter.widget-view+json": {
       "model_id": "ca42901378e44344a89f5b57ecd23bb6",
       "version_major": 2,
       "version_minor": 0
      },
      "text/plain": [
       "Epoch 78/100:   0%|          | 0/21992 [00:00<?, ?it/s]"
      ]
     },
     "metadata": {},
     "output_type": "display_data"
    },
    {
     "name": "stderr",
     "output_type": "stream",
     "text": [
      "WARNING:root:NaN or Inf found in input tensor.\n"
     ]
    },
    {
     "name": "stdout",
     "output_type": "stream",
     "text": [
      "2022-04-08 16:20.49 [info     ] FQE_20220408101531: epoch=78 step=1715376 epoch=78 metrics={'time_sample_batch': 0.0003998155765595892, 'time_algorithm_update': 0.01121123861989007, 'loss': 0.01813864467560893, 'time_step': 0.012280864091559556, 'init_value': -1.3258864879608154, 'ave_value': -1.3253045807336006, 'soft_opc': nan} step=1715376\n"
     ]
    },
    {
     "name": "stderr",
     "output_type": "stream",
     "text": [
      "WARNING:root:NaN or Inf found in input tensor.\n"
     ]
    },
    {
     "name": "stdout",
     "output_type": "stream",
     "text": [
      "2022-04-08 16:20.49 [info     ] Model parameters are saved to d3rlpy_logs\\FQE_20220408101531\\model_1715376.pt\n"
     ]
    },
    {
     "data": {
      "application/vnd.jupyter.widget-view+json": {
       "model_id": "c63a6860fbc64ea899b10729594448a9",
       "version_major": 2,
       "version_minor": 0
      },
      "text/plain": [
       "Epoch 79/100:   0%|          | 0/21992 [00:00<?, ?it/s]"
      ]
     },
     "metadata": {},
     "output_type": "display_data"
    },
    {
     "name": "stderr",
     "output_type": "stream",
     "text": [
      "WARNING:root:NaN or Inf found in input tensor.\n"
     ]
    },
    {
     "name": "stdout",
     "output_type": "stream",
     "text": [
      "2022-04-08 16:25.51 [info     ] FQE_20220408101531: epoch=79 step=1737368 epoch=79 metrics={'time_sample_batch': 0.00039475741018681754, 'time_algorithm_update': 0.011255247380873124, 'loss': 0.02025263439269478, 'time_step': 0.012323700859139902, 'init_value': -1.3790216445922852, 'ave_value': -1.378395254180384, 'soft_opc': nan} step=1737368\n"
     ]
    },
    {
     "name": "stderr",
     "output_type": "stream",
     "text": [
      "WARNING:root:NaN or Inf found in input tensor.\n"
     ]
    },
    {
     "name": "stdout",
     "output_type": "stream",
     "text": [
      "2022-04-08 16:25.51 [info     ] Model parameters are saved to d3rlpy_logs\\FQE_20220408101531\\model_1737368.pt\n"
     ]
    },
    {
     "data": {
      "application/vnd.jupyter.widget-view+json": {
       "model_id": "5d0fb08e5b624e6986cb43299ebbd5ae",
       "version_major": 2,
       "version_minor": 0
      },
      "text/plain": [
       "Epoch 80/100:   0%|          | 0/21992 [00:00<?, ?it/s]"
      ]
     },
     "metadata": {},
     "output_type": "display_data"
    },
    {
     "name": "stderr",
     "output_type": "stream",
     "text": [
      "WARNING:root:NaN or Inf found in input tensor.\n"
     ]
    },
    {
     "name": "stdout",
     "output_type": "stream",
     "text": [
      "2022-04-08 16:30.52 [info     ] FQE_20220408101531: epoch=80 step=1759360 epoch=80 metrics={'time_sample_batch': 0.00039207000826089414, 'time_algorithm_update': 0.011223420690475442, 'loss': 0.020354956652457904, 'time_step': 0.01229720456724212, 'init_value': -1.4156057834625244, 'ave_value': -1.4151293058240293, 'soft_opc': nan} step=1759360\n"
     ]
    },
    {
     "name": "stderr",
     "output_type": "stream",
     "text": [
      "WARNING:root:NaN or Inf found in input tensor.\n"
     ]
    },
    {
     "name": "stdout",
     "output_type": "stream",
     "text": [
      "2022-04-08 16:30.52 [info     ] Model parameters are saved to d3rlpy_logs\\FQE_20220408101531\\model_1759360.pt\n"
     ]
    },
    {
     "data": {
      "application/vnd.jupyter.widget-view+json": {
       "model_id": "938ecbe0c75d4e71842840102e8c4f3d",
       "version_major": 2,
       "version_minor": 0
      },
      "text/plain": [
       "Epoch 81/100:   0%|          | 0/21992 [00:00<?, ?it/s]"
      ]
     },
     "metadata": {},
     "output_type": "display_data"
    },
    {
     "name": "stderr",
     "output_type": "stream",
     "text": [
      "WARNING:root:NaN or Inf found in input tensor.\n"
     ]
    },
    {
     "name": "stdout",
     "output_type": "stream",
     "text": [
      "2022-04-08 16:35.55 [info     ] FQE_20220408101531: epoch=81 step=1781352 epoch=81 metrics={'time_sample_batch': 0.0003486506589415638, 'time_algorithm_update': 0.01132460362957191, 'loss': 0.02078803270970652, 'time_step': 0.012353794006227624, 'init_value': -1.3773541450500488, 'ave_value': -1.3766137801991596, 'soft_opc': nan} step=1781352\n"
     ]
    },
    {
     "name": "stderr",
     "output_type": "stream",
     "text": [
      "WARNING:root:NaN or Inf found in input tensor.\n"
     ]
    },
    {
     "name": "stdout",
     "output_type": "stream",
     "text": [
      "2022-04-08 16:35.55 [info     ] Model parameters are saved to d3rlpy_logs\\FQE_20220408101531\\model_1781352.pt\n"
     ]
    },
    {
     "data": {
      "application/vnd.jupyter.widget-view+json": {
       "model_id": "1e9c3abc774a4949b853f16e99977705",
       "version_major": 2,
       "version_minor": 0
      },
      "text/plain": [
       "Epoch 82/100:   0%|          | 0/21992 [00:00<?, ?it/s]"
      ]
     },
     "metadata": {},
     "output_type": "display_data"
    },
    {
     "name": "stderr",
     "output_type": "stream",
     "text": [
      "WARNING:root:NaN or Inf found in input tensor.\n"
     ]
    },
    {
     "name": "stdout",
     "output_type": "stream",
     "text": [
      "2022-04-08 16:40.57 [info     ] FQE_20220408101531: epoch=82 step=1803344 epoch=82 metrics={'time_sample_batch': 0.0003957499500273271, 'time_algorithm_update': 0.011288333184157947, 'loss': 0.020880130492619872, 'time_step': 0.012333097426229582, 'init_value': -1.3595433235168457, 'ave_value': -1.3590943936268596, 'soft_opc': nan} step=1803344\n"
     ]
    },
    {
     "name": "stderr",
     "output_type": "stream",
     "text": [
      "WARNING:root:NaN or Inf found in input tensor.\n"
     ]
    },
    {
     "name": "stdout",
     "output_type": "stream",
     "text": [
      "2022-04-08 16:40.57 [info     ] Model parameters are saved to d3rlpy_logs\\FQE_20220408101531\\model_1803344.pt\n"
     ]
    },
    {
     "data": {
      "application/vnd.jupyter.widget-view+json": {
       "model_id": "1531125381714b96b82243e05707c383",
       "version_major": 2,
       "version_minor": 0
      },
      "text/plain": [
       "Epoch 83/100:   0%|          | 0/21992 [00:00<?, ?it/s]"
      ]
     },
     "metadata": {},
     "output_type": "display_data"
    },
    {
     "name": "stderr",
     "output_type": "stream",
     "text": [
      "WARNING:root:NaN or Inf found in input tensor.\n"
     ]
    },
    {
     "name": "stdout",
     "output_type": "stream",
     "text": [
      "2022-04-08 16:45.59 [info     ] FQE_20220408101531: epoch=83 step=1825336 epoch=83 metrics={'time_sample_batch': 0.00038460442351184786, 'time_algorithm_update': 0.011244730207433523, 'loss': 0.020503146041550048, 'time_step': 0.012322391909484474, 'init_value': -1.4593223333358765, 'ave_value': -1.4588454467206888, 'soft_opc': nan} step=1825336\n"
     ]
    },
    {
     "name": "stderr",
     "output_type": "stream",
     "text": [
      "WARNING:root:NaN or Inf found in input tensor.\n"
     ]
    },
    {
     "name": "stdout",
     "output_type": "stream",
     "text": [
      "2022-04-08 16:45.59 [info     ] Model parameters are saved to d3rlpy_logs\\FQE_20220408101531\\model_1825336.pt\n"
     ]
    },
    {
     "data": {
      "application/vnd.jupyter.widget-view+json": {
       "model_id": "e8fb4fae37e44d649fcf2bebd4509700",
       "version_major": 2,
       "version_minor": 0
      },
      "text/plain": [
       "Epoch 84/100:   0%|          | 0/21992 [00:00<?, ?it/s]"
      ]
     },
     "metadata": {},
     "output_type": "display_data"
    },
    {
     "name": "stderr",
     "output_type": "stream",
     "text": [
      "WARNING:root:NaN or Inf found in input tensor.\n"
     ]
    },
    {
     "name": "stdout",
     "output_type": "stream",
     "text": [
      "2022-04-08 16:51.01 [info     ] FQE_20220408101531: epoch=84 step=1847328 epoch=84 metrics={'time_sample_batch': 0.0003988729818988688, 'time_algorithm_update': 0.011244838131085531, 'loss': 0.02068963114136529, 'time_step': 0.012328664956850848, 'init_value': -1.3934898376464844, 'ave_value': -1.39298659181488, 'soft_opc': nan} step=1847328\n"
     ]
    },
    {
     "name": "stderr",
     "output_type": "stream",
     "text": [
      "WARNING:root:NaN or Inf found in input tensor.\n"
     ]
    },
    {
     "name": "stdout",
     "output_type": "stream",
     "text": [
      "2022-04-08 16:51.01 [info     ] Model parameters are saved to d3rlpy_logs\\FQE_20220408101531\\model_1847328.pt\n"
     ]
    },
    {
     "data": {
      "application/vnd.jupyter.widget-view+json": {
       "model_id": "9e693712dd63471f9c9a70496ccdb968",
       "version_major": 2,
       "version_minor": 0
      },
      "text/plain": [
       "Epoch 85/100:   0%|          | 0/21992 [00:00<?, ?it/s]"
      ]
     },
     "metadata": {},
     "output_type": "display_data"
    },
    {
     "name": "stderr",
     "output_type": "stream",
     "text": [
      "WARNING:root:NaN or Inf found in input tensor.\n"
     ]
    },
    {
     "name": "stdout",
     "output_type": "stream",
     "text": [
      "2022-04-08 16:56.04 [info     ] FQE_20220408101531: epoch=85 step=1869320 epoch=85 metrics={'time_sample_batch': 0.0004069148930431323, 'time_algorithm_update': 0.011272573815817918, 'loss': 0.020479335603524208, 'time_step': 0.01233550435675409, 'init_value': -1.4001010656356812, 'ave_value': -1.3994674717701636, 'soft_opc': nan} step=1869320\n"
     ]
    },
    {
     "name": "stderr",
     "output_type": "stream",
     "text": [
      "WARNING:root:NaN or Inf found in input tensor.\n"
     ]
    },
    {
     "name": "stdout",
     "output_type": "stream",
     "text": [
      "2022-04-08 16:56.04 [info     ] Model parameters are saved to d3rlpy_logs\\FQE_20220408101531\\model_1869320.pt\n"
     ]
    },
    {
     "data": {
      "application/vnd.jupyter.widget-view+json": {
       "model_id": "1bd2f7d59fd14680863e238292f8aa48",
       "version_major": 2,
       "version_minor": 0
      },
      "text/plain": [
       "Epoch 86/100:   0%|          | 0/21992 [00:00<?, ?it/s]"
      ]
     },
     "metadata": {},
     "output_type": "display_data"
    },
    {
     "name": "stderr",
     "output_type": "stream",
     "text": [
      "WARNING:root:NaN or Inf found in input tensor.\n"
     ]
    },
    {
     "name": "stdout",
     "output_type": "stream",
     "text": [
      "2022-04-08 17:01.06 [info     ] FQE_20220408101531: epoch=86 step=1891312 epoch=86 metrics={'time_sample_batch': 0.00040059275694785007, 'time_algorithm_update': 0.011213017338273654, 'loss': 0.0203339119789477, 'time_step': 0.012326653749997418, 'init_value': -1.358876347541809, 'ave_value': -1.3583477062245983, 'soft_opc': nan} step=1891312\n"
     ]
    },
    {
     "name": "stderr",
     "output_type": "stream",
     "text": [
      "WARNING:root:NaN or Inf found in input tensor.\n"
     ]
    },
    {
     "name": "stdout",
     "output_type": "stream",
     "text": [
      "2022-04-08 17:01.06 [info     ] Model parameters are saved to d3rlpy_logs\\FQE_20220408101531\\model_1891312.pt\n"
     ]
    },
    {
     "data": {
      "application/vnd.jupyter.widget-view+json": {
       "model_id": "4fb08189ab7b4a0d8d3b4cbc8b58cfbf",
       "version_major": 2,
       "version_minor": 0
      },
      "text/plain": [
       "Epoch 87/100:   0%|          | 0/21992 [00:00<?, ?it/s]"
      ]
     },
     "metadata": {},
     "output_type": "display_data"
    },
    {
     "name": "stderr",
     "output_type": "stream",
     "text": [
      "WARNING:root:NaN or Inf found in input tensor.\n"
     ]
    },
    {
     "name": "stdout",
     "output_type": "stream",
     "text": [
      "2022-04-08 17:06.08 [info     ] FQE_20220408101531: epoch=87 step=1913304 epoch=87 metrics={'time_sample_batch': 0.00035809604373139526, 'time_algorithm_update': 0.01130956085043068, 'loss': 0.020339359853559145, 'time_step': 0.01233559017530048, 'init_value': -1.402394413948059, 'ave_value': -1.4018925250330834, 'soft_opc': nan} step=1913304\n"
     ]
    },
    {
     "name": "stderr",
     "output_type": "stream",
     "text": [
      "WARNING:root:NaN or Inf found in input tensor.\n"
     ]
    },
    {
     "name": "stdout",
     "output_type": "stream",
     "text": [
      "2022-04-08 17:06.08 [info     ] Model parameters are saved to d3rlpy_logs\\FQE_20220408101531\\model_1913304.pt\n"
     ]
    },
    {
     "data": {
      "application/vnd.jupyter.widget-view+json": {
       "model_id": "30fa441f798241e2b9a629acf7791e3b",
       "version_major": 2,
       "version_minor": 0
      },
      "text/plain": [
       "Epoch 88/100:   0%|          | 0/21992 [00:00<?, ?it/s]"
      ]
     },
     "metadata": {},
     "output_type": "display_data"
    },
    {
     "name": "stderr",
     "output_type": "stream",
     "text": [
      "WARNING:root:NaN or Inf found in input tensor.\n"
     ]
    },
    {
     "name": "stdout",
     "output_type": "stream",
     "text": [
      "2022-04-08 17:11.10 [info     ] FQE_20220408101531: epoch=88 step=1935296 epoch=88 metrics={'time_sample_batch': 0.00037772108442612497, 'time_algorithm_update': 0.01129963528940833, 'loss': 0.02098845026688921, 'time_step': 0.012347023317535472, 'init_value': -1.450186848640442, 'ave_value': -1.4495036299949293, 'soft_opc': nan} step=1935296\n"
     ]
    },
    {
     "name": "stderr",
     "output_type": "stream",
     "text": [
      "WARNING:root:NaN or Inf found in input tensor.\n"
     ]
    },
    {
     "name": "stdout",
     "output_type": "stream",
     "text": [
      "2022-04-08 17:11.10 [info     ] Model parameters are saved to d3rlpy_logs\\FQE_20220408101531\\model_1935296.pt\n"
     ]
    },
    {
     "data": {
      "application/vnd.jupyter.widget-view+json": {
       "model_id": "464371a772554da8a7411d11ff8922b9",
       "version_major": 2,
       "version_minor": 0
      },
      "text/plain": [
       "Epoch 89/100:   0%|          | 0/21992 [00:00<?, ?it/s]"
      ]
     },
     "metadata": {},
     "output_type": "display_data"
    },
    {
     "name": "stderr",
     "output_type": "stream",
     "text": [
      "WARNING:root:NaN or Inf found in input tensor.\n"
     ]
    },
    {
     "name": "stdout",
     "output_type": "stream",
     "text": [
      "2022-04-08 17:16.14 [info     ] FQE_20220408101531: epoch=89 step=1957288 epoch=89 metrics={'time_sample_batch': 0.0003948407461097692, 'time_algorithm_update': 0.011289617199167505, 'loss': 0.020281255311571045, 'time_step': 0.012390919460648405, 'init_value': -1.3632228374481201, 'ave_value': -1.3627095481679625, 'soft_opc': nan} step=1957288\n"
     ]
    },
    {
     "name": "stderr",
     "output_type": "stream",
     "text": [
      "WARNING:root:NaN or Inf found in input tensor.\n"
     ]
    },
    {
     "name": "stdout",
     "output_type": "stream",
     "text": [
      "2022-04-08 17:16.14 [info     ] Model parameters are saved to d3rlpy_logs\\FQE_20220408101531\\model_1957288.pt\n"
     ]
    },
    {
     "data": {
      "application/vnd.jupyter.widget-view+json": {
       "model_id": "278f69874c6a4a68b1fba9248f8cdfd3",
       "version_major": 2,
       "version_minor": 0
      },
      "text/plain": [
       "Epoch 90/100:   0%|          | 0/21992 [00:00<?, ?it/s]"
      ]
     },
     "metadata": {},
     "output_type": "display_data"
    },
    {
     "name": "stderr",
     "output_type": "stream",
     "text": [
      "WARNING:root:NaN or Inf found in input tensor.\n"
     ]
    },
    {
     "name": "stdout",
     "output_type": "stream",
     "text": [
      "2022-04-08 17:21.17 [info     ] FQE_20220408101531: epoch=90 step=1979280 epoch=90 metrics={'time_sample_batch': 0.00039197931119683613, 'time_algorithm_update': 0.011333477642372245, 'loss': 0.020753896746936805, 'time_step': 0.0123844071057286, 'init_value': -1.3583476543426514, 'ave_value': -1.3578825416486258, 'soft_opc': nan} step=1979280\n"
     ]
    },
    {
     "name": "stderr",
     "output_type": "stream",
     "text": [
      "WARNING:root:NaN or Inf found in input tensor.\n"
     ]
    },
    {
     "name": "stdout",
     "output_type": "stream",
     "text": [
      "2022-04-08 17:21.17 [info     ] Model parameters are saved to d3rlpy_logs\\FQE_20220408101531\\model_1979280.pt\n"
     ]
    },
    {
     "data": {
      "application/vnd.jupyter.widget-view+json": {
       "model_id": "132d1e4091b24b5dbb7e83a2c2122950",
       "version_major": 2,
       "version_minor": 0
      },
      "text/plain": [
       "Epoch 91/100:   0%|          | 0/21992 [00:00<?, ?it/s]"
      ]
     },
     "metadata": {},
     "output_type": "display_data"
    },
    {
     "name": "stderr",
     "output_type": "stream",
     "text": [
      "WARNING:root:NaN or Inf found in input tensor.\n"
     ]
    },
    {
     "name": "stdout",
     "output_type": "stream",
     "text": [
      "2022-04-08 17:26.21 [info     ] FQE_20220408101531: epoch=91 step=2001272 epoch=91 metrics={'time_sample_batch': 0.00040606384105619926, 'time_algorithm_update': 0.011322322900878945, 'loss': 0.020185506504070135, 'time_step': 0.012412018225643149, 'init_value': -1.44951331615448, 'ave_value': -1.4487905443475242, 'soft_opc': nan} step=2001272\n"
     ]
    },
    {
     "name": "stderr",
     "output_type": "stream",
     "text": [
      "WARNING:root:NaN or Inf found in input tensor.\n"
     ]
    },
    {
     "name": "stdout",
     "output_type": "stream",
     "text": [
      "2022-04-08 17:26.21 [info     ] Model parameters are saved to d3rlpy_logs\\FQE_20220408101531\\model_2001272.pt\n"
     ]
    },
    {
     "data": {
      "application/vnd.jupyter.widget-view+json": {
       "model_id": "b376de6509a34646beec4589cfdab994",
       "version_major": 2,
       "version_minor": 0
      },
      "text/plain": [
       "Epoch 92/100:   0%|          | 0/21992 [00:00<?, ?it/s]"
      ]
     },
     "metadata": {},
     "output_type": "display_data"
    },
    {
     "name": "stderr",
     "output_type": "stream",
     "text": [
      "WARNING:root:NaN or Inf found in input tensor.\n"
     ]
    },
    {
     "name": "stdout",
     "output_type": "stream",
     "text": [
      "2022-04-08 17:31.23 [info     ] FQE_20220408101531: epoch=92 step=2023264 epoch=92 metrics={'time_sample_batch': 0.0004168455385650102, 'time_algorithm_update': 0.011268751757411186, 'loss': 0.0216806577676526, 'time_step': 0.012371730906350173, 'init_value': -1.4495348930358887, 'ave_value': -1.448752344858767, 'soft_opc': nan} step=2023264\n"
     ]
    },
    {
     "name": "stderr",
     "output_type": "stream",
     "text": [
      "WARNING:root:NaN or Inf found in input tensor.\n"
     ]
    },
    {
     "name": "stdout",
     "output_type": "stream",
     "text": [
      "2022-04-08 17:31.23 [info     ] Model parameters are saved to d3rlpy_logs\\FQE_20220408101531\\model_2023264.pt\n"
     ]
    },
    {
     "data": {
      "application/vnd.jupyter.widget-view+json": {
       "model_id": "72189435cc8241e3aa1f3329937f2b03",
       "version_major": 2,
       "version_minor": 0
      },
      "text/plain": [
       "Epoch 93/100:   0%|          | 0/21992 [00:00<?, ?it/s]"
      ]
     },
     "metadata": {},
     "output_type": "display_data"
    },
    {
     "name": "stderr",
     "output_type": "stream",
     "text": [
      "WARNING:root:NaN or Inf found in input tensor.\n"
     ]
    },
    {
     "name": "stdout",
     "output_type": "stream",
     "text": [
      "2022-04-08 17:36.28 [info     ] FQE_20220408101531: epoch=93 step=2045256 epoch=93 metrics={'time_sample_batch': 0.000422375056473894, 'time_algorithm_update': 0.011320411822890402, 'loss': 0.02085398148734087, 'time_step': 0.012416729258380834, 'init_value': -1.3919988870620728, 'ave_value': -1.3914394819298492, 'soft_opc': nan} step=2045256\n"
     ]
    },
    {
     "name": "stderr",
     "output_type": "stream",
     "text": [
      "WARNING:root:NaN or Inf found in input tensor.\n"
     ]
    },
    {
     "name": "stdout",
     "output_type": "stream",
     "text": [
      "2022-04-08 17:36.28 [info     ] Model parameters are saved to d3rlpy_logs\\FQE_20220408101531\\model_2045256.pt\n"
     ]
    },
    {
     "data": {
      "application/vnd.jupyter.widget-view+json": {
       "model_id": "044ea728639241f7a968e5991dacfddb",
       "version_major": 2,
       "version_minor": 0
      },
      "text/plain": [
       "Epoch 94/100:   0%|          | 0/21992 [00:00<?, ?it/s]"
      ]
     },
     "metadata": {},
     "output_type": "display_data"
    },
    {
     "name": "stderr",
     "output_type": "stream",
     "text": [
      "WARNING:root:NaN or Inf found in input tensor.\n"
     ]
    },
    {
     "name": "stdout",
     "output_type": "stream",
     "text": [
      "2022-04-08 17:41.31 [info     ] FQE_20220408101531: epoch=94 step=2067248 epoch=94 metrics={'time_sample_batch': 0.00039339951273743655, 'time_algorithm_update': 0.011332354650969243, 'loss': 0.021543099441270985, 'time_step': 0.01239406787165298, 'init_value': -1.4453223943710327, 'ave_value': -1.4446857915357911, 'soft_opc': nan} step=2067248\n"
     ]
    },
    {
     "name": "stderr",
     "output_type": "stream",
     "text": [
      "WARNING:root:NaN or Inf found in input tensor.\n"
     ]
    },
    {
     "name": "stdout",
     "output_type": "stream",
     "text": [
      "2022-04-08 17:41.31 [info     ] Model parameters are saved to d3rlpy_logs\\FQE_20220408101531\\model_2067248.pt\n"
     ]
    },
    {
     "data": {
      "application/vnd.jupyter.widget-view+json": {
       "model_id": "5f951dba3513462ea2c75bccb3a329dd",
       "version_major": 2,
       "version_minor": 0
      },
      "text/plain": [
       "Epoch 95/100:   0%|          | 0/21992 [00:00<?, ?it/s]"
      ]
     },
     "metadata": {},
     "output_type": "display_data"
    },
    {
     "name": "stderr",
     "output_type": "stream",
     "text": [
      "WARNING:root:NaN or Inf found in input tensor.\n"
     ]
    },
    {
     "name": "stdout",
     "output_type": "stream",
     "text": [
      "2022-04-08 17:46.35 [info     ] FQE_20220408101531: epoch=95 step=2089240 epoch=95 metrics={'time_sample_batch': 0.00037591663999269557, 'time_algorithm_update': 0.01139372487465396, 'loss': 0.020782538862985325, 'time_step': 0.012454724292314543, 'init_value': -1.3417508602142334, 'ave_value': -1.3410881339551053, 'soft_opc': nan} step=2089240\n"
     ]
    },
    {
     "name": "stderr",
     "output_type": "stream",
     "text": [
      "WARNING:root:NaN or Inf found in input tensor.\n"
     ]
    },
    {
     "name": "stdout",
     "output_type": "stream",
     "text": [
      "2022-04-08 17:46.35 [info     ] Model parameters are saved to d3rlpy_logs\\FQE_20220408101531\\model_2089240.pt\n"
     ]
    },
    {
     "data": {
      "application/vnd.jupyter.widget-view+json": {
       "model_id": "54ef6ddd239b4f2a839951199638352c",
       "version_major": 2,
       "version_minor": 0
      },
      "text/plain": [
       "Epoch 96/100:   0%|          | 0/21992 [00:00<?, ?it/s]"
      ]
     },
     "metadata": {},
     "output_type": "display_data"
    },
    {
     "name": "stderr",
     "output_type": "stream",
     "text": [
      "WARNING:root:NaN or Inf found in input tensor.\n"
     ]
    },
    {
     "name": "stdout",
     "output_type": "stream",
     "text": [
      "2022-04-08 17:51.41 [info     ] FQE_20220408101531: epoch=96 step=2111232 epoch=96 metrics={'time_sample_batch': 0.00036690532402282804, 'time_algorithm_update': 0.011408734805109545, 'loss': 0.02048873100988236, 'time_step': 0.012461476323386893, 'init_value': -1.394972801208496, 'ave_value': -1.3943627591657317, 'soft_opc': nan} step=2111232\n"
     ]
    },
    {
     "name": "stderr",
     "output_type": "stream",
     "text": [
      "WARNING:root:NaN or Inf found in input tensor.\n"
     ]
    },
    {
     "name": "stdout",
     "output_type": "stream",
     "text": [
      "2022-04-08 17:51.41 [info     ] Model parameters are saved to d3rlpy_logs\\FQE_20220408101531\\model_2111232.pt\n"
     ]
    },
    {
     "data": {
      "application/vnd.jupyter.widget-view+json": {
       "model_id": "bb5ba1407bcf4ba2b365e40c21b393b6",
       "version_major": 2,
       "version_minor": 0
      },
      "text/plain": [
       "Epoch 97/100:   0%|          | 0/21992 [00:00<?, ?it/s]"
      ]
     },
     "metadata": {},
     "output_type": "display_data"
    },
    {
     "name": "stderr",
     "output_type": "stream",
     "text": [
      "WARNING:root:NaN or Inf found in input tensor.\n"
     ]
    },
    {
     "name": "stdout",
     "output_type": "stream",
     "text": [
      "2022-04-08 17:56.48 [info     ] FQE_20220408101531: epoch=97 step=2133224 epoch=97 metrics={'time_sample_batch': 0.00039684395219421944, 'time_algorithm_update': 0.01143764678718134, 'loss': 0.021215572621518908, 'time_step': 0.012489814125611245, 'init_value': -1.429599642753601, 'ave_value': -1.429008664413845, 'soft_opc': nan} step=2133224\n"
     ]
    },
    {
     "name": "stderr",
     "output_type": "stream",
     "text": [
      "WARNING:root:NaN or Inf found in input tensor.\n"
     ]
    },
    {
     "name": "stdout",
     "output_type": "stream",
     "text": [
      "2022-04-08 17:56.48 [info     ] Model parameters are saved to d3rlpy_logs\\FQE_20220408101531\\model_2133224.pt\n"
     ]
    },
    {
     "data": {
      "application/vnd.jupyter.widget-view+json": {
       "model_id": "845b1c4c97574c2cb90d7c15f8c49939",
       "version_major": 2,
       "version_minor": 0
      },
      "text/plain": [
       "Epoch 98/100:   0%|          | 0/21992 [00:00<?, ?it/s]"
      ]
     },
     "metadata": {},
     "output_type": "display_data"
    },
    {
     "name": "stderr",
     "output_type": "stream",
     "text": [
      "WARNING:root:NaN or Inf found in input tensor.\n"
     ]
    },
    {
     "name": "stdout",
     "output_type": "stream",
     "text": [
      "2022-04-08 18:01.53 [info     ] FQE_20220408101531: epoch=98 step=2155216 epoch=98 metrics={'time_sample_batch': 0.0003764577218080356, 'time_algorithm_update': 0.011412908257723462, 'loss': 0.021983982455997465, 'time_step': 0.012457663577528337, 'init_value': -1.4113314151763916, 'ave_value': -1.4106843986786632, 'soft_opc': nan} step=2155216\n"
     ]
    },
    {
     "name": "stderr",
     "output_type": "stream",
     "text": [
      "WARNING:root:NaN or Inf found in input tensor.\n"
     ]
    },
    {
     "name": "stdout",
     "output_type": "stream",
     "text": [
      "2022-04-08 18:01.53 [info     ] Model parameters are saved to d3rlpy_logs\\FQE_20220408101531\\model_2155216.pt\n"
     ]
    },
    {
     "data": {
      "application/vnd.jupyter.widget-view+json": {
       "model_id": "746beb3ed345485d8a51a8509a98ba92",
       "version_major": 2,
       "version_minor": 0
      },
      "text/plain": [
       "Epoch 99/100:   0%|          | 0/21992 [00:00<?, ?it/s]"
      ]
     },
     "metadata": {},
     "output_type": "display_data"
    },
    {
     "name": "stderr",
     "output_type": "stream",
     "text": [
      "WARNING:root:NaN or Inf found in input tensor.\n"
     ]
    },
    {
     "name": "stdout",
     "output_type": "stream",
     "text": [
      "2022-04-08 18:06.57 [info     ] FQE_20220408101531: epoch=99 step=2177208 epoch=99 metrics={'time_sample_batch': 0.00036088775920625077, 'time_algorithm_update': 0.011380922907090005, 'loss': 0.021368039876755666, 'time_step': 0.012450439197534038, 'init_value': -1.3978217840194702, 'ave_value': -1.3972072687280406, 'soft_opc': nan} step=2177208\n"
     ]
    },
    {
     "name": "stderr",
     "output_type": "stream",
     "text": [
      "WARNING:root:NaN or Inf found in input tensor.\n"
     ]
    },
    {
     "name": "stdout",
     "output_type": "stream",
     "text": [
      "2022-04-08 18:06.57 [info     ] Model parameters are saved to d3rlpy_logs\\FQE_20220408101531\\model_2177208.pt\n"
     ]
    },
    {
     "data": {
      "application/vnd.jupyter.widget-view+json": {
       "model_id": "959b8862b60f4715a2af96029cbb95d4",
       "version_major": 2,
       "version_minor": 0
      },
      "text/plain": [
       "Epoch 100/100:   0%|          | 0/21992 [00:00<?, ?it/s]"
      ]
     },
     "metadata": {},
     "output_type": "display_data"
    },
    {
     "name": "stderr",
     "output_type": "stream",
     "text": [
      "WARNING:root:NaN or Inf found in input tensor.\n"
     ]
    },
    {
     "name": "stdout",
     "output_type": "stream",
     "text": [
      "2022-04-08 18:12.02 [info     ] FQE_20220408101531: epoch=100 step=2199200 epoch=100 metrics={'time_sample_batch': 0.00040322245143031415, 'time_algorithm_update': 0.011376602665299978, 'loss': 0.021428368828787916, 'time_step': 0.012449288929796687, 'init_value': -1.385913610458374, 'ave_value': -1.3852465892698747, 'soft_opc': nan} step=2199200\n"
     ]
    },
    {
     "name": "stderr",
     "output_type": "stream",
     "text": [
      "WARNING:root:NaN or Inf found in input tensor.\n"
     ]
    },
    {
     "name": "stdout",
     "output_type": "stream",
     "text": [
      "2022-04-08 18:12.02 [info     ] Model parameters are saved to d3rlpy_logs\\FQE_20220408101531\\model_2199200.pt\n"
     ]
    },
    {
     "data": {
      "text/plain": [
       "[(1,\n",
       "  {'time_sample_batch': 0.0004048699593708792,\n",
       "   'time_algorithm_update': 0.006098231745876369,\n",
       "   'loss': 0.008039890150641332,\n",
       "   'time_step': 0.007181064936844988,\n",
       "   'init_value': -1.154395341873169,\n",
       "   'ave_value': -1.1544075110241856,\n",
       "   'soft_opc': nan}),\n",
       " (2,\n",
       "  {'time_sample_batch': 0.00037823652692082235,\n",
       "   'time_algorithm_update': 0.006257258098140202,\n",
       "   'loss': 0.013434912411280527,\n",
       "   'time_step': 0.007295431571251352,\n",
       "   'init_value': -1.180904746055603,\n",
       "   'ave_value': -1.1811056208214301,\n",
       "   'soft_opc': nan}),\n",
       " (3,\n",
       "  {'time_sample_batch': 0.00041217648276158705,\n",
       "   'time_algorithm_update': 0.006883125384966648,\n",
       "   'loss': 0.014252102441193727,\n",
       "   'time_step': 0.007972539425243157,\n",
       "   'init_value': -1.1604664325714111,\n",
       "   'ave_value': -1.1606499106798156,\n",
       "   'soft_opc': nan}),\n",
       " (4,\n",
       "  {'time_sample_batch': 0.000401743122255555,\n",
       "   'time_algorithm_update': 0.007437083332180413,\n",
       "   'loss': 0.015185871014634358,\n",
       "   'time_step': 0.008545193673481114,\n",
       "   'init_value': -1.195298671722412,\n",
       "   'ave_value': -1.1952821628598946,\n",
       "   'soft_opc': nan}),\n",
       " (5,\n",
       "  {'time_sample_batch': 0.0003641567238030238,\n",
       "   'time_algorithm_update': 0.008003419498913329,\n",
       "   'loss': 0.015308996614840115,\n",
       "   'time_step': 0.009047474599656472,\n",
       "   'init_value': -1.169339895248413,\n",
       "   'ave_value': -1.1693944027291105,\n",
       "   'soft_opc': nan}),\n",
       " (6,\n",
       "  {'time_sample_batch': 0.00035926935975444927,\n",
       "   'time_algorithm_update': 0.008394934667939054,\n",
       "   'loss': 0.014609038872071893,\n",
       "   'time_step': 0.009419298922204677,\n",
       "   'init_value': -1.138919472694397,\n",
       "   'ave_value': -1.138992706594444,\n",
       "   'soft_opc': nan}),\n",
       " (7,\n",
       "  {'time_sample_batch': 0.0003800832843641751,\n",
       "   'time_algorithm_update': 0.008689667234077329,\n",
       "   'loss': 0.014428027205826493,\n",
       "   'time_step': 0.009751578240708552,\n",
       "   'init_value': -1.1590601205825806,\n",
       "   'ave_value': -1.1591620210023603,\n",
       "   'soft_opc': nan}),\n",
       " (8,\n",
       "  {'time_sample_batch': 0.0003831527392705513,\n",
       "   'time_algorithm_update': 0.008864249184418697,\n",
       "   'loss': 0.01323338779321702,\n",
       "   'time_step': 0.009893151934513745,\n",
       "   'init_value': -1.1980708837509155,\n",
       "   'ave_value': -1.1981059106975052,\n",
       "   'soft_opc': nan}),\n",
       " (9,\n",
       "  {'time_sample_batch': 0.0004104103509535916,\n",
       "   'time_algorithm_update': 0.008907498143377544,\n",
       "   'loss': 0.014349795552355077,\n",
       "   'time_step': 0.009981999866916466,\n",
       "   'init_value': -1.1312906742095947,\n",
       "   'ave_value': -1.1312130914176615,\n",
       "   'soft_opc': nan}),\n",
       " (10,\n",
       "  {'time_sample_batch': 0.00037146658626804787,\n",
       "   'time_algorithm_update': 0.009101748000322233,\n",
       "   'loss': 0.014582610868446762,\n",
       "   'time_step': 0.010134937167818133,\n",
       "   'init_value': -1.2426053285598755,\n",
       "   'ave_value': -1.2426685256248935,\n",
       "   'soft_opc': nan}),\n",
       " (11,\n",
       "  {'time_sample_batch': 0.0003536223454577743,\n",
       "   'time_algorithm_update': 0.009227238056138455,\n",
       "   'loss': 0.014690146030782364,\n",
       "   'time_step': 0.010244167471157502,\n",
       "   'init_value': -1.1994329690933228,\n",
       "   'ave_value': -1.1994973462173737,\n",
       "   'soft_opc': nan}),\n",
       " (12,\n",
       "  {'time_sample_batch': 0.00039331907140163563,\n",
       "   'time_algorithm_update': 0.009351231339368963,\n",
       "   'loss': 0.013931506289044257,\n",
       "   'time_step': 0.010394558034059394,\n",
       "   'init_value': -1.215981125831604,\n",
       "   'ave_value': -1.216004924007886,\n",
       "   'soft_opc': nan}),\n",
       " (13,\n",
       "  {'time_sample_batch': 0.0003573706732007884,\n",
       "   'time_algorithm_update': 0.009499633776226578,\n",
       "   'loss': 0.015166496552072908,\n",
       "   'time_step': 0.010549570981612333,\n",
       "   'init_value': -1.227781057357788,\n",
       "   'ave_value': -1.2278013146218947,\n",
       "   'soft_opc': nan}),\n",
       " (14,\n",
       "  {'time_sample_batch': 0.0003863673463393316,\n",
       "   'time_algorithm_update': 0.009680380384112845,\n",
       "   'loss': 0.014558229442230909,\n",
       "   'time_step': 0.010715630129060991,\n",
       "   'init_value': -1.246973991394043,\n",
       "   'ave_value': -1.2470047649558438,\n",
       "   'soft_opc': nan}),\n",
       " (15,\n",
       "  {'time_sample_batch': 0.00039508371797202933,\n",
       "   'time_algorithm_update': 0.009781392932848828,\n",
       "   'loss': 0.014838246528901422,\n",
       "   'time_step': 0.010849759031443564,\n",
       "   'init_value': -1.1998211145401,\n",
       "   'ave_value': -1.199792116111952,\n",
       "   'soft_opc': nan}),\n",
       " (16,\n",
       "  {'time_sample_batch': 0.00036232762659363593,\n",
       "   'time_algorithm_update': 0.009918521679111203,\n",
       "   'loss': 0.014406733138312314,\n",
       "   'time_step': 0.010970824683696931,\n",
       "   'init_value': -1.1943985223770142,\n",
       "   'ave_value': -1.1944454668964195,\n",
       "   'soft_opc': nan}),\n",
       " (17,\n",
       "  {'time_sample_batch': 0.0003744374409117409,\n",
       "   'time_algorithm_update': 0.00995922580811274,\n",
       "   'loss': 0.01428214350057523,\n",
       "   'time_step': 0.010988600592736375,\n",
       "   'init_value': -1.2051113843917847,\n",
       "   'ave_value': -1.205107509673067,\n",
       "   'soft_opc': nan}),\n",
       " (18,\n",
       "  {'time_sample_batch': 0.00038203330376487333,\n",
       "   'time_algorithm_update': 0.009992525821687873,\n",
       "   'loss': 0.01538582366787415,\n",
       "   'time_step': 0.011040078787076859,\n",
       "   'init_value': -1.2083408832550049,\n",
       "   'ave_value': -1.2083175075438217,\n",
       "   'soft_opc': nan}),\n",
       " (19,\n",
       "  {'time_sample_batch': 0.0003776499231150472,\n",
       "   'time_algorithm_update': 0.010087388912171787,\n",
       "   'loss': 0.015587125753716942,\n",
       "   'time_step': 0.011116117564232924,\n",
       "   'init_value': -1.291703701019287,\n",
       "   'ave_value': -1.2917355034870188,\n",
       "   'soft_opc': nan}),\n",
       " (20,\n",
       "  {'time_sample_batch': 0.00038141430660177034,\n",
       "   'time_algorithm_update': 0.01013614619459053,\n",
       "   'loss': 0.01642687688007645,\n",
       "   'time_step': 0.01120726348444001,\n",
       "   'init_value': -1.3033894300460815,\n",
       "   'ave_value': -1.3033330699220398,\n",
       "   'soft_opc': nan}),\n",
       " (21,\n",
       "  {'time_sample_batch': 0.0003627845377174452,\n",
       "   'time_algorithm_update': 0.010275525205913306,\n",
       "   'loss': 0.015841113109846715,\n",
       "   'time_step': 0.011290682190415988,\n",
       "   'init_value': -1.169848084449768,\n",
       "   'ave_value': -1.1698074653602528,\n",
       "   'soft_opc': nan}),\n",
       " (22,\n",
       "  {'time_sample_batch': 0.0003991935547155309,\n",
       "   'time_algorithm_update': 0.010175608903462342,\n",
       "   'loss': 0.014962510315741714,\n",
       "   'time_step': 0.011254640785986052,\n",
       "   'init_value': -1.232766032218933,\n",
       "   'ave_value': -1.2326975976731844,\n",
       "   'soft_opc': nan}),\n",
       " (23,\n",
       "  {'time_sample_batch': 0.0003740067762129955,\n",
       "   'time_algorithm_update': 0.01019599491702552,\n",
       "   'loss': 0.015272819416004188,\n",
       "   'time_step': 0.011222728472182688,\n",
       "   'init_value': -1.2490142583847046,\n",
       "   'ave_value': -1.2489793407124297,\n",
       "   'soft_opc': nan}),\n",
       " (24,\n",
       "  {'time_sample_batch': 0.00037722665208085924,\n",
       "   'time_algorithm_update': 0.01034557153719822,\n",
       "   'loss': 0.015330276761558743,\n",
       "   'time_step': 0.011372585498709903,\n",
       "   'init_value': -1.2209209203720093,\n",
       "   'ave_value': -1.2208193116043171,\n",
       "   'soft_opc': nan}),\n",
       " (25,\n",
       "  {'time_sample_batch': 0.00036412851512974156,\n",
       "   'time_algorithm_update': 0.010422165457141664,\n",
       "   'loss': 0.01598359552031045,\n",
       "   'time_step': 0.011432539120115943,\n",
       "   'init_value': -1.275980830192566,\n",
       "   'ave_value': -1.2758916281015589,\n",
       "   'soft_opc': nan}),\n",
       " (26,\n",
       "  {'time_sample_batch': 0.0004066187778617218,\n",
       "   'time_algorithm_update': 0.010525358031124754,\n",
       "   'loss': 0.01530209168822247,\n",
       "   'time_step': 0.011579620833828822,\n",
       "   'init_value': -1.1911277770996094,\n",
       "   'ave_value': -1.1910750424994203,\n",
       "   'soft_opc': nan}),\n",
       " (27,\n",
       "  {'time_sample_batch': 0.00036039408574151143,\n",
       "   'time_algorithm_update': 0.010449083122872318,\n",
       "   'loss': 0.015500339997666921,\n",
       "   'time_step': 0.011442454566344993,\n",
       "   'init_value': -1.1870168447494507,\n",
       "   'ave_value': -1.186933588020294,\n",
       "   'soft_opc': nan}),\n",
       " (28,\n",
       "  {'time_sample_batch': 0.00035879855027585604,\n",
       "   'time_algorithm_update': 0.010388076576418164,\n",
       "   'loss': 0.01600205843245359,\n",
       "   'time_step': 0.011380769569859065,\n",
       "   'init_value': -1.2194031476974487,\n",
       "   'ave_value': -1.2193073361700875,\n",
       "   'soft_opc': nan}),\n",
       " (29,\n",
       "  {'time_sample_batch': 0.0003691882751516187,\n",
       "   'time_algorithm_update': 0.010393462644225252,\n",
       "   'loss': 0.014929111543583956,\n",
       "   'time_step': 0.011391606427140998,\n",
       "   'init_value': -1.2406582832336426,\n",
       "   'ave_value': -1.240550970992641,\n",
       "   'soft_opc': nan}),\n",
       " (30,\n",
       "  {'time_sample_batch': 0.0003781930755901094,\n",
       "   'time_algorithm_update': 0.010459870577031979,\n",
       "   'loss': 0.01659551338828585,\n",
       "   'time_step': 0.011503374958177097,\n",
       "   'init_value': -1.3277769088745117,\n",
       "   'ave_value': -1.327732560858772,\n",
       "   'soft_opc': nan}),\n",
       " (31,\n",
       "  {'time_sample_batch': 0.00040786431762859055,\n",
       "   'time_algorithm_update': 0.010588652277131565,\n",
       "   'loss': 0.015615969580082796,\n",
       "   'time_step': 0.011671441030224786,\n",
       "   'init_value': -1.1669950485229492,\n",
       "   'ave_value': -1.1669357978392219,\n",
       "   'soft_opc': nan}),\n",
       " (32,\n",
       "  {'time_sample_batch': 0.000382251275934363,\n",
       "   'time_algorithm_update': 0.010628813893285913,\n",
       "   'loss': 0.015787606790232157,\n",
       "   'time_step': 0.01164645871581837,\n",
       "   'init_value': -1.286812663078308,\n",
       "   'ave_value': -1.286785836159481,\n",
       "   'soft_opc': nan}),\n",
       " (33,\n",
       "  {'time_sample_batch': 0.0003887681732961766,\n",
       "   'time_algorithm_update': 0.010661597033334498,\n",
       "   'loss': 0.01625863429416741,\n",
       "   'time_step': 0.011710565321746415,\n",
       "   'init_value': -1.2790303230285645,\n",
       "   'ave_value': -1.278940926040821,\n",
       "   'soft_opc': nan}),\n",
       " (34,\n",
       "  {'time_sample_batch': 0.0003883243257585722,\n",
       "   'time_algorithm_update': 0.010679927824973713,\n",
       "   'loss': 0.01630106943089238,\n",
       "   'time_step': 0.011726495893533206,\n",
       "   'init_value': -1.2428741455078125,\n",
       "   'ave_value': -1.2428395448060978,\n",
       "   'soft_opc': nan}),\n",
       " (35,\n",
       "  {'time_sample_batch': 0.0003916657851279194,\n",
       "   'time_algorithm_update': 0.010682084812776268,\n",
       "   'loss': 0.01639387184197003,\n",
       "   'time_step': 0.011736918261112755,\n",
       "   'init_value': -1.2327381372451782,\n",
       "   'ave_value': -1.2326644746887354,\n",
       "   'soft_opc': nan}),\n",
       " (36,\n",
       "  {'time_sample_batch': 0.00037975765957143706,\n",
       "   'time_algorithm_update': 0.010579572065651048,\n",
       "   'loss': 0.01577876313677914,\n",
       "   'time_step': 0.01162693157071155,\n",
       "   'init_value': -1.2238786220550537,\n",
       "   'ave_value': -1.2237758103046827,\n",
       "   'soft_opc': nan}),\n",
       " (37,\n",
       "  {'time_sample_batch': 0.0003939866260772794,\n",
       "   'time_algorithm_update': 0.010539354617572256,\n",
       "   'loss': 0.015422168284340064,\n",
       "   'time_step': 0.011622724662307567,\n",
       "   'init_value': -1.2989387512207031,\n",
       "   'ave_value': -1.2988755545998099,\n",
       "   'soft_opc': nan}),\n",
       " (38,\n",
       "  {'time_sample_batch': 0.00039032606828772143,\n",
       "   'time_algorithm_update': 0.010564566298197207,\n",
       "   'loss': 0.016692986195376718,\n",
       "   'time_step': 0.011617210159391956,\n",
       "   'init_value': -1.2697631120681763,\n",
       "   'ave_value': -1.2696380816535526,\n",
       "   'soft_opc': nan}),\n",
       " (39,\n",
       "  {'time_sample_batch': 0.0003771254174186343,\n",
       "   'time_algorithm_update': 0.010699721217892654,\n",
       "   'loss': 0.016985949493373946,\n",
       "   'time_step': 0.011746668867650314,\n",
       "   'init_value': -1.3316798210144043,\n",
       "   'ave_value': -1.331606647509581,\n",
       "   'soft_opc': nan}),\n",
       " (40,\n",
       "  {'time_sample_batch': 0.0004118317558618839,\n",
       "   'time_algorithm_update': 0.010665733322484921,\n",
       "   'loss': 0.01704987189422773,\n",
       "   'time_step': 0.011746473293297505,\n",
       "   'init_value': -1.3140630722045898,\n",
       "   'ave_value': -1.3139170348126743,\n",
       "   'soft_opc': nan}),\n",
       " (41,\n",
       "  {'time_sample_batch': 0.0003864474515994708,\n",
       "   'time_algorithm_update': 0.01070834421469715,\n",
       "   'loss': 0.017213841057155947,\n",
       "   'time_step': 0.011731143646476138,\n",
       "   'init_value': -1.257326364517212,\n",
       "   'ave_value': -1.2572564576441834,\n",
       "   'soft_opc': nan}),\n",
       " (42,\n",
       "  {'time_sample_batch': 0.00037120517360899566,\n",
       "   'time_algorithm_update': 0.01070023801553115,\n",
       "   'loss': 0.01664899390805755,\n",
       "   'time_step': 0.011763267828881329,\n",
       "   'init_value': -1.2693506479263306,\n",
       "   'ave_value': -1.269284359583138,\n",
       "   'soft_opc': nan}),\n",
       " (43,\n",
       "  {'time_sample_batch': 0.00038007386340449707,\n",
       "   'time_algorithm_update': 0.010724077022218757,\n",
       "   'loss': 0.016771692367774274,\n",
       "   'time_step': 0.011780811943284552,\n",
       "   'init_value': -1.2042527198791504,\n",
       "   'ave_value': -1.204107349382153,\n",
       "   'soft_opc': nan}),\n",
       " (44,\n",
       "  {'time_sample_batch': 0.0003633341081535309,\n",
       "   'time_algorithm_update': 0.01071794575541702,\n",
       "   'loss': 0.016763283371185215,\n",
       "   'time_step': 0.011752058036026412,\n",
       "   'init_value': -1.244667887687683,\n",
       "   'ave_value': -1.2445336135525151,\n",
       "   'soft_opc': nan}),\n",
       " (45,\n",
       "  {'time_sample_batch': 0.00037082945186036335,\n",
       "   'time_algorithm_update': 0.010701758476030441,\n",
       "   'loss': 0.01630205701111403,\n",
       "   'time_step': 0.011761532952109872,\n",
       "   'init_value': -1.2385843992233276,\n",
       "   'ave_value': -1.2384167397445625,\n",
       "   'soft_opc': nan}),\n",
       " (46,\n",
       "  {'time_sample_batch': 0.0003587391190894867,\n",
       "   'time_algorithm_update': 0.010902628318835884,\n",
       "   'loss': 0.017455006916773742,\n",
       "   'time_step': 0.011920587578093889,\n",
       "   'init_value': -1.3894442319869995,\n",
       "   'ave_value': -1.389243624310786,\n",
       "   'soft_opc': nan}),\n",
       " (47,\n",
       "  {'time_sample_batch': 0.0003875097108780579,\n",
       "   'time_algorithm_update': 0.010765515378970759,\n",
       "   'loss': 0.01792004111571055,\n",
       "   'time_step': 0.011833720399753186,\n",
       "   'init_value': -1.3034937381744385,\n",
       "   'ave_value': -1.3033472578706653,\n",
       "   'soft_opc': nan}),\n",
       " (48,\n",
       "  {'time_sample_batch': 0.00035919793825576243,\n",
       "   'time_algorithm_update': 0.010883191784063917,\n",
       "   'loss': 0.018132026734343214,\n",
       "   'time_step': 0.011902585262469961,\n",
       "   'init_value': -1.3212393522262573,\n",
       "   'ave_value': -1.3210465416814068,\n",
       "   'soft_opc': nan}),\n",
       " (49,\n",
       "  {'time_sample_batch': 0.00037757137898056237,\n",
       "   'time_algorithm_update': 0.010833779837097329,\n",
       "   'loss': 0.018059169751885557,\n",
       "   'time_step': 0.011889417796362179,\n",
       "   'init_value': -1.3076229095458984,\n",
       "   'ave_value': -1.3074006540937348,\n",
       "   'soft_opc': nan}),\n",
       " (50,\n",
       "  {'time_sample_batch': 0.00037121656765804243,\n",
       "   'time_algorithm_update': 0.010823299707868569,\n",
       "   'loss': 0.017747067851574597,\n",
       "   'time_step': 0.011851452131104842,\n",
       "   'init_value': -1.3062236309051514,\n",
       "   'ave_value': -1.3060754774612993,\n",
       "   'soft_opc': nan}),\n",
       " (51,\n",
       "  {'time_sample_batch': 0.0003807711553556263,\n",
       "   'time_algorithm_update': 0.010856462288180366,\n",
       "   'loss': 0.016974813595250555,\n",
       "   'time_step': 0.011900548329566687,\n",
       "   'init_value': -1.3001558780670166,\n",
       "   'ave_value': -1.2999145561840055,\n",
       "   'soft_opc': nan}),\n",
       " (52,\n",
       "  {'time_sample_batch': 0.0003656212114429162,\n",
       "   'time_algorithm_update': 0.010876524454899466,\n",
       "   'loss': 0.017726033157240712,\n",
       "   'time_step': 0.01192723538234651,\n",
       "   'init_value': -1.3225984573364258,\n",
       "   'ave_value': -1.3223839074138337,\n",
       "   'soft_opc': nan}),\n",
       " (53,\n",
       "  {'time_sample_batch': 0.0003766310392791204,\n",
       "   'time_algorithm_update': 0.010905233154560531,\n",
       "   'loss': 0.018000469613303764,\n",
       "   'time_step': 0.011932454182044425,\n",
       "   'init_value': -1.2647055387496948,\n",
       "   'ave_value': -1.2644646277233997,\n",
       "   'soft_opc': nan}),\n",
       " (54,\n",
       "  {'time_sample_batch': 0.00037430367195723317,\n",
       "   'time_algorithm_update': 0.010879456660842063,\n",
       "   'loss': 0.016986674874604722,\n",
       "   'time_step': 0.011914880156907311,\n",
       "   'init_value': -1.3543647527694702,\n",
       "   'ave_value': -1.3542024727526079,\n",
       "   'soft_opc': nan}),\n",
       " (55,\n",
       "  {'time_sample_batch': 0.0003656069661713202,\n",
       "   'time_algorithm_update': 0.010881762530162752,\n",
       "   'loss': 0.017530619784846106,\n",
       "   'time_step': 0.011925981332276596,\n",
       "   'init_value': -1.2456320524215698,\n",
       "   'ave_value': -1.2453618729389397,\n",
       "   'soft_opc': nan}),\n",
       " (56,\n",
       "  {'time_sample_batch': 0.00036628473321061953,\n",
       "   'time_algorithm_update': 0.010945900347762733,\n",
       "   'loss': 0.018722360984760114,\n",
       "   'time_step': 0.011974704042266785,\n",
       "   'init_value': -1.3238378763198853,\n",
       "   'ave_value': -1.3234220352782047,\n",
       "   'soft_opc': nan}),\n",
       " (57,\n",
       "  {'time_sample_batch': 0.0003790240931311448,\n",
       "   'time_algorithm_update': 0.010916038951946632,\n",
       "   'loss': 0.018058412619071398,\n",
       "   'time_step': 0.011954842566923472,\n",
       "   'init_value': -1.3310996294021606,\n",
       "   'ave_value': -1.3307951850279602,\n",
       "   'soft_opc': nan}),\n",
       " (58,\n",
       "  {'time_sample_batch': 0.00035227125625083037,\n",
       "   'time_algorithm_update': 0.011017043391502133,\n",
       "   'loss': 0.018746885805488826,\n",
       "   'time_step': 0.012030413537599599,\n",
       "   'init_value': -1.3532549142837524,\n",
       "   'ave_value': -1.3529047156405258,\n",
       "   'soft_opc': nan}),\n",
       " (59,\n",
       "  {'time_sample_batch': 0.0003581941886657626,\n",
       "   'time_algorithm_update': 0.011030638042299389,\n",
       "   'loss': 0.01917164723850927,\n",
       "   'time_step': 0.012039386421691379,\n",
       "   'init_value': -1.358017086982727,\n",
       "   'ave_value': -1.3576172695947026,\n",
       "   'soft_opc': nan}),\n",
       " (60,\n",
       "  {'time_sample_batch': 0.00035650866081082377,\n",
       "   'time_algorithm_update': 0.011006095726822193,\n",
       "   'loss': 0.018870322118286386,\n",
       "   'time_step': 0.01202577186654203,\n",
       "   'init_value': -1.3100930452346802,\n",
       "   'ave_value': -1.3096999373682672,\n",
       "   'soft_opc': nan}),\n",
       " (61,\n",
       "  {'time_sample_batch': 0.0003762123432103917,\n",
       "   'time_algorithm_update': 0.011015882141679449,\n",
       "   'loss': 0.018982398267002248,\n",
       "   'time_step': 0.012065792666994125,\n",
       "   'init_value': -1.386768102645874,\n",
       "   'ave_value': -1.386364795019801,\n",
       "   'soft_opc': nan}),\n",
       " (62,\n",
       "  {'time_sample_batch': 0.0003629084954308614,\n",
       "   'time_algorithm_update': 0.011127770651726777,\n",
       "   'loss': 0.018887747919567842,\n",
       "   'time_step': 0.012140472169874711,\n",
       "   'init_value': -1.2839354276657104,\n",
       "   'ave_value': -1.2836335102276968,\n",
       "   'soft_opc': nan}),\n",
       " (63,\n",
       "  {'time_sample_batch': 0.000375477844431167,\n",
       "   'time_algorithm_update': 0.011139656292737376,\n",
       "   'loss': 0.019408594092975285,\n",
       "   'time_step': 0.012201447472133477,\n",
       "   'init_value': -1.3572402000427246,\n",
       "   'ave_value': -1.356995996464854,\n",
       "   'soft_opc': nan}),\n",
       " (64,\n",
       "  {'time_sample_batch': 0.00036291823078390034,\n",
       "   'time_algorithm_update': 0.011162676185467062,\n",
       "   'loss': 0.01870864128581488,\n",
       "   'time_step': 0.012195990112921506,\n",
       "   'init_value': -1.2768232822418213,\n",
       "   'ave_value': -1.2764027142407819,\n",
       "   'soft_opc': nan}),\n",
       " (65,\n",
       "  {'time_sample_batch': 0.0003570453844837121,\n",
       "   'time_algorithm_update': 0.011156890133416796,\n",
       "   'loss': 0.018460958344318885,\n",
       "   'time_step': 0.012194641072691983,\n",
       "   'init_value': -1.308440923690796,\n",
       "   'ave_value': -1.3081041556725084,\n",
       "   'soft_opc': nan}),\n",
       " (66,\n",
       "  {'time_sample_batch': 0.00036120575182912307,\n",
       "   'time_algorithm_update': 0.01133137521807954,\n",
       "   'loss': 0.01814043719531159,\n",
       "   'time_step': 0.0123551675908216,\n",
       "   'init_value': -1.3011995553970337,\n",
       "   'ave_value': -1.3007865318194942,\n",
       "   'soft_opc': nan}),\n",
       " (67,\n",
       "  {'time_sample_batch': 0.0003899059520282933,\n",
       "   'time_algorithm_update': 0.011268395723191639,\n",
       "   'loss': 0.018965440216756953,\n",
       "   'time_step': 0.012334500910716301,\n",
       "   'init_value': -1.302665114402771,\n",
       "   'ave_value': -1.302239928988886,\n",
       "   'soft_opc': nan}),\n",
       " (68,\n",
       "  {'time_sample_batch': 0.0003832610532039727,\n",
       "   'time_algorithm_update': 0.01122981881219372,\n",
       "   'loss': 0.019655468817794595,\n",
       "   'time_step': 0.012331580261440007,\n",
       "   'init_value': -1.3877503871917725,\n",
       "   'ave_value': -1.3874085512455434,\n",
       "   'soft_opc': nan}),\n",
       " (69,\n",
       "  {'time_sample_batch': 0.00036377742447476683,\n",
       "   'time_algorithm_update': 0.011287381417884008,\n",
       "   'loss': 0.02064155583733833,\n",
       "   'time_step': 0.012294097255038626,\n",
       "   'init_value': -1.3518794775009155,\n",
       "   'ave_value': -1.351594885356834,\n",
       "   'soft_opc': nan}),\n",
       " (70,\n",
       "  {'time_sample_batch': 0.0003827440712659218,\n",
       "   'time_algorithm_update': 0.011210349092660448,\n",
       "   'loss': 0.019446036291277006,\n",
       "   'time_step': 0.012260285148884262,\n",
       "   'init_value': -1.3792451620101929,\n",
       "   'ave_value': -1.3787914291561072,\n",
       "   'soft_opc': nan}),\n",
       " (71,\n",
       "  {'time_sample_batch': 0.00038511035831766415,\n",
       "   'time_algorithm_update': 0.011180940499172162,\n",
       "   'loss': 0.019780629041406924,\n",
       "   'time_step': 0.012236388868399211,\n",
       "   'init_value': -1.2886590957641602,\n",
       "   'ave_value': -1.2882596295270674,\n",
       "   'soft_opc': nan}),\n",
       " (72,\n",
       "  {'time_sample_batch': 0.00037542938448897965,\n",
       "   'time_algorithm_update': 0.011158711923690829,\n",
       "   'loss': 0.0194564720295131,\n",
       "   'time_step': 0.012184841865277282,\n",
       "   'init_value': -1.3384792804718018,\n",
       "   'ave_value': -1.338080767710649,\n",
       "   'soft_opc': nan}),\n",
       " (73,\n",
       "  {'time_sample_batch': 0.00038150883059191157,\n",
       "   'time_algorithm_update': 0.01115417909778305,\n",
       "   'loss': 0.019259221746088767,\n",
       "   'time_step': 0.012176845888087167,\n",
       "   'init_value': -1.2978966236114502,\n",
       "   'ave_value': -1.2974379195262369,\n",
       "   'soft_opc': nan}),\n",
       " (74,\n",
       "  {'time_sample_batch': 0.00035284330039164855,\n",
       "   'time_algorithm_update': 0.011183387466065014,\n",
       "   'loss': 0.02011337156029361,\n",
       "   'time_step': 0.012209851672841054,\n",
       "   'init_value': -1.4251493215560913,\n",
       "   'ave_value': -1.4246760001512682,\n",
       "   'soft_opc': nan}),\n",
       " (75,\n",
       "  {'time_sample_batch': 0.00041831658510088095,\n",
       "   'time_algorithm_update': 0.011136052499211194,\n",
       "   'loss': 0.020532397567049915,\n",
       "   'time_step': 0.012262756302383606,\n",
       "   'init_value': -1.4017254114151,\n",
       "   'ave_value': -1.4013069942657803,\n",
       "   'soft_opc': nan}),\n",
       " (76,\n",
       "  {'time_sample_batch': 0.0003996114376979813,\n",
       "   'time_algorithm_update': 0.011243362964912518,\n",
       "   'loss': 0.02115813148439453,\n",
       "   'time_step': 0.012300688219139818,\n",
       "   'init_value': -1.4321569204330444,\n",
       "   'ave_value': -1.4315830565428604,\n",
       "   'soft_opc': nan}),\n",
       " (77,\n",
       "  {'time_sample_batch': 0.0003675849232165412,\n",
       "   'time_algorithm_update': 0.011259681476424416,\n",
       "   'loss': 0.01936783557475496,\n",
       "   'time_step': 0.012289769554537137,\n",
       "   'init_value': -1.3395956754684448,\n",
       "   'ave_value': -1.3390961705998545,\n",
       "   'soft_opc': nan}),\n",
       " (78,\n",
       "  {'time_sample_batch': 0.0003998155765595892,\n",
       "   'time_algorithm_update': 0.01121123861989007,\n",
       "   'loss': 0.01813864467560893,\n",
       "   'time_step': 0.012280864091559556,\n",
       "   'init_value': -1.3258864879608154,\n",
       "   'ave_value': -1.3253045807336006,\n",
       "   'soft_opc': nan}),\n",
       " (79,\n",
       "  {'time_sample_batch': 0.00039475741018681754,\n",
       "   'time_algorithm_update': 0.011255247380873124,\n",
       "   'loss': 0.02025263439269478,\n",
       "   'time_step': 0.012323700859139902,\n",
       "   'init_value': -1.3790216445922852,\n",
       "   'ave_value': -1.378395254180384,\n",
       "   'soft_opc': nan}),\n",
       " (80,\n",
       "  {'time_sample_batch': 0.00039207000826089414,\n",
       "   'time_algorithm_update': 0.011223420690475442,\n",
       "   'loss': 0.020354956652457904,\n",
       "   'time_step': 0.01229720456724212,\n",
       "   'init_value': -1.4156057834625244,\n",
       "   'ave_value': -1.4151293058240293,\n",
       "   'soft_opc': nan}),\n",
       " (81,\n",
       "  {'time_sample_batch': 0.0003486506589415638,\n",
       "   'time_algorithm_update': 0.01132460362957191,\n",
       "   'loss': 0.02078803270970652,\n",
       "   'time_step': 0.012353794006227624,\n",
       "   'init_value': -1.3773541450500488,\n",
       "   'ave_value': -1.3766137801991596,\n",
       "   'soft_opc': nan}),\n",
       " (82,\n",
       "  {'time_sample_batch': 0.0003957499500273271,\n",
       "   'time_algorithm_update': 0.011288333184157947,\n",
       "   'loss': 0.020880130492619872,\n",
       "   'time_step': 0.012333097426229582,\n",
       "   'init_value': -1.3595433235168457,\n",
       "   'ave_value': -1.3590943936268596,\n",
       "   'soft_opc': nan}),\n",
       " (83,\n",
       "  {'time_sample_batch': 0.00038460442351184786,\n",
       "   'time_algorithm_update': 0.011244730207433523,\n",
       "   'loss': 0.020503146041550048,\n",
       "   'time_step': 0.012322391909484474,\n",
       "   'init_value': -1.4593223333358765,\n",
       "   'ave_value': -1.4588454467206888,\n",
       "   'soft_opc': nan}),\n",
       " (84,\n",
       "  {'time_sample_batch': 0.0003988729818988688,\n",
       "   'time_algorithm_update': 0.011244838131085531,\n",
       "   'loss': 0.02068963114136529,\n",
       "   'time_step': 0.012328664956850848,\n",
       "   'init_value': -1.3934898376464844,\n",
       "   'ave_value': -1.39298659181488,\n",
       "   'soft_opc': nan}),\n",
       " (85,\n",
       "  {'time_sample_batch': 0.0004069148930431323,\n",
       "   'time_algorithm_update': 0.011272573815817918,\n",
       "   'loss': 0.020479335603524208,\n",
       "   'time_step': 0.01233550435675409,\n",
       "   'init_value': -1.4001010656356812,\n",
       "   'ave_value': -1.3994674717701636,\n",
       "   'soft_opc': nan}),\n",
       " (86,\n",
       "  {'time_sample_batch': 0.00040059275694785007,\n",
       "   'time_algorithm_update': 0.011213017338273654,\n",
       "   'loss': 0.0203339119789477,\n",
       "   'time_step': 0.012326653749997418,\n",
       "   'init_value': -1.358876347541809,\n",
       "   'ave_value': -1.3583477062245983,\n",
       "   'soft_opc': nan}),\n",
       " (87,\n",
       "  {'time_sample_batch': 0.00035809604373139526,\n",
       "   'time_algorithm_update': 0.01130956085043068,\n",
       "   'loss': 0.020339359853559145,\n",
       "   'time_step': 0.01233559017530048,\n",
       "   'init_value': -1.402394413948059,\n",
       "   'ave_value': -1.4018925250330834,\n",
       "   'soft_opc': nan}),\n",
       " (88,\n",
       "  {'time_sample_batch': 0.00037772108442612497,\n",
       "   'time_algorithm_update': 0.01129963528940833,\n",
       "   'loss': 0.02098845026688921,\n",
       "   'time_step': 0.012347023317535472,\n",
       "   'init_value': -1.450186848640442,\n",
       "   'ave_value': -1.4495036299949293,\n",
       "   'soft_opc': nan}),\n",
       " (89,\n",
       "  {'time_sample_batch': 0.0003948407461097692,\n",
       "   'time_algorithm_update': 0.011289617199167505,\n",
       "   'loss': 0.020281255311571045,\n",
       "   'time_step': 0.012390919460648405,\n",
       "   'init_value': -1.3632228374481201,\n",
       "   'ave_value': -1.3627095481679625,\n",
       "   'soft_opc': nan}),\n",
       " (90,\n",
       "  {'time_sample_batch': 0.00039197931119683613,\n",
       "   'time_algorithm_update': 0.011333477642372245,\n",
       "   'loss': 0.020753896746936805,\n",
       "   'time_step': 0.0123844071057286,\n",
       "   'init_value': -1.3583476543426514,\n",
       "   'ave_value': -1.3578825416486258,\n",
       "   'soft_opc': nan}),\n",
       " (91,\n",
       "  {'time_sample_batch': 0.00040606384105619926,\n",
       "   'time_algorithm_update': 0.011322322900878945,\n",
       "   'loss': 0.020185506504070135,\n",
       "   'time_step': 0.012412018225643149,\n",
       "   'init_value': -1.44951331615448,\n",
       "   'ave_value': -1.4487905443475242,\n",
       "   'soft_opc': nan}),\n",
       " (92,\n",
       "  {'time_sample_batch': 0.0004168455385650102,\n",
       "   'time_algorithm_update': 0.011268751757411186,\n",
       "   'loss': 0.0216806577676526,\n",
       "   'time_step': 0.012371730906350173,\n",
       "   'init_value': -1.4495348930358887,\n",
       "   'ave_value': -1.448752344858767,\n",
       "   'soft_opc': nan}),\n",
       " (93,\n",
       "  {'time_sample_batch': 0.000422375056473894,\n",
       "   'time_algorithm_update': 0.011320411822890402,\n",
       "   'loss': 0.02085398148734087,\n",
       "   'time_step': 0.012416729258380834,\n",
       "   'init_value': -1.3919988870620728,\n",
       "   'ave_value': -1.3914394819298492,\n",
       "   'soft_opc': nan}),\n",
       " (94,\n",
       "  {'time_sample_batch': 0.00039339951273743655,\n",
       "   'time_algorithm_update': 0.011332354650969243,\n",
       "   'loss': 0.021543099441270985,\n",
       "   'time_step': 0.01239406787165298,\n",
       "   'init_value': -1.4453223943710327,\n",
       "   'ave_value': -1.4446857915357911,\n",
       "   'soft_opc': nan}),\n",
       " (95,\n",
       "  {'time_sample_batch': 0.00037591663999269557,\n",
       "   'time_algorithm_update': 0.01139372487465396,\n",
       "   'loss': 0.020782538862985325,\n",
       "   'time_step': 0.012454724292314543,\n",
       "   'init_value': -1.3417508602142334,\n",
       "   'ave_value': -1.3410881339551053,\n",
       "   'soft_opc': nan}),\n",
       " (96,\n",
       "  {'time_sample_batch': 0.00036690532402282804,\n",
       "   'time_algorithm_update': 0.011408734805109545,\n",
       "   'loss': 0.02048873100988236,\n",
       "   'time_step': 0.012461476323386893,\n",
       "   'init_value': -1.394972801208496,\n",
       "   'ave_value': -1.3943627591657317,\n",
       "   'soft_opc': nan}),\n",
       " (97,\n",
       "  {'time_sample_batch': 0.00039684395219421944,\n",
       "   'time_algorithm_update': 0.01143764678718134,\n",
       "   'loss': 0.021215572621518908,\n",
       "   'time_step': 0.012489814125611245,\n",
       "   'init_value': -1.429599642753601,\n",
       "   'ave_value': -1.429008664413845,\n",
       "   'soft_opc': nan}),\n",
       " (98,\n",
       "  {'time_sample_batch': 0.0003764577218080356,\n",
       "   'time_algorithm_update': 0.011412908257723462,\n",
       "   'loss': 0.021983982455997465,\n",
       "   'time_step': 0.012457663577528337,\n",
       "   'init_value': -1.4113314151763916,\n",
       "   'ave_value': -1.4106843986786632,\n",
       "   'soft_opc': nan}),\n",
       " (99,\n",
       "  {'time_sample_batch': 0.00036088775920625077,\n",
       "   'time_algorithm_update': 0.011380922907090005,\n",
       "   'loss': 0.021368039876755666,\n",
       "   'time_step': 0.012450439197534038,\n",
       "   'init_value': -1.3978217840194702,\n",
       "   'ave_value': -1.3972072687280406,\n",
       "   'soft_opc': nan}),\n",
       " (100,\n",
       "  {'time_sample_batch': 0.00040322245143031415,\n",
       "   'time_algorithm_update': 0.011376602665299978,\n",
       "   'loss': 0.021428368828787916,\n",
       "   'time_step': 0.012449288929796687,\n",
       "   'init_value': -1.385913610458374,\n",
       "   'ave_value': -1.3852465892698747,\n",
       "   'soft_opc': nan})]"
      ]
     },
     "execution_count": 12,
     "metadata": {},
     "output_type": "execute_result"
    }
   ],
   "source": [
    "from d3rlpy.ope import FQE\n",
    "# metrics to evaluate with\n",
    "from d3rlpy.metrics.scorer import soft_opc_scorer\n",
    "\n",
    "\n",
    "ope_dataset = get_dataset([i*2 for i in range(100)], path=\"collected_data/rl_stochastic.txt\") #change if you'd prefer different chunks\n",
    "ope_train_episodes, ope_test_episodes = train_test_split(ope_dataset, test_size=0.2)\n",
    "\n",
    "fqe = FQE(algo=model, action_scaler = action_scaler, use_gpu=False) #change this if you have one!\n",
    "fqe.fit(ope_train_episodes, eval_episodes=ope_test_episodes,\n",
    "        tensorboard_dir='runs',\n",
    "        n_epochs=100, n_steps_per_epoch=10000, #change if overfitting/underfitting\n",
    "        scorers={\n",
    "           'init_value': initial_state_value_estimation_scorer,\n",
    "            'ave_value': average_value_estimation_scorer,\n",
    "           'soft_opc': soft_opc_scorer(return_threshold=0)\n",
    "        })"
   ]
  },
  {
   "cell_type": "code",
   "execution_count": 14,
   "id": "8af905f0",
   "metadata": {},
   "outputs": [],
   "source": [
    "model.save_model('cqlDet100model.pt')\n",
    "model.save_policy('cqlDet100.pt')"
   ]
  }
 ],
 "metadata": {
  "kernelspec": {
   "display_name": "Python 3 (ipykernel)",
   "language": "python",
   "name": "python3"
  },
  "language_info": {
   "codemirror_mode": {
    "name": "ipython",
    "version": 3
   },
   "file_extension": ".py",
   "mimetype": "text/x-python",
   "name": "python",
   "nbconvert_exporter": "python",
   "pygments_lexer": "ipython3",
   "version": "3.9.7"
  }
 },
 "nbformat": 4,
 "nbformat_minor": 5
}
