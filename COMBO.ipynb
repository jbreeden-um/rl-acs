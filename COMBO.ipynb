{
 "cells": [
  {
   "cell_type": "markdown",
   "id": "aaf5d2db-5453-469c-9357-c37dedea7e89",
   "metadata": {},
   "source": [
    "# Sample Workflow for d3rlpy Experiments"
   ]
  },
  {
   "cell_type": "code",
   "execution_count": 1,
   "id": "bfb6706a-eaec-4154-be04-e2b7c168479a",
   "metadata": {},
   "outputs": [],
   "source": [
    "import numpy as np\n",
    "import pandas as pd\n",
    "import matplotlib.pyplot as plt\n",
    "import itertools\n",
    "import math\n",
    "import subprocess\n",
    "import os\n",
    "import d3rlpy\n",
    "plt.style.use('matplotlibrc')\n",
    "\n",
    "from Python.data_sampler import *"
   ]
  },
  {
   "cell_type": "markdown",
   "id": "361d8a2f-129e-4b9c-81cd-55314fabeabd",
   "metadata": {},
   "source": [
    "## Building an MDPDataset\n",
    "\n",
    "We first read in a large batch of samples from the file. As `d3rlpy` wants it in the form (observations, actions, rewards, terminal flags), we go ahead and do that. Here's a helper function to get a dataset from a list of chunks of your choosing."
   ]
  },
  {
   "cell_type": "code",
   "execution_count": 30,
   "id": "3456d718-b8bb-460f-a429-9d99633145f7",
   "metadata": {},
   "outputs": [],
   "source": [
    "def get_dataset(chunks : list, batch_size=30000, \n",
    "                path=\"collected_data/rl_det_small.txt\") -> d3rlpy.dataset.MDPDataset :\n",
    "    random.seed(0)\n",
    "    samples = DataSampler(path_to_data=path)\n",
    "    states = []\n",
    "    actions = []\n",
    "    rewards = []\n",
    "    next_states = []\n",
    "    for chunk in chunks:\n",
    "        samples.use_chunk(chunk)\n",
    "        samples.read_chunk()\n",
    "        [statesChunk, actionsChunk, rewardsChunk, nextStatesChunk] = samples.get_batch(batch_size)\n",
    "        states.append(statesChunk)\n",
    "        actions.append(actionsChunk)\n",
    "        rewards.append(rewardsChunk)\n",
    "        next_states.append(nextStatesChunk)\n",
    "    states = torch.cat(states)\n",
    "    actions = torch.cat(actions)\n",
    "    rewards = torch.cat(rewards)\n",
    "    next_states = torch.cat(next_states)\n",
    "    terminals = np.zeros(len(states))\n",
    "    terminals[::100] = 1 #episode length 100, change if necessary\n",
    "    print(states.shape)\n",
    "    dataset = d3rlpy.dataset.MDPDataset(states.numpy(), \n",
    "                                        actions.numpy(), \n",
    "                                        rewards.numpy(), terminals)\n",
    "    return dataset"
   ]
  },
  {
   "cell_type": "markdown",
   "id": "eeaff27f-fd9a-4ad2-81c6-fca5f5fe6ce9",
   "metadata": {},
   "source": [
    "We can build the dataset from there, just like this, and split into train and test sets."
   ]
  },
  {
   "cell_type": "code",
   "execution_count": 47,
   "id": "f543168b-2603-47ed-bff8-d0bafb40bb0f",
   "metadata": {},
   "outputs": [
    {
     "name": "stdout",
     "output_type": "stream",
     "text": [
      "[ 0.00000000e+00  7.95731469e+08 -8.17891077e-02 -1.19999531e-03\n",
      "  7.39998658e-03  0.00000000e+00 -5.33423489e+00 -1.57091618e+00\n",
      "  2.09713430e-01 -2.63658359e-01  6.00000000e-01]\n",
      "Read chunk # 4 out of 10000\n",
      "[ 0.00000000e+00  7.95731469e+08  1.24610892e-01  2.40000469e-03\n",
      " -7.60001342e-03  0.00000000e+00 -5.33423489e+00 -1.57091618e+00\n",
      " -2.20016566e-01  3.79282423e-01 -6.00000000e-01]\n",
      "Read chunk # 6 out of 10000\n",
      "[ 0.00000000e+00  7.95731469e+08 -9.01891077e-02  1.08000047e-02\n",
      "  3.99986580e-04  0.00000000e+00 -5.33423489e+00 -1.57091618e+00\n",
      " -3.17973088e-02 -2.40776052e-01  6.00000000e-01]\n",
      "Read chunk # 8 out of 10000\n",
      "[ 0.00000000e+00  7.95731469e+08  6.91108923e-02 -5.99999531e-03\n",
      " -6.00001342e-03  0.00000000e+00 -5.33423489e+00 -1.57091618e+00\n",
      " -1.42355434e-01  2.22081792e-01 -6.00000000e-01]\n",
      "Read chunk # 10 out of 10000\n",
      "torch.Size([111080, 6])\n"
     ]
    }
   ],
   "source": [
    "dataset = get_dataset([3,5,7,9], path=\"collected_data/rl_det_small.txt\")"
   ]
  },
  {
   "cell_type": "code",
   "execution_count": 48,
   "id": "8014463e-ab16-4498-ae33-63b91854534c",
   "metadata": {},
   "outputs": [
    {
     "name": "stdout",
     "output_type": "stream",
     "text": [
      "The behavior policy value statistics are:\n"
     ]
    },
    {
     "data": {
      "text/plain": [
       "{'mean': -4.1227446,\n",
       " 'std': 2.4676569,\n",
       " 'min': -12.578855,\n",
       " 'max': 0.0,\n",
       " 'histogram': (array([ 26,   9,   7,   7,   8,   7,  10,  13,  27,  54,  56,  73, 109,\n",
       "          84, 186, 148, 124,  83,  67,  13]),\n",
       "  array([-12.578855 , -11.949912 , -11.320969 , -10.692026 , -10.063084 ,\n",
       "          -9.434141 ,  -8.805199 ,  -8.176255 ,  -7.5473127,  -6.9183702,\n",
       "          -6.2894273,  -5.6604843,  -5.031542 ,  -4.4025993,  -3.7736564,\n",
       "          -3.1447136,  -2.515771 ,  -1.8868282,  -1.2578855,  -0.6289427,\n",
       "           0.       ], dtype=float32))}"
      ]
     },
     "execution_count": 48,
     "metadata": {},
     "output_type": "execute_result"
    }
   ],
   "source": [
    "print(\"The behavior policy value statistics are:\")\n",
    "dataset.compute_stats()['return']"
   ]
  },
  {
   "cell_type": "code",
   "execution_count": 49,
   "id": "f051bee1-1f8b-4acc-a658-d80a5b4df54b",
   "metadata": {},
   "outputs": [],
   "source": [
    "from sklearn.model_selection import train_test_split\n",
    "train_episodes, test_episodes = train_test_split(dataset, test_size=0.2)"
   ]
  },
  {
   "cell_type": "markdown",
   "id": "1025ba17-f95f-426b-adc1-9312e5e180fa",
   "metadata": {},
   "source": [
    "## Setting up an Algorithm"
   ]
  },
  {
   "cell_type": "code",
   "execution_count": 50,
   "id": "f5ef782b-6847-4fa4-8d95-3fa8904866bb",
   "metadata": {},
   "outputs": [
    {
     "name": "stdout",
     "output_type": "stream",
     "text": [
      "2022-04-06 21:00.48 [debug    ] RoundIterator is selected.\n",
      "2022-04-06 21:00.48 [info     ] Directory is created at d3rlpy_logs/ProbabilisticEnsembleDynamics_20220406210048\n",
      "2022-04-06 21:00.48 [debug    ] Building models...\n",
      "2022-04-06 21:00.48 [debug    ] Models have been built.\n",
      "2022-04-06 21:00.48 [info     ] Parameters are saved to d3rlpy_logs/ProbabilisticEnsembleDynamics_20220406210048/params.json params={'action_scaler': None, 'batch_size': 100, 'discrete_action': False, 'encoder_factory': {'type': 'default', 'params': {'activation': 'relu', 'use_batch_norm': False, 'dropout_rate': None}}, 'gamma': 1.0, 'generated_maxlen': 100000, 'learning_rate': 0.0001, 'n_ensembles': 5, 'n_frames': 1, 'n_steps': 1, 'optim_factory': {'optim_cls': 'Adam', 'betas': (0.9, 0.999), 'eps': 1e-08, 'weight_decay': 0.0001, 'amsgrad': False}, 'real_ratio': 1.0, 'reward_scaler': None, 'scaler': None, 'use_gpu': None, 'variance_type': 'max', 'algorithm': 'ProbabilisticEnsembleDynamics', 'observation_shape': (6,), 'action_size': 3}\n"
     ]
    },
    {
     "data": {
      "application/vnd.jupyter.widget-view+json": {
       "model_id": "6cc17396fea44f2a879441efbd07c23d",
       "version_major": 2,
       "version_minor": 0
      },
      "text/plain": [
       "Epoch 1/15:   0%|          | 0/878 [00:00<?, ?it/s]"
      ]
     },
     "metadata": {},
     "output_type": "display_data"
    },
    {
     "name": "stdout",
     "output_type": "stream",
     "text": [
      "2022-04-06 21:00.55 [info     ] ProbabilisticEnsembleDynamics_20220406210048: epoch=1 step=878 epoch=1 metrics={'time_sample_batch': 0.00015752923787319036, 'time_algorithm_update': 0.006990694239362226, 'loss': -130.10344823763828, 'time_step': 0.007213200414913933, 'observation_error': 2.5002094379265388e-05, 'reward_error': 8.086704723235035e-05, 'variance': 2.9265567855343244e-08} step=878\n",
      "2022-04-06 21:00.55 [info     ] Model parameters are saved to d3rlpy_logs/ProbabilisticEnsembleDynamics_20220406210048/model_878.pt\n"
     ]
    },
    {
     "data": {
      "application/vnd.jupyter.widget-view+json": {
       "model_id": "34c23596acfd4dad8e68c21dcd53f788",
       "version_major": 2,
       "version_minor": 0
      },
      "text/plain": [
       "Epoch 2/15:   0%|          | 0/878 [00:00<?, ?it/s]"
      ]
     },
     "metadata": {},
     "output_type": "display_data"
    },
    {
     "name": "stdout",
     "output_type": "stream",
     "text": [
      "2022-04-06 21:01.02 [info     ] ProbabilisticEnsembleDynamics_20220406210048: epoch=2 step=1756 epoch=2 metrics={'time_sample_batch': 0.0001431915374443037, 'time_algorithm_update': 0.006612565903022783, 'loss': -155.84424964713617, 'time_step': 0.006800605930337059, 'observation_error': 6.961562183296232e-05, 'reward_error': 5.49882593996615e-05, 'variance': 4.21097555442327e-07} step=1756\n",
      "2022-04-06 21:01.02 [info     ] Model parameters are saved to d3rlpy_logs/ProbabilisticEnsembleDynamics_20220406210048/model_1756.pt\n"
     ]
    },
    {
     "data": {
      "application/vnd.jupyter.widget-view+json": {
       "model_id": "7a925a13bf11466da669437ef1af000c",
       "version_major": 2,
       "version_minor": 0
      },
      "text/plain": [
       "Epoch 3/15:   0%|          | 0/878 [00:00<?, ?it/s]"
      ]
     },
     "metadata": {},
     "output_type": "display_data"
    },
    {
     "name": "stdout",
     "output_type": "stream",
     "text": [
      "2022-04-06 21:01.10 [info     ] ProbabilisticEnsembleDynamics_20220406210048: epoch=3 step=2634 epoch=3 metrics={'time_sample_batch': 0.00015931710566909546, 'time_algorithm_update': 0.007381611370008465, 'loss': -163.18751751806306, 'time_step': 0.007593790599588381, 'observation_error': 1.946347884231508e-05, 'reward_error': 3.987882613107416e-05, 'variance': 5.701755339153832e-07} step=2634\n",
      "2022-04-06 21:01.10 [info     ] Model parameters are saved to d3rlpy_logs/ProbabilisticEnsembleDynamics_20220406210048/model_2634.pt\n"
     ]
    },
    {
     "data": {
      "application/vnd.jupyter.widget-view+json": {
       "model_id": "b24f7dbe56cf4daebe3c7153bf468c35",
       "version_major": 2,
       "version_minor": 0
      },
      "text/plain": [
       "Epoch 4/15:   0%|          | 0/878 [00:00<?, ?it/s]"
      ]
     },
     "metadata": {},
     "output_type": "display_data"
    },
    {
     "name": "stdout",
     "output_type": "stream",
     "text": [
      "2022-04-06 21:01.17 [info     ] ProbabilisticEnsembleDynamics_20220406210048: epoch=4 step=3512 epoch=4 metrics={'time_sample_batch': 0.00015286486892873987, 'time_algorithm_update': 0.00704823974053246, 'loss': -164.09990947610424, 'time_step': 0.007249272765765701, 'observation_error': 2.8595266688735806e-05, 'reward_error': 4.5131388945379754e-05, 'variance': 2.466563539237384e-07} step=3512\n",
      "2022-04-06 21:01.17 [info     ] Model parameters are saved to d3rlpy_logs/ProbabilisticEnsembleDynamics_20220406210048/model_3512.pt\n"
     ]
    },
    {
     "data": {
      "application/vnd.jupyter.widget-view+json": {
       "model_id": "165dfe03c9ad479bbe622d891d5a1c75",
       "version_major": 2,
       "version_minor": 0
      },
      "text/plain": [
       "Epoch 5/15:   0%|          | 0/878 [00:00<?, ?it/s]"
      ]
     },
     "metadata": {},
     "output_type": "display_data"
    },
    {
     "name": "stdout",
     "output_type": "stream",
     "text": [
      "2022-04-06 21:01.25 [info     ] ProbabilisticEnsembleDynamics_20220406210048: epoch=5 step=4390 epoch=5 metrics={'time_sample_batch': 0.00014871942698276667, 'time_algorithm_update': 0.007037449534770296, 'loss': -168.1954182687816, 'time_step': 0.007232749923758192, 'observation_error': 2.5864836179857006e-05, 'reward_error': 2.3896695763135876e-05, 'variance': 1.934993643421245e-07} step=4390\n",
      "2022-04-06 21:01.25 [info     ] Model parameters are saved to d3rlpy_logs/ProbabilisticEnsembleDynamics_20220406210048/model_4390.pt\n"
     ]
    },
    {
     "data": {
      "application/vnd.jupyter.widget-view+json": {
       "model_id": "ddb9ba34b7cb43c2a49e04774ea118fe",
       "version_major": 2,
       "version_minor": 0
      },
      "text/plain": [
       "Epoch 6/15:   0%|          | 0/878 [00:00<?, ?it/s]"
      ]
     },
     "metadata": {},
     "output_type": "display_data"
    },
    {
     "name": "stdout",
     "output_type": "stream",
     "text": [
      "2022-04-06 21:01.32 [info     ] ProbabilisticEnsembleDynamics_20220406210048: epoch=6 step=5268 epoch=6 metrics={'time_sample_batch': 0.00014885004126129499, 'time_algorithm_update': 0.0070672958478297625, 'loss': -171.9209967680564, 'time_step': 0.007261119562292425, 'observation_error': 0.0004114405069486184, 'reward_error': 1.703930859763823e-05, 'variance': 6.653350081625358e-07} step=5268\n",
      "2022-04-06 21:01.32 [info     ] Model parameters are saved to d3rlpy_logs/ProbabilisticEnsembleDynamics_20220406210048/model_5268.pt\n"
     ]
    },
    {
     "data": {
      "application/vnd.jupyter.widget-view+json": {
       "model_id": "7b55174fc9dc40e0ad34b4e9e00bbef3",
       "version_major": 2,
       "version_minor": 0
      },
      "text/plain": [
       "Epoch 7/15:   0%|          | 0/878 [00:00<?, ?it/s]"
      ]
     },
     "metadata": {},
     "output_type": "display_data"
    },
    {
     "name": "stdout",
     "output_type": "stream",
     "text": [
      "2022-04-06 21:01.40 [info     ] ProbabilisticEnsembleDynamics_20220406210048: epoch=7 step=6146 epoch=7 metrics={'time_sample_batch': 0.00015474804984681427, 'time_algorithm_update': 0.00706845997134754, 'loss': -172.51383661083318, 'time_step': 0.007277257350148264, 'observation_error': 3.3621584076657654e-05, 'reward_error': 6.803582295647045e-06, 'variance': 3.366537925459627e-07} step=6146\n",
      "2022-04-06 21:01.40 [info     ] Model parameters are saved to d3rlpy_logs/ProbabilisticEnsembleDynamics_20220406210048/model_6146.pt\n"
     ]
    },
    {
     "data": {
      "application/vnd.jupyter.widget-view+json": {
       "model_id": "1e059e072d08422c8a77397ec433e2d4",
       "version_major": 2,
       "version_minor": 0
      },
      "text/plain": [
       "Epoch 8/15:   0%|          | 0/878 [00:00<?, ?it/s]"
      ]
     },
     "metadata": {},
     "output_type": "display_data"
    },
    {
     "name": "stdout",
     "output_type": "stream",
     "text": [
      "2022-04-06 21:01.47 [info     ] ProbabilisticEnsembleDynamics_20220406210048: epoch=8 step=7024 epoch=8 metrics={'time_sample_batch': 0.00014432823467906353, 'time_algorithm_update': 0.006781665773761028, 'loss': -177.687073744511, 'time_step': 0.006969245256758496, 'observation_error': 1.8171233390369198e-05, 'reward_error': 5.698470655588482e-06, 'variance': 1.7679288111123523e-07} step=7024\n",
      "2022-04-06 21:01.47 [info     ] Model parameters are saved to d3rlpy_logs/ProbabilisticEnsembleDynamics_20220406210048/model_7024.pt\n"
     ]
    },
    {
     "data": {
      "application/vnd.jupyter.widget-view+json": {
       "model_id": "c74c1cf994b14fc79b7a263e6e5edc0f",
       "version_major": 2,
       "version_minor": 0
      },
      "text/plain": [
       "Epoch 9/15:   0%|          | 0/878 [00:00<?, ?it/s]"
      ]
     },
     "metadata": {},
     "output_type": "display_data"
    },
    {
     "name": "stdout",
     "output_type": "stream",
     "text": [
      "2022-04-06 21:01.54 [info     ] ProbabilisticEnsembleDynamics_20220406210048: epoch=9 step=7902 epoch=9 metrics={'time_sample_batch': 0.00014286568061637445, 'time_algorithm_update': 0.0066848352449630005, 'loss': -178.989001550001, 'time_step': 0.006871286991788478, 'observation_error': 1.390524506965647e-05, 'reward_error': 4.010948354876198e-06, 'variance': 1.1752816384569891e-07} step=7902\n",
      "2022-04-06 21:01.54 [info     ] Model parameters are saved to d3rlpy_logs/ProbabilisticEnsembleDynamics_20220406210048/model_7902.pt\n"
     ]
    },
    {
     "data": {
      "application/vnd.jupyter.widget-view+json": {
       "model_id": "249ae2f202db45fcbe6b3333fdf0d78b",
       "version_major": 2,
       "version_minor": 0
      },
      "text/plain": [
       "Epoch 10/15:   0%|          | 0/878 [00:00<?, ?it/s]"
      ]
     },
     "metadata": {},
     "output_type": "display_data"
    },
    {
     "name": "stdout",
     "output_type": "stream",
     "text": [
      "2022-04-06 21:02.01 [info     ] ProbabilisticEnsembleDynamics_20220406210048: epoch=10 step=8780 epoch=10 metrics={'time_sample_batch': 0.00014911018362892515, 'time_algorithm_update': 0.006967430505774287, 'loss': -180.6555078284887, 'time_step': 0.00716249899331964, 'observation_error': 1.3691348734461574e-05, 'reward_error': 2.716611547193946e-06, 'variance': 7.13109355911905e-08} step=8780\n",
      "2022-04-06 21:02.01 [info     ] Model parameters are saved to d3rlpy_logs/ProbabilisticEnsembleDynamics_20220406210048/model_8780.pt\n"
     ]
    },
    {
     "data": {
      "application/vnd.jupyter.widget-view+json": {
       "model_id": "a6fd6ad8f14c4e6ab9c946c7744ee34c",
       "version_major": 2,
       "version_minor": 0
      },
      "text/plain": [
       "Epoch 11/15:   0%|          | 0/878 [00:00<?, ?it/s]"
      ]
     },
     "metadata": {},
     "output_type": "display_data"
    },
    {
     "name": "stdout",
     "output_type": "stream",
     "text": [
      "2022-04-06 21:02.08 [info     ] ProbabilisticEnsembleDynamics_20220406210048: epoch=11 step=9658 epoch=11 metrics={'time_sample_batch': 0.00014690005969349507, 'time_algorithm_update': 0.006828625815875981, 'loss': -180.90111153326708, 'time_step': 0.007021068440482937, 'observation_error': 2.2872261593555398e-05, 'reward_error': 3.030942098924994e-06, 'variance': 1.8740818755884698e-07} step=9658\n",
      "2022-04-06 21:02.08 [info     ] Model parameters are saved to d3rlpy_logs/ProbabilisticEnsembleDynamics_20220406210048/model_9658.pt\n"
     ]
    },
    {
     "data": {
      "application/vnd.jupyter.widget-view+json": {
       "model_id": "7dd67b23b68d42a5b2a02a1007b62ee7",
       "version_major": 2,
       "version_minor": 0
      },
      "text/plain": [
       "Epoch 12/15:   0%|          | 0/878 [00:00<?, ?it/s]"
      ]
     },
     "metadata": {},
     "output_type": "display_data"
    },
    {
     "name": "stdout",
     "output_type": "stream",
     "text": [
      "2022-04-06 21:02.16 [info     ] ProbabilisticEnsembleDynamics_20220406210048: epoch=12 step=10536 epoch=12 metrics={'time_sample_batch': 0.00014533676156150454, 'time_algorithm_update': 0.006828884872054184, 'loss': -182.0599985796118, 'time_step': 0.007017980403943594, 'observation_error': 1.3254254976208847e-05, 'reward_error': 3.7971511254762056e-06, 'variance': 4.5205523911177825e-07} step=10536\n",
      "2022-04-06 21:02.16 [info     ] Model parameters are saved to d3rlpy_logs/ProbabilisticEnsembleDynamics_20220406210048/model_10536.pt\n"
     ]
    },
    {
     "data": {
      "application/vnd.jupyter.widget-view+json": {
       "model_id": "ff7a402a72af42f983812e5b1cab5b46",
       "version_major": 2,
       "version_minor": 0
      },
      "text/plain": [
       "Epoch 13/15:   0%|          | 0/878 [00:00<?, ?it/s]"
      ]
     },
     "metadata": {},
     "output_type": "display_data"
    },
    {
     "name": "stdout",
     "output_type": "stream",
     "text": [
      "2022-04-06 21:02.23 [info     ] ProbabilisticEnsembleDynamics_20220406210048: epoch=13 step=11414 epoch=13 metrics={'time_sample_batch': 0.00014605744824594137, 'time_algorithm_update': 0.006893797453009186, 'loss': -185.1279143722291, 'time_step': 0.007086290856971828, 'observation_error': 1.2353382125145977e-05, 'reward_error': 1.9279379690356336e-06, 'variance': 1.5518268463793187e-07} step=11414\n",
      "2022-04-06 21:02.23 [info     ] Model parameters are saved to d3rlpy_logs/ProbabilisticEnsembleDynamics_20220406210048/model_11414.pt\n"
     ]
    },
    {
     "data": {
      "application/vnd.jupyter.widget-view+json": {
       "model_id": "116e3944c7d444b5869db66e57382ac6",
       "version_major": 2,
       "version_minor": 0
      },
      "text/plain": [
       "Epoch 14/15:   0%|          | 0/878 [00:00<?, ?it/s]"
      ]
     },
     "metadata": {},
     "output_type": "display_data"
    },
    {
     "name": "stdout",
     "output_type": "stream",
     "text": [
      "2022-04-06 21:02.30 [info     ] ProbabilisticEnsembleDynamics_20220406210048: epoch=14 step=12292 epoch=14 metrics={'time_sample_batch': 0.00013669992633723996, 'time_algorithm_update': 0.00662463102362422, 'loss': -186.35415094154027, 'time_step': 0.0068031807423724125, 'observation_error': 1.2594006513682804e-05, 'reward_error': 3.0540305854605354e-06, 'variance': 2.454543805049739e-07} step=12292\n",
      "2022-04-06 21:02.30 [info     ] Model parameters are saved to d3rlpy_logs/ProbabilisticEnsembleDynamics_20220406210048/model_12292.pt\n"
     ]
    },
    {
     "data": {
      "application/vnd.jupyter.widget-view+json": {
       "model_id": "8f88c966c4f4469cae0b1bae94169dcf",
       "version_major": 2,
       "version_minor": 0
      },
      "text/plain": [
       "Epoch 15/15:   0%|          | 0/878 [00:00<?, ?it/s]"
      ]
     },
     "metadata": {},
     "output_type": "display_data"
    },
    {
     "name": "stdout",
     "output_type": "stream",
     "text": [
      "2022-04-06 21:02.37 [info     ] ProbabilisticEnsembleDynamics_20220406210048: epoch=15 step=13170 epoch=15 metrics={'time_sample_batch': 0.00014018985296436216, 'time_algorithm_update': 0.006717660432524453, 'loss': -188.058661486945, 'time_step': 0.0068993592859672255, 'observation_error': 1.0353658180396897e-05, 'reward_error': 2.9548844142438814e-06, 'variance': 3.397890133426663e-08} step=13170\n",
      "2022-04-06 21:02.37 [info     ] Model parameters are saved to d3rlpy_logs/ProbabilisticEnsembleDynamics_20220406210048/model_13170.pt\n"
     ]
    },
    {
     "data": {
      "text/plain": [
       "[(1,\n",
       "  {'time_sample_batch': 0.00015752923787319036,\n",
       "   'time_algorithm_update': 0.006990694239362226,\n",
       "   'loss': -130.10344823763828,\n",
       "   'time_step': 0.007213200414913933,\n",
       "   'observation_error': 2.5002094379265388e-05,\n",
       "   'reward_error': 8.086704723235035e-05,\n",
       "   'variance': 2.9265567855343244e-08}),\n",
       " (2,\n",
       "  {'time_sample_batch': 0.0001431915374443037,\n",
       "   'time_algorithm_update': 0.006612565903022783,\n",
       "   'loss': -155.84424964713617,\n",
       "   'time_step': 0.006800605930337059,\n",
       "   'observation_error': 6.961562183296232e-05,\n",
       "   'reward_error': 5.49882593996615e-05,\n",
       "   'variance': 4.21097555442327e-07}),\n",
       " (3,\n",
       "  {'time_sample_batch': 0.00015931710566909546,\n",
       "   'time_algorithm_update': 0.007381611370008465,\n",
       "   'loss': -163.18751751806306,\n",
       "   'time_step': 0.007593790599588381,\n",
       "   'observation_error': 1.946347884231508e-05,\n",
       "   'reward_error': 3.987882613107416e-05,\n",
       "   'variance': 5.701755339153832e-07}),\n",
       " (4,\n",
       "  {'time_sample_batch': 0.00015286486892873987,\n",
       "   'time_algorithm_update': 0.00704823974053246,\n",
       "   'loss': -164.09990947610424,\n",
       "   'time_step': 0.007249272765765701,\n",
       "   'observation_error': 2.8595266688735806e-05,\n",
       "   'reward_error': 4.5131388945379754e-05,\n",
       "   'variance': 2.466563539237384e-07}),\n",
       " (5,\n",
       "  {'time_sample_batch': 0.00014871942698276667,\n",
       "   'time_algorithm_update': 0.007037449534770296,\n",
       "   'loss': -168.1954182687816,\n",
       "   'time_step': 0.007232749923758192,\n",
       "   'observation_error': 2.5864836179857006e-05,\n",
       "   'reward_error': 2.3896695763135876e-05,\n",
       "   'variance': 1.934993643421245e-07}),\n",
       " (6,\n",
       "  {'time_sample_batch': 0.00014885004126129499,\n",
       "   'time_algorithm_update': 0.0070672958478297625,\n",
       "   'loss': -171.9209967680564,\n",
       "   'time_step': 0.007261119562292425,\n",
       "   'observation_error': 0.0004114405069486184,\n",
       "   'reward_error': 1.703930859763823e-05,\n",
       "   'variance': 6.653350081625358e-07}),\n",
       " (7,\n",
       "  {'time_sample_batch': 0.00015474804984681427,\n",
       "   'time_algorithm_update': 0.00706845997134754,\n",
       "   'loss': -172.51383661083318,\n",
       "   'time_step': 0.007277257350148264,\n",
       "   'observation_error': 3.3621584076657654e-05,\n",
       "   'reward_error': 6.803582295647045e-06,\n",
       "   'variance': 3.366537925459627e-07}),\n",
       " (8,\n",
       "  {'time_sample_batch': 0.00014432823467906353,\n",
       "   'time_algorithm_update': 0.006781665773761028,\n",
       "   'loss': -177.687073744511,\n",
       "   'time_step': 0.006969245256758496,\n",
       "   'observation_error': 1.8171233390369198e-05,\n",
       "   'reward_error': 5.698470655588482e-06,\n",
       "   'variance': 1.7679288111123523e-07}),\n",
       " (9,\n",
       "  {'time_sample_batch': 0.00014286568061637445,\n",
       "   'time_algorithm_update': 0.0066848352449630005,\n",
       "   'loss': -178.989001550001,\n",
       "   'time_step': 0.006871286991788478,\n",
       "   'observation_error': 1.390524506965647e-05,\n",
       "   'reward_error': 4.010948354876198e-06,\n",
       "   'variance': 1.1752816384569891e-07}),\n",
       " (10,\n",
       "  {'time_sample_batch': 0.00014911018362892515,\n",
       "   'time_algorithm_update': 0.006967430505774287,\n",
       "   'loss': -180.6555078284887,\n",
       "   'time_step': 0.00716249899331964,\n",
       "   'observation_error': 1.3691348734461574e-05,\n",
       "   'reward_error': 2.716611547193946e-06,\n",
       "   'variance': 7.13109355911905e-08}),\n",
       " (11,\n",
       "  {'time_sample_batch': 0.00014690005969349507,\n",
       "   'time_algorithm_update': 0.006828625815875981,\n",
       "   'loss': -180.90111153326708,\n",
       "   'time_step': 0.007021068440482937,\n",
       "   'observation_error': 2.2872261593555398e-05,\n",
       "   'reward_error': 3.030942098924994e-06,\n",
       "   'variance': 1.8740818755884698e-07}),\n",
       " (12,\n",
       "  {'time_sample_batch': 0.00014533676156150454,\n",
       "   'time_algorithm_update': 0.006828884872054184,\n",
       "   'loss': -182.0599985796118,\n",
       "   'time_step': 0.007017980403943594,\n",
       "   'observation_error': 1.3254254976208847e-05,\n",
       "   'reward_error': 3.7971511254762056e-06,\n",
       "   'variance': 4.5205523911177825e-07}),\n",
       " (13,\n",
       "  {'time_sample_batch': 0.00014605744824594137,\n",
       "   'time_algorithm_update': 0.006893797453009186,\n",
       "   'loss': -185.1279143722291,\n",
       "   'time_step': 0.007086290856971828,\n",
       "   'observation_error': 1.2353382125145977e-05,\n",
       "   'reward_error': 1.9279379690356336e-06,\n",
       "   'variance': 1.5518268463793187e-07}),\n",
       " (14,\n",
       "  {'time_sample_batch': 0.00013669992633723996,\n",
       "   'time_algorithm_update': 0.00662463102362422,\n",
       "   'loss': -186.35415094154027,\n",
       "   'time_step': 0.0068031807423724125,\n",
       "   'observation_error': 1.2594006513682804e-05,\n",
       "   'reward_error': 3.0540305854605354e-06,\n",
       "   'variance': 2.454543805049739e-07}),\n",
       " (15,\n",
       "  {'time_sample_batch': 0.00014018985296436216,\n",
       "   'time_algorithm_update': 0.006717660432524453,\n",
       "   'loss': -188.058661486945,\n",
       "   'time_step': 0.0068993592859672255,\n",
       "   'observation_error': 1.0353658180396897e-05,\n",
       "   'reward_error': 2.9548844142438814e-06,\n",
       "   'variance': 3.397890133426663e-08})]"
      ]
     },
     "execution_count": 50,
     "metadata": {},
     "output_type": "execute_result"
    }
   ],
   "source": [
    "from d3rlpy.dynamics import ProbabilisticEnsembleDynamics\n",
    "from d3rlpy.metrics.scorer import dynamics_observation_prediction_error_scorer\n",
    "from d3rlpy.metrics.scorer import dynamics_reward_prediction_error_scorer\n",
    "from d3rlpy.metrics.scorer import dynamics_prediction_variance_scorer\n",
    "\n",
    "dynamics = d3rlpy.dynamics.ProbabilisticEnsembleDynamics(learning_rate=1e-4, use_gpu=False)\n",
    "\n",
    "# same as algorithms\n",
    "dynamics.fit(train_episodes,\n",
    "             eval_episodes=test_episodes,\n",
    "             n_epochs=15, tensorboard_dir='runs',\n",
    "             scorers={\n",
    "                'observation_error': dynamics_observation_prediction_error_scorer,\n",
    "                'reward_error': dynamics_reward_prediction_error_scorer,\n",
    "                'variance': dynamics_prediction_variance_scorer,\n",
    "             })\n",
    "\n",
    "\n",
    "#from d3rlpy.algos import MOPO\n",
    "\n",
    "# load trained dynamics model\n",
    "#dynamics = ProbabilisticEnsembleDynamics.from_json('<path-to-params.json>/params.json')\n",
    "#dynamics.load_model('<path-to-model>/model_xx.pt')\n",
    "\n",
    "# give mopo as generator argument.\n",
    "#mopo = MOPO(dynamics=dynamics)\n"
   ]
  },
  {
   "cell_type": "code",
   "execution_count": 12,
   "id": "8f69d169-0f59-4e77-8654-c5d79dae2b1a",
   "metadata": {},
   "outputs": [
    {
     "name": "stdout",
     "output_type": "stream",
     "text": [
      "The tensorboard extension is already loaded. To reload it, use:\n",
      "  %reload_ext tensorboard\n"
     ]
    },
    {
     "data": {
      "text/plain": [
       "Reusing TensorBoard on port 6006 (pid 77774), started 0:06:26 ago. (Use '!kill 77774' to kill it.)"
      ]
     },
     "metadata": {},
     "output_type": "display_data"
    },
    {
     "data": {
      "text/html": [
       "\n",
       "      <iframe id=\"tensorboard-frame-e3e70682c2094cac\" width=\"100%\" height=\"800\" frameborder=\"0\">\n",
       "      </iframe>\n",
       "      <script>\n",
       "        (function() {\n",
       "          const frame = document.getElementById(\"tensorboard-frame-e3e70682c2094cac\");\n",
       "          const url = new URL(\"/\", window.location);\n",
       "          const port = 6006;\n",
       "          if (port) {\n",
       "            url.port = port;\n",
       "          }\n",
       "          frame.src = url;\n",
       "        })();\n",
       "      </script>\n",
       "    "
      ],
      "text/plain": [
       "<IPython.core.display.HTML object>"
      ]
     },
     "metadata": {},
     "output_type": "display_data"
    }
   ],
   "source": [
    "%load_ext tensorboard\n",
    "%tensorboard --logdir runs"
   ]
  },
  {
   "cell_type": "code",
   "execution_count": 51,
   "id": "9b0384d5-a843-4d30-a355-404215f27fa4",
   "metadata": {},
   "outputs": [
    {
     "name": "stdout",
     "output_type": "stream",
     "text": [
      "7.825822524261004\n",
      "2022-04-06 21:02.37 [debug    ] RoundIterator is selected.\n",
      "2022-04-06 21:02.37 [info     ] Directory is created at d3rlpy_logs/COMBO_20220406210237\n",
      "2022-04-06 21:02.37 [debug    ] Fitting reward scaler...       reward_scaler=standard\n",
      "2022-04-06 21:02.37 [warning  ] Skip building models since they're already built.\n",
      "2022-04-06 21:02.37 [info     ] Parameters are saved to d3rlpy_logs/COMBO_20220406210237/params.json params={'action_scaler': None, 'actor_encoder_factory': {'type': 'default', 'params': {'activation': 'relu', 'use_batch_norm': False, 'dropout_rate': None}}, 'actor_learning_rate': 3e-05, 'actor_optim_factory': {'optim_cls': 'Adam', 'betas': (0.9, 0.999), 'eps': 1e-08, 'weight_decay': 0, 'amsgrad': False}, 'batch_size': 256, 'conservative_weight': 1.0, 'critic_encoder_factory': {'type': 'default', 'params': {'activation': 'relu', 'use_batch_norm': False, 'dropout_rate': None}}, 'critic_learning_rate': 0.0003, 'critic_optim_factory': {'optim_cls': 'Adam', 'betas': (0.9, 0.999), 'eps': 1e-08, 'weight_decay': 0, 'amsgrad': False}, 'gamma': 0.99, 'generated_maxlen': 1250000, 'initial_temperature': 1.0, 'n_action_samples': 10, 'n_critics': 2, 'n_frames': 1, 'n_steps': 1, 'q_func_factory': {'type': 'mean', 'params': {'bootstrap': False, 'share_encoder': False}}, 'real_ratio': 0.5, 'reward_scaler': {'type': 'standard', 'params': {'mean': -0.04093451451055951, 'std': 0.024743082182735417, 'eps': 0.001, 'multiplier': 1.0}}, 'rollout_batch_size': 50000, 'rollout_horizon': 5, 'rollout_interval': 1000, 'scaler': None, 'soft_q_backup': False, 'target_reduction_type': 'min', 'tau': 0.005, 'temp_learning_rate': 0.0001, 'temp_optim_factory': {'optim_cls': 'Adam', 'betas': (0.9, 0.999), 'eps': 1e-08, 'weight_decay': 0, 'amsgrad': False}, 'update_actor_interval': 1, 'use_gpu': None, 'algorithm': 'COMBO', 'observation_shape': (6,), 'action_size': 3}\n"
     ]
    },
    {
     "data": {
      "application/vnd.jupyter.widget-view+json": {
       "model_id": "09aa797a6a2e44cc87bf088a7a282a19",
       "version_major": 2,
       "version_minor": 0
      },
      "text/plain": [
       "Epoch 1/5:   0%|          | 0/343 [00:00<?, ?it/s]"
      ]
     },
     "metadata": {},
     "output_type": "display_data"
    },
    {
     "name": "stdout",
     "output_type": "stream",
     "text": [
      "2022-04-06 21:02.39 [debug    ] 250000 transitions are generated. fake_transitions=250000 real_transitions=87813\n",
      "2022-04-06 21:02.47 [info     ] COMBO_20220406210237: epoch=1 step=343 epoch=1 metrics={'time_sample_batch': 0.00029832142087530465, 'time_algorithm_update': 0.022318651655325043, 'critic_loss': 8.361403107295578, 'actor_loss': -0.34950176004114025, 'temp_loss': 4.2451235399996925, 'temp': 0.9834807690656567, 'time_step': 0.022685573677974958, 'td_error': 0.7849345799815419, 'init_value': 1.2416236400604248, 'ave_value': 1.2467925996318105} step=343\n",
      "2022-04-06 21:02.47 [info     ] Model parameters are saved to d3rlpy_logs/COMBO_20220406210237/model_343.pt\n"
     ]
    },
    {
     "data": {
      "application/vnd.jupyter.widget-view+json": {
       "model_id": "53cc90af3f04470e983b2d2344682229",
       "version_major": 2,
       "version_minor": 0
      },
      "text/plain": [
       "Epoch 2/5:   0%|          | 0/343 [00:00<?, ?it/s]"
      ]
     },
     "metadata": {},
     "output_type": "display_data"
    },
    {
     "name": "stdout",
     "output_type": "stream",
     "text": [
      "2022-04-06 21:02.56 [info     ] COMBO_20220406210237: epoch=2 step=686 epoch=2 metrics={'time_sample_batch': 0.0004691702283853692, 'time_algorithm_update': 0.022114493756530584, 'critic_loss': 10.902209612787987, 'actor_loss': -1.2672697422651265, 'temp_loss': 4.124696317984133, 'temp': 0.9538840698431255, 'time_step': 0.022652481457234818, 'td_error': 0.38186449550558743, 'init_value': 1.7204447984695435, 'ave_value': 1.7246237275531804} step=686\n",
      "2022-04-06 21:02.56 [info     ] Model parameters are saved to d3rlpy_logs/COMBO_20220406210237/model_686.pt\n"
     ]
    },
    {
     "data": {
      "application/vnd.jupyter.widget-view+json": {
       "model_id": "7b6cfe9acfc74737880d07a8348c6f68",
       "version_major": 2,
       "version_minor": 0
      },
      "text/plain": [
       "Epoch 3/5:   0%|          | 0/686 [00:00<?, ?it/s]"
      ]
     },
     "metadata": {},
     "output_type": "display_data"
    },
    {
     "name": "stdout",
     "output_type": "stream",
     "text": [
      "2022-04-06 21:03.05 [debug    ] 250000 transitions are generated. fake_transitions=500000 real_transitions=87813\n",
      "2022-04-06 21:03.14 [info     ] COMBO_20220406210237: epoch=3 step=1372 epoch=3 metrics={'time_sample_batch': 0.0004773946267175257, 'time_algorithm_update': 0.022580020629282247, 'critic_loss': 9.356939674466414, 'actor_loss': -2.4688512112934458, 'temp_loss': 3.9773411139107306, 'temp': 0.9068102789689778, 'time_step': 0.02313340335823704, 'td_error': 0.5500945781026063, 'init_value': 3.9303884506225586, 'ave_value': 3.9425782593386556} step=1372\n",
      "2022-04-06 21:03.14 [info     ] Model parameters are saved to d3rlpy_logs/COMBO_20220406210237/model_1372.pt\n"
     ]
    },
    {
     "data": {
      "application/vnd.jupyter.widget-view+json": {
       "model_id": "14f73cba55c7469d88f720b91b27afc6",
       "version_major": 2,
       "version_minor": 0
      },
      "text/plain": [
       "Epoch 4/5:   0%|          | 0/686 [00:00<?, ?it/s]"
      ]
     },
     "metadata": {},
     "output_type": "display_data"
    },
    {
     "name": "stdout",
     "output_type": "stream",
     "text": [
      "2022-04-06 21:03.30 [debug    ] 250000 transitions are generated. fake_transitions=750000 real_transitions=87813\n",
      "2022-04-06 21:03.32 [info     ] COMBO_20220406210237: epoch=4 step=2058 epoch=4 metrics={'time_sample_batch': 0.00047442760133882306, 'time_algorithm_update': 0.022584208594119234, 'critic_loss': 9.187148015631184, 'actor_loss': -4.4536585303854315, 'temp_loss': 3.6122775547010906, 'temp': 0.8502891756181467, 'time_step': 0.023136194871396433, 'td_error': 1.0253053341514484, 'init_value': 5.48727560043335, 'ave_value': 5.514245598049522} step=2058\n",
      "2022-04-06 21:03.32 [info     ] Model parameters are saved to d3rlpy_logs/COMBO_20220406210237/model_2058.pt\n"
     ]
    },
    {
     "data": {
      "application/vnd.jupyter.widget-view+json": {
       "model_id": "b901f7949a2141d3aede12fca30c2cd2",
       "version_major": 2,
       "version_minor": 0
      },
      "text/plain": [
       "Epoch 5/5:   0%|          | 0/686 [00:00<?, ?it/s]"
      ]
     },
     "metadata": {},
     "output_type": "display_data"
    },
    {
     "name": "stdout",
     "output_type": "stream",
     "text": [
      "2022-04-06 21:03.48 [info     ] COMBO_20220406210237: epoch=5 step=2744 epoch=5 metrics={'time_sample_batch': 0.0004726339012123753, 'time_algorithm_update': 0.021931777195054656, 'critic_loss': 9.289198818429218, 'actor_loss': -6.1472682966782815, 'temp_loss': 3.331260523017572, 'temp': 0.7984906840776216, 'time_step': 0.022479728081483536, 'td_error': 1.6410055861786605, 'init_value': 6.912630081176758, 'ave_value': 6.957811238080075} step=2744\n",
      "2022-04-06 21:03.48 [info     ] Model parameters are saved to d3rlpy_logs/COMBO_20220406210237/model_2744.pt\n"
     ]
    },
    {
     "data": {
      "text/plain": [
       "[(1,\n",
       "  {'time_sample_batch': 0.00029832142087530465,\n",
       "   'time_algorithm_update': 0.022318651655325043,\n",
       "   'critic_loss': 8.361403107295578,\n",
       "   'actor_loss': -0.34950176004114025,\n",
       "   'temp_loss': 4.2451235399996925,\n",
       "   'temp': 0.9834807690656567,\n",
       "   'time_step': 0.022685573677974958,\n",
       "   'td_error': 0.7849345799815419,\n",
       "   'init_value': 1.2416236400604248,\n",
       "   'ave_value': 1.2467925996318105}),\n",
       " (2,\n",
       "  {'time_sample_batch': 0.0004691702283853692,\n",
       "   'time_algorithm_update': 0.022114493756530584,\n",
       "   'critic_loss': 10.902209612787987,\n",
       "   'actor_loss': -1.2672697422651265,\n",
       "   'temp_loss': 4.124696317984133,\n",
       "   'temp': 0.9538840698431255,\n",
       "   'time_step': 0.022652481457234818,\n",
       "   'td_error': 0.38186449550558743,\n",
       "   'init_value': 1.7204447984695435,\n",
       "   'ave_value': 1.7246237275531804}),\n",
       " (3,\n",
       "  {'time_sample_batch': 0.0004773946267175257,\n",
       "   'time_algorithm_update': 0.022580020629282247,\n",
       "   'critic_loss': 9.356939674466414,\n",
       "   'actor_loss': -2.4688512112934458,\n",
       "   'temp_loss': 3.9773411139107306,\n",
       "   'temp': 0.9068102789689778,\n",
       "   'time_step': 0.02313340335823704,\n",
       "   'td_error': 0.5500945781026063,\n",
       "   'init_value': 3.9303884506225586,\n",
       "   'ave_value': 3.9425782593386556}),\n",
       " (4,\n",
       "  {'time_sample_batch': 0.00047442760133882306,\n",
       "   'time_algorithm_update': 0.022584208594119234,\n",
       "   'critic_loss': 9.187148015631184,\n",
       "   'actor_loss': -4.4536585303854315,\n",
       "   'temp_loss': 3.6122775547010906,\n",
       "   'temp': 0.8502891756181467,\n",
       "   'time_step': 0.023136194871396433,\n",
       "   'td_error': 1.0253053341514484,\n",
       "   'init_value': 5.48727560043335,\n",
       "   'ave_value': 5.514245598049522}),\n",
       " (5,\n",
       "  {'time_sample_batch': 0.0004726339012123753,\n",
       "   'time_algorithm_update': 0.021931777195054656,\n",
       "   'critic_loss': 9.289198818429218,\n",
       "   'actor_loss': -6.1472682966782815,\n",
       "   'temp_loss': 3.331260523017572,\n",
       "   'temp': 0.7984906840776216,\n",
       "   'time_step': 0.022479728081483536,\n",
       "   'td_error': 1.6410055861786605,\n",
       "   'init_value': 6.912630081176758,\n",
       "   'ave_value': 6.957811238080075})]"
      ]
     },
     "execution_count": 51,
     "metadata": {},
     "output_type": "execute_result"
    }
   ],
   "source": [
    "from d3rlpy.algos import COMBO\n",
    "from d3rlpy.metrics.scorer import td_error_scorer\n",
    "from d3rlpy.metrics.scorer import average_value_estimation_scorer\n",
    "from d3rlpy.metrics.scorer import initial_state_value_estimation_scorer\n",
    "\n",
    "# calculate metrics with test dataset\n",
    "ave_error_init = average_value_estimation_scorer(model, test_episodes)\n",
    "print(ave_error_init)\n",
    "\n",
    "\n",
    "\n",
    "model = COMBO(q_func_factory='mean', #qr -> quantile regression q function, but you don't have to use this\n",
    "            reward_scaler='standard',\n",
    "        dynamics=dynamics,\n",
    "          actor_learning_rate=3e-5, \n",
    "          critic_learning_rate=0.0003, \n",
    "            use_gpu=False) #change it to true if you have one\n",
    "model.build_with_dataset(dataset)\n",
    "\n",
    "model.fit(train_episodes,\n",
    "        eval_episodes=test_episodes,\n",
    "        n_epochs=5, \n",
    "        tensorboard_dir='runs',\n",
    "        scorers={\n",
    "            'td_error': td_error_scorer,\n",
    "            'init_value': initial_state_value_estimation_scorer,\n",
    "            'ave_value': average_value_estimation_scorer\n",
    "        })"
   ]
  },
  {
   "cell_type": "markdown",
   "id": "6bbb0460-f723-4b67-a553-57887d11dbc9",
   "metadata": {},
   "source": [
    "## Off-Policy Evaluation\n",
    "\n",
    "We do get some metrics on a test set of initial state value and average value. However, these estimates (using the critic's Q-function) of model performance are biased. They're useful for validation during training, but not much else. Instead, we fit a Q-function to the data (or a separate dataset, as I've done here) separately and evaluate the model's performance on it.\n",
    "\n",
    "Feel free to change the chunks and number of steps."
   ]
  },
  {
   "cell_type": "code",
   "execution_count": 52,
   "id": "0ab1d37d-2e01-4182-94e5-13af0d6c2484",
   "metadata": {},
   "outputs": [
    {
     "name": "stdout",
     "output_type": "stream",
     "text": [
      "[ 0.00000000e+00  7.95731469e+08 -1.03891077e-02 -1.41999953e-02\n",
      " -2.10001342e-03  0.00000000e+00 -5.33423489e+00 -1.57091618e+00\n",
      " -1.78778459e-03 -1.34615461e-02  4.84073546e-02]\n",
      "Read chunk # 3 out of 10000\n",
      "[ 0.00000000e+00  7.95731469e+08 -7.24891077e-02 -1.35999953e-02\n",
      " -4.20001342e-03  0.00000000e+00 -5.33423489e+00 -1.57091618e+00\n",
      " -6.23311010e-02 -1.64283998e-01  6.00000000e-01]\n",
      "Read chunk # 5 out of 10000\n",
      "[ 0.00000000e+00  7.95731469e+08  7.01089229e-03 -4.19999531e-03\n",
      "  7.39998658e-03  0.00000000e+00 -5.33423489e+00 -1.57091618e+00\n",
      "  2.21623335e-01 -2.86362315e-02 -8.00043364e-02]\n",
      "Read chunk # 7 out of 10000\n",
      "[ 0.00000000e+00  7.95731469e+08 -1.03989108e-01 -1.37999953e-02\n",
      "  7.99998658e-03  0.00000000e+00 -5.33423489e+00 -1.57091618e+00\n",
      "  2.76352555e-01 -3.26280816e-01  6.00000000e-01]\n",
      "Read chunk # 9 out of 10000\n",
      "torch.Size([111080, 6])\n",
      "2022-04-06 21:03.49 [debug    ] RoundIterator is selected.\n",
      "2022-04-06 21:03.49 [info     ] Directory is created at d3rlpy_logs/FQE_20220406210349\n",
      "2022-04-06 21:03.49 [debug    ] Building models...\n",
      "2022-04-06 21:03.49 [debug    ] Models have been built.\n",
      "2022-04-06 21:03.49 [info     ] Parameters are saved to d3rlpy_logs/FQE_20220406210349/params.json params={'action_scaler': None, 'batch_size': 100, 'encoder_factory': {'type': 'default', 'params': {'activation': 'relu', 'use_batch_norm': False, 'dropout_rate': None}}, 'gamma': 0.99, 'generated_maxlen': 100000, 'learning_rate': 0.0001, 'n_critics': 1, 'n_frames': 1, 'n_steps': 1, 'optim_factory': {'optim_cls': 'Adam', 'betas': (0.9, 0.999), 'eps': 1e-08, 'weight_decay': 0, 'amsgrad': False}, 'q_func_factory': {'type': 'mean', 'params': {'bootstrap': False, 'share_encoder': False}}, 'real_ratio': 1.0, 'reward_scaler': None, 'scaler': None, 'target_update_interval': 100, 'use_gpu': None, 'algorithm': 'FQE', 'observation_shape': (6,), 'action_size': 3}\n"
     ]
    },
    {
     "data": {
      "application/vnd.jupyter.widget-view+json": {
       "model_id": "93e476c604ec4326a1dd42fa2da4da07",
       "version_major": 2,
       "version_minor": 0
      },
      "text/plain": [
       "Epoch 1/50:   0%|          | 0/878 [00:00<?, ?it/s]"
      ]
     },
     "metadata": {},
     "output_type": "display_data"
    },
    {
     "name": "stderr",
     "output_type": "stream",
     "text": [
      "WARNING:root:NaN or Inf found in input tensor.\n"
     ]
    },
    {
     "name": "stdout",
     "output_type": "stream",
     "text": [
      "2022-04-06 21:03.50 [info     ] FQE_20220406210349: epoch=1 step=878 epoch=1 metrics={'time_sample_batch': 0.00012873598546264927, 'time_algorithm_update': 0.001486791293550461, 'loss': 0.00026482629515046024, 'time_step': 0.0016694283431103127, 'init_value': -0.18876513838768005, 'ave_value': -0.18954894687402812, 'soft_opc': nan} step=878\n"
     ]
    },
    {
     "name": "stderr",
     "output_type": "stream",
     "text": [
      "WARNING:root:NaN or Inf found in input tensor.\n"
     ]
    },
    {
     "name": "stdout",
     "output_type": "stream",
     "text": [
      "2022-04-06 21:03.50 [info     ] Model parameters are saved to d3rlpy_logs/FQE_20220406210349/model_878.pt\n"
     ]
    },
    {
     "data": {
      "application/vnd.jupyter.widget-view+json": {
       "model_id": "4518eec39a294f579604faa0f9eafc17",
       "version_major": 2,
       "version_minor": 0
      },
      "text/plain": [
       "Epoch 2/50:   0%|          | 0/878 [00:00<?, ?it/s]"
      ]
     },
     "metadata": {},
     "output_type": "display_data"
    },
    {
     "name": "stderr",
     "output_type": "stream",
     "text": [
      "WARNING:root:NaN or Inf found in input tensor.\n"
     ]
    },
    {
     "name": "stdout",
     "output_type": "stream",
     "text": [
      "2022-04-06 21:03.52 [info     ] FQE_20220406210349: epoch=2 step=1756 epoch=2 metrics={'time_sample_batch': 0.0001276546838886374, 'time_algorithm_update': 0.0015851612243130973, 'loss': 0.0007146051946667641, 'time_step': 0.0017693012884917726, 'init_value': -0.2967626452445984, 'ave_value': -0.2972891433198647, 'soft_opc': nan} step=1756\n"
     ]
    },
    {
     "name": "stderr",
     "output_type": "stream",
     "text": [
      "WARNING:root:NaN or Inf found in input tensor.\n"
     ]
    },
    {
     "name": "stdout",
     "output_type": "stream",
     "text": [
      "2022-04-06 21:03.52 [info     ] Model parameters are saved to d3rlpy_logs/FQE_20220406210349/model_1756.pt\n"
     ]
    },
    {
     "data": {
      "application/vnd.jupyter.widget-view+json": {
       "model_id": "19f4ecffa1b545199e9adf34fe59829e",
       "version_major": 2,
       "version_minor": 0
      },
      "text/plain": [
       "Epoch 3/50:   0%|          | 0/878 [00:00<?, ?it/s]"
      ]
     },
     "metadata": {},
     "output_type": "display_data"
    },
    {
     "name": "stderr",
     "output_type": "stream",
     "text": [
      "WARNING:root:NaN or Inf found in input tensor.\n"
     ]
    },
    {
     "name": "stdout",
     "output_type": "stream",
     "text": [
      "2022-04-06 21:03.54 [info     ] FQE_20220406210349: epoch=3 step=2634 epoch=3 metrics={'time_sample_batch': 0.00012643407852068578, 'time_algorithm_update': 0.0016615939303248237, 'loss': 0.0012968413317400534, 'time_step': 0.0018410397553498218, 'init_value': -0.4171195924282074, 'ave_value': -0.4174483638273156, 'soft_opc': nan} step=2634\n"
     ]
    },
    {
     "name": "stderr",
     "output_type": "stream",
     "text": [
      "WARNING:root:NaN or Inf found in input tensor.\n"
     ]
    },
    {
     "name": "stdout",
     "output_type": "stream",
     "text": [
      "2022-04-06 21:03.54 [info     ] Model parameters are saved to d3rlpy_logs/FQE_20220406210349/model_2634.pt\n"
     ]
    },
    {
     "data": {
      "application/vnd.jupyter.widget-view+json": {
       "model_id": "1561e570fb8a4f1d8685d38e4c99596b",
       "version_major": 2,
       "version_minor": 0
      },
      "text/plain": [
       "Epoch 4/50:   0%|          | 0/878 [00:00<?, ?it/s]"
      ]
     },
     "metadata": {},
     "output_type": "display_data"
    },
    {
     "name": "stderr",
     "output_type": "stream",
     "text": [
      "WARNING:root:NaN or Inf found in input tensor.\n"
     ]
    },
    {
     "name": "stdout",
     "output_type": "stream",
     "text": [
      "2022-04-06 21:03.56 [info     ] FQE_20220406210349: epoch=4 step=3512 epoch=4 metrics={'time_sample_batch': 0.00012486073313650075, 'time_algorithm_update': 0.0015624658393425387, 'loss': 0.00205733014416489, 'time_step': 0.0017407282609874404, 'init_value': -0.5100998282432556, 'ave_value': -0.510274434613972, 'soft_opc': nan} step=3512\n"
     ]
    },
    {
     "name": "stderr",
     "output_type": "stream",
     "text": [
      "WARNING:root:NaN or Inf found in input tensor.\n"
     ]
    },
    {
     "name": "stdout",
     "output_type": "stream",
     "text": [
      "2022-04-06 21:03.56 [info     ] Model parameters are saved to d3rlpy_logs/FQE_20220406210349/model_3512.pt\n"
     ]
    },
    {
     "data": {
      "application/vnd.jupyter.widget-view+json": {
       "model_id": "4569460e589d42be84f7d31ab1539b22",
       "version_major": 2,
       "version_minor": 0
      },
      "text/plain": [
       "Epoch 5/50:   0%|          | 0/878 [00:00<?, ?it/s]"
      ]
     },
     "metadata": {},
     "output_type": "display_data"
    },
    {
     "name": "stderr",
     "output_type": "stream",
     "text": [
      "WARNING:root:NaN or Inf found in input tensor.\n"
     ]
    },
    {
     "name": "stdout",
     "output_type": "stream",
     "text": [
      "2022-04-06 21:03.57 [info     ] FQE_20220406210349: epoch=5 step=4390 epoch=5 metrics={'time_sample_batch': 0.00012519880959547733, 'time_algorithm_update': 0.0015716449546379488, 'loss': 0.002931711669505371, 'time_step': 0.0017511206498721738, 'init_value': -0.5442318916320801, 'ave_value': -0.54426777774551, 'soft_opc': nan} step=4390\n"
     ]
    },
    {
     "name": "stderr",
     "output_type": "stream",
     "text": [
      "WARNING:root:NaN or Inf found in input tensor.\n"
     ]
    },
    {
     "name": "stdout",
     "output_type": "stream",
     "text": [
      "2022-04-06 21:03.57 [info     ] Model parameters are saved to d3rlpy_logs/FQE_20220406210349/model_4390.pt\n"
     ]
    },
    {
     "data": {
      "application/vnd.jupyter.widget-view+json": {
       "model_id": "3a09d227b2f04043b8ee1e32683b7c81",
       "version_major": 2,
       "version_minor": 0
      },
      "text/plain": [
       "Epoch 6/50:   0%|          | 0/878 [00:00<?, ?it/s]"
      ]
     },
     "metadata": {},
     "output_type": "display_data"
    },
    {
     "name": "stderr",
     "output_type": "stream",
     "text": [
      "WARNING:root:NaN or Inf found in input tensor.\n"
     ]
    },
    {
     "name": "stdout",
     "output_type": "stream",
     "text": [
      "2022-04-06 21:03.59 [info     ] FQE_20220406210349: epoch=6 step=5268 epoch=6 metrics={'time_sample_batch': 0.00010462339483795514, 'time_algorithm_update': 0.0012948238768175685, 'loss': 0.0034336098094818867, 'time_step': 0.0014427292048252254, 'init_value': -0.6346944570541382, 'ave_value': -0.6344719484050879, 'soft_opc': nan} step=5268\n"
     ]
    },
    {
     "name": "stderr",
     "output_type": "stream",
     "text": [
      "WARNING:root:NaN or Inf found in input tensor.\n"
     ]
    },
    {
     "name": "stdout",
     "output_type": "stream",
     "text": [
      "2022-04-06 21:03.59 [info     ] Model parameters are saved to d3rlpy_logs/FQE_20220406210349/model_5268.pt\n"
     ]
    },
    {
     "data": {
      "application/vnd.jupyter.widget-view+json": {
       "model_id": "c0f38f5bd3794ff6b17e406754e34715",
       "version_major": 2,
       "version_minor": 0
      },
      "text/plain": [
       "Epoch 7/50:   0%|          | 0/878 [00:00<?, ?it/s]"
      ]
     },
     "metadata": {},
     "output_type": "display_data"
    },
    {
     "name": "stderr",
     "output_type": "stream",
     "text": [
      "WARNING:root:NaN or Inf found in input tensor.\n"
     ]
    },
    {
     "name": "stdout",
     "output_type": "stream",
     "text": [
      "2022-04-06 21:04.00 [info     ] FQE_20220406210349: epoch=7 step=6146 epoch=7 metrics={'time_sample_batch': 0.0001052142818859335, 'time_algorithm_update': 0.0013060376964560403, 'loss': 0.004343272875984831, 'time_step': 0.0014549596977668363, 'init_value': -0.6856957674026489, 'ave_value': -0.6852442257623663, 'soft_opc': nan} step=6146\n"
     ]
    },
    {
     "name": "stderr",
     "output_type": "stream",
     "text": [
      "WARNING:root:NaN or Inf found in input tensor.\n"
     ]
    },
    {
     "name": "stdout",
     "output_type": "stream",
     "text": [
      "2022-04-06 21:04.00 [info     ] Model parameters are saved to d3rlpy_logs/FQE_20220406210349/model_6146.pt\n"
     ]
    },
    {
     "data": {
      "application/vnd.jupyter.widget-view+json": {
       "model_id": "cfe36084ec0e41de93a0e15294f55e32",
       "version_major": 2,
       "version_minor": 0
      },
      "text/plain": [
       "Epoch 8/50:   0%|          | 0/878 [00:00<?, ?it/s]"
      ]
     },
     "metadata": {},
     "output_type": "display_data"
    },
    {
     "name": "stderr",
     "output_type": "stream",
     "text": [
      "WARNING:root:NaN or Inf found in input tensor.\n"
     ]
    },
    {
     "name": "stdout",
     "output_type": "stream",
     "text": [
      "2022-04-06 21:04.02 [info     ] FQE_20220406210349: epoch=8 step=7024 epoch=8 metrics={'time_sample_batch': 0.00011213222234287132, 'time_algorithm_update': 0.0013899072699231818, 'loss': 0.004766666127117812, 'time_step': 0.0015504140245615756, 'init_value': -0.6967993974685669, 'ave_value': -0.6960851119286763, 'soft_opc': nan} step=7024\n"
     ]
    },
    {
     "name": "stderr",
     "output_type": "stream",
     "text": [
      "WARNING:root:NaN or Inf found in input tensor.\n"
     ]
    },
    {
     "name": "stdout",
     "output_type": "stream",
     "text": [
      "2022-04-06 21:04.02 [info     ] Model parameters are saved to d3rlpy_logs/FQE_20220406210349/model_7024.pt\n"
     ]
    },
    {
     "data": {
      "application/vnd.jupyter.widget-view+json": {
       "model_id": "11a8db04ea0f4cc7833e4d5b5e936cfa",
       "version_major": 2,
       "version_minor": 0
      },
      "text/plain": [
       "Epoch 9/50:   0%|          | 0/878 [00:00<?, ?it/s]"
      ]
     },
     "metadata": {},
     "output_type": "display_data"
    },
    {
     "name": "stderr",
     "output_type": "stream",
     "text": [
      "WARNING:root:NaN or Inf found in input tensor.\n"
     ]
    },
    {
     "name": "stdout",
     "output_type": "stream",
     "text": [
      "2022-04-06 21:04.04 [info     ] FQE_20220406210349: epoch=9 step=7902 epoch=9 metrics={'time_sample_batch': 0.0001123114435982324, 'time_algorithm_update': 0.0013972271004678992, 'loss': 0.005560340047141796, 'time_step': 0.0015585987334370884, 'init_value': -0.7748829126358032, 'ave_value': -0.7739987973056799, 'soft_opc': nan} step=7902\n"
     ]
    },
    {
     "name": "stderr",
     "output_type": "stream",
     "text": [
      "WARNING:root:NaN or Inf found in input tensor.\n"
     ]
    },
    {
     "name": "stdout",
     "output_type": "stream",
     "text": [
      "2022-04-06 21:04.04 [info     ] Model parameters are saved to d3rlpy_logs/FQE_20220406210349/model_7902.pt\n"
     ]
    },
    {
     "data": {
      "application/vnd.jupyter.widget-view+json": {
       "model_id": "380ac626c3d74d8ebab66f522597ea74",
       "version_major": 2,
       "version_minor": 0
      },
      "text/plain": [
       "Epoch 10/50:   0%|          | 0/878 [00:00<?, ?it/s]"
      ]
     },
     "metadata": {},
     "output_type": "display_data"
    },
    {
     "name": "stderr",
     "output_type": "stream",
     "text": [
      "WARNING:root:NaN or Inf found in input tensor.\n"
     ]
    },
    {
     "name": "stdout",
     "output_type": "stream",
     "text": [
      "2022-04-06 21:04.05 [info     ] FQE_20220406210349: epoch=10 step=8780 epoch=10 metrics={'time_sample_batch': 0.00010230465195988197, 'time_algorithm_update': 0.0012734074798966323, 'loss': 0.006610026745240086, 'time_step': 0.0014191515624930485, 'init_value': -0.855553925037384, 'ave_value': -0.8546864779165496, 'soft_opc': nan} step=8780\n"
     ]
    },
    {
     "name": "stderr",
     "output_type": "stream",
     "text": [
      "WARNING:root:NaN or Inf found in input tensor.\n"
     ]
    },
    {
     "name": "stdout",
     "output_type": "stream",
     "text": [
      "2022-04-06 21:04.05 [info     ] Model parameters are saved to d3rlpy_logs/FQE_20220406210349/model_8780.pt\n"
     ]
    },
    {
     "data": {
      "application/vnd.jupyter.widget-view+json": {
       "model_id": "17c1490b508e40a79f6be695a586d5db",
       "version_major": 2,
       "version_minor": 0
      },
      "text/plain": [
       "Epoch 11/50:   0%|          | 0/878 [00:00<?, ?it/s]"
      ]
     },
     "metadata": {},
     "output_type": "display_data"
    },
    {
     "name": "stderr",
     "output_type": "stream",
     "text": [
      "WARNING:root:NaN or Inf found in input tensor.\n"
     ]
    },
    {
     "name": "stdout",
     "output_type": "stream",
     "text": [
      "2022-04-06 21:04.07 [info     ] FQE_20220406210349: epoch=11 step=9658 epoch=11 metrics={'time_sample_batch': 0.00010815378202121187, 'time_algorithm_update': 0.0013825230826549487, 'loss': 0.007521865196765925, 'time_step': 0.0015361852146226888, 'init_value': -0.9016329646110535, 'ave_value': -0.9007947301499604, 'soft_opc': nan} step=9658\n"
     ]
    },
    {
     "name": "stderr",
     "output_type": "stream",
     "text": [
      "WARNING:root:NaN or Inf found in input tensor.\n"
     ]
    },
    {
     "name": "stdout",
     "output_type": "stream",
     "text": [
      "2022-04-06 21:04.07 [info     ] Model parameters are saved to d3rlpy_logs/FQE_20220406210349/model_9658.pt\n"
     ]
    },
    {
     "data": {
      "application/vnd.jupyter.widget-view+json": {
       "model_id": "f49dd35861984d46bee2abc0a243361d",
       "version_major": 2,
       "version_minor": 0
      },
      "text/plain": [
       "Epoch 12/50:   0%|          | 0/878 [00:00<?, ?it/s]"
      ]
     },
     "metadata": {},
     "output_type": "display_data"
    },
    {
     "name": "stderr",
     "output_type": "stream",
     "text": [
      "WARNING:root:NaN or Inf found in input tensor.\n"
     ]
    },
    {
     "name": "stdout",
     "output_type": "stream",
     "text": [
      "2022-04-06 21:04.08 [info     ] FQE_20220406210349: epoch=12 step=10536 epoch=12 metrics={'time_sample_batch': 0.00011017436590172978, 'time_algorithm_update': 0.0013994964217270698, 'loss': 0.007986642295353433, 'time_step': 0.0015582859108822765, 'init_value': -0.9097276329994202, 'ave_value': -0.9092903990414435, 'soft_opc': nan} step=10536\n"
     ]
    },
    {
     "name": "stderr",
     "output_type": "stream",
     "text": [
      "WARNING:root:NaN or Inf found in input tensor.\n"
     ]
    },
    {
     "name": "stdout",
     "output_type": "stream",
     "text": [
      "2022-04-06 21:04.08 [info     ] Model parameters are saved to d3rlpy_logs/FQE_20220406210349/model_10536.pt\n"
     ]
    },
    {
     "data": {
      "application/vnd.jupyter.widget-view+json": {
       "model_id": "066ad4bf8f2b430baed750d0d363e93e",
       "version_major": 2,
       "version_minor": 0
      },
      "text/plain": [
       "Epoch 13/50:   0%|          | 0/878 [00:00<?, ?it/s]"
      ]
     },
     "metadata": {},
     "output_type": "display_data"
    },
    {
     "name": "stderr",
     "output_type": "stream",
     "text": [
      "WARNING:root:NaN or Inf found in input tensor.\n"
     ]
    },
    {
     "name": "stdout",
     "output_type": "stream",
     "text": [
      "2022-04-06 21:04.10 [info     ] FQE_20220406210349: epoch=13 step=11414 epoch=13 metrics={'time_sample_batch': 0.00010970513206951168, 'time_algorithm_update': 0.0013593560199259625, 'loss': 0.008906486512400813, 'time_step': 0.001517310772506957, 'init_value': -0.9684196710586548, 'ave_value': -0.9676022156131447, 'soft_opc': nan} step=11414\n"
     ]
    },
    {
     "name": "stderr",
     "output_type": "stream",
     "text": [
      "WARNING:root:NaN or Inf found in input tensor.\n"
     ]
    },
    {
     "name": "stdout",
     "output_type": "stream",
     "text": [
      "2022-04-06 21:04.10 [info     ] Model parameters are saved to d3rlpy_logs/FQE_20220406210349/model_11414.pt\n"
     ]
    },
    {
     "data": {
      "application/vnd.jupyter.widget-view+json": {
       "model_id": "e78fd3cf577d40ecb705e36f1a55d717",
       "version_major": 2,
       "version_minor": 0
      },
      "text/plain": [
       "Epoch 14/50:   0%|          | 0/878 [00:00<?, ?it/s]"
      ]
     },
     "metadata": {},
     "output_type": "display_data"
    },
    {
     "name": "stderr",
     "output_type": "stream",
     "text": [
      "WARNING:root:NaN or Inf found in input tensor.\n"
     ]
    },
    {
     "name": "stdout",
     "output_type": "stream",
     "text": [
      "2022-04-06 21:04.11 [info     ] FQE_20220406210349: epoch=14 step=12292 epoch=14 metrics={'time_sample_batch': 0.00010758217483555265, 'time_algorithm_update': 0.0013617309731068536, 'loss': 0.009710270782493364, 'time_step': 0.0015159834490278588, 'init_value': -1.0077133178710938, 'ave_value': -1.0070498156748415, 'soft_opc': nan} step=12292\n"
     ]
    },
    {
     "name": "stderr",
     "output_type": "stream",
     "text": [
      "WARNING:root:NaN or Inf found in input tensor.\n"
     ]
    },
    {
     "name": "stdout",
     "output_type": "stream",
     "text": [
      "2022-04-06 21:04.11 [info     ] Model parameters are saved to d3rlpy_logs/FQE_20220406210349/model_12292.pt\n"
     ]
    },
    {
     "data": {
      "application/vnd.jupyter.widget-view+json": {
       "model_id": "c009d404005242bab9aa696c61870733",
       "version_major": 2,
       "version_minor": 0
      },
      "text/plain": [
       "Epoch 15/50:   0%|          | 0/878 [00:00<?, ?it/s]"
      ]
     },
     "metadata": {},
     "output_type": "display_data"
    },
    {
     "name": "stderr",
     "output_type": "stream",
     "text": [
      "WARNING:root:NaN or Inf found in input tensor.\n"
     ]
    },
    {
     "name": "stdout",
     "output_type": "stream",
     "text": [
      "2022-04-06 21:04.13 [info     ] FQE_20220406210349: epoch=15 step=13170 epoch=15 metrics={'time_sample_batch': 0.00010824475038567545, 'time_algorithm_update': 0.0013646742749051245, 'loss': 0.009926598658212594, 'time_step': 0.0015155834597715757, 'init_value': -1.006379246711731, 'ave_value': -1.005781907768965, 'soft_opc': nan} step=13170\n"
     ]
    },
    {
     "name": "stderr",
     "output_type": "stream",
     "text": [
      "WARNING:root:NaN or Inf found in input tensor.\n"
     ]
    },
    {
     "name": "stdout",
     "output_type": "stream",
     "text": [
      "2022-04-06 21:04.13 [info     ] Model parameters are saved to d3rlpy_logs/FQE_20220406210349/model_13170.pt\n"
     ]
    },
    {
     "data": {
      "application/vnd.jupyter.widget-view+json": {
       "model_id": "944b9a5be8e046ec98a39fcbf35dd6c4",
       "version_major": 2,
       "version_minor": 0
      },
      "text/plain": [
       "Epoch 16/50:   0%|          | 0/878 [00:00<?, ?it/s]"
      ]
     },
     "metadata": {},
     "output_type": "display_data"
    },
    {
     "name": "stderr",
     "output_type": "stream",
     "text": [
      "WARNING:root:NaN or Inf found in input tensor.\n"
     ]
    },
    {
     "name": "stdout",
     "output_type": "stream",
     "text": [
      "2022-04-06 21:04.14 [info     ] FQE_20220406210349: epoch=16 step=14048 epoch=16 metrics={'time_sample_batch': 0.00010847800956500147, 'time_algorithm_update': 0.0013628671272469001, 'loss': 0.00981940318077432, 'time_step': 0.001519343847565879, 'init_value': -0.9781472086906433, 'ave_value': -0.9776438263553681, 'soft_opc': nan} step=14048\n"
     ]
    },
    {
     "name": "stderr",
     "output_type": "stream",
     "text": [
      "WARNING:root:NaN or Inf found in input tensor.\n"
     ]
    },
    {
     "name": "stdout",
     "output_type": "stream",
     "text": [
      "2022-04-06 21:04.14 [info     ] Model parameters are saved to d3rlpy_logs/FQE_20220406210349/model_14048.pt\n"
     ]
    },
    {
     "data": {
      "application/vnd.jupyter.widget-view+json": {
       "model_id": "83bc5cedb02e480292b8d4b266869213",
       "version_major": 2,
       "version_minor": 0
      },
      "text/plain": [
       "Epoch 17/50:   0%|          | 0/878 [00:00<?, ?it/s]"
      ]
     },
     "metadata": {},
     "output_type": "display_data"
    },
    {
     "name": "stderr",
     "output_type": "stream",
     "text": [
      "WARNING:root:NaN or Inf found in input tensor.\n"
     ]
    },
    {
     "name": "stdout",
     "output_type": "stream",
     "text": [
      "2022-04-06 21:04.16 [info     ] FQE_20220406210349: epoch=17 step=14926 epoch=17 metrics={'time_sample_batch': 0.0001134782825895757, 'time_algorithm_update': 0.0013964358114707442, 'loss': 0.00962598658516424, 'time_step': 0.001561621870158202, 'init_value': -0.978163480758667, 'ave_value': -0.9776887024135247, 'soft_opc': nan} step=14926\n"
     ]
    },
    {
     "name": "stderr",
     "output_type": "stream",
     "text": [
      "WARNING:root:NaN or Inf found in input tensor.\n"
     ]
    },
    {
     "name": "stdout",
     "output_type": "stream",
     "text": [
      "2022-04-06 21:04.16 [info     ] Model parameters are saved to d3rlpy_logs/FQE_20220406210349/model_14926.pt\n"
     ]
    },
    {
     "data": {
      "application/vnd.jupyter.widget-view+json": {
       "model_id": "6b6ec8a639f7437fa51629ecdc884513",
       "version_major": 2,
       "version_minor": 0
      },
      "text/plain": [
       "Epoch 18/50:   0%|          | 0/878 [00:00<?, ?it/s]"
      ]
     },
     "metadata": {},
     "output_type": "display_data"
    },
    {
     "name": "stderr",
     "output_type": "stream",
     "text": [
      "WARNING:root:NaN or Inf found in input tensor.\n"
     ]
    },
    {
     "name": "stdout",
     "output_type": "stream",
     "text": [
      "2022-04-06 21:04.18 [info     ] FQE_20220406210349: epoch=18 step=15804 epoch=18 metrics={'time_sample_batch': 0.00011673196301644918, 'time_algorithm_update': 0.0014647734192346387, 'loss': 0.009549127089320706, 'time_step': 0.0016288700299273862, 'init_value': -0.9850871562957764, 'ave_value': -0.9845384580423668, 'soft_opc': nan} step=15804\n"
     ]
    },
    {
     "name": "stderr",
     "output_type": "stream",
     "text": [
      "WARNING:root:NaN or Inf found in input tensor.\n"
     ]
    },
    {
     "name": "stdout",
     "output_type": "stream",
     "text": [
      "2022-04-06 21:04.18 [info     ] Model parameters are saved to d3rlpy_logs/FQE_20220406210349/model_15804.pt\n"
     ]
    },
    {
     "data": {
      "application/vnd.jupyter.widget-view+json": {
       "model_id": "9716f740c57b453395deefa7ce661620",
       "version_major": 2,
       "version_minor": 0
      },
      "text/plain": [
       "Epoch 19/50:   0%|          | 0/878 [00:00<?, ?it/s]"
      ]
     },
     "metadata": {},
     "output_type": "display_data"
    },
    {
     "name": "stderr",
     "output_type": "stream",
     "text": [
      "WARNING:root:NaN or Inf found in input tensor.\n"
     ]
    },
    {
     "name": "stdout",
     "output_type": "stream",
     "text": [
      "2022-04-06 21:04.19 [info     ] FQE_20220406210349: epoch=19 step=16682 epoch=19 metrics={'time_sample_batch': 0.00011418593500089537, 'time_algorithm_update': 0.0015165990468852884, 'loss': 0.010091787978406062, 'time_step': 0.001684350413450619, 'init_value': -1.0397145748138428, 'ave_value': -1.039304403894356, 'soft_opc': nan} step=16682\n"
     ]
    },
    {
     "name": "stderr",
     "output_type": "stream",
     "text": [
      "WARNING:root:NaN or Inf found in input tensor.\n"
     ]
    },
    {
     "name": "stdout",
     "output_type": "stream",
     "text": [
      "2022-04-06 21:04.19 [info     ] Model parameters are saved to d3rlpy_logs/FQE_20220406210349/model_16682.pt\n"
     ]
    },
    {
     "data": {
      "application/vnd.jupyter.widget-view+json": {
       "model_id": "a9cefa116cce4ffca3a9b770290e9422",
       "version_major": 2,
       "version_minor": 0
      },
      "text/plain": [
       "Epoch 20/50:   0%|          | 0/878 [00:00<?, ?it/s]"
      ]
     },
     "metadata": {},
     "output_type": "display_data"
    },
    {
     "name": "stderr",
     "output_type": "stream",
     "text": [
      "WARNING:root:NaN or Inf found in input tensor.\n"
     ]
    },
    {
     "name": "stdout",
     "output_type": "stream",
     "text": [
      "2022-04-06 21:04.21 [info     ] FQE_20220406210349: epoch=20 step=17560 epoch=20 metrics={'time_sample_batch': 0.00011446046937842576, 'time_algorithm_update': 0.0014208875647438413, 'loss': 0.010080873073375001, 'time_step': 0.0015857032328368862, 'init_value': -0.9988876581192017, 'ave_value': -0.9984071463293834, 'soft_opc': nan} step=17560\n"
     ]
    },
    {
     "name": "stderr",
     "output_type": "stream",
     "text": [
      "WARNING:root:NaN or Inf found in input tensor.\n"
     ]
    },
    {
     "name": "stdout",
     "output_type": "stream",
     "text": [
      "2022-04-06 21:04.21 [info     ] Model parameters are saved to d3rlpy_logs/FQE_20220406210349/model_17560.pt\n"
     ]
    },
    {
     "data": {
      "application/vnd.jupyter.widget-view+json": {
       "model_id": "4d6f5690b5f8488283d9f7d38ccb1301",
       "version_major": 2,
       "version_minor": 0
      },
      "text/plain": [
       "Epoch 21/50:   0%|          | 0/878 [00:00<?, ?it/s]"
      ]
     },
     "metadata": {},
     "output_type": "display_data"
    },
    {
     "name": "stderr",
     "output_type": "stream",
     "text": [
      "WARNING:root:NaN or Inf found in input tensor.\n"
     ]
    },
    {
     "name": "stdout",
     "output_type": "stream",
     "text": [
      "2022-04-06 21:04.23 [info     ] FQE_20220406210349: epoch=21 step=18438 epoch=21 metrics={'time_sample_batch': 0.00011595452293448133, 'time_algorithm_update': 0.0014129972132028914, 'loss': 0.00939842583711072, 'time_step': 0.0015797357081280754, 'init_value': -0.9841761589050293, 'ave_value': -0.9837058802583422, 'soft_opc': nan} step=18438\n"
     ]
    },
    {
     "name": "stderr",
     "output_type": "stream",
     "text": [
      "WARNING:root:NaN or Inf found in input tensor.\n"
     ]
    },
    {
     "name": "stdout",
     "output_type": "stream",
     "text": [
      "2022-04-06 21:04.23 [info     ] Model parameters are saved to d3rlpy_logs/FQE_20220406210349/model_18438.pt\n"
     ]
    },
    {
     "data": {
      "application/vnd.jupyter.widget-view+json": {
       "model_id": "e2d2b9ed940c484f9c76290e063c3d53",
       "version_major": 2,
       "version_minor": 0
      },
      "text/plain": [
       "Epoch 22/50:   0%|          | 0/878 [00:00<?, ?it/s]"
      ]
     },
     "metadata": {},
     "output_type": "display_data"
    },
    {
     "name": "stderr",
     "output_type": "stream",
     "text": [
      "WARNING:root:NaN or Inf found in input tensor.\n"
     ]
    },
    {
     "name": "stdout",
     "output_type": "stream",
     "text": [
      "2022-04-06 21:04.24 [info     ] FQE_20220406210349: epoch=22 step=19316 epoch=22 metrics={'time_sample_batch': 0.00011206569324050243, 'time_algorithm_update': 0.001390818854399314, 'loss': 0.009182520656389139, 'time_step': 0.0015519113366859105, 'init_value': -0.966090738773346, 'ave_value': -0.9654797735613596, 'soft_opc': nan} step=19316\n"
     ]
    },
    {
     "name": "stderr",
     "output_type": "stream",
     "text": [
      "WARNING:root:NaN or Inf found in input tensor.\n"
     ]
    },
    {
     "name": "stdout",
     "output_type": "stream",
     "text": [
      "2022-04-06 21:04.24 [info     ] Model parameters are saved to d3rlpy_logs/FQE_20220406210349/model_19316.pt\n"
     ]
    },
    {
     "data": {
      "application/vnd.jupyter.widget-view+json": {
       "model_id": "b94e1292d09546d6bff909f3fedd8052",
       "version_major": 2,
       "version_minor": 0
      },
      "text/plain": [
       "Epoch 23/50:   0%|          | 0/878 [00:00<?, ?it/s]"
      ]
     },
     "metadata": {},
     "output_type": "display_data"
    },
    {
     "name": "stderr",
     "output_type": "stream",
     "text": [
      "WARNING:root:NaN or Inf found in input tensor.\n"
     ]
    },
    {
     "name": "stdout",
     "output_type": "stream",
     "text": [
      "2022-04-06 21:04.26 [info     ] FQE_20220406210349: epoch=23 step=20194 epoch=23 metrics={'time_sample_batch': 0.00012898906759900764, 'time_algorithm_update': 0.0015801378697632114, 'loss': 0.009096322330611379, 'time_step': 0.0017675785920614534, 'init_value': -0.9831241369247437, 'ave_value': -0.9826143079571422, 'soft_opc': nan} step=20194\n"
     ]
    },
    {
     "name": "stderr",
     "output_type": "stream",
     "text": [
      "WARNING:root:NaN or Inf found in input tensor.\n"
     ]
    },
    {
     "name": "stdout",
     "output_type": "stream",
     "text": [
      "2022-04-06 21:04.26 [info     ] Model parameters are saved to d3rlpy_logs/FQE_20220406210349/model_20194.pt\n"
     ]
    },
    {
     "data": {
      "application/vnd.jupyter.widget-view+json": {
       "model_id": "2f7cf0ad535f4e9ca017225dd7221e80",
       "version_major": 2,
       "version_minor": 0
      },
      "text/plain": [
       "Epoch 24/50:   0%|          | 0/878 [00:00<?, ?it/s]"
      ]
     },
     "metadata": {},
     "output_type": "display_data"
    },
    {
     "name": "stderr",
     "output_type": "stream",
     "text": [
      "WARNING:root:NaN or Inf found in input tensor.\n"
     ]
    },
    {
     "name": "stdout",
     "output_type": "stream",
     "text": [
      "2022-04-06 21:04.28 [info     ] FQE_20220406210349: epoch=24 step=21072 epoch=24 metrics={'time_sample_batch': 0.0001323649443363546, 'time_algorithm_update': 0.0016383573514725462, 'loss': 0.009450954489992017, 'time_step': 0.0018305026317240165, 'init_value': -0.9886300563812256, 'ave_value': -0.9879731048777164, 'soft_opc': nan} step=21072\n"
     ]
    },
    {
     "name": "stderr",
     "output_type": "stream",
     "text": [
      "WARNING:root:NaN or Inf found in input tensor.\n"
     ]
    },
    {
     "name": "stdout",
     "output_type": "stream",
     "text": [
      "2022-04-06 21:04.28 [info     ] Model parameters are saved to d3rlpy_logs/FQE_20220406210349/model_21072.pt\n"
     ]
    },
    {
     "data": {
      "application/vnd.jupyter.widget-view+json": {
       "model_id": "2ca5bbd1a7314d649435964808675262",
       "version_major": 2,
       "version_minor": 0
      },
      "text/plain": [
       "Epoch 25/50:   0%|          | 0/878 [00:00<?, ?it/s]"
      ]
     },
     "metadata": {},
     "output_type": "display_data"
    },
    {
     "name": "stderr",
     "output_type": "stream",
     "text": [
      "WARNING:root:NaN or Inf found in input tensor.\n"
     ]
    },
    {
     "name": "stdout",
     "output_type": "stream",
     "text": [
      "2022-04-06 21:04.30 [info     ] FQE_20220406210349: epoch=25 step=21950 epoch=25 metrics={'time_sample_batch': 0.00013187615909446073, 'time_algorithm_update': 0.001649934501474159, 'loss': 0.009939520506632438, 'time_step': 0.0018405373927400976, 'init_value': -1.0323238372802734, 'ave_value': -1.0318427323544486, 'soft_opc': nan} step=21950\n"
     ]
    },
    {
     "name": "stderr",
     "output_type": "stream",
     "text": [
      "WARNING:root:NaN or Inf found in input tensor.\n"
     ]
    },
    {
     "name": "stdout",
     "output_type": "stream",
     "text": [
      "2022-04-06 21:04.30 [info     ] Model parameters are saved to d3rlpy_logs/FQE_20220406210349/model_21950.pt\n"
     ]
    },
    {
     "data": {
      "application/vnd.jupyter.widget-view+json": {
       "model_id": "2b4349932c5b4d67b33e88945d48bafc",
       "version_major": 2,
       "version_minor": 0
      },
      "text/plain": [
       "Epoch 26/50:   0%|          | 0/878 [00:00<?, ?it/s]"
      ]
     },
     "metadata": {},
     "output_type": "display_data"
    },
    {
     "name": "stderr",
     "output_type": "stream",
     "text": [
      "WARNING:root:NaN or Inf found in input tensor.\n"
     ]
    },
    {
     "name": "stdout",
     "output_type": "stream",
     "text": [
      "2022-04-06 21:04.32 [info     ] FQE_20220406210349: epoch=26 step=22828 epoch=26 metrics={'time_sample_batch': 0.0001355906553854975, 'time_algorithm_update': 0.0018297995956177591, 'loss': 0.010741480848063928, 'time_step': 0.0020234185633735396, 'init_value': -1.0637402534484863, 'ave_value': -1.0630802139778222, 'soft_opc': nan} step=22828\n"
     ]
    },
    {
     "name": "stderr",
     "output_type": "stream",
     "text": [
      "WARNING:root:NaN or Inf found in input tensor.\n"
     ]
    },
    {
     "name": "stdout",
     "output_type": "stream",
     "text": [
      "2022-04-06 21:04.32 [info     ] Model parameters are saved to d3rlpy_logs/FQE_20220406210349/model_22828.pt\n"
     ]
    },
    {
     "data": {
      "application/vnd.jupyter.widget-view+json": {
       "model_id": "71c556ef1e21483397bf6d2aea58e56a",
       "version_major": 2,
       "version_minor": 0
      },
      "text/plain": [
       "Epoch 27/50:   0%|          | 0/878 [00:00<?, ?it/s]"
      ]
     },
     "metadata": {},
     "output_type": "display_data"
    },
    {
     "name": "stderr",
     "output_type": "stream",
     "text": [
      "WARNING:root:NaN or Inf found in input tensor.\n"
     ]
    },
    {
     "name": "stdout",
     "output_type": "stream",
     "text": [
      "2022-04-06 21:04.34 [info     ] FQE_20220406210349: epoch=27 step=23706 epoch=27 metrics={'time_sample_batch': 0.00013176672550974783, 'time_algorithm_update': 0.0016833014260120435, 'loss': 0.010903637418354418, 'time_step': 0.001867795859491092, 'init_value': -1.0467240810394287, 'ave_value': -1.046329939619713, 'soft_opc': nan} step=23706\n"
     ]
    },
    {
     "name": "stderr",
     "output_type": "stream",
     "text": [
      "WARNING:root:NaN or Inf found in input tensor.\n"
     ]
    },
    {
     "name": "stdout",
     "output_type": "stream",
     "text": [
      "2022-04-06 21:04.34 [info     ] Model parameters are saved to d3rlpy_logs/FQE_20220406210349/model_23706.pt\n"
     ]
    },
    {
     "data": {
      "application/vnd.jupyter.widget-view+json": {
       "model_id": "5b13c55e99ed46a8a607a8833839af1a",
       "version_major": 2,
       "version_minor": 0
      },
      "text/plain": [
       "Epoch 28/50:   0%|          | 0/878 [00:00<?, ?it/s]"
      ]
     },
     "metadata": {},
     "output_type": "display_data"
    },
    {
     "name": "stderr",
     "output_type": "stream",
     "text": [
      "WARNING:root:NaN or Inf found in input tensor.\n"
     ]
    },
    {
     "name": "stdout",
     "output_type": "stream",
     "text": [
      "2022-04-06 21:04.36 [info     ] FQE_20220406210349: epoch=28 step=24584 epoch=28 metrics={'time_sample_batch': 0.00012121928308439146, 'time_algorithm_update': 0.0015356168660053088, 'loss': 0.011187156007828832, 'time_step': 0.0017037842431209625, 'init_value': -1.054868221282959, 'ave_value': -1.0545387138446485, 'soft_opc': nan} step=24584\n"
     ]
    },
    {
     "name": "stderr",
     "output_type": "stream",
     "text": [
      "WARNING:root:NaN or Inf found in input tensor.\n"
     ]
    },
    {
     "name": "stdout",
     "output_type": "stream",
     "text": [
      "2022-04-06 21:04.36 [info     ] Model parameters are saved to d3rlpy_logs/FQE_20220406210349/model_24584.pt\n"
     ]
    },
    {
     "data": {
      "application/vnd.jupyter.widget-view+json": {
       "model_id": "fd7f2def316140949687124ccc2be26d",
       "version_major": 2,
       "version_minor": 0
      },
      "text/plain": [
       "Epoch 29/50:   0%|          | 0/878 [00:00<?, ?it/s]"
      ]
     },
     "metadata": {},
     "output_type": "display_data"
    },
    {
     "name": "stderr",
     "output_type": "stream",
     "text": [
      "WARNING:root:NaN or Inf found in input tensor.\n"
     ]
    },
    {
     "name": "stdout",
     "output_type": "stream",
     "text": [
      "2022-04-06 21:04.37 [info     ] FQE_20220406210349: epoch=29 step=25462 epoch=29 metrics={'time_sample_batch': 0.00012322357412351291, 'time_algorithm_update': 0.001563571851726002, 'loss': 0.012138191059762252, 'time_step': 0.001737281510390019, 'init_value': -1.162110686302185, 'ave_value': -1.1614025097996579, 'soft_opc': nan} step=25462\n"
     ]
    },
    {
     "name": "stderr",
     "output_type": "stream",
     "text": [
      "WARNING:root:NaN or Inf found in input tensor.\n"
     ]
    },
    {
     "name": "stdout",
     "output_type": "stream",
     "text": [
      "2022-04-06 21:04.37 [info     ] Model parameters are saved to d3rlpy_logs/FQE_20220406210349/model_25462.pt\n"
     ]
    },
    {
     "data": {
      "application/vnd.jupyter.widget-view+json": {
       "model_id": "427cea35ba1f4837a415e2b4489a0e45",
       "version_major": 2,
       "version_minor": 0
      },
      "text/plain": [
       "Epoch 30/50:   0%|          | 0/878 [00:00<?, ?it/s]"
      ]
     },
     "metadata": {},
     "output_type": "display_data"
    },
    {
     "name": "stderr",
     "output_type": "stream",
     "text": [
      "WARNING:root:NaN or Inf found in input tensor.\n"
     ]
    },
    {
     "name": "stdout",
     "output_type": "stream",
     "text": [
      "2022-04-06 21:04.39 [info     ] FQE_20220406210349: epoch=30 step=26340 epoch=30 metrics={'time_sample_batch': 0.0001244496104385967, 'time_algorithm_update': 0.0015936647297852674, 'loss': 0.013023593653510664, 'time_step': 0.001769238017957683, 'init_value': -1.1353942155838013, 'ave_value': -1.1347990890676065, 'soft_opc': nan} step=26340\n"
     ]
    },
    {
     "name": "stderr",
     "output_type": "stream",
     "text": [
      "WARNING:root:NaN or Inf found in input tensor.\n"
     ]
    },
    {
     "name": "stdout",
     "output_type": "stream",
     "text": [
      "2022-04-06 21:04.39 [info     ] Model parameters are saved to d3rlpy_logs/FQE_20220406210349/model_26340.pt\n"
     ]
    },
    {
     "data": {
      "application/vnd.jupyter.widget-view+json": {
       "model_id": "8cffeaed2d7e437a836394a4a321f713",
       "version_major": 2,
       "version_minor": 0
      },
      "text/plain": [
       "Epoch 31/50:   0%|          | 0/878 [00:00<?, ?it/s]"
      ]
     },
     "metadata": {},
     "output_type": "display_data"
    },
    {
     "name": "stderr",
     "output_type": "stream",
     "text": [
      "WARNING:root:NaN or Inf found in input tensor.\n"
     ]
    },
    {
     "name": "stdout",
     "output_type": "stream",
     "text": [
      "2022-04-06 21:04.41 [info     ] FQE_20220406210349: epoch=31 step=27218 epoch=31 metrics={'time_sample_batch': 0.00012680202518888922, 'time_algorithm_update': 0.0016073670093996921, 'loss': 0.013139474333756113, 'time_step': 0.0017851493353181114, 'init_value': -1.1621512174606323, 'ave_value': -1.1614299428394406, 'soft_opc': nan} step=27218\n"
     ]
    },
    {
     "name": "stderr",
     "output_type": "stream",
     "text": [
      "WARNING:root:NaN or Inf found in input tensor.\n"
     ]
    },
    {
     "name": "stdout",
     "output_type": "stream",
     "text": [
      "2022-04-06 21:04.41 [info     ] Model parameters are saved to d3rlpy_logs/FQE_20220406210349/model_27218.pt\n"
     ]
    },
    {
     "data": {
      "application/vnd.jupyter.widget-view+json": {
       "model_id": "2a768d8e60a54485a2e058f1f9d7a814",
       "version_major": 2,
       "version_minor": 0
      },
      "text/plain": [
       "Epoch 32/50:   0%|          | 0/878 [00:00<?, ?it/s]"
      ]
     },
     "metadata": {},
     "output_type": "display_data"
    },
    {
     "name": "stderr",
     "output_type": "stream",
     "text": [
      "WARNING:root:NaN or Inf found in input tensor.\n"
     ]
    },
    {
     "name": "stdout",
     "output_type": "stream",
     "text": [
      "2022-04-06 21:04.43 [info     ] FQE_20220406210349: epoch=32 step=28096 epoch=32 metrics={'time_sample_batch': 0.00012188213018187087, 'time_algorithm_update': 0.0015414217338475117, 'loss': 0.013235146816295498, 'time_step': 0.0017115567431091447, 'init_value': -1.1823135614395142, 'ave_value': -1.1816039349190777, 'soft_opc': nan} step=28096\n"
     ]
    },
    {
     "name": "stderr",
     "output_type": "stream",
     "text": [
      "WARNING:root:NaN or Inf found in input tensor.\n"
     ]
    },
    {
     "name": "stdout",
     "output_type": "stream",
     "text": [
      "2022-04-06 21:04.43 [info     ] Model parameters are saved to d3rlpy_logs/FQE_20220406210349/model_28096.pt\n"
     ]
    },
    {
     "data": {
      "application/vnd.jupyter.widget-view+json": {
       "model_id": "9306edc1640e494ca3de95aac0549efa",
       "version_major": 2,
       "version_minor": 0
      },
      "text/plain": [
       "Epoch 33/50:   0%|          | 0/878 [00:00<?, ?it/s]"
      ]
     },
     "metadata": {},
     "output_type": "display_data"
    },
    {
     "name": "stderr",
     "output_type": "stream",
     "text": [
      "WARNING:root:NaN or Inf found in input tensor.\n"
     ]
    },
    {
     "name": "stdout",
     "output_type": "stream",
     "text": [
      "2022-04-06 21:04.45 [info     ] FQE_20220406210349: epoch=33 step=28974 epoch=33 metrics={'time_sample_batch': 0.0001258708893030814, 'time_algorithm_update': 0.0016715010640832991, 'loss': 0.012874954023032356, 'time_step': 0.001847913162040276, 'init_value': -1.158544659614563, 'ave_value': -1.1573493378870934, 'soft_opc': nan} step=28974\n"
     ]
    },
    {
     "name": "stderr",
     "output_type": "stream",
     "text": [
      "WARNING:root:NaN or Inf found in input tensor.\n"
     ]
    },
    {
     "name": "stdout",
     "output_type": "stream",
     "text": [
      "2022-04-06 21:04.45 [info     ] Model parameters are saved to d3rlpy_logs/FQE_20220406210349/model_28974.pt\n"
     ]
    },
    {
     "data": {
      "application/vnd.jupyter.widget-view+json": {
       "model_id": "e6c2305f6e1b4891b168bc553dc49b46",
       "version_major": 2,
       "version_minor": 0
      },
      "text/plain": [
       "Epoch 34/50:   0%|          | 0/878 [00:00<?, ?it/s]"
      ]
     },
     "metadata": {},
     "output_type": "display_data"
    },
    {
     "name": "stderr",
     "output_type": "stream",
     "text": [
      "WARNING:root:NaN or Inf found in input tensor.\n"
     ]
    },
    {
     "name": "stdout",
     "output_type": "stream",
     "text": [
      "2022-04-06 21:04.46 [info     ] FQE_20220406210349: epoch=34 step=29852 epoch=34 metrics={'time_sample_batch': 0.00012091460695027762, 'time_algorithm_update': 0.0015246333185252405, 'loss': 0.013123990123036194, 'time_step': 0.0016941619625395687, 'init_value': -1.1542315483093262, 'ave_value': -1.1531439594245774, 'soft_opc': nan} step=29852\n"
     ]
    },
    {
     "name": "stderr",
     "output_type": "stream",
     "text": [
      "WARNING:root:NaN or Inf found in input tensor.\n"
     ]
    },
    {
     "name": "stdout",
     "output_type": "stream",
     "text": [
      "2022-04-06 21:04.46 [info     ] Model parameters are saved to d3rlpy_logs/FQE_20220406210349/model_29852.pt\n"
     ]
    },
    {
     "data": {
      "application/vnd.jupyter.widget-view+json": {
       "model_id": "75c2077ab58d4f3bb1d15e8ecaeb9117",
       "version_major": 2,
       "version_minor": 0
      },
      "text/plain": [
       "Epoch 35/50:   0%|          | 0/878 [00:00<?, ?it/s]"
      ]
     },
     "metadata": {},
     "output_type": "display_data"
    },
    {
     "name": "stderr",
     "output_type": "stream",
     "text": [
      "WARNING:root:NaN or Inf found in input tensor.\n"
     ]
    },
    {
     "name": "stdout",
     "output_type": "stream",
     "text": [
      "2022-04-06 21:04.48 [info     ] FQE_20220406210349: epoch=35 step=30730 epoch=35 metrics={'time_sample_batch': 0.00011774564929866574, 'time_algorithm_update': 0.0014789579669543986, 'loss': 0.013129642643245072, 'time_step': 0.0016423920020970234, 'init_value': -1.1325730085372925, 'ave_value': -1.131432250133323, 'soft_opc': nan} step=30730\n"
     ]
    },
    {
     "name": "stderr",
     "output_type": "stream",
     "text": [
      "WARNING:root:NaN or Inf found in input tensor.\n"
     ]
    },
    {
     "name": "stdout",
     "output_type": "stream",
     "text": [
      "2022-04-06 21:04.48 [info     ] Model parameters are saved to d3rlpy_logs/FQE_20220406210349/model_30730.pt\n"
     ]
    },
    {
     "data": {
      "application/vnd.jupyter.widget-view+json": {
       "model_id": "fce3c9170ad147efa777aa26158506f5",
       "version_major": 2,
       "version_minor": 0
      },
      "text/plain": [
       "Epoch 36/50:   0%|          | 0/878 [00:00<?, ?it/s]"
      ]
     },
     "metadata": {},
     "output_type": "display_data"
    },
    {
     "name": "stderr",
     "output_type": "stream",
     "text": [
      "WARNING:root:NaN or Inf found in input tensor.\n"
     ]
    },
    {
     "name": "stdout",
     "output_type": "stream",
     "text": [
      "2022-04-06 21:04.50 [info     ] FQE_20220406210349: epoch=36 step=31608 epoch=36 metrics={'time_sample_batch': 0.00012169774952673423, 'time_algorithm_update': 0.0015298559888348765, 'loss': 0.012480924252218892, 'time_step': 0.0017015784639432382, 'init_value': -1.1202141046524048, 'ave_value': -1.1191341531996484, 'soft_opc': nan} step=31608\n"
     ]
    },
    {
     "name": "stderr",
     "output_type": "stream",
     "text": [
      "WARNING:root:NaN or Inf found in input tensor.\n"
     ]
    },
    {
     "name": "stdout",
     "output_type": "stream",
     "text": [
      "2022-04-06 21:04.50 [info     ] Model parameters are saved to d3rlpy_logs/FQE_20220406210349/model_31608.pt\n"
     ]
    },
    {
     "data": {
      "application/vnd.jupyter.widget-view+json": {
       "model_id": "152baf46aeb24ed9b270058e7d4f96d2",
       "version_major": 2,
       "version_minor": 0
      },
      "text/plain": [
       "Epoch 37/50:   0%|          | 0/878 [00:00<?, ?it/s]"
      ]
     },
     "metadata": {},
     "output_type": "display_data"
    },
    {
     "name": "stderr",
     "output_type": "stream",
     "text": [
      "WARNING:root:NaN or Inf found in input tensor.\n"
     ]
    },
    {
     "name": "stdout",
     "output_type": "stream",
     "text": [
      "2022-04-06 21:04.51 [info     ] FQE_20220406210349: epoch=37 step=32486 epoch=37 metrics={'time_sample_batch': 0.00012041115815112694, 'time_algorithm_update': 0.001516125196748008, 'loss': 0.01232358361559698, 'time_step': 0.0016829983791620694, 'init_value': -1.0868902206420898, 'ave_value': -1.0857014214047034, 'soft_opc': nan} step=32486\n"
     ]
    },
    {
     "name": "stderr",
     "output_type": "stream",
     "text": [
      "WARNING:root:NaN or Inf found in input tensor.\n"
     ]
    },
    {
     "name": "stdout",
     "output_type": "stream",
     "text": [
      "2022-04-06 21:04.51 [info     ] Model parameters are saved to d3rlpy_logs/FQE_20220406210349/model_32486.pt\n"
     ]
    },
    {
     "data": {
      "application/vnd.jupyter.widget-view+json": {
       "model_id": "a86a174184eb4eb790f56b4e4e031a40",
       "version_major": 2,
       "version_minor": 0
      },
      "text/plain": [
       "Epoch 38/50:   0%|          | 0/878 [00:00<?, ?it/s]"
      ]
     },
     "metadata": {},
     "output_type": "display_data"
    },
    {
     "name": "stderr",
     "output_type": "stream",
     "text": [
      "WARNING:root:NaN or Inf found in input tensor.\n"
     ]
    },
    {
     "name": "stdout",
     "output_type": "stream",
     "text": [
      "2022-04-06 21:04.53 [info     ] FQE_20220406210349: epoch=38 step=33364 epoch=38 metrics={'time_sample_batch': 0.00012091433540292101, 'time_algorithm_update': 0.0015333923500599786, 'loss': 0.011327263214572506, 'time_step': 0.00169823870300432, 'init_value': -1.0475090742111206, 'ave_value': -1.0464220454377822, 'soft_opc': nan} step=33364\n"
     ]
    },
    {
     "name": "stderr",
     "output_type": "stream",
     "text": [
      "WARNING:root:NaN or Inf found in input tensor.\n"
     ]
    },
    {
     "name": "stdout",
     "output_type": "stream",
     "text": [
      "2022-04-06 21:04.53 [info     ] Model parameters are saved to d3rlpy_logs/FQE_20220406210349/model_33364.pt\n"
     ]
    },
    {
     "data": {
      "application/vnd.jupyter.widget-view+json": {
       "model_id": "6361e41e991247318f7ffa3b45891e2f",
       "version_major": 2,
       "version_minor": 0
      },
      "text/plain": [
       "Epoch 39/50:   0%|          | 0/878 [00:00<?, ?it/s]"
      ]
     },
     "metadata": {},
     "output_type": "display_data"
    },
    {
     "name": "stderr",
     "output_type": "stream",
     "text": [
      "WARNING:root:NaN or Inf found in input tensor.\n"
     ]
    },
    {
     "name": "stdout",
     "output_type": "stream",
     "text": [
      "2022-04-06 21:04.55 [info     ] FQE_20220406210349: epoch=39 step=34242 epoch=39 metrics={'time_sample_batch': 0.00012360075340184102, 'time_algorithm_update': 0.00160211121031255, 'loss': 0.01130375715273428, 'time_step': 0.0017752302534759451, 'init_value': -1.092948317527771, 'ave_value': -1.0916371175915283, 'soft_opc': nan} step=34242\n"
     ]
    },
    {
     "name": "stderr",
     "output_type": "stream",
     "text": [
      "WARNING:root:NaN or Inf found in input tensor.\n"
     ]
    },
    {
     "name": "stdout",
     "output_type": "stream",
     "text": [
      "2022-04-06 21:04.55 [info     ] Model parameters are saved to d3rlpy_logs/FQE_20220406210349/model_34242.pt\n"
     ]
    },
    {
     "data": {
      "application/vnd.jupyter.widget-view+json": {
       "model_id": "165312e796bf4871ab57cfafe7a4eb58",
       "version_major": 2,
       "version_minor": 0
      },
      "text/plain": [
       "Epoch 40/50:   0%|          | 0/878 [00:00<?, ?it/s]"
      ]
     },
     "metadata": {},
     "output_type": "display_data"
    },
    {
     "name": "stderr",
     "output_type": "stream",
     "text": [
      "WARNING:root:NaN or Inf found in input tensor.\n"
     ]
    },
    {
     "name": "stdout",
     "output_type": "stream",
     "text": [
      "2022-04-06 21:04.57 [info     ] FQE_20220406210349: epoch=40 step=35120 epoch=40 metrics={'time_sample_batch': 0.00012344841533478408, 'time_algorithm_update': 0.0015859783103091298, 'loss': 0.011377011873327752, 'time_step': 0.001757483275984849, 'init_value': -1.0715545415878296, 'ave_value': -1.0704115527222735, 'soft_opc': nan} step=35120\n"
     ]
    },
    {
     "name": "stderr",
     "output_type": "stream",
     "text": [
      "WARNING:root:NaN or Inf found in input tensor.\n"
     ]
    },
    {
     "name": "stdout",
     "output_type": "stream",
     "text": [
      "2022-04-06 21:04.57 [info     ] Model parameters are saved to d3rlpy_logs/FQE_20220406210349/model_35120.pt\n"
     ]
    },
    {
     "data": {
      "application/vnd.jupyter.widget-view+json": {
       "model_id": "463548ff5aed49d2b4831f17fad83009",
       "version_major": 2,
       "version_minor": 0
      },
      "text/plain": [
       "Epoch 41/50:   0%|          | 0/878 [00:00<?, ?it/s]"
      ]
     },
     "metadata": {},
     "output_type": "display_data"
    },
    {
     "name": "stderr",
     "output_type": "stream",
     "text": [
      "WARNING:root:NaN or Inf found in input tensor.\n"
     ]
    },
    {
     "name": "stdout",
     "output_type": "stream",
     "text": [
      "2022-04-06 21:04.59 [info     ] FQE_20220406210349: epoch=41 step=35998 epoch=41 metrics={'time_sample_batch': 0.00012369280795573103, 'time_algorithm_update': 0.0015492805858950951, 'loss': 0.011026281666148144, 'time_step': 0.0017227512828852972, 'init_value': -1.0581353902816772, 'ave_value': -1.0571506165878202, 'soft_opc': nan} step=35998\n"
     ]
    },
    {
     "name": "stderr",
     "output_type": "stream",
     "text": [
      "WARNING:root:NaN or Inf found in input tensor.\n"
     ]
    },
    {
     "name": "stdout",
     "output_type": "stream",
     "text": [
      "2022-04-06 21:04.59 [info     ] Model parameters are saved to d3rlpy_logs/FQE_20220406210349/model_35998.pt\n"
     ]
    },
    {
     "data": {
      "application/vnd.jupyter.widget-view+json": {
       "model_id": "406f14e428b248228f301815662c2fa0",
       "version_major": 2,
       "version_minor": 0
      },
      "text/plain": [
       "Epoch 42/50:   0%|          | 0/878 [00:00<?, ?it/s]"
      ]
     },
     "metadata": {},
     "output_type": "display_data"
    },
    {
     "name": "stderr",
     "output_type": "stream",
     "text": [
      "WARNING:root:NaN or Inf found in input tensor.\n"
     ]
    },
    {
     "name": "stdout",
     "output_type": "stream",
     "text": [
      "2022-04-06 21:05.00 [info     ] FQE_20220406210349: epoch=42 step=36876 epoch=42 metrics={'time_sample_batch': 0.0001169122704612367, 'time_algorithm_update': 0.0014560138446051874, 'loss': 0.01068961521715688, 'time_step': 0.0016164271869529082, 'init_value': -1.0758672952651978, 'ave_value': -1.0749184304499273, 'soft_opc': nan} step=36876\n"
     ]
    },
    {
     "name": "stderr",
     "output_type": "stream",
     "text": [
      "WARNING:root:NaN or Inf found in input tensor.\n"
     ]
    },
    {
     "name": "stdout",
     "output_type": "stream",
     "text": [
      "2022-04-06 21:05.00 [info     ] Model parameters are saved to d3rlpy_logs/FQE_20220406210349/model_36876.pt\n"
     ]
    },
    {
     "data": {
      "application/vnd.jupyter.widget-view+json": {
       "model_id": "7760f2ae38194ac689dde31246c59138",
       "version_major": 2,
       "version_minor": 0
      },
      "text/plain": [
       "Epoch 43/50:   0%|          | 0/878 [00:00<?, ?it/s]"
      ]
     },
     "metadata": {},
     "output_type": "display_data"
    },
    {
     "name": "stderr",
     "output_type": "stream",
     "text": [
      "WARNING:root:NaN or Inf found in input tensor.\n"
     ]
    },
    {
     "name": "stdout",
     "output_type": "stream",
     "text": [
      "2022-04-06 21:05.02 [info     ] FQE_20220406210349: epoch=43 step=37754 epoch=43 metrics={'time_sample_batch': 0.00011813369047125815, 'time_algorithm_update': 0.0014683119528385935, 'loss': 0.010334005813085266, 'time_step': 0.0016354365881048737, 'init_value': -1.0412214994430542, 'ave_value': -1.0401297405523446, 'soft_opc': nan} step=37754\n"
     ]
    },
    {
     "name": "stderr",
     "output_type": "stream",
     "text": [
      "WARNING:root:NaN or Inf found in input tensor.\n"
     ]
    },
    {
     "name": "stdout",
     "output_type": "stream",
     "text": [
      "2022-04-06 21:05.02 [info     ] Model parameters are saved to d3rlpy_logs/FQE_20220406210349/model_37754.pt\n"
     ]
    },
    {
     "data": {
      "application/vnd.jupyter.widget-view+json": {
       "model_id": "44966e1529674292b8c353a25df3ee68",
       "version_major": 2,
       "version_minor": 0
      },
      "text/plain": [
       "Epoch 44/50:   0%|          | 0/878 [00:00<?, ?it/s]"
      ]
     },
     "metadata": {},
     "output_type": "display_data"
    },
    {
     "name": "stderr",
     "output_type": "stream",
     "text": [
      "WARNING:root:NaN or Inf found in input tensor.\n"
     ]
    },
    {
     "name": "stdout",
     "output_type": "stream",
     "text": [
      "2022-04-06 21:05.04 [info     ] FQE_20220406210349: epoch=44 step=38632 epoch=44 metrics={'time_sample_batch': 0.00011736086669435263, 'time_algorithm_update': 0.0014564369153867822, 'loss': 0.011266781011510792, 'time_step': 0.0016197946457222002, 'init_value': -1.0928630828857422, 'ave_value': -1.0916006532452778, 'soft_opc': nan} step=38632\n"
     ]
    },
    {
     "name": "stderr",
     "output_type": "stream",
     "text": [
      "WARNING:root:NaN or Inf found in input tensor.\n"
     ]
    },
    {
     "name": "stdout",
     "output_type": "stream",
     "text": [
      "2022-04-06 21:05.04 [info     ] Model parameters are saved to d3rlpy_logs/FQE_20220406210349/model_38632.pt\n"
     ]
    },
    {
     "data": {
      "application/vnd.jupyter.widget-view+json": {
       "model_id": "76b3aa6c05e24c6ca41e5244070fb1c7",
       "version_major": 2,
       "version_minor": 0
      },
      "text/plain": [
       "Epoch 45/50:   0%|          | 0/878 [00:00<?, ?it/s]"
      ]
     },
     "metadata": {},
     "output_type": "display_data"
    },
    {
     "name": "stderr",
     "output_type": "stream",
     "text": [
      "WARNING:root:NaN or Inf found in input tensor.\n"
     ]
    },
    {
     "name": "stdout",
     "output_type": "stream",
     "text": [
      "2022-04-06 21:05.05 [info     ] FQE_20220406210349: epoch=45 step=39510 epoch=45 metrics={'time_sample_batch': 0.00011893747064681695, 'time_algorithm_update': 0.0015501693603932722, 'loss': 0.011230586664487108, 'time_step': 0.001717420265180375, 'init_value': -1.052027940750122, 'ave_value': -1.0508492030073413, 'soft_opc': nan} step=39510\n"
     ]
    },
    {
     "name": "stderr",
     "output_type": "stream",
     "text": [
      "WARNING:root:NaN or Inf found in input tensor.\n"
     ]
    },
    {
     "name": "stdout",
     "output_type": "stream",
     "text": [
      "2022-04-06 21:05.05 [info     ] Model parameters are saved to d3rlpy_logs/FQE_20220406210349/model_39510.pt\n"
     ]
    },
    {
     "data": {
      "application/vnd.jupyter.widget-view+json": {
       "model_id": "db976731d676465bac4ba231ab22d3aa",
       "version_major": 2,
       "version_minor": 0
      },
      "text/plain": [
       "Epoch 46/50:   0%|          | 0/878 [00:00<?, ?it/s]"
      ]
     },
     "metadata": {},
     "output_type": "display_data"
    },
    {
     "name": "stderr",
     "output_type": "stream",
     "text": [
      "WARNING:root:NaN or Inf found in input tensor.\n"
     ]
    },
    {
     "name": "stdout",
     "output_type": "stream",
     "text": [
      "2022-04-06 21:05.07 [info     ] FQE_20220406210349: epoch=46 step=40388 epoch=46 metrics={'time_sample_batch': 0.000117670702228242, 'time_algorithm_update': 0.0014867375271738527, 'loss': 0.010897536025797913, 'time_step': 0.0016488135539860823, 'init_value': -1.0336993932724, 'ave_value': -1.0326984709369784, 'soft_opc': nan} step=40388\n"
     ]
    },
    {
     "name": "stderr",
     "output_type": "stream",
     "text": [
      "WARNING:root:NaN or Inf found in input tensor.\n"
     ]
    },
    {
     "name": "stdout",
     "output_type": "stream",
     "text": [
      "2022-04-06 21:05.07 [info     ] Model parameters are saved to d3rlpy_logs/FQE_20220406210349/model_40388.pt\n"
     ]
    },
    {
     "data": {
      "application/vnd.jupyter.widget-view+json": {
       "model_id": "ce74a91de175488ebf6c033e5b6f0fe7",
       "version_major": 2,
       "version_minor": 0
      },
      "text/plain": [
       "Epoch 47/50:   0%|          | 0/878 [00:00<?, ?it/s]"
      ]
     },
     "metadata": {},
     "output_type": "display_data"
    },
    {
     "name": "stderr",
     "output_type": "stream",
     "text": [
      "WARNING:root:NaN or Inf found in input tensor.\n"
     ]
    },
    {
     "name": "stdout",
     "output_type": "stream",
     "text": [
      "2022-04-06 21:05.09 [info     ] FQE_20220406210349: epoch=47 step=41266 epoch=47 metrics={'time_sample_batch': 0.00012109274201621227, 'time_algorithm_update': 0.0015309698760916813, 'loss': 0.01082330633747592, 'time_step': 0.001701280304945683, 'init_value': -1.0921905040740967, 'ave_value': -1.0911232546581362, 'soft_opc': nan} step=41266\n"
     ]
    },
    {
     "name": "stderr",
     "output_type": "stream",
     "text": [
      "WARNING:root:NaN or Inf found in input tensor.\n"
     ]
    },
    {
     "name": "stdout",
     "output_type": "stream",
     "text": [
      "2022-04-06 21:05.09 [info     ] Model parameters are saved to d3rlpy_logs/FQE_20220406210349/model_41266.pt\n"
     ]
    },
    {
     "data": {
      "application/vnd.jupyter.widget-view+json": {
       "model_id": "0dbf553ce9b64e35b799c2034b378c82",
       "version_major": 2,
       "version_minor": 0
      },
      "text/plain": [
       "Epoch 48/50:   0%|          | 0/878 [00:00<?, ?it/s]"
      ]
     },
     "metadata": {},
     "output_type": "display_data"
    },
    {
     "name": "stderr",
     "output_type": "stream",
     "text": [
      "WARNING:root:NaN or Inf found in input tensor.\n"
     ]
    },
    {
     "name": "stdout",
     "output_type": "stream",
     "text": [
      "2022-04-06 21:05.11 [info     ] FQE_20220406210349: epoch=48 step=42144 epoch=48 metrics={'time_sample_batch': 0.00012102295434556409, 'time_algorithm_update': 0.0015146490653174885, 'loss': 0.011661128615346497, 'time_step': 0.0016821440911781815, 'init_value': -1.1154160499572754, 'ave_value': -1.1143687740315906, 'soft_opc': nan} step=42144\n"
     ]
    },
    {
     "name": "stderr",
     "output_type": "stream",
     "text": [
      "WARNING:root:NaN or Inf found in input tensor.\n"
     ]
    },
    {
     "name": "stdout",
     "output_type": "stream",
     "text": [
      "2022-04-06 21:05.11 [info     ] Model parameters are saved to d3rlpy_logs/FQE_20220406210349/model_42144.pt\n"
     ]
    },
    {
     "data": {
      "application/vnd.jupyter.widget-view+json": {
       "model_id": "c79be982db3d40f3af41778c575298dd",
       "version_major": 2,
       "version_minor": 0
      },
      "text/plain": [
       "Epoch 49/50:   0%|          | 0/878 [00:00<?, ?it/s]"
      ]
     },
     "metadata": {},
     "output_type": "display_data"
    },
    {
     "name": "stderr",
     "output_type": "stream",
     "text": [
      "WARNING:root:NaN or Inf found in input tensor.\n"
     ]
    },
    {
     "name": "stdout",
     "output_type": "stream",
     "text": [
      "2022-04-06 21:05.12 [info     ] FQE_20220406210349: epoch=49 step=43022 epoch=49 metrics={'time_sample_batch': 0.00012097298963194828, 'time_algorithm_update': 0.0015310236424682896, 'loss': 0.012446001351321132, 'time_step': 0.0016994193909108503, 'init_value': -1.1369554996490479, 'ave_value': -1.1360788647342421, 'soft_opc': nan} step=43022\n"
     ]
    },
    {
     "name": "stderr",
     "output_type": "stream",
     "text": [
      "WARNING:root:NaN or Inf found in input tensor.\n"
     ]
    },
    {
     "name": "stdout",
     "output_type": "stream",
     "text": [
      "2022-04-06 21:05.12 [info     ] Model parameters are saved to d3rlpy_logs/FQE_20220406210349/model_43022.pt\n"
     ]
    },
    {
     "data": {
      "application/vnd.jupyter.widget-view+json": {
       "model_id": "d3dbaf5f171c42eb85763c863a14c141",
       "version_major": 2,
       "version_minor": 0
      },
      "text/plain": [
       "Epoch 50/50:   0%|          | 0/878 [00:00<?, ?it/s]"
      ]
     },
     "metadata": {},
     "output_type": "display_data"
    },
    {
     "name": "stderr",
     "output_type": "stream",
     "text": [
      "WARNING:root:NaN or Inf found in input tensor.\n"
     ]
    },
    {
     "name": "stdout",
     "output_type": "stream",
     "text": [
      "2022-04-06 21:05.14 [info     ] FQE_20220406210349: epoch=50 step=43900 epoch=50 metrics={'time_sample_batch': 0.00012210941531935152, 'time_algorithm_update': 0.0016487456671469304, 'loss': 0.012167671869002937, 'time_step': 0.0018187525060562447, 'init_value': -1.1216630935668945, 'ave_value': -1.120769039818994, 'soft_opc': nan} step=43900\n"
     ]
    },
    {
     "name": "stderr",
     "output_type": "stream",
     "text": [
      "WARNING:root:NaN or Inf found in input tensor.\n"
     ]
    },
    {
     "name": "stdout",
     "output_type": "stream",
     "text": [
      "2022-04-06 21:05.14 [info     ] Model parameters are saved to d3rlpy_logs/FQE_20220406210349/model_43900.pt\n"
     ]
    },
    {
     "data": {
      "text/plain": [
       "[(1,\n",
       "  {'time_sample_batch': 0.00012873598546264927,\n",
       "   'time_algorithm_update': 0.001486791293550461,\n",
       "   'loss': 0.00026482629515046024,\n",
       "   'time_step': 0.0016694283431103127,\n",
       "   'init_value': -0.18876513838768005,\n",
       "   'ave_value': -0.18954894687402812,\n",
       "   'soft_opc': nan}),\n",
       " (2,\n",
       "  {'time_sample_batch': 0.0001276546838886374,\n",
       "   'time_algorithm_update': 0.0015851612243130973,\n",
       "   'loss': 0.0007146051946667641,\n",
       "   'time_step': 0.0017693012884917726,\n",
       "   'init_value': -0.2967626452445984,\n",
       "   'ave_value': -0.2972891433198647,\n",
       "   'soft_opc': nan}),\n",
       " (3,\n",
       "  {'time_sample_batch': 0.00012643407852068578,\n",
       "   'time_algorithm_update': 0.0016615939303248237,\n",
       "   'loss': 0.0012968413317400534,\n",
       "   'time_step': 0.0018410397553498218,\n",
       "   'init_value': -0.4171195924282074,\n",
       "   'ave_value': -0.4174483638273156,\n",
       "   'soft_opc': nan}),\n",
       " (4,\n",
       "  {'time_sample_batch': 0.00012486073313650075,\n",
       "   'time_algorithm_update': 0.0015624658393425387,\n",
       "   'loss': 0.00205733014416489,\n",
       "   'time_step': 0.0017407282609874404,\n",
       "   'init_value': -0.5100998282432556,\n",
       "   'ave_value': -0.510274434613972,\n",
       "   'soft_opc': nan}),\n",
       " (5,\n",
       "  {'time_sample_batch': 0.00012519880959547733,\n",
       "   'time_algorithm_update': 0.0015716449546379488,\n",
       "   'loss': 0.002931711669505371,\n",
       "   'time_step': 0.0017511206498721738,\n",
       "   'init_value': -0.5442318916320801,\n",
       "   'ave_value': -0.54426777774551,\n",
       "   'soft_opc': nan}),\n",
       " (6,\n",
       "  {'time_sample_batch': 0.00010462339483795514,\n",
       "   'time_algorithm_update': 0.0012948238768175685,\n",
       "   'loss': 0.0034336098094818867,\n",
       "   'time_step': 0.0014427292048252254,\n",
       "   'init_value': -0.6346944570541382,\n",
       "   'ave_value': -0.6344719484050879,\n",
       "   'soft_opc': nan}),\n",
       " (7,\n",
       "  {'time_sample_batch': 0.0001052142818859335,\n",
       "   'time_algorithm_update': 0.0013060376964560403,\n",
       "   'loss': 0.004343272875984831,\n",
       "   'time_step': 0.0014549596977668363,\n",
       "   'init_value': -0.6856957674026489,\n",
       "   'ave_value': -0.6852442257623663,\n",
       "   'soft_opc': nan}),\n",
       " (8,\n",
       "  {'time_sample_batch': 0.00011213222234287132,\n",
       "   'time_algorithm_update': 0.0013899072699231818,\n",
       "   'loss': 0.004766666127117812,\n",
       "   'time_step': 0.0015504140245615756,\n",
       "   'init_value': -0.6967993974685669,\n",
       "   'ave_value': -0.6960851119286763,\n",
       "   'soft_opc': nan}),\n",
       " (9,\n",
       "  {'time_sample_batch': 0.0001123114435982324,\n",
       "   'time_algorithm_update': 0.0013972271004678992,\n",
       "   'loss': 0.005560340047141796,\n",
       "   'time_step': 0.0015585987334370884,\n",
       "   'init_value': -0.7748829126358032,\n",
       "   'ave_value': -0.7739987973056799,\n",
       "   'soft_opc': nan}),\n",
       " (10,\n",
       "  {'time_sample_batch': 0.00010230465195988197,\n",
       "   'time_algorithm_update': 0.0012734074798966323,\n",
       "   'loss': 0.006610026745240086,\n",
       "   'time_step': 0.0014191515624930485,\n",
       "   'init_value': -0.855553925037384,\n",
       "   'ave_value': -0.8546864779165496,\n",
       "   'soft_opc': nan}),\n",
       " (11,\n",
       "  {'time_sample_batch': 0.00010815378202121187,\n",
       "   'time_algorithm_update': 0.0013825230826549487,\n",
       "   'loss': 0.007521865196765925,\n",
       "   'time_step': 0.0015361852146226888,\n",
       "   'init_value': -0.9016329646110535,\n",
       "   'ave_value': -0.9007947301499604,\n",
       "   'soft_opc': nan}),\n",
       " (12,\n",
       "  {'time_sample_batch': 0.00011017436590172978,\n",
       "   'time_algorithm_update': 0.0013994964217270698,\n",
       "   'loss': 0.007986642295353433,\n",
       "   'time_step': 0.0015582859108822765,\n",
       "   'init_value': -0.9097276329994202,\n",
       "   'ave_value': -0.9092903990414435,\n",
       "   'soft_opc': nan}),\n",
       " (13,\n",
       "  {'time_sample_batch': 0.00010970513206951168,\n",
       "   'time_algorithm_update': 0.0013593560199259625,\n",
       "   'loss': 0.008906486512400813,\n",
       "   'time_step': 0.001517310772506957,\n",
       "   'init_value': -0.9684196710586548,\n",
       "   'ave_value': -0.9676022156131447,\n",
       "   'soft_opc': nan}),\n",
       " (14,\n",
       "  {'time_sample_batch': 0.00010758217483555265,\n",
       "   'time_algorithm_update': 0.0013617309731068536,\n",
       "   'loss': 0.009710270782493364,\n",
       "   'time_step': 0.0015159834490278588,\n",
       "   'init_value': -1.0077133178710938,\n",
       "   'ave_value': -1.0070498156748415,\n",
       "   'soft_opc': nan}),\n",
       " (15,\n",
       "  {'time_sample_batch': 0.00010824475038567545,\n",
       "   'time_algorithm_update': 0.0013646742749051245,\n",
       "   'loss': 0.009926598658212594,\n",
       "   'time_step': 0.0015155834597715757,\n",
       "   'init_value': -1.006379246711731,\n",
       "   'ave_value': -1.005781907768965,\n",
       "   'soft_opc': nan}),\n",
       " (16,\n",
       "  {'time_sample_batch': 0.00010847800956500147,\n",
       "   'time_algorithm_update': 0.0013628671272469001,\n",
       "   'loss': 0.00981940318077432,\n",
       "   'time_step': 0.001519343847565879,\n",
       "   'init_value': -0.9781472086906433,\n",
       "   'ave_value': -0.9776438263553681,\n",
       "   'soft_opc': nan}),\n",
       " (17,\n",
       "  {'time_sample_batch': 0.0001134782825895757,\n",
       "   'time_algorithm_update': 0.0013964358114707442,\n",
       "   'loss': 0.00962598658516424,\n",
       "   'time_step': 0.001561621870158202,\n",
       "   'init_value': -0.978163480758667,\n",
       "   'ave_value': -0.9776887024135247,\n",
       "   'soft_opc': nan}),\n",
       " (18,\n",
       "  {'time_sample_batch': 0.00011673196301644918,\n",
       "   'time_algorithm_update': 0.0014647734192346387,\n",
       "   'loss': 0.009549127089320706,\n",
       "   'time_step': 0.0016288700299273862,\n",
       "   'init_value': -0.9850871562957764,\n",
       "   'ave_value': -0.9845384580423668,\n",
       "   'soft_opc': nan}),\n",
       " (19,\n",
       "  {'time_sample_batch': 0.00011418593500089537,\n",
       "   'time_algorithm_update': 0.0015165990468852884,\n",
       "   'loss': 0.010091787978406062,\n",
       "   'time_step': 0.001684350413450619,\n",
       "   'init_value': -1.0397145748138428,\n",
       "   'ave_value': -1.039304403894356,\n",
       "   'soft_opc': nan}),\n",
       " (20,\n",
       "  {'time_sample_batch': 0.00011446046937842576,\n",
       "   'time_algorithm_update': 0.0014208875647438413,\n",
       "   'loss': 0.010080873073375001,\n",
       "   'time_step': 0.0015857032328368862,\n",
       "   'init_value': -0.9988876581192017,\n",
       "   'ave_value': -0.9984071463293834,\n",
       "   'soft_opc': nan}),\n",
       " (21,\n",
       "  {'time_sample_batch': 0.00011595452293448133,\n",
       "   'time_algorithm_update': 0.0014129972132028914,\n",
       "   'loss': 0.00939842583711072,\n",
       "   'time_step': 0.0015797357081280754,\n",
       "   'init_value': -0.9841761589050293,\n",
       "   'ave_value': -0.9837058802583422,\n",
       "   'soft_opc': nan}),\n",
       " (22,\n",
       "  {'time_sample_batch': 0.00011206569324050243,\n",
       "   'time_algorithm_update': 0.001390818854399314,\n",
       "   'loss': 0.009182520656389139,\n",
       "   'time_step': 0.0015519113366859105,\n",
       "   'init_value': -0.966090738773346,\n",
       "   'ave_value': -0.9654797735613596,\n",
       "   'soft_opc': nan}),\n",
       " (23,\n",
       "  {'time_sample_batch': 0.00012898906759900764,\n",
       "   'time_algorithm_update': 0.0015801378697632114,\n",
       "   'loss': 0.009096322330611379,\n",
       "   'time_step': 0.0017675785920614534,\n",
       "   'init_value': -0.9831241369247437,\n",
       "   'ave_value': -0.9826143079571422,\n",
       "   'soft_opc': nan}),\n",
       " (24,\n",
       "  {'time_sample_batch': 0.0001323649443363546,\n",
       "   'time_algorithm_update': 0.0016383573514725462,\n",
       "   'loss': 0.009450954489992017,\n",
       "   'time_step': 0.0018305026317240165,\n",
       "   'init_value': -0.9886300563812256,\n",
       "   'ave_value': -0.9879731048777164,\n",
       "   'soft_opc': nan}),\n",
       " (25,\n",
       "  {'time_sample_batch': 0.00013187615909446073,\n",
       "   'time_algorithm_update': 0.001649934501474159,\n",
       "   'loss': 0.009939520506632438,\n",
       "   'time_step': 0.0018405373927400976,\n",
       "   'init_value': -1.0323238372802734,\n",
       "   'ave_value': -1.0318427323544486,\n",
       "   'soft_opc': nan}),\n",
       " (26,\n",
       "  {'time_sample_batch': 0.0001355906553854975,\n",
       "   'time_algorithm_update': 0.0018297995956177591,\n",
       "   'loss': 0.010741480848063928,\n",
       "   'time_step': 0.0020234185633735396,\n",
       "   'init_value': -1.0637402534484863,\n",
       "   'ave_value': -1.0630802139778222,\n",
       "   'soft_opc': nan}),\n",
       " (27,\n",
       "  {'time_sample_batch': 0.00013176672550974783,\n",
       "   'time_algorithm_update': 0.0016833014260120435,\n",
       "   'loss': 0.010903637418354418,\n",
       "   'time_step': 0.001867795859491092,\n",
       "   'init_value': -1.0467240810394287,\n",
       "   'ave_value': -1.046329939619713,\n",
       "   'soft_opc': nan}),\n",
       " (28,\n",
       "  {'time_sample_batch': 0.00012121928308439146,\n",
       "   'time_algorithm_update': 0.0015356168660053088,\n",
       "   'loss': 0.011187156007828832,\n",
       "   'time_step': 0.0017037842431209625,\n",
       "   'init_value': -1.054868221282959,\n",
       "   'ave_value': -1.0545387138446485,\n",
       "   'soft_opc': nan}),\n",
       " (29,\n",
       "  {'time_sample_batch': 0.00012322357412351291,\n",
       "   'time_algorithm_update': 0.001563571851726002,\n",
       "   'loss': 0.012138191059762252,\n",
       "   'time_step': 0.001737281510390019,\n",
       "   'init_value': -1.162110686302185,\n",
       "   'ave_value': -1.1614025097996579,\n",
       "   'soft_opc': nan}),\n",
       " (30,\n",
       "  {'time_sample_batch': 0.0001244496104385967,\n",
       "   'time_algorithm_update': 0.0015936647297852674,\n",
       "   'loss': 0.013023593653510664,\n",
       "   'time_step': 0.001769238017957683,\n",
       "   'init_value': -1.1353942155838013,\n",
       "   'ave_value': -1.1347990890676065,\n",
       "   'soft_opc': nan}),\n",
       " (31,\n",
       "  {'time_sample_batch': 0.00012680202518888922,\n",
       "   'time_algorithm_update': 0.0016073670093996921,\n",
       "   'loss': 0.013139474333756113,\n",
       "   'time_step': 0.0017851493353181114,\n",
       "   'init_value': -1.1621512174606323,\n",
       "   'ave_value': -1.1614299428394406,\n",
       "   'soft_opc': nan}),\n",
       " (32,\n",
       "  {'time_sample_batch': 0.00012188213018187087,\n",
       "   'time_algorithm_update': 0.0015414217338475117,\n",
       "   'loss': 0.013235146816295498,\n",
       "   'time_step': 0.0017115567431091447,\n",
       "   'init_value': -1.1823135614395142,\n",
       "   'ave_value': -1.1816039349190777,\n",
       "   'soft_opc': nan}),\n",
       " (33,\n",
       "  {'time_sample_batch': 0.0001258708893030814,\n",
       "   'time_algorithm_update': 0.0016715010640832991,\n",
       "   'loss': 0.012874954023032356,\n",
       "   'time_step': 0.001847913162040276,\n",
       "   'init_value': -1.158544659614563,\n",
       "   'ave_value': -1.1573493378870934,\n",
       "   'soft_opc': nan}),\n",
       " (34,\n",
       "  {'time_sample_batch': 0.00012091460695027762,\n",
       "   'time_algorithm_update': 0.0015246333185252405,\n",
       "   'loss': 0.013123990123036194,\n",
       "   'time_step': 0.0016941619625395687,\n",
       "   'init_value': -1.1542315483093262,\n",
       "   'ave_value': -1.1531439594245774,\n",
       "   'soft_opc': nan}),\n",
       " (35,\n",
       "  {'time_sample_batch': 0.00011774564929866574,\n",
       "   'time_algorithm_update': 0.0014789579669543986,\n",
       "   'loss': 0.013129642643245072,\n",
       "   'time_step': 0.0016423920020970234,\n",
       "   'init_value': -1.1325730085372925,\n",
       "   'ave_value': -1.131432250133323,\n",
       "   'soft_opc': nan}),\n",
       " (36,\n",
       "  {'time_sample_batch': 0.00012169774952673423,\n",
       "   'time_algorithm_update': 0.0015298559888348765,\n",
       "   'loss': 0.012480924252218892,\n",
       "   'time_step': 0.0017015784639432382,\n",
       "   'init_value': -1.1202141046524048,\n",
       "   'ave_value': -1.1191341531996484,\n",
       "   'soft_opc': nan}),\n",
       " (37,\n",
       "  {'time_sample_batch': 0.00012041115815112694,\n",
       "   'time_algorithm_update': 0.001516125196748008,\n",
       "   'loss': 0.01232358361559698,\n",
       "   'time_step': 0.0016829983791620694,\n",
       "   'init_value': -1.0868902206420898,\n",
       "   'ave_value': -1.0857014214047034,\n",
       "   'soft_opc': nan}),\n",
       " (38,\n",
       "  {'time_sample_batch': 0.00012091433540292101,\n",
       "   'time_algorithm_update': 0.0015333923500599786,\n",
       "   'loss': 0.011327263214572506,\n",
       "   'time_step': 0.00169823870300432,\n",
       "   'init_value': -1.0475090742111206,\n",
       "   'ave_value': -1.0464220454377822,\n",
       "   'soft_opc': nan}),\n",
       " (39,\n",
       "  {'time_sample_batch': 0.00012360075340184102,\n",
       "   'time_algorithm_update': 0.00160211121031255,\n",
       "   'loss': 0.01130375715273428,\n",
       "   'time_step': 0.0017752302534759451,\n",
       "   'init_value': -1.092948317527771,\n",
       "   'ave_value': -1.0916371175915283,\n",
       "   'soft_opc': nan}),\n",
       " (40,\n",
       "  {'time_sample_batch': 0.00012344841533478408,\n",
       "   'time_algorithm_update': 0.0015859783103091298,\n",
       "   'loss': 0.011377011873327752,\n",
       "   'time_step': 0.001757483275984849,\n",
       "   'init_value': -1.0715545415878296,\n",
       "   'ave_value': -1.0704115527222735,\n",
       "   'soft_opc': nan}),\n",
       " (41,\n",
       "  {'time_sample_batch': 0.00012369280795573103,\n",
       "   'time_algorithm_update': 0.0015492805858950951,\n",
       "   'loss': 0.011026281666148144,\n",
       "   'time_step': 0.0017227512828852972,\n",
       "   'init_value': -1.0581353902816772,\n",
       "   'ave_value': -1.0571506165878202,\n",
       "   'soft_opc': nan}),\n",
       " (42,\n",
       "  {'time_sample_batch': 0.0001169122704612367,\n",
       "   'time_algorithm_update': 0.0014560138446051874,\n",
       "   'loss': 0.01068961521715688,\n",
       "   'time_step': 0.0016164271869529082,\n",
       "   'init_value': -1.0758672952651978,\n",
       "   'ave_value': -1.0749184304499273,\n",
       "   'soft_opc': nan}),\n",
       " (43,\n",
       "  {'time_sample_batch': 0.00011813369047125815,\n",
       "   'time_algorithm_update': 0.0014683119528385935,\n",
       "   'loss': 0.010334005813085266,\n",
       "   'time_step': 0.0016354365881048737,\n",
       "   'init_value': -1.0412214994430542,\n",
       "   'ave_value': -1.0401297405523446,\n",
       "   'soft_opc': nan}),\n",
       " (44,\n",
       "  {'time_sample_batch': 0.00011736086669435263,\n",
       "   'time_algorithm_update': 0.0014564369153867822,\n",
       "   'loss': 0.011266781011510792,\n",
       "   'time_step': 0.0016197946457222002,\n",
       "   'init_value': -1.0928630828857422,\n",
       "   'ave_value': -1.0916006532452778,\n",
       "   'soft_opc': nan}),\n",
       " (45,\n",
       "  {'time_sample_batch': 0.00011893747064681695,\n",
       "   'time_algorithm_update': 0.0015501693603932722,\n",
       "   'loss': 0.011230586664487108,\n",
       "   'time_step': 0.001717420265180375,\n",
       "   'init_value': -1.052027940750122,\n",
       "   'ave_value': -1.0508492030073413,\n",
       "   'soft_opc': nan}),\n",
       " (46,\n",
       "  {'time_sample_batch': 0.000117670702228242,\n",
       "   'time_algorithm_update': 0.0014867375271738527,\n",
       "   'loss': 0.010897536025797913,\n",
       "   'time_step': 0.0016488135539860823,\n",
       "   'init_value': -1.0336993932724,\n",
       "   'ave_value': -1.0326984709369784,\n",
       "   'soft_opc': nan}),\n",
       " (47,\n",
       "  {'time_sample_batch': 0.00012109274201621227,\n",
       "   'time_algorithm_update': 0.0015309698760916813,\n",
       "   'loss': 0.01082330633747592,\n",
       "   'time_step': 0.001701280304945683,\n",
       "   'init_value': -1.0921905040740967,\n",
       "   'ave_value': -1.0911232546581362,\n",
       "   'soft_opc': nan}),\n",
       " (48,\n",
       "  {'time_sample_batch': 0.00012102295434556409,\n",
       "   'time_algorithm_update': 0.0015146490653174885,\n",
       "   'loss': 0.011661128615346497,\n",
       "   'time_step': 0.0016821440911781815,\n",
       "   'init_value': -1.1154160499572754,\n",
       "   'ave_value': -1.1143687740315906,\n",
       "   'soft_opc': nan}),\n",
       " (49,\n",
       "  {'time_sample_batch': 0.00012097298963194828,\n",
       "   'time_algorithm_update': 0.0015310236424682896,\n",
       "   'loss': 0.012446001351321132,\n",
       "   'time_step': 0.0016994193909108503,\n",
       "   'init_value': -1.1369554996490479,\n",
       "   'ave_value': -1.1360788647342421,\n",
       "   'soft_opc': nan}),\n",
       " (50,\n",
       "  {'time_sample_batch': 0.00012210941531935152,\n",
       "   'time_algorithm_update': 0.0016487456671469304,\n",
       "   'loss': 0.012167671869002937,\n",
       "   'time_step': 0.0018187525060562447,\n",
       "   'init_value': -1.1216630935668945,\n",
       "   'ave_value': -1.120769039818994,\n",
       "   'soft_opc': nan})]"
      ]
     },
     "execution_count": 52,
     "metadata": {},
     "output_type": "execute_result"
    }
   ],
   "source": [
    "from d3rlpy.ope import FQE\n",
    "# metrics to evaluate with\n",
    "from d3rlpy.metrics.scorer import soft_opc_scorer\n",
    "\n",
    "ope_dataset = get_dataset([2,4,6,8], path=\"collected_data/rl_det_small.txt\") #change if you'd prefer different chunks\n",
    "ope_train_episodes, ope_test_episodes = train_test_split(ope_dataset, test_size=0.2)\n",
    "\n",
    "fqe = FQE(algo=model, use_gpu=False) #change this if you have one!\n",
    "fqe.fit(ope_train_episodes, eval_episodes=ope_test_episodes, \n",
    "        tensorboard_dir='runs',\n",
    "        n_epochs=50, n_steps_per_epoch=1000, #change if overfitting/underfitting\n",
    "        scorers={\n",
    "           'init_value': initial_state_value_estimation_scorer,\n",
    "            'ave_value': average_value_estimation_scorer,\n",
    "           'soft_opc': soft_opc_scorer(return_threshold=0)\n",
    "        })"
   ]
  },
  {
   "cell_type": "code",
   "execution_count": 55,
   "id": "5d639afd-476b-4844-9921-f001f81abf34",
   "metadata": {},
   "outputs": [
    {
     "name": "stdout",
     "output_type": "stream",
     "text": [
      "[ 0.00000000e+00  7.95731469e+08  1.39310892e-01  1.82000047e-02\n",
      " -1.00013420e-04  0.00000000e+00 -5.33423489e+00 -1.57091618e+00\n",
      " -7.50230117e-02  3.69851546e-01 -6.00000000e-01]\n",
      "Read chunk # 3 out of 10000\n",
      "[ 0.00000000e+00  7.95731469e+08 -1.15389108e-01  1.64000047e-02\n",
      " -8.80001342e-03  0.00000000e+00 -5.33423489e+00 -1.57091618e+00\n",
      " -3.08831172e-01 -2.48178665e-01  6.00000000e-01]\n",
      "Read chunk # 5 out of 10000\n",
      "[ 0.00000000e+00  7.95731469e+08 -1.28589108e-01  1.20000047e-02\n",
      "  1.99998658e-03  0.00000000e+00 -5.33423489e+00 -1.57091618e+00\n",
      "  7.75212759e-03 -3.52719043e-01  6.00000000e-01]\n",
      "Read chunk # 7 out of 10000\n",
      "[ 0.00000000e+00  7.95731469e+08 -1.03989108e-01  7.00000469e-03\n",
      " -8.60001342e-03  0.00000000e+00 -5.33423489e+00 -1.57091618e+00\n",
      " -2.65974295e-01 -2.19295880e-01  6.00000000e-01]\n",
      "Read chunk # 9 out of 10000\n",
      "torch.Size([111080, 6])\n",
      "2022-04-06 21:07.38 [debug    ] RoundIterator is selected.\n",
      "2022-04-06 21:07.38 [info     ] Directory is created at d3rlpy_logs/FQE_20220406210738\n",
      "2022-04-06 21:07.38 [debug    ] Building models...\n",
      "2022-04-06 21:07.38 [debug    ] Models have been built.\n",
      "2022-04-06 21:07.38 [info     ] Parameters are saved to d3rlpy_logs/FQE_20220406210738/params.json params={'action_scaler': None, 'batch_size': 100, 'encoder_factory': {'type': 'default', 'params': {'activation': 'relu', 'use_batch_norm': False, 'dropout_rate': None}}, 'gamma': 0.99, 'generated_maxlen': 100000, 'learning_rate': 0.0001, 'n_critics': 1, 'n_frames': 1, 'n_steps': 1, 'optim_factory': {'optim_cls': 'Adam', 'betas': (0.9, 0.999), 'eps': 1e-08, 'weight_decay': 0, 'amsgrad': False}, 'q_func_factory': {'type': 'mean', 'params': {'bootstrap': False, 'share_encoder': False}}, 'real_ratio': 1.0, 'reward_scaler': None, 'scaler': None, 'target_update_interval': 100, 'use_gpu': None, 'algorithm': 'FQE', 'observation_shape': (6,), 'action_size': 3}\n"
     ]
    },
    {
     "data": {
      "application/vnd.jupyter.widget-view+json": {
       "model_id": "020e97e341e04591b3ab514ad9410b59",
       "version_major": 2,
       "version_minor": 0
      },
      "text/plain": [
       "Epoch 1/50:   0%|          | 0/878 [00:00<?, ?it/s]"
      ]
     },
     "metadata": {},
     "output_type": "display_data"
    },
    {
     "name": "stderr",
     "output_type": "stream",
     "text": [
      "WARNING:root:NaN or Inf found in input tensor.\n"
     ]
    },
    {
     "name": "stdout",
     "output_type": "stream",
     "text": [
      "2022-04-06 21:07.40 [info     ] FQE_20220406210738: epoch=1 step=878 epoch=1 metrics={'time_sample_batch': 0.00011441077621216655, 'time_algorithm_update': 0.001423091714637426, 'loss': 0.0012160921468460657, 'time_step': 0.0015893791694032847, 'init_value': -0.48166346549987793, 'ave_value': -0.48177142936358197, 'soft_opc': nan} step=878\n"
     ]
    },
    {
     "name": "stderr",
     "output_type": "stream",
     "text": [
      "WARNING:root:NaN or Inf found in input tensor.\n"
     ]
    },
    {
     "name": "stdout",
     "output_type": "stream",
     "text": [
      "2022-04-06 21:07.40 [info     ] Model parameters are saved to d3rlpy_logs/FQE_20220406210738/model_878.pt\n"
     ]
    },
    {
     "data": {
      "application/vnd.jupyter.widget-view+json": {
       "model_id": "25ca0ad9161f462f977a9935edc4b92d",
       "version_major": 2,
       "version_minor": 0
      },
      "text/plain": [
       "Epoch 2/50:   0%|          | 0/878 [00:00<?, ?it/s]"
      ]
     },
     "metadata": {},
     "output_type": "display_data"
    },
    {
     "name": "stderr",
     "output_type": "stream",
     "text": [
      "WARNING:root:NaN or Inf found in input tensor.\n"
     ]
    },
    {
     "name": "stdout",
     "output_type": "stream",
     "text": [
      "2022-04-06 21:07.42 [info     ] FQE_20220406210738: epoch=2 step=1756 epoch=2 metrics={'time_sample_batch': 0.00011742630960729508, 'time_algorithm_update': 0.0014501519518180968, 'loss': 0.004580605509955626, 'time_step': 0.001620275827638109, 'init_value': -0.8132042288780212, 'ave_value': -0.813346434212975, 'soft_opc': nan} step=1756\n"
     ]
    },
    {
     "name": "stderr",
     "output_type": "stream",
     "text": [
      "WARNING:root:NaN or Inf found in input tensor.\n"
     ]
    },
    {
     "name": "stdout",
     "output_type": "stream",
     "text": [
      "2022-04-06 21:07.42 [info     ] Model parameters are saved to d3rlpy_logs/FQE_20220406210738/model_1756.pt\n"
     ]
    },
    {
     "data": {
      "application/vnd.jupyter.widget-view+json": {
       "model_id": "9f0cb5f985d64e3bb504e5f0aa991173",
       "version_major": 2,
       "version_minor": 0
      },
      "text/plain": [
       "Epoch 3/50:   0%|          | 0/878 [00:00<?, ?it/s]"
      ]
     },
     "metadata": {},
     "output_type": "display_data"
    },
    {
     "name": "stderr",
     "output_type": "stream",
     "text": [
      "WARNING:root:NaN or Inf found in input tensor.\n"
     ]
    },
    {
     "name": "stdout",
     "output_type": "stream",
     "text": [
      "2022-04-06 21:07.43 [info     ] FQE_20220406210738: epoch=3 step=2634 epoch=3 metrics={'time_sample_batch': 0.00010611663375194088, 'time_algorithm_update': 0.0013551312861518599, 'loss': 0.010369343410954709, 'time_step': 0.001508662532293715, 'init_value': -1.1891367435455322, 'ave_value': -1.1893279653407203, 'soft_opc': nan} step=2634\n"
     ]
    },
    {
     "name": "stderr",
     "output_type": "stream",
     "text": [
      "WARNING:root:NaN or Inf found in input tensor.\n"
     ]
    },
    {
     "name": "stdout",
     "output_type": "stream",
     "text": [
      "2022-04-06 21:07.43 [info     ] Model parameters are saved to d3rlpy_logs/FQE_20220406210738/model_2634.pt\n"
     ]
    },
    {
     "data": {
      "application/vnd.jupyter.widget-view+json": {
       "model_id": "c4ecd1e8eb174d14941e4b3b0fbc9bc6",
       "version_major": 2,
       "version_minor": 0
      },
      "text/plain": [
       "Epoch 4/50:   0%|          | 0/878 [00:00<?, ?it/s]"
      ]
     },
     "metadata": {},
     "output_type": "display_data"
    },
    {
     "name": "stderr",
     "output_type": "stream",
     "text": [
      "WARNING:root:NaN or Inf found in input tensor.\n"
     ]
    },
    {
     "name": "stdout",
     "output_type": "stream",
     "text": [
      "2022-04-06 21:07.45 [info     ] FQE_20220406210738: epoch=4 step=3512 epoch=4 metrics={'time_sample_batch': 0.00010223975214165272, 'time_algorithm_update': 0.0012770095555820335, 'loss': 0.016514954606140823, 'time_step': 0.0014186293769262919, 'init_value': -1.3240128755569458, 'ave_value': -1.3241843364374488, 'soft_opc': nan} step=3512\n"
     ]
    },
    {
     "name": "stderr",
     "output_type": "stream",
     "text": [
      "WARNING:root:NaN or Inf found in input tensor.\n"
     ]
    },
    {
     "name": "stdout",
     "output_type": "stream",
     "text": [
      "2022-04-06 21:07.45 [info     ] Model parameters are saved to d3rlpy_logs/FQE_20220406210738/model_3512.pt\n"
     ]
    },
    {
     "data": {
      "application/vnd.jupyter.widget-view+json": {
       "model_id": "12851c550efb42409aeb4d900822165a",
       "version_major": 2,
       "version_minor": 0
      },
      "text/plain": [
       "Epoch 5/50:   0%|          | 0/878 [00:00<?, ?it/s]"
      ]
     },
     "metadata": {},
     "output_type": "display_data"
    },
    {
     "name": "stderr",
     "output_type": "stream",
     "text": [
      "WARNING:root:NaN or Inf found in input tensor.\n"
     ]
    },
    {
     "name": "stdout",
     "output_type": "stream",
     "text": [
      "2022-04-06 21:07.46 [info     ] FQE_20220406210738: epoch=5 step=4390 epoch=5 metrics={'time_sample_batch': 0.00011217512682521533, 'time_algorithm_update': 0.0013975203716130355, 'loss': 0.021056382262657214, 'time_step': 0.0015564160357846757, 'init_value': -1.4839987754821777, 'ave_value': -1.4841913196435468, 'soft_opc': nan} step=4390\n"
     ]
    },
    {
     "name": "stderr",
     "output_type": "stream",
     "text": [
      "WARNING:root:NaN or Inf found in input tensor.\n"
     ]
    },
    {
     "name": "stdout",
     "output_type": "stream",
     "text": [
      "2022-04-06 21:07.46 [info     ] Model parameters are saved to d3rlpy_logs/FQE_20220406210738/model_4390.pt\n"
     ]
    },
    {
     "data": {
      "application/vnd.jupyter.widget-view+json": {
       "model_id": "d9fb27cbcd864fe4a03e79505aa48b4f",
       "version_major": 2,
       "version_minor": 0
      },
      "text/plain": [
       "Epoch 6/50:   0%|          | 0/878 [00:00<?, ?it/s]"
      ]
     },
     "metadata": {},
     "output_type": "display_data"
    },
    {
     "name": "stderr",
     "output_type": "stream",
     "text": [
      "WARNING:root:NaN or Inf found in input tensor.\n"
     ]
    },
    {
     "name": "stdout",
     "output_type": "stream",
     "text": [
      "2022-04-06 21:07.48 [info     ] FQE_20220406210738: epoch=6 step=5268 epoch=6 metrics={'time_sample_batch': 0.00010780728759418044, 'time_algorithm_update': 0.0013895089099510384, 'loss': 0.02457656273003696, 'time_step': 0.0015430227770620707, 'init_value': -1.5111372470855713, 'ave_value': -1.511319507989146, 'soft_opc': nan} step=5268\n"
     ]
    },
    {
     "name": "stderr",
     "output_type": "stream",
     "text": [
      "WARNING:root:NaN or Inf found in input tensor.\n"
     ]
    },
    {
     "name": "stdout",
     "output_type": "stream",
     "text": [
      "2022-04-06 21:07.48 [info     ] Model parameters are saved to d3rlpy_logs/FQE_20220406210738/model_5268.pt\n"
     ]
    },
    {
     "data": {
      "application/vnd.jupyter.widget-view+json": {
       "model_id": "d144a55337f44267b26861dfb52ac6de",
       "version_major": 2,
       "version_minor": 0
      },
      "text/plain": [
       "Epoch 7/50:   0%|          | 0/878 [00:00<?, ?it/s]"
      ]
     },
     "metadata": {},
     "output_type": "display_data"
    },
    {
     "name": "stderr",
     "output_type": "stream",
     "text": [
      "WARNING:root:NaN or Inf found in input tensor.\n"
     ]
    },
    {
     "name": "stdout",
     "output_type": "stream",
     "text": [
      "2022-04-06 21:07.49 [info     ] FQE_20220406210738: epoch=7 step=6146 epoch=7 metrics={'time_sample_batch': 0.00011219630751903073, 'time_algorithm_update': 0.0013773406013540906, 'loss': 0.0270455762783429, 'time_step': 0.0015381408986849775, 'init_value': -1.638981580734253, 'ave_value': -1.6392109259674825, 'soft_opc': nan} step=6146\n"
     ]
    },
    {
     "name": "stderr",
     "output_type": "stream",
     "text": [
      "WARNING:root:NaN or Inf found in input tensor.\n"
     ]
    },
    {
     "name": "stdout",
     "output_type": "stream",
     "text": [
      "2022-04-06 21:07.49 [info     ] Model parameters are saved to d3rlpy_logs/FQE_20220406210738/model_6146.pt\n"
     ]
    },
    {
     "data": {
      "application/vnd.jupyter.widget-view+json": {
       "model_id": "b846f14c0aae4c7888d341d166a67649",
       "version_major": 2,
       "version_minor": 0
      },
      "text/plain": [
       "Epoch 8/50:   0%|          | 0/878 [00:00<?, ?it/s]"
      ]
     },
     "metadata": {},
     "output_type": "display_data"
    },
    {
     "name": "stderr",
     "output_type": "stream",
     "text": [
      "WARNING:root:NaN or Inf found in input tensor.\n"
     ]
    },
    {
     "name": "stdout",
     "output_type": "stream",
     "text": [
      "2022-04-06 21:07.51 [info     ] FQE_20220406210738: epoch=8 step=7024 epoch=8 metrics={'time_sample_batch': 0.00011371914509488672, 'time_algorithm_update': 0.0013882858606568773, 'loss': 0.03107505308242808, 'time_step': 0.0015489881293920286, 'init_value': -1.7358195781707764, 'ave_value': -1.7360410706074756, 'soft_opc': nan} step=7024\n"
     ]
    },
    {
     "name": "stderr",
     "output_type": "stream",
     "text": [
      "WARNING:root:NaN or Inf found in input tensor.\n"
     ]
    },
    {
     "name": "stdout",
     "output_type": "stream",
     "text": [
      "2022-04-06 21:07.51 [info     ] Model parameters are saved to d3rlpy_logs/FQE_20220406210738/model_7024.pt\n"
     ]
    },
    {
     "data": {
      "application/vnd.jupyter.widget-view+json": {
       "model_id": "b21ebd90445d4287aa89ebaef70ffc07",
       "version_major": 2,
       "version_minor": 0
      },
      "text/plain": [
       "Epoch 9/50:   0%|          | 0/878 [00:00<?, ?it/s]"
      ]
     },
     "metadata": {},
     "output_type": "display_data"
    },
    {
     "name": "stderr",
     "output_type": "stream",
     "text": [
      "WARNING:root:NaN or Inf found in input tensor.\n"
     ]
    },
    {
     "name": "stdout",
     "output_type": "stream",
     "text": [
      "2022-04-06 21:07.52 [info     ] FQE_20220406210738: epoch=9 step=7902 epoch=9 metrics={'time_sample_batch': 0.0001123820459109504, 'time_algorithm_update': 0.0013704881038100953, 'loss': 0.033631655646278805, 'time_step': 0.0015326002464207539, 'init_value': -1.8400720357894897, 'ave_value': -1.8403201358022534, 'soft_opc': nan} step=7902\n"
     ]
    },
    {
     "name": "stderr",
     "output_type": "stream",
     "text": [
      "WARNING:root:NaN or Inf found in input tensor.\n"
     ]
    },
    {
     "name": "stdout",
     "output_type": "stream",
     "text": [
      "2022-04-06 21:07.52 [info     ] Model parameters are saved to d3rlpy_logs/FQE_20220406210738/model_7902.pt\n"
     ]
    },
    {
     "data": {
      "application/vnd.jupyter.widget-view+json": {
       "model_id": "27ef53910375409e901f3d79cab2e20b",
       "version_major": 2,
       "version_minor": 0
      },
      "text/plain": [
       "Epoch 10/50:   0%|          | 0/878 [00:00<?, ?it/s]"
      ]
     },
     "metadata": {},
     "output_type": "display_data"
    },
    {
     "name": "stderr",
     "output_type": "stream",
     "text": [
      "WARNING:root:NaN or Inf found in input tensor.\n"
     ]
    },
    {
     "name": "stdout",
     "output_type": "stream",
     "text": [
      "2022-04-06 21:07.54 [info     ] FQE_20220406210738: epoch=10 step=8780 epoch=10 metrics={'time_sample_batch': 0.00011328276849281815, 'time_algorithm_update': 0.001355024568040713, 'loss': 0.03863802308645608, 'time_step': 0.0015188390410299454, 'init_value': -1.955252766609192, 'ave_value': -1.9554760425900855, 'soft_opc': nan} step=8780\n"
     ]
    },
    {
     "name": "stderr",
     "output_type": "stream",
     "text": [
      "WARNING:root:NaN or Inf found in input tensor.\n"
     ]
    },
    {
     "name": "stdout",
     "output_type": "stream",
     "text": [
      "2022-04-06 21:07.54 [info     ] Model parameters are saved to d3rlpy_logs/FQE_20220406210738/model_8780.pt\n"
     ]
    },
    {
     "data": {
      "application/vnd.jupyter.widget-view+json": {
       "model_id": "eaabd6073f224edf87e760bf329f95bc",
       "version_major": 2,
       "version_minor": 0
      },
      "text/plain": [
       "Epoch 11/50:   0%|          | 0/878 [00:00<?, ?it/s]"
      ]
     },
     "metadata": {},
     "output_type": "display_data"
    },
    {
     "name": "stderr",
     "output_type": "stream",
     "text": [
      "WARNING:root:NaN or Inf found in input tensor.\n"
     ]
    },
    {
     "name": "stdout",
     "output_type": "stream",
     "text": [
      "2022-04-06 21:07.56 [info     ] FQE_20220406210738: epoch=11 step=9658 epoch=11 metrics={'time_sample_batch': 0.00010978822556063363, 'time_algorithm_update': 0.0013943576595506256, 'loss': 0.04161569715207885, 'time_step': 0.0015515971563943155, 'init_value': -1.9574847221374512, 'ave_value': -1.9577400242768805, 'soft_opc': nan} step=9658\n"
     ]
    },
    {
     "name": "stderr",
     "output_type": "stream",
     "text": [
      "WARNING:root:NaN or Inf found in input tensor.\n"
     ]
    },
    {
     "name": "stdout",
     "output_type": "stream",
     "text": [
      "2022-04-06 21:07.56 [info     ] Model parameters are saved to d3rlpy_logs/FQE_20220406210738/model_9658.pt\n"
     ]
    },
    {
     "data": {
      "application/vnd.jupyter.widget-view+json": {
       "model_id": "fb77898b60904968ae9a782d6ff41b45",
       "version_major": 2,
       "version_minor": 0
      },
      "text/plain": [
       "Epoch 12/50:   0%|          | 0/878 [00:00<?, ?it/s]"
      ]
     },
     "metadata": {},
     "output_type": "display_data"
    },
    {
     "name": "stderr",
     "output_type": "stream",
     "text": [
      "WARNING:root:NaN or Inf found in input tensor.\n"
     ]
    },
    {
     "name": "stdout",
     "output_type": "stream",
     "text": [
      "2022-04-06 21:07.57 [info     ] FQE_20220406210738: epoch=12 step=10536 epoch=12 metrics={'time_sample_batch': 0.00011433637223645604, 'time_algorithm_update': 0.0014855679727089433, 'loss': 0.04204821414470751, 'time_step': 0.0016498649853508673, 'init_value': -2.0717697143554688, 'ave_value': -2.072038046663674, 'soft_opc': nan} step=10536\n"
     ]
    },
    {
     "name": "stderr",
     "output_type": "stream",
     "text": [
      "WARNING:root:NaN or Inf found in input tensor.\n"
     ]
    },
    {
     "name": "stdout",
     "output_type": "stream",
     "text": [
      "2022-04-06 21:07.57 [info     ] Model parameters are saved to d3rlpy_logs/FQE_20220406210738/model_10536.pt\n"
     ]
    },
    {
     "data": {
      "application/vnd.jupyter.widget-view+json": {
       "model_id": "de383ae691e64fef8063ee10dfc2475d",
       "version_major": 2,
       "version_minor": 0
      },
      "text/plain": [
       "Epoch 13/50:   0%|          | 0/878 [00:00<?, ?it/s]"
      ]
     },
     "metadata": {},
     "output_type": "display_data"
    },
    {
     "name": "stderr",
     "output_type": "stream",
     "text": [
      "WARNING:root:NaN or Inf found in input tensor.\n"
     ]
    },
    {
     "name": "stdout",
     "output_type": "stream",
     "text": [
      "2022-04-06 21:07.59 [info     ] FQE_20220406210738: epoch=13 step=11414 epoch=13 metrics={'time_sample_batch': 0.0001103019931593354, 'time_algorithm_update': 0.00134489232152361, 'loss': 0.0431493878667982, 'time_step': 0.001504068494114626, 'init_value': -1.9922022819519043, 'ave_value': -1.9924882210569386, 'soft_opc': nan} step=11414\n"
     ]
    },
    {
     "name": "stderr",
     "output_type": "stream",
     "text": [
      "WARNING:root:NaN or Inf found in input tensor.\n"
     ]
    },
    {
     "name": "stdout",
     "output_type": "stream",
     "text": [
      "2022-04-06 21:07.59 [info     ] Model parameters are saved to d3rlpy_logs/FQE_20220406210738/model_11414.pt\n"
     ]
    },
    {
     "data": {
      "application/vnd.jupyter.widget-view+json": {
       "model_id": "c0febb01368940d6bf6ae657c61a1573",
       "version_major": 2,
       "version_minor": 0
      },
      "text/plain": [
       "Epoch 14/50:   0%|          | 0/878 [00:00<?, ?it/s]"
      ]
     },
     "metadata": {},
     "output_type": "display_data"
    },
    {
     "name": "stderr",
     "output_type": "stream",
     "text": [
      "WARNING:root:NaN or Inf found in input tensor.\n"
     ]
    },
    {
     "name": "stdout",
     "output_type": "stream",
     "text": [
      "2022-04-06 21:08.00 [info     ] FQE_20220406210738: epoch=14 step=12292 epoch=14 metrics={'time_sample_batch': 0.00011931790849342433, 'time_algorithm_update': 0.0014310920428578023, 'loss': 0.044116638565871835, 'time_step': 0.0016057477725122404, 'init_value': -2.0568687915802, 'ave_value': -2.0571716389654124, 'soft_opc': nan} step=12292\n"
     ]
    },
    {
     "name": "stderr",
     "output_type": "stream",
     "text": [
      "WARNING:root:NaN or Inf found in input tensor.\n"
     ]
    },
    {
     "name": "stdout",
     "output_type": "stream",
     "text": [
      "2022-04-06 21:08.00 [info     ] Model parameters are saved to d3rlpy_logs/FQE_20220406210738/model_12292.pt\n"
     ]
    },
    {
     "data": {
      "application/vnd.jupyter.widget-view+json": {
       "model_id": "ae8fdf7a5dbb410aa8aff8fbd51cbf5d",
       "version_major": 2,
       "version_minor": 0
      },
      "text/plain": [
       "Epoch 15/50:   0%|          | 0/878 [00:00<?, ?it/s]"
      ]
     },
     "metadata": {},
     "output_type": "display_data"
    },
    {
     "name": "stderr",
     "output_type": "stream",
     "text": [
      "WARNING:root:NaN or Inf found in input tensor.\n"
     ]
    },
    {
     "name": "stdout",
     "output_type": "stream",
     "text": [
      "2022-04-06 21:08.02 [info     ] FQE_20220406210738: epoch=15 step=13170 epoch=15 metrics={'time_sample_batch': 0.00011035575953594373, 'time_algorithm_update': 0.001312759036626794, 'loss': 0.04706477951954278, 'time_step': 0.0014730751650208493, 'init_value': -2.131348133087158, 'ave_value': -2.13165755924088, 'soft_opc': nan} step=13170\n"
     ]
    },
    {
     "name": "stderr",
     "output_type": "stream",
     "text": [
      "WARNING:root:NaN or Inf found in input tensor.\n"
     ]
    },
    {
     "name": "stdout",
     "output_type": "stream",
     "text": [
      "2022-04-06 21:08.02 [info     ] Model parameters are saved to d3rlpy_logs/FQE_20220406210738/model_13170.pt\n"
     ]
    },
    {
     "data": {
      "application/vnd.jupyter.widget-view+json": {
       "model_id": "16a2d83f26fa4c4d95314bcaa42106de",
       "version_major": 2,
       "version_minor": 0
      },
      "text/plain": [
       "Epoch 16/50:   0%|          | 0/878 [00:00<?, ?it/s]"
      ]
     },
     "metadata": {},
     "output_type": "display_data"
    },
    {
     "name": "stderr",
     "output_type": "stream",
     "text": [
      "WARNING:root:NaN or Inf found in input tensor.\n"
     ]
    },
    {
     "name": "stdout",
     "output_type": "stream",
     "text": [
      "2022-04-06 21:08.04 [info     ] FQE_20220406210738: epoch=16 step=14048 epoch=16 metrics={'time_sample_batch': 0.00011658695672802067, 'time_algorithm_update': 0.0014514624393610856, 'loss': 0.04689963183631094, 'time_step': 0.0016213943311999763, 'init_value': -2.1570379734039307, 'ave_value': -2.1573657027868474, 'soft_opc': nan} step=14048\n"
     ]
    },
    {
     "name": "stderr",
     "output_type": "stream",
     "text": [
      "WARNING:root:NaN or Inf found in input tensor.\n"
     ]
    },
    {
     "name": "stdout",
     "output_type": "stream",
     "text": [
      "2022-04-06 21:08.04 [info     ] Model parameters are saved to d3rlpy_logs/FQE_20220406210738/model_14048.pt\n"
     ]
    },
    {
     "data": {
      "application/vnd.jupyter.widget-view+json": {
       "model_id": "4caccaf8c1c540ebb69257f000cd0389",
       "version_major": 2,
       "version_minor": 0
      },
      "text/plain": [
       "Epoch 17/50:   0%|          | 0/878 [00:00<?, ?it/s]"
      ]
     },
     "metadata": {},
     "output_type": "display_data"
    },
    {
     "name": "stderr",
     "output_type": "stream",
     "text": [
      "WARNING:root:NaN or Inf found in input tensor.\n"
     ]
    },
    {
     "name": "stdout",
     "output_type": "stream",
     "text": [
      "2022-04-06 21:08.05 [info     ] FQE_20220406210738: epoch=17 step=14926 epoch=17 metrics={'time_sample_batch': 0.00011361405626787954, 'time_algorithm_update': 0.001349180325831802, 'loss': 0.04980500104289119, 'time_step': 0.0015144644131149952, 'init_value': -2.1130576133728027, 'ave_value': -2.113394008915229, 'soft_opc': nan} step=14926\n"
     ]
    },
    {
     "name": "stderr",
     "output_type": "stream",
     "text": [
      "WARNING:root:NaN or Inf found in input tensor.\n"
     ]
    },
    {
     "name": "stdout",
     "output_type": "stream",
     "text": [
      "2022-04-06 21:08.05 [info     ] Model parameters are saved to d3rlpy_logs/FQE_20220406210738/model_14926.pt\n"
     ]
    },
    {
     "data": {
      "application/vnd.jupyter.widget-view+json": {
       "model_id": "2fdcb1f64847481bb1a91bd330a0fb6a",
       "version_major": 2,
       "version_minor": 0
      },
      "text/plain": [
       "Epoch 18/50:   0%|          | 0/878 [00:00<?, ?it/s]"
      ]
     },
     "metadata": {},
     "output_type": "display_data"
    },
    {
     "name": "stderr",
     "output_type": "stream",
     "text": [
      "WARNING:root:NaN or Inf found in input tensor.\n"
     ]
    },
    {
     "name": "stdout",
     "output_type": "stream",
     "text": [
      "2022-04-06 21:08.07 [info     ] FQE_20220406210738: epoch=18 step=15804 epoch=18 metrics={'time_sample_batch': 0.0001136686372865577, 'time_algorithm_update': 0.0013884631810807421, 'loss': 0.047973340375674335, 'time_step': 0.001553461600544784, 'init_value': -2.096942901611328, 'ave_value': -2.097263014731796, 'soft_opc': nan} step=15804\n"
     ]
    },
    {
     "name": "stderr",
     "output_type": "stream",
     "text": [
      "WARNING:root:NaN or Inf found in input tensor.\n"
     ]
    },
    {
     "name": "stdout",
     "output_type": "stream",
     "text": [
      "2022-04-06 21:08.07 [info     ] Model parameters are saved to d3rlpy_logs/FQE_20220406210738/model_15804.pt\n"
     ]
    },
    {
     "data": {
      "application/vnd.jupyter.widget-view+json": {
       "model_id": "8a03303cd7f9411ab9b05887794913f1",
       "version_major": 2,
       "version_minor": 0
      },
      "text/plain": [
       "Epoch 19/50:   0%|          | 0/878 [00:00<?, ?it/s]"
      ]
     },
     "metadata": {},
     "output_type": "display_data"
    },
    {
     "name": "stderr",
     "output_type": "stream",
     "text": [
      "WARNING:root:NaN or Inf found in input tensor.\n"
     ]
    },
    {
     "name": "stdout",
     "output_type": "stream",
     "text": [
      "2022-04-06 21:08.08 [info     ] FQE_20220406210738: epoch=19 step=16682 epoch=19 metrics={'time_sample_batch': 0.00010638600872969573, 'time_algorithm_update': 0.001343217145880697, 'loss': 0.04587532281870887, 'time_step': 0.001497316740639932, 'init_value': -2.045405626296997, 'ave_value': -2.0457155897969725, 'soft_opc': nan} step=16682\n"
     ]
    },
    {
     "name": "stderr",
     "output_type": "stream",
     "text": [
      "WARNING:root:NaN or Inf found in input tensor.\n"
     ]
    },
    {
     "name": "stdout",
     "output_type": "stream",
     "text": [
      "2022-04-06 21:08.08 [info     ] Model parameters are saved to d3rlpy_logs/FQE_20220406210738/model_16682.pt\n"
     ]
    },
    {
     "data": {
      "application/vnd.jupyter.widget-view+json": {
       "model_id": "aa3c081309104d37b766f032092e236c",
       "version_major": 2,
       "version_minor": 0
      },
      "text/plain": [
       "Epoch 20/50:   0%|          | 0/878 [00:00<?, ?it/s]"
      ]
     },
     "metadata": {},
     "output_type": "display_data"
    },
    {
     "name": "stderr",
     "output_type": "stream",
     "text": [
      "WARNING:root:NaN or Inf found in input tensor.\n"
     ]
    },
    {
     "name": "stdout",
     "output_type": "stream",
     "text": [
      "2022-04-06 21:08.10 [info     ] FQE_20220406210738: epoch=20 step=17560 epoch=20 metrics={'time_sample_batch': 0.00010427391339000103, 'time_algorithm_update': 0.0013430762128026177, 'loss': 0.04700227192249231, 'time_step': 0.0014925182273013173, 'init_value': -2.10949444770813, 'ave_value': -2.1098272289633453, 'soft_opc': nan} step=17560\n"
     ]
    },
    {
     "name": "stderr",
     "output_type": "stream",
     "text": [
      "WARNING:root:NaN or Inf found in input tensor.\n"
     ]
    },
    {
     "name": "stdout",
     "output_type": "stream",
     "text": [
      "2022-04-06 21:08.10 [info     ] Model parameters are saved to d3rlpy_logs/FQE_20220406210738/model_17560.pt\n"
     ]
    },
    {
     "data": {
      "application/vnd.jupyter.widget-view+json": {
       "model_id": "3619cf7a420542adbd9d8ba3b0548d46",
       "version_major": 2,
       "version_minor": 0
      },
      "text/plain": [
       "Epoch 21/50:   0%|          | 0/878 [00:00<?, ?it/s]"
      ]
     },
     "metadata": {},
     "output_type": "display_data"
    },
    {
     "name": "stderr",
     "output_type": "stream",
     "text": [
      "WARNING:root:NaN or Inf found in input tensor.\n"
     ]
    },
    {
     "name": "stdout",
     "output_type": "stream",
     "text": [
      "2022-04-06 21:08.11 [info     ] FQE_20220406210738: epoch=21 step=18438 epoch=21 metrics={'time_sample_batch': 0.00010523220401146961, 'time_algorithm_update': 0.001311143601402335, 'loss': 0.04952541519700377, 'time_step': 0.001462481287997513, 'init_value': -2.2521586418151855, 'ave_value': -2.2525230894789843, 'soft_opc': nan} step=18438\n"
     ]
    },
    {
     "name": "stderr",
     "output_type": "stream",
     "text": [
      "WARNING:root:NaN or Inf found in input tensor.\n"
     ]
    },
    {
     "name": "stdout",
     "output_type": "stream",
     "text": [
      "2022-04-06 21:08.11 [info     ] Model parameters are saved to d3rlpy_logs/FQE_20220406210738/model_18438.pt\n"
     ]
    },
    {
     "data": {
      "application/vnd.jupyter.widget-view+json": {
       "model_id": "d62a53679b5c46d3b80d8093dad5ca89",
       "version_major": 2,
       "version_minor": 0
      },
      "text/plain": [
       "Epoch 22/50:   0%|          | 0/878 [00:00<?, ?it/s]"
      ]
     },
     "metadata": {},
     "output_type": "display_data"
    },
    {
     "name": "stderr",
     "output_type": "stream",
     "text": [
      "WARNING:root:NaN or Inf found in input tensor.\n"
     ]
    },
    {
     "name": "stdout",
     "output_type": "stream",
     "text": [
      "2022-04-06 21:08.13 [info     ] FQE_20220406210738: epoch=22 step=19316 epoch=22 metrics={'time_sample_batch': 0.00010259656536823525, 'time_algorithm_update': 0.0013295724343058732, 'loss': 0.052713522681173394, 'time_step': 0.0014780056503747754, 'init_value': -2.261894941329956, 'ave_value': -2.26227576449043, 'soft_opc': nan} step=19316\n"
     ]
    },
    {
     "name": "stderr",
     "output_type": "stream",
     "text": [
      "WARNING:root:NaN or Inf found in input tensor.\n"
     ]
    },
    {
     "name": "stdout",
     "output_type": "stream",
     "text": [
      "2022-04-06 21:08.13 [info     ] Model parameters are saved to d3rlpy_logs/FQE_20220406210738/model_19316.pt\n"
     ]
    },
    {
     "data": {
      "application/vnd.jupyter.widget-view+json": {
       "model_id": "3dd10cea401149739360bc663ba95e4e",
       "version_major": 2,
       "version_minor": 0
      },
      "text/plain": [
       "Epoch 23/50:   0%|          | 0/878 [00:00<?, ?it/s]"
      ]
     },
     "metadata": {},
     "output_type": "display_data"
    },
    {
     "name": "stderr",
     "output_type": "stream",
     "text": [
      "WARNING:root:NaN or Inf found in input tensor.\n"
     ]
    },
    {
     "name": "stdout",
     "output_type": "stream",
     "text": [
      "2022-04-06 21:08.14 [info     ] FQE_20220406210738: epoch=23 step=20194 epoch=23 metrics={'time_sample_batch': 0.00010387419568107448, 'time_algorithm_update': 0.0013150424783485081, 'loss': 0.05562426671948533, 'time_step': 0.0014645741034748886, 'init_value': -2.2431588172912598, 'ave_value': -2.2435078118198097, 'soft_opc': nan} step=20194\n"
     ]
    },
    {
     "name": "stderr",
     "output_type": "stream",
     "text": [
      "WARNING:root:NaN or Inf found in input tensor.\n"
     ]
    },
    {
     "name": "stdout",
     "output_type": "stream",
     "text": [
      "2022-04-06 21:08.14 [info     ] Model parameters are saved to d3rlpy_logs/FQE_20220406210738/model_20194.pt\n"
     ]
    },
    {
     "data": {
      "application/vnd.jupyter.widget-view+json": {
       "model_id": "93dcec44aad34bbfac4188f34171b7f3",
       "version_major": 2,
       "version_minor": 0
      },
      "text/plain": [
       "Epoch 24/50:   0%|          | 0/878 [00:00<?, ?it/s]"
      ]
     },
     "metadata": {},
     "output_type": "display_data"
    },
    {
     "name": "stderr",
     "output_type": "stream",
     "text": [
      "WARNING:root:NaN or Inf found in input tensor.\n"
     ]
    },
    {
     "name": "stdout",
     "output_type": "stream",
     "text": [
      "2022-04-06 21:08.16 [info     ] FQE_20220406210738: epoch=24 step=21072 epoch=24 metrics={'time_sample_batch': 0.00010560015067967304, 'time_algorithm_update': 0.0013548401873855764, 'loss': 0.055636593598686564, 'time_step': 0.0015070014771133458, 'init_value': -2.291595935821533, 'ave_value': -2.2919542392904884, 'soft_opc': nan} step=21072\n"
     ]
    },
    {
     "name": "stderr",
     "output_type": "stream",
     "text": [
      "WARNING:root:NaN or Inf found in input tensor.\n"
     ]
    },
    {
     "name": "stdout",
     "output_type": "stream",
     "text": [
      "2022-04-06 21:08.16 [info     ] Model parameters are saved to d3rlpy_logs/FQE_20220406210738/model_21072.pt\n"
     ]
    },
    {
     "data": {
      "application/vnd.jupyter.widget-view+json": {
       "model_id": "f2568cfe76fd4cc98b46ac6657e2c854",
       "version_major": 2,
       "version_minor": 0
      },
      "text/plain": [
       "Epoch 25/50:   0%|          | 0/878 [00:00<?, ?it/s]"
      ]
     },
     "metadata": {},
     "output_type": "display_data"
    },
    {
     "name": "stderr",
     "output_type": "stream",
     "text": [
      "WARNING:root:NaN or Inf found in input tensor.\n"
     ]
    },
    {
     "name": "stdout",
     "output_type": "stream",
     "text": [
      "2022-04-06 21:08.17 [info     ] FQE_20220406210738: epoch=25 step=21950 epoch=25 metrics={'time_sample_batch': 0.00010742956522113913, 'time_algorithm_update': 0.0013616448925948088, 'loss': 0.05705685995718529, 'time_step': 0.0015151870006309283, 'init_value': -2.289217233657837, 'ave_value': -2.2895522486036626, 'soft_opc': nan} step=21950\n"
     ]
    },
    {
     "name": "stderr",
     "output_type": "stream",
     "text": [
      "WARNING:root:NaN or Inf found in input tensor.\n"
     ]
    },
    {
     "name": "stdout",
     "output_type": "stream",
     "text": [
      "2022-04-06 21:08.17 [info     ] Model parameters are saved to d3rlpy_logs/FQE_20220406210738/model_21950.pt\n"
     ]
    },
    {
     "data": {
      "application/vnd.jupyter.widget-view+json": {
       "model_id": "42fe356562b345fe8690f96da2b04bd7",
       "version_major": 2,
       "version_minor": 0
      },
      "text/plain": [
       "Epoch 26/50:   0%|          | 0/878 [00:00<?, ?it/s]"
      ]
     },
     "metadata": {},
     "output_type": "display_data"
    },
    {
     "name": "stderr",
     "output_type": "stream",
     "text": [
      "WARNING:root:NaN or Inf found in input tensor.\n"
     ]
    },
    {
     "name": "stdout",
     "output_type": "stream",
     "text": [
      "2022-04-06 21:08.19 [info     ] FQE_20220406210738: epoch=26 step=22828 epoch=26 metrics={'time_sample_batch': 0.00010597841614742757, 'time_algorithm_update': 0.0013507908732038425, 'loss': 0.05373092050016865, 'time_step': 0.0015030610534216113, 'init_value': -2.2778213024139404, 'ave_value': -2.278166347970758, 'soft_opc': nan} step=22828\n"
     ]
    },
    {
     "name": "stderr",
     "output_type": "stream",
     "text": [
      "WARNING:root:NaN or Inf found in input tensor.\n"
     ]
    },
    {
     "name": "stdout",
     "output_type": "stream",
     "text": [
      "2022-04-06 21:08.19 [info     ] Model parameters are saved to d3rlpy_logs/FQE_20220406210738/model_22828.pt\n"
     ]
    },
    {
     "data": {
      "application/vnd.jupyter.widget-view+json": {
       "model_id": "8dc7354223f842de91165e56d81142d6",
       "version_major": 2,
       "version_minor": 0
      },
      "text/plain": [
       "Epoch 27/50:   0%|          | 0/878 [00:00<?, ?it/s]"
      ]
     },
     "metadata": {},
     "output_type": "display_data"
    },
    {
     "name": "stderr",
     "output_type": "stream",
     "text": [
      "WARNING:root:NaN or Inf found in input tensor.\n"
     ]
    },
    {
     "name": "stdout",
     "output_type": "stream",
     "text": [
      "2022-04-06 21:08.21 [info     ] FQE_20220406210738: epoch=27 step=23706 epoch=27 metrics={'time_sample_batch': 0.00010707030806834713, 'time_algorithm_update': 0.0013497163603137458, 'loss': 0.05490457079743181, 'time_step': 0.00150424988774884, 'init_value': -2.276827812194824, 'ave_value': -2.277165536118703, 'soft_opc': nan} step=23706\n"
     ]
    },
    {
     "name": "stderr",
     "output_type": "stream",
     "text": [
      "WARNING:root:NaN or Inf found in input tensor.\n"
     ]
    },
    {
     "name": "stdout",
     "output_type": "stream",
     "text": [
      "2022-04-06 21:08.21 [info     ] Model parameters are saved to d3rlpy_logs/FQE_20220406210738/model_23706.pt\n"
     ]
    },
    {
     "data": {
      "application/vnd.jupyter.widget-view+json": {
       "model_id": "a3876413fc6d4a6e9d2dd902fd67ed46",
       "version_major": 2,
       "version_minor": 0
      },
      "text/plain": [
       "Epoch 28/50:   0%|          | 0/878 [00:00<?, ?it/s]"
      ]
     },
     "metadata": {},
     "output_type": "display_data"
    },
    {
     "name": "stderr",
     "output_type": "stream",
     "text": [
      "WARNING:root:NaN or Inf found in input tensor.\n"
     ]
    },
    {
     "name": "stdout",
     "output_type": "stream",
     "text": [
      "2022-04-06 21:08.22 [info     ] FQE_20220406210738: epoch=28 step=24584 epoch=28 metrics={'time_sample_batch': 0.00010456501215628448, 'time_algorithm_update': 0.0013566896964314315, 'loss': 0.05571037207755373, 'time_step': 0.0015068075923007278, 'init_value': -2.3336145877838135, 'ave_value': -2.3339579961986416, 'soft_opc': nan} step=24584\n"
     ]
    },
    {
     "name": "stderr",
     "output_type": "stream",
     "text": [
      "WARNING:root:NaN or Inf found in input tensor.\n"
     ]
    },
    {
     "name": "stdout",
     "output_type": "stream",
     "text": [
      "2022-04-06 21:08.22 [info     ] Model parameters are saved to d3rlpy_logs/FQE_20220406210738/model_24584.pt\n"
     ]
    },
    {
     "data": {
      "application/vnd.jupyter.widget-view+json": {
       "model_id": "b8a26b7202fc481696fd893931378e47",
       "version_major": 2,
       "version_minor": 0
      },
      "text/plain": [
       "Epoch 29/50:   0%|          | 0/878 [00:00<?, ?it/s]"
      ]
     },
     "metadata": {},
     "output_type": "display_data"
    },
    {
     "name": "stderr",
     "output_type": "stream",
     "text": [
      "WARNING:root:NaN or Inf found in input tensor.\n"
     ]
    },
    {
     "name": "stdout",
     "output_type": "stream",
     "text": [
      "2022-04-06 21:08.24 [info     ] FQE_20220406210738: epoch=29 step=25462 epoch=29 metrics={'time_sample_batch': 0.00010177540616185356, 'time_algorithm_update': 0.0012858924127113847, 'loss': 0.060448611191643985, 'time_step': 0.0014320188339859044, 'init_value': -2.4159975051879883, 'ave_value': -2.416374315336227, 'soft_opc': nan} step=25462\n"
     ]
    },
    {
     "name": "stderr",
     "output_type": "stream",
     "text": [
      "WARNING:root:NaN or Inf found in input tensor.\n"
     ]
    },
    {
     "name": "stdout",
     "output_type": "stream",
     "text": [
      "2022-04-06 21:08.24 [info     ] Model parameters are saved to d3rlpy_logs/FQE_20220406210738/model_25462.pt\n"
     ]
    },
    {
     "data": {
      "application/vnd.jupyter.widget-view+json": {
       "model_id": "efa3c059eacc4daaa8582d0f035604ce",
       "version_major": 2,
       "version_minor": 0
      },
      "text/plain": [
       "Epoch 30/50:   0%|          | 0/878 [00:00<?, ?it/s]"
      ]
     },
     "metadata": {},
     "output_type": "display_data"
    },
    {
     "name": "stderr",
     "output_type": "stream",
     "text": [
      "WARNING:root:NaN or Inf found in input tensor.\n"
     ]
    },
    {
     "name": "stdout",
     "output_type": "stream",
     "text": [
      "2022-04-06 21:08.25 [info     ] FQE_20220406210738: epoch=30 step=26340 epoch=30 metrics={'time_sample_batch': 0.00010422177629753235, 'time_algorithm_update': 0.0013066391738509263, 'loss': 0.06361026641257955, 'time_step': 0.0014565925120221183, 'init_value': -2.415923595428467, 'ave_value': -2.4162769447705847, 'soft_opc': nan} step=26340\n"
     ]
    },
    {
     "name": "stderr",
     "output_type": "stream",
     "text": [
      "WARNING:root:NaN or Inf found in input tensor.\n"
     ]
    },
    {
     "name": "stdout",
     "output_type": "stream",
     "text": [
      "2022-04-06 21:08.25 [info     ] Model parameters are saved to d3rlpy_logs/FQE_20220406210738/model_26340.pt\n"
     ]
    },
    {
     "data": {
      "application/vnd.jupyter.widget-view+json": {
       "model_id": "d34252ff5b504992b62dc8c9ebb269b9",
       "version_major": 2,
       "version_minor": 0
      },
      "text/plain": [
       "Epoch 31/50:   0%|          | 0/878 [00:00<?, ?it/s]"
      ]
     },
     "metadata": {},
     "output_type": "display_data"
    },
    {
     "name": "stderr",
     "output_type": "stream",
     "text": [
      "WARNING:root:NaN or Inf found in input tensor.\n"
     ]
    },
    {
     "name": "stdout",
     "output_type": "stream",
     "text": [
      "2022-04-06 21:08.27 [info     ] FQE_20220406210738: epoch=31 step=27218 epoch=31 metrics={'time_sample_batch': 0.00010630318678593038, 'time_algorithm_update': 0.0013834596494878887, 'loss': 0.06538178606461854, 'time_step': 0.0015367310248094702, 'init_value': -2.465179681777954, 'ave_value': -2.4655199818525397, 'soft_opc': nan} step=27218\n"
     ]
    },
    {
     "name": "stderr",
     "output_type": "stream",
     "text": [
      "WARNING:root:NaN or Inf found in input tensor.\n"
     ]
    },
    {
     "name": "stdout",
     "output_type": "stream",
     "text": [
      "2022-04-06 21:08.27 [info     ] Model parameters are saved to d3rlpy_logs/FQE_20220406210738/model_27218.pt\n"
     ]
    },
    {
     "data": {
      "application/vnd.jupyter.widget-view+json": {
       "model_id": "eb2e5bdeb5e24bf59ce21a88ca1edd17",
       "version_major": 2,
       "version_minor": 0
      },
      "text/plain": [
       "Epoch 32/50:   0%|          | 0/878 [00:00<?, ?it/s]"
      ]
     },
     "metadata": {},
     "output_type": "display_data"
    },
    {
     "name": "stderr",
     "output_type": "stream",
     "text": [
      "WARNING:root:NaN or Inf found in input tensor.\n"
     ]
    },
    {
     "name": "stdout",
     "output_type": "stream",
     "text": [
      "2022-04-06 21:08.28 [info     ] FQE_20220406210738: epoch=32 step=28096 epoch=32 metrics={'time_sample_batch': 0.00010201002307796262, 'time_algorithm_update': 0.0012140200730065278, 'loss': 0.0663549472095991, 'time_step': 0.0013615368167468791, 'init_value': -2.4906489849090576, 'ave_value': -2.4910368365956783, 'soft_opc': nan} step=28096\n"
     ]
    },
    {
     "name": "stderr",
     "output_type": "stream",
     "text": [
      "WARNING:root:NaN or Inf found in input tensor.\n"
     ]
    },
    {
     "name": "stdout",
     "output_type": "stream",
     "text": [
      "2022-04-06 21:08.28 [info     ] Model parameters are saved to d3rlpy_logs/FQE_20220406210738/model_28096.pt\n"
     ]
    },
    {
     "data": {
      "application/vnd.jupyter.widget-view+json": {
       "model_id": "8725717bbe694428aaa1619c23dfffe4",
       "version_major": 2,
       "version_minor": 0
      },
      "text/plain": [
       "Epoch 33/50:   0%|          | 0/878 [00:00<?, ?it/s]"
      ]
     },
     "metadata": {},
     "output_type": "display_data"
    },
    {
     "name": "stderr",
     "output_type": "stream",
     "text": [
      "WARNING:root:NaN or Inf found in input tensor.\n"
     ]
    },
    {
     "name": "stdout",
     "output_type": "stream",
     "text": [
      "2022-04-06 21:08.29 [info     ] FQE_20220406210738: epoch=33 step=28974 epoch=33 metrics={'time_sample_batch': 0.000101431084113675, 'time_algorithm_update': 0.0012694874222566434, 'loss': 0.06671217458582705, 'time_step': 0.0014155595340598418, 'init_value': -2.524453639984131, 'ave_value': -2.524863601227669, 'soft_opc': nan} step=28974\n"
     ]
    },
    {
     "name": "stderr",
     "output_type": "stream",
     "text": [
      "WARNING:root:NaN or Inf found in input tensor.\n"
     ]
    },
    {
     "name": "stdout",
     "output_type": "stream",
     "text": [
      "2022-04-06 21:08.29 [info     ] Model parameters are saved to d3rlpy_logs/FQE_20220406210738/model_28974.pt\n"
     ]
    },
    {
     "data": {
      "application/vnd.jupyter.widget-view+json": {
       "model_id": "32e948baf21c46cb816128c598f4536f",
       "version_major": 2,
       "version_minor": 0
      },
      "text/plain": [
       "Epoch 34/50:   0%|          | 0/878 [00:00<?, ?it/s]"
      ]
     },
     "metadata": {},
     "output_type": "display_data"
    },
    {
     "name": "stderr",
     "output_type": "stream",
     "text": [
      "WARNING:root:NaN or Inf found in input tensor.\n"
     ]
    },
    {
     "name": "stdout",
     "output_type": "stream",
     "text": [
      "2022-04-06 21:08.31 [info     ] FQE_20220406210738: epoch=34 step=29852 epoch=34 metrics={'time_sample_batch': 0.00010597488603179166, 'time_algorithm_update': 0.0013537173390660035, 'loss': 0.06453512905011316, 'time_step': 0.0015060187472297824, 'init_value': -2.4035935401916504, 'ave_value': -2.4039949064383923, 'soft_opc': nan} step=29852\n"
     ]
    },
    {
     "name": "stderr",
     "output_type": "stream",
     "text": [
      "WARNING:root:NaN or Inf found in input tensor.\n"
     ]
    },
    {
     "name": "stdout",
     "output_type": "stream",
     "text": [
      "2022-04-06 21:08.31 [info     ] Model parameters are saved to d3rlpy_logs/FQE_20220406210738/model_29852.pt\n"
     ]
    },
    {
     "data": {
      "application/vnd.jupyter.widget-view+json": {
       "model_id": "7fd3b3950eca49a98939306195c61d1e",
       "version_major": 2,
       "version_minor": 0
      },
      "text/plain": [
       "Epoch 35/50:   0%|          | 0/878 [00:00<?, ?it/s]"
      ]
     },
     "metadata": {},
     "output_type": "display_data"
    },
    {
     "name": "stderr",
     "output_type": "stream",
     "text": [
      "WARNING:root:NaN or Inf found in input tensor.\n"
     ]
    },
    {
     "name": "stdout",
     "output_type": "stream",
     "text": [
      "2022-04-06 21:08.33 [info     ] FQE_20220406210738: epoch=35 step=30730 epoch=35 metrics={'time_sample_batch': 0.00010949413977342748, 'time_algorithm_update': 0.00138328422989552, 'loss': 0.0609761889832841, 'time_step': 0.0015412235042771881, 'init_value': -2.4128823280334473, 'ave_value': -2.4132125466534173, 'soft_opc': nan} step=30730\n"
     ]
    },
    {
     "name": "stderr",
     "output_type": "stream",
     "text": [
      "WARNING:root:NaN or Inf found in input tensor.\n"
     ]
    },
    {
     "name": "stdout",
     "output_type": "stream",
     "text": [
      "2022-04-06 21:08.33 [info     ] Model parameters are saved to d3rlpy_logs/FQE_20220406210738/model_30730.pt\n"
     ]
    },
    {
     "data": {
      "application/vnd.jupyter.widget-view+json": {
       "model_id": "c114fefec6724672994c058d53a713bf",
       "version_major": 2,
       "version_minor": 0
      },
      "text/plain": [
       "Epoch 36/50:   0%|          | 0/878 [00:00<?, ?it/s]"
      ]
     },
     "metadata": {},
     "output_type": "display_data"
    },
    {
     "name": "stderr",
     "output_type": "stream",
     "text": [
      "WARNING:root:NaN or Inf found in input tensor.\n"
     ]
    },
    {
     "name": "stdout",
     "output_type": "stream",
     "text": [
      "2022-04-06 21:08.34 [info     ] FQE_20220406210738: epoch=36 step=31608 epoch=36 metrics={'time_sample_batch': 0.00012033403870185035, 'time_algorithm_update': 0.0015147066333570892, 'loss': 0.06328373947955307, 'time_step': 0.0016907263453837678, 'init_value': -2.3309714794158936, 'ave_value': -2.3313020162080873, 'soft_opc': nan} step=31608\n"
     ]
    },
    {
     "name": "stderr",
     "output_type": "stream",
     "text": [
      "WARNING:root:NaN or Inf found in input tensor.\n"
     ]
    },
    {
     "name": "stdout",
     "output_type": "stream",
     "text": [
      "2022-04-06 21:08.34 [info     ] Model parameters are saved to d3rlpy_logs/FQE_20220406210738/model_31608.pt\n"
     ]
    },
    {
     "data": {
      "application/vnd.jupyter.widget-view+json": {
       "model_id": "d1d52e16d42e4a1e99f783fec6d35e16",
       "version_major": 2,
       "version_minor": 0
      },
      "text/plain": [
       "Epoch 37/50:   0%|          | 0/878 [00:00<?, ?it/s]"
      ]
     },
     "metadata": {},
     "output_type": "display_data"
    },
    {
     "name": "stderr",
     "output_type": "stream",
     "text": [
      "WARNING:root:NaN or Inf found in input tensor.\n"
     ]
    },
    {
     "name": "stdout",
     "output_type": "stream",
     "text": [
      "2022-04-06 21:08.36 [info     ] FQE_20220406210738: epoch=37 step=32486 epoch=37 metrics={'time_sample_batch': 0.00011358988855314146, 'time_algorithm_update': 0.0014304585228748364, 'loss': 0.0592149725890234, 'time_step': 0.0015990611904031324, 'init_value': -2.2976889610290527, 'ave_value': -2.297997024491596, 'soft_opc': nan} step=32486\n"
     ]
    },
    {
     "name": "stderr",
     "output_type": "stream",
     "text": [
      "WARNING:root:NaN or Inf found in input tensor.\n"
     ]
    },
    {
     "name": "stdout",
     "output_type": "stream",
     "text": [
      "2022-04-06 21:08.36 [info     ] Model parameters are saved to d3rlpy_logs/FQE_20220406210738/model_32486.pt\n"
     ]
    },
    {
     "data": {
      "application/vnd.jupyter.widget-view+json": {
       "model_id": "5ff64a321ec74930a8caddf55646757f",
       "version_major": 2,
       "version_minor": 0
      },
      "text/plain": [
       "Epoch 38/50:   0%|          | 0/878 [00:00<?, ?it/s]"
      ]
     },
     "metadata": {},
     "output_type": "display_data"
    },
    {
     "name": "stderr",
     "output_type": "stream",
     "text": [
      "WARNING:root:NaN or Inf found in input tensor.\n"
     ]
    },
    {
     "name": "stdout",
     "output_type": "stream",
     "text": [
      "2022-04-06 21:08.38 [info     ] FQE_20220406210738: epoch=38 step=33364 epoch=38 metrics={'time_sample_batch': 0.00011191199743666247, 'time_algorithm_update': 0.00139888082386964, 'loss': 0.05836308227111314, 'time_step': 0.0015636427255860765, 'init_value': -2.306408166885376, 'ave_value': -2.30673457320015, 'soft_opc': nan} step=33364\n"
     ]
    },
    {
     "name": "stderr",
     "output_type": "stream",
     "text": [
      "WARNING:root:NaN or Inf found in input tensor.\n"
     ]
    },
    {
     "name": "stdout",
     "output_type": "stream",
     "text": [
      "2022-04-06 21:08.38 [info     ] Model parameters are saved to d3rlpy_logs/FQE_20220406210738/model_33364.pt\n"
     ]
    },
    {
     "data": {
      "application/vnd.jupyter.widget-view+json": {
       "model_id": "6ed4d9e12eb244dfbc16586531bae8a0",
       "version_major": 2,
       "version_minor": 0
      },
      "text/plain": [
       "Epoch 39/50:   0%|          | 0/878 [00:00<?, ?it/s]"
      ]
     },
     "metadata": {},
     "output_type": "display_data"
    },
    {
     "name": "stderr",
     "output_type": "stream",
     "text": [
      "WARNING:root:NaN or Inf found in input tensor.\n"
     ]
    },
    {
     "name": "stdout",
     "output_type": "stream",
     "text": [
      "2022-04-06 21:08.39 [info     ] FQE_20220406210738: epoch=39 step=34242 epoch=39 metrics={'time_sample_batch': 0.0001117224573817503, 'time_algorithm_update': 0.0013509119833248894, 'loss': 0.05845025653407759, 'time_step': 0.001513544682218165, 'init_value': -2.3161301612854004, 'ave_value': -2.3164143079799246, 'soft_opc': nan} step=34242\n"
     ]
    },
    {
     "name": "stderr",
     "output_type": "stream",
     "text": [
      "WARNING:root:NaN or Inf found in input tensor.\n"
     ]
    },
    {
     "name": "stdout",
     "output_type": "stream",
     "text": [
      "2022-04-06 21:08.39 [info     ] Model parameters are saved to d3rlpy_logs/FQE_20220406210738/model_34242.pt\n"
     ]
    },
    {
     "data": {
      "application/vnd.jupyter.widget-view+json": {
       "model_id": "ead2f4055aa04f2994652c574d2e4cb3",
       "version_major": 2,
       "version_minor": 0
      },
      "text/plain": [
       "Epoch 40/50:   0%|          | 0/878 [00:00<?, ?it/s]"
      ]
     },
     "metadata": {},
     "output_type": "display_data"
    },
    {
     "name": "stderr",
     "output_type": "stream",
     "text": [
      "WARNING:root:NaN or Inf found in input tensor.\n"
     ]
    },
    {
     "name": "stdout",
     "output_type": "stream",
     "text": [
      "2022-04-06 21:08.41 [info     ] FQE_20220406210738: epoch=40 step=35120 epoch=40 metrics={'time_sample_batch': 0.00011011652631477234, 'time_algorithm_update': 0.0013012454287066274, 'loss': 0.06322086862179557, 'time_step': 0.0014624047116429497, 'init_value': -2.340385675430298, 'ave_value': -2.340653276380845, 'soft_opc': nan} step=35120\n"
     ]
    },
    {
     "name": "stderr",
     "output_type": "stream",
     "text": [
      "WARNING:root:NaN or Inf found in input tensor.\n"
     ]
    },
    {
     "name": "stdout",
     "output_type": "stream",
     "text": [
      "2022-04-06 21:08.41 [info     ] Model parameters are saved to d3rlpy_logs/FQE_20220406210738/model_35120.pt\n"
     ]
    },
    {
     "data": {
      "application/vnd.jupyter.widget-view+json": {
       "model_id": "c53fb752874943b3b8c5d37e7a3b17c1",
       "version_major": 2,
       "version_minor": 0
      },
      "text/plain": [
       "Epoch 41/50:   0%|          | 0/878 [00:00<?, ?it/s]"
      ]
     },
     "metadata": {},
     "output_type": "display_data"
    },
    {
     "name": "stderr",
     "output_type": "stream",
     "text": [
      "WARNING:root:NaN or Inf found in input tensor.\n"
     ]
    },
    {
     "name": "stdout",
     "output_type": "stream",
     "text": [
      "2022-04-06 21:08.42 [info     ] FQE_20220406210738: epoch=41 step=35998 epoch=41 metrics={'time_sample_batch': 0.00010735733362428148, 'time_algorithm_update': 0.00128861603269816, 'loss': 0.060837121938646405, 'time_step': 0.0014490299181405938, 'init_value': -2.294942617416382, 'ave_value': -2.295185546401554, 'soft_opc': nan} step=35998\n"
     ]
    },
    {
     "name": "stderr",
     "output_type": "stream",
     "text": [
      "WARNING:root:NaN or Inf found in input tensor.\n"
     ]
    },
    {
     "name": "stdout",
     "output_type": "stream",
     "text": [
      "2022-04-06 21:08.42 [info     ] Model parameters are saved to d3rlpy_logs/FQE_20220406210738/model_35998.pt\n"
     ]
    },
    {
     "data": {
      "application/vnd.jupyter.widget-view+json": {
       "model_id": "3e9385353dd94144a47270f35a1cc2af",
       "version_major": 2,
       "version_minor": 0
      },
      "text/plain": [
       "Epoch 42/50:   0%|          | 0/878 [00:00<?, ?it/s]"
      ]
     },
     "metadata": {},
     "output_type": "display_data"
    },
    {
     "name": "stderr",
     "output_type": "stream",
     "text": [
      "WARNING:root:NaN or Inf found in input tensor.\n"
     ]
    },
    {
     "name": "stdout",
     "output_type": "stream",
     "text": [
      "2022-04-06 21:08.44 [info     ] FQE_20220406210738: epoch=42 step=36876 epoch=42 metrics={'time_sample_batch': 0.0001071995646100924, 'time_algorithm_update': 0.0013039918586713578, 'loss': 0.05587460597967463, 'time_step': 0.0014607026528117325, 'init_value': -2.182204246520996, 'ave_value': -2.1824405178587662, 'soft_opc': nan} step=36876\n"
     ]
    },
    {
     "name": "stderr",
     "output_type": "stream",
     "text": [
      "WARNING:root:NaN or Inf found in input tensor.\n"
     ]
    },
    {
     "name": "stdout",
     "output_type": "stream",
     "text": [
      "2022-04-06 21:08.44 [info     ] Model parameters are saved to d3rlpy_logs/FQE_20220406210738/model_36876.pt\n"
     ]
    },
    {
     "data": {
      "application/vnd.jupyter.widget-view+json": {
       "model_id": "9f6d26e21f8b460fbaf1066c53b0b17b",
       "version_major": 2,
       "version_minor": 0
      },
      "text/plain": [
       "Epoch 43/50:   0%|          | 0/878 [00:00<?, ?it/s]"
      ]
     },
     "metadata": {},
     "output_type": "display_data"
    },
    {
     "name": "stderr",
     "output_type": "stream",
     "text": [
      "WARNING:root:NaN or Inf found in input tensor.\n"
     ]
    },
    {
     "name": "stdout",
     "output_type": "stream",
     "text": [
      "2022-04-06 21:08.45 [info     ] FQE_20220406210738: epoch=43 step=37754 epoch=43 metrics={'time_sample_batch': 0.00011310001712182117, 'time_algorithm_update': 0.0013861878857797261, 'loss': 0.05388600273942253, 'time_step': 0.001552787348458327, 'init_value': -2.2282960414886475, 'ave_value': -2.2285497464115065, 'soft_opc': nan} step=37754\n"
     ]
    },
    {
     "name": "stderr",
     "output_type": "stream",
     "text": [
      "WARNING:root:NaN or Inf found in input tensor.\n"
     ]
    },
    {
     "name": "stdout",
     "output_type": "stream",
     "text": [
      "2022-04-06 21:08.45 [info     ] Model parameters are saved to d3rlpy_logs/FQE_20220406210738/model_37754.pt\n"
     ]
    },
    {
     "data": {
      "application/vnd.jupyter.widget-view+json": {
       "model_id": "f674d583f0424c858acbe9196381ee48",
       "version_major": 2,
       "version_minor": 0
      },
      "text/plain": [
       "Epoch 44/50:   0%|          | 0/878 [00:00<?, ?it/s]"
      ]
     },
     "metadata": {},
     "output_type": "display_data"
    },
    {
     "name": "stderr",
     "output_type": "stream",
     "text": [
      "WARNING:root:NaN or Inf found in input tensor.\n"
     ]
    },
    {
     "name": "stdout",
     "output_type": "stream",
     "text": [
      "2022-04-06 21:08.47 [info     ] FQE_20220406210738: epoch=44 step=38632 epoch=44 metrics={'time_sample_batch': 0.00010920467029128368, 'time_algorithm_update': 0.0012863673490380915, 'loss': 0.05693548109269787, 'time_step': 0.0014463008672066864, 'init_value': -2.2982282638549805, 'ave_value': -2.2984854481642176, 'soft_opc': nan} step=38632\n"
     ]
    },
    {
     "name": "stderr",
     "output_type": "stream",
     "text": [
      "WARNING:root:NaN or Inf found in input tensor.\n"
     ]
    },
    {
     "name": "stdout",
     "output_type": "stream",
     "text": [
      "2022-04-06 21:08.47 [info     ] Model parameters are saved to d3rlpy_logs/FQE_20220406210738/model_38632.pt\n"
     ]
    },
    {
     "data": {
      "application/vnd.jupyter.widget-view+json": {
       "model_id": "80484bf0af8e481f961852a912949dc3",
       "version_major": 2,
       "version_minor": 0
      },
      "text/plain": [
       "Epoch 45/50:   0%|          | 0/878 [00:00<?, ?it/s]"
      ]
     },
     "metadata": {},
     "output_type": "display_data"
    },
    {
     "name": "stderr",
     "output_type": "stream",
     "text": [
      "WARNING:root:NaN or Inf found in input tensor.\n"
     ]
    },
    {
     "name": "stdout",
     "output_type": "stream",
     "text": [
      "2022-04-06 21:08.48 [info     ] FQE_20220406210738: epoch=45 step=39510 epoch=45 metrics={'time_sample_batch': 0.00010946562730098368, 'time_algorithm_update': 0.001297217838313422, 'loss': 0.05836378771983745, 'time_step': 0.001458410521574607, 'init_value': -2.2752180099487305, 'ave_value': -2.2754564463522584, 'soft_opc': nan} step=39510\n"
     ]
    },
    {
     "name": "stderr",
     "output_type": "stream",
     "text": [
      "WARNING:root:NaN or Inf found in input tensor.\n"
     ]
    },
    {
     "name": "stdout",
     "output_type": "stream",
     "text": [
      "2022-04-06 21:08.48 [info     ] Model parameters are saved to d3rlpy_logs/FQE_20220406210738/model_39510.pt\n"
     ]
    },
    {
     "data": {
      "application/vnd.jupyter.widget-view+json": {
       "model_id": "85054719a09e4db981a05fb1dc97c409",
       "version_major": 2,
       "version_minor": 0
      },
      "text/plain": [
       "Epoch 46/50:   0%|          | 0/878 [00:00<?, ?it/s]"
      ]
     },
     "metadata": {},
     "output_type": "display_data"
    },
    {
     "name": "stderr",
     "output_type": "stream",
     "text": [
      "WARNING:root:NaN or Inf found in input tensor.\n"
     ]
    },
    {
     "name": "stdout",
     "output_type": "stream",
     "text": [
      "2022-04-06 21:08.50 [info     ] FQE_20220406210738: epoch=46 step=40388 epoch=46 metrics={'time_sample_batch': 0.00010861215395916567, 'time_algorithm_update': 0.0013121027066658733, 'loss': 0.057938751499081065, 'time_step': 0.001471980286079007, 'init_value': -2.230545997619629, 'ave_value': -2.230792660452282, 'soft_opc': nan} step=40388\n"
     ]
    },
    {
     "name": "stderr",
     "output_type": "stream",
     "text": [
      "WARNING:root:NaN or Inf found in input tensor.\n"
     ]
    },
    {
     "name": "stdout",
     "output_type": "stream",
     "text": [
      "2022-04-06 21:08.50 [info     ] Model parameters are saved to d3rlpy_logs/FQE_20220406210738/model_40388.pt\n"
     ]
    },
    {
     "data": {
      "application/vnd.jupyter.widget-view+json": {
       "model_id": "9d9226db58c447ebb68ad30fca12b381",
       "version_major": 2,
       "version_minor": 0
      },
      "text/plain": [
       "Epoch 47/50:   0%|          | 0/878 [00:00<?, ?it/s]"
      ]
     },
     "metadata": {},
     "output_type": "display_data"
    },
    {
     "name": "stderr",
     "output_type": "stream",
     "text": [
      "WARNING:root:NaN or Inf found in input tensor.\n"
     ]
    },
    {
     "name": "stdout",
     "output_type": "stream",
     "text": [
      "2022-04-06 21:08.51 [info     ] FQE_20220406210738: epoch=47 step=41266 epoch=47 metrics={'time_sample_batch': 0.00010930704364472479, 'time_algorithm_update': 0.0013023905439094423, 'loss': 0.056052607877875686, 'time_step': 0.0014628432606238711, 'init_value': -2.2286648750305176, 'ave_value': -2.2289251997164476, 'soft_opc': nan} step=41266\n"
     ]
    },
    {
     "name": "stderr",
     "output_type": "stream",
     "text": [
      "WARNING:root:NaN or Inf found in input tensor.\n"
     ]
    },
    {
     "name": "stdout",
     "output_type": "stream",
     "text": [
      "2022-04-06 21:08.51 [info     ] Model parameters are saved to d3rlpy_logs/FQE_20220406210738/model_41266.pt\n"
     ]
    },
    {
     "data": {
      "application/vnd.jupyter.widget-view+json": {
       "model_id": "e50dab829d744ef18ddd653ee0ac5853",
       "version_major": 2,
       "version_minor": 0
      },
      "text/plain": [
       "Epoch 48/50:   0%|          | 0/878 [00:00<?, ?it/s]"
      ]
     },
     "metadata": {},
     "output_type": "display_data"
    },
    {
     "name": "stderr",
     "output_type": "stream",
     "text": [
      "WARNING:root:NaN or Inf found in input tensor.\n"
     ]
    },
    {
     "name": "stdout",
     "output_type": "stream",
     "text": [
      "2022-04-06 21:08.53 [info     ] FQE_20220406210738: epoch=48 step=42144 epoch=48 metrics={'time_sample_batch': 0.00010815052345293258, 'time_algorithm_update': 0.0012553479513980805, 'loss': 0.05380717061232806, 'time_step': 0.0014122548027299259, 'init_value': -2.174395799636841, 'ave_value': -2.174636870950667, 'soft_opc': nan} step=42144\n"
     ]
    },
    {
     "name": "stderr",
     "output_type": "stream",
     "text": [
      "WARNING:root:NaN or Inf found in input tensor.\n"
     ]
    },
    {
     "name": "stdout",
     "output_type": "stream",
     "text": [
      "2022-04-06 21:08.53 [info     ] Model parameters are saved to d3rlpy_logs/FQE_20220406210738/model_42144.pt\n"
     ]
    },
    {
     "data": {
      "application/vnd.jupyter.widget-view+json": {
       "model_id": "ef6fd9ab9480479daa9bd89ccb8fb2b2",
       "version_major": 2,
       "version_minor": 0
      },
      "text/plain": [
       "Epoch 49/50:   0%|          | 0/878 [00:00<?, ?it/s]"
      ]
     },
     "metadata": {},
     "output_type": "display_data"
    },
    {
     "name": "stderr",
     "output_type": "stream",
     "text": [
      "WARNING:root:NaN or Inf found in input tensor.\n"
     ]
    },
    {
     "name": "stdout",
     "output_type": "stream",
     "text": [
      "2022-04-06 21:08.54 [info     ] FQE_20220406210738: epoch=49 step=43022 epoch=49 metrics={'time_sample_batch': 0.00010769350925176181, 'time_algorithm_update': 0.0012785994653549716, 'loss': 0.05550557912277064, 'time_step': 0.0014369514917186832, 'init_value': -2.1512370109558105, 'ave_value': -2.151479514908595, 'soft_opc': nan} step=43022\n"
     ]
    },
    {
     "name": "stderr",
     "output_type": "stream",
     "text": [
      "WARNING:root:NaN or Inf found in input tensor.\n"
     ]
    },
    {
     "name": "stdout",
     "output_type": "stream",
     "text": [
      "2022-04-06 21:08.54 [info     ] Model parameters are saved to d3rlpy_logs/FQE_20220406210738/model_43022.pt\n"
     ]
    },
    {
     "data": {
      "application/vnd.jupyter.widget-view+json": {
       "model_id": "e738ae6da6b64aa793cdc42932aa368f",
       "version_major": 2,
       "version_minor": 0
      },
      "text/plain": [
       "Epoch 50/50:   0%|          | 0/878 [00:00<?, ?it/s]"
      ]
     },
     "metadata": {},
     "output_type": "display_data"
    },
    {
     "name": "stderr",
     "output_type": "stream",
     "text": [
      "WARNING:root:NaN or Inf found in input tensor.\n"
     ]
    },
    {
     "name": "stdout",
     "output_type": "stream",
     "text": [
      "2022-04-06 21:08.56 [info     ] FQE_20220406210738: epoch=50 step=43900 epoch=50 metrics={'time_sample_batch': 0.00011088554842868535, 'time_algorithm_update': 0.0013027755980611119, 'loss': 0.05379281517193776, 'time_step': 0.0014647383896256362, 'init_value': -2.247028350830078, 'ave_value': -2.247287266403565, 'soft_opc': nan} step=43900\n"
     ]
    },
    {
     "name": "stderr",
     "output_type": "stream",
     "text": [
      "WARNING:root:NaN or Inf found in input tensor.\n"
     ]
    },
    {
     "name": "stdout",
     "output_type": "stream",
     "text": [
      "2022-04-06 21:08.56 [info     ] Model parameters are saved to d3rlpy_logs/FQE_20220406210738/model_43900.pt\n"
     ]
    },
    {
     "data": {
      "text/plain": [
       "[(1,\n",
       "  {'time_sample_batch': 0.00011441077621216655,\n",
       "   'time_algorithm_update': 0.001423091714637426,\n",
       "   'loss': 0.0012160921468460657,\n",
       "   'time_step': 0.0015893791694032847,\n",
       "   'init_value': -0.48166346549987793,\n",
       "   'ave_value': -0.48177142936358197,\n",
       "   'soft_opc': nan}),\n",
       " (2,\n",
       "  {'time_sample_batch': 0.00011742630960729508,\n",
       "   'time_algorithm_update': 0.0014501519518180968,\n",
       "   'loss': 0.004580605509955626,\n",
       "   'time_step': 0.001620275827638109,\n",
       "   'init_value': -0.8132042288780212,\n",
       "   'ave_value': -0.813346434212975,\n",
       "   'soft_opc': nan}),\n",
       " (3,\n",
       "  {'time_sample_batch': 0.00010611663375194088,\n",
       "   'time_algorithm_update': 0.0013551312861518599,\n",
       "   'loss': 0.010369343410954709,\n",
       "   'time_step': 0.001508662532293715,\n",
       "   'init_value': -1.1891367435455322,\n",
       "   'ave_value': -1.1893279653407203,\n",
       "   'soft_opc': nan}),\n",
       " (4,\n",
       "  {'time_sample_batch': 0.00010223975214165272,\n",
       "   'time_algorithm_update': 0.0012770095555820335,\n",
       "   'loss': 0.016514954606140823,\n",
       "   'time_step': 0.0014186293769262919,\n",
       "   'init_value': -1.3240128755569458,\n",
       "   'ave_value': -1.3241843364374488,\n",
       "   'soft_opc': nan}),\n",
       " (5,\n",
       "  {'time_sample_batch': 0.00011217512682521533,\n",
       "   'time_algorithm_update': 0.0013975203716130355,\n",
       "   'loss': 0.021056382262657214,\n",
       "   'time_step': 0.0015564160357846757,\n",
       "   'init_value': -1.4839987754821777,\n",
       "   'ave_value': -1.4841913196435468,\n",
       "   'soft_opc': nan}),\n",
       " (6,\n",
       "  {'time_sample_batch': 0.00010780728759418044,\n",
       "   'time_algorithm_update': 0.0013895089099510384,\n",
       "   'loss': 0.02457656273003696,\n",
       "   'time_step': 0.0015430227770620707,\n",
       "   'init_value': -1.5111372470855713,\n",
       "   'ave_value': -1.511319507989146,\n",
       "   'soft_opc': nan}),\n",
       " (7,\n",
       "  {'time_sample_batch': 0.00011219630751903073,\n",
       "   'time_algorithm_update': 0.0013773406013540906,\n",
       "   'loss': 0.0270455762783429,\n",
       "   'time_step': 0.0015381408986849775,\n",
       "   'init_value': -1.638981580734253,\n",
       "   'ave_value': -1.6392109259674825,\n",
       "   'soft_opc': nan}),\n",
       " (8,\n",
       "  {'time_sample_batch': 0.00011371914509488672,\n",
       "   'time_algorithm_update': 0.0013882858606568773,\n",
       "   'loss': 0.03107505308242808,\n",
       "   'time_step': 0.0015489881293920286,\n",
       "   'init_value': -1.7358195781707764,\n",
       "   'ave_value': -1.7360410706074756,\n",
       "   'soft_opc': nan}),\n",
       " (9,\n",
       "  {'time_sample_batch': 0.0001123820459109504,\n",
       "   'time_algorithm_update': 0.0013704881038100953,\n",
       "   'loss': 0.033631655646278805,\n",
       "   'time_step': 0.0015326002464207539,\n",
       "   'init_value': -1.8400720357894897,\n",
       "   'ave_value': -1.8403201358022534,\n",
       "   'soft_opc': nan}),\n",
       " (10,\n",
       "  {'time_sample_batch': 0.00011328276849281815,\n",
       "   'time_algorithm_update': 0.001355024568040713,\n",
       "   'loss': 0.03863802308645608,\n",
       "   'time_step': 0.0015188390410299454,\n",
       "   'init_value': -1.955252766609192,\n",
       "   'ave_value': -1.9554760425900855,\n",
       "   'soft_opc': nan}),\n",
       " (11,\n",
       "  {'time_sample_batch': 0.00010978822556063363,\n",
       "   'time_algorithm_update': 0.0013943576595506256,\n",
       "   'loss': 0.04161569715207885,\n",
       "   'time_step': 0.0015515971563943155,\n",
       "   'init_value': -1.9574847221374512,\n",
       "   'ave_value': -1.9577400242768805,\n",
       "   'soft_opc': nan}),\n",
       " (12,\n",
       "  {'time_sample_batch': 0.00011433637223645604,\n",
       "   'time_algorithm_update': 0.0014855679727089433,\n",
       "   'loss': 0.04204821414470751,\n",
       "   'time_step': 0.0016498649853508673,\n",
       "   'init_value': -2.0717697143554688,\n",
       "   'ave_value': -2.072038046663674,\n",
       "   'soft_opc': nan}),\n",
       " (13,\n",
       "  {'time_sample_batch': 0.0001103019931593354,\n",
       "   'time_algorithm_update': 0.00134489232152361,\n",
       "   'loss': 0.0431493878667982,\n",
       "   'time_step': 0.001504068494114626,\n",
       "   'init_value': -1.9922022819519043,\n",
       "   'ave_value': -1.9924882210569386,\n",
       "   'soft_opc': nan}),\n",
       " (14,\n",
       "  {'time_sample_batch': 0.00011931790849342433,\n",
       "   'time_algorithm_update': 0.0014310920428578023,\n",
       "   'loss': 0.044116638565871835,\n",
       "   'time_step': 0.0016057477725122404,\n",
       "   'init_value': -2.0568687915802,\n",
       "   'ave_value': -2.0571716389654124,\n",
       "   'soft_opc': nan}),\n",
       " (15,\n",
       "  {'time_sample_batch': 0.00011035575953594373,\n",
       "   'time_algorithm_update': 0.001312759036626794,\n",
       "   'loss': 0.04706477951954278,\n",
       "   'time_step': 0.0014730751650208493,\n",
       "   'init_value': -2.131348133087158,\n",
       "   'ave_value': -2.13165755924088,\n",
       "   'soft_opc': nan}),\n",
       " (16,\n",
       "  {'time_sample_batch': 0.00011658695672802067,\n",
       "   'time_algorithm_update': 0.0014514624393610856,\n",
       "   'loss': 0.04689963183631094,\n",
       "   'time_step': 0.0016213943311999763,\n",
       "   'init_value': -2.1570379734039307,\n",
       "   'ave_value': -2.1573657027868474,\n",
       "   'soft_opc': nan}),\n",
       " (17,\n",
       "  {'time_sample_batch': 0.00011361405626787954,\n",
       "   'time_algorithm_update': 0.001349180325831802,\n",
       "   'loss': 0.04980500104289119,\n",
       "   'time_step': 0.0015144644131149952,\n",
       "   'init_value': -2.1130576133728027,\n",
       "   'ave_value': -2.113394008915229,\n",
       "   'soft_opc': nan}),\n",
       " (18,\n",
       "  {'time_sample_batch': 0.0001136686372865577,\n",
       "   'time_algorithm_update': 0.0013884631810807421,\n",
       "   'loss': 0.047973340375674335,\n",
       "   'time_step': 0.001553461600544784,\n",
       "   'init_value': -2.096942901611328,\n",
       "   'ave_value': -2.097263014731796,\n",
       "   'soft_opc': nan}),\n",
       " (19,\n",
       "  {'time_sample_batch': 0.00010638600872969573,\n",
       "   'time_algorithm_update': 0.001343217145880697,\n",
       "   'loss': 0.04587532281870887,\n",
       "   'time_step': 0.001497316740639932,\n",
       "   'init_value': -2.045405626296997,\n",
       "   'ave_value': -2.0457155897969725,\n",
       "   'soft_opc': nan}),\n",
       " (20,\n",
       "  {'time_sample_batch': 0.00010427391339000103,\n",
       "   'time_algorithm_update': 0.0013430762128026177,\n",
       "   'loss': 0.04700227192249231,\n",
       "   'time_step': 0.0014925182273013173,\n",
       "   'init_value': -2.10949444770813,\n",
       "   'ave_value': -2.1098272289633453,\n",
       "   'soft_opc': nan}),\n",
       " (21,\n",
       "  {'time_sample_batch': 0.00010523220401146961,\n",
       "   'time_algorithm_update': 0.001311143601402335,\n",
       "   'loss': 0.04952541519700377,\n",
       "   'time_step': 0.001462481287997513,\n",
       "   'init_value': -2.2521586418151855,\n",
       "   'ave_value': -2.2525230894789843,\n",
       "   'soft_opc': nan}),\n",
       " (22,\n",
       "  {'time_sample_batch': 0.00010259656536823525,\n",
       "   'time_algorithm_update': 0.0013295724343058732,\n",
       "   'loss': 0.052713522681173394,\n",
       "   'time_step': 0.0014780056503747754,\n",
       "   'init_value': -2.261894941329956,\n",
       "   'ave_value': -2.26227576449043,\n",
       "   'soft_opc': nan}),\n",
       " (23,\n",
       "  {'time_sample_batch': 0.00010387419568107448,\n",
       "   'time_algorithm_update': 0.0013150424783485081,\n",
       "   'loss': 0.05562426671948533,\n",
       "   'time_step': 0.0014645741034748886,\n",
       "   'init_value': -2.2431588172912598,\n",
       "   'ave_value': -2.2435078118198097,\n",
       "   'soft_opc': nan}),\n",
       " (24,\n",
       "  {'time_sample_batch': 0.00010560015067967304,\n",
       "   'time_algorithm_update': 0.0013548401873855764,\n",
       "   'loss': 0.055636593598686564,\n",
       "   'time_step': 0.0015070014771133458,\n",
       "   'init_value': -2.291595935821533,\n",
       "   'ave_value': -2.2919542392904884,\n",
       "   'soft_opc': nan}),\n",
       " (25,\n",
       "  {'time_sample_batch': 0.00010742956522113913,\n",
       "   'time_algorithm_update': 0.0013616448925948088,\n",
       "   'loss': 0.05705685995718529,\n",
       "   'time_step': 0.0015151870006309283,\n",
       "   'init_value': -2.289217233657837,\n",
       "   'ave_value': -2.2895522486036626,\n",
       "   'soft_opc': nan}),\n",
       " (26,\n",
       "  {'time_sample_batch': 0.00010597841614742757,\n",
       "   'time_algorithm_update': 0.0013507908732038425,\n",
       "   'loss': 0.05373092050016865,\n",
       "   'time_step': 0.0015030610534216113,\n",
       "   'init_value': -2.2778213024139404,\n",
       "   'ave_value': -2.278166347970758,\n",
       "   'soft_opc': nan}),\n",
       " (27,\n",
       "  {'time_sample_batch': 0.00010707030806834713,\n",
       "   'time_algorithm_update': 0.0013497163603137458,\n",
       "   'loss': 0.05490457079743181,\n",
       "   'time_step': 0.00150424988774884,\n",
       "   'init_value': -2.276827812194824,\n",
       "   'ave_value': -2.277165536118703,\n",
       "   'soft_opc': nan}),\n",
       " (28,\n",
       "  {'time_sample_batch': 0.00010456501215628448,\n",
       "   'time_algorithm_update': 0.0013566896964314315,\n",
       "   'loss': 0.05571037207755373,\n",
       "   'time_step': 0.0015068075923007278,\n",
       "   'init_value': -2.3336145877838135,\n",
       "   'ave_value': -2.3339579961986416,\n",
       "   'soft_opc': nan}),\n",
       " (29,\n",
       "  {'time_sample_batch': 0.00010177540616185356,\n",
       "   'time_algorithm_update': 0.0012858924127113847,\n",
       "   'loss': 0.060448611191643985,\n",
       "   'time_step': 0.0014320188339859044,\n",
       "   'init_value': -2.4159975051879883,\n",
       "   'ave_value': -2.416374315336227,\n",
       "   'soft_opc': nan}),\n",
       " (30,\n",
       "  {'time_sample_batch': 0.00010422177629753235,\n",
       "   'time_algorithm_update': 0.0013066391738509263,\n",
       "   'loss': 0.06361026641257955,\n",
       "   'time_step': 0.0014565925120221183,\n",
       "   'init_value': -2.415923595428467,\n",
       "   'ave_value': -2.4162769447705847,\n",
       "   'soft_opc': nan}),\n",
       " (31,\n",
       "  {'time_sample_batch': 0.00010630318678593038,\n",
       "   'time_algorithm_update': 0.0013834596494878887,\n",
       "   'loss': 0.06538178606461854,\n",
       "   'time_step': 0.0015367310248094702,\n",
       "   'init_value': -2.465179681777954,\n",
       "   'ave_value': -2.4655199818525397,\n",
       "   'soft_opc': nan}),\n",
       " (32,\n",
       "  {'time_sample_batch': 0.00010201002307796262,\n",
       "   'time_algorithm_update': 0.0012140200730065278,\n",
       "   'loss': 0.0663549472095991,\n",
       "   'time_step': 0.0013615368167468791,\n",
       "   'init_value': -2.4906489849090576,\n",
       "   'ave_value': -2.4910368365956783,\n",
       "   'soft_opc': nan}),\n",
       " (33,\n",
       "  {'time_sample_batch': 0.000101431084113675,\n",
       "   'time_algorithm_update': 0.0012694874222566434,\n",
       "   'loss': 0.06671217458582705,\n",
       "   'time_step': 0.0014155595340598418,\n",
       "   'init_value': -2.524453639984131,\n",
       "   'ave_value': -2.524863601227669,\n",
       "   'soft_opc': nan}),\n",
       " (34,\n",
       "  {'time_sample_batch': 0.00010597488603179166,\n",
       "   'time_algorithm_update': 0.0013537173390660035,\n",
       "   'loss': 0.06453512905011316,\n",
       "   'time_step': 0.0015060187472297824,\n",
       "   'init_value': -2.4035935401916504,\n",
       "   'ave_value': -2.4039949064383923,\n",
       "   'soft_opc': nan}),\n",
       " (35,\n",
       "  {'time_sample_batch': 0.00010949413977342748,\n",
       "   'time_algorithm_update': 0.00138328422989552,\n",
       "   'loss': 0.0609761889832841,\n",
       "   'time_step': 0.0015412235042771881,\n",
       "   'init_value': -2.4128823280334473,\n",
       "   'ave_value': -2.4132125466534173,\n",
       "   'soft_opc': nan}),\n",
       " (36,\n",
       "  {'time_sample_batch': 0.00012033403870185035,\n",
       "   'time_algorithm_update': 0.0015147066333570892,\n",
       "   'loss': 0.06328373947955307,\n",
       "   'time_step': 0.0016907263453837678,\n",
       "   'init_value': -2.3309714794158936,\n",
       "   'ave_value': -2.3313020162080873,\n",
       "   'soft_opc': nan}),\n",
       " (37,\n",
       "  {'time_sample_batch': 0.00011358988855314146,\n",
       "   'time_algorithm_update': 0.0014304585228748364,\n",
       "   'loss': 0.0592149725890234,\n",
       "   'time_step': 0.0015990611904031324,\n",
       "   'init_value': -2.2976889610290527,\n",
       "   'ave_value': -2.297997024491596,\n",
       "   'soft_opc': nan}),\n",
       " (38,\n",
       "  {'time_sample_batch': 0.00011191199743666247,\n",
       "   'time_algorithm_update': 0.00139888082386964,\n",
       "   'loss': 0.05836308227111314,\n",
       "   'time_step': 0.0015636427255860765,\n",
       "   'init_value': -2.306408166885376,\n",
       "   'ave_value': -2.30673457320015,\n",
       "   'soft_opc': nan}),\n",
       " (39,\n",
       "  {'time_sample_batch': 0.0001117224573817503,\n",
       "   'time_algorithm_update': 0.0013509119833248894,\n",
       "   'loss': 0.05845025653407759,\n",
       "   'time_step': 0.001513544682218165,\n",
       "   'init_value': -2.3161301612854004,\n",
       "   'ave_value': -2.3164143079799246,\n",
       "   'soft_opc': nan}),\n",
       " (40,\n",
       "  {'time_sample_batch': 0.00011011652631477234,\n",
       "   'time_algorithm_update': 0.0013012454287066274,\n",
       "   'loss': 0.06322086862179557,\n",
       "   'time_step': 0.0014624047116429497,\n",
       "   'init_value': -2.340385675430298,\n",
       "   'ave_value': -2.340653276380845,\n",
       "   'soft_opc': nan}),\n",
       " (41,\n",
       "  {'time_sample_batch': 0.00010735733362428148,\n",
       "   'time_algorithm_update': 0.00128861603269816,\n",
       "   'loss': 0.060837121938646405,\n",
       "   'time_step': 0.0014490299181405938,\n",
       "   'init_value': -2.294942617416382,\n",
       "   'ave_value': -2.295185546401554,\n",
       "   'soft_opc': nan}),\n",
       " (42,\n",
       "  {'time_sample_batch': 0.0001071995646100924,\n",
       "   'time_algorithm_update': 0.0013039918586713578,\n",
       "   'loss': 0.05587460597967463,\n",
       "   'time_step': 0.0014607026528117325,\n",
       "   'init_value': -2.182204246520996,\n",
       "   'ave_value': -2.1824405178587662,\n",
       "   'soft_opc': nan}),\n",
       " (43,\n",
       "  {'time_sample_batch': 0.00011310001712182117,\n",
       "   'time_algorithm_update': 0.0013861878857797261,\n",
       "   'loss': 0.05388600273942253,\n",
       "   'time_step': 0.001552787348458327,\n",
       "   'init_value': -2.2282960414886475,\n",
       "   'ave_value': -2.2285497464115065,\n",
       "   'soft_opc': nan}),\n",
       " (44,\n",
       "  {'time_sample_batch': 0.00010920467029128368,\n",
       "   'time_algorithm_update': 0.0012863673490380915,\n",
       "   'loss': 0.05693548109269787,\n",
       "   'time_step': 0.0014463008672066864,\n",
       "   'init_value': -2.2982282638549805,\n",
       "   'ave_value': -2.2984854481642176,\n",
       "   'soft_opc': nan}),\n",
       " (45,\n",
       "  {'time_sample_batch': 0.00010946562730098368,\n",
       "   'time_algorithm_update': 0.001297217838313422,\n",
       "   'loss': 0.05836378771983745,\n",
       "   'time_step': 0.001458410521574607,\n",
       "   'init_value': -2.2752180099487305,\n",
       "   'ave_value': -2.2754564463522584,\n",
       "   'soft_opc': nan}),\n",
       " (46,\n",
       "  {'time_sample_batch': 0.00010861215395916567,\n",
       "   'time_algorithm_update': 0.0013121027066658733,\n",
       "   'loss': 0.057938751499081065,\n",
       "   'time_step': 0.001471980286079007,\n",
       "   'init_value': -2.230545997619629,\n",
       "   'ave_value': -2.230792660452282,\n",
       "   'soft_opc': nan}),\n",
       " (47,\n",
       "  {'time_sample_batch': 0.00010930704364472479,\n",
       "   'time_algorithm_update': 0.0013023905439094423,\n",
       "   'loss': 0.056052607877875686,\n",
       "   'time_step': 0.0014628432606238711,\n",
       "   'init_value': -2.2286648750305176,\n",
       "   'ave_value': -2.2289251997164476,\n",
       "   'soft_opc': nan}),\n",
       " (48,\n",
       "  {'time_sample_batch': 0.00010815052345293258,\n",
       "   'time_algorithm_update': 0.0012553479513980805,\n",
       "   'loss': 0.05380717061232806,\n",
       "   'time_step': 0.0014122548027299259,\n",
       "   'init_value': -2.174395799636841,\n",
       "   'ave_value': -2.174636870950667,\n",
       "   'soft_opc': nan}),\n",
       " (49,\n",
       "  {'time_sample_batch': 0.00010769350925176181,\n",
       "   'time_algorithm_update': 0.0012785994653549716,\n",
       "   'loss': 0.05550557912277064,\n",
       "   'time_step': 0.0014369514917186832,\n",
       "   'init_value': -2.1512370109558105,\n",
       "   'ave_value': -2.151479514908595,\n",
       "   'soft_opc': nan}),\n",
       " (50,\n",
       "  {'time_sample_batch': 0.00011088554842868535,\n",
       "   'time_algorithm_update': 0.0013027755980611119,\n",
       "   'loss': 0.05379281517193776,\n",
       "   'time_step': 0.0014647383896256362,\n",
       "   'init_value': -2.247028350830078,\n",
       "   'ave_value': -2.247287266403565,\n",
       "   'soft_opc': nan})]"
      ]
     },
     "execution_count": 55,
     "metadata": {},
     "output_type": "execute_result"
    }
   ],
   "source": [
    "from d3rlpy.ope import FQE\n",
    "# metrics to evaluate with\n",
    "from d3rlpy.metrics.scorer import soft_opc_scorer\n",
    "\n",
    "ope_dataset = get_dataset([2,4,6,8], path=\"collected_data/rl_stoch_small.txt\") #change if you'd prefer different chunks\n",
    "ope_train_episodes, ope_test_episodes = train_test_split(ope_dataset, test_size=0.2)\n",
    "\n",
    "fqe = FQE(algo=model, use_gpu=False) #change this if you have one!\n",
    "fqe.fit(ope_train_episodes, eval_episodes=ope_test_episodes, \n",
    "        tensorboard_dir='runs',\n",
    "        n_epochs=50, n_steps_per_epoch=1000, #change if overfitting/underfitting\n",
    "        scorers={\n",
    "           'init_value': initial_state_value_estimation_scorer,\n",
    "            'ave_value': average_value_estimation_scorer,\n",
    "           'soft_opc': soft_opc_scorer(return_threshold=0)\n",
    "        })"
   ]
  }
 ],
 "metadata": {
  "kernelspec": {
   "display_name": "Python 3 (ipykernel)",
   "language": "python",
   "name": "python3"
  },
  "language_info": {
   "codemirror_mode": {
    "name": "ipython",
    "version": 3
   },
   "file_extension": ".py",
   "mimetype": "text/x-python",
   "name": "python",
   "nbconvert_exporter": "python",
   "pygments_lexer": "ipython3",
   "version": "3.9.7"
  }
 },
 "nbformat": 4,
 "nbformat_minor": 5
}
