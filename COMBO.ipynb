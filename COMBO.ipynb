{
 "cells": [
  {
   "cell_type": "markdown",
   "id": "aaf5d2db-5453-469c-9357-c37dedea7e89",
   "metadata": {},
   "source": [
    "# Sample Workflow for d3rlpy Experiments"
   ]
  },
  {
   "cell_type": "code",
   "execution_count": 1,
   "id": "bfb6706a-eaec-4154-be04-e2b7c168479a",
   "metadata": {},
   "outputs": [],
   "source": [
    "import numpy as np\n",
    "import pandas as pd\n",
    "import matplotlib.pyplot as plt\n",
    "import itertools\n",
    "import math\n",
    "import subprocess\n",
    "import os\n",
    "import d3rlpy\n",
    "plt.style.use('matplotlibrc')\n",
    "\n",
    "from Python.data_sampler import *"
   ]
  },
  {
   "cell_type": "markdown",
   "id": "361d8a2f-129e-4b9c-81cd-55314fabeabd",
   "metadata": {},
   "source": [
    "## Building an MDPDataset\n",
    "\n",
    "We first read in a large batch of samples from the file. As `d3rlpy` wants it in the form (observations, actions, rewards, terminal flags), we go ahead and do that. Here's a helper function to get a dataset from a list of chunks of your choosing."
   ]
  },
  {
   "cell_type": "code",
   "execution_count": 2,
   "id": "3456d718-b8bb-460f-a429-9d99633145f7",
   "metadata": {},
   "outputs": [],
   "source": [
    "def get_dataset(chunks : list, batch_size=30000, \n",
    "                path=\"collected_data/rl_det_small.txt\") -> d3rlpy.dataset.MDPDataset :\n",
    "    random.seed(0)\n",
    "    samples = DataSampler(path_to_data=path)\n",
    "    states = []\n",
    "    actions = []\n",
    "    rewards = []\n",
    "    next_states = []\n",
    "    for chunk in chunks:\n",
    "        samples.use_chunk(chunk)\n",
    "        samples.read_chunk()\n",
    "        [statesChunk, actionsChunk, rewardsChunk, nextStatesChunk] = samples.get_batch(batch_size)\n",
    "        states.append(statesChunk)\n",
    "        actions.append(actionsChunk)\n",
    "        rewards.append(rewardsChunk)\n",
    "        next_states.append(nextStatesChunk)\n",
    "    states = torch.cat(states)\n",
    "    actions = torch.cat(actions)\n",
    "    rewards = torch.cat(rewards)\n",
    "    next_states = torch.cat(next_states)\n",
    "    terminals = np.zeros(len(states))\n",
    "    terminals[::100] = 1 #episode length 100, change if necessary\n",
    "    print(states.shape)\n",
    "    dataset = d3rlpy.dataset.MDPDataset(states.numpy(), \n",
    "                                        actions.numpy(), \n",
    "                                        rewards.numpy(), terminals)\n",
    "    return dataset"
   ]
  },
  {
   "cell_type": "markdown",
   "id": "eeaff27f-fd9a-4ad2-81c6-fca5f5fe6ce9",
   "metadata": {},
   "source": [
    "We can build the dataset from there, just like this, and split into train and test sets."
   ]
  },
  {
   "cell_type": "code",
   "execution_count": 3,
   "id": "f543168b-2603-47ed-bff8-d0bafb40bb0f",
   "metadata": {},
   "outputs": [
    {
     "name": "stdout",
     "output_type": "stream",
     "text": [
      "[ 0.00000000e+00  7.95731469e+08 -8.17891077e-02 -1.19999531e-03\n",
      "  7.39998658e-03  0.00000000e+00 -5.33423489e+00 -1.57091618e+00\n",
      "  2.09713430e-01 -2.63658359e-01  6.00000000e-01]\n",
      "Read chunk # 4 out of 10000\n",
      "[ 0.00000000e+00  7.95731469e+08  1.24610892e-01  2.40000469e-03\n",
      " -7.60001342e-03  0.00000000e+00 -5.33423489e+00 -1.57091618e+00\n",
      " -2.20016566e-01  3.79282423e-01 -6.00000000e-01]\n",
      "Read chunk # 6 out of 10000\n",
      "[ 0.00000000e+00  7.95731469e+08 -9.01891077e-02  1.08000047e-02\n",
      "  3.99986580e-04  0.00000000e+00 -5.33423489e+00 -1.57091618e+00\n",
      " -3.17973088e-02 -2.40776052e-01  6.00000000e-01]\n",
      "Read chunk # 8 out of 10000\n",
      "[ 0.00000000e+00  7.95731469e+08  6.91108923e-02 -5.99999531e-03\n",
      " -6.00001342e-03  0.00000000e+00 -5.33423489e+00 -1.57091618e+00\n",
      " -1.42355434e-01  2.22081792e-01 -6.00000000e-01]\n",
      "Read chunk # 10 out of 10000\n",
      "torch.Size([111080, 6])\n"
     ]
    }
   ],
   "source": [
    "dataset = get_dataset([3,5,7,9], path=\"collected_data/rl_det_small.txt\")"
   ]
  },
  {
   "cell_type": "code",
   "execution_count": 4,
   "id": "8014463e-ab16-4498-ae33-63b91854534c",
   "metadata": {},
   "outputs": [
    {
     "name": "stdout",
     "output_type": "stream",
     "text": [
      "The behavior policy value statistics are:\n"
     ]
    },
    {
     "data": {
      "text/plain": [
       "{'mean': -4.1227446,\n",
       " 'std': 2.4676569,\n",
       " 'min': -12.578855,\n",
       " 'max': 0.0,\n",
       " 'histogram': (array([ 26,   9,   7,   7,   8,   7,  10,  13,  27,  54,  56,  73, 109,\n",
       "          84, 186, 148, 124,  83,  67,  13]),\n",
       "  array([-12.578855 , -11.949912 , -11.320969 , -10.692026 , -10.063084 ,\n",
       "          -9.434141 ,  -8.805199 ,  -8.176255 ,  -7.5473127,  -6.9183702,\n",
       "          -6.2894273,  -5.6604843,  -5.031542 ,  -4.4025993,  -3.7736564,\n",
       "          -3.1447136,  -2.515771 ,  -1.8868282,  -1.2578855,  -0.6289427,\n",
       "           0.       ], dtype=float32))}"
      ]
     },
     "execution_count": 4,
     "metadata": {},
     "output_type": "execute_result"
    }
   ],
   "source": [
    "print(\"The behavior policy value statistics are:\")\n",
    "dataset.compute_stats()['return']"
   ]
  },
  {
   "cell_type": "code",
   "execution_count": 5,
   "id": "f051bee1-1f8b-4acc-a658-d80a5b4df54b",
   "metadata": {},
   "outputs": [],
   "source": [
    "from sklearn.model_selection import train_test_split\n",
    "train_episodes, test_episodes = train_test_split(dataset, test_size=0.2)"
   ]
  },
  {
   "cell_type": "markdown",
   "id": "1025ba17-f95f-426b-adc1-9312e5e180fa",
   "metadata": {},
   "source": [
    "## Setting up an Algorithm"
   ]
  },
  {
   "cell_type": "code",
   "execution_count": 6,
   "id": "f5ef782b-6847-4fa4-8d95-3fa8904866bb",
   "metadata": {},
   "outputs": [
    {
     "name": "stdout",
     "output_type": "stream",
     "text": [
      "2022-04-07 19:44.08 [debug    ] RoundIterator is selected.\n",
      "2022-04-07 19:44.08 [info     ] Directory is created at d3rlpy_logs/ProbabilisticEnsembleDynamics_20220407194408\n",
      "2022-04-07 19:44.08 [debug    ] Building models...\n",
      "2022-04-07 19:44.08 [debug    ] Models have been built.\n",
      "2022-04-07 19:44.08 [info     ] Parameters are saved to d3rlpy_logs/ProbabilisticEnsembleDynamics_20220407194408/params.json params={'action_scaler': None, 'batch_size': 100, 'discrete_action': False, 'encoder_factory': {'type': 'default', 'params': {'activation': 'relu', 'use_batch_norm': False, 'dropout_rate': None}}, 'gamma': 1.0, 'generated_maxlen': 100000, 'learning_rate': 0.0001, 'n_ensembles': 5, 'n_frames': 1, 'n_steps': 1, 'optim_factory': {'optim_cls': 'Adam', 'betas': (0.9, 0.999), 'eps': 1e-08, 'weight_decay': 0.0001, 'amsgrad': False}, 'real_ratio': 1.0, 'reward_scaler': None, 'scaler': None, 'use_gpu': None, 'variance_type': 'max', 'algorithm': 'ProbabilisticEnsembleDynamics', 'observation_shape': (6,), 'action_size': 3}\n"
     ]
    },
    {
     "data": {
      "application/vnd.jupyter.widget-view+json": {
       "model_id": "9283cca4592348b2ae98c2257cbea30b",
       "version_major": 2,
       "version_minor": 0
      },
      "text/plain": [
       "Epoch 1/15:   0%|          | 0/878 [00:00<?, ?it/s]"
      ]
     },
     "metadata": {},
     "output_type": "display_data"
    },
    {
     "name": "stdout",
     "output_type": "stream",
     "text": [
      "2022-04-07 19:44.15 [info     ] ProbabilisticEnsembleDynamics_20220407194408: epoch=1 step=878 epoch=1 metrics={'time_sample_batch': 0.00017330478155531482, 'time_algorithm_update': 0.007003860756042064, 'loss': -140.08404518904882, 'time_step': 0.007243874947411052, 'observation_error': 0.003597034412639334, 'reward_error': 0.00011350073554916066, 'variance': 3.1100626179800764e-08} step=878\n",
      "2022-04-07 19:44.15 [info     ] Model parameters are saved to d3rlpy_logs/ProbabilisticEnsembleDynamics_20220407194408/model_878.pt\n"
     ]
    },
    {
     "data": {
      "application/vnd.jupyter.widget-view+json": {
       "model_id": "9cea36f636664a3c93ee69432846a98e",
       "version_major": 2,
       "version_minor": 0
      },
      "text/plain": [
       "Epoch 2/15:   0%|          | 0/878 [00:00<?, ?it/s]"
      ]
     },
     "metadata": {},
     "output_type": "display_data"
    },
    {
     "name": "stdout",
     "output_type": "stream",
     "text": [
      "2022-04-07 19:44.23 [info     ] ProbabilisticEnsembleDynamics_20220407194408: epoch=2 step=1756 epoch=2 metrics={'time_sample_batch': 0.00016093851493540005, 'time_algorithm_update': 0.0073113324701921814, 'loss': -164.6129103032766, 'time_step': 0.007528732197702882, 'observation_error': 0.0036057853225010387, 'reward_error': 8.001452038873771e-05, 'variance': 4.161028056893669e-08} step=1756\n",
      "2022-04-07 19:44.23 [info     ] Model parameters are saved to d3rlpy_logs/ProbabilisticEnsembleDynamics_20220407194408/model_1756.pt\n"
     ]
    },
    {
     "data": {
      "application/vnd.jupyter.widget-view+json": {
       "model_id": "e1c56f2039194d8ab5169546c437e563",
       "version_major": 2,
       "version_minor": 0
      },
      "text/plain": [
       "Epoch 3/15:   0%|          | 0/878 [00:00<?, ?it/s]"
      ]
     },
     "metadata": {},
     "output_type": "display_data"
    },
    {
     "name": "stdout",
     "output_type": "stream",
     "text": [
      "2022-04-07 19:44.31 [info     ] ProbabilisticEnsembleDynamics_20220407194408: epoch=3 step=2634 epoch=3 metrics={'time_sample_batch': 0.00016076146605889183, 'time_algorithm_update': 0.007144571708383756, 'loss': -161.71328518982628, 'time_step': 0.007364843049190582, 'observation_error': 0.0035862366632322747, 'reward_error': 5.786977457846211e-05, 'variance': 2.992409110233798e-08} step=2634\n",
      "2022-04-07 19:44.31 [info     ] Model parameters are saved to d3rlpy_logs/ProbabilisticEnsembleDynamics_20220407194408/model_2634.pt\n"
     ]
    },
    {
     "data": {
      "application/vnd.jupyter.widget-view+json": {
       "model_id": "d1939bc59eec4b86b61dd1c4491bc5e4",
       "version_major": 2,
       "version_minor": 0
      },
      "text/plain": [
       "Epoch 4/15:   0%|          | 0/878 [00:00<?, ?it/s]"
      ]
     },
     "metadata": {},
     "output_type": "display_data"
    },
    {
     "name": "stdout",
     "output_type": "stream",
     "text": [
      "2022-04-07 19:44.38 [info     ] ProbabilisticEnsembleDynamics_20220407194408: epoch=4 step=3512 epoch=4 metrics={'time_sample_batch': 0.00016010323526647477, 'time_algorithm_update': 0.007239456871919046, 'loss': -164.65674146161265, 'time_step': 0.007457986236433233, 'observation_error': 0.0035849933537923226, 'reward_error': 3.727671593120483e-05, 'variance': 8.403178537046327e-08} step=3512\n",
      "2022-04-07 19:44.38 [info     ] Model parameters are saved to d3rlpy_logs/ProbabilisticEnsembleDynamics_20220407194408/model_3512.pt\n"
     ]
    },
    {
     "data": {
      "application/vnd.jupyter.widget-view+json": {
       "model_id": "b574a734751c479e9db6315c2cf92ee2",
       "version_major": 2,
       "version_minor": 0
      },
      "text/plain": [
       "Epoch 5/15:   0%|          | 0/878 [00:00<?, ?it/s]"
      ]
     },
     "metadata": {},
     "output_type": "display_data"
    },
    {
     "name": "stdout",
     "output_type": "stream",
     "text": [
      "2022-04-07 19:44.47 [info     ] ProbabilisticEnsembleDynamics_20220407194408: epoch=5 step=4390 epoch=5 metrics={'time_sample_batch': 0.00016385466199801018, 'time_algorithm_update': 0.007982208136817047, 'loss': -172.29039628847858, 'time_step': 0.00819869980996725, 'observation_error': 0.0035839558344196013, 'reward_error': 2.2107950144275087e-05, 'variance': 1.3393104684787874e-08} step=4390\n",
      "2022-04-07 19:44.47 [info     ] Model parameters are saved to d3rlpy_logs/ProbabilisticEnsembleDynamics_20220407194408/model_4390.pt\n"
     ]
    },
    {
     "data": {
      "application/vnd.jupyter.widget-view+json": {
       "model_id": "2458b2f7bf4b4757aecb10a6c34a8334",
       "version_major": 2,
       "version_minor": 0
      },
      "text/plain": [
       "Epoch 6/15:   0%|          | 0/878 [00:00<?, ?it/s]"
      ]
     },
     "metadata": {},
     "output_type": "display_data"
    },
    {
     "name": "stdout",
     "output_type": "stream",
     "text": [
      "2022-04-07 19:44.55 [info     ] ProbabilisticEnsembleDynamics_20220407194408: epoch=6 step=5268 epoch=6 metrics={'time_sample_batch': 0.000159385264055604, 'time_algorithm_update': 0.00789051419781661, 'loss': -170.9022683076272, 'time_step': 0.008102068325381616, 'observation_error': 0.0035863112619882887, 'reward_error': 2.201742639263548e-05, 'variance': 2.9097927006437368e-08} step=5268\n",
      "2022-04-07 19:44.55 [info     ] Model parameters are saved to d3rlpy_logs/ProbabilisticEnsembleDynamics_20220407194408/model_5268.pt\n"
     ]
    },
    {
     "data": {
      "application/vnd.jupyter.widget-view+json": {
       "model_id": "dddd9e95f35a4d4f87db0cdab1be6ba8",
       "version_major": 2,
       "version_minor": 0
      },
      "text/plain": [
       "Epoch 7/15:   0%|          | 0/878 [00:00<?, ?it/s]"
      ]
     },
     "metadata": {},
     "output_type": "display_data"
    },
    {
     "name": "stdout",
     "output_type": "stream",
     "text": [
      "2022-04-07 19:45.03 [info     ] ProbabilisticEnsembleDynamics_20220407194408: epoch=7 step=6146 epoch=7 metrics={'time_sample_batch': 0.0001638131152524492, 'time_algorithm_update': 0.007787190157080023, 'loss': -169.62003718313161, 'time_step': 0.008013030119528803, 'observation_error': 0.0035794479740400053, 'reward_error': 1.014369759638752e-05, 'variance': 1.3183783160493192e-08} step=6146\n",
      "2022-04-07 19:45.03 [info     ] Model parameters are saved to d3rlpy_logs/ProbabilisticEnsembleDynamics_20220407194408/model_6146.pt\n"
     ]
    },
    {
     "data": {
      "application/vnd.jupyter.widget-view+json": {
       "model_id": "aee72ba2520e40f6abb6154eebfeff84",
       "version_major": 2,
       "version_minor": 0
      },
      "text/plain": [
       "Epoch 8/15:   0%|          | 0/878 [00:00<?, ?it/s]"
      ]
     },
     "metadata": {},
     "output_type": "display_data"
    },
    {
     "name": "stdout",
     "output_type": "stream",
     "text": [
      "2022-04-07 19:45.12 [info     ] ProbabilisticEnsembleDynamics_20220407194408: epoch=8 step=7024 epoch=8 metrics={'time_sample_batch': 0.00016558984960673339, 'time_algorithm_update': 0.008285850218596926, 'loss': -175.54436600669914, 'time_step': 0.008511773546084185, 'observation_error': 0.0035781162439631536, 'reward_error': 6.245822041419959e-06, 'variance': 2.3651391267504215e-08} step=7024\n",
      "2022-04-07 19:45.12 [info     ] Model parameters are saved to d3rlpy_logs/ProbabilisticEnsembleDynamics_20220407194408/model_7024.pt\n"
     ]
    },
    {
     "data": {
      "application/vnd.jupyter.widget-view+json": {
       "model_id": "52283b1b8f7a4674a970282bf03661e5",
       "version_major": 2,
       "version_minor": 0
      },
      "text/plain": [
       "Epoch 9/15:   0%|          | 0/878 [00:00<?, ?it/s]"
      ]
     },
     "metadata": {},
     "output_type": "display_data"
    },
    {
     "name": "stdout",
     "output_type": "stream",
     "text": [
      "2022-04-07 19:45.20 [info     ] ProbabilisticEnsembleDynamics_20220407194408: epoch=9 step=7902 epoch=9 metrics={'time_sample_batch': 0.000164018133506688, 'time_algorithm_update': 0.007756990832456967, 'loss': -173.74335821234283, 'time_step': 0.007984064706094173, 'observation_error': 0.003578484107705443, 'reward_error': 5.069471860309801e-06, 'variance': 1.973668805844721e-08} step=7902\n",
      "2022-04-07 19:45.20 [info     ] Model parameters are saved to d3rlpy_logs/ProbabilisticEnsembleDynamics_20220407194408/model_7902.pt\n"
     ]
    },
    {
     "data": {
      "application/vnd.jupyter.widget-view+json": {
       "model_id": "1eb5bbf2997647cd8f172121960cc368",
       "version_major": 2,
       "version_minor": 0
      },
      "text/plain": [
       "Epoch 10/15:   0%|          | 0/878 [00:00<?, ?it/s]"
      ]
     },
     "metadata": {},
     "output_type": "display_data"
    },
    {
     "name": "stdout",
     "output_type": "stream",
     "text": [
      "2022-04-07 19:45.28 [info     ] ProbabilisticEnsembleDynamics_20220407194408: epoch=10 step=8780 epoch=10 metrics={'time_sample_batch': 0.0001617963330349238, 'time_algorithm_update': 0.007998384212850167, 'loss': -179.8818103903247, 'time_step': 0.008213378845423391, 'observation_error': 0.0035773323029433825, 'reward_error': 3.2614871486967765e-06, 'variance': 4.459135295537853e-08} step=8780\n",
      "2022-04-07 19:45.28 [info     ] Model parameters are saved to d3rlpy_logs/ProbabilisticEnsembleDynamics_20220407194408/model_8780.pt\n"
     ]
    },
    {
     "data": {
      "application/vnd.jupyter.widget-view+json": {
       "model_id": "93bb7919a8cf46fcb6a62b7f9f56fe00",
       "version_major": 2,
       "version_minor": 0
      },
      "text/plain": [
       "Epoch 11/15:   0%|          | 0/878 [00:00<?, ?it/s]"
      ]
     },
     "metadata": {},
     "output_type": "display_data"
    },
    {
     "name": "stdout",
     "output_type": "stream",
     "text": [
      "2022-04-07 19:45.37 [info     ] ProbabilisticEnsembleDynamics_20220407194408: epoch=11 step=9658 epoch=11 metrics={'time_sample_batch': 0.00015890435368705176, 'time_algorithm_update': 0.007985589987596239, 'loss': -178.66446120972515, 'time_step': 0.008196258599231347, 'observation_error': 0.003612861424755318, 'reward_error': 3.9438979095406395e-06, 'variance': 1.7988418849518488e-07} step=9658\n",
      "2022-04-07 19:45.37 [info     ] Model parameters are saved to d3rlpy_logs/ProbabilisticEnsembleDynamics_20220407194408/model_9658.pt\n"
     ]
    },
    {
     "data": {
      "application/vnd.jupyter.widget-view+json": {
       "model_id": "ec00fbf32007402fb68d9e25918b1193",
       "version_major": 2,
       "version_minor": 0
      },
      "text/plain": [
       "Epoch 12/15:   0%|          | 0/878 [00:00<?, ?it/s]"
      ]
     },
     "metadata": {},
     "output_type": "display_data"
    },
    {
     "name": "stdout",
     "output_type": "stream",
     "text": [
      "2022-04-07 19:45.44 [info     ] ProbabilisticEnsembleDynamics_20220407194408: epoch=12 step=10536 epoch=12 metrics={'time_sample_batch': 0.0001490721669990001, 'time_algorithm_update': 0.007371442464598219, 'loss': -181.96285694443827, 'time_step': 0.007568690934322418, 'observation_error': 0.0035851152733258605, 'reward_error': 2.774185141561231e-06, 'variance': 4.882180639850547e-08} step=10536\n",
      "2022-04-07 19:45.44 [info     ] Model parameters are saved to d3rlpy_logs/ProbabilisticEnsembleDynamics_20220407194408/model_10536.pt\n"
     ]
    },
    {
     "data": {
      "application/vnd.jupyter.widget-view+json": {
       "model_id": "04e0984b252242b9a25dd81a89c2cf54",
       "version_major": 2,
       "version_minor": 0
      },
      "text/plain": [
       "Epoch 13/15:   0%|          | 0/878 [00:00<?, ?it/s]"
      ]
     },
     "metadata": {},
     "output_type": "display_data"
    },
    {
     "name": "stdout",
     "output_type": "stream",
     "text": [
      "2022-04-07 19:45.52 [info     ] ProbabilisticEnsembleDynamics_20220407194408: epoch=13 step=11414 epoch=13 metrics={'time_sample_batch': 0.00014785346246254472, 'time_algorithm_update': 0.007072968472109297, 'loss': -180.50518093239472, 'time_step': 0.007269953540897586, 'observation_error': 0.0035764519176325095, 'reward_error': 1.7432441919281535e-06, 'variance': 9.251676343057355e-08} step=11414\n",
      "2022-04-07 19:45.52 [info     ] Model parameters are saved to d3rlpy_logs/ProbabilisticEnsembleDynamics_20220407194408/model_11414.pt\n"
     ]
    },
    {
     "data": {
      "application/vnd.jupyter.widget-view+json": {
       "model_id": "677771a8e1d54bcbaf5ed7f298a9a48b",
       "version_major": 2,
       "version_minor": 0
      },
      "text/plain": [
       "Epoch 14/15:   0%|          | 0/878 [00:00<?, ?it/s]"
      ]
     },
     "metadata": {},
     "output_type": "display_data"
    },
    {
     "name": "stdout",
     "output_type": "stream",
     "text": [
      "2022-04-07 19:45.59 [info     ] ProbabilisticEnsembleDynamics_20220407194408: epoch=14 step=12292 epoch=14 metrics={'time_sample_batch': 0.00015231417088953944, 'time_algorithm_update': 0.007223932781089139, 'loss': -182.90584715406553, 'time_step': 0.007428983892558104, 'observation_error': 0.0035792091150054933, 'reward_error': 5.76587521316201e-06, 'variance': 3.14386667274566e-08} step=12292\n",
      "2022-04-07 19:45.59 [info     ] Model parameters are saved to d3rlpy_logs/ProbabilisticEnsembleDynamics_20220407194408/model_12292.pt\n"
     ]
    },
    {
     "data": {
      "application/vnd.jupyter.widget-view+json": {
       "model_id": "5a9d6618140c44c7a30b41b9783007f0",
       "version_major": 2,
       "version_minor": 0
      },
      "text/plain": [
       "Epoch 15/15:   0%|          | 0/878 [00:00<?, ?it/s]"
      ]
     },
     "metadata": {},
     "output_type": "display_data"
    },
    {
     "name": "stdout",
     "output_type": "stream",
     "text": [
      "2022-04-07 19:46.07 [info     ] ProbabilisticEnsembleDynamics_20220407194408: epoch=15 step=13170 epoch=15 metrics={'time_sample_batch': 0.00015121087397964233, 'time_algorithm_update': 0.007162831095736771, 'loss': -183.1120646048787, 'time_step': 0.007364273342836419, 'observation_error': 0.0035801331781499185, 'reward_error': 2.8068526554637735e-06, 'variance': 7.271423195302175e-08} step=13170\n",
      "2022-04-07 19:46.07 [info     ] Model parameters are saved to d3rlpy_logs/ProbabilisticEnsembleDynamics_20220407194408/model_13170.pt\n"
     ]
    },
    {
     "data": {
      "text/plain": [
       "[(1,\n",
       "  {'time_sample_batch': 0.00017330478155531482,\n",
       "   'time_algorithm_update': 0.007003860756042064,\n",
       "   'loss': -140.08404518904882,\n",
       "   'time_step': 0.007243874947411052,\n",
       "   'observation_error': 0.003597034412639334,\n",
       "   'reward_error': 0.00011350073554916066,\n",
       "   'variance': 3.1100626179800764e-08}),\n",
       " (2,\n",
       "  {'time_sample_batch': 0.00016093851493540005,\n",
       "   'time_algorithm_update': 0.0073113324701921814,\n",
       "   'loss': -164.6129103032766,\n",
       "   'time_step': 0.007528732197702882,\n",
       "   'observation_error': 0.0036057853225010387,\n",
       "   'reward_error': 8.001452038873771e-05,\n",
       "   'variance': 4.161028056893669e-08}),\n",
       " (3,\n",
       "  {'time_sample_batch': 0.00016076146605889183,\n",
       "   'time_algorithm_update': 0.007144571708383756,\n",
       "   'loss': -161.71328518982628,\n",
       "   'time_step': 0.007364843049190582,\n",
       "   'observation_error': 0.0035862366632322747,\n",
       "   'reward_error': 5.786977457846211e-05,\n",
       "   'variance': 2.992409110233798e-08}),\n",
       " (4,\n",
       "  {'time_sample_batch': 0.00016010323526647477,\n",
       "   'time_algorithm_update': 0.007239456871919046,\n",
       "   'loss': -164.65674146161265,\n",
       "   'time_step': 0.007457986236433233,\n",
       "   'observation_error': 0.0035849933537923226,\n",
       "   'reward_error': 3.727671593120483e-05,\n",
       "   'variance': 8.403178537046327e-08}),\n",
       " (5,\n",
       "  {'time_sample_batch': 0.00016385466199801018,\n",
       "   'time_algorithm_update': 0.007982208136817047,\n",
       "   'loss': -172.29039628847858,\n",
       "   'time_step': 0.00819869980996725,\n",
       "   'observation_error': 0.0035839558344196013,\n",
       "   'reward_error': 2.2107950144275087e-05,\n",
       "   'variance': 1.3393104684787874e-08}),\n",
       " (6,\n",
       "  {'time_sample_batch': 0.000159385264055604,\n",
       "   'time_algorithm_update': 0.00789051419781661,\n",
       "   'loss': -170.9022683076272,\n",
       "   'time_step': 0.008102068325381616,\n",
       "   'observation_error': 0.0035863112619882887,\n",
       "   'reward_error': 2.201742639263548e-05,\n",
       "   'variance': 2.9097927006437368e-08}),\n",
       " (7,\n",
       "  {'time_sample_batch': 0.0001638131152524492,\n",
       "   'time_algorithm_update': 0.007787190157080023,\n",
       "   'loss': -169.62003718313161,\n",
       "   'time_step': 0.008013030119528803,\n",
       "   'observation_error': 0.0035794479740400053,\n",
       "   'reward_error': 1.014369759638752e-05,\n",
       "   'variance': 1.3183783160493192e-08}),\n",
       " (8,\n",
       "  {'time_sample_batch': 0.00016558984960673339,\n",
       "   'time_algorithm_update': 0.008285850218596926,\n",
       "   'loss': -175.54436600669914,\n",
       "   'time_step': 0.008511773546084185,\n",
       "   'observation_error': 0.0035781162439631536,\n",
       "   'reward_error': 6.245822041419959e-06,\n",
       "   'variance': 2.3651391267504215e-08}),\n",
       " (9,\n",
       "  {'time_sample_batch': 0.000164018133506688,\n",
       "   'time_algorithm_update': 0.007756990832456967,\n",
       "   'loss': -173.74335821234283,\n",
       "   'time_step': 0.007984064706094173,\n",
       "   'observation_error': 0.003578484107705443,\n",
       "   'reward_error': 5.069471860309801e-06,\n",
       "   'variance': 1.973668805844721e-08}),\n",
       " (10,\n",
       "  {'time_sample_batch': 0.0001617963330349238,\n",
       "   'time_algorithm_update': 0.007998384212850167,\n",
       "   'loss': -179.8818103903247,\n",
       "   'time_step': 0.008213378845423391,\n",
       "   'observation_error': 0.0035773323029433825,\n",
       "   'reward_error': 3.2614871486967765e-06,\n",
       "   'variance': 4.459135295537853e-08}),\n",
       " (11,\n",
       "  {'time_sample_batch': 0.00015890435368705176,\n",
       "   'time_algorithm_update': 0.007985589987596239,\n",
       "   'loss': -178.66446120972515,\n",
       "   'time_step': 0.008196258599231347,\n",
       "   'observation_error': 0.003612861424755318,\n",
       "   'reward_error': 3.9438979095406395e-06,\n",
       "   'variance': 1.7988418849518488e-07}),\n",
       " (12,\n",
       "  {'time_sample_batch': 0.0001490721669990001,\n",
       "   'time_algorithm_update': 0.007371442464598219,\n",
       "   'loss': -181.96285694443827,\n",
       "   'time_step': 0.007568690934322418,\n",
       "   'observation_error': 0.0035851152733258605,\n",
       "   'reward_error': 2.774185141561231e-06,\n",
       "   'variance': 4.882180639850547e-08}),\n",
       " (13,\n",
       "  {'time_sample_batch': 0.00014785346246254472,\n",
       "   'time_algorithm_update': 0.007072968472109297,\n",
       "   'loss': -180.50518093239472,\n",
       "   'time_step': 0.007269953540897586,\n",
       "   'observation_error': 0.0035764519176325095,\n",
       "   'reward_error': 1.7432441919281535e-06,\n",
       "   'variance': 9.251676343057355e-08}),\n",
       " (14,\n",
       "  {'time_sample_batch': 0.00015231417088953944,\n",
       "   'time_algorithm_update': 0.007223932781089139,\n",
       "   'loss': -182.90584715406553,\n",
       "   'time_step': 0.007428983892558104,\n",
       "   'observation_error': 0.0035792091150054933,\n",
       "   'reward_error': 5.76587521316201e-06,\n",
       "   'variance': 3.14386667274566e-08}),\n",
       " (15,\n",
       "  {'time_sample_batch': 0.00015121087397964233,\n",
       "   'time_algorithm_update': 0.007162831095736771,\n",
       "   'loss': -183.1120646048787,\n",
       "   'time_step': 0.007364273342836419,\n",
       "   'observation_error': 0.0035801331781499185,\n",
       "   'reward_error': 2.8068526554637735e-06,\n",
       "   'variance': 7.271423195302175e-08})]"
      ]
     },
     "execution_count": 6,
     "metadata": {},
     "output_type": "execute_result"
    }
   ],
   "source": [
    "from d3rlpy.dynamics import ProbabilisticEnsembleDynamics\n",
    "from d3rlpy.metrics.scorer import dynamics_observation_prediction_error_scorer\n",
    "from d3rlpy.metrics.scorer import dynamics_reward_prediction_error_scorer\n",
    "from d3rlpy.metrics.scorer import dynamics_prediction_variance_scorer\n",
    "\n",
    "dynamics = d3rlpy.dynamics.ProbabilisticEnsembleDynamics(learning_rate=1e-4, use_gpu=False)\n",
    "\n",
    "# same as algorithms\n",
    "dynamics.fit(train_episodes,\n",
    "             eval_episodes=test_episodes,\n",
    "             n_epochs=15, tensorboard_dir='runs',\n",
    "             scorers={\n",
    "                'observation_error': dynamics_observation_prediction_error_scorer,\n",
    "                'reward_error': dynamics_reward_prediction_error_scorer,\n",
    "                'variance': dynamics_prediction_variance_scorer,\n",
    "             })\n",
    "\n",
    "\n",
    "#from d3rlpy.algos import MOPO\n",
    "\n",
    "# load trained dynamics model\n",
    "#dynamics = ProbabilisticEnsembleDynamics.from_json('<path-to-params.json>/params.json')\n",
    "#dynamics.load_model('<path-to-model>/model_xx.pt')\n",
    "\n",
    "# give mopo as generator argument.\n",
    "#mopo = MOPO(dynamics=dynamics)\n"
   ]
  },
  {
   "cell_type": "code",
   "execution_count": 7,
   "id": "8f69d169-0f59-4e77-8654-c5d79dae2b1a",
   "metadata": {},
   "outputs": [
    {
     "data": {
      "text/plain": [
       "Reusing TensorBoard on port 6006 (pid 83036), started 0:02:45 ago. (Use '!kill 83036' to kill it.)"
      ]
     },
     "metadata": {},
     "output_type": "display_data"
    },
    {
     "data": {
      "text/html": [
       "\n",
       "      <iframe id=\"tensorboard-frame-629f6fbed82c07cd\" width=\"100%\" height=\"800\" frameborder=\"0\">\n",
       "      </iframe>\n",
       "      <script>\n",
       "        (function() {\n",
       "          const frame = document.getElementById(\"tensorboard-frame-629f6fbed82c07cd\");\n",
       "          const url = new URL(\"/\", window.location);\n",
       "          const port = 6006;\n",
       "          if (port) {\n",
       "            url.port = port;\n",
       "          }\n",
       "          frame.src = url;\n",
       "        })();\n",
       "      </script>\n",
       "    "
      ],
      "text/plain": [
       "<IPython.core.display.HTML object>"
      ]
     },
     "metadata": {},
     "output_type": "display_data"
    }
   ],
   "source": [
    "%load_ext tensorboard\n",
    "%tensorboard --logdir runs"
   ]
  },
  {
   "cell_type": "code",
   "execution_count": 9,
   "id": "9b0384d5-a843-4d30-a355-404215f27fa4",
   "metadata": {},
   "outputs": [
    {
     "name": "stdout",
     "output_type": "stream",
     "text": [
      "2022-04-07 19:47.23 [debug    ] RoundIterator is selected.\n",
      "2022-04-07 19:47.23 [info     ] Directory is created at d3rlpy_logs/COMBO_20220407194723\n",
      "2022-04-07 19:47.23 [debug    ] Fitting action scaler...       action_scaler=min_max\n",
      "2022-04-07 19:47.23 [debug    ] Fitting reward scaler...       reward_scaler=standard\n",
      "2022-04-07 19:47.23 [warning  ] Skip building models since they're already built.\n",
      "2022-04-07 19:47.23 [info     ] Parameters are saved to d3rlpy_logs/COMBO_20220407194723/params.json params={'action_scaler': {'type': 'min_max', 'params': {'minimum': array(-0.6), 'maximum': array(0.6)}}, 'actor_encoder_factory': {'type': 'default', 'params': {'activation': 'relu', 'use_batch_norm': False, 'dropout_rate': None}}, 'actor_learning_rate': 3e-05, 'actor_optim_factory': {'optim_cls': 'Adam', 'betas': (0.9, 0.999), 'eps': 1e-08, 'weight_decay': 0, 'amsgrad': False}, 'batch_size': 256, 'conservative_weight': 1.0, 'critic_encoder_factory': {'type': 'default', 'params': {'activation': 'relu', 'use_batch_norm': False, 'dropout_rate': None}}, 'critic_learning_rate': 0.0003, 'critic_optim_factory': {'optim_cls': 'Adam', 'betas': (0.9, 0.999), 'eps': 1e-08, 'weight_decay': 0, 'amsgrad': False}, 'gamma': 0.99, 'generated_maxlen': 1250000, 'initial_temperature': 1.0, 'n_action_samples': 10, 'n_critics': 2, 'n_frames': 1, 'n_steps': 1, 'q_func_factory': {'type': 'mean', 'params': {'bootstrap': False, 'share_encoder': False}}, 'real_ratio': 0.5, 'reward_scaler': {'type': 'standard', 'params': {'mean': -0.04146203581008658, 'std': 0.024356611923389643, 'eps': 0.001, 'multiplier': 1.0}}, 'rollout_batch_size': 50000, 'rollout_horizon': 5, 'rollout_interval': 1000, 'scaler': None, 'soft_q_backup': False, 'target_reduction_type': 'min', 'tau': 0.005, 'temp_learning_rate': 0.0001, 'temp_optim_factory': {'optim_cls': 'Adam', 'betas': (0.9, 0.999), 'eps': 1e-08, 'weight_decay': 0, 'amsgrad': False}, 'update_actor_interval': 1, 'use_gpu': None, 'algorithm': 'COMBO', 'observation_shape': (6,), 'action_size': 3}\n"
     ]
    },
    {
     "data": {
      "application/vnd.jupyter.widget-view+json": {
       "model_id": "e4a5958b3e95429bb1dc7f9bbc33ab17",
       "version_major": 2,
       "version_minor": 0
      },
      "text/plain": [
       "Epoch 1/5:   0%|          | 0/343 [00:00<?, ?it/s]"
      ]
     },
     "metadata": {},
     "output_type": "display_data"
    },
    {
     "name": "stdout",
     "output_type": "stream",
     "text": [
      "2022-04-07 19:47.25 [debug    ] 250000 transitions are generated. fake_transitions=250000 real_transitions=87813\n",
      "2022-04-07 19:47.35 [info     ] COMBO_20220407194723: epoch=1 step=343 epoch=1 metrics={'time_sample_batch': 0.00032083772709348804, 'time_algorithm_update': 0.026542953430042322, 'critic_loss': 9.42205670971217, 'actor_loss': -0.8466464337776075, 'temp_loss': 4.4922140492642235, 'temp': 0.9834773337180691, 'time_step': 0.026942127300073386, 'td_error': 0.7837354701278182, 'init_value': 1.1931893825531006, 'ave_value': 1.190522290886045} step=343\n",
      "2022-04-07 19:47.35 [info     ] Model parameters are saved to d3rlpy_logs/COMBO_20220407194723/model_343.pt\n"
     ]
    },
    {
     "data": {
      "application/vnd.jupyter.widget-view+json": {
       "model_id": "5a9463715f75459ab1bf7fc15d36194a",
       "version_major": 2,
       "version_minor": 0
      },
      "text/plain": [
       "Epoch 2/5:   0%|          | 0/343 [00:00<?, ?it/s]"
      ]
     },
     "metadata": {},
     "output_type": "display_data"
    },
    {
     "name": "stdout",
     "output_type": "stream",
     "text": [
      "2022-04-07 19:47.45 [info     ] COMBO_20220407194723: epoch=2 step=686 epoch=2 metrics={'time_sample_batch': 0.0005197184426443917, 'time_algorithm_update': 0.027178133889468003, 'critic_loss': 10.605080838106117, 'actor_loss': -2.214353049461765, 'temp_loss': 4.455888712718952, 'temp': 0.952205315449495, 'time_step': 0.027776420637747986, 'td_error': 0.5823717932963601, 'init_value': 2.4637928009033203, 'ave_value': 2.458846289037382} step=686\n",
      "2022-04-07 19:47.45 [info     ] Model parameters are saved to d3rlpy_logs/COMBO_20220407194723/model_686.pt\n"
     ]
    },
    {
     "data": {
      "application/vnd.jupyter.widget-view+json": {
       "model_id": "54691c9c4cf84e148e69a2b5f18a4fa0",
       "version_major": 2,
       "version_minor": 0
      },
      "text/plain": [
       "Epoch 3/5:   0%|          | 0/686 [00:00<?, ?it/s]"
      ]
     },
     "metadata": {},
     "output_type": "display_data"
    },
    {
     "name": "stdout",
     "output_type": "stream",
     "text": [
      "2022-04-07 19:47.57 [debug    ] 250000 transitions are generated. fake_transitions=500000 real_transitions=87813\n",
      "2022-04-07 19:48.08 [info     ] COMBO_20220407194723: epoch=3 step=1372 epoch=3 metrics={'time_sample_batch': 0.0005254707253014034, 'time_algorithm_update': 0.027556525374988077, 'critic_loss': 10.050928521781898, 'actor_loss': -3.7198425628701033, 'temp_loss': 4.285134872264139, 'temp': 0.9051220366628108, 'time_step': 0.02817211867073882, 'td_error': 0.8018371258406721, 'init_value': 4.757282733917236, 'ave_value': 4.749037571301846} step=1372\n",
      "2022-04-07 19:48.08 [info     ] Model parameters are saved to d3rlpy_logs/COMBO_20220407194723/model_1372.pt\n"
     ]
    },
    {
     "data": {
      "application/vnd.jupyter.widget-view+json": {
       "model_id": "7d4b5dcfeb7e43f0b0aa400e66c90163",
       "version_major": 2,
       "version_minor": 0
      },
      "text/plain": [
       "Epoch 4/5:   0%|          | 0/686 [00:00<?, ?it/s]"
      ]
     },
     "metadata": {},
     "output_type": "display_data"
    },
    {
     "name": "stdout",
     "output_type": "stream",
     "text": [
      "2022-04-07 19:48.27 [debug    ] 250000 transitions are generated. fake_transitions=750000 real_transitions=87813\n",
      "2022-04-07 19:48.29 [info     ] COMBO_20220407194723: epoch=4 step=2058 epoch=4 metrics={'time_sample_batch': 0.0005001239804415244, 'time_algorithm_update': 0.026712157288376167, 'critic_loss': 10.128434152714364, 'actor_loss': -5.458631817175418, 'temp_loss': 4.000172061753343, 'temp': 0.8477194980872963, 'time_step': 0.02729754788534982, 'td_error': 1.3077000815826092, 'init_value': 5.953140735626221, 'ave_value': 5.940911734209147} step=2058\n",
      "2022-04-07 19:48.29 [info     ] Model parameters are saved to d3rlpy_logs/COMBO_20220407194723/model_2058.pt\n"
     ]
    },
    {
     "data": {
      "application/vnd.jupyter.widget-view+json": {
       "model_id": "84df1463f61f4dbba2cbc986dad4ec66",
       "version_major": 2,
       "version_minor": 0
      },
      "text/plain": [
       "Epoch 5/5:   0%|          | 0/686 [00:00<?, ?it/s]"
      ]
     },
     "metadata": {},
     "output_type": "display_data"
    },
    {
     "name": "stdout",
     "output_type": "stream",
     "text": [
      "2022-04-07 19:48.50 [info     ] COMBO_20220407194723: epoch=5 step=2744 epoch=5 metrics={'time_sample_batch': 0.0005241562951758027, 'time_algorithm_update': 0.028877137701295904, 'critic_loss': 10.412568345361827, 'actor_loss': -6.568842086430541, 'temp_loss': 3.7428856445123433, 'temp': 0.7949885841535063, 'time_step': 0.02948999231132752, 'td_error': 1.877593398146586, 'init_value': 7.151582717895508, 'ave_value': 7.133662610581608} step=2744\n",
      "2022-04-07 19:48.50 [info     ] Model parameters are saved to d3rlpy_logs/COMBO_20220407194723/model_2744.pt\n"
     ]
    },
    {
     "data": {
      "text/plain": [
       "[(1,\n",
       "  {'time_sample_batch': 0.00032083772709348804,\n",
       "   'time_algorithm_update': 0.026542953430042322,\n",
       "   'critic_loss': 9.42205670971217,\n",
       "   'actor_loss': -0.8466464337776075,\n",
       "   'temp_loss': 4.4922140492642235,\n",
       "   'temp': 0.9834773337180691,\n",
       "   'time_step': 0.026942127300073386,\n",
       "   'td_error': 0.7837354701278182,\n",
       "   'init_value': 1.1931893825531006,\n",
       "   'ave_value': 1.190522290886045}),\n",
       " (2,\n",
       "  {'time_sample_batch': 0.0005197184426443917,\n",
       "   'time_algorithm_update': 0.027178133889468003,\n",
       "   'critic_loss': 10.605080838106117,\n",
       "   'actor_loss': -2.214353049461765,\n",
       "   'temp_loss': 4.455888712718952,\n",
       "   'temp': 0.952205315449495,\n",
       "   'time_step': 0.027776420637747986,\n",
       "   'td_error': 0.5823717932963601,\n",
       "   'init_value': 2.4637928009033203,\n",
       "   'ave_value': 2.458846289037382}),\n",
       " (3,\n",
       "  {'time_sample_batch': 0.0005254707253014034,\n",
       "   'time_algorithm_update': 0.027556525374988077,\n",
       "   'critic_loss': 10.050928521781898,\n",
       "   'actor_loss': -3.7198425628701033,\n",
       "   'temp_loss': 4.285134872264139,\n",
       "   'temp': 0.9051220366628108,\n",
       "   'time_step': 0.02817211867073882,\n",
       "   'td_error': 0.8018371258406721,\n",
       "   'init_value': 4.757282733917236,\n",
       "   'ave_value': 4.749037571301846}),\n",
       " (4,\n",
       "  {'time_sample_batch': 0.0005001239804415244,\n",
       "   'time_algorithm_update': 0.026712157288376167,\n",
       "   'critic_loss': 10.128434152714364,\n",
       "   'actor_loss': -5.458631817175418,\n",
       "   'temp_loss': 4.000172061753343,\n",
       "   'temp': 0.8477194980872963,\n",
       "   'time_step': 0.02729754788534982,\n",
       "   'td_error': 1.3077000815826092,\n",
       "   'init_value': 5.953140735626221,\n",
       "   'ave_value': 5.940911734209147}),\n",
       " (5,\n",
       "  {'time_sample_batch': 0.0005241562951758027,\n",
       "   'time_algorithm_update': 0.028877137701295904,\n",
       "   'critic_loss': 10.412568345361827,\n",
       "   'actor_loss': -6.568842086430541,\n",
       "   'temp_loss': 3.7428856445123433,\n",
       "   'temp': 0.7949885841535063,\n",
       "   'time_step': 0.02948999231132752,\n",
       "   'td_error': 1.877593398146586,\n",
       "   'init_value': 7.151582717895508,\n",
       "   'ave_value': 7.133662610581608})]"
      ]
     },
     "execution_count": 9,
     "metadata": {},
     "output_type": "execute_result"
    }
   ],
   "source": [
    "from d3rlpy.algos import COMBO\n",
    "from d3rlpy.metrics.scorer import td_error_scorer\n",
    "from d3rlpy.metrics.scorer import average_value_estimation_scorer\n",
    "from d3rlpy.metrics.scorer import initial_state_value_estimation_scorer\n",
    "\n",
    "# calculate metrics with test dataset\n",
    "#ave_error_init = average_value_estimation_scorer(model, test_episodes)\n",
    "#print(ave_error_init)\n",
    "\n",
    "from d3rlpy.preprocessing import MinMaxActionScaler\n",
    "action_scaler = MinMaxActionScaler(minimum=-0.6, maximum=0.6)\n",
    "\n",
    "model = COMBO(q_func_factory='mean', #qr -> quantile regression q function, but you don't have to use this\n",
    "            reward_scaler='standard',\n",
    "              action_scaler = action_scaler,\n",
    "        dynamics=dynamics,\n",
    "          actor_learning_rate=3e-5, \n",
    "          critic_learning_rate=0.0003, \n",
    "            use_gpu=False) #change it to true if you have one\n",
    "model.build_with_dataset(dataset)\n",
    "\n",
    "model.fit(train_episodes,\n",
    "        eval_episodes=test_episodes,\n",
    "        n_epochs=5, \n",
    "        tensorboard_dir='runs',\n",
    "        scorers={\n",
    "            'td_error': td_error_scorer,\n",
    "            'init_value': initial_state_value_estimation_scorer,\n",
    "            'ave_value': average_value_estimation_scorer\n",
    "        })"
   ]
  },
  {
   "cell_type": "markdown",
   "id": "6bbb0460-f723-4b67-a553-57887d11dbc9",
   "metadata": {},
   "source": [
    "## Off-Policy Evaluation\n",
    "\n",
    "We do get some metrics on a test set of initial state value and average value. However, these estimates (using the critic's Q-function) of model performance are biased. They're useful for validation during training, but not much else. Instead, we fit a Q-function to the data (or a separate dataset, as I've done here) separately and evaluate the model's performance on it.\n",
    "\n",
    "Feel free to change the chunks and number of steps."
   ]
  },
  {
   "cell_type": "code",
   "execution_count": 12,
   "id": "92cde793-b98e-4d5b-94e8-b9b01db1461b",
   "metadata": {},
   "outputs": [
    {
     "name": "stderr",
     "output_type": "stream",
     "text": [
      "/Users/hetankevin/miniforge3/lib/python3.9/site-packages/d3rlpy/preprocessing/action_scalers.py:204: TracerWarning: torch.tensor results are registered as constants in the trace. You can safely ignore this warning if you use this function to create tensors out of constant variables that would be the same every time you call this function. In any other case, this might cause the trace to be incorrect.\n",
      "  minimum = torch.tensor(\n",
      "/Users/hetankevin/miniforge3/lib/python3.9/site-packages/d3rlpy/preprocessing/action_scalers.py:207: TracerWarning: torch.tensor results are registered as constants in the trace. You can safely ignore this warning if you use this function to create tensors out of constant variables that would be the same every time you call this function. In any other case, this might cause the trace to be incorrect.\n",
      "  maximum = torch.tensor(\n"
     ]
    }
   ],
   "source": [
    "model.save_policy('comboDet.pt')"
   ]
  },
  {
   "cell_type": "code",
   "execution_count": 10,
   "id": "0ab1d37d-2e01-4182-94e5-13af0d6c2484",
   "metadata": {},
   "outputs": [
    {
     "name": "stdout",
     "output_type": "stream",
     "text": [
      "[ 0.00000000e+00  7.95731469e+08 -1.03891077e-02 -1.41999953e-02\n",
      " -2.10001342e-03  0.00000000e+00 -5.33423489e+00 -1.57091618e+00\n",
      " -1.78778459e-03 -1.34615461e-02  4.84073546e-02]\n",
      "Read chunk # 3 out of 10000\n",
      "[ 0.00000000e+00  7.95731469e+08 -7.24891077e-02 -1.35999953e-02\n",
      " -4.20001342e-03  0.00000000e+00 -5.33423489e+00 -1.57091618e+00\n",
      " -6.23311010e-02 -1.64283998e-01  6.00000000e-01]\n",
      "Read chunk # 5 out of 10000\n",
      "[ 0.00000000e+00  7.95731469e+08  7.01089229e-03 -4.19999531e-03\n",
      "  7.39998658e-03  0.00000000e+00 -5.33423489e+00 -1.57091618e+00\n",
      "  2.21623335e-01 -2.86362315e-02 -8.00043364e-02]\n",
      "Read chunk # 7 out of 10000\n",
      "[ 0.00000000e+00  7.95731469e+08 -1.03989108e-01 -1.37999953e-02\n",
      "  7.99998658e-03  0.00000000e+00 -5.33423489e+00 -1.57091618e+00\n",
      "  2.76352555e-01 -3.26280816e-01  6.00000000e-01]\n",
      "Read chunk # 9 out of 10000\n",
      "torch.Size([111080, 6])\n",
      "2022-04-07 19:48.50 [debug    ] RoundIterator is selected.\n",
      "2022-04-07 19:48.50 [info     ] Directory is created at d3rlpy_logs/FQE_20220407194850\n",
      "2022-04-07 19:48.50 [debug    ] Fitting action scaler...       action_scaler=min_max\n",
      "2022-04-07 19:48.50 [debug    ] Building models...\n",
      "2022-04-07 19:48.50 [debug    ] Models have been built.\n",
      "2022-04-07 19:48.50 [info     ] Parameters are saved to d3rlpy_logs/FQE_20220407194850/params.json params={'action_scaler': {'type': 'min_max', 'params': {'minimum': array(-0.6), 'maximum': array(0.6)}}, 'batch_size': 100, 'encoder_factory': {'type': 'default', 'params': {'activation': 'relu', 'use_batch_norm': False, 'dropout_rate': None}}, 'gamma': 0.99, 'generated_maxlen': 100000, 'learning_rate': 0.0001, 'n_critics': 1, 'n_frames': 1, 'n_steps': 1, 'optim_factory': {'optim_cls': 'Adam', 'betas': (0.9, 0.999), 'eps': 1e-08, 'weight_decay': 0, 'amsgrad': False}, 'q_func_factory': {'type': 'mean', 'params': {'bootstrap': False, 'share_encoder': False}}, 'real_ratio': 1.0, 'reward_scaler': None, 'scaler': None, 'target_update_interval': 100, 'use_gpu': None, 'algorithm': 'FQE', 'observation_shape': (6,), 'action_size': 3}\n"
     ]
    },
    {
     "data": {
      "application/vnd.jupyter.widget-view+json": {
       "model_id": "7c2fe16ed9e24e2081967fcd8f0ae58e",
       "version_major": 2,
       "version_minor": 0
      },
      "text/plain": [
       "Epoch 1/50:   0%|          | 0/878 [00:00<?, ?it/s]"
      ]
     },
     "metadata": {},
     "output_type": "display_data"
    },
    {
     "name": "stderr",
     "output_type": "stream",
     "text": [
      "/Users/hetankevin/miniforge3/lib/python3.9/site-packages/numpy/core/fromnumeric.py:3440: RuntimeWarning: Mean of empty slice.\n",
      "  return _methods._mean(a, axis=axis, dtype=dtype,\n",
      "/Users/hetankevin/miniforge3/lib/python3.9/site-packages/numpy/core/_methods.py:189: RuntimeWarning: invalid value encountered in double_scalars\n",
      "  ret = ret.dtype.type(ret / rcount)\n",
      "WARNING:root:NaN or Inf found in input tensor.\n"
     ]
    },
    {
     "name": "stdout",
     "output_type": "stream",
     "text": [
      "2022-04-07 19:48.53 [info     ] FQE_20220407194850: epoch=1 step=878 epoch=1 metrics={'time_sample_batch': 0.00014098385743508307, 'time_algorithm_update': 0.0019090096879928694, 'loss': 0.0006079547214486205, 'time_step': 0.0021188560542321692, 'init_value': -0.28840816020965576, 'ave_value': -0.28866724583605535, 'soft_opc': nan} step=878\n"
     ]
    },
    {
     "name": "stderr",
     "output_type": "stream",
     "text": [
      "WARNING:root:NaN or Inf found in input tensor.\n"
     ]
    },
    {
     "name": "stdout",
     "output_type": "stream",
     "text": [
      "2022-04-07 19:48.53 [info     ] Model parameters are saved to d3rlpy_logs/FQE_20220407194850/model_878.pt\n"
     ]
    },
    {
     "data": {
      "application/vnd.jupyter.widget-view+json": {
       "model_id": "bd98db005b5b478cb3c9153ed8112c3d",
       "version_major": 2,
       "version_minor": 0
      },
      "text/plain": [
       "Epoch 2/50:   0%|          | 0/878 [00:00<?, ?it/s]"
      ]
     },
     "metadata": {},
     "output_type": "display_data"
    },
    {
     "name": "stderr",
     "output_type": "stream",
     "text": [
      "WARNING:root:NaN or Inf found in input tensor.\n"
     ]
    },
    {
     "name": "stdout",
     "output_type": "stream",
     "text": [
      "2022-04-07 19:48.55 [info     ] FQE_20220407194850: epoch=2 step=1756 epoch=2 metrics={'time_sample_batch': 0.00014134908862972043, 'time_algorithm_update': 0.0018845446288992985, 'loss': 0.0012250064993522321, 'time_step': 0.00208426798123162, 'init_value': -0.4084046483039856, 'ave_value': -0.4085957081498684, 'soft_opc': nan} step=1756\n"
     ]
    },
    {
     "name": "stderr",
     "output_type": "stream",
     "text": [
      "WARNING:root:NaN or Inf found in input tensor.\n"
     ]
    },
    {
     "name": "stdout",
     "output_type": "stream",
     "text": [
      "2022-04-07 19:48.55 [info     ] Model parameters are saved to d3rlpy_logs/FQE_20220407194850/model_1756.pt\n"
     ]
    },
    {
     "data": {
      "application/vnd.jupyter.widget-view+json": {
       "model_id": "72125b7fdf0e423d8911798289d8bf2c",
       "version_major": 2,
       "version_minor": 0
      },
      "text/plain": [
       "Epoch 3/50:   0%|          | 0/878 [00:00<?, ?it/s]"
      ]
     },
     "metadata": {},
     "output_type": "display_data"
    },
    {
     "name": "stderr",
     "output_type": "stream",
     "text": [
      "WARNING:root:NaN or Inf found in input tensor.\n"
     ]
    },
    {
     "name": "stdout",
     "output_type": "stream",
     "text": [
      "2022-04-07 19:48.57 [info     ] FQE_20220407194850: epoch=3 step=2634 epoch=3 metrics={'time_sample_batch': 0.00015009101268099217, 'time_algorithm_update': 0.0020265109446705883, 'loss': 0.0021275242328171145, 'time_step': 0.00224410102687827, 'init_value': -0.5219352841377258, 'ave_value': -0.5222797834360767, 'soft_opc': nan} step=2634\n"
     ]
    },
    {
     "name": "stderr",
     "output_type": "stream",
     "text": [
      "WARNING:root:NaN or Inf found in input tensor.\n"
     ]
    },
    {
     "name": "stdout",
     "output_type": "stream",
     "text": [
      "2022-04-07 19:48.57 [info     ] Model parameters are saved to d3rlpy_logs/FQE_20220407194850/model_2634.pt\n"
     ]
    },
    {
     "data": {
      "application/vnd.jupyter.widget-view+json": {
       "model_id": "f7a7352064ed41bfb5166d11b04ee967",
       "version_major": 2,
       "version_minor": 0
      },
      "text/plain": [
       "Epoch 4/50:   0%|          | 0/878 [00:00<?, ?it/s]"
      ]
     },
     "metadata": {},
     "output_type": "display_data"
    },
    {
     "name": "stderr",
     "output_type": "stream",
     "text": [
      "WARNING:root:NaN or Inf found in input tensor.\n"
     ]
    },
    {
     "name": "stdout",
     "output_type": "stream",
     "text": [
      "2022-04-07 19:48.59 [info     ] FQE_20220407194850: epoch=4 step=3512 epoch=4 metrics={'time_sample_batch': 0.0001335703430523362, 'time_algorithm_update': 0.0016752519477201213, 'loss': 0.0029731072644337106, 'time_step': 0.0018675987161101948, 'init_value': -0.548482358455658, 'ave_value': -0.5486275196931293, 'soft_opc': nan} step=3512\n"
     ]
    },
    {
     "name": "stderr",
     "output_type": "stream",
     "text": [
      "WARNING:root:NaN or Inf found in input tensor.\n"
     ]
    },
    {
     "name": "stdout",
     "output_type": "stream",
     "text": [
      "2022-04-07 19:48.59 [info     ] Model parameters are saved to d3rlpy_logs/FQE_20220407194850/model_3512.pt\n"
     ]
    },
    {
     "data": {
      "application/vnd.jupyter.widget-view+json": {
       "model_id": "38a09b8aab084c5f8fa6e81eb68281a7",
       "version_major": 2,
       "version_minor": 0
      },
      "text/plain": [
       "Epoch 5/50:   0%|          | 0/878 [00:00<?, ?it/s]"
      ]
     },
     "metadata": {},
     "output_type": "display_data"
    },
    {
     "name": "stderr",
     "output_type": "stream",
     "text": [
      "WARNING:root:NaN or Inf found in input tensor.\n"
     ]
    },
    {
     "name": "stdout",
     "output_type": "stream",
     "text": [
      "2022-04-07 19:49.01 [info     ] FQE_20220407194850: epoch=5 step=4390 epoch=5 metrics={'time_sample_batch': 0.0001448629114242241, 'time_algorithm_update': 0.0019243670487458179, 'loss': 0.00309454370744374, 'time_step': 0.0021335027755528756, 'init_value': -0.5471908450126648, 'ave_value': -0.5472799684939601, 'soft_opc': nan} step=4390\n"
     ]
    },
    {
     "name": "stderr",
     "output_type": "stream",
     "text": [
      "WARNING:root:NaN or Inf found in input tensor.\n"
     ]
    },
    {
     "name": "stdout",
     "output_type": "stream",
     "text": [
      "2022-04-07 19:49.01 [info     ] Model parameters are saved to d3rlpy_logs/FQE_20220407194850/model_4390.pt\n"
     ]
    },
    {
     "data": {
      "application/vnd.jupyter.widget-view+json": {
       "model_id": "4d8d492778044da1bc526594f926ab34",
       "version_major": 2,
       "version_minor": 0
      },
      "text/plain": [
       "Epoch 6/50:   0%|          | 0/878 [00:00<?, ?it/s]"
      ]
     },
     "metadata": {},
     "output_type": "display_data"
    },
    {
     "name": "stderr",
     "output_type": "stream",
     "text": [
      "WARNING:root:NaN or Inf found in input tensor.\n"
     ]
    },
    {
     "name": "stdout",
     "output_type": "stream",
     "text": [
      "2022-04-07 19:49.04 [info     ] FQE_20220407194850: epoch=6 step=5268 epoch=6 metrics={'time_sample_batch': 0.0001419614279188708, 'time_algorithm_update': 0.0024540087628201635, 'loss': 0.0031645173893389824, 'time_step': 0.0026611385693039603, 'init_value': -0.5669634938240051, 'ave_value': -0.5669807058591938, 'soft_opc': nan} step=5268\n"
     ]
    },
    {
     "name": "stderr",
     "output_type": "stream",
     "text": [
      "WARNING:root:NaN or Inf found in input tensor.\n"
     ]
    },
    {
     "name": "stdout",
     "output_type": "stream",
     "text": [
      "2022-04-07 19:49.04 [info     ] Model parameters are saved to d3rlpy_logs/FQE_20220407194850/model_5268.pt\n"
     ]
    },
    {
     "data": {
      "application/vnd.jupyter.widget-view+json": {
       "model_id": "dd1a613ce534492b94fcc51eaa804b6e",
       "version_major": 2,
       "version_minor": 0
      },
      "text/plain": [
       "Epoch 7/50:   0%|          | 0/878 [00:00<?, ?it/s]"
      ]
     },
     "metadata": {},
     "output_type": "display_data"
    },
    {
     "name": "stderr",
     "output_type": "stream",
     "text": [
      "WARNING:root:NaN or Inf found in input tensor.\n"
     ]
    },
    {
     "name": "stdout",
     "output_type": "stream",
     "text": [
      "2022-04-07 19:49.06 [info     ] FQE_20220407194850: epoch=7 step=6146 epoch=7 metrics={'time_sample_batch': 0.00014837646267137114, 'time_algorithm_update': 0.0019182246475393516, 'loss': 0.00317289999721975, 'time_step': 0.002134253060899183, 'init_value': -0.5370213985443115, 'ave_value': -0.5371544056625132, 'soft_opc': nan} step=6146\n"
     ]
    },
    {
     "name": "stderr",
     "output_type": "stream",
     "text": [
      "WARNING:root:NaN or Inf found in input tensor.\n"
     ]
    },
    {
     "name": "stdout",
     "output_type": "stream",
     "text": [
      "2022-04-07 19:49.06 [info     ] Model parameters are saved to d3rlpy_logs/FQE_20220407194850/model_6146.pt\n"
     ]
    },
    {
     "data": {
      "application/vnd.jupyter.widget-view+json": {
       "model_id": "1d6148b0ab1145e487f850af4e5b4dbc",
       "version_major": 2,
       "version_minor": 0
      },
      "text/plain": [
       "Epoch 8/50:   0%|          | 0/878 [00:00<?, ?it/s]"
      ]
     },
     "metadata": {},
     "output_type": "display_data"
    },
    {
     "name": "stderr",
     "output_type": "stream",
     "text": [
      "WARNING:root:NaN or Inf found in input tensor.\n"
     ]
    },
    {
     "name": "stdout",
     "output_type": "stream",
     "text": [
      "2022-04-07 19:49.08 [info     ] FQE_20220407194850: epoch=8 step=7024 epoch=8 metrics={'time_sample_batch': 0.00014348969644185894, 'time_algorithm_update': 0.0018090058567855245, 'loss': 0.0032100877413122238, 'time_step': 0.0020155005140022157, 'init_value': -0.5765939950942993, 'ave_value': -0.5767519605768846, 'soft_opc': nan} step=7024\n"
     ]
    },
    {
     "name": "stderr",
     "output_type": "stream",
     "text": [
      "WARNING:root:NaN or Inf found in input tensor.\n"
     ]
    },
    {
     "name": "stdout",
     "output_type": "stream",
     "text": [
      "2022-04-07 19:49.08 [info     ] Model parameters are saved to d3rlpy_logs/FQE_20220407194850/model_7024.pt\n"
     ]
    },
    {
     "data": {
      "application/vnd.jupyter.widget-view+json": {
       "model_id": "9869049d2f544fa185223071b87f3e0a",
       "version_major": 2,
       "version_minor": 0
      },
      "text/plain": [
       "Epoch 9/50:   0%|          | 0/878 [00:00<?, ?it/s]"
      ]
     },
     "metadata": {},
     "output_type": "display_data"
    },
    {
     "name": "stderr",
     "output_type": "stream",
     "text": [
      "WARNING:root:NaN or Inf found in input tensor.\n"
     ]
    },
    {
     "name": "stdout",
     "output_type": "stream",
     "text": [
      "2022-04-07 19:49.10 [info     ] FQE_20220407194850: epoch=9 step=7902 epoch=9 metrics={'time_sample_batch': 0.0001387047604710746, 'time_algorithm_update': 0.0017611437343519206, 'loss': 0.003562965304770195, 'time_step': 0.001964152538151839, 'init_value': -0.588071882724762, 'ave_value': -0.5881606059232182, 'soft_opc': nan} step=7902\n"
     ]
    },
    {
     "name": "stderr",
     "output_type": "stream",
     "text": [
      "WARNING:root:NaN or Inf found in input tensor.\n"
     ]
    },
    {
     "name": "stdout",
     "output_type": "stream",
     "text": [
      "2022-04-07 19:49.10 [info     ] Model parameters are saved to d3rlpy_logs/FQE_20220407194850/model_7902.pt\n"
     ]
    },
    {
     "data": {
      "application/vnd.jupyter.widget-view+json": {
       "model_id": "a5ad3545512d49999a34bfe6b5793c50",
       "version_major": 2,
       "version_minor": 0
      },
      "text/plain": [
       "Epoch 10/50:   0%|          | 0/878 [00:00<?, ?it/s]"
      ]
     },
     "metadata": {},
     "output_type": "display_data"
    },
    {
     "name": "stderr",
     "output_type": "stream",
     "text": [
      "WARNING:root:NaN or Inf found in input tensor.\n"
     ]
    },
    {
     "name": "stdout",
     "output_type": "stream",
     "text": [
      "2022-04-07 19:49.12 [info     ] FQE_20220407194850: epoch=10 step=8780 epoch=10 metrics={'time_sample_batch': 0.000142490130622186, 'time_algorithm_update': 0.0018443806024781664, 'loss': 0.0038599560598522285, 'time_step': 0.002051507693488397, 'init_value': -0.6292597055435181, 'ave_value': -0.6293768399491357, 'soft_opc': nan} step=8780\n"
     ]
    },
    {
     "name": "stderr",
     "output_type": "stream",
     "text": [
      "WARNING:root:NaN or Inf found in input tensor.\n"
     ]
    },
    {
     "name": "stdout",
     "output_type": "stream",
     "text": [
      "2022-04-07 19:49.12 [info     ] Model parameters are saved to d3rlpy_logs/FQE_20220407194850/model_8780.pt\n"
     ]
    },
    {
     "data": {
      "application/vnd.jupyter.widget-view+json": {
       "model_id": "f6080eefe27a4179aa689586fa8c2b02",
       "version_major": 2,
       "version_minor": 0
      },
      "text/plain": [
       "Epoch 11/50:   0%|          | 0/878 [00:00<?, ?it/s]"
      ]
     },
     "metadata": {},
     "output_type": "display_data"
    },
    {
     "name": "stderr",
     "output_type": "stream",
     "text": [
      "WARNING:root:NaN or Inf found in input tensor.\n"
     ]
    },
    {
     "name": "stdout",
     "output_type": "stream",
     "text": [
      "2022-04-07 19:49.14 [info     ] FQE_20220407194850: epoch=11 step=9658 epoch=11 metrics={'time_sample_batch': 0.00013953841085586027, 'time_algorithm_update': 0.0018321957294924656, 'loss': 0.004020931352498795, 'time_step': 0.002034785535721138, 'init_value': -0.6142115592956543, 'ave_value': -0.6144027234692394, 'soft_opc': nan} step=9658\n"
     ]
    },
    {
     "name": "stderr",
     "output_type": "stream",
     "text": [
      "WARNING:root:NaN or Inf found in input tensor.\n"
     ]
    },
    {
     "name": "stdout",
     "output_type": "stream",
     "text": [
      "2022-04-07 19:49.14 [info     ] Model parameters are saved to d3rlpy_logs/FQE_20220407194850/model_9658.pt\n"
     ]
    },
    {
     "data": {
      "application/vnd.jupyter.widget-view+json": {
       "model_id": "9fc64cff2c9e4edbbe82e7c28a3c37c1",
       "version_major": 2,
       "version_minor": 0
      },
      "text/plain": [
       "Epoch 12/50:   0%|          | 0/878 [00:00<?, ?it/s]"
      ]
     },
     "metadata": {},
     "output_type": "display_data"
    },
    {
     "name": "stderr",
     "output_type": "stream",
     "text": [
      "WARNING:root:NaN or Inf found in input tensor.\n"
     ]
    },
    {
     "name": "stdout",
     "output_type": "stream",
     "text": [
      "2022-04-07 19:49.16 [info     ] FQE_20220407194850: epoch=12 step=10536 epoch=12 metrics={'time_sample_batch': 0.00012201600302867846, 'time_algorithm_update': 0.0015235712968135477, 'loss': 0.003971233364457088, 'time_step': 0.0017041187894643033, 'init_value': -0.6109127998352051, 'ave_value': -0.6111909745611801, 'soft_opc': nan} step=10536\n"
     ]
    },
    {
     "name": "stderr",
     "output_type": "stream",
     "text": [
      "WARNING:root:NaN or Inf found in input tensor.\n"
     ]
    },
    {
     "name": "stdout",
     "output_type": "stream",
     "text": [
      "2022-04-07 19:49.16 [info     ] Model parameters are saved to d3rlpy_logs/FQE_20220407194850/model_10536.pt\n"
     ]
    },
    {
     "data": {
      "application/vnd.jupyter.widget-view+json": {
       "model_id": "e795f2d4f65940f5b609b1e71586eaaf",
       "version_major": 2,
       "version_minor": 0
      },
      "text/plain": [
       "Epoch 13/50:   0%|          | 0/878 [00:00<?, ?it/s]"
      ]
     },
     "metadata": {},
     "output_type": "display_data"
    },
    {
     "name": "stderr",
     "output_type": "stream",
     "text": [
      "WARNING:root:NaN or Inf found in input tensor.\n"
     ]
    },
    {
     "name": "stdout",
     "output_type": "stream",
     "text": [
      "2022-04-07 19:49.18 [info     ] FQE_20220407194850: epoch=13 step=11414 epoch=13 metrics={'time_sample_batch': 0.00012806607813389806, 'time_algorithm_update': 0.0015540682373394457, 'loss': 0.004124440234611219, 'time_step': 0.0017436642310070828, 'init_value': -0.6723973751068115, 'ave_value': -0.6727262635148294, 'soft_opc': nan} step=11414\n"
     ]
    },
    {
     "name": "stderr",
     "output_type": "stream",
     "text": [
      "WARNING:root:NaN or Inf found in input tensor.\n"
     ]
    },
    {
     "name": "stdout",
     "output_type": "stream",
     "text": [
      "2022-04-07 19:49.18 [info     ] Model parameters are saved to d3rlpy_logs/FQE_20220407194850/model_11414.pt\n"
     ]
    },
    {
     "data": {
      "application/vnd.jupyter.widget-view+json": {
       "model_id": "fa198f08e9d3400e99c71c84a86b8b3d",
       "version_major": 2,
       "version_minor": 0
      },
      "text/plain": [
       "Epoch 14/50:   0%|          | 0/878 [00:00<?, ?it/s]"
      ]
     },
     "metadata": {},
     "output_type": "display_data"
    },
    {
     "name": "stderr",
     "output_type": "stream",
     "text": [
      "WARNING:root:NaN or Inf found in input tensor.\n"
     ]
    },
    {
     "name": "stdout",
     "output_type": "stream",
     "text": [
      "2022-04-07 19:49.20 [info     ] FQE_20220407194850: epoch=14 step=12292 epoch=14 metrics={'time_sample_batch': 0.0001253668974092175, 'time_algorithm_update': 0.0015491888028885618, 'loss': 0.004894195457321413, 'time_step': 0.0017338727764225224, 'init_value': -0.6508049964904785, 'ave_value': -0.6511300045975137, 'soft_opc': nan} step=12292\n"
     ]
    },
    {
     "name": "stderr",
     "output_type": "stream",
     "text": [
      "WARNING:root:NaN or Inf found in input tensor.\n"
     ]
    },
    {
     "name": "stdout",
     "output_type": "stream",
     "text": [
      "2022-04-07 19:49.20 [info     ] Model parameters are saved to d3rlpy_logs/FQE_20220407194850/model_12292.pt\n"
     ]
    },
    {
     "data": {
      "application/vnd.jupyter.widget-view+json": {
       "model_id": "239fcdd90a054f288a6e323980489176",
       "version_major": 2,
       "version_minor": 0
      },
      "text/plain": [
       "Epoch 15/50:   0%|          | 0/878 [00:00<?, ?it/s]"
      ]
     },
     "metadata": {},
     "output_type": "display_data"
    },
    {
     "name": "stderr",
     "output_type": "stream",
     "text": [
      "WARNING:root:NaN or Inf found in input tensor.\n"
     ]
    },
    {
     "name": "stdout",
     "output_type": "stream",
     "text": [
      "2022-04-07 19:49.21 [info     ] FQE_20220407194850: epoch=15 step=13170 epoch=15 metrics={'time_sample_batch': 0.00012968993132641212, 'time_algorithm_update': 0.001607042510308546, 'loss': 0.004153197342788156, 'time_step': 0.001797948991519172, 'init_value': -0.6222880482673645, 'ave_value': -0.6226206263478761, 'soft_opc': nan} step=13170\n"
     ]
    },
    {
     "name": "stderr",
     "output_type": "stream",
     "text": [
      "WARNING:root:NaN or Inf found in input tensor.\n"
     ]
    },
    {
     "name": "stdout",
     "output_type": "stream",
     "text": [
      "2022-04-07 19:49.21 [info     ] Model parameters are saved to d3rlpy_logs/FQE_20220407194850/model_13170.pt\n"
     ]
    },
    {
     "data": {
      "application/vnd.jupyter.widget-view+json": {
       "model_id": "e64f59064ed74b44af9838dab1eae226",
       "version_major": 2,
       "version_minor": 0
      },
      "text/plain": [
       "Epoch 16/50:   0%|          | 0/878 [00:00<?, ?it/s]"
      ]
     },
     "metadata": {},
     "output_type": "display_data"
    },
    {
     "name": "stderr",
     "output_type": "stream",
     "text": [
      "WARNING:root:NaN or Inf found in input tensor.\n"
     ]
    },
    {
     "name": "stdout",
     "output_type": "stream",
     "text": [
      "2022-04-07 19:49.23 [info     ] FQE_20220407194850: epoch=16 step=14048 epoch=16 metrics={'time_sample_batch': 0.00013001796053319423, 'time_algorithm_update': 0.0016185762127331014, 'loss': 0.003910564572055144, 'time_step': 0.0018098020336350983, 'init_value': -0.6139489412307739, 'ave_value': -0.6141650852150214, 'soft_opc': nan} step=14048\n"
     ]
    },
    {
     "name": "stderr",
     "output_type": "stream",
     "text": [
      "WARNING:root:NaN or Inf found in input tensor.\n"
     ]
    },
    {
     "name": "stdout",
     "output_type": "stream",
     "text": [
      "2022-04-07 19:49.23 [info     ] Model parameters are saved to d3rlpy_logs/FQE_20220407194850/model_14048.pt\n"
     ]
    },
    {
     "data": {
      "application/vnd.jupyter.widget-view+json": {
       "model_id": "02af14111d3f4cf787e5b787e0c64a7f",
       "version_major": 2,
       "version_minor": 0
      },
      "text/plain": [
       "Epoch 17/50:   0%|          | 0/878 [00:00<?, ?it/s]"
      ]
     },
     "metadata": {},
     "output_type": "display_data"
    },
    {
     "name": "stderr",
     "output_type": "stream",
     "text": [
      "WARNING:root:NaN or Inf found in input tensor.\n"
     ]
    },
    {
     "name": "stdout",
     "output_type": "stream",
     "text": [
      "2022-04-07 19:49.25 [info     ] FQE_20220407194850: epoch=17 step=14926 epoch=17 metrics={'time_sample_batch': 0.00012625730119153415, 'time_algorithm_update': 0.0015763524996121, 'loss': 0.0038726337262825366, 'time_step': 0.001765379601567644, 'init_value': -0.5876414179801941, 'ave_value': -0.5878606042406419, 'soft_opc': nan} step=14926\n"
     ]
    },
    {
     "name": "stderr",
     "output_type": "stream",
     "text": [
      "WARNING:root:NaN or Inf found in input tensor.\n"
     ]
    },
    {
     "name": "stdout",
     "output_type": "stream",
     "text": [
      "2022-04-07 19:49.25 [info     ] Model parameters are saved to d3rlpy_logs/FQE_20220407194850/model_14926.pt\n"
     ]
    },
    {
     "data": {
      "application/vnd.jupyter.widget-view+json": {
       "model_id": "abeca2d7c9cd480493843ee06c748326",
       "version_major": 2,
       "version_minor": 0
      },
      "text/plain": [
       "Epoch 18/50:   0%|          | 0/878 [00:00<?, ?it/s]"
      ]
     },
     "metadata": {},
     "output_type": "display_data"
    },
    {
     "name": "stderr",
     "output_type": "stream",
     "text": [
      "WARNING:root:NaN or Inf found in input tensor.\n"
     ]
    },
    {
     "name": "stdout",
     "output_type": "stream",
     "text": [
      "2022-04-07 19:49.27 [info     ] FQE_20220407194850: epoch=18 step=15804 epoch=18 metrics={'time_sample_batch': 0.00012379273738296264, 'time_algorithm_update': 0.0015785254215596749, 'loss': 0.003659903031282962, 'time_step': 0.0017593588535769382, 'init_value': -0.6034366488456726, 'ave_value': -0.6036064844527376, 'soft_opc': nan} step=15804\n"
     ]
    },
    {
     "name": "stderr",
     "output_type": "stream",
     "text": [
      "WARNING:root:NaN or Inf found in input tensor.\n"
     ]
    },
    {
     "name": "stdout",
     "output_type": "stream",
     "text": [
      "2022-04-07 19:49.27 [info     ] Model parameters are saved to d3rlpy_logs/FQE_20220407194850/model_15804.pt\n"
     ]
    },
    {
     "data": {
      "application/vnd.jupyter.widget-view+json": {
       "model_id": "8c7260ea192d45229b0ade1d7669a470",
       "version_major": 2,
       "version_minor": 0
      },
      "text/plain": [
       "Epoch 19/50:   0%|          | 0/878 [00:00<?, ?it/s]"
      ]
     },
     "metadata": {},
     "output_type": "display_data"
    },
    {
     "name": "stderr",
     "output_type": "stream",
     "text": [
      "WARNING:root:NaN or Inf found in input tensor.\n"
     ]
    },
    {
     "name": "stdout",
     "output_type": "stream",
     "text": [
      "2022-04-07 19:49.29 [info     ] FQE_20220407194850: epoch=19 step=16682 epoch=19 metrics={'time_sample_batch': 0.00012326430622700406, 'time_algorithm_update': 0.0015189175182160049, 'loss': 0.0037361552177988286, 'time_step': 0.001702160118381092, 'init_value': -0.6020742058753967, 'ave_value': -0.6022639164119201, 'soft_opc': nan} step=16682\n"
     ]
    },
    {
     "name": "stderr",
     "output_type": "stream",
     "text": [
      "WARNING:root:NaN or Inf found in input tensor.\n"
     ]
    },
    {
     "name": "stdout",
     "output_type": "stream",
     "text": [
      "2022-04-07 19:49.29 [info     ] Model parameters are saved to d3rlpy_logs/FQE_20220407194850/model_16682.pt\n"
     ]
    },
    {
     "data": {
      "application/vnd.jupyter.widget-view+json": {
       "model_id": "9fd43e17287d4266ac271f25e801de84",
       "version_major": 2,
       "version_minor": 0
      },
      "text/plain": [
       "Epoch 20/50:   0%|          | 0/878 [00:00<?, ?it/s]"
      ]
     },
     "metadata": {},
     "output_type": "display_data"
    },
    {
     "name": "stderr",
     "output_type": "stream",
     "text": [
      "WARNING:root:NaN or Inf found in input tensor.\n"
     ]
    },
    {
     "name": "stdout",
     "output_type": "stream",
     "text": [
      "2022-04-07 19:49.30 [info     ] FQE_20220407194850: epoch=20 step=17560 epoch=20 metrics={'time_sample_batch': 0.00012508991910547765, 'time_algorithm_update': 0.0015198410507758278, 'loss': 0.004283547543769841, 'time_step': 0.00170327373409054, 'init_value': -0.6489408612251282, 'ave_value': -0.649124080678953, 'soft_opc': nan} step=17560\n"
     ]
    },
    {
     "name": "stderr",
     "output_type": "stream",
     "text": [
      "WARNING:root:NaN or Inf found in input tensor.\n"
     ]
    },
    {
     "name": "stdout",
     "output_type": "stream",
     "text": [
      "2022-04-07 19:49.30 [info     ] Model parameters are saved to d3rlpy_logs/FQE_20220407194850/model_17560.pt\n"
     ]
    },
    {
     "data": {
      "application/vnd.jupyter.widget-view+json": {
       "model_id": "884e03163b654d85b649ff0d9fc154ee",
       "version_major": 2,
       "version_minor": 0
      },
      "text/plain": [
       "Epoch 21/50:   0%|          | 0/878 [00:00<?, ?it/s]"
      ]
     },
     "metadata": {},
     "output_type": "display_data"
    },
    {
     "name": "stderr",
     "output_type": "stream",
     "text": [
      "WARNING:root:NaN or Inf found in input tensor.\n"
     ]
    },
    {
     "name": "stdout",
     "output_type": "stream",
     "text": [
      "2022-04-07 19:49.32 [info     ] FQE_20220407194850: epoch=21 step=18438 epoch=21 metrics={'time_sample_batch': 0.00012541088808098796, 'time_algorithm_update': 0.0015685838012869102, 'loss': 0.004278583643735952, 'time_step': 0.0017535067364946857, 'init_value': -0.6528856754302979, 'ave_value': -0.6530297988849463, 'soft_opc': nan} step=18438\n"
     ]
    },
    {
     "name": "stderr",
     "output_type": "stream",
     "text": [
      "WARNING:root:NaN or Inf found in input tensor.\n"
     ]
    },
    {
     "name": "stdout",
     "output_type": "stream",
     "text": [
      "2022-04-07 19:49.32 [info     ] Model parameters are saved to d3rlpy_logs/FQE_20220407194850/model_18438.pt\n"
     ]
    },
    {
     "data": {
      "application/vnd.jupyter.widget-view+json": {
       "model_id": "6d2d654fd9bb4e38bf835525c3a609c4",
       "version_major": 2,
       "version_minor": 0
      },
      "text/plain": [
       "Epoch 22/50:   0%|          | 0/878 [00:00<?, ?it/s]"
      ]
     },
     "metadata": {},
     "output_type": "display_data"
    },
    {
     "name": "stderr",
     "output_type": "stream",
     "text": [
      "WARNING:root:NaN or Inf found in input tensor.\n"
     ]
    },
    {
     "name": "stdout",
     "output_type": "stream",
     "text": [
      "2022-04-07 19:49.34 [info     ] FQE_20220407194850: epoch=22 step=19316 epoch=22 metrics={'time_sample_batch': 0.0001252180894577965, 'time_algorithm_update': 0.001573262562241261, 'loss': 0.004312108672440449, 'time_step': 0.001757071881739588, 'init_value': -0.6294997930526733, 'ave_value': -0.6296672753656603, 'soft_opc': nan} step=19316\n"
     ]
    },
    {
     "name": "stderr",
     "output_type": "stream",
     "text": [
      "WARNING:root:NaN or Inf found in input tensor.\n"
     ]
    },
    {
     "name": "stdout",
     "output_type": "stream",
     "text": [
      "2022-04-07 19:49.34 [info     ] Model parameters are saved to d3rlpy_logs/FQE_20220407194850/model_19316.pt\n"
     ]
    },
    {
     "data": {
      "application/vnd.jupyter.widget-view+json": {
       "model_id": "61c6cbd34a07468898623bec139c9c17",
       "version_major": 2,
       "version_minor": 0
      },
      "text/plain": [
       "Epoch 23/50:   0%|          | 0/878 [00:00<?, ?it/s]"
      ]
     },
     "metadata": {},
     "output_type": "display_data"
    },
    {
     "name": "stderr",
     "output_type": "stream",
     "text": [
      "WARNING:root:NaN or Inf found in input tensor.\n"
     ]
    },
    {
     "name": "stdout",
     "output_type": "stream",
     "text": [
      "2022-04-07 19:49.36 [info     ] FQE_20220407194850: epoch=23 step=20194 epoch=23 metrics={'time_sample_batch': 0.00012083531512214817, 'time_algorithm_update': 0.0014838938832554566, 'loss': 0.004107380620518975, 'time_step': 0.0016599923440155516, 'init_value': -0.6225336194038391, 'ave_value': -0.6226709418232665, 'soft_opc': nan} step=20194\n"
     ]
    },
    {
     "name": "stderr",
     "output_type": "stream",
     "text": [
      "WARNING:root:NaN or Inf found in input tensor.\n"
     ]
    },
    {
     "name": "stdout",
     "output_type": "stream",
     "text": [
      "2022-04-07 19:49.36 [info     ] Model parameters are saved to d3rlpy_logs/FQE_20220407194850/model_20194.pt\n"
     ]
    },
    {
     "data": {
      "application/vnd.jupyter.widget-view+json": {
       "model_id": "a7fe496fecff48ab893f2363b203118b",
       "version_major": 2,
       "version_minor": 0
      },
      "text/plain": [
       "Epoch 24/50:   0%|          | 0/878 [00:00<?, ?it/s]"
      ]
     },
     "metadata": {},
     "output_type": "display_data"
    },
    {
     "name": "stderr",
     "output_type": "stream",
     "text": [
      "WARNING:root:NaN or Inf found in input tensor.\n"
     ]
    },
    {
     "name": "stdout",
     "output_type": "stream",
     "text": [
      "2022-04-07 19:49.37 [info     ] FQE_20220407194850: epoch=24 step=21072 epoch=24 metrics={'time_sample_batch': 0.00012106450109112507, 'time_algorithm_update': 0.0015149632456090837, 'loss': 0.0040964599329420944, 'time_step': 0.0016927409552224405, 'init_value': -0.6306828260421753, 'ave_value': -0.6306369911678331, 'soft_opc': nan} step=21072\n"
     ]
    },
    {
     "name": "stderr",
     "output_type": "stream",
     "text": [
      "WARNING:root:NaN or Inf found in input tensor.\n"
     ]
    },
    {
     "name": "stdout",
     "output_type": "stream",
     "text": [
      "2022-04-07 19:49.37 [info     ] Model parameters are saved to d3rlpy_logs/FQE_20220407194850/model_21072.pt\n"
     ]
    },
    {
     "data": {
      "application/vnd.jupyter.widget-view+json": {
       "model_id": "79eb51185274402298f026a0cae7fc45",
       "version_major": 2,
       "version_minor": 0
      },
      "text/plain": [
       "Epoch 25/50:   0%|          | 0/878 [00:00<?, ?it/s]"
      ]
     },
     "metadata": {},
     "output_type": "display_data"
    },
    {
     "name": "stderr",
     "output_type": "stream",
     "text": [
      "WARNING:root:NaN or Inf found in input tensor.\n"
     ]
    },
    {
     "name": "stdout",
     "output_type": "stream",
     "text": [
      "2022-04-07 19:49.39 [info     ] FQE_20220407194850: epoch=25 step=21950 epoch=25 metrics={'time_sample_batch': 0.00012252624051174434, 'time_algorithm_update': 0.0015546773180603166, 'loss': 0.0040556680729961665, 'time_step': 0.0017347577492577068, 'init_value': -0.6314060688018799, 'ave_value': -0.6313676404789392, 'soft_opc': nan} step=21950\n"
     ]
    },
    {
     "name": "stderr",
     "output_type": "stream",
     "text": [
      "WARNING:root:NaN or Inf found in input tensor.\n"
     ]
    },
    {
     "name": "stdout",
     "output_type": "stream",
     "text": [
      "2022-04-07 19:49.39 [info     ] Model parameters are saved to d3rlpy_logs/FQE_20220407194850/model_21950.pt\n"
     ]
    },
    {
     "data": {
      "application/vnd.jupyter.widget-view+json": {
       "model_id": "b0aebb5d3f6942bcafeefd005e16d8c5",
       "version_major": 2,
       "version_minor": 0
      },
      "text/plain": [
       "Epoch 26/50:   0%|          | 0/878 [00:00<?, ?it/s]"
      ]
     },
     "metadata": {},
     "output_type": "display_data"
    },
    {
     "name": "stderr",
     "output_type": "stream",
     "text": [
      "WARNING:root:NaN or Inf found in input tensor.\n"
     ]
    },
    {
     "name": "stdout",
     "output_type": "stream",
     "text": [
      "2022-04-07 19:49.41 [info     ] FQE_20220407194850: epoch=26 step=22828 epoch=26 metrics={'time_sample_batch': 0.00011828847246452454, 'time_algorithm_update': 0.0014715564006553424, 'loss': 0.004258332785616352, 'time_step': 0.001645823546042475, 'init_value': -0.6578958034515381, 'ave_value': -0.6578331921294682, 'soft_opc': nan} step=22828\n"
     ]
    },
    {
     "name": "stderr",
     "output_type": "stream",
     "text": [
      "WARNING:root:NaN or Inf found in input tensor.\n"
     ]
    },
    {
     "name": "stdout",
     "output_type": "stream",
     "text": [
      "2022-04-07 19:49.41 [info     ] Model parameters are saved to d3rlpy_logs/FQE_20220407194850/model_22828.pt\n"
     ]
    },
    {
     "data": {
      "application/vnd.jupyter.widget-view+json": {
       "model_id": "e7861aca8976465a8a8555e6b50ad1d1",
       "version_major": 2,
       "version_minor": 0
      },
      "text/plain": [
       "Epoch 27/50:   0%|          | 0/878 [00:00<?, ?it/s]"
      ]
     },
     "metadata": {},
     "output_type": "display_data"
    },
    {
     "name": "stderr",
     "output_type": "stream",
     "text": [
      "WARNING:root:NaN or Inf found in input tensor.\n"
     ]
    },
    {
     "name": "stdout",
     "output_type": "stream",
     "text": [
      "2022-04-07 19:49.42 [info     ] FQE_20220407194850: epoch=27 step=23706 epoch=27 metrics={'time_sample_batch': 0.00012147833926259521, 'time_algorithm_update': 0.0014800126568874628, 'loss': 0.004506604511940947, 'time_step': 0.0016577987844688747, 'init_value': -0.6777089238166809, 'ave_value': -0.6775950481047442, 'soft_opc': nan} step=23706\n"
     ]
    },
    {
     "name": "stderr",
     "output_type": "stream",
     "text": [
      "WARNING:root:NaN or Inf found in input tensor.\n"
     ]
    },
    {
     "name": "stdout",
     "output_type": "stream",
     "text": [
      "2022-04-07 19:49.42 [info     ] Model parameters are saved to d3rlpy_logs/FQE_20220407194850/model_23706.pt\n"
     ]
    },
    {
     "data": {
      "application/vnd.jupyter.widget-view+json": {
       "model_id": "5c8c7fc16c1d41869653de23c81028e6",
       "version_major": 2,
       "version_minor": 0
      },
      "text/plain": [
       "Epoch 28/50:   0%|          | 0/878 [00:00<?, ?it/s]"
      ]
     },
     "metadata": {},
     "output_type": "display_data"
    },
    {
     "name": "stderr",
     "output_type": "stream",
     "text": [
      "WARNING:root:NaN or Inf found in input tensor.\n"
     ]
    },
    {
     "name": "stdout",
     "output_type": "stream",
     "text": [
      "2022-04-07 19:49.44 [info     ] FQE_20220407194850: epoch=28 step=24584 epoch=28 metrics={'time_sample_batch': 0.00012354725857258929, 'time_algorithm_update': 0.0015428823870787046, 'loss': 0.00463228549544328, 'time_step': 0.0017255835218147157, 'init_value': -0.6665012240409851, 'ave_value': -0.6664280457822137, 'soft_opc': nan} step=24584\n"
     ]
    },
    {
     "name": "stderr",
     "output_type": "stream",
     "text": [
      "WARNING:root:NaN or Inf found in input tensor.\n"
     ]
    },
    {
     "name": "stdout",
     "output_type": "stream",
     "text": [
      "2022-04-07 19:49.44 [info     ] Model parameters are saved to d3rlpy_logs/FQE_20220407194850/model_24584.pt\n"
     ]
    },
    {
     "data": {
      "application/vnd.jupyter.widget-view+json": {
       "model_id": "82e3b6eeaaa3450eb3920f141b8f0bb8",
       "version_major": 2,
       "version_minor": 0
      },
      "text/plain": [
       "Epoch 29/50:   0%|          | 0/878 [00:00<?, ?it/s]"
      ]
     },
     "metadata": {},
     "output_type": "display_data"
    },
    {
     "name": "stderr",
     "output_type": "stream",
     "text": [
      "WARNING:root:NaN or Inf found in input tensor.\n"
     ]
    },
    {
     "name": "stdout",
     "output_type": "stream",
     "text": [
      "2022-04-07 19:49.46 [info     ] FQE_20220407194850: epoch=29 step=25462 epoch=29 metrics={'time_sample_batch': 0.00012001659984197595, 'time_algorithm_update': 0.0014527685821463688, 'loss': 0.004254249760081989, 'time_step': 0.0016284768293550183, 'init_value': -0.6546343564987183, 'ave_value': -0.6544837074788545, 'soft_opc': nan} step=25462\n"
     ]
    },
    {
     "name": "stderr",
     "output_type": "stream",
     "text": [
      "WARNING:root:NaN or Inf found in input tensor.\n"
     ]
    },
    {
     "name": "stdout",
     "output_type": "stream",
     "text": [
      "2022-04-07 19:49.46 [info     ] Model parameters are saved to d3rlpy_logs/FQE_20220407194850/model_25462.pt\n"
     ]
    },
    {
     "data": {
      "application/vnd.jupyter.widget-view+json": {
       "model_id": "f29c84d215ff4df3a52164b8ae0af00f",
       "version_major": 2,
       "version_minor": 0
      },
      "text/plain": [
       "Epoch 30/50:   0%|          | 0/878 [00:00<?, ?it/s]"
      ]
     },
     "metadata": {},
     "output_type": "display_data"
    },
    {
     "name": "stderr",
     "output_type": "stream",
     "text": [
      "WARNING:root:NaN or Inf found in input tensor.\n"
     ]
    },
    {
     "name": "stdout",
     "output_type": "stream",
     "text": [
      "2022-04-07 19:49.48 [info     ] FQE_20220407194850: epoch=30 step=26340 epoch=30 metrics={'time_sample_batch': 0.0001184000784280903, 'time_algorithm_update': 0.0014364586332664402, 'loss': 0.004000720313246418, 'time_step': 0.0016101989767817538, 'init_value': -0.619335412979126, 'ave_value': -0.619207343428216, 'soft_opc': nan} step=26340\n"
     ]
    },
    {
     "name": "stderr",
     "output_type": "stream",
     "text": [
      "WARNING:root:NaN or Inf found in input tensor.\n"
     ]
    },
    {
     "name": "stdout",
     "output_type": "stream",
     "text": [
      "2022-04-07 19:49.48 [info     ] Model parameters are saved to d3rlpy_logs/FQE_20220407194850/model_26340.pt\n"
     ]
    },
    {
     "data": {
      "application/vnd.jupyter.widget-view+json": {
       "model_id": "a297114b374148049791c5ab5469d0ea",
       "version_major": 2,
       "version_minor": 0
      },
      "text/plain": [
       "Epoch 31/50:   0%|          | 0/878 [00:00<?, ?it/s]"
      ]
     },
     "metadata": {},
     "output_type": "display_data"
    },
    {
     "name": "stderr",
     "output_type": "stream",
     "text": [
      "WARNING:root:NaN or Inf found in input tensor.\n"
     ]
    },
    {
     "name": "stdout",
     "output_type": "stream",
     "text": [
      "2022-04-07 19:49.49 [info     ] FQE_20220407194850: epoch=31 step=27218 epoch=31 metrics={'time_sample_batch': 0.00012036092189015451, 'time_algorithm_update': 0.00156201507073057, 'loss': 0.0038665523626740315, 'time_step': 0.0017401479642863698, 'init_value': -0.6279152035713196, 'ave_value': -0.6278322641697894, 'soft_opc': nan} step=27218\n"
     ]
    },
    {
     "name": "stderr",
     "output_type": "stream",
     "text": [
      "WARNING:root:NaN or Inf found in input tensor.\n"
     ]
    },
    {
     "name": "stdout",
     "output_type": "stream",
     "text": [
      "2022-04-07 19:49.49 [info     ] Model parameters are saved to d3rlpy_logs/FQE_20220407194850/model_27218.pt\n"
     ]
    },
    {
     "data": {
      "application/vnd.jupyter.widget-view+json": {
       "model_id": "81c0ad3d1d0a4f029b03209b9463e993",
       "version_major": 2,
       "version_minor": 0
      },
      "text/plain": [
       "Epoch 32/50:   0%|          | 0/878 [00:00<?, ?it/s]"
      ]
     },
     "metadata": {},
     "output_type": "display_data"
    },
    {
     "name": "stderr",
     "output_type": "stream",
     "text": [
      "WARNING:root:NaN or Inf found in input tensor.\n"
     ]
    },
    {
     "name": "stdout",
     "output_type": "stream",
     "text": [
      "2022-04-07 19:49.51 [info     ] FQE_20220407194850: epoch=32 step=28096 epoch=32 metrics={'time_sample_batch': 0.00012134609569992726, 'time_algorithm_update': 0.0015219439135053978, 'loss': 0.004055329641353095, 'time_step': 0.0016991820585211751, 'init_value': -0.6325485706329346, 'ave_value': -0.6324408509425453, 'soft_opc': nan} step=28096\n"
     ]
    },
    {
     "name": "stderr",
     "output_type": "stream",
     "text": [
      "WARNING:root:NaN or Inf found in input tensor.\n"
     ]
    },
    {
     "name": "stdout",
     "output_type": "stream",
     "text": [
      "2022-04-07 19:49.51 [info     ] Model parameters are saved to d3rlpy_logs/FQE_20220407194850/model_28096.pt\n"
     ]
    },
    {
     "data": {
      "application/vnd.jupyter.widget-view+json": {
       "model_id": "8ba3826e939a45d4bc29d20f7832987a",
       "version_major": 2,
       "version_minor": 0
      },
      "text/plain": [
       "Epoch 33/50:   0%|          | 0/878 [00:00<?, ?it/s]"
      ]
     },
     "metadata": {},
     "output_type": "display_data"
    },
    {
     "name": "stderr",
     "output_type": "stream",
     "text": [
      "WARNING:root:NaN or Inf found in input tensor.\n"
     ]
    },
    {
     "name": "stdout",
     "output_type": "stream",
     "text": [
      "2022-04-07 19:49.53 [info     ] FQE_20220407194850: epoch=33 step=28974 epoch=33 metrics={'time_sample_batch': 0.00013328467523318488, 'time_algorithm_update': 0.0016553597461118241, 'loss': 0.0037707445889549355, 'time_step': 0.0018514546826651536, 'init_value': -0.602290689945221, 'ave_value': -0.6022351570749712, 'soft_opc': nan} step=28974\n"
     ]
    },
    {
     "name": "stderr",
     "output_type": "stream",
     "text": [
      "WARNING:root:NaN or Inf found in input tensor.\n"
     ]
    },
    {
     "name": "stdout",
     "output_type": "stream",
     "text": [
      "2022-04-07 19:49.53 [info     ] Model parameters are saved to d3rlpy_logs/FQE_20220407194850/model_28974.pt\n"
     ]
    },
    {
     "data": {
      "application/vnd.jupyter.widget-view+json": {
       "model_id": "e7bb2605c4314a66a3838b9bf250e98f",
       "version_major": 2,
       "version_minor": 0
      },
      "text/plain": [
       "Epoch 34/50:   0%|          | 0/878 [00:00<?, ?it/s]"
      ]
     },
     "metadata": {},
     "output_type": "display_data"
    },
    {
     "name": "stderr",
     "output_type": "stream",
     "text": [
      "WARNING:root:NaN or Inf found in input tensor.\n"
     ]
    },
    {
     "name": "stdout",
     "output_type": "stream",
     "text": [
      "2022-04-07 19:49.55 [info     ] FQE_20220407194850: epoch=34 step=29852 epoch=34 metrics={'time_sample_batch': 0.0001363985087714054, 'time_algorithm_update': 0.001692198675151295, 'loss': 0.003646039285240373, 'time_step': 0.0018922804699943387, 'init_value': -0.5765743255615234, 'ave_value': -0.576544153638771, 'soft_opc': nan} step=29852\n"
     ]
    },
    {
     "name": "stderr",
     "output_type": "stream",
     "text": [
      "WARNING:root:NaN or Inf found in input tensor.\n"
     ]
    },
    {
     "name": "stdout",
     "output_type": "stream",
     "text": [
      "2022-04-07 19:49.55 [info     ] Model parameters are saved to d3rlpy_logs/FQE_20220407194850/model_29852.pt\n"
     ]
    },
    {
     "data": {
      "application/vnd.jupyter.widget-view+json": {
       "model_id": "597008afe46b458bb5c654baf61989d3",
       "version_major": 2,
       "version_minor": 0
      },
      "text/plain": [
       "Epoch 35/50:   0%|          | 0/878 [00:00<?, ?it/s]"
      ]
     },
     "metadata": {},
     "output_type": "display_data"
    },
    {
     "name": "stderr",
     "output_type": "stream",
     "text": [
      "WARNING:root:NaN or Inf found in input tensor.\n"
     ]
    },
    {
     "name": "stdout",
     "output_type": "stream",
     "text": [
      "2022-04-07 19:49.57 [info     ] FQE_20220407194850: epoch=35 step=30730 epoch=35 metrics={'time_sample_batch': 0.00012624372382370378, 'time_algorithm_update': 0.001559402785160004, 'loss': 0.003362278754119288, 'time_step': 0.0017429834617840674, 'init_value': -0.5659874677658081, 'ave_value': -0.5659668807151412, 'soft_opc': nan} step=30730\n"
     ]
    },
    {
     "name": "stderr",
     "output_type": "stream",
     "text": [
      "WARNING:root:NaN or Inf found in input tensor.\n"
     ]
    },
    {
     "name": "stdout",
     "output_type": "stream",
     "text": [
      "2022-04-07 19:49.57 [info     ] Model parameters are saved to d3rlpy_logs/FQE_20220407194850/model_30730.pt\n"
     ]
    },
    {
     "data": {
      "application/vnd.jupyter.widget-view+json": {
       "model_id": "0d301c1a067643aea7cc64dc84777aba",
       "version_major": 2,
       "version_minor": 0
      },
      "text/plain": [
       "Epoch 36/50:   0%|          | 0/878 [00:00<?, ?it/s]"
      ]
     },
     "metadata": {},
     "output_type": "display_data"
    },
    {
     "name": "stderr",
     "output_type": "stream",
     "text": [
      "WARNING:root:NaN or Inf found in input tensor.\n"
     ]
    },
    {
     "name": "stdout",
     "output_type": "stream",
     "text": [
      "2022-04-07 19:49.58 [info     ] FQE_20220407194850: epoch=36 step=31608 epoch=36 metrics={'time_sample_batch': 0.00012590130260702146, 'time_algorithm_update': 0.001543771433124238, 'loss': 0.003209509785349854, 'time_step': 0.0017263403242975812, 'init_value': -0.551683247089386, 'ave_value': -0.5516221187774235, 'soft_opc': nan} step=31608\n"
     ]
    },
    {
     "name": "stderr",
     "output_type": "stream",
     "text": [
      "WARNING:root:NaN or Inf found in input tensor.\n"
     ]
    },
    {
     "name": "stdout",
     "output_type": "stream",
     "text": [
      "2022-04-07 19:49.58 [info     ] Model parameters are saved to d3rlpy_logs/FQE_20220407194850/model_31608.pt\n"
     ]
    },
    {
     "data": {
      "application/vnd.jupyter.widget-view+json": {
       "model_id": "a4fdab5b8d66496aa7aa5ce04a8f733c",
       "version_major": 2,
       "version_minor": 0
      },
      "text/plain": [
       "Epoch 37/50:   0%|          | 0/878 [00:00<?, ?it/s]"
      ]
     },
     "metadata": {},
     "output_type": "display_data"
    },
    {
     "name": "stderr",
     "output_type": "stream",
     "text": [
      "WARNING:root:NaN or Inf found in input tensor.\n"
     ]
    },
    {
     "name": "stdout",
     "output_type": "stream",
     "text": [
      "2022-04-07 19:50.00 [info     ] FQE_20220407194850: epoch=37 step=32486 epoch=37 metrics={'time_sample_batch': 0.00013499569512717002, 'time_algorithm_update': 0.0016873434084151491, 'loss': 0.003038007800560889, 'time_step': 0.0018846228345380015, 'init_value': -0.5527405738830566, 'ave_value': -0.5526889109180074, 'soft_opc': nan} step=32486\n"
     ]
    },
    {
     "name": "stderr",
     "output_type": "stream",
     "text": [
      "WARNING:root:NaN or Inf found in input tensor.\n"
     ]
    },
    {
     "name": "stdout",
     "output_type": "stream",
     "text": [
      "2022-04-07 19:50.00 [info     ] Model parameters are saved to d3rlpy_logs/FQE_20220407194850/model_32486.pt\n"
     ]
    },
    {
     "data": {
      "application/vnd.jupyter.widget-view+json": {
       "model_id": "51481eea6a364c9b8e0c1bd4252e5c75",
       "version_major": 2,
       "version_minor": 0
      },
      "text/plain": [
       "Epoch 38/50:   0%|          | 0/878 [00:00<?, ?it/s]"
      ]
     },
     "metadata": {},
     "output_type": "display_data"
    },
    {
     "name": "stderr",
     "output_type": "stream",
     "text": [
      "WARNING:root:NaN or Inf found in input tensor.\n"
     ]
    },
    {
     "name": "stdout",
     "output_type": "stream",
     "text": [
      "2022-04-07 19:50.02 [info     ] FQE_20220407194850: epoch=38 step=33364 epoch=38 metrics={'time_sample_batch': 0.00012998727568189756, 'time_algorithm_update': 0.0015967997440173034, 'loss': 0.003355651836425487, 'time_step': 0.0017837269702642002, 'init_value': -0.577538788318634, 'ave_value': -0.5775358253425028, 'soft_opc': nan} step=33364\n"
     ]
    },
    {
     "name": "stderr",
     "output_type": "stream",
     "text": [
      "WARNING:root:NaN or Inf found in input tensor.\n"
     ]
    },
    {
     "name": "stdout",
     "output_type": "stream",
     "text": [
      "2022-04-07 19:50.02 [info     ] Model parameters are saved to d3rlpy_logs/FQE_20220407194850/model_33364.pt\n"
     ]
    },
    {
     "data": {
      "application/vnd.jupyter.widget-view+json": {
       "model_id": "43a3c8ab67a84f2c90b9f19154b6e950",
       "version_major": 2,
       "version_minor": 0
      },
      "text/plain": [
       "Epoch 39/50:   0%|          | 0/878 [00:00<?, ?it/s]"
      ]
     },
     "metadata": {},
     "output_type": "display_data"
    },
    {
     "name": "stderr",
     "output_type": "stream",
     "text": [
      "WARNING:root:NaN or Inf found in input tensor.\n"
     ]
    },
    {
     "name": "stdout",
     "output_type": "stream",
     "text": [
      "2022-04-07 19:50.04 [info     ] FQE_20220407194850: epoch=39 step=34242 epoch=39 metrics={'time_sample_batch': 0.00012444472258617774, 'time_algorithm_update': 0.0015018765638520886, 'loss': 0.0033682351215756894, 'time_step': 0.00168385565416688, 'init_value': -0.5750241875648499, 'ave_value': -0.5750399614952286, 'soft_opc': nan} step=34242\n"
     ]
    },
    {
     "name": "stderr",
     "output_type": "stream",
     "text": [
      "WARNING:root:NaN or Inf found in input tensor.\n"
     ]
    },
    {
     "name": "stdout",
     "output_type": "stream",
     "text": [
      "2022-04-07 19:50.04 [info     ] Model parameters are saved to d3rlpy_logs/FQE_20220407194850/model_34242.pt\n"
     ]
    },
    {
     "data": {
      "application/vnd.jupyter.widget-view+json": {
       "model_id": "24975bf2616843a2b5e1f9eb0b916268",
       "version_major": 2,
       "version_minor": 0
      },
      "text/plain": [
       "Epoch 40/50:   0%|          | 0/878 [00:00<?, ?it/s]"
      ]
     },
     "metadata": {},
     "output_type": "display_data"
    },
    {
     "name": "stderr",
     "output_type": "stream",
     "text": [
      "WARNING:root:NaN or Inf found in input tensor.\n"
     ]
    },
    {
     "name": "stdout",
     "output_type": "stream",
     "text": [
      "2022-04-07 19:50.06 [info     ] FQE_20220407194850: epoch=40 step=35120 epoch=40 metrics={'time_sample_batch': 0.00012029819445077813, 'time_algorithm_update': 0.001505951946580057, 'loss': 0.0037426345707707444, 'time_step': 0.0016834480615846117, 'init_value': -0.6245876550674438, 'ave_value': -0.6245940136292298, 'soft_opc': nan} step=35120\n"
     ]
    },
    {
     "name": "stderr",
     "output_type": "stream",
     "text": [
      "WARNING:root:NaN or Inf found in input tensor.\n"
     ]
    },
    {
     "name": "stdout",
     "output_type": "stream",
     "text": [
      "2022-04-07 19:50.06 [info     ] Model parameters are saved to d3rlpy_logs/FQE_20220407194850/model_35120.pt\n"
     ]
    },
    {
     "data": {
      "application/vnd.jupyter.widget-view+json": {
       "model_id": "24ab5a3ec5cb48ce8376727e12ca381e",
       "version_major": 2,
       "version_minor": 0
      },
      "text/plain": [
       "Epoch 41/50:   0%|          | 0/878 [00:00<?, ?it/s]"
      ]
     },
     "metadata": {},
     "output_type": "display_data"
    },
    {
     "name": "stderr",
     "output_type": "stream",
     "text": [
      "WARNING:root:NaN or Inf found in input tensor.\n"
     ]
    },
    {
     "name": "stdout",
     "output_type": "stream",
     "text": [
      "2022-04-07 19:50.07 [info     ] FQE_20220407194850: epoch=41 step=35998 epoch=41 metrics={'time_sample_batch': 0.0001166553866618858, 'time_algorithm_update': 0.0014274728596889348, 'loss': 0.003907780774433644, 'time_step': 0.0016004805684361207, 'init_value': -0.6436333656311035, 'ave_value': -0.6436632287879188, 'soft_opc': nan} step=35998\n"
     ]
    },
    {
     "name": "stderr",
     "output_type": "stream",
     "text": [
      "WARNING:root:NaN or Inf found in input tensor.\n"
     ]
    },
    {
     "name": "stdout",
     "output_type": "stream",
     "text": [
      "2022-04-07 19:50.07 [info     ] Model parameters are saved to d3rlpy_logs/FQE_20220407194850/model_35998.pt\n"
     ]
    },
    {
     "data": {
      "application/vnd.jupyter.widget-view+json": {
       "model_id": "558ee88836e94ba39a246e0e8aca8a9e",
       "version_major": 2,
       "version_minor": 0
      },
      "text/plain": [
       "Epoch 42/50:   0%|          | 0/878 [00:00<?, ?it/s]"
      ]
     },
     "metadata": {},
     "output_type": "display_data"
    },
    {
     "name": "stderr",
     "output_type": "stream",
     "text": [
      "WARNING:root:NaN or Inf found in input tensor.\n"
     ]
    },
    {
     "name": "stdout",
     "output_type": "stream",
     "text": [
      "2022-04-07 19:50.09 [info     ] FQE_20220407194850: epoch=42 step=36876 epoch=42 metrics={'time_sample_batch': 0.0001084858844383431, 'time_algorithm_update': 0.001344405708660569, 'loss': 0.004249520876952573, 'time_step': 0.00150424907310677, 'init_value': -0.6569187641143799, 'ave_value': -0.6568611532054194, 'soft_opc': nan} step=36876\n"
     ]
    },
    {
     "name": "stderr",
     "output_type": "stream",
     "text": [
      "WARNING:root:NaN or Inf found in input tensor.\n"
     ]
    },
    {
     "name": "stdout",
     "output_type": "stream",
     "text": [
      "2022-04-07 19:50.09 [info     ] Model parameters are saved to d3rlpy_logs/FQE_20220407194850/model_36876.pt\n"
     ]
    },
    {
     "data": {
      "application/vnd.jupyter.widget-view+json": {
       "model_id": "32116ed8800e4a0b94165102a73bec25",
       "version_major": 2,
       "version_minor": 0
      },
      "text/plain": [
       "Epoch 43/50:   0%|          | 0/878 [00:00<?, ?it/s]"
      ]
     },
     "metadata": {},
     "output_type": "display_data"
    },
    {
     "name": "stderr",
     "output_type": "stream",
     "text": [
      "WARNING:root:NaN or Inf found in input tensor.\n"
     ]
    },
    {
     "name": "stdout",
     "output_type": "stream",
     "text": [
      "2022-04-07 19:50.10 [info     ] FQE_20220407194850: epoch=43 step=37754 epoch=43 metrics={'time_sample_batch': 0.00010629096715488304, 'time_algorithm_update': 0.0013042093681040006, 'loss': 0.004346407966295374, 'time_step': 0.0014596525791837306, 'init_value': -0.6540560126304626, 'ave_value': -0.6540236075597704, 'soft_opc': nan} step=37754\n"
     ]
    },
    {
     "name": "stderr",
     "output_type": "stream",
     "text": [
      "WARNING:root:NaN or Inf found in input tensor.\n"
     ]
    },
    {
     "name": "stdout",
     "output_type": "stream",
     "text": [
      "2022-04-07 19:50.10 [info     ] Model parameters are saved to d3rlpy_logs/FQE_20220407194850/model_37754.pt\n"
     ]
    },
    {
     "data": {
      "application/vnd.jupyter.widget-view+json": {
       "model_id": "e9b575d7bd7243a0a77281998e29d46c",
       "version_major": 2,
       "version_minor": 0
      },
      "text/plain": [
       "Epoch 44/50:   0%|          | 0/878 [00:00<?, ?it/s]"
      ]
     },
     "metadata": {},
     "output_type": "display_data"
    },
    {
     "name": "stderr",
     "output_type": "stream",
     "text": [
      "WARNING:root:NaN or Inf found in input tensor.\n"
     ]
    },
    {
     "name": "stdout",
     "output_type": "stream",
     "text": [
      "2022-04-07 19:50.12 [info     ] FQE_20220407194850: epoch=44 step=38632 epoch=44 metrics={'time_sample_batch': 0.0001113873679436964, 'time_algorithm_update': 0.0014548920824750409, 'loss': 0.004098066134169656, 'time_step': 0.0016190166625455191, 'init_value': -0.6373031139373779, 'ave_value': -0.637113315539553, 'soft_opc': nan} step=38632\n"
     ]
    },
    {
     "name": "stderr",
     "output_type": "stream",
     "text": [
      "WARNING:root:NaN or Inf found in input tensor.\n"
     ]
    },
    {
     "name": "stdout",
     "output_type": "stream",
     "text": [
      "2022-04-07 19:50.12 [info     ] Model parameters are saved to d3rlpy_logs/FQE_20220407194850/model_38632.pt\n"
     ]
    },
    {
     "data": {
      "application/vnd.jupyter.widget-view+json": {
       "model_id": "bd974168ebcb46e393ddeee4681810a8",
       "version_major": 2,
       "version_minor": 0
      },
      "text/plain": [
       "Epoch 45/50:   0%|          | 0/878 [00:00<?, ?it/s]"
      ]
     },
     "metadata": {},
     "output_type": "display_data"
    },
    {
     "name": "stderr",
     "output_type": "stream",
     "text": [
      "WARNING:root:NaN or Inf found in input tensor.\n"
     ]
    },
    {
     "name": "stdout",
     "output_type": "stream",
     "text": [
      "2022-04-07 19:50.14 [info     ] FQE_20220407194850: epoch=45 step=39510 epoch=45 metrics={'time_sample_batch': 0.00010688239729757461, 'time_algorithm_update': 0.001320150284126299, 'loss': 0.0042346671427661445, 'time_step': 0.0014786861480504342, 'init_value': -0.6459008455276489, 'ave_value': -0.6457697417433994, 'soft_opc': nan} step=39510\n"
     ]
    },
    {
     "name": "stderr",
     "output_type": "stream",
     "text": [
      "WARNING:root:NaN or Inf found in input tensor.\n"
     ]
    },
    {
     "name": "stdout",
     "output_type": "stream",
     "text": [
      "2022-04-07 19:50.14 [info     ] Model parameters are saved to d3rlpy_logs/FQE_20220407194850/model_39510.pt\n"
     ]
    },
    {
     "data": {
      "application/vnd.jupyter.widget-view+json": {
       "model_id": "798940688e29453a925cfd5d10d0157c",
       "version_major": 2,
       "version_minor": 0
      },
      "text/plain": [
       "Epoch 46/50:   0%|          | 0/878 [00:00<?, ?it/s]"
      ]
     },
     "metadata": {},
     "output_type": "display_data"
    },
    {
     "name": "stderr",
     "output_type": "stream",
     "text": [
      "WARNING:root:NaN or Inf found in input tensor.\n"
     ]
    },
    {
     "name": "stdout",
     "output_type": "stream",
     "text": [
      "2022-04-07 19:50.15 [info     ] FQE_20220407194850: epoch=46 step=40388 epoch=46 metrics={'time_sample_batch': 0.00011758462171619737, 'time_algorithm_update': 0.001429669134709178, 'loss': 0.004213964098832843, 'time_step': 0.0016036544139401516, 'init_value': -0.6639831066131592, 'ave_value': -0.6638660881918572, 'soft_opc': nan} step=40388\n"
     ]
    },
    {
     "name": "stderr",
     "output_type": "stream",
     "text": [
      "WARNING:root:NaN or Inf found in input tensor.\n"
     ]
    },
    {
     "name": "stdout",
     "output_type": "stream",
     "text": [
      "2022-04-07 19:50.15 [info     ] Model parameters are saved to d3rlpy_logs/FQE_20220407194850/model_40388.pt\n"
     ]
    },
    {
     "data": {
      "application/vnd.jupyter.widget-view+json": {
       "model_id": "9854f83980db480fb1ff3f8ecd2f54ed",
       "version_major": 2,
       "version_minor": 0
      },
      "text/plain": [
       "Epoch 47/50:   0%|          | 0/878 [00:00<?, ?it/s]"
      ]
     },
     "metadata": {},
     "output_type": "display_data"
    },
    {
     "name": "stderr",
     "output_type": "stream",
     "text": [
      "WARNING:root:NaN or Inf found in input tensor.\n"
     ]
    },
    {
     "name": "stdout",
     "output_type": "stream",
     "text": [
      "2022-04-07 19:50.17 [info     ] FQE_20220407194850: epoch=47 step=41266 epoch=47 metrics={'time_sample_batch': 0.00011360237973154542, 'time_algorithm_update': 0.001401081986742302, 'loss': 0.004637526880728904, 'time_step': 0.0015685802711712744, 'init_value': -0.685788094997406, 'ave_value': -0.6857486167625548, 'soft_opc': nan} step=41266\n"
     ]
    },
    {
     "name": "stderr",
     "output_type": "stream",
     "text": [
      "WARNING:root:NaN or Inf found in input tensor.\n"
     ]
    },
    {
     "name": "stdout",
     "output_type": "stream",
     "text": [
      "2022-04-07 19:50.17 [info     ] Model parameters are saved to d3rlpy_logs/FQE_20220407194850/model_41266.pt\n"
     ]
    },
    {
     "data": {
      "application/vnd.jupyter.widget-view+json": {
       "model_id": "fa41b1c3881f4679a6bd66bb824cc1ae",
       "version_major": 2,
       "version_minor": 0
      },
      "text/plain": [
       "Epoch 48/50:   0%|          | 0/878 [00:00<?, ?it/s]"
      ]
     },
     "metadata": {},
     "output_type": "display_data"
    },
    {
     "name": "stderr",
     "output_type": "stream",
     "text": [
      "WARNING:root:NaN or Inf found in input tensor.\n"
     ]
    },
    {
     "name": "stdout",
     "output_type": "stream",
     "text": [
      "2022-04-07 19:50.18 [info     ] FQE_20220407194850: epoch=48 step=42144 epoch=48 metrics={'time_sample_batch': 0.0001090713405391893, 'time_algorithm_update': 0.0013541977063398426, 'loss': 0.004700668686967164, 'time_step': 0.0015149189833899566, 'init_value': -0.6674653887748718, 'ave_value': -0.6674280412528547, 'soft_opc': nan} step=42144\n"
     ]
    },
    {
     "name": "stderr",
     "output_type": "stream",
     "text": [
      "WARNING:root:NaN or Inf found in input tensor.\n"
     ]
    },
    {
     "name": "stdout",
     "output_type": "stream",
     "text": [
      "2022-04-07 19:50.18 [info     ] Model parameters are saved to d3rlpy_logs/FQE_20220407194850/model_42144.pt\n"
     ]
    },
    {
     "data": {
      "application/vnd.jupyter.widget-view+json": {
       "model_id": "0780fd5f27394fc2b60af22b23a0d9f7",
       "version_major": 2,
       "version_minor": 0
      },
      "text/plain": [
       "Epoch 49/50:   0%|          | 0/878 [00:00<?, ?it/s]"
      ]
     },
     "metadata": {},
     "output_type": "display_data"
    },
    {
     "name": "stderr",
     "output_type": "stream",
     "text": [
      "WARNING:root:NaN or Inf found in input tensor.\n"
     ]
    },
    {
     "name": "stdout",
     "output_type": "stream",
     "text": [
      "2022-04-07 19:50.20 [info     ] FQE_20220407194850: epoch=49 step=43022 epoch=49 metrics={'time_sample_batch': 0.00010687886718193871, 'time_algorithm_update': 0.0013421830935467349, 'loss': 0.004718795993100761, 'time_step': 0.0015018081339182234, 'init_value': -0.6886864304542542, 'ave_value': -0.6886870941212089, 'soft_opc': nan} step=43022\n"
     ]
    },
    {
     "name": "stderr",
     "output_type": "stream",
     "text": [
      "WARNING:root:NaN or Inf found in input tensor.\n"
     ]
    },
    {
     "name": "stdout",
     "output_type": "stream",
     "text": [
      "2022-04-07 19:50.20 [info     ] Model parameters are saved to d3rlpy_logs/FQE_20220407194850/model_43022.pt\n"
     ]
    },
    {
     "data": {
      "application/vnd.jupyter.widget-view+json": {
       "model_id": "746c5fba9a91430f9f1ce533d131b7fa",
       "version_major": 2,
       "version_minor": 0
      },
      "text/plain": [
       "Epoch 50/50:   0%|          | 0/878 [00:00<?, ?it/s]"
      ]
     },
     "metadata": {},
     "output_type": "display_data"
    },
    {
     "name": "stderr",
     "output_type": "stream",
     "text": [
      "WARNING:root:NaN or Inf found in input tensor.\n"
     ]
    },
    {
     "name": "stdout",
     "output_type": "stream",
     "text": [
      "2022-04-07 19:50.22 [info     ] FQE_20220407194850: epoch=50 step=43900 epoch=50 metrics={'time_sample_batch': 0.0001044140318260106, 'time_algorithm_update': 0.0013078282797255114, 'loss': 0.0048197853892544655, 'time_step': 0.0014610472464072677, 'init_value': -0.7038307189941406, 'ave_value': -0.7038266831843507, 'soft_opc': nan} step=43900\n"
     ]
    },
    {
     "name": "stderr",
     "output_type": "stream",
     "text": [
      "WARNING:root:NaN or Inf found in input tensor.\n"
     ]
    },
    {
     "name": "stdout",
     "output_type": "stream",
     "text": [
      "2022-04-07 19:50.22 [info     ] Model parameters are saved to d3rlpy_logs/FQE_20220407194850/model_43900.pt\n"
     ]
    },
    {
     "data": {
      "text/plain": [
       "[(1,\n",
       "  {'time_sample_batch': 0.00014098385743508307,\n",
       "   'time_algorithm_update': 0.0019090096879928694,\n",
       "   'loss': 0.0006079547214486205,\n",
       "   'time_step': 0.0021188560542321692,\n",
       "   'init_value': -0.28840816020965576,\n",
       "   'ave_value': -0.28866724583605535,\n",
       "   'soft_opc': nan}),\n",
       " (2,\n",
       "  {'time_sample_batch': 0.00014134908862972043,\n",
       "   'time_algorithm_update': 0.0018845446288992985,\n",
       "   'loss': 0.0012250064993522321,\n",
       "   'time_step': 0.00208426798123162,\n",
       "   'init_value': -0.4084046483039856,\n",
       "   'ave_value': -0.4085957081498684,\n",
       "   'soft_opc': nan}),\n",
       " (3,\n",
       "  {'time_sample_batch': 0.00015009101268099217,\n",
       "   'time_algorithm_update': 0.0020265109446705883,\n",
       "   'loss': 0.0021275242328171145,\n",
       "   'time_step': 0.00224410102687827,\n",
       "   'init_value': -0.5219352841377258,\n",
       "   'ave_value': -0.5222797834360767,\n",
       "   'soft_opc': nan}),\n",
       " (4,\n",
       "  {'time_sample_batch': 0.0001335703430523362,\n",
       "   'time_algorithm_update': 0.0016752519477201213,\n",
       "   'loss': 0.0029731072644337106,\n",
       "   'time_step': 0.0018675987161101948,\n",
       "   'init_value': -0.548482358455658,\n",
       "   'ave_value': -0.5486275196931293,\n",
       "   'soft_opc': nan}),\n",
       " (5,\n",
       "  {'time_sample_batch': 0.0001448629114242241,\n",
       "   'time_algorithm_update': 0.0019243670487458179,\n",
       "   'loss': 0.00309454370744374,\n",
       "   'time_step': 0.0021335027755528756,\n",
       "   'init_value': -0.5471908450126648,\n",
       "   'ave_value': -0.5472799684939601,\n",
       "   'soft_opc': nan}),\n",
       " (6,\n",
       "  {'time_sample_batch': 0.0001419614279188708,\n",
       "   'time_algorithm_update': 0.0024540087628201635,\n",
       "   'loss': 0.0031645173893389824,\n",
       "   'time_step': 0.0026611385693039603,\n",
       "   'init_value': -0.5669634938240051,\n",
       "   'ave_value': -0.5669807058591938,\n",
       "   'soft_opc': nan}),\n",
       " (7,\n",
       "  {'time_sample_batch': 0.00014837646267137114,\n",
       "   'time_algorithm_update': 0.0019182246475393516,\n",
       "   'loss': 0.00317289999721975,\n",
       "   'time_step': 0.002134253060899183,\n",
       "   'init_value': -0.5370213985443115,\n",
       "   'ave_value': -0.5371544056625132,\n",
       "   'soft_opc': nan}),\n",
       " (8,\n",
       "  {'time_sample_batch': 0.00014348969644185894,\n",
       "   'time_algorithm_update': 0.0018090058567855245,\n",
       "   'loss': 0.0032100877413122238,\n",
       "   'time_step': 0.0020155005140022157,\n",
       "   'init_value': -0.5765939950942993,\n",
       "   'ave_value': -0.5767519605768846,\n",
       "   'soft_opc': nan}),\n",
       " (9,\n",
       "  {'time_sample_batch': 0.0001387047604710746,\n",
       "   'time_algorithm_update': 0.0017611437343519206,\n",
       "   'loss': 0.003562965304770195,\n",
       "   'time_step': 0.001964152538151839,\n",
       "   'init_value': -0.588071882724762,\n",
       "   'ave_value': -0.5881606059232182,\n",
       "   'soft_opc': nan}),\n",
       " (10,\n",
       "  {'time_sample_batch': 0.000142490130622186,\n",
       "   'time_algorithm_update': 0.0018443806024781664,\n",
       "   'loss': 0.0038599560598522285,\n",
       "   'time_step': 0.002051507693488397,\n",
       "   'init_value': -0.6292597055435181,\n",
       "   'ave_value': -0.6293768399491357,\n",
       "   'soft_opc': nan}),\n",
       " (11,\n",
       "  {'time_sample_batch': 0.00013953841085586027,\n",
       "   'time_algorithm_update': 0.0018321957294924656,\n",
       "   'loss': 0.004020931352498795,\n",
       "   'time_step': 0.002034785535721138,\n",
       "   'init_value': -0.6142115592956543,\n",
       "   'ave_value': -0.6144027234692394,\n",
       "   'soft_opc': nan}),\n",
       " (12,\n",
       "  {'time_sample_batch': 0.00012201600302867846,\n",
       "   'time_algorithm_update': 0.0015235712968135477,\n",
       "   'loss': 0.003971233364457088,\n",
       "   'time_step': 0.0017041187894643033,\n",
       "   'init_value': -0.6109127998352051,\n",
       "   'ave_value': -0.6111909745611801,\n",
       "   'soft_opc': nan}),\n",
       " (13,\n",
       "  {'time_sample_batch': 0.00012806607813389806,\n",
       "   'time_algorithm_update': 0.0015540682373394457,\n",
       "   'loss': 0.004124440234611219,\n",
       "   'time_step': 0.0017436642310070828,\n",
       "   'init_value': -0.6723973751068115,\n",
       "   'ave_value': -0.6727262635148294,\n",
       "   'soft_opc': nan}),\n",
       " (14,\n",
       "  {'time_sample_batch': 0.0001253668974092175,\n",
       "   'time_algorithm_update': 0.0015491888028885618,\n",
       "   'loss': 0.004894195457321413,\n",
       "   'time_step': 0.0017338727764225224,\n",
       "   'init_value': -0.6508049964904785,\n",
       "   'ave_value': -0.6511300045975137,\n",
       "   'soft_opc': nan}),\n",
       " (15,\n",
       "  {'time_sample_batch': 0.00012968993132641212,\n",
       "   'time_algorithm_update': 0.001607042510308546,\n",
       "   'loss': 0.004153197342788156,\n",
       "   'time_step': 0.001797948991519172,\n",
       "   'init_value': -0.6222880482673645,\n",
       "   'ave_value': -0.6226206263478761,\n",
       "   'soft_opc': nan}),\n",
       " (16,\n",
       "  {'time_sample_batch': 0.00013001796053319423,\n",
       "   'time_algorithm_update': 0.0016185762127331014,\n",
       "   'loss': 0.003910564572055144,\n",
       "   'time_step': 0.0018098020336350983,\n",
       "   'init_value': -0.6139489412307739,\n",
       "   'ave_value': -0.6141650852150214,\n",
       "   'soft_opc': nan}),\n",
       " (17,\n",
       "  {'time_sample_batch': 0.00012625730119153415,\n",
       "   'time_algorithm_update': 0.0015763524996121,\n",
       "   'loss': 0.0038726337262825366,\n",
       "   'time_step': 0.001765379601567644,\n",
       "   'init_value': -0.5876414179801941,\n",
       "   'ave_value': -0.5878606042406419,\n",
       "   'soft_opc': nan}),\n",
       " (18,\n",
       "  {'time_sample_batch': 0.00012379273738296264,\n",
       "   'time_algorithm_update': 0.0015785254215596749,\n",
       "   'loss': 0.003659903031282962,\n",
       "   'time_step': 0.0017593588535769382,\n",
       "   'init_value': -0.6034366488456726,\n",
       "   'ave_value': -0.6036064844527376,\n",
       "   'soft_opc': nan}),\n",
       " (19,\n",
       "  {'time_sample_batch': 0.00012326430622700406,\n",
       "   'time_algorithm_update': 0.0015189175182160049,\n",
       "   'loss': 0.0037361552177988286,\n",
       "   'time_step': 0.001702160118381092,\n",
       "   'init_value': -0.6020742058753967,\n",
       "   'ave_value': -0.6022639164119201,\n",
       "   'soft_opc': nan}),\n",
       " (20,\n",
       "  {'time_sample_batch': 0.00012508991910547765,\n",
       "   'time_algorithm_update': 0.0015198410507758278,\n",
       "   'loss': 0.004283547543769841,\n",
       "   'time_step': 0.00170327373409054,\n",
       "   'init_value': -0.6489408612251282,\n",
       "   'ave_value': -0.649124080678953,\n",
       "   'soft_opc': nan}),\n",
       " (21,\n",
       "  {'time_sample_batch': 0.00012541088808098796,\n",
       "   'time_algorithm_update': 0.0015685838012869102,\n",
       "   'loss': 0.004278583643735952,\n",
       "   'time_step': 0.0017535067364946857,\n",
       "   'init_value': -0.6528856754302979,\n",
       "   'ave_value': -0.6530297988849463,\n",
       "   'soft_opc': nan}),\n",
       " (22,\n",
       "  {'time_sample_batch': 0.0001252180894577965,\n",
       "   'time_algorithm_update': 0.001573262562241261,\n",
       "   'loss': 0.004312108672440449,\n",
       "   'time_step': 0.001757071881739588,\n",
       "   'init_value': -0.6294997930526733,\n",
       "   'ave_value': -0.6296672753656603,\n",
       "   'soft_opc': nan}),\n",
       " (23,\n",
       "  {'time_sample_batch': 0.00012083531512214817,\n",
       "   'time_algorithm_update': 0.0014838938832554566,\n",
       "   'loss': 0.004107380620518975,\n",
       "   'time_step': 0.0016599923440155516,\n",
       "   'init_value': -0.6225336194038391,\n",
       "   'ave_value': -0.6226709418232665,\n",
       "   'soft_opc': nan}),\n",
       " (24,\n",
       "  {'time_sample_batch': 0.00012106450109112507,\n",
       "   'time_algorithm_update': 0.0015149632456090837,\n",
       "   'loss': 0.0040964599329420944,\n",
       "   'time_step': 0.0016927409552224405,\n",
       "   'init_value': -0.6306828260421753,\n",
       "   'ave_value': -0.6306369911678331,\n",
       "   'soft_opc': nan}),\n",
       " (25,\n",
       "  {'time_sample_batch': 0.00012252624051174434,\n",
       "   'time_algorithm_update': 0.0015546773180603166,\n",
       "   'loss': 0.0040556680729961665,\n",
       "   'time_step': 0.0017347577492577068,\n",
       "   'init_value': -0.6314060688018799,\n",
       "   'ave_value': -0.6313676404789392,\n",
       "   'soft_opc': nan}),\n",
       " (26,\n",
       "  {'time_sample_batch': 0.00011828847246452454,\n",
       "   'time_algorithm_update': 0.0014715564006553424,\n",
       "   'loss': 0.004258332785616352,\n",
       "   'time_step': 0.001645823546042475,\n",
       "   'init_value': -0.6578958034515381,\n",
       "   'ave_value': -0.6578331921294682,\n",
       "   'soft_opc': nan}),\n",
       " (27,\n",
       "  {'time_sample_batch': 0.00012147833926259521,\n",
       "   'time_algorithm_update': 0.0014800126568874628,\n",
       "   'loss': 0.004506604511940947,\n",
       "   'time_step': 0.0016577987844688747,\n",
       "   'init_value': -0.6777089238166809,\n",
       "   'ave_value': -0.6775950481047442,\n",
       "   'soft_opc': nan}),\n",
       " (28,\n",
       "  {'time_sample_batch': 0.00012354725857258929,\n",
       "   'time_algorithm_update': 0.0015428823870787046,\n",
       "   'loss': 0.00463228549544328,\n",
       "   'time_step': 0.0017255835218147157,\n",
       "   'init_value': -0.6665012240409851,\n",
       "   'ave_value': -0.6664280457822137,\n",
       "   'soft_opc': nan}),\n",
       " (29,\n",
       "  {'time_sample_batch': 0.00012001659984197595,\n",
       "   'time_algorithm_update': 0.0014527685821463688,\n",
       "   'loss': 0.004254249760081989,\n",
       "   'time_step': 0.0016284768293550183,\n",
       "   'init_value': -0.6546343564987183,\n",
       "   'ave_value': -0.6544837074788545,\n",
       "   'soft_opc': nan}),\n",
       " (30,\n",
       "  {'time_sample_batch': 0.0001184000784280903,\n",
       "   'time_algorithm_update': 0.0014364586332664402,\n",
       "   'loss': 0.004000720313246418,\n",
       "   'time_step': 0.0016101989767817538,\n",
       "   'init_value': -0.619335412979126,\n",
       "   'ave_value': -0.619207343428216,\n",
       "   'soft_opc': nan}),\n",
       " (31,\n",
       "  {'time_sample_batch': 0.00012036092189015451,\n",
       "   'time_algorithm_update': 0.00156201507073057,\n",
       "   'loss': 0.0038665523626740315,\n",
       "   'time_step': 0.0017401479642863698,\n",
       "   'init_value': -0.6279152035713196,\n",
       "   'ave_value': -0.6278322641697894,\n",
       "   'soft_opc': nan}),\n",
       " (32,\n",
       "  {'time_sample_batch': 0.00012134609569992726,\n",
       "   'time_algorithm_update': 0.0015219439135053978,\n",
       "   'loss': 0.004055329641353095,\n",
       "   'time_step': 0.0016991820585211751,\n",
       "   'init_value': -0.6325485706329346,\n",
       "   'ave_value': -0.6324408509425453,\n",
       "   'soft_opc': nan}),\n",
       " (33,\n",
       "  {'time_sample_batch': 0.00013328467523318488,\n",
       "   'time_algorithm_update': 0.0016553597461118241,\n",
       "   'loss': 0.0037707445889549355,\n",
       "   'time_step': 0.0018514546826651536,\n",
       "   'init_value': -0.602290689945221,\n",
       "   'ave_value': -0.6022351570749712,\n",
       "   'soft_opc': nan}),\n",
       " (34,\n",
       "  {'time_sample_batch': 0.0001363985087714054,\n",
       "   'time_algorithm_update': 0.001692198675151295,\n",
       "   'loss': 0.003646039285240373,\n",
       "   'time_step': 0.0018922804699943387,\n",
       "   'init_value': -0.5765743255615234,\n",
       "   'ave_value': -0.576544153638771,\n",
       "   'soft_opc': nan}),\n",
       " (35,\n",
       "  {'time_sample_batch': 0.00012624372382370378,\n",
       "   'time_algorithm_update': 0.001559402785160004,\n",
       "   'loss': 0.003362278754119288,\n",
       "   'time_step': 0.0017429834617840674,\n",
       "   'init_value': -0.5659874677658081,\n",
       "   'ave_value': -0.5659668807151412,\n",
       "   'soft_opc': nan}),\n",
       " (36,\n",
       "  {'time_sample_batch': 0.00012590130260702146,\n",
       "   'time_algorithm_update': 0.001543771433124238,\n",
       "   'loss': 0.003209509785349854,\n",
       "   'time_step': 0.0017263403242975812,\n",
       "   'init_value': -0.551683247089386,\n",
       "   'ave_value': -0.5516221187774235,\n",
       "   'soft_opc': nan}),\n",
       " (37,\n",
       "  {'time_sample_batch': 0.00013499569512717002,\n",
       "   'time_algorithm_update': 0.0016873434084151491,\n",
       "   'loss': 0.003038007800560889,\n",
       "   'time_step': 0.0018846228345380015,\n",
       "   'init_value': -0.5527405738830566,\n",
       "   'ave_value': -0.5526889109180074,\n",
       "   'soft_opc': nan}),\n",
       " (38,\n",
       "  {'time_sample_batch': 0.00012998727568189756,\n",
       "   'time_algorithm_update': 0.0015967997440173034,\n",
       "   'loss': 0.003355651836425487,\n",
       "   'time_step': 0.0017837269702642002,\n",
       "   'init_value': -0.577538788318634,\n",
       "   'ave_value': -0.5775358253425028,\n",
       "   'soft_opc': nan}),\n",
       " (39,\n",
       "  {'time_sample_batch': 0.00012444472258617774,\n",
       "   'time_algorithm_update': 0.0015018765638520886,\n",
       "   'loss': 0.0033682351215756894,\n",
       "   'time_step': 0.00168385565416688,\n",
       "   'init_value': -0.5750241875648499,\n",
       "   'ave_value': -0.5750399614952286,\n",
       "   'soft_opc': nan}),\n",
       " (40,\n",
       "  {'time_sample_batch': 0.00012029819445077813,\n",
       "   'time_algorithm_update': 0.001505951946580057,\n",
       "   'loss': 0.0037426345707707444,\n",
       "   'time_step': 0.0016834480615846117,\n",
       "   'init_value': -0.6245876550674438,\n",
       "   'ave_value': -0.6245940136292298,\n",
       "   'soft_opc': nan}),\n",
       " (41,\n",
       "  {'time_sample_batch': 0.0001166553866618858,\n",
       "   'time_algorithm_update': 0.0014274728596889348,\n",
       "   'loss': 0.003907780774433644,\n",
       "   'time_step': 0.0016004805684361207,\n",
       "   'init_value': -0.6436333656311035,\n",
       "   'ave_value': -0.6436632287879188,\n",
       "   'soft_opc': nan}),\n",
       " (42,\n",
       "  {'time_sample_batch': 0.0001084858844383431,\n",
       "   'time_algorithm_update': 0.001344405708660569,\n",
       "   'loss': 0.004249520876952573,\n",
       "   'time_step': 0.00150424907310677,\n",
       "   'init_value': -0.6569187641143799,\n",
       "   'ave_value': -0.6568611532054194,\n",
       "   'soft_opc': nan}),\n",
       " (43,\n",
       "  {'time_sample_batch': 0.00010629096715488304,\n",
       "   'time_algorithm_update': 0.0013042093681040006,\n",
       "   'loss': 0.004346407966295374,\n",
       "   'time_step': 0.0014596525791837306,\n",
       "   'init_value': -0.6540560126304626,\n",
       "   'ave_value': -0.6540236075597704,\n",
       "   'soft_opc': nan}),\n",
       " (44,\n",
       "  {'time_sample_batch': 0.0001113873679436964,\n",
       "   'time_algorithm_update': 0.0014548920824750409,\n",
       "   'loss': 0.004098066134169656,\n",
       "   'time_step': 0.0016190166625455191,\n",
       "   'init_value': -0.6373031139373779,\n",
       "   'ave_value': -0.637113315539553,\n",
       "   'soft_opc': nan}),\n",
       " (45,\n",
       "  {'time_sample_batch': 0.00010688239729757461,\n",
       "   'time_algorithm_update': 0.001320150284126299,\n",
       "   'loss': 0.0042346671427661445,\n",
       "   'time_step': 0.0014786861480504342,\n",
       "   'init_value': -0.6459008455276489,\n",
       "   'ave_value': -0.6457697417433994,\n",
       "   'soft_opc': nan}),\n",
       " (46,\n",
       "  {'time_sample_batch': 0.00011758462171619737,\n",
       "   'time_algorithm_update': 0.001429669134709178,\n",
       "   'loss': 0.004213964098832843,\n",
       "   'time_step': 0.0016036544139401516,\n",
       "   'init_value': -0.6639831066131592,\n",
       "   'ave_value': -0.6638660881918572,\n",
       "   'soft_opc': nan}),\n",
       " (47,\n",
       "  {'time_sample_batch': 0.00011360237973154542,\n",
       "   'time_algorithm_update': 0.001401081986742302,\n",
       "   'loss': 0.004637526880728904,\n",
       "   'time_step': 0.0015685802711712744,\n",
       "   'init_value': -0.685788094997406,\n",
       "   'ave_value': -0.6857486167625548,\n",
       "   'soft_opc': nan}),\n",
       " (48,\n",
       "  {'time_sample_batch': 0.0001090713405391893,\n",
       "   'time_algorithm_update': 0.0013541977063398426,\n",
       "   'loss': 0.004700668686967164,\n",
       "   'time_step': 0.0015149189833899566,\n",
       "   'init_value': -0.6674653887748718,\n",
       "   'ave_value': -0.6674280412528547,\n",
       "   'soft_opc': nan}),\n",
       " (49,\n",
       "  {'time_sample_batch': 0.00010687886718193871,\n",
       "   'time_algorithm_update': 0.0013421830935467349,\n",
       "   'loss': 0.004718795993100761,\n",
       "   'time_step': 0.0015018081339182234,\n",
       "   'init_value': -0.6886864304542542,\n",
       "   'ave_value': -0.6886870941212089,\n",
       "   'soft_opc': nan}),\n",
       " (50,\n",
       "  {'time_sample_batch': 0.0001044140318260106,\n",
       "   'time_algorithm_update': 0.0013078282797255114,\n",
       "   'loss': 0.0048197853892544655,\n",
       "   'time_step': 0.0014610472464072677,\n",
       "   'init_value': -0.7038307189941406,\n",
       "   'ave_value': -0.7038266831843507,\n",
       "   'soft_opc': nan})]"
      ]
     },
     "execution_count": 10,
     "metadata": {},
     "output_type": "execute_result"
    }
   ],
   "source": [
    "from d3rlpy.ope import FQE\n",
    "# metrics to evaluate with\n",
    "from d3rlpy.metrics.scorer import soft_opc_scorer\n",
    "\n",
    "ope_dataset = get_dataset([2,4,6,8], path=\"collected_data/rl_det_small.txt\") #change if you'd prefer different chunks\n",
    "ope_train_episodes, ope_test_episodes = train_test_split(ope_dataset, test_size=0.2)\n",
    "\n",
    "fqe = FQE(algo=model, action_scaler = action_scaler, use_gpu=False) #change this if you have one!\n",
    "fqe.fit(ope_train_episodes, eval_episodes=ope_test_episodes, \n",
    "        tensorboard_dir='runs',\n",
    "        n_epochs=50, n_steps_per_epoch=1000, #change if overfitting/underfitting\n",
    "        scorers={\n",
    "           'init_value': initial_state_value_estimation_scorer,\n",
    "            'ave_value': average_value_estimation_scorer,\n",
    "           'soft_opc': soft_opc_scorer(return_threshold=0)\n",
    "        })"
   ]
  },
  {
   "cell_type": "code",
   "execution_count": 11,
   "id": "5d639afd-476b-4844-9921-f001f81abf34",
   "metadata": {},
   "outputs": [
    {
     "name": "stdout",
     "output_type": "stream",
     "text": [
      "[ 0.00000000e+00  7.95731469e+08  1.39310892e-01  1.82000047e-02\n",
      " -1.00013420e-04  0.00000000e+00 -5.33423489e+00 -1.57091618e+00\n",
      " -7.50230117e-02  3.69851546e-01 -6.00000000e-01]\n",
      "Read chunk # 3 out of 10000\n",
      "[ 0.00000000e+00  7.95731469e+08 -1.15389108e-01  1.64000047e-02\n",
      " -8.80001342e-03  0.00000000e+00 -5.33423489e+00 -1.57091618e+00\n",
      " -3.08831172e-01 -2.48178665e-01  6.00000000e-01]\n",
      "Read chunk # 5 out of 10000\n",
      "[ 0.00000000e+00  7.95731469e+08 -1.28589108e-01  1.20000047e-02\n",
      "  1.99998658e-03  0.00000000e+00 -5.33423489e+00 -1.57091618e+00\n",
      "  7.75212759e-03 -3.52719043e-01  6.00000000e-01]\n",
      "Read chunk # 7 out of 10000\n",
      "[ 0.00000000e+00  7.95731469e+08 -1.03989108e-01  7.00000469e-03\n",
      " -8.60001342e-03  0.00000000e+00 -5.33423489e+00 -1.57091618e+00\n",
      " -2.65974295e-01 -2.19295880e-01  6.00000000e-01]\n",
      "Read chunk # 9 out of 10000\n",
      "torch.Size([111080, 6])\n",
      "2022-04-07 19:50.22 [debug    ] RoundIterator is selected.\n",
      "2022-04-07 19:50.22 [info     ] Directory is created at d3rlpy_logs/FQE_20220407195022\n",
      "2022-04-07 19:50.22 [debug    ] Fitting action scaler...       action_scaler=min_max\n",
      "2022-04-07 19:50.22 [debug    ] Building models...\n",
      "2022-04-07 19:50.22 [debug    ] Models have been built.\n",
      "2022-04-07 19:50.22 [info     ] Parameters are saved to d3rlpy_logs/FQE_20220407195022/params.json params={'action_scaler': {'type': 'min_max', 'params': {'minimum': array(-0.6), 'maximum': array(0.6)}}, 'batch_size': 100, 'encoder_factory': {'type': 'default', 'params': {'activation': 'relu', 'use_batch_norm': False, 'dropout_rate': None}}, 'gamma': 0.99, 'generated_maxlen': 100000, 'learning_rate': 0.0001, 'n_critics': 1, 'n_frames': 1, 'n_steps': 1, 'optim_factory': {'optim_cls': 'Adam', 'betas': (0.9, 0.999), 'eps': 1e-08, 'weight_decay': 0, 'amsgrad': False}, 'q_func_factory': {'type': 'mean', 'params': {'bootstrap': False, 'share_encoder': False}}, 'real_ratio': 1.0, 'reward_scaler': None, 'scaler': None, 'target_update_interval': 100, 'use_gpu': None, 'algorithm': 'FQE', 'observation_shape': (6,), 'action_size': 3}\n"
     ]
    },
    {
     "data": {
      "application/vnd.jupyter.widget-view+json": {
       "model_id": "0082f70dfe5b47afba41da28451dc7da",
       "version_major": 2,
       "version_minor": 0
      },
      "text/plain": [
       "Epoch 1/50:   0%|          | 0/878 [00:00<?, ?it/s]"
      ]
     },
     "metadata": {},
     "output_type": "display_data"
    },
    {
     "name": "stderr",
     "output_type": "stream",
     "text": [
      "WARNING:root:NaN or Inf found in input tensor.\n"
     ]
    },
    {
     "name": "stdout",
     "output_type": "stream",
     "text": [
      "2022-04-07 19:50.24 [info     ] FQE_20220407195022: epoch=1 step=878 epoch=1 metrics={'time_sample_batch': 0.00010922530789038586, 'time_algorithm_update': 0.0013269965360810925, 'loss': 0.0009169417545932128, 'time_step': 0.0014889957149914021, 'init_value': -0.3336537480354309, 'ave_value': -0.3335277750286961, 'soft_opc': nan} step=878\n"
     ]
    },
    {
     "name": "stderr",
     "output_type": "stream",
     "text": [
      "WARNING:root:NaN or Inf found in input tensor.\n"
     ]
    },
    {
     "name": "stdout",
     "output_type": "stream",
     "text": [
      "2022-04-07 19:50.24 [info     ] Model parameters are saved to d3rlpy_logs/FQE_20220407195022/model_878.pt\n"
     ]
    },
    {
     "data": {
      "application/vnd.jupyter.widget-view+json": {
       "model_id": "bc08c09e859142699be5c13394fa0410",
       "version_major": 2,
       "version_minor": 0
      },
      "text/plain": [
       "Epoch 2/50:   0%|          | 0/878 [00:00<?, ?it/s]"
      ]
     },
     "metadata": {},
     "output_type": "display_data"
    },
    {
     "name": "stderr",
     "output_type": "stream",
     "text": [
      "WARNING:root:NaN or Inf found in input tensor.\n"
     ]
    },
    {
     "name": "stdout",
     "output_type": "stream",
     "text": [
      "2022-04-07 19:50.25 [info     ] FQE_20220407195022: epoch=2 step=1756 epoch=2 metrics={'time_sample_batch': 0.00011259765451209691, 'time_algorithm_update': 0.0013444882590569777, 'loss': 0.001964072655541641, 'time_step': 0.0015072838863642178, 'init_value': -0.48161980509757996, 'ave_value': -0.4819707575342267, 'soft_opc': nan} step=1756\n"
     ]
    },
    {
     "name": "stderr",
     "output_type": "stream",
     "text": [
      "WARNING:root:NaN or Inf found in input tensor.\n"
     ]
    },
    {
     "name": "stdout",
     "output_type": "stream",
     "text": [
      "2022-04-07 19:50.25 [info     ] Model parameters are saved to d3rlpy_logs/FQE_20220407195022/model_1756.pt\n"
     ]
    },
    {
     "data": {
      "application/vnd.jupyter.widget-view+json": {
       "model_id": "6c4dcabb90e74fd583e47e66ea7cbc27",
       "version_major": 2,
       "version_minor": 0
      },
      "text/plain": [
       "Epoch 3/50:   0%|          | 0/878 [00:00<?, ?it/s]"
      ]
     },
     "metadata": {},
     "output_type": "display_data"
    },
    {
     "name": "stderr",
     "output_type": "stream",
     "text": [
      "WARNING:root:NaN or Inf found in input tensor.\n"
     ]
    },
    {
     "name": "stdout",
     "output_type": "stream",
     "text": [
      "2022-04-07 19:50.27 [info     ] FQE_20220407195022: epoch=3 step=2634 epoch=3 metrics={'time_sample_batch': 0.00012065609386678708, 'time_algorithm_update': 0.0014837013561796219, 'loss': 0.0035081159272886825, 'time_step': 0.0016611716741852989, 'init_value': -0.5360317230224609, 'ave_value': -0.5367158918235728, 'soft_opc': nan} step=2634\n"
     ]
    },
    {
     "name": "stderr",
     "output_type": "stream",
     "text": [
      "WARNING:root:NaN or Inf found in input tensor.\n"
     ]
    },
    {
     "name": "stdout",
     "output_type": "stream",
     "text": [
      "2022-04-07 19:50.27 [info     ] Model parameters are saved to d3rlpy_logs/FQE_20220407195022/model_2634.pt\n"
     ]
    },
    {
     "data": {
      "application/vnd.jupyter.widget-view+json": {
       "model_id": "2138c2baaf684af2bfce03b8ab6073ff",
       "version_major": 2,
       "version_minor": 0
      },
      "text/plain": [
       "Epoch 4/50:   0%|          | 0/878 [00:00<?, ?it/s]"
      ]
     },
     "metadata": {},
     "output_type": "display_data"
    },
    {
     "name": "stderr",
     "output_type": "stream",
     "text": [
      "WARNING:root:NaN or Inf found in input tensor.\n"
     ]
    },
    {
     "name": "stdout",
     "output_type": "stream",
     "text": [
      "2022-04-07 19:50.29 [info     ] FQE_20220407195022: epoch=4 step=3512 epoch=4 metrics={'time_sample_batch': 0.00012901187757696268, 'time_algorithm_update': 0.0016377564171723732, 'loss': 0.004300679627766237, 'time_step': 0.001826680602679763, 'init_value': -0.5670409798622131, 'ave_value': -0.5679121116861251, 'soft_opc': nan} step=3512\n"
     ]
    },
    {
     "name": "stderr",
     "output_type": "stream",
     "text": [
      "WARNING:root:NaN or Inf found in input tensor.\n"
     ]
    },
    {
     "name": "stdout",
     "output_type": "stream",
     "text": [
      "2022-04-07 19:50.29 [info     ] Model parameters are saved to d3rlpy_logs/FQE_20220407195022/model_3512.pt\n"
     ]
    },
    {
     "data": {
      "application/vnd.jupyter.widget-view+json": {
       "model_id": "a3ee36f12cce4dacabc8b17874be495c",
       "version_major": 2,
       "version_minor": 0
      },
      "text/plain": [
       "Epoch 5/50:   0%|          | 0/878 [00:00<?, ?it/s]"
      ]
     },
     "metadata": {},
     "output_type": "display_data"
    },
    {
     "name": "stderr",
     "output_type": "stream",
     "text": [
      "WARNING:root:NaN or Inf found in input tensor.\n"
     ]
    },
    {
     "name": "stdout",
     "output_type": "stream",
     "text": [
      "2022-04-07 19:50.31 [info     ] FQE_20220407195022: epoch=5 step=4390 epoch=5 metrics={'time_sample_batch': 0.00012773451881148006, 'time_algorithm_update': 0.0015860779681890049, 'loss': 0.005298091582691399, 'time_step': 0.0017747439121602608, 'init_value': -0.5963019728660583, 'ave_value': -0.5974139589933607, 'soft_opc': nan} step=4390\n"
     ]
    },
    {
     "name": "stderr",
     "output_type": "stream",
     "text": [
      "WARNING:root:NaN or Inf found in input tensor.\n"
     ]
    },
    {
     "name": "stdout",
     "output_type": "stream",
     "text": [
      "2022-04-07 19:50.31 [info     ] Model parameters are saved to d3rlpy_logs/FQE_20220407195022/model_4390.pt\n"
     ]
    },
    {
     "data": {
      "application/vnd.jupyter.widget-view+json": {
       "model_id": "5a1159351ff243a4ae4abe4c31df6cde",
       "version_major": 2,
       "version_minor": 0
      },
      "text/plain": [
       "Epoch 6/50:   0%|          | 0/878 [00:00<?, ?it/s]"
      ]
     },
     "metadata": {},
     "output_type": "display_data"
    },
    {
     "name": "stderr",
     "output_type": "stream",
     "text": [
      "WARNING:root:NaN or Inf found in input tensor.\n"
     ]
    },
    {
     "name": "stdout",
     "output_type": "stream",
     "text": [
      "2022-04-07 19:50.33 [info     ] FQE_20220407195022: epoch=6 step=5268 epoch=6 metrics={'time_sample_batch': 0.00012356979700318773, 'time_algorithm_update': 0.0016503983043592448, 'loss': 0.006298649211361644, 'time_step': 0.0018316841342726166, 'init_value': -0.6516246199607849, 'ave_value': -0.6529435249586389, 'soft_opc': nan} step=5268\n"
     ]
    },
    {
     "name": "stderr",
     "output_type": "stream",
     "text": [
      "WARNING:root:NaN or Inf found in input tensor.\n"
     ]
    },
    {
     "name": "stdout",
     "output_type": "stream",
     "text": [
      "2022-04-07 19:50.33 [info     ] Model parameters are saved to d3rlpy_logs/FQE_20220407195022/model_5268.pt\n"
     ]
    },
    {
     "data": {
      "application/vnd.jupyter.widget-view+json": {
       "model_id": "f92d4e5b704e471ab8f9bb03aba5e1ea",
       "version_major": 2,
       "version_minor": 0
      },
      "text/plain": [
       "Epoch 7/50:   0%|          | 0/878 [00:00<?, ?it/s]"
      ]
     },
     "metadata": {},
     "output_type": "display_data"
    },
    {
     "name": "stderr",
     "output_type": "stream",
     "text": [
      "WARNING:root:NaN or Inf found in input tensor.\n"
     ]
    },
    {
     "name": "stdout",
     "output_type": "stream",
     "text": [
      "2022-04-07 19:50.34 [info     ] FQE_20220407195022: epoch=7 step=6146 epoch=7 metrics={'time_sample_batch': 0.00011987267974297387, 'time_algorithm_update': 0.0014505723071261255, 'loss': 0.007762361717625963, 'time_step': 0.0016265643213224303, 'init_value': -0.7172123789787292, 'ave_value': -0.7186235047648359, 'soft_opc': nan} step=6146\n"
     ]
    },
    {
     "name": "stderr",
     "output_type": "stream",
     "text": [
      "WARNING:root:NaN or Inf found in input tensor.\n"
     ]
    },
    {
     "name": "stdout",
     "output_type": "stream",
     "text": [
      "2022-04-07 19:50.34 [info     ] Model parameters are saved to d3rlpy_logs/FQE_20220407195022/model_6146.pt\n"
     ]
    },
    {
     "data": {
      "application/vnd.jupyter.widget-view+json": {
       "model_id": "e67583f14b1e4c9d9b6b1471e774fc10",
       "version_major": 2,
       "version_minor": 0
      },
      "text/plain": [
       "Epoch 8/50:   0%|          | 0/878 [00:00<?, ?it/s]"
      ]
     },
     "metadata": {},
     "output_type": "display_data"
    },
    {
     "name": "stderr",
     "output_type": "stream",
     "text": [
      "WARNING:root:NaN or Inf found in input tensor.\n"
     ]
    },
    {
     "name": "stdout",
     "output_type": "stream",
     "text": [
      "2022-04-07 19:50.36 [info     ] FQE_20220407195022: epoch=8 step=7024 epoch=8 metrics={'time_sample_batch': 0.00011909605430307584, 'time_algorithm_update': 0.0014340443057188413, 'loss': 0.0077507040966891694, 'time_step': 0.0016092909224212576, 'init_value': -0.7303751707077026, 'ave_value': -0.7318628061988509, 'soft_opc': nan} step=7024\n"
     ]
    },
    {
     "name": "stderr",
     "output_type": "stream",
     "text": [
      "WARNING:root:NaN or Inf found in input tensor.\n"
     ]
    },
    {
     "name": "stdout",
     "output_type": "stream",
     "text": [
      "2022-04-07 19:50.36 [info     ] Model parameters are saved to d3rlpy_logs/FQE_20220407195022/model_7024.pt\n"
     ]
    },
    {
     "data": {
      "application/vnd.jupyter.widget-view+json": {
       "model_id": "ca9f201285424602b51f8bb5b5886d8c",
       "version_major": 2,
       "version_minor": 0
      },
      "text/plain": [
       "Epoch 9/50:   0%|          | 0/878 [00:00<?, ?it/s]"
      ]
     },
     "metadata": {},
     "output_type": "display_data"
    },
    {
     "name": "stderr",
     "output_type": "stream",
     "text": [
      "WARNING:root:NaN or Inf found in input tensor.\n"
     ]
    },
    {
     "name": "stdout",
     "output_type": "stream",
     "text": [
      "2022-04-07 19:50.38 [info     ] FQE_20220407195022: epoch=9 step=7902 epoch=9 metrics={'time_sample_batch': 0.0001209985150834694, 'time_algorithm_update': 0.001472486993446437, 'loss': 0.008759497603336025, 'time_step': 0.001652145983146372, 'init_value': -0.7524876594543457, 'ave_value': -0.7540609693182451, 'soft_opc': nan} step=7902\n"
     ]
    },
    {
     "name": "stderr",
     "output_type": "stream",
     "text": [
      "WARNING:root:NaN or Inf found in input tensor.\n"
     ]
    },
    {
     "name": "stdout",
     "output_type": "stream",
     "text": [
      "2022-04-07 19:50.38 [info     ] Model parameters are saved to d3rlpy_logs/FQE_20220407195022/model_7902.pt\n"
     ]
    },
    {
     "data": {
      "application/vnd.jupyter.widget-view+json": {
       "model_id": "c7d101ef8c5f4a2bb44e3ea7ef5474f1",
       "version_major": 2,
       "version_minor": 0
      },
      "text/plain": [
       "Epoch 10/50:   0%|          | 0/878 [00:00<?, ?it/s]"
      ]
     },
     "metadata": {},
     "output_type": "display_data"
    },
    {
     "name": "stderr",
     "output_type": "stream",
     "text": [
      "WARNING:root:NaN or Inf found in input tensor.\n"
     ]
    },
    {
     "name": "stdout",
     "output_type": "stream",
     "text": [
      "2022-04-07 19:50.39 [info     ] FQE_20220407195022: epoch=10 step=8780 epoch=10 metrics={'time_sample_batch': 0.000126442224941384, 'time_algorithm_update': 0.0015727175666965492, 'loss': 0.009895807106377292, 'time_step': 0.0017590357122225751, 'init_value': -0.865785539150238, 'ave_value': -0.8673962681926036, 'soft_opc': nan} step=8780\n"
     ]
    },
    {
     "name": "stderr",
     "output_type": "stream",
     "text": [
      "WARNING:root:NaN or Inf found in input tensor.\n"
     ]
    },
    {
     "name": "stdout",
     "output_type": "stream",
     "text": [
      "2022-04-07 19:50.39 [info     ] Model parameters are saved to d3rlpy_logs/FQE_20220407195022/model_8780.pt\n"
     ]
    },
    {
     "data": {
      "application/vnd.jupyter.widget-view+json": {
       "model_id": "1dc4eb120b6e4af480c87362f8ef3129",
       "version_major": 2,
       "version_minor": 0
      },
      "text/plain": [
       "Epoch 11/50:   0%|          | 0/878 [00:00<?, ?it/s]"
      ]
     },
     "metadata": {},
     "output_type": "display_data"
    },
    {
     "name": "stderr",
     "output_type": "stream",
     "text": [
      "WARNING:root:NaN or Inf found in input tensor.\n"
     ]
    },
    {
     "name": "stdout",
     "output_type": "stream",
     "text": [
      "2022-04-07 19:50.41 [info     ] FQE_20220407195022: epoch=11 step=9658 epoch=11 metrics={'time_sample_batch': 0.0001253595656305891, 'time_algorithm_update': 0.0015838208665608818, 'loss': 0.010407614959530414, 'time_step': 0.0017612928138506982, 'init_value': -0.818297803401947, 'ave_value': -0.8199825416453095, 'soft_opc': nan} step=9658\n"
     ]
    },
    {
     "name": "stderr",
     "output_type": "stream",
     "text": [
      "WARNING:root:NaN or Inf found in input tensor.\n"
     ]
    },
    {
     "name": "stdout",
     "output_type": "stream",
     "text": [
      "2022-04-07 19:50.41 [info     ] Model parameters are saved to d3rlpy_logs/FQE_20220407195022/model_9658.pt\n"
     ]
    },
    {
     "data": {
      "application/vnd.jupyter.widget-view+json": {
       "model_id": "73abf2fca2664571b15d08c97b5c3eaf",
       "version_major": 2,
       "version_minor": 0
      },
      "text/plain": [
       "Epoch 12/50:   0%|          | 0/878 [00:00<?, ?it/s]"
      ]
     },
     "metadata": {},
     "output_type": "display_data"
    },
    {
     "name": "stderr",
     "output_type": "stream",
     "text": [
      "WARNING:root:NaN or Inf found in input tensor.\n"
     ]
    },
    {
     "name": "stdout",
     "output_type": "stream",
     "text": [
      "2022-04-07 19:50.43 [info     ] FQE_20220407195022: epoch=12 step=10536 epoch=12 metrics={'time_sample_batch': 0.00011877019747514659, 'time_algorithm_update': 0.001431864051992638, 'loss': 0.009965066626779071, 'time_step': 0.001604144285371472, 'init_value': -0.7926100492477417, 'ave_value': -0.7941607457740495, 'soft_opc': nan} step=10536\n"
     ]
    },
    {
     "name": "stderr",
     "output_type": "stream",
     "text": [
      "WARNING:root:NaN or Inf found in input tensor.\n"
     ]
    },
    {
     "name": "stdout",
     "output_type": "stream",
     "text": [
      "2022-04-07 19:50.43 [info     ] Model parameters are saved to d3rlpy_logs/FQE_20220407195022/model_10536.pt\n"
     ]
    },
    {
     "data": {
      "application/vnd.jupyter.widget-view+json": {
       "model_id": "c16195c97c1249939b6115433ed49cb9",
       "version_major": 2,
       "version_minor": 0
      },
      "text/plain": [
       "Epoch 13/50:   0%|          | 0/878 [00:00<?, ?it/s]"
      ]
     },
     "metadata": {},
     "output_type": "display_data"
    },
    {
     "name": "stderr",
     "output_type": "stream",
     "text": [
      "WARNING:root:NaN or Inf found in input tensor.\n"
     ]
    },
    {
     "name": "stdout",
     "output_type": "stream",
     "text": [
      "2022-04-07 19:50.44 [info     ] FQE_20220407195022: epoch=13 step=11414 epoch=13 metrics={'time_sample_batch': 0.00011448300780902419, 'time_algorithm_update': 0.0013623794281944328, 'loss': 0.009536507324992685, 'time_step': 0.0015310793096763942, 'init_value': -0.7755937576293945, 'ave_value': -0.7771935509888597, 'soft_opc': nan} step=11414\n"
     ]
    },
    {
     "name": "stderr",
     "output_type": "stream",
     "text": [
      "WARNING:root:NaN or Inf found in input tensor.\n"
     ]
    },
    {
     "name": "stdout",
     "output_type": "stream",
     "text": [
      "2022-04-07 19:50.44 [info     ] Model parameters are saved to d3rlpy_logs/FQE_20220407195022/model_11414.pt\n"
     ]
    },
    {
     "data": {
      "application/vnd.jupyter.widget-view+json": {
       "model_id": "3f7f60f2d29a41bcb60d65fced08158b",
       "version_major": 2,
       "version_minor": 0
      },
      "text/plain": [
       "Epoch 14/50:   0%|          | 0/878 [00:00<?, ?it/s]"
      ]
     },
     "metadata": {},
     "output_type": "display_data"
    },
    {
     "name": "stderr",
     "output_type": "stream",
     "text": [
      "WARNING:root:NaN or Inf found in input tensor.\n"
     ]
    },
    {
     "name": "stdout",
     "output_type": "stream",
     "text": [
      "2022-04-07 19:50.46 [info     ] FQE_20220407195022: epoch=14 step=12292 epoch=14 metrics={'time_sample_batch': 0.00012155274323830572, 'time_algorithm_update': 0.0014905351169560114, 'loss': 0.009383234377899556, 'time_step': 0.0016710421490506323, 'init_value': -0.8126031756401062, 'ave_value': -0.8140570376802883, 'soft_opc': nan} step=12292\n"
     ]
    },
    {
     "name": "stderr",
     "output_type": "stream",
     "text": [
      "WARNING:root:NaN or Inf found in input tensor.\n"
     ]
    },
    {
     "name": "stdout",
     "output_type": "stream",
     "text": [
      "2022-04-07 19:50.46 [info     ] Model parameters are saved to d3rlpy_logs/FQE_20220407195022/model_12292.pt\n"
     ]
    },
    {
     "data": {
      "application/vnd.jupyter.widget-view+json": {
       "model_id": "d6a0d286ae0441ffbd8f37ca9d876afd",
       "version_major": 2,
       "version_minor": 0
      },
      "text/plain": [
       "Epoch 15/50:   0%|          | 0/878 [00:00<?, ?it/s]"
      ]
     },
     "metadata": {},
     "output_type": "display_data"
    },
    {
     "name": "stderr",
     "output_type": "stream",
     "text": [
      "WARNING:root:NaN or Inf found in input tensor.\n"
     ]
    },
    {
     "name": "stdout",
     "output_type": "stream",
     "text": [
      "2022-04-07 19:50.48 [info     ] FQE_20220407195022: epoch=15 step=13170 epoch=15 metrics={'time_sample_batch': 0.000119087636335021, 'time_algorithm_update': 0.0014282953766320996, 'loss': 0.009501458502193751, 'time_step': 0.0016045964117202237, 'init_value': -0.8052887916564941, 'ave_value': -0.8068868319672746, 'soft_opc': nan} step=13170\n"
     ]
    },
    {
     "name": "stderr",
     "output_type": "stream",
     "text": [
      "WARNING:root:NaN or Inf found in input tensor.\n"
     ]
    },
    {
     "name": "stdout",
     "output_type": "stream",
     "text": [
      "2022-04-07 19:50.48 [info     ] Model parameters are saved to d3rlpy_logs/FQE_20220407195022/model_13170.pt\n"
     ]
    },
    {
     "data": {
      "application/vnd.jupyter.widget-view+json": {
       "model_id": "f676ddc0cf1b44998b396c5ab9fa5d9c",
       "version_major": 2,
       "version_minor": 0
      },
      "text/plain": [
       "Epoch 16/50:   0%|          | 0/878 [00:00<?, ?it/s]"
      ]
     },
     "metadata": {},
     "output_type": "display_data"
    },
    {
     "name": "stderr",
     "output_type": "stream",
     "text": [
      "WARNING:root:NaN or Inf found in input tensor.\n"
     ]
    },
    {
     "name": "stdout",
     "output_type": "stream",
     "text": [
      "2022-04-07 19:50.49 [info     ] FQE_20220407195022: epoch=16 step=14048 epoch=16 metrics={'time_sample_batch': 0.00011965707114182736, 'time_algorithm_update': 0.001444247426096019, 'loss': 0.010080996675859584, 'time_step': 0.0016198505844776615, 'init_value': -0.8580352663993835, 'ave_value': -0.8595553857140669, 'soft_opc': nan} step=14048\n"
     ]
    },
    {
     "name": "stderr",
     "output_type": "stream",
     "text": [
      "WARNING:root:NaN or Inf found in input tensor.\n"
     ]
    },
    {
     "name": "stdout",
     "output_type": "stream",
     "text": [
      "2022-04-07 19:50.49 [info     ] Model parameters are saved to d3rlpy_logs/FQE_20220407195022/model_14048.pt\n"
     ]
    },
    {
     "data": {
      "application/vnd.jupyter.widget-view+json": {
       "model_id": "d71eafd10a8945e084639673c5604458",
       "version_major": 2,
       "version_minor": 0
      },
      "text/plain": [
       "Epoch 17/50:   0%|          | 0/878 [00:00<?, ?it/s]"
      ]
     },
     "metadata": {},
     "output_type": "display_data"
    },
    {
     "name": "stderr",
     "output_type": "stream",
     "text": [
      "WARNING:root:NaN or Inf found in input tensor.\n"
     ]
    },
    {
     "name": "stdout",
     "output_type": "stream",
     "text": [
      "2022-04-07 19:50.51 [info     ] FQE_20220407195022: epoch=17 step=14926 epoch=17 metrics={'time_sample_batch': 0.00012781462528167932, 'time_algorithm_update': 0.0016274406046422032, 'loss': 0.010262681080680035, 'time_step': 0.0018087245337240789, 'init_value': -0.8125917315483093, 'ave_value': -0.8141502371936079, 'soft_opc': nan} step=14926\n"
     ]
    },
    {
     "name": "stderr",
     "output_type": "stream",
     "text": [
      "WARNING:root:NaN or Inf found in input tensor.\n"
     ]
    },
    {
     "name": "stdout",
     "output_type": "stream",
     "text": [
      "2022-04-07 19:50.51 [info     ] Model parameters are saved to d3rlpy_logs/FQE_20220407195022/model_14926.pt\n"
     ]
    },
    {
     "data": {
      "application/vnd.jupyter.widget-view+json": {
       "model_id": "cf10287c53d748c7a0187e9ccc07340a",
       "version_major": 2,
       "version_minor": 0
      },
      "text/plain": [
       "Epoch 18/50:   0%|          | 0/878 [00:00<?, ?it/s]"
      ]
     },
     "metadata": {},
     "output_type": "display_data"
    },
    {
     "name": "stderr",
     "output_type": "stream",
     "text": [
      "WARNING:root:NaN or Inf found in input tensor.\n"
     ]
    },
    {
     "name": "stdout",
     "output_type": "stream",
     "text": [
      "2022-04-07 19:50.53 [info     ] FQE_20220407195022: epoch=18 step=15804 epoch=18 metrics={'time_sample_batch': 0.00011865125973295242, 'time_algorithm_update': 0.0014589916329177475, 'loss': 0.00948240195789046, 'time_step': 0.0016340359468394912, 'init_value': -0.8252571225166321, 'ave_value': -0.826669245601104, 'soft_opc': nan} step=15804\n"
     ]
    },
    {
     "name": "stderr",
     "output_type": "stream",
     "text": [
      "WARNING:root:NaN or Inf found in input tensor.\n"
     ]
    },
    {
     "name": "stdout",
     "output_type": "stream",
     "text": [
      "2022-04-07 19:50.53 [info     ] Model parameters are saved to d3rlpy_logs/FQE_20220407195022/model_15804.pt\n"
     ]
    },
    {
     "data": {
      "application/vnd.jupyter.widget-view+json": {
       "model_id": "430e750e3902430b9dd5af71449b39cd",
       "version_major": 2,
       "version_minor": 0
      },
      "text/plain": [
       "Epoch 19/50:   0%|          | 0/878 [00:00<?, ?it/s]"
      ]
     },
     "metadata": {},
     "output_type": "display_data"
    },
    {
     "name": "stderr",
     "output_type": "stream",
     "text": [
      "WARNING:root:NaN or Inf found in input tensor.\n"
     ]
    },
    {
     "name": "stdout",
     "output_type": "stream",
     "text": [
      "2022-04-07 19:50.55 [info     ] FQE_20220407195022: epoch=19 step=16682 epoch=19 metrics={'time_sample_batch': 0.00011357060869082231, 'time_algorithm_update': 0.0013451983553945067, 'loss': 0.009235900887870643, 'time_step': 0.0015146414619915034, 'init_value': -0.7787498235702515, 'ave_value': -0.7801543690705314, 'soft_opc': nan} step=16682\n"
     ]
    },
    {
     "name": "stderr",
     "output_type": "stream",
     "text": [
      "WARNING:root:NaN or Inf found in input tensor.\n"
     ]
    },
    {
     "name": "stdout",
     "output_type": "stream",
     "text": [
      "2022-04-07 19:50.55 [info     ] Model parameters are saved to d3rlpy_logs/FQE_20220407195022/model_16682.pt\n"
     ]
    },
    {
     "data": {
      "application/vnd.jupyter.widget-view+json": {
       "model_id": "e1a94b54cc5e4b7a98464d6bb8d0550b",
       "version_major": 2,
       "version_minor": 0
      },
      "text/plain": [
       "Epoch 20/50:   0%|          | 0/878 [00:00<?, ?it/s]"
      ]
     },
     "metadata": {},
     "output_type": "display_data"
    },
    {
     "name": "stderr",
     "output_type": "stream",
     "text": [
      "WARNING:root:NaN or Inf found in input tensor.\n"
     ]
    },
    {
     "name": "stdout",
     "output_type": "stream",
     "text": [
      "2022-04-07 19:50.56 [info     ] FQE_20220407195022: epoch=20 step=17560 epoch=20 metrics={'time_sample_batch': 0.00012321705698695434, 'time_algorithm_update': 0.0015087879871724678, 'loss': 0.009129258467972225, 'time_step': 0.0016908531579993037, 'init_value': -0.8057368397712708, 'ave_value': -0.8071689134446878, 'soft_opc': nan} step=17560\n"
     ]
    },
    {
     "name": "stderr",
     "output_type": "stream",
     "text": [
      "WARNING:root:NaN or Inf found in input tensor.\n"
     ]
    },
    {
     "name": "stdout",
     "output_type": "stream",
     "text": [
      "2022-04-07 19:50.56 [info     ] Model parameters are saved to d3rlpy_logs/FQE_20220407195022/model_17560.pt\n"
     ]
    },
    {
     "data": {
      "application/vnd.jupyter.widget-view+json": {
       "model_id": "a12126b592cb408eadba63224203a2cc",
       "version_major": 2,
       "version_minor": 0
      },
      "text/plain": [
       "Epoch 21/50:   0%|          | 0/878 [00:00<?, ?it/s]"
      ]
     },
     "metadata": {},
     "output_type": "display_data"
    },
    {
     "name": "stderr",
     "output_type": "stream",
     "text": [
      "WARNING:root:NaN or Inf found in input tensor.\n"
     ]
    },
    {
     "name": "stdout",
     "output_type": "stream",
     "text": [
      "2022-04-07 19:50.58 [info     ] FQE_20220407195022: epoch=21 step=18438 epoch=21 metrics={'time_sample_batch': 0.00011809214372569716, 'time_algorithm_update': 0.0014280148682127237, 'loss': 0.009009543699998889, 'time_step': 0.0016033084626078335, 'init_value': -0.8090533018112183, 'ave_value': -0.8105253397045888, 'soft_opc': nan} step=18438\n"
     ]
    },
    {
     "name": "stderr",
     "output_type": "stream",
     "text": [
      "WARNING:root:NaN or Inf found in input tensor.\n"
     ]
    },
    {
     "name": "stdout",
     "output_type": "stream",
     "text": [
      "2022-04-07 19:50.58 [info     ] Model parameters are saved to d3rlpy_logs/FQE_20220407195022/model_18438.pt\n"
     ]
    },
    {
     "data": {
      "application/vnd.jupyter.widget-view+json": {
       "model_id": "7be0b736df7443068d92e33ba1db7807",
       "version_major": 2,
       "version_minor": 0
      },
      "text/plain": [
       "Epoch 22/50:   0%|          | 0/878 [00:00<?, ?it/s]"
      ]
     },
     "metadata": {},
     "output_type": "display_data"
    },
    {
     "name": "stderr",
     "output_type": "stream",
     "text": [
      "WARNING:root:NaN or Inf found in input tensor.\n"
     ]
    },
    {
     "name": "stdout",
     "output_type": "stream",
     "text": [
      "2022-04-07 19:51.00 [info     ] FQE_20220407195022: epoch=22 step=19316 epoch=22 metrics={'time_sample_batch': 0.00011752841141337958, 'time_algorithm_update': 0.001480767015444119, 'loss': 0.008793721086114025, 'time_step': 0.001656214848737782, 'init_value': -0.7687418460845947, 'ave_value': -0.7702400462339377, 'soft_opc': nan} step=19316\n"
     ]
    },
    {
     "name": "stderr",
     "output_type": "stream",
     "text": [
      "WARNING:root:NaN or Inf found in input tensor.\n"
     ]
    },
    {
     "name": "stdout",
     "output_type": "stream",
     "text": [
      "2022-04-07 19:51.00 [info     ] Model parameters are saved to d3rlpy_logs/FQE_20220407195022/model_19316.pt\n"
     ]
    },
    {
     "data": {
      "application/vnd.jupyter.widget-view+json": {
       "model_id": "9de40f2eed964411aad910ed777e1157",
       "version_major": 2,
       "version_minor": 0
      },
      "text/plain": [
       "Epoch 23/50:   0%|          | 0/878 [00:00<?, ?it/s]"
      ]
     },
     "metadata": {},
     "output_type": "display_data"
    },
    {
     "name": "stderr",
     "output_type": "stream",
     "text": [
      "WARNING:root:NaN or Inf found in input tensor.\n"
     ]
    },
    {
     "name": "stdout",
     "output_type": "stream",
     "text": [
      "2022-04-07 19:51.01 [info     ] FQE_20220407195022: epoch=23 step=20194 epoch=23 metrics={'time_sample_batch': 0.00011942028184686543, 'time_algorithm_update': 0.0014979374978971373, 'loss': 0.00933834881907035, 'time_step': 0.0016749480862280773, 'init_value': -0.8161225318908691, 'ave_value': -0.8176952671385691, 'soft_opc': nan} step=20194\n"
     ]
    },
    {
     "name": "stderr",
     "output_type": "stream",
     "text": [
      "WARNING:root:NaN or Inf found in input tensor.\n"
     ]
    },
    {
     "name": "stdout",
     "output_type": "stream",
     "text": [
      "2022-04-07 19:51.01 [info     ] Model parameters are saved to d3rlpy_logs/FQE_20220407195022/model_20194.pt\n"
     ]
    },
    {
     "data": {
      "application/vnd.jupyter.widget-view+json": {
       "model_id": "cb13ed165abf4b7483790a87526e5355",
       "version_major": 2,
       "version_minor": 0
      },
      "text/plain": [
       "Epoch 24/50:   0%|          | 0/878 [00:00<?, ?it/s]"
      ]
     },
     "metadata": {},
     "output_type": "display_data"
    },
    {
     "name": "stderr",
     "output_type": "stream",
     "text": [
      "WARNING:root:NaN or Inf found in input tensor.\n"
     ]
    },
    {
     "name": "stdout",
     "output_type": "stream",
     "text": [
      "2022-04-07 19:51.03 [info     ] FQE_20220407195022: epoch=24 step=21072 epoch=24 metrics={'time_sample_batch': 0.00012009073227032985, 'time_algorithm_update': 0.0014945336517820597, 'loss': 0.009985158265124416, 'time_step': 0.0016716476996558674, 'init_value': -0.8404918909072876, 'ave_value': -0.8419305856459481, 'soft_opc': nan} step=21072\n"
     ]
    },
    {
     "name": "stderr",
     "output_type": "stream",
     "text": [
      "WARNING:root:NaN or Inf found in input tensor.\n"
     ]
    },
    {
     "name": "stdout",
     "output_type": "stream",
     "text": [
      "2022-04-07 19:51.03 [info     ] Model parameters are saved to d3rlpy_logs/FQE_20220407195022/model_21072.pt\n"
     ]
    },
    {
     "data": {
      "application/vnd.jupyter.widget-view+json": {
       "model_id": "f5c5d1ee830744f2af72d05e9175fca4",
       "version_major": 2,
       "version_minor": 0
      },
      "text/plain": [
       "Epoch 25/50:   0%|          | 0/878 [00:00<?, ?it/s]"
      ]
     },
     "metadata": {},
     "output_type": "display_data"
    },
    {
     "name": "stderr",
     "output_type": "stream",
     "text": [
      "WARNING:root:NaN or Inf found in input tensor.\n"
     ]
    },
    {
     "name": "stdout",
     "output_type": "stream",
     "text": [
      "2022-04-07 19:51.05 [info     ] FQE_20220407195022: epoch=25 step=21950 epoch=25 metrics={'time_sample_batch': 0.00011272446712763272, 'time_algorithm_update': 0.0013690146878531418, 'loss': 0.009376503295791287, 'time_step': 0.0015378218305409635, 'init_value': -0.8283095955848694, 'ave_value': -0.829676948170526, 'soft_opc': nan} step=21950\n"
     ]
    },
    {
     "name": "stderr",
     "output_type": "stream",
     "text": [
      "WARNING:root:NaN or Inf found in input tensor.\n"
     ]
    },
    {
     "name": "stdout",
     "output_type": "stream",
     "text": [
      "2022-04-07 19:51.05 [info     ] Model parameters are saved to d3rlpy_logs/FQE_20220407195022/model_21950.pt\n"
     ]
    },
    {
     "data": {
      "application/vnd.jupyter.widget-view+json": {
       "model_id": "47c8b9aab4ea48b4a21e76a87509f4ba",
       "version_major": 2,
       "version_minor": 0
      },
      "text/plain": [
       "Epoch 26/50:   0%|          | 0/878 [00:00<?, ?it/s]"
      ]
     },
     "metadata": {},
     "output_type": "display_data"
    },
    {
     "name": "stderr",
     "output_type": "stream",
     "text": [
      "WARNING:root:NaN or Inf found in input tensor.\n"
     ]
    },
    {
     "name": "stdout",
     "output_type": "stream",
     "text": [
      "2022-04-07 19:51.06 [info     ] FQE_20220407195022: epoch=26 step=22828 epoch=26 metrics={'time_sample_batch': 0.0001121631787415246, 'time_algorithm_update': 0.0013528744560710932, 'loss': 0.00921558478539074, 'time_step': 0.0015183510704301212, 'init_value': -0.8004833459854126, 'ave_value': -0.8018802840956345, 'soft_opc': nan} step=22828\n"
     ]
    },
    {
     "name": "stderr",
     "output_type": "stream",
     "text": [
      "WARNING:root:NaN or Inf found in input tensor.\n"
     ]
    },
    {
     "name": "stdout",
     "output_type": "stream",
     "text": [
      "2022-04-07 19:51.06 [info     ] Model parameters are saved to d3rlpy_logs/FQE_20220407195022/model_22828.pt\n"
     ]
    },
    {
     "data": {
      "application/vnd.jupyter.widget-view+json": {
       "model_id": "19a7b5dd0c744198a818845535a1c011",
       "version_major": 2,
       "version_minor": 0
      },
      "text/plain": [
       "Epoch 27/50:   0%|          | 0/878 [00:00<?, ?it/s]"
      ]
     },
     "metadata": {},
     "output_type": "display_data"
    },
    {
     "name": "stderr",
     "output_type": "stream",
     "text": [
      "WARNING:root:NaN or Inf found in input tensor.\n"
     ]
    },
    {
     "name": "stdout",
     "output_type": "stream",
     "text": [
      "2022-04-07 19:51.08 [info     ] FQE_20220407195022: epoch=27 step=23706 epoch=27 metrics={'time_sample_batch': 0.00011566668273647716, 'time_algorithm_update': 0.0014197142086159395, 'loss': 0.009182989306146553, 'time_step': 0.001591851608085198, 'init_value': -0.7923828959465027, 'ave_value': -0.7938472524600186, 'soft_opc': nan} step=23706\n"
     ]
    },
    {
     "name": "stderr",
     "output_type": "stream",
     "text": [
      "WARNING:root:NaN or Inf found in input tensor.\n"
     ]
    },
    {
     "name": "stdout",
     "output_type": "stream",
     "text": [
      "2022-04-07 19:51.08 [info     ] Model parameters are saved to d3rlpy_logs/FQE_20220407195022/model_23706.pt\n"
     ]
    },
    {
     "data": {
      "application/vnd.jupyter.widget-view+json": {
       "model_id": "94e2361d84d54ce1bb28dac8a2ade257",
       "version_major": 2,
       "version_minor": 0
      },
      "text/plain": [
       "Epoch 28/50:   0%|          | 0/878 [00:00<?, ?it/s]"
      ]
     },
     "metadata": {},
     "output_type": "display_data"
    },
    {
     "name": "stderr",
     "output_type": "stream",
     "text": [
      "WARNING:root:NaN or Inf found in input tensor.\n"
     ]
    },
    {
     "name": "stdout",
     "output_type": "stream",
     "text": [
      "2022-04-07 19:51.10 [info     ] FQE_20220407195022: epoch=28 step=24584 epoch=28 metrics={'time_sample_batch': 0.00011343429191780525, 'time_algorithm_update': 0.0014556290620008742, 'loss': 0.00909335764960291, 'time_step': 0.00162329516269623, 'init_value': -0.7930539846420288, 'ave_value': -0.7944853714165974, 'soft_opc': nan} step=24584\n"
     ]
    },
    {
     "name": "stderr",
     "output_type": "stream",
     "text": [
      "WARNING:root:NaN or Inf found in input tensor.\n"
     ]
    },
    {
     "name": "stdout",
     "output_type": "stream",
     "text": [
      "2022-04-07 19:51.10 [info     ] Model parameters are saved to d3rlpy_logs/FQE_20220407195022/model_24584.pt\n"
     ]
    },
    {
     "data": {
      "application/vnd.jupyter.widget-view+json": {
       "model_id": "4b3da7394cb940458e54bd02b204bdeb",
       "version_major": 2,
       "version_minor": 0
      },
      "text/plain": [
       "Epoch 29/50:   0%|          | 0/878 [00:00<?, ?it/s]"
      ]
     },
     "metadata": {},
     "output_type": "display_data"
    },
    {
     "name": "stderr",
     "output_type": "stream",
     "text": [
      "WARNING:root:NaN or Inf found in input tensor.\n"
     ]
    },
    {
     "name": "stdout",
     "output_type": "stream",
     "text": [
      "2022-04-07 19:51.11 [info     ] FQE_20220407195022: epoch=29 step=25462 epoch=29 metrics={'time_sample_batch': 0.00012193209489548668, 'time_algorithm_update': 0.0014850506749946055, 'loss': 0.008984045130799045, 'time_step': 0.0016658927965272803, 'init_value': -0.8247576951980591, 'ave_value': -0.8261486931134526, 'soft_opc': nan} step=25462\n"
     ]
    },
    {
     "name": "stderr",
     "output_type": "stream",
     "text": [
      "WARNING:root:NaN or Inf found in input tensor.\n"
     ]
    },
    {
     "name": "stdout",
     "output_type": "stream",
     "text": [
      "2022-04-07 19:51.11 [info     ] Model parameters are saved to d3rlpy_logs/FQE_20220407195022/model_25462.pt\n"
     ]
    },
    {
     "data": {
      "application/vnd.jupyter.widget-view+json": {
       "model_id": "149af585bc28442db45870a55d910b9b",
       "version_major": 2,
       "version_minor": 0
      },
      "text/plain": [
       "Epoch 30/50:   0%|          | 0/878 [00:00<?, ?it/s]"
      ]
     },
     "metadata": {},
     "output_type": "display_data"
    },
    {
     "name": "stderr",
     "output_type": "stream",
     "text": [
      "WARNING:root:NaN or Inf found in input tensor.\n"
     ]
    },
    {
     "name": "stdout",
     "output_type": "stream",
     "text": [
      "2022-04-07 19:51.13 [info     ] FQE_20220407195022: epoch=30 step=26340 epoch=30 metrics={'time_sample_batch': 0.00011413705647670598, 'time_algorithm_update': 0.001363787129691087, 'loss': 0.0092587838398727, 'time_step': 0.0015336769316897033, 'init_value': -0.8016865253448486, 'ave_value': -0.8030143756445237, 'soft_opc': nan} step=26340\n"
     ]
    },
    {
     "name": "stderr",
     "output_type": "stream",
     "text": [
      "WARNING:root:NaN or Inf found in input tensor.\n"
     ]
    },
    {
     "name": "stdout",
     "output_type": "stream",
     "text": [
      "2022-04-07 19:51.13 [info     ] Model parameters are saved to d3rlpy_logs/FQE_20220407195022/model_26340.pt\n"
     ]
    },
    {
     "data": {
      "application/vnd.jupyter.widget-view+json": {
       "model_id": "85b7ac379ef347c8bc8beab8435ba4f3",
       "version_major": 2,
       "version_minor": 0
      },
      "text/plain": [
       "Epoch 31/50:   0%|          | 0/878 [00:00<?, ?it/s]"
      ]
     },
     "metadata": {},
     "output_type": "display_data"
    },
    {
     "name": "stderr",
     "output_type": "stream",
     "text": [
      "WARNING:root:NaN or Inf found in input tensor.\n"
     ]
    },
    {
     "name": "stdout",
     "output_type": "stream",
     "text": [
      "2022-04-07 19:51.14 [info     ] FQE_20220407195022: epoch=31 step=27218 epoch=31 metrics={'time_sample_batch': 0.00011108404954636558, 'time_algorithm_update': 0.0013290510633811863, 'loss': 0.009191675255657165, 'time_step': 0.0014955310452228797, 'init_value': -0.8280377984046936, 'ave_value': -0.829391194864282, 'soft_opc': nan} step=27218\n"
     ]
    },
    {
     "name": "stderr",
     "output_type": "stream",
     "text": [
      "WARNING:root:NaN or Inf found in input tensor.\n"
     ]
    },
    {
     "name": "stdout",
     "output_type": "stream",
     "text": [
      "2022-04-07 19:51.14 [info     ] Model parameters are saved to d3rlpy_logs/FQE_20220407195022/model_27218.pt\n"
     ]
    },
    {
     "data": {
      "application/vnd.jupyter.widget-view+json": {
       "model_id": "a33d1c3248f2473d896882be122616f8",
       "version_major": 2,
       "version_minor": 0
      },
      "text/plain": [
       "Epoch 32/50:   0%|          | 0/878 [00:00<?, ?it/s]"
      ]
     },
     "metadata": {},
     "output_type": "display_data"
    },
    {
     "name": "stderr",
     "output_type": "stream",
     "text": [
      "WARNING:root:NaN or Inf found in input tensor.\n"
     ]
    },
    {
     "name": "stdout",
     "output_type": "stream",
     "text": [
      "2022-04-07 19:51.16 [info     ] FQE_20220407195022: epoch=32 step=28096 epoch=32 metrics={'time_sample_batch': 0.00011999216057988126, 'time_algorithm_update': 0.0014615838239839245, 'loss': 0.009184941818742808, 'time_step': 0.001637582898411501, 'init_value': -0.7900677919387817, 'ave_value': -0.7914700958215157, 'soft_opc': nan} step=28096\n"
     ]
    },
    {
     "name": "stderr",
     "output_type": "stream",
     "text": [
      "WARNING:root:NaN or Inf found in input tensor.\n"
     ]
    },
    {
     "name": "stdout",
     "output_type": "stream",
     "text": [
      "2022-04-07 19:51.16 [info     ] Model parameters are saved to d3rlpy_logs/FQE_20220407195022/model_28096.pt\n"
     ]
    },
    {
     "data": {
      "application/vnd.jupyter.widget-view+json": {
       "model_id": "3dabe4b1ed5f495fa4c18bbf972542ac",
       "version_major": 2,
       "version_minor": 0
      },
      "text/plain": [
       "Epoch 33/50:   0%|          | 0/878 [00:00<?, ?it/s]"
      ]
     },
     "metadata": {},
     "output_type": "display_data"
    },
    {
     "name": "stderr",
     "output_type": "stream",
     "text": [
      "WARNING:root:NaN or Inf found in input tensor.\n"
     ]
    },
    {
     "name": "stdout",
     "output_type": "stream",
     "text": [
      "2022-04-07 19:51.18 [info     ] FQE_20220407195022: epoch=33 step=28974 epoch=33 metrics={'time_sample_batch': 0.0001198034351670389, 'time_algorithm_update': 0.0014568230557278784, 'loss': 0.009289704153875153, 'time_step': 0.0016340750496588426, 'init_value': -0.8235279321670532, 'ave_value': -0.824935113661622, 'soft_opc': nan} step=28974\n"
     ]
    },
    {
     "name": "stderr",
     "output_type": "stream",
     "text": [
      "WARNING:root:NaN or Inf found in input tensor.\n"
     ]
    },
    {
     "name": "stdout",
     "output_type": "stream",
     "text": [
      "2022-04-07 19:51.18 [info     ] Model parameters are saved to d3rlpy_logs/FQE_20220407195022/model_28974.pt\n"
     ]
    },
    {
     "data": {
      "application/vnd.jupyter.widget-view+json": {
       "model_id": "5a20250950d0495ca47e9d7b47c286fc",
       "version_major": 2,
       "version_minor": 0
      },
      "text/plain": [
       "Epoch 34/50:   0%|          | 0/878 [00:00<?, ?it/s]"
      ]
     },
     "metadata": {},
     "output_type": "display_data"
    },
    {
     "name": "stderr",
     "output_type": "stream",
     "text": [
      "WARNING:root:NaN or Inf found in input tensor.\n"
     ]
    },
    {
     "name": "stdout",
     "output_type": "stream",
     "text": [
      "2022-04-07 19:51.20 [info     ] FQE_20220407195022: epoch=34 step=29852 epoch=34 metrics={'time_sample_batch': 0.00011896190990891163, 'time_algorithm_update': 0.0014639889189213989, 'loss': 0.0099679429290435, 'time_step': 0.0016402207094335882, 'init_value': -0.8342913389205933, 'ave_value': -0.8357350657340403, 'soft_opc': nan} step=29852\n"
     ]
    },
    {
     "name": "stderr",
     "output_type": "stream",
     "text": [
      "WARNING:root:NaN or Inf found in input tensor.\n"
     ]
    },
    {
     "name": "stdout",
     "output_type": "stream",
     "text": [
      "2022-04-07 19:51.20 [info     ] Model parameters are saved to d3rlpy_logs/FQE_20220407195022/model_29852.pt\n"
     ]
    },
    {
     "data": {
      "application/vnd.jupyter.widget-view+json": {
       "model_id": "e77c8961806c4d9f840e480a126b12bb",
       "version_major": 2,
       "version_minor": 0
      },
      "text/plain": [
       "Epoch 35/50:   0%|          | 0/878 [00:00<?, ?it/s]"
      ]
     },
     "metadata": {},
     "output_type": "display_data"
    },
    {
     "name": "stderr",
     "output_type": "stream",
     "text": [
      "WARNING:root:NaN or Inf found in input tensor.\n"
     ]
    },
    {
     "name": "stdout",
     "output_type": "stream",
     "text": [
      "2022-04-07 19:51.21 [info     ] FQE_20220407195022: epoch=35 step=30730 epoch=35 metrics={'time_sample_batch': 0.00011432904045782762, 'time_algorithm_update': 0.001404727781552117, 'loss': 0.009492660481334863, 'time_step': 0.0015735468723236292, 'init_value': -0.7900524139404297, 'ave_value': -0.7914929664945407, 'soft_opc': nan} step=30730\n"
     ]
    },
    {
     "name": "stderr",
     "output_type": "stream",
     "text": [
      "WARNING:root:NaN or Inf found in input tensor.\n"
     ]
    },
    {
     "name": "stdout",
     "output_type": "stream",
     "text": [
      "2022-04-07 19:51.21 [info     ] Model parameters are saved to d3rlpy_logs/FQE_20220407195022/model_30730.pt\n"
     ]
    },
    {
     "data": {
      "application/vnd.jupyter.widget-view+json": {
       "model_id": "83321d458879485296d7b7ed878cd472",
       "version_major": 2,
       "version_minor": 0
      },
      "text/plain": [
       "Epoch 36/50:   0%|          | 0/878 [00:00<?, ?it/s]"
      ]
     },
     "metadata": {},
     "output_type": "display_data"
    },
    {
     "name": "stderr",
     "output_type": "stream",
     "text": [
      "WARNING:root:NaN or Inf found in input tensor.\n"
     ]
    },
    {
     "name": "stdout",
     "output_type": "stream",
     "text": [
      "2022-04-07 19:51.23 [info     ] FQE_20220407195022: epoch=36 step=31608 epoch=36 metrics={'time_sample_batch': 0.00011188158413272241, 'time_algorithm_update': 0.0013690038259588776, 'loss': 0.009451571076768518, 'time_step': 0.0015370777907838583, 'init_value': -0.8220359086990356, 'ave_value': -0.8235666237350672, 'soft_opc': nan} step=31608\n"
     ]
    },
    {
     "name": "stderr",
     "output_type": "stream",
     "text": [
      "WARNING:root:NaN or Inf found in input tensor.\n"
     ]
    },
    {
     "name": "stdout",
     "output_type": "stream",
     "text": [
      "2022-04-07 19:51.23 [info     ] Model parameters are saved to d3rlpy_logs/FQE_20220407195022/model_31608.pt\n"
     ]
    },
    {
     "data": {
      "application/vnd.jupyter.widget-view+json": {
       "model_id": "ffce09b75f334e4eac768899cb9d9ddf",
       "version_major": 2,
       "version_minor": 0
      },
      "text/plain": [
       "Epoch 37/50:   0%|          | 0/878 [00:00<?, ?it/s]"
      ]
     },
     "metadata": {},
     "output_type": "display_data"
    },
    {
     "name": "stderr",
     "output_type": "stream",
     "text": [
      "WARNING:root:NaN or Inf found in input tensor.\n"
     ]
    },
    {
     "name": "stdout",
     "output_type": "stream",
     "text": [
      "2022-04-07 19:51.24 [info     ] FQE_20220407195022: epoch=37 step=32486 epoch=37 metrics={'time_sample_batch': 0.00011379300597588403, 'time_algorithm_update': 0.0013859986172721707, 'loss': 0.009809094327775299, 'time_step': 0.0015545868927905662, 'init_value': -0.8558482527732849, 'ave_value': -0.8573723145559246, 'soft_opc': nan} step=32486\n"
     ]
    },
    {
     "name": "stderr",
     "output_type": "stream",
     "text": [
      "WARNING:root:NaN or Inf found in input tensor.\n"
     ]
    },
    {
     "name": "stdout",
     "output_type": "stream",
     "text": [
      "2022-04-07 19:51.24 [info     ] Model parameters are saved to d3rlpy_logs/FQE_20220407195022/model_32486.pt\n"
     ]
    },
    {
     "data": {
      "application/vnd.jupyter.widget-view+json": {
       "model_id": "85c2d18c3b0b464ca0fcf12967370456",
       "version_major": 2,
       "version_minor": 0
      },
      "text/plain": [
       "Epoch 38/50:   0%|          | 0/878 [00:00<?, ?it/s]"
      ]
     },
     "metadata": {},
     "output_type": "display_data"
    },
    {
     "name": "stderr",
     "output_type": "stream",
     "text": [
      "WARNING:root:NaN or Inf found in input tensor.\n"
     ]
    },
    {
     "name": "stdout",
     "output_type": "stream",
     "text": [
      "2022-04-07 19:51.26 [info     ] FQE_20220407195022: epoch=38 step=33364 epoch=38 metrics={'time_sample_batch': 0.0001081157653912868, 'time_algorithm_update': 0.0013391732626460951, 'loss': 0.010448835196613618, 'time_step': 0.0014952160502892148, 'init_value': -0.884492039680481, 'ave_value': -0.8859564043045227, 'soft_opc': nan} step=33364\n"
     ]
    },
    {
     "name": "stderr",
     "output_type": "stream",
     "text": [
      "WARNING:root:NaN or Inf found in input tensor.\n"
     ]
    },
    {
     "name": "stdout",
     "output_type": "stream",
     "text": [
      "2022-04-07 19:51.26 [info     ] Model parameters are saved to d3rlpy_logs/FQE_20220407195022/model_33364.pt\n"
     ]
    },
    {
     "data": {
      "application/vnd.jupyter.widget-view+json": {
       "model_id": "1cb4f356cd414ea8b72a5db11ebd740a",
       "version_major": 2,
       "version_minor": 0
      },
      "text/plain": [
       "Epoch 39/50:   0%|          | 0/878 [00:00<?, ?it/s]"
      ]
     },
     "metadata": {},
     "output_type": "display_data"
    },
    {
     "name": "stderr",
     "output_type": "stream",
     "text": [
      "WARNING:root:NaN or Inf found in input tensor.\n"
     ]
    },
    {
     "name": "stdout",
     "output_type": "stream",
     "text": [
      "2022-04-07 19:51.28 [info     ] FQE_20220407195022: epoch=39 step=34242 epoch=39 metrics={'time_sample_batch': 0.00011479990357418539, 'time_algorithm_update': 0.0015267576334959826, 'loss': 0.010074278715899953, 'time_step': 0.0016903187528014999, 'init_value': -0.8398711085319519, 'ave_value': -0.8414063102848727, 'soft_opc': nan} step=34242\n"
     ]
    },
    {
     "name": "stderr",
     "output_type": "stream",
     "text": [
      "WARNING:root:NaN or Inf found in input tensor.\n"
     ]
    },
    {
     "name": "stdout",
     "output_type": "stream",
     "text": [
      "2022-04-07 19:51.28 [info     ] Model parameters are saved to d3rlpy_logs/FQE_20220407195022/model_34242.pt\n"
     ]
    },
    {
     "data": {
      "application/vnd.jupyter.widget-view+json": {
       "model_id": "c54c499553d848dab39e5918bc8c5c46",
       "version_major": 2,
       "version_minor": 0
      },
      "text/plain": [
       "Epoch 40/50:   0%|          | 0/878 [00:00<?, ?it/s]"
      ]
     },
     "metadata": {},
     "output_type": "display_data"
    },
    {
     "name": "stderr",
     "output_type": "stream",
     "text": [
      "WARNING:root:NaN or Inf found in input tensor.\n"
     ]
    },
    {
     "name": "stdout",
     "output_type": "stream",
     "text": [
      "2022-04-07 19:51.29 [info     ] FQE_20220407195022: epoch=40 step=35120 epoch=40 metrics={'time_sample_batch': 0.00011566342416819787, 'time_algorithm_update': 0.001423201962864209, 'loss': 0.009882126019814105, 'time_step': 0.001591281087088965, 'init_value': -0.8310989141464233, 'ave_value': -0.832551449271848, 'soft_opc': nan} step=35120\n"
     ]
    },
    {
     "name": "stderr",
     "output_type": "stream",
     "text": [
      "WARNING:root:NaN or Inf found in input tensor.\n"
     ]
    },
    {
     "name": "stdout",
     "output_type": "stream",
     "text": [
      "2022-04-07 19:51.29 [info     ] Model parameters are saved to d3rlpy_logs/FQE_20220407195022/model_35120.pt\n"
     ]
    },
    {
     "data": {
      "application/vnd.jupyter.widget-view+json": {
       "model_id": "a785e7bb08b747719a3a0f06e12bd49a",
       "version_major": 2,
       "version_minor": 0
      },
      "text/plain": [
       "Epoch 41/50:   0%|          | 0/878 [00:00<?, ?it/s]"
      ]
     },
     "metadata": {},
     "output_type": "display_data"
    },
    {
     "name": "stderr",
     "output_type": "stream",
     "text": [
      "WARNING:root:NaN or Inf found in input tensor.\n"
     ]
    },
    {
     "name": "stdout",
     "output_type": "stream",
     "text": [
      "2022-04-07 19:51.31 [info     ] FQE_20220407195022: epoch=41 step=35998 epoch=41 metrics={'time_sample_batch': 0.00012172055950468928, 'time_algorithm_update': 0.0015373197394785956, 'loss': 0.009604579827142735, 'time_step': 0.001717915024464114, 'init_value': -0.8365294933319092, 'ave_value': -0.8379082833570947, 'soft_opc': nan} step=35998\n"
     ]
    },
    {
     "name": "stderr",
     "output_type": "stream",
     "text": [
      "WARNING:root:NaN or Inf found in input tensor.\n"
     ]
    },
    {
     "name": "stdout",
     "output_type": "stream",
     "text": [
      "2022-04-07 19:51.31 [info     ] Model parameters are saved to d3rlpy_logs/FQE_20220407195022/model_35998.pt\n"
     ]
    },
    {
     "data": {
      "application/vnd.jupyter.widget-view+json": {
       "model_id": "9de6602a02a74a56a007bf4c9b77a8d1",
       "version_major": 2,
       "version_minor": 0
      },
      "text/plain": [
       "Epoch 42/50:   0%|          | 0/878 [00:00<?, ?it/s]"
      ]
     },
     "metadata": {},
     "output_type": "display_data"
    },
    {
     "name": "stderr",
     "output_type": "stream",
     "text": [
      "WARNING:root:NaN or Inf found in input tensor.\n"
     ]
    },
    {
     "name": "stdout",
     "output_type": "stream",
     "text": [
      "2022-04-07 19:51.33 [info     ] FQE_20220407195022: epoch=42 step=36876 epoch=42 metrics={'time_sample_batch': 0.00012034137048047877, 'time_algorithm_update': 0.001470258675838114, 'loss': 0.00981452768699306, 'time_step': 0.0016435604703725064, 'init_value': -0.8502779603004456, 'ave_value': -0.8515423087558167, 'soft_opc': nan} step=36876\n"
     ]
    },
    {
     "name": "stderr",
     "output_type": "stream",
     "text": [
      "WARNING:root:NaN or Inf found in input tensor.\n"
     ]
    },
    {
     "name": "stdout",
     "output_type": "stream",
     "text": [
      "2022-04-07 19:51.33 [info     ] Model parameters are saved to d3rlpy_logs/FQE_20220407195022/model_36876.pt\n"
     ]
    },
    {
     "data": {
      "application/vnd.jupyter.widget-view+json": {
       "model_id": "c6ce609645e142f9b9a60f530dacfe4c",
       "version_major": 2,
       "version_minor": 0
      },
      "text/plain": [
       "Epoch 43/50:   0%|          | 0/878 [00:00<?, ?it/s]"
      ]
     },
     "metadata": {},
     "output_type": "display_data"
    },
    {
     "name": "stderr",
     "output_type": "stream",
     "text": [
      "WARNING:root:NaN or Inf found in input tensor.\n"
     ]
    },
    {
     "name": "stdout",
     "output_type": "stream",
     "text": [
      "2022-04-07 19:51.35 [info     ] FQE_20220407195022: epoch=43 step=37754 epoch=43 metrics={'time_sample_batch': 0.00012152314457643548, 'time_algorithm_update': 0.001473093358693742, 'loss': 0.00970178444095652, 'time_step': 0.001653906967753973, 'init_value': -0.8486453890800476, 'ave_value': -0.8499944748970057, 'soft_opc': nan} step=37754\n"
     ]
    },
    {
     "name": "stderr",
     "output_type": "stream",
     "text": [
      "WARNING:root:NaN or Inf found in input tensor.\n"
     ]
    },
    {
     "name": "stdout",
     "output_type": "stream",
     "text": [
      "2022-04-07 19:51.35 [info     ] Model parameters are saved to d3rlpy_logs/FQE_20220407195022/model_37754.pt\n"
     ]
    },
    {
     "data": {
      "application/vnd.jupyter.widget-view+json": {
       "model_id": "6bf28ebfa462490f9076a694f5fff40d",
       "version_major": 2,
       "version_minor": 0
      },
      "text/plain": [
       "Epoch 44/50:   0%|          | 0/878 [00:00<?, ?it/s]"
      ]
     },
     "metadata": {},
     "output_type": "display_data"
    },
    {
     "name": "stderr",
     "output_type": "stream",
     "text": [
      "WARNING:root:NaN or Inf found in input tensor.\n"
     ]
    },
    {
     "name": "stdout",
     "output_type": "stream",
     "text": [
      "2022-04-07 19:51.36 [info     ] FQE_20220407195022: epoch=44 step=38632 epoch=44 metrics={'time_sample_batch': 0.00012569411197392978, 'time_algorithm_update': 0.001625193821813631, 'loss': 0.009676932450088471, 'time_step': 0.0018119537748888576, 'init_value': -0.8161808848381042, 'ave_value': -0.817626685948604, 'soft_opc': nan} step=38632\n"
     ]
    },
    {
     "name": "stderr",
     "output_type": "stream",
     "text": [
      "WARNING:root:NaN or Inf found in input tensor.\n"
     ]
    },
    {
     "name": "stdout",
     "output_type": "stream",
     "text": [
      "2022-04-07 19:51.36 [info     ] Model parameters are saved to d3rlpy_logs/FQE_20220407195022/model_38632.pt\n"
     ]
    },
    {
     "data": {
      "application/vnd.jupyter.widget-view+json": {
       "model_id": "b40f236e2041439aa0fe299243a205ff",
       "version_major": 2,
       "version_minor": 0
      },
      "text/plain": [
       "Epoch 45/50:   0%|          | 0/878 [00:00<?, ?it/s]"
      ]
     },
     "metadata": {},
     "output_type": "display_data"
    },
    {
     "name": "stderr",
     "output_type": "stream",
     "text": [
      "WARNING:root:NaN or Inf found in input tensor.\n"
     ]
    },
    {
     "name": "stdout",
     "output_type": "stream",
     "text": [
      "2022-04-07 19:51.38 [info     ] FQE_20220407195022: epoch=45 step=39510 epoch=45 metrics={'time_sample_batch': 0.00011662578800001557, 'time_algorithm_update': 0.0013980822030938568, 'loss': 0.009681482136327507, 'time_step': 0.0015712843397483738, 'init_value': -0.8235644698143005, 'ave_value': -0.82505256652531, 'soft_opc': nan} step=39510\n"
     ]
    },
    {
     "name": "stderr",
     "output_type": "stream",
     "text": [
      "WARNING:root:NaN or Inf found in input tensor.\n"
     ]
    },
    {
     "name": "stdout",
     "output_type": "stream",
     "text": [
      "2022-04-07 19:51.38 [info     ] Model parameters are saved to d3rlpy_logs/FQE_20220407195022/model_39510.pt\n"
     ]
    },
    {
     "data": {
      "application/vnd.jupyter.widget-view+json": {
       "model_id": "0142ad7b70564f59a41510b9ac04a7c9",
       "version_major": 2,
       "version_minor": 0
      },
      "text/plain": [
       "Epoch 46/50:   0%|          | 0/878 [00:00<?, ?it/s]"
      ]
     },
     "metadata": {},
     "output_type": "display_data"
    },
    {
     "name": "stderr",
     "output_type": "stream",
     "text": [
      "WARNING:root:NaN or Inf found in input tensor.\n"
     ]
    },
    {
     "name": "stdout",
     "output_type": "stream",
     "text": [
      "2022-04-07 19:51.40 [info     ] FQE_20220407195022: epoch=46 step=40388 epoch=46 metrics={'time_sample_batch': 0.00012118724049631175, 'time_algorithm_update': 0.0014779537848296632, 'loss': 0.0100470877743754, 'time_step': 0.0016563405751638912, 'init_value': -0.8651124238967896, 'ave_value': -0.8666360446505842, 'soft_opc': nan} step=40388\n"
     ]
    },
    {
     "name": "stderr",
     "output_type": "stream",
     "text": [
      "WARNING:root:NaN or Inf found in input tensor.\n"
     ]
    },
    {
     "name": "stdout",
     "output_type": "stream",
     "text": [
      "2022-04-07 19:51.40 [info     ] Model parameters are saved to d3rlpy_logs/FQE_20220407195022/model_40388.pt\n"
     ]
    },
    {
     "data": {
      "application/vnd.jupyter.widget-view+json": {
       "model_id": "1f3e59064ef34651bd47751a7ac97791",
       "version_major": 2,
       "version_minor": 0
      },
      "text/plain": [
       "Epoch 47/50:   0%|          | 0/878 [00:00<?, ?it/s]"
      ]
     },
     "metadata": {},
     "output_type": "display_data"
    },
    {
     "name": "stderr",
     "output_type": "stream",
     "text": [
      "WARNING:root:NaN or Inf found in input tensor.\n"
     ]
    },
    {
     "name": "stdout",
     "output_type": "stream",
     "text": [
      "2022-04-07 19:51.41 [info     ] FQE_20220407195022: epoch=47 step=41266 epoch=47 metrics={'time_sample_batch': 0.00011951179330604222, 'time_algorithm_update': 0.001444347083975894, 'loss': 0.01032876815464789, 'time_step': 0.0016149768525212664, 'init_value': -0.8798704743385315, 'ave_value': -0.8812990082936528, 'soft_opc': nan} step=41266\n"
     ]
    },
    {
     "name": "stderr",
     "output_type": "stream",
     "text": [
      "WARNING:root:NaN or Inf found in input tensor.\n"
     ]
    },
    {
     "name": "stdout",
     "output_type": "stream",
     "text": [
      "2022-04-07 19:51.41 [info     ] Model parameters are saved to d3rlpy_logs/FQE_20220407195022/model_41266.pt\n"
     ]
    },
    {
     "data": {
      "application/vnd.jupyter.widget-view+json": {
       "model_id": "9909bd0741bb4ebfaeed5a372d5c6e8d",
       "version_major": 2,
       "version_minor": 0
      },
      "text/plain": [
       "Epoch 48/50:   0%|          | 0/878 [00:00<?, ?it/s]"
      ]
     },
     "metadata": {},
     "output_type": "display_data"
    },
    {
     "name": "stderr",
     "output_type": "stream",
     "text": [
      "WARNING:root:NaN or Inf found in input tensor.\n"
     ]
    },
    {
     "name": "stdout",
     "output_type": "stream",
     "text": [
      "2022-04-07 19:51.43 [info     ] FQE_20220407195022: epoch=48 step=42144 epoch=48 metrics={'time_sample_batch': 0.00012606586030512574, 'time_algorithm_update': 0.0015500811075023747, 'loss': 0.0103545995244999, 'time_step': 0.0017347808307830186, 'init_value': -0.8448048233985901, 'ave_value': -0.8462773641351111, 'soft_opc': nan} step=42144\n"
     ]
    },
    {
     "name": "stderr",
     "output_type": "stream",
     "text": [
      "WARNING:root:NaN or Inf found in input tensor.\n"
     ]
    },
    {
     "name": "stdout",
     "output_type": "stream",
     "text": [
      "2022-04-07 19:51.43 [info     ] Model parameters are saved to d3rlpy_logs/FQE_20220407195022/model_42144.pt\n"
     ]
    },
    {
     "data": {
      "application/vnd.jupyter.widget-view+json": {
       "model_id": "08c673eed4e242d681bb24ec44f45239",
       "version_major": 2,
       "version_minor": 0
      },
      "text/plain": [
       "Epoch 49/50:   0%|          | 0/878 [00:00<?, ?it/s]"
      ]
     },
     "metadata": {},
     "output_type": "display_data"
    },
    {
     "name": "stderr",
     "output_type": "stream",
     "text": [
      "WARNING:root:NaN or Inf found in input tensor.\n"
     ]
    },
    {
     "name": "stdout",
     "output_type": "stream",
     "text": [
      "2022-04-07 19:51.45 [info     ] FQE_20220407195022: epoch=49 step=43022 epoch=49 metrics={'time_sample_batch': 0.00012302806002675536, 'time_algorithm_update': 0.0016138108281719928, 'loss': 0.009970765419667904, 'time_step': 0.0017916097184791653, 'init_value': -0.8058552145957947, 'ave_value': -0.8073429573166493, 'soft_opc': nan} step=43022\n"
     ]
    },
    {
     "name": "stderr",
     "output_type": "stream",
     "text": [
      "WARNING:root:NaN or Inf found in input tensor.\n"
     ]
    },
    {
     "name": "stdout",
     "output_type": "stream",
     "text": [
      "2022-04-07 19:51.45 [info     ] Model parameters are saved to d3rlpy_logs/FQE_20220407195022/model_43022.pt\n"
     ]
    },
    {
     "data": {
      "application/vnd.jupyter.widget-view+json": {
       "model_id": "559bc0030b2841d79042f4fa38bed6fa",
       "version_major": 2,
       "version_minor": 0
      },
      "text/plain": [
       "Epoch 50/50:   0%|          | 0/878 [00:00<?, ?it/s]"
      ]
     },
     "metadata": {},
     "output_type": "display_data"
    },
    {
     "name": "stderr",
     "output_type": "stream",
     "text": [
      "WARNING:root:NaN or Inf found in input tensor.\n"
     ]
    },
    {
     "name": "stdout",
     "output_type": "stream",
     "text": [
      "2022-04-07 19:51.47 [info     ] FQE_20220407195022: epoch=50 step=43900 epoch=50 metrics={'time_sample_batch': 0.00012361921862209034, 'time_algorithm_update': 0.001523890093410205, 'loss': 0.009692584044443269, 'time_step': 0.0017012363142739125, 'init_value': -0.8151191473007202, 'ave_value': -0.8166476551819799, 'soft_opc': nan} step=43900\n"
     ]
    },
    {
     "name": "stderr",
     "output_type": "stream",
     "text": [
      "WARNING:root:NaN or Inf found in input tensor.\n"
     ]
    },
    {
     "name": "stdout",
     "output_type": "stream",
     "text": [
      "2022-04-07 19:51.47 [info     ] Model parameters are saved to d3rlpy_logs/FQE_20220407195022/model_43900.pt\n"
     ]
    },
    {
     "data": {
      "text/plain": [
       "[(1,\n",
       "  {'time_sample_batch': 0.00010922530789038586,\n",
       "   'time_algorithm_update': 0.0013269965360810925,\n",
       "   'loss': 0.0009169417545932128,\n",
       "   'time_step': 0.0014889957149914021,\n",
       "   'init_value': -0.3336537480354309,\n",
       "   'ave_value': -0.3335277750286961,\n",
       "   'soft_opc': nan}),\n",
       " (2,\n",
       "  {'time_sample_batch': 0.00011259765451209691,\n",
       "   'time_algorithm_update': 0.0013444882590569777,\n",
       "   'loss': 0.001964072655541641,\n",
       "   'time_step': 0.0015072838863642178,\n",
       "   'init_value': -0.48161980509757996,\n",
       "   'ave_value': -0.4819707575342267,\n",
       "   'soft_opc': nan}),\n",
       " (3,\n",
       "  {'time_sample_batch': 0.00012065609386678708,\n",
       "   'time_algorithm_update': 0.0014837013561796219,\n",
       "   'loss': 0.0035081159272886825,\n",
       "   'time_step': 0.0016611716741852989,\n",
       "   'init_value': -0.5360317230224609,\n",
       "   'ave_value': -0.5367158918235728,\n",
       "   'soft_opc': nan}),\n",
       " (4,\n",
       "  {'time_sample_batch': 0.00012901187757696268,\n",
       "   'time_algorithm_update': 0.0016377564171723732,\n",
       "   'loss': 0.004300679627766237,\n",
       "   'time_step': 0.001826680602679763,\n",
       "   'init_value': -0.5670409798622131,\n",
       "   'ave_value': -0.5679121116861251,\n",
       "   'soft_opc': nan}),\n",
       " (5,\n",
       "  {'time_sample_batch': 0.00012773451881148006,\n",
       "   'time_algorithm_update': 0.0015860779681890049,\n",
       "   'loss': 0.005298091582691399,\n",
       "   'time_step': 0.0017747439121602608,\n",
       "   'init_value': -0.5963019728660583,\n",
       "   'ave_value': -0.5974139589933607,\n",
       "   'soft_opc': nan}),\n",
       " (6,\n",
       "  {'time_sample_batch': 0.00012356979700318773,\n",
       "   'time_algorithm_update': 0.0016503983043592448,\n",
       "   'loss': 0.006298649211361644,\n",
       "   'time_step': 0.0018316841342726166,\n",
       "   'init_value': -0.6516246199607849,\n",
       "   'ave_value': -0.6529435249586389,\n",
       "   'soft_opc': nan}),\n",
       " (7,\n",
       "  {'time_sample_batch': 0.00011987267974297387,\n",
       "   'time_algorithm_update': 0.0014505723071261255,\n",
       "   'loss': 0.007762361717625963,\n",
       "   'time_step': 0.0016265643213224303,\n",
       "   'init_value': -0.7172123789787292,\n",
       "   'ave_value': -0.7186235047648359,\n",
       "   'soft_opc': nan}),\n",
       " (8,\n",
       "  {'time_sample_batch': 0.00011909605430307584,\n",
       "   'time_algorithm_update': 0.0014340443057188413,\n",
       "   'loss': 0.0077507040966891694,\n",
       "   'time_step': 0.0016092909224212576,\n",
       "   'init_value': -0.7303751707077026,\n",
       "   'ave_value': -0.7318628061988509,\n",
       "   'soft_opc': nan}),\n",
       " (9,\n",
       "  {'time_sample_batch': 0.0001209985150834694,\n",
       "   'time_algorithm_update': 0.001472486993446437,\n",
       "   'loss': 0.008759497603336025,\n",
       "   'time_step': 0.001652145983146372,\n",
       "   'init_value': -0.7524876594543457,\n",
       "   'ave_value': -0.7540609693182451,\n",
       "   'soft_opc': nan}),\n",
       " (10,\n",
       "  {'time_sample_batch': 0.000126442224941384,\n",
       "   'time_algorithm_update': 0.0015727175666965492,\n",
       "   'loss': 0.009895807106377292,\n",
       "   'time_step': 0.0017590357122225751,\n",
       "   'init_value': -0.865785539150238,\n",
       "   'ave_value': -0.8673962681926036,\n",
       "   'soft_opc': nan}),\n",
       " (11,\n",
       "  {'time_sample_batch': 0.0001253595656305891,\n",
       "   'time_algorithm_update': 0.0015838208665608818,\n",
       "   'loss': 0.010407614959530414,\n",
       "   'time_step': 0.0017612928138506982,\n",
       "   'init_value': -0.818297803401947,\n",
       "   'ave_value': -0.8199825416453095,\n",
       "   'soft_opc': nan}),\n",
       " (12,\n",
       "  {'time_sample_batch': 0.00011877019747514659,\n",
       "   'time_algorithm_update': 0.001431864051992638,\n",
       "   'loss': 0.009965066626779071,\n",
       "   'time_step': 0.001604144285371472,\n",
       "   'init_value': -0.7926100492477417,\n",
       "   'ave_value': -0.7941607457740495,\n",
       "   'soft_opc': nan}),\n",
       " (13,\n",
       "  {'time_sample_batch': 0.00011448300780902419,\n",
       "   'time_algorithm_update': 0.0013623794281944328,\n",
       "   'loss': 0.009536507324992685,\n",
       "   'time_step': 0.0015310793096763942,\n",
       "   'init_value': -0.7755937576293945,\n",
       "   'ave_value': -0.7771935509888597,\n",
       "   'soft_opc': nan}),\n",
       " (14,\n",
       "  {'time_sample_batch': 0.00012155274323830572,\n",
       "   'time_algorithm_update': 0.0014905351169560114,\n",
       "   'loss': 0.009383234377899556,\n",
       "   'time_step': 0.0016710421490506323,\n",
       "   'init_value': -0.8126031756401062,\n",
       "   'ave_value': -0.8140570376802883,\n",
       "   'soft_opc': nan}),\n",
       " (15,\n",
       "  {'time_sample_batch': 0.000119087636335021,\n",
       "   'time_algorithm_update': 0.0014282953766320996,\n",
       "   'loss': 0.009501458502193751,\n",
       "   'time_step': 0.0016045964117202237,\n",
       "   'init_value': -0.8052887916564941,\n",
       "   'ave_value': -0.8068868319672746,\n",
       "   'soft_opc': nan}),\n",
       " (16,\n",
       "  {'time_sample_batch': 0.00011965707114182736,\n",
       "   'time_algorithm_update': 0.001444247426096019,\n",
       "   'loss': 0.010080996675859584,\n",
       "   'time_step': 0.0016198505844776615,\n",
       "   'init_value': -0.8580352663993835,\n",
       "   'ave_value': -0.8595553857140669,\n",
       "   'soft_opc': nan}),\n",
       " (17,\n",
       "  {'time_sample_batch': 0.00012781462528167932,\n",
       "   'time_algorithm_update': 0.0016274406046422032,\n",
       "   'loss': 0.010262681080680035,\n",
       "   'time_step': 0.0018087245337240789,\n",
       "   'init_value': -0.8125917315483093,\n",
       "   'ave_value': -0.8141502371936079,\n",
       "   'soft_opc': nan}),\n",
       " (18,\n",
       "  {'time_sample_batch': 0.00011865125973295242,\n",
       "   'time_algorithm_update': 0.0014589916329177475,\n",
       "   'loss': 0.00948240195789046,\n",
       "   'time_step': 0.0016340359468394912,\n",
       "   'init_value': -0.8252571225166321,\n",
       "   'ave_value': -0.826669245601104,\n",
       "   'soft_opc': nan}),\n",
       " (19,\n",
       "  {'time_sample_batch': 0.00011357060869082231,\n",
       "   'time_algorithm_update': 0.0013451983553945067,\n",
       "   'loss': 0.009235900887870643,\n",
       "   'time_step': 0.0015146414619915034,\n",
       "   'init_value': -0.7787498235702515,\n",
       "   'ave_value': -0.7801543690705314,\n",
       "   'soft_opc': nan}),\n",
       " (20,\n",
       "  {'time_sample_batch': 0.00012321705698695434,\n",
       "   'time_algorithm_update': 0.0015087879871724678,\n",
       "   'loss': 0.009129258467972225,\n",
       "   'time_step': 0.0016908531579993037,\n",
       "   'init_value': -0.8057368397712708,\n",
       "   'ave_value': -0.8071689134446878,\n",
       "   'soft_opc': nan}),\n",
       " (21,\n",
       "  {'time_sample_batch': 0.00011809214372569716,\n",
       "   'time_algorithm_update': 0.0014280148682127237,\n",
       "   'loss': 0.009009543699998889,\n",
       "   'time_step': 0.0016033084626078335,\n",
       "   'init_value': -0.8090533018112183,\n",
       "   'ave_value': -0.8105253397045888,\n",
       "   'soft_opc': nan}),\n",
       " (22,\n",
       "  {'time_sample_batch': 0.00011752841141337958,\n",
       "   'time_algorithm_update': 0.001480767015444119,\n",
       "   'loss': 0.008793721086114025,\n",
       "   'time_step': 0.001656214848737782,\n",
       "   'init_value': -0.7687418460845947,\n",
       "   'ave_value': -0.7702400462339377,\n",
       "   'soft_opc': nan}),\n",
       " (23,\n",
       "  {'time_sample_batch': 0.00011942028184686543,\n",
       "   'time_algorithm_update': 0.0014979374978971373,\n",
       "   'loss': 0.00933834881907035,\n",
       "   'time_step': 0.0016749480862280773,\n",
       "   'init_value': -0.8161225318908691,\n",
       "   'ave_value': -0.8176952671385691,\n",
       "   'soft_opc': nan}),\n",
       " (24,\n",
       "  {'time_sample_batch': 0.00012009073227032985,\n",
       "   'time_algorithm_update': 0.0014945336517820597,\n",
       "   'loss': 0.009985158265124416,\n",
       "   'time_step': 0.0016716476996558674,\n",
       "   'init_value': -0.8404918909072876,\n",
       "   'ave_value': -0.8419305856459481,\n",
       "   'soft_opc': nan}),\n",
       " (25,\n",
       "  {'time_sample_batch': 0.00011272446712763272,\n",
       "   'time_algorithm_update': 0.0013690146878531418,\n",
       "   'loss': 0.009376503295791287,\n",
       "   'time_step': 0.0015378218305409635,\n",
       "   'init_value': -0.8283095955848694,\n",
       "   'ave_value': -0.829676948170526,\n",
       "   'soft_opc': nan}),\n",
       " (26,\n",
       "  {'time_sample_batch': 0.0001121631787415246,\n",
       "   'time_algorithm_update': 0.0013528744560710932,\n",
       "   'loss': 0.00921558478539074,\n",
       "   'time_step': 0.0015183510704301212,\n",
       "   'init_value': -0.8004833459854126,\n",
       "   'ave_value': -0.8018802840956345,\n",
       "   'soft_opc': nan}),\n",
       " (27,\n",
       "  {'time_sample_batch': 0.00011566668273647716,\n",
       "   'time_algorithm_update': 0.0014197142086159395,\n",
       "   'loss': 0.009182989306146553,\n",
       "   'time_step': 0.001591851608085198,\n",
       "   'init_value': -0.7923828959465027,\n",
       "   'ave_value': -0.7938472524600186,\n",
       "   'soft_opc': nan}),\n",
       " (28,\n",
       "  {'time_sample_batch': 0.00011343429191780525,\n",
       "   'time_algorithm_update': 0.0014556290620008742,\n",
       "   'loss': 0.00909335764960291,\n",
       "   'time_step': 0.00162329516269623,\n",
       "   'init_value': -0.7930539846420288,\n",
       "   'ave_value': -0.7944853714165974,\n",
       "   'soft_opc': nan}),\n",
       " (29,\n",
       "  {'time_sample_batch': 0.00012193209489548668,\n",
       "   'time_algorithm_update': 0.0014850506749946055,\n",
       "   'loss': 0.008984045130799045,\n",
       "   'time_step': 0.0016658927965272803,\n",
       "   'init_value': -0.8247576951980591,\n",
       "   'ave_value': -0.8261486931134526,\n",
       "   'soft_opc': nan}),\n",
       " (30,\n",
       "  {'time_sample_batch': 0.00011413705647670598,\n",
       "   'time_algorithm_update': 0.001363787129691087,\n",
       "   'loss': 0.0092587838398727,\n",
       "   'time_step': 0.0015336769316897033,\n",
       "   'init_value': -0.8016865253448486,\n",
       "   'ave_value': -0.8030143756445237,\n",
       "   'soft_opc': nan}),\n",
       " (31,\n",
       "  {'time_sample_batch': 0.00011108404954636558,\n",
       "   'time_algorithm_update': 0.0013290510633811863,\n",
       "   'loss': 0.009191675255657165,\n",
       "   'time_step': 0.0014955310452228797,\n",
       "   'init_value': -0.8280377984046936,\n",
       "   'ave_value': -0.829391194864282,\n",
       "   'soft_opc': nan}),\n",
       " (32,\n",
       "  {'time_sample_batch': 0.00011999216057988126,\n",
       "   'time_algorithm_update': 0.0014615838239839245,\n",
       "   'loss': 0.009184941818742808,\n",
       "   'time_step': 0.001637582898411501,\n",
       "   'init_value': -0.7900677919387817,\n",
       "   'ave_value': -0.7914700958215157,\n",
       "   'soft_opc': nan}),\n",
       " (33,\n",
       "  {'time_sample_batch': 0.0001198034351670389,\n",
       "   'time_algorithm_update': 0.0014568230557278784,\n",
       "   'loss': 0.009289704153875153,\n",
       "   'time_step': 0.0016340750496588426,\n",
       "   'init_value': -0.8235279321670532,\n",
       "   'ave_value': -0.824935113661622,\n",
       "   'soft_opc': nan}),\n",
       " (34,\n",
       "  {'time_sample_batch': 0.00011896190990891163,\n",
       "   'time_algorithm_update': 0.0014639889189213989,\n",
       "   'loss': 0.0099679429290435,\n",
       "   'time_step': 0.0016402207094335882,\n",
       "   'init_value': -0.8342913389205933,\n",
       "   'ave_value': -0.8357350657340403,\n",
       "   'soft_opc': nan}),\n",
       " (35,\n",
       "  {'time_sample_batch': 0.00011432904045782762,\n",
       "   'time_algorithm_update': 0.001404727781552117,\n",
       "   'loss': 0.009492660481334863,\n",
       "   'time_step': 0.0015735468723236292,\n",
       "   'init_value': -0.7900524139404297,\n",
       "   'ave_value': -0.7914929664945407,\n",
       "   'soft_opc': nan}),\n",
       " (36,\n",
       "  {'time_sample_batch': 0.00011188158413272241,\n",
       "   'time_algorithm_update': 0.0013690038259588776,\n",
       "   'loss': 0.009451571076768518,\n",
       "   'time_step': 0.0015370777907838583,\n",
       "   'init_value': -0.8220359086990356,\n",
       "   'ave_value': -0.8235666237350672,\n",
       "   'soft_opc': nan}),\n",
       " (37,\n",
       "  {'time_sample_batch': 0.00011379300597588403,\n",
       "   'time_algorithm_update': 0.0013859986172721707,\n",
       "   'loss': 0.009809094327775299,\n",
       "   'time_step': 0.0015545868927905662,\n",
       "   'init_value': -0.8558482527732849,\n",
       "   'ave_value': -0.8573723145559246,\n",
       "   'soft_opc': nan}),\n",
       " (38,\n",
       "  {'time_sample_batch': 0.0001081157653912868,\n",
       "   'time_algorithm_update': 0.0013391732626460951,\n",
       "   'loss': 0.010448835196613618,\n",
       "   'time_step': 0.0014952160502892148,\n",
       "   'init_value': -0.884492039680481,\n",
       "   'ave_value': -0.8859564043045227,\n",
       "   'soft_opc': nan}),\n",
       " (39,\n",
       "  {'time_sample_batch': 0.00011479990357418539,\n",
       "   'time_algorithm_update': 0.0015267576334959826,\n",
       "   'loss': 0.010074278715899953,\n",
       "   'time_step': 0.0016903187528014999,\n",
       "   'init_value': -0.8398711085319519,\n",
       "   'ave_value': -0.8414063102848727,\n",
       "   'soft_opc': nan}),\n",
       " (40,\n",
       "  {'time_sample_batch': 0.00011566342416819787,\n",
       "   'time_algorithm_update': 0.001423201962864209,\n",
       "   'loss': 0.009882126019814105,\n",
       "   'time_step': 0.001591281087088965,\n",
       "   'init_value': -0.8310989141464233,\n",
       "   'ave_value': -0.832551449271848,\n",
       "   'soft_opc': nan}),\n",
       " (41,\n",
       "  {'time_sample_batch': 0.00012172055950468928,\n",
       "   'time_algorithm_update': 0.0015373197394785956,\n",
       "   'loss': 0.009604579827142735,\n",
       "   'time_step': 0.001717915024464114,\n",
       "   'init_value': -0.8365294933319092,\n",
       "   'ave_value': -0.8379082833570947,\n",
       "   'soft_opc': nan}),\n",
       " (42,\n",
       "  {'time_sample_batch': 0.00012034137048047877,\n",
       "   'time_algorithm_update': 0.001470258675838114,\n",
       "   'loss': 0.00981452768699306,\n",
       "   'time_step': 0.0016435604703725064,\n",
       "   'init_value': -0.8502779603004456,\n",
       "   'ave_value': -0.8515423087558167,\n",
       "   'soft_opc': nan}),\n",
       " (43,\n",
       "  {'time_sample_batch': 0.00012152314457643548,\n",
       "   'time_algorithm_update': 0.001473093358693742,\n",
       "   'loss': 0.00970178444095652,\n",
       "   'time_step': 0.001653906967753973,\n",
       "   'init_value': -0.8486453890800476,\n",
       "   'ave_value': -0.8499944748970057,\n",
       "   'soft_opc': nan}),\n",
       " (44,\n",
       "  {'time_sample_batch': 0.00012569411197392978,\n",
       "   'time_algorithm_update': 0.001625193821813631,\n",
       "   'loss': 0.009676932450088471,\n",
       "   'time_step': 0.0018119537748888576,\n",
       "   'init_value': -0.8161808848381042,\n",
       "   'ave_value': -0.817626685948604,\n",
       "   'soft_opc': nan}),\n",
       " (45,\n",
       "  {'time_sample_batch': 0.00011662578800001557,\n",
       "   'time_algorithm_update': 0.0013980822030938568,\n",
       "   'loss': 0.009681482136327507,\n",
       "   'time_step': 0.0015712843397483738,\n",
       "   'init_value': -0.8235644698143005,\n",
       "   'ave_value': -0.82505256652531,\n",
       "   'soft_opc': nan}),\n",
       " (46,\n",
       "  {'time_sample_batch': 0.00012118724049631175,\n",
       "   'time_algorithm_update': 0.0014779537848296632,\n",
       "   'loss': 0.0100470877743754,\n",
       "   'time_step': 0.0016563405751638912,\n",
       "   'init_value': -0.8651124238967896,\n",
       "   'ave_value': -0.8666360446505842,\n",
       "   'soft_opc': nan}),\n",
       " (47,\n",
       "  {'time_sample_batch': 0.00011951179330604222,\n",
       "   'time_algorithm_update': 0.001444347083975894,\n",
       "   'loss': 0.01032876815464789,\n",
       "   'time_step': 0.0016149768525212664,\n",
       "   'init_value': -0.8798704743385315,\n",
       "   'ave_value': -0.8812990082936528,\n",
       "   'soft_opc': nan}),\n",
       " (48,\n",
       "  {'time_sample_batch': 0.00012606586030512574,\n",
       "   'time_algorithm_update': 0.0015500811075023747,\n",
       "   'loss': 0.0103545995244999,\n",
       "   'time_step': 0.0017347808307830186,\n",
       "   'init_value': -0.8448048233985901,\n",
       "   'ave_value': -0.8462773641351111,\n",
       "   'soft_opc': nan}),\n",
       " (49,\n",
       "  {'time_sample_batch': 0.00012302806002675536,\n",
       "   'time_algorithm_update': 0.0016138108281719928,\n",
       "   'loss': 0.009970765419667904,\n",
       "   'time_step': 0.0017916097184791653,\n",
       "   'init_value': -0.8058552145957947,\n",
       "   'ave_value': -0.8073429573166493,\n",
       "   'soft_opc': nan}),\n",
       " (50,\n",
       "  {'time_sample_batch': 0.00012361921862209034,\n",
       "   'time_algorithm_update': 0.001523890093410205,\n",
       "   'loss': 0.009692584044443269,\n",
       "   'time_step': 0.0017012363142739125,\n",
       "   'init_value': -0.8151191473007202,\n",
       "   'ave_value': -0.8166476551819799,\n",
       "   'soft_opc': nan})]"
      ]
     },
     "execution_count": 11,
     "metadata": {},
     "output_type": "execute_result"
    }
   ],
   "source": [
    "from d3rlpy.ope import FQE\n",
    "# metrics to evaluate with\n",
    "from d3rlpy.metrics.scorer import soft_opc_scorer\n",
    "\n",
    "ope_dataset = get_dataset([2,4,6,8], path=\"collected_data/rl_stoch_small.txt\") #change if you'd prefer different chunks\n",
    "ope_train_episodes, ope_test_episodes = train_test_split(ope_dataset, test_size=0.2)\n",
    "\n",
    "fqe = FQE(algo=model, action_scaler = action_scaler, use_gpu=False) #change this if you have one!\n",
    "fqe.fit(ope_train_episodes, eval_episodes=ope_test_episodes, \n",
    "        tensorboard_dir='runs',\n",
    "        n_epochs=50, n_steps_per_epoch=1000, #change if overfitting/underfitting\n",
    "        scorers={\n",
    "           'init_value': initial_state_value_estimation_scorer,\n",
    "            'ave_value': average_value_estimation_scorer,\n",
    "           'soft_opc': soft_opc_scorer(return_threshold=0)\n",
    "        })"
   ]
  }
 ],
 "metadata": {
  "kernelspec": {
   "display_name": "Python 3 (ipykernel)",
   "language": "python",
   "name": "python3"
  },
  "language_info": {
   "codemirror_mode": {
    "name": "ipython",
    "version": 3
   },
   "file_extension": ".py",
   "mimetype": "text/x-python",
   "name": "python",
   "nbconvert_exporter": "python",
   "pygments_lexer": "ipython3",
   "version": "3.9.7"
  }
 },
 "nbformat": 4,
 "nbformat_minor": 5
}
